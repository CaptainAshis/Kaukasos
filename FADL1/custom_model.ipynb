{
 "cells": [
  {
   "cell_type": "markdown",
   "metadata": {},
   "source": [
    "This is a follow-along with [How to write custom omdels with fast.ai](https://github.com/yanneta/pytorch-tutorials/blob/master/modified_VGG.ipynb)"
   ]
  },
  {
   "cell_type": "markdown",
   "metadata": {},
   "source": [
    "## How to Write Custom Models with Fast.AI\n",
    "\n",
    "Example on how to modify [fastai](https://github.com/fastai/fastai) to use a custom pretrained network."
   ]
  },
  {
   "cell_type": "code",
   "execution_count": 1,
   "metadata": {},
   "outputs": [],
   "source": [
    "%reload_ext autoreload\n",
    "%autoreload 2\n",
    "%matplotlib inline"
   ]
  },
  {
   "cell_type": "code",
   "execution_count": 2,
   "metadata": {},
   "outputs": [],
   "source": [
    "from fastai.transforms import *\n",
    "from fastai.conv_learner import *\n",
    "from fastai.model import *\n",
    "from fastai.dataset import *\n",
    "from fastai.sgdr import *\n",
    "from fastai.plots import *"
   ]
  },
  {
   "cell_type": "code",
   "execution_count": 3,
   "metadata": {},
   "outputs": [],
   "source": [
    "import pandas as pd\n",
    "import numpy as np\n",
    "path = 'data/gloc/'\n",
    "model_path = path + 'results/'"
   ]
  },
  {
   "cell_type": "markdown",
   "metadata": {},
   "source": [
    "## Custom ConvnetBuilder\n",
    "\n",
    "This ConvnetBuilderVGG is similar to [ConvnetBuilder](https://github.com/fastai/fastai/blob/master/fastai/conv_learner.py). It's modifying VGG16. The default vgg16 in FastAI 'cuts' all the fully connected layers. In this example we keep all layers but the last one. There's a very small dataset so the intention is to train the last 2 fully connected layers."
   ]
  },
  {
   "cell_type": "code",
   "execution_count": 4,
   "metadata": {},
   "outputs": [],
   "source": [
    "# to override the fastai vgg16 function\n",
    "from torchvision.models import vgg16\n",
    "\n",
    "# Creates a ConvnetBuilder with all pretrained layers from vgg16 but the last fully connected layer\n",
    "class ConvnetBuilderVGG():\n",
    "    \"\"\"\n",
    "    Class representing a convolutional network.\n",
    "    Arguments:\n",
    "        c (int): size of the last layer\n",
    "        is_multi (bool): is multilabel classification\n",
    "        is_reg (bool): is a regression\n",
    "        ps (float): dropout parameter for last layer\n",
    "    \"\"\"\n",
    "    \n",
    "    def __init__(self, c, is_multi, is_reg, ps=None):\n",
    "        self.c, self.is_multi, self.is_reg = c, is_multi, is_reg\n",
    "        self.ps = ps or 0.5\n",
    "        vgg = vgg16(True) # NOTE: okay so I need to study how PyTorch does this\n",
    "        self.lr_cut = 30\n",
    "        layers = children(vgg.features)\n",
    "        layers += [Flatten()] + children(vgg.classifier)[:5]\n",
    "        #self.nf = 4096\n",
    "        # here top model is everything but the last layer\n",
    "        self.top_model = nn.Sequential(*layers) # NOTE: I need to find out what the fn(*arg) syntax is\n",
    "        \n",
    "        fc_layers = self.create_fc_layer(4096, c, p=None)\n",
    "        self.n_fc = len(fc_layers)\n",
    "        self.fc_model = to_gpu(nn.Sequential(*fc_layers))\n",
    "        apply_init(self.fc_model, kaiming_normal)\n",
    "        self.model = to_gpu(nn.Sequential(*(layers+fc_layers)))\n",
    "        \n",
    "    def create_fc_layer(self, ni, nf, p, actn=None):\n",
    "        res=[]\n",
    "        if p: res.append(nn.Dropout(p=p))\n",
    "        res.append(nn.Linear(in_features=ni, out_features=nf))\n",
    "        if actn: res.append(actn())\n",
    "        return res\n",
    "\n",
    "    @property # NOTE: I also need to learn Python Static Method syntax --> https://stackoverflow.com/questions/400739/what-does-asterisk-mean-in-python\n",
    "    def name(self): return \"vgg16\"\n",
    "    \n",
    "    def get_layer_groups(self, do_fc=False):\n",
    "        if do_fc:\n",
    "            m, idxs = self.fc_model, []\n",
    "        else:\n",
    "            m, idxs = self.model, [self.lr_cut, -self.n_fc]\n",
    "        lgs = list(split_by_idxs(children(m), idxs))\n",
    "        return lgs"
   ]
  },
  {
   "cell_type": "code",
   "execution_count": 7,
   "metadata": {},
   "outputs": [
    {
     "name": "stderr",
     "output_type": "stream",
     "text": [
      "Downloading: \"https://download.pytorch.org/models/vgg16-397923af.pth\" to /Users/WayNoxchi/.torch/models/vgg16-397923af.pth\n",
      "100%|██████████| 553433881/553433881 [02:38<00:00, 3491766.09it/s]\n"
     ]
    },
    {
     "data": {
      "text/plain": [
       "Sequential(\n",
       "  (0): Conv2d (3, 64, kernel_size=(3, 3), stride=(1, 1), padding=(1, 1))\n",
       "  (1): ReLU(inplace)\n",
       "  (2): Conv2d (64, 64, kernel_size=(3, 3), stride=(1, 1), padding=(1, 1))\n",
       "  (3): ReLU(inplace)\n",
       "  (4): MaxPool2d(kernel_size=(2, 2), stride=(2, 2), dilation=(1, 1))\n",
       "  (5): Conv2d (64, 128, kernel_size=(3, 3), stride=(1, 1), padding=(1, 1))\n",
       "  (6): ReLU(inplace)\n",
       "  (7): Conv2d (128, 128, kernel_size=(3, 3), stride=(1, 1), padding=(1, 1))\n",
       "  (8): ReLU(inplace)\n",
       "  (9): MaxPool2d(kernel_size=(2, 2), stride=(2, 2), dilation=(1, 1))\n",
       "  (10): Conv2d (128, 256, kernel_size=(3, 3), stride=(1, 1), padding=(1, 1))\n",
       "  (11): ReLU(inplace)\n",
       "  (12): Conv2d (256, 256, kernel_size=(3, 3), stride=(1, 1), padding=(1, 1))\n",
       "  (13): ReLU(inplace)\n",
       "  (14): Conv2d (256, 256, kernel_size=(3, 3), stride=(1, 1), padding=(1, 1))\n",
       "  (15): ReLU(inplace)\n",
       "  (16): MaxPool2d(kernel_size=(2, 2), stride=(2, 2), dilation=(1, 1))\n",
       "  (17): Conv2d (256, 512, kernel_size=(3, 3), stride=(1, 1), padding=(1, 1))\n",
       "  (18): ReLU(inplace)\n",
       "  (19): Conv2d (512, 512, kernel_size=(3, 3), stride=(1, 1), padding=(1, 1))\n",
       "  (20): ReLU(inplace)\n",
       "  (21): Conv2d (512, 512, kernel_size=(3, 3), stride=(1, 1), padding=(1, 1))\n",
       "  (22): ReLU(inplace)\n",
       "  (23): MaxPool2d(kernel_size=(2, 2), stride=(2, 2), dilation=(1, 1))\n",
       "  (24): Conv2d (512, 512, kernel_size=(3, 3), stride=(1, 1), padding=(1, 1))\n",
       "  (25): ReLU(inplace)\n",
       "  (26): Conv2d (512, 512, kernel_size=(3, 3), stride=(1, 1), padding=(1, 1))\n",
       "  (27): ReLU(inplace)\n",
       "  (28): Conv2d (512, 512, kernel_size=(3, 3), stride=(1, 1), padding=(1, 1))\n",
       "  (29): ReLU(inplace)\n",
       "  (30): MaxPool2d(kernel_size=(2, 2), stride=(2, 2), dilation=(1, 1))\n",
       "  (31): Flatten(\n",
       "  )\n",
       "  (32): Linear(in_features=25088, out_features=4096)\n",
       "  (33): ReLU(inplace)\n",
       "  (34): Dropout(p=0.5)\n",
       "  (35): Linear(in_features=4096, out_features=4096)\n",
       "  (36): ReLU(inplace)\n",
       "  (37): Linear(in_features=4096, out_features=1)\n",
       ")"
      ]
     },
     "execution_count": 7,
     "metadata": {},
     "output_type": "execute_result"
    }
   ],
   "source": [
    "bs=32; sz=224\n",
    "f_model = vgg16\n",
    "n = 7637\n",
    "val_idxs = get_cv_idxs(n, 0, val_pct=0.2)\n",
    "tfms = tfms_from_model(f_model, sz) # NOTE: how would it know, if this is a custom/PyTorch model?\n",
    "data = ImageClassifierData.from_csv(path, 'train', f'{path}train.csv', bs, tfms, \n",
    "                                    val_idxs=val_idxs, continuous=True)\n",
    "# note precompute=False\n",
    "models = ConvnetBuilderVGG(data.c, data.is_multi, data.is_reg)\n",
    "models.model"
   ]
  },
  {
   "cell_type": "code",
   "execution_count": 13,
   "metadata": {},
   "outputs": [],
   "source": [
    "class ConvLearnerVGG(ConvLearner):\n",
    "    \n",
    "    # rewriting pretrained\n",
    "    @classmethod\n",
    "    def pretrained(cls, data, ps=None, **kwargs):\n",
    "        models = ConvnetBuilderVGG(data.c, data.is_multi, data.is_reg, ps=ps)\n",
    "        return cls(data, models, **kwargs)\n",
    "    \n",
    "    # redefining freeze to freeze everything but last layer\n",
    "    def freeze(self):\n",
    "        layers = children(self.model)\n",
    "        n = len(layers)\n",
    "        for λ in layers:\n",
    "            λ.trainable=False\n",
    "            for p in λ.parameters(): p.requires_grad=False\n",
    "        λ = layers[n-1]\n",
    "        λ.trainable=True\n",
    "        for p in λ.parameters(): p.requires_grad=True\n",
    "    \n",
    "    def unfreeze_prev_layer(self):\n",
    "        layers = children(self.model)\n",
    "        λ = layers[35]\n",
    "        λ.trainable=True\n",
    "        for p in λ.parameters(): p.requires_grad=True"
   ]
  },
  {
   "cell_type": "code",
   "execution_count": 14,
   "metadata": {},
   "outputs": [],
   "source": [
    "bs = 32; sz = 224\n",
    "f_model = vgg16\n",
    "n = 7637\n",
    "val_idxs = get_cv_idxs(n, 0, val_pct=0.2)\n",
    "tfms = tfms_from_model(f_model, sz)"
   ]
  },
  {
   "cell_type": "code",
   "execution_count": 15,
   "metadata": {},
   "outputs": [],
   "source": [
    "data = ImageClassifierData.from_csv(path, 'train', f'{path}train.csv', bs, tfms, \n",
    "                                    val_idxs=val_idxs, continuous=True)"
   ]
  },
  {
   "cell_type": "code",
   "execution_count": 16,
   "metadata": {},
   "outputs": [],
   "source": [
    "learn = ConvLearnerVGG.pretrained(data, ps=0.0, precompute=False)"
   ]
  },
  {
   "cell_type": "markdown",
   "metadata": {},
   "source": [
    "NOTE: this is on my MacBook w/o a GPU."
   ]
  },
  {
   "cell_type": "code",
   "execution_count": 17,
   "metadata": {},
   "outputs": [
    {
     "data": {
      "text/plain": [
       "[Parameter containing:\n",
       " 1.00000e-02 *\n",
       "  1.8108  2.4513 -1.1013  ...  -3.0995 -1.4156 -0.8180\n",
       " [torch.FloatTensor of size 1x4096], Parameter containing:\n",
       "  0\n",
       " [torch.FloatTensor of size 1]]"
      ]
     },
     "execution_count": 17,
     "metadata": {},
     "output_type": "execute_result"
    }
   ],
   "source": [
    "m = learn.models.model\n",
    "trainable_params_(m)"
   ]
  },
  {
   "cell_type": "code",
   "execution_count": 18,
   "metadata": {},
   "outputs": [
    {
     "data": {
      "text/plain": [
       "[Parameter containing:\n",
       " -1.1262e-02  1.0421e-02 -1.6899e-03  ...  -1.6088e-02  1.2137e-02  6.5078e-03\n",
       " -5.4509e-04 -7.8270e-03  7.1184e-03  ...  -4.0817e-03  9.8776e-03 -1.1085e-02\n",
       " -1.0933e-02 -5.1533e-03  1.6766e-02  ...  -3.6180e-03  3.5386e-03 -2.2417e-02\n",
       "                 ...                   ⋱                   ...                \n",
       " -1.0725e-02 -7.2678e-03 -3.8252e-03  ...  -2.4693e-03  8.3481e-03 -5.4105e-03\n",
       "  5.4018e-03  8.1430e-03 -1.3569e-02  ...   4.0841e-03 -4.1793e-04 -2.2802e-03\n",
       "  2.8788e-02  6.5824e-03  4.8993e-03  ...   2.4367e-02  6.5563e-03 -7.2610e-03\n",
       " [torch.FloatTensor of size 4096x4096], Parameter containing:\n",
       "  0.0332\n",
       "  0.0616\n",
       "  0.0307\n",
       "    ⋮   \n",
       "  0.0456\n",
       "  0.0442\n",
       "  0.0588\n",
       " [torch.FloatTensor of size 4096], Parameter containing:\n",
       " 1.00000e-02 *\n",
       "  1.8108  2.4513 -1.1013  ...  -3.0995 -1.4156 -0.8180\n",
       " [torch.FloatTensor of size 1x4096], Parameter containing:\n",
       "  0\n",
       " [torch.FloatTensor of size 1]]"
      ]
     },
     "execution_count": 18,
     "metadata": {},
     "output_type": "execute_result"
    }
   ],
   "source": [
    "learn.unfreeze_prev_layer()\n",
    "trainable_params_(m)"
   ]
  },
  {
   "cell_type": "markdown",
   "metadata": {},
   "source": [
    "So, the numbers in the top layers are different from [Yannet's](https://github.com/yanneta/pytorch-tutorials/blob/master/modified_VGG.ipynb), but the Conv layer pars are exactly the same. Pretty sure this is because when you finetune a model, the FC layer/s you stack ontop are randomly initialized, but the Conv layers coming from a pretrained network (PyTorch VGG 16), are necessarily exactly the same, given you got the same pretrained weights."
   ]
  },
  {
   "cell_type": "markdown",
   "metadata": {},
   "source": [
    "## Cross Validation"
   ]
  },
  {
   "cell_type": "code",
   "execution_count": 20,
   "metadata": {},
   "outputs": [],
   "source": [
    "bs=32; sz=224\n",
    "n = 7637\n",
    "transforms_basic = [RandomRotateXY(10), RandomDihedralXY()]\n",
    "transforms_basic = [RandomRotateXY(10)]"
   ]
  },
  {
   "cell_type": "markdown",
   "metadata": {},
   "source": [
    "Here's code to do cross-validation:"
   ]
  },
  {
   "cell_type": "code",
   "execution_count": 24,
   "metadata": {},
   "outputs": [],
   "source": [
    "def get_model_i(i=0):\n",
    "    val_idxs = get_cv_idxs(n, i, val_pct=0.1)\n",
    "    tfms = tfms_from_model(f_model, sz, aug_tfms=transforms_basic, max_zoom=1.05)\n",
    "    data = ImageClassifierData.from_csv(path, 'train', f'{path}train.csv', bs, tfms, \n",
    "                                        val_idxs=val_idxs, suffix='.jpg', continuous=True)\n",
    "    learn = ConvLearnerVGG.pretrained(data, ps=0.0, precompute=False)\n",
    "    return learn"
   ]
  },
  {
   "cell_type": "markdown",
   "metadata": {},
   "source": [
    "How to train is a W.I.P. --- *great..*"
   ]
  },
  {
   "cell_type": "code",
   "execution_count": 22,
   "metadata": {},
   "outputs": [],
   "source": [
    "def fit_and_predict(learn):\n",
    "    learn.fit(1e-3, 3)\n",
    "    learn.fit(1e-4, 4)\n",
    "    print(\"unfreezing\")\n",
    "    learn.unfreeze_prev_layer()\n",
    "    #learn.fit(1e-5, 3, cycle_len=1, cycle_mult=2)\n",
    "    learn.fit(1e-5, 3)\n",
    "    return learn.TTA()"
   ]
  },
  {
   "cell_type": "markdown",
   "metadata": {},
   "source": [
    "Predictions"
   ]
  },
  {
   "cell_type": "code",
   "execution_count": 26,
   "metadata": {},
   "outputs": [],
   "source": [
    "preds = []\n",
    "for i in range(11):\n",
    "    print(\"iteration \", i)\n",
    "    learn = get_model_i(i)\n",
    "    preds.append(fit_and_predict(learn))"
   ]
  },
  {
   "cell_type": "markdown",
   "metadata": {},
   "source": [
    "This'll actually take forever on an i5 CPU, but it does start training so, that's good."
   ]
  },
  {
   "cell_type": "code",
   "execution_count": 27,
   "metadata": {},
   "outputs": [],
   "source": [
    "def reshape_preds(preds):\n",
    "    predictions = [preds[i][0] for i in range(11)]\n",
    "    y = [preds[i][1] for i in range(11)]\n",
    "    pp = np.vstack(predictions)\n",
    "    yy = np.vstack(y)\n",
    "    print(yy.shape)\n",
    "    pp = np.maximum(pp, 0.0)\n",
    "    err = np.abs(pp - yy).mean()\n",
    "    print(\"err\", err)"
   ]
  },
  {
   "cell_type": "code",
   "execution_count": null,
   "metadata": {},
   "outputs": [],
   "source": [
    "reshape_preds(preds)"
   ]
  },
  {
   "cell_type": "markdown",
   "metadata": {},
   "source": [
    "---\n",
    "\n",
    "Alrighty, that gave me some idea of how a custom model is added to FastAI."
   ]
  },
  {
   "cell_type": "code",
   "execution_count": null,
   "metadata": {},
   "outputs": [],
   "source": []
  },
  {
   "cell_type": "markdown",
   "metadata": {},
   "source": [
    "Getting length of dataset. Dataset is my custom-built set for my G-LOC-Detector."
   ]
  },
  {
   "cell_type": "code",
   "execution_count": 6,
   "metadata": {},
   "outputs": [
    {
     "data": {
      "text/plain": [
       "7637"
      ]
     },
     "execution_count": 6,
     "metadata": {},
     "output_type": "execute_result"
    }
   ],
   "source": [
    "df = pd.read_csv(path + 'train.csv')\n",
    "len(df['id'])"
   ]
  }
 ],
 "metadata": {
  "kernelspec": {
   "display_name": "Python 3 (FastAI)",
   "language": "python",
   "name": "fastai"
  },
  "language_info": {
   "codemirror_mode": {
    "name": "ipython",
    "version": 3
   },
   "file_extension": ".py",
   "mimetype": "text/x-python",
   "name": "python",
   "nbconvert_exporter": "python",
   "pygments_lexer": "ipython3",
   "version": "3.6.3"
  }
 },
 "nbformat": 4,
 "nbformat_minor": 2
}
