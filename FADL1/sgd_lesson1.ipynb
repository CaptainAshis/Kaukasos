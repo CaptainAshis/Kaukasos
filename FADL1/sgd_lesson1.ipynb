{
 "cells": [
  {
   "cell_type": "markdown",
   "metadata": {},
   "source": [
    "lesson1-sgd.ipynb\n",
    "\n",
    "Replicating: https://github.com/fastai/fastai/blob/master/courses/dl1/lesson1-sgd.ipynb"
   ]
  },
  {
   "cell_type": "code",
   "execution_count": 2,
   "metadata": {},
   "outputs": [],
   "source": [
    "%matplotlib inline\n",
    "import math, sys, os, numpy as np\n",
    "import torch\n",
    "from matplotlib import pyplot as plt, rcParams, animation, rc\n",
    "from ipywidgets import interact, interactive, fixed\n",
    "from ipywidgets.widgets import *\n",
    "rc('animation', html='html5')\n",
    "rcParams['figure.figsize'] = 3, 3\n",
    "%precision 4\n",
    "np.set_printoptions(precision=4, linewidth=100)"
   ]
  },
  {
   "cell_type": "markdown",
   "metadata": {},
   "source": [
    "## Components of Learning:\n",
    "\n",
    "* **Representation**: space of allowed models\n",
    "    * Exmpl: (1) Logistic Regression, (2) 3-Layer Feedforward Neural Network\n",
    "* **Evaluation**: how do you judge or prefer one model over another (loss function, utility function)\n",
    "* **Optimization**: how do you search the space of models to obtain better evaluation"
   ]
  },
  {
   "cell_type": "markdown",
   "metadata": {},
   "source": [
    "## Linear Regression problem:\n",
    "\n",
    "the goal of linear regression is to fit a line to a set of points:"
   ]
  },
  {
   "cell_type": "code",
   "execution_count": 3,
   "metadata": {},
   "outputs": [],
   "source": [
    "# Generating fake data\n",
    "def lin(a,b,x): return a*x+b\n",
    "\n",
    "def gen_fake_data(n, a, b):\n",
    "    x = s = np.random.uniform(0,1,n)\n",
    "    y = lin(a,b,x) + 0.1 * np.random.normal(0,3,n)\n",
    "    return x, y\n",
    "x, y = gen_fake_data(50, 3., 8.)"
   ]
  },
  {
   "cell_type": "code",
   "execution_count": 4,
   "metadata": {},
   "outputs": [
    {
     "data": {
      "image/png": "[encoded data removed]",
      "text/plain": [
       "<matplotlib.figure.Figure at 0x7f0418b2f470>"
      ]
     },
     "metadata": {},
     "output_type": "display_data"
    }
   ],
   "source": [
    "plt.scatter(x,y, s=8); plt.xlabel(\"x\"); plt.ylabel(\"y\");"
   ]
  },
  {
   "cell_type": "markdown",
   "metadata": {},
   "source": [
    "You want to find parameters (weights) `a` and `b` such that you minimize the *error* btwn the points and the line `a * x + b`. Note that `a` and `b` are unknown. For a regression problem, the most common *error function* or *loss function* is the **mean squared error**."
   ]
  },
  {
   "cell_type": "code",
   "execution_count": 5,
   "metadata": {},
   "outputs": [],
   "source": [
    "def mean_square_error(y_hat, y):\n",
    "    return np.power(y_hat - y, 2).mean()"
   ]
  },
  {
   "cell_type": "code",
   "execution_count": 6,
   "metadata": {},
   "outputs": [
    {
     "data": {
      "text/plain": [
       "4.1190"
      ]
     },
     "execution_count": 6,
     "metadata": {},
     "output_type": "execute_result"
    }
   ],
   "source": [
    "# say our prediction is a=10, b=5; computing our error:\n",
    "y_hat = lin(10,5,x)\n",
    "mean_square_error(y_hat, y)"
   ]
  },
  {
   "cell_type": "markdown",
   "metadata": {},
   "source": [
    "## Gradient Descent"
   ]
  },
  {
   "cell_type": "code",
   "execution_count": 8,
   "metadata": {},
   "outputs": [],
   "source": [
    "# generate some more data\n",
    "x, y = gen_fake_data(10000, 3., 8.)"
   ]
  },
  {
   "cell_type": "code",
   "execution_count": 9,
   "metadata": {},
   "outputs": [
    {
     "name": "stdout",
     "output_type": "stream",
     "text": [
      "(10000,) (10000,)\n"
     ]
    }
   ],
   "source": [
    "print(x.shape, y.shape)"
   ]
  },
  {
   "cell_type": "code",
   "execution_count": 10,
   "metadata": {},
   "outputs": [],
   "source": [
    "dtype = torch.cuda.FloatTensor"
   ]
  },
  {
   "cell_type": "code",
   "execution_count": 11,
   "metadata": {},
   "outputs": [],
   "source": [
    "# from NumPy to PyTorch\n",
    "x = torch.from_numpy(x)\n",
    "y = torch.from_numpy(y)"
   ]
  },
  {
   "cell_type": "code",
   "execution_count": 12,
   "metadata": {},
   "outputs": [],
   "source": [
    "from torch.autograd import Variable\n",
    "# Create random Tensors to hold x and y, and wrap them in Variables.\n",
    "# Setting requires_grad=False indicates that we don't need to compute gradients\n",
    "# wrt to these Variables.\n",
    "x = Variable(x.type(dtype), requires_grad=False)\n",
    "y = Variable(y.type(dtype), requires_grad=False)"
   ]
  },
  {
   "cell_type": "code",
   "execution_count": 14,
   "metadata": {},
   "outputs": [],
   "source": [
    "# Create random Tensors for weights a and b, ard wrap them in Variables.\n",
    "# Setting requires_grad+True indicates that we want to compute gradients wrt\n",
    "# these Variables.\n",
    "a = Variable(torch.randn(1).type(dtype), requires_grad=True)\n",
    "b = Variable(torch.randn(1).type(dtype), requires_grad=True)\n",
    "\n",
    "a.grad = Variable(dtype(a.size()).zero_())\n",
    "b.grad = Variable(dtype(b.size()).zero_())"
   ]
  },
  {
   "cell_type": "code",
   "execution_count": 15,
   "metadata": {},
   "outputs": [
    {
     "data": {
      "text/plain": [
       "(Variable containing:\n",
       "  1.0260\n",
       " [torch.cuda.FloatTensor of size 1 (GPU 0)], Variable containing:\n",
       " -0.4221\n",
       " [torch.cuda.FloatTensor of size 1 (GPU 0)])"
      ]
     },
     "execution_count": 15,
     "metadata": {},
     "output_type": "execute_result"
    }
   ],
   "source": [
    "a, b"
   ]
  },
  {
   "cell_type": "code",
   "execution_count": 16,
   "metadata": {},
   "outputs": [
    {
     "name": "stdout",
     "output_type": "stream",
     "text": [
      "\n",
      " 88.9667\n",
      "[torch.cuda.FloatTensor of size 1 (GPU 0)]\n",
      "\n",
      "\n",
      " 0.8947\n",
      "[torch.cuda.FloatTensor of size 1 (GPU 0)]\n",
      "\n",
      "\n",
      " 0.2872\n",
      "[torch.cuda.FloatTensor of size 1 (GPU 0)]\n",
      "\n",
      "\n",
      " 0.2394\n",
      "[torch.cuda.FloatTensor of size 1 (GPU 0)]\n",
      "\n",
      "\n",
      " 0.2052\n",
      "[torch.cuda.FloatTensor of size 1 (GPU 0)]\n",
      "\n",
      "\n",
      " 0.1789\n",
      "[torch.cuda.FloatTensor of size 1 (GPU 0)]\n",
      "\n",
      "\n",
      " 0.1587\n",
      "[torch.cuda.FloatTensor of size 1 (GPU 0)]\n",
      "\n",
      "\n",
      " 0.1431\n",
      "[torch.cuda.FloatTensor of size 1 (GPU 0)]\n",
      "\n",
      "\n",
      " 0.1310\n",
      "[torch.cuda.FloatTensor of size 1 (GPU 0)]\n",
      "\n",
      "\n",
      " 0.1218\n",
      "[torch.cuda.FloatTensor of size 1 (GPU 0)]\n",
      "\n"
     ]
    }
   ],
   "source": [
    "learning_rate = 1e-3\n",
    "for t in range(10000):\n",
    "    # Forward pass: copmute predicted y using operatiosn on Variables\n",
    "    y_pred = x * a + b\n",
    "    loss = (y_pred - y).pow(2).mean()\n",
    "    if t % 1000 == 0: print(loss.data)\n",
    "        \n",
    "    # Manually zero the gradients\n",
    "    a.grad.data.zero_()\n",
    "    b.grad.data.zero_()\n",
    "    \n",
    "    # Computes the gradient of loss wrt all Variables with requires_grad=True\n",
    "    # After this call a.grad and b.grad will be Variables holding the gradient \n",
    "    # of the loss wrt a and b respectively.\n",
    "    loss.backward()\n",
    "    \n",
    "    # Update a and b using gradient descent; a.data and b.data are Tensors, \n",
    "    # a.grad and b.grad are Variables and a.grad.data and b.grad.data are \n",
    "    # Tensors.\n",
    "    a.data -= learning_rate * a.grad.data\n",
    "    b.data -= learning_rate * b.grad.data"
   ]
  },
  {
   "cell_type": "code",
   "execution_count": 17,
   "metadata": {},
   "outputs": [
    {
     "name": "stdout",
     "output_type": "stream",
     "text": [
      "Variable containing:\n",
      " 3.5324\n",
      "[torch.cuda.FloatTensor of size 1 (GPU 0)]\n",
      " Variable containing:\n",
      " 7.7169\n",
      "[torch.cuda.FloatTensor of size 1 (GPU 0)]\n",
      "\n"
     ]
    }
   ],
   "source": [
    "print(a, b)"
   ]
  },
  {
   "cell_type": "markdown",
   "metadata": {},
   "source": [
    "#### Stochasting Gradient Descent (SGD)"
   ]
  },
  {
   "cell_type": "markdown",
   "metadata": {},
   "source": [
    "### Visualizing Gradient Descent"
   ]
  },
  {
   "cell_type": "code",
   "execution_count": 18,
   "metadata": {},
   "outputs": [],
   "source": [
    "x, y = gen_fake_data(50, 3., 8.)"
   ]
  },
  {
   "cell_type": "code",
   "execution_count": 19,
   "metadata": {},
   "outputs": [],
   "source": [
    "def sse(y,y_pred): return ((y-y_pred)**2).sum()\n",
    "def loss(y,a,b,x): return sse(y, lin(a,b,x))\n",
    "def avg_loss(y,a,b,x): return np.sqrt(loss(y,a,b,x)/y.shape[0])"
   ]
  },
  {
   "cell_type": "code",
   "execution_count": 20,
   "metadata": {},
   "outputs": [
    {
     "data": {
      "text/plain": [
       "9.0679"
      ]
     },
     "execution_count": 20,
     "metadata": {},
     "output_type": "execute_result"
    }
   ],
   "source": [
    "a_guess = -1.\n",
    "b_guess = 1.\n",
    "avg_loss(y, a_guess, b_guess, x)"
   ]
  },
  {
   "cell_type": "code",
   "execution_count": 21,
   "metadata": {},
   "outputs": [],
   "source": [
    "lr = 0.01\n",
    "def upd():\n",
    "    global a_guess, b_guess\n",
    "    y_pred = lin(a_guess, b_guess, x)\n",
    "    dydb = 2 * (y_pred - y)\n",
    "    dyda = x * dydb\n",
    "    a_guess -= lr * dyda.mean()\n",
    "    b_guess -= lr * dydb.mean()"
   ]
  },
  {
   "cell_type": "code",
   "execution_count": 22,
   "metadata": {},
   "outputs": [],
   "source": [
    "fig = plt.figure(dpi=100, figsize=(5,4))\n",
    "plt.scatter(x,y)\n",
    "line, = plt.plot(x, lin(a_guess, b_guess, x))\n",
    "plt.close()\n",
    "\n",
    "def animate(i):\n",
    "    line.set_ydata(lin(a_guess, b_guess, x))\n",
    "    for i in range(30): upd()\n",
    "    return line,\n",
    "\n",
    "ani = animation.FuncAnimation(fig, animate, np.arange(0, 40), interval=100)"
   ]
  },
  {
   "cell_type": "code",
   "execution_count": 23,
   "metadata": {},
   "outputs": [
    {
     "data": {
      "text/html": [
       "<video width=\"500\" height=\"400\" controls autoplay loop>\n",
       "  <source type=\"video/mp4\" src=\"data:video/mp4;base64,AAAAHGZ0eXBNNFYgAAACAGlzb21pc28yYXZjMQAAAAhmcmVlAABMSm1kYXQAAAKvBgX//6vcRem9\n",
       "5tlIt5Ys2CDZI+7veDI2NCAtIGNvcmUgMTQ4IHIyNjQzIDVjNjU3MDQgLSBILjI2NC9NUEVHLTQg\n",
       "QVZDIGNvZGVjIC0gQ29weWxlZnQgMjAwMy0yMDE1IC0gaHR0cDovL3d3dy52aWRlb2xhbi5vcmcv\n",
       "eDI2NC5odG1sIC0gb3B0aW9uczogY2FiYWM9MSByZWY9MyBkZWJsb2NrPTE6MDowIGFuYWx5c2U9\n",
       "MHgzOjB4MTEzIG1lPWhleCBzdWJtZT03IHBzeT0xIHBzeV9yZD0xLjAwOjAuMDAgbWl4ZWRfcmVm\n",
       "PTEgbWVfcmFuZ2U9MTYgY2hyb21hX21lPTEgdHJlbGxpcz0xIDh4OGRjdD0xIGNxbT0wIGRlYWR6\n",
       "b25lPTIxLDExIGZhc3RfcHNraXA9MSBjaHJvbWFfcXBfb2Zmc2V0PS0yIHRocmVhZHM9MTIgbG9v\n",
       "a2FoZWFkX3RocmVhZHM9MiBzbGljZWRfdGhyZWFkcz0wIG5yPTAgZGVjaW1hdGU9MSBpbnRlcmxh\n",
       "Y2VkPTAgYmx1cmF5X2NvbXBhdD0wIGNvbnN0cmFpbmVkX2ludHJhPTAgYmZyYW1lcz0zIGJfcHly\n",
       "YW1pZD0yIGJfYWRhcHQ9MSBiX2JpYXM9MCBkaXJlY3Q9MSB3ZWlnaHRiPTEgb3Blbl9nb3A9MCB3\n",
       "ZWlnaHRwPTIga2V5aW50PTI1MCBrZXlpbnRfbWluPTEwIHNjZW5lY3V0PTQwIGludHJhX3JlZnJl\n",
       "c2g9MCByY19sb29rYWhlYWQ9NDAgcmM9Y3JmIG1idHJlZT0xIGNyZj0yMy4wIHFjb21wPTAuNjAg\n",
       "cXBtaW49MCBxcG1heD02OSBxcHN0ZXA9NCBpcF9yYXRpbz0xLjQwIGFxPTE6MS4wMACAAAAbZmWI\n",
       "hAAQ//73gb8yy18iuslx+ed9LKzPPOQ8cl2JrrjQAAADAAADAnTFsu53XQ2mHYAAAqwv/wWSuSDc\n",
       "RQAB8veZ+Jxq3Q5vJPxTLbq4yqEZnH2eD/PRHwkdXc+W3C9hO9/095V2/R7wLGW/rgfpOaaxVrD1\n",
       "Q0QavvNxWqYGfEgimwjAA6NqGbjv9/Tawydl6Qnqi0vUlER1Pw5sxMs18LuxlLcq8ZhL+o9YZiRP\n",
       "IGeA7hnkM0L6Oei9pommyerfBY2VssAPxvuvrsL5SQt5IMGf8gZ/7V6emMyZztiZxpGdgZcFYRXb\n",
       "A///HT8cqhVmdXZpT9F5couLXUtjWYHh8SsvVI+jXpHvcsOpuIvhSMVxsjCyO3SpLM8z1r7y29W/\n",
       "dScddLygyijcXy3RJlmoDQHeyiJ0iVi+uy25Mj/l7vCJjx77q3r+1czcGmpXkaHpNqTySav5xdVn\n",
       "YbVC3E8qPDiK8/ZpX70MQGsKlFrB05QJ0QMZzj7IjPopVuqTASne+a2e4UAnrIfABqa6pyuyIbHm\n",
       "R75KdMffuHew4tMzkesNHHgE2kiyiApadPZjfzJ7py8LA0sHCM4WFsxP/UIugHSO3djKNPd6VQF2\n",
       "ia/ZVMLjMDXDotAED6xMVNrv6JsRQvtDtOA52Y+yLcJJA3rPdUDV+AYzTf/FlVmFurk11TEDwhHJ\n",
       "8W+ga54uz12/5N2AlpH+HrvMgG7H1LqXzShzTTT/J94H2Wrl+n7vsW/jL1Q9/1hPvGYkuwLUgi4x\n",
       "dMa/l3MEInjvtfPccQRdULn+bXV8whbiSMAca+QnuNwB4ZTJmeaUNHD3DrU2TtEvfwmBFTvnkL+s\n",
       "fAiW+7pH5RXo6/yzo9YhkOPyidMSofGhb7wtRZdQAUI2RQMt/CzWNNuRkiO7LtfO/8Pbex6CkCxm\n",
       "ARuGrv2PpJu0GSJEpSQ/Qmx57zQOkkS/X4Gg+41HZzJ62N6KOKypl5QL4bTwD286opFJgfCVLkIf\n",
       "jivN87t/u8shF/3ao+rWvLnSWR/4KUletJ/0slFf/Df9lCCjDX7VQ3xmuhlg1Zdcw7ixskuWjsVv\n",
       "C+51pVBHUy9eTtvoBQX1cBOAHs0eAYRaAP1TPddIS8QE7oxuhD6IrIo92Ce+RccwS0//xYckyvkt\n",
       "levtw1e67mz9PGgCBWT+ufG+e0iJ64Ec1uXi1aa+FlPKp0pUFRX1WPYcmG4/nkNH8ubfQI3ES7rK\n",
       "18/wVfVEN2Tad7wKGqExExmQf0ijU/pjpHK8YkTeJwjlwP0+knPIffU9bJGYQxyydvvjV0aeXhRB\n",
       "MCxMZNo/0QCBLlh/440Dsy5TfqUKUodVS8NlPQjOvi5NJrDBvOnqH+YEKKneoa+vmrIb1j4B+F9A\n",
       "RHGjVqhRVF+z0BpovsKcGTiNVj3Hye8hQ8x2dSUuVveq+ZBk7v1GQ+BZ2R0zW5swWFnsCumXLSo4\n",
       "Hl3BMiiL0u3jSo+PlkTGLB7fkh/NN/W+h78Nbwsk40UTpyju+Tdw2/0QJKrrYQEQCA9Qi8OL/Wfh\n",
       "jyTWzdXyxnf6zZ62vNTMQTuGHDLrD+2ceySQX9uEn814TtbDfajZSbHJPFNWcaQ2DAFFMed9u2dj\n",
       "7VCeE5UsEQM+MAvLyyjDG4ucQTvDl8YzgpYNqirn64wYqpzD8tAo+isi19sJyw91FobBAYzFECJN\n",
       "agEVqjdVGVBNi+tsG4JeW4BKIxVmqlaaBN6rkrOLbPo1Ze6y8FUvCQxc+RO/pNKPhIfT8q9IO35y\n",
       "77Ruoeob05MlIDHj3uT53sG8UuG8c/4kBMc4sJKdN0ACuFbzvus4Xhi4zsZU8ezUHNZQRupGHYMS\n",
       "DFtJrG9C68iswTmWQV8xEHT6DBvwUmr/k3hwOe15nABuMw+BOMOIZnrYKktBXqc1PmzlMFTU/9zj\n",
       "SJIGLH5fIB6avIz+P74aZxlTd9HfZI7uJJHqrfwtxCFNmJZXKHLGGnG+CNFQ9yjgZEa4kxsyJ7Po\n",
       "CWA8cUtiV+fEKgSp0LgAmDrD/0htmtHtwiRULQw5HoQ3zqqm6SnrlDaM3rX/BRYTi8b6oEhInu0f\n",
       "fih+3duYfANLClVd+ESjOjzZrl/PCvGbaHuY9Qd76TM4R8c3fzFPhgRHQ5XCqDsoY54jxiRsXnao\n",
       "JVdSA3YjCiGqJj2u3EX0E4EgRj1BXucetIvW/NS4IzVzzQyuNx4J3Z3LxrnjRmYY6dOnWg3RIdni\n",
       "anY4BrrUWOrv80bkyaZtdvF17udoP20OB+ml6AlExv+FmbyyqGQLrP8WdAycKOCwIAQPuNEtBY76\n",
       "g+BhBx00IwL+vog6DTHdWCmk/zDOhN/b0ajimkHvtlpAXDDN7t3mCbKEINjrLHn7occ11EfGZ+v2\n",
       "jeexAY4Fm4uRVX162h0IdJcJYCAF00Hm/kuTABMlf1blD/ocgt92k/UHmqoEDEd5vxnSRrlXA4cU\n",
       "F4UByjq3252ghwT3d8Y/l5UPXvzdvs2EoWanGhOzXPE5JVqcAhh1zIbaf3gFQUhkpIv4UMtoegGw\n",
       "D7+k7sOTcUB8d1f7LGrbkTzdBBAi7vpQkP1zNc7iwPwo+jv0x+xK8/XJYghqlGWuJ6bdDx8FKFeg\n",
       "gvuUAC9wNiXk0SmVXxaFrkMGdCrIdYtw8YeGDCgXzOB52iOz96QdiPg3brUj0cAdg1n8zcBH64c2\n",
       "CQRG++eaMUttgo68VnBJDZ9EVjK6ZhXGsc7/7i4IpKM5dq4OQcwi7LUCrzw7CwdHnNlGgid5AOt4\n",
       "UZZKPFjwDMCqmr0qQVbehV1XWW/8BdORKAHsqG5h2CEc1sRBbaSzv5num/QO+oBeTBOPOBTrNF6y\n",
       "w/cKzoE9BGnXBay4v+Tmki4wvMMiD6LTxNfn4D6UD/onSbi70T3TjmI+tvYS62l1yDn9er5Ctxyl\n",
       "74BelV2OcfEVNHXzJnbM1//ZSfq/9RAxaWhnAQEjrfxrIiBhmxYm07ST416ivVzoO/AC0hWhAv7W\n",
       "MhF0x9dS0lOKTTjTMa8bElVyHERC0Oj2FuRMFMv/BJBEECj9p5X9ryZhKrVWbpWZ8PVOp+oIPt/Y\n",
       "w9bqDyM/ue5gCSONxCCQiUDFCvUBOpphPT8eIdWuuDFkSMz5ElKTpT7vfkoN+Hv0uLfUkYUUF3lK\n",
       "GSj7hGfDfMuAktRCqjCaAY/2CIrajJfRh4om6P+s5NK49ikZ5K32arJ9iKNkevwF+W7KVUfyejdn\n",
       "V0DTKas5T1fh3bkdnFz9SuvMW1EOG8a+nE0YKRRqHzN65rVBXafZZVE6paHM9CvxWPluz7irNzWE\n",
       "5kLfnxk3SyfmQUt0mQw0NCszOvcl9O4dlcpGeuaKVd/5sLLUykv/QP6UvqlvoS57nK/igKKwlPwE\n",
       "xN+DDyOR/4tzDj89DZxED9npc5sRF4ZVMqSmirE+lWcNEPqZB6yIZk5P4OShYLf84faQxZPo6oMW\n",
       "sdKiq1LNFTWO+Ytq0LA8X80i+CzIgI4zEX+MgWZXcyI/qYQTZzM5eXITFOvpCKH/bv1gTOwlwoCs\n",
       "xJoOFQ0fQSTQzQQYKkMGLH2hXZMq91tcQMykRsqRmTYM9Nc1haNsc8NJ/8pI2IVi1tkgPzpTpDPr\n",
       "vjnvvpDgo2YxwMIXRiO8+ZKiomFHr7huC9lyQiS+Skim1sfaeASJIuura7sKko05sE10mKwqzYX8\n",
       "o8AJFOJOuHDADXth1AhTD9JBlyhdYszicn6cZULk1uaMWL7/0YD4Kh1RQzPHMkaYviVRM51LoAGo\n",
       "UwzppJMrsIzW986clHL4OuuAiWUIZAkeqDKPAU0h2ldsmRvV3md8QmjsZcpmg7pubaiTZLRSgmfD\n",
       "nbon2jZUF7YeNTnCwRpKm+gJwMckQCJGuGL17o9kBCSBmmsTnMrU5FOyB2Uwomv3aRraSfKX05Bp\n",
       "Q4u07Sk7TXpU0eZnJLI2gVXmzoWiyiFWgnJasI0Zpq2OWqVmY6EH0m2sPwgUSBSzGsNUAHbt655i\n",
       "MGd6hhkr3d+vtUu+7hdL8EZ/AMWasdH5KAQsu0Sb2WW4BbmNTR4/CwGWKe4eXhd9aI/OCPezNsVg\n",
       "vgQW+iVleHFbDTTztKVisYo+C6RDGkQ2Dm/ue7RACP1YveRsQGxHYogDepSqOvAChXG9DBadBKrW\n",
       "lwhVFuzvA1sEByYstFJgC19d28dcRfCaVAk3Zrf3ILm2YoPEESDWf+YB+X+Nn6z5Acyyo0Sn+wjN\n",
       "ee1ocjWwxI+zUUWwMQtZit7R2Oxcd8T6qG/fAShS0ASZgap62NlxixH6eIyEykCMPfbx3V6Bemno\n",
       "6jirArYyxng+HinOn2c3l73NHMkDa0GXMs2HHHHkkoMcPWc24QtGtrnPHi4Gn6l/ap7XE7LRhmAJ\n",
       "HSyiAlwG7PrOmuiKRe/L2V//TsF9A9KqvEfcMVYAHebprDRocaT1ck/KzsDaHoZJqIdfw/Ejy1xt\n",
       "qLd9FE5UNcIA2UBBiA+Jw8cxugoyhMJmIDeMnFmAyfwUMcrvuoKROCVwqoGllxniaHbXN7CzUY2+\n",
       "REva17B9eTcAFJOneixzIdXfpQ90qYG46eUpelTTYVB7OEatrx6XZwuwgu27dqMi+HcYVWy7zn1o\n",
       "/mB3eebruP1AXcEjPrWE8Gb0ppBbM3QIrkz9uJQ1ODR3Xs2es05E1PTrLBZPIEwMbpynQ89xZO0J\n",
       "sHmDFkK1lt/sAXQBG1MbbEM52KmDrNFZIJ0TcllTJzSK8XVHf3jiiU4WkWbcmDbE38V5uiu+0fcg\n",
       "1q/7PpOTBmPe2QPuITvK2p5jqbZ04HsdUWnoDGdmNpvL5MJLek7TFsP6aOV6d//wTaPHrkj+DsUX\n",
       "67sKFOhqUzHajGZQKCzyrfFWNCK2KoguffXxiS0M9/5Hivq7y317lw83U28FZX0997Qc39F4ZoLK\n",
       "fMuQhWzJviXzQdTHnu8KhMMDxcNKuKpPa8fWkDXJhaFv/6yFNSXr1Wrhs5kqCbXwYDftNDJalTJQ\n",
       "Cm5DM6IRnDSDYlZwqXTtNAiOKLwMPq0Q1MSC/lLcAD4giShRpc3ZzwP+cZJiKIzLa0j4Edv3IPb8\n",
       "wLBxPoqF5izCcgv0exa2mxP8GAcqQzvREuOocwT4YfKSa83kyFfjdInFHbDacj8yA04uibCAYa9X\n",
       "q7fnrXVCq/nhxdVkA3+4TApBETFk0FZAC7Y72ApFjEyr2yZ7OR5BrnHs+Z63uf1CBn2UBer6P22K\n",
       "+ydZkQbxtTEt17yhIUs1bhhcaHjUu06iJGH1tejOVsFxrou1VnMpXI4pFQpu3vf/pMR4lKFDEkOM\n",
       "DTQ+qiWWtibacHj44jSpsSkb4CBXSfUFMENKWzFjB9vkrPy7iGDAtLLk12+8Yr8vsIX91/zvMse/\n",
       "KpmmbpflobEnbw/9I6qYFmTFdWtVOjY3SCm+iyG9s0UgS4UmJ6px7AXCILJR7/tFY2X/PbJV0xD0\n",
       "5htmTVlq1nj176UqDf6Z2pTJ1dCrb9tib7/5PlkUI6qbojwB0R/1ai45QHxZQ01t2LUeRgJ2Mrxj\n",
       "Pi3iKxuJMqP1jo6PChkPbNwB+Ochd8fHezGS28zYLAVSnx5hj/eut59ZM42RWcPksDgReSNpUU16\n",
       "u8IU+mOdEICN8uDHrydzLWmw5UfVviEFF3/e2f3LEAm2fa8uGMTaMTe2mIxmKSRPgaqdstv9Nvwz\n",
       "YCVINUhvzqqFpEmUrvpd+BLOEc5a+w6pKc1XwBRcEc2vCPvc20wFaY5F54UEVl2N3n9HHa0+9nBw\n",
       "Cmtt31uQA4FNw1Jwt6HgJmM01Tvim9WcuUtdqhMUH+SlL9mA6itdGf9YIjKkedLXHMvB346L+FUt\n",
       "LEQ9fWvrZSvC5RX4fljCSjsg6jXDbw5iSRy7U6/javYTAwWrZDsFumXocEE1zgvcUQ5nqjEpYTxf\n",
       "MK3WTW2/3TnHMtsRCjcGZTaLscjKRUbK2CWs4OmHuhp0dHVGF3NDU2SyukZEvsB7eFv3QHzCoeuC\n",
       "4bGb2w3NmEOSA376Q34i/s5THcepn/6RQ+WuqjgaTB+ipRbYgTNeR7IvTSfZbbzxj8a3stS1PfoR\n",
       "/p3DaP+lpfHsK2nYWREFCGlRtTu/Q002sQBjCwj/ZVMXAQUbrCp6dAxKaB6U5sj3n0QO3UlcBpuA\n",
       "kr3U07/9mnAn8eWGzaP9+2aUwAxi6gYvJx/vSHVLyzdb13LWi463nCXKvWkYeuQaX5dmWGzYYxBm\n",
       "0IlmIdrfcRveAu5LmbnKJHKC1j8uoQ2sEz5SwYv0R6nXc/l2nm3Dwr5LMvLO+IYMCQkgXf47AeS4\n",
       "xmZlcfVSsUfNMRyJ+A9cqwoCzL4g8l3/vcEg/E4AP7PtPtBY2sjhEgofbWesm1si1iOFWtwhAdNe\n",
       "MeQENXsKZe7Up1Ga32CUxW4DfDlc6BEuchIVdn8RXIj0ogIcX5BTQRO0OETw/O4lrkTL4V8w2HQ6\n",
       "K3tiJs58miWfcQj/bRQWg+sb3BXIwURvcR8XY+A1F73/z0b6WmZYLeciUMKrZM9Nve3i0bh4lMqV\n",
       "//CwaUGniR+wN9qHQOngon1rM+HevWun+HRpTHLv+HgV51UkKYUTKcppkdeqvm4zEWpwdKJSDPg0\n",
       "PwJ4oPNF3WD6cTktywSYcRFozpTteCwD5Y6T+9xvUuesRci1Mox+CbB1QpLEudQ8p/IRWzQEj2d/\n",
       "PxFCBeuNeTfFbRi13Ao1ZZf/Jjroctj6XeEW9cezEUkqxNBlCbLXFpGq2LDe/kRtWif5Pw0Zbkea\n",
       "vLSUceG3q83jtUWYdeQ+MZams5Ieg+5Jxb+IC8tpLkNF36J6ZYWbW8ZfzEuXWecEi8lBcFX+ROk6\n",
       "Zy+7hcMhKyzuFgoJI/drCfQ/86A81V4ojkbeUjLedyWZjEK52uDtgIhQGHT2Ex5zfmNGHPeWCUHJ\n",
       "HHusir5FhimBZFszBiDnFSfr7e8Pmt0SI9EmO+uyjquz5v3k1BGybjQBgX2Pc7IVjomWYPD7rsAC\n",
       "tqp5oetgIDD9tC8bOLqV/7+fvcNZlpHLcuP4rMCuo15LI/rtUQbAELIXgNbcAyOAxQaHcMO+T3YU\n",
       "AeFne07QYxMJl1pg1V9ehuLOVl15R6i1uC1gi8c1LcdvhBGhh6Jhx/6q4w4zhiLd66nVC01sA4od\n",
       "NvtZ+db7TQwRkORdypwAQZAN2j+zbtux8dPBu8WJ1j2AcOs6qHbaHNinkxptDM8AQWFgAADVCrc5\n",
       "zDM6bvO+b/Mz/fDop8kfHTgUtGQPUIsgAWSAujbAqSwbh8xTDUlKh9X1h7NOYsXTMkwOXo6W6sUi\n",
       "BFrdOJCUg2jnTRZqyu/25F3zwUhUbtKFG1oD69RDjYMLYZ6wk7H4cmvtfwNaWSX7Gu9JqaIScmZ9\n",
       "wT0KEFic+gAJQ15Qhqc9pxIeL7qXADNvXs0lzaeH1Eenga7lrZaUY0q/Xzrnxt6Y1DExLZ6PSw7S\n",
       "5I6KZFH+EbrRVVCDw+7/Zbzrt429KQBs63N8I/dst342x4SfkApqnzSCedO0IrDA4JM0hIM4P7W2\n",
       "NnA/xHiG3RhIasDM/3WSr6D8cyKR96E+XhA5j05cCjcD2zlrAOyJY6vloTyn392POVc10GgOCYgF\n",
       "b88eW5SGPxUCgp+T08b7W/SiuYYtPkaGBF9RmcQfXEEhMYtRgKsdDq+C6IiIuRKSjH3TpgnUbDa8\n",
       "mp0zlygPdj1F63hAdfAH7S7cPpU0q+HkR2jajLZOS59ix6kGsZWNn5dqOv2uWFgmEUrM8nPSBceu\n",
       "ypEx+Tcx1TotsY0mIbuHkfGyiGpTV73et+CBeEb5m2YsFK+JdNYn9bF4arfZbUKkGCpTaJDrheVq\n",
       "uBzPrY+24p4u5yJG21GzNym0vMNNvtjzkz9fg5BbJFN9eNXVzuJvfFSr/YFTPaw6dPKqH+rt9dD1\n",
       "Y2acnRLV914kPZYpewUCKFJzo4YgOYqjAALx+eclJ9FlDDJqV2aWtuiihqqIjSa9QdiE251pnvdN\n",
       "R1xcZOp6jTYVDHxcGMRvAjlULvG/5JV+1LjynoEY9j1E4qwlg4rAgGfROFguVhw8bnsEXxByBlYi\n",
       "VcQNRvOuY5ZHuQW2e+8HcCndhWAiyEmd4+te2Sg8PNgI+2OcYXCxZYFKNqM948rAa4VS4X7gp2re\n",
       "NPHWkTYtONFXwu1Yl5u8z+zwOydKvJn+zD9v1DPlrs3kjUXcEg8er0coIKGOc0UeB2LiBBLwM547\n",
       "QbMT3ffwFanEg07Y6jKhcK+Van2ELnD1hSnfHlHi/Ss1KH8QyMMFRh9WSTMEsxl1C8DO0SbPR+vm\n",
       "GCfEcuPKO+BYPYQWKwLeZXQmbU8whtHig5YosmfvQ2WpS6fKiMilepAE1I22JyonA5J78gy+DnKw\n",
       "Hd1RRNAPFZXOwB/tn8vLtAtFYnirb6pO84R7Or//976PUl6LjaAMJPQtlNg4usl1035WNv7hNSjr\n",
       "eOJVFvajof0QWkQeqC/SOzOlepcw6F1RqawRLU3k6gfGKZa9t/JZSIHkhsMrB+A9+Dt0+KXsmi/v\n",
       "3kT8FtYm6pkd53kk3xHONzLu3uqBbNd9w5IvDeqHRgmzQCnU6xdzoF1UIvOoIqjbeIjWn15FVbV4\n",
       "I3TvPkbi5SZwYkJetUGJf6sXILzoRABuNfFvXENo2j4ow2YkQQE17NxiXTL9RVWq7HW5kuZW3rAb\n",
       "fuq+qAlsa7NbmK4+GC5I3exwhcn6WEa0L2fjFH9qz08gkX4mlgHooBXRhnToLDag42hv8vrf5tlk\n",
       "mZUrQVjivF2Qfb3+iKkqCKrC8brz6Pry3usmRdWuKsiQcEUL0ul4r/2J8hJyMZn/3i9U5UaqPmnk\n",
       "NXVcc/WPsGW+/w1SDr4mqNnJdnZxrouQLZR99sUEBLgr2GUcQe2XiGamG7TN5fXCz5q2YZ8un5WI\n",
       "vmOJ7lw8ZbjdSX9l9K8qAROCVglwxUUG105RLFKfZBsW/UvAEZvu8oJXgiVAohViSlKxYyNZx4HP\n",
       "2ypJn5RcsI+cVqzv5JQmdZveSa3tp1C0rHjVUd2zjBH8QsmsiCNEc8GIFbuxULLVXR+IjEDF13qL\n",
       "Py3hXP4/4uIn8+c179u2+Fx0lKzomhJybSPepFln8NcMHmcGApm4XwVDhO2FyIC2pP5Qto0/YMat\n",
       "6I/ur7YZ6baoBIDQhELGpsJOERsCiWAKMbaos1iwvsKlXFP/i1r2ispCjYPL0D3wMypFg4raflQe\n",
       "B8XYMzajX3hB0byVj0zd0QYADBDoHEsWvUW87SXWGTMLgjOnudnx3xuinhY7zHoMsUvIUBRT4gD3\n",
       "Dq7hYOmaFYAVVnI3tye2d4nzEEgGFUO2egBWWwocEoXWoe6Y8sT74tMeDL9cRkNhyuOYimTGJ0I/\n",
       "5WEt6olXD8YuBqgG5OJEY23NCMRdWzzruePN/t5Rk4XO5s6HZtL8A53A7YD78p9IilZg+QAALcCV\n",
       "gQAABKFBmiFsQQ/+qlUACyifAAKAeUZQpBtioVHg3howkg+K8jesNH66ehOee0F4irlM+8r7kDCq\n",
       "y0T6ato9c9buc1uWftHasx2hHXIawjWz+q+f4AYBayjlA0HrHbFAxtXWoVS34eFTLfuRch/CWqyM\n",
       "mtAZNg39H9eGfiF1CVtVQNKah2FZQQMF+qTDMqepxqBSGDz5n4rkO8GuOHpOWtSzHoIbExqrlTRH\n",
       "JGgLFq0CbD0Q23g63Zsfizztl9t0xJeR+EanmBd/La1mIKJpnG5cW1LTqUlyDBec6GZB9MVmvEsK\n",
       "/g+n6QHiCFfBooPEAMhTXIWlLthbYP5PeGBlSc70Gc1WUYBqAfebCjc7N4d2wRO4cXUJM1ueySyD\n",
       "tmQacOj+RJ/INdpTc2WhVuKUwTL15rGSH+i/1n5KEXg2aTv6C4S+Xt+dM7Tx3T8nCXQSZ8ISgdEM\n",
       "Am3l9TSuXioQh5+w0ChdtvrT139iFYr1iS9BysIFqQBktfx0oHTF0ETKHUYlH4ygpPYM27evFB0I\n",
       "c3mIB117LRxb3ChNqSATNJMk609rKo5tjLW19no6OmKDk5qlpbDcchzraiQGg3n0ZaUjtXgOvgmn\n",
       "r/MC2ETjZ1brYQ7SQ818xzaWfYpqs7oUAZsjcilWnVS78LyRNJrm0uSwCBkEpfWmbRRCfFYfYMaY\n",
       "sOOlYMX6l2cYdzV05uqz9/y/OxVfpvRh3HJCZUZ4S8c4W/lbGPPFlVlxqh8eR3zWtnq4UB/+2MVe\n",
       "3xbpWdeSslmD7v5lu0lCznBwRN5ELYMuHkxQXEcgIdb++mKJ28ggGwsvjlmpUBia4IUiyAz3Y715\n",
       "ciT+nA29/Ornuv8deZrY7PamU689miPzHaRAvXkKotoztTjYZOpMba2QpbIllsZnLq40mQ2iSvBj\n",
       "W0E61ene/Xej1iueM2SIEjcwji8666Jr2zN83TI65qcnk7Ek3NF+Z4Inz+XTVMfg017gH9M5toc/\n",
       "bM0gcRrkFa92Ad7JLBqBme8sIdrZgCumdX03KwzHnkRdFvv3IVvZ52Np2j+OvePad/5oIAZwsUZD\n",
       "Xvb0LP6gu9lsKERX4fswnpOlzLZOr1C0qyx2WyaniwnqCCgvPcoWz6f5HTGr6D6YUTsQp4bCH+Kw\n",
       "QiSFMcAwtXtSen9dhf00KwWw99ULNpk3z6PNel0fuyymzNTMUEsmwUqiAGk2pteI5qlu7cITqzp7\n",
       "xxDWyZLaaXMTdq/3v0bmdURnoIAIqiGtb+gsEX+vi5DgReUFVQ/tBChCFonOdl6+A03TGKpB8flL\n",
       "sjRVBw7iZ/llnpF5F6GJRGJc6uzMllwAjgmc0Zbx2boZIeqQq9dbGoL9rSrRq0uQiCUcSAQ27jaX\n",
       "2SvvCzkCKABWUO4p9LYlNDmQlKEbFMoswOxZh+9oBQss8nmiqidayMb1CZ8zsEwrB26ZCYmfWFLv\n",
       "18YDx8dG/UNAKRC85OwI5Xz2PIZ6Om7DuhocbDLjRRMhgyaR0gE2zK2V+F3zizfH8VYNCV5PNLzW\n",
       "RNWgTNHISUeyO3wAAAMABbTaVohTWgAWS8LZoDYyQ/TuoiKGACIJYuPTZQ7+OGchUoAAAAW1QZpC\n",
       "PCGTKYQR//61KoABePoWn4xZX8NrEQAB6WwL/nDjeCqUX3lzi4BqdzbNi6FdJXmIBVyRGdOtTgDF\n",
       "2lQu0yXSDr4bBn77oQPAQ7bzg5nmfd+cd+CQilB4jinR+IBQpKPITRiimwHUIUpHZ3Ol4QZp7/8z\n",
       "lXRsrHROb1X4UPwz0z+JJDA50yB1KznANNnRpM+56DV+r89ZmTU8YHe3k35g4MyBkLA4MS2Dz7yc\n",
       "hxKASvXQRtt43Xt0ah2D28Odn77V6OkacP5iTpZOK41K8cgjxdx2XD6D6YNtOBRsls34p5JduTXI\n",
       "GIaui2O4AVYaT1Itqi/IgWLh3hTSn4+ajeKqyijQbSNM9QyF/IAYXFM1NhomljQof9Vpwmx6Kvid\n",
       "vf0Ay9oafi1iSysA1IUpw9uSfn4CCYDiU9XzYKhQiobOsqMZLJHmcDk+EQS5m1+2GYdgzuY2Q/Pk\n",
       "M/jAP0lyKyFM9nqfU+HEH57/DQu5vJ/o1LbcBD/loG4r0dlmaK1uYJ574GDlSVpiFJBNnzt/Ndfp\n",
       "d9Xxc/3cck4hBgIx37XInkjjeEILHvZFqPpfGPw68qtR81kDnjq17mVJo968LXHzgKLQDfy41Pd4\n",
       "mGpyYEwUcI4ZGycLM+R8aGrmmjRdNRorpFqXMYw3wZs5t1z74VP4NSIhvmK4vH7v7nM6jz3vtmie\n",
       "q2wNtXTNfmNFQXwUyS44R/kRJwshLNqIHZdDaGL1gY8Plp9UnEWK6YQpHApkkkHfgwhyOfzIfsrF\n",
       "NT42de5s5eoAyKvmAjalFmViwGvxxmmjt52vV7lex+2psd0aJeWigtLsEFsXtTWJ37e0w3BU6rZA\n",
       "0ZmFfVAsYnNsnF3jdCPQxNX2SMyRkMzx7N5H+pyXGAO5W4fSkNwDrHlsPHO8qNJn3/ZbfmacfvrN\n",
       "hpADt98ncqGH2rmm5gLk/U0WYYVKCeuNsPCd/kPHG4c6gKU+f6ECtCOGJZsVBGNyX8jlsjbN+LwI\n",
       "bV3KGZQ3BCJctAwBi1MMVMYvjB6754oHrd+Pwk+2FI+Yq7lQ7KBzb0Q0g/988eOfdEIgRyoLshpr\n",
       "gAtoSjLDT/9qJkPHBWt2L3SoTSuOvpLEv+Z/4KJ8Vl6UR2WPBhPlkUWYKhHyQOInEoa2teMXVgIg\n",
       "cpyM5lInbcMGcsVDsjaFRKCU9ef/nceF398MJtbMc5O7fC6Cfc7Lzxf6Iuz/MQZeiyjX+Se52qoK\n",
       "9F3cXgjQ8TKyDE0UxHeWaFlwehas9uqKvx1zZEHjkrCouCab8VEzr43w8bebOWxp09dRlOMC+OtF\n",
       "dY4rwcQCm0V1+khT5Vq1M+PPa+RiEiQOM9LRTdH+RcfDiq26aWokFj8mWWCBlSXSqrA8LSMGypV7\n",
       "D1QQM/qruWty3TRxH/gOi9WDsbk4oSIVOTJlP8HYa3zN1WUc8PnOsuvTw0oAiiA8dH2ZFJpD9gjy\n",
       "RQGEqkNHNPKfQHRsVJ2/4m13RB4g3J2GF6DWTxjgDDqzsy69yd6X4v8K3VT3Z2rss5/rHqJJqfRf\n",
       "/kIGKCjLpeNpRUMmDRZ1irpXt5X/HQQzPzJTAsgplOPI87KdNwxRYGgqciTeomq9tRmFd9YLxEK8\n",
       "RND74tOyrDDhLnaHjryEWdICA2B5xYaofM1TpuRvCnTJCxOeShxzkjtBTLCp3A57Qnarrz0P3SgR\n",
       "U0zceNb723QER39h/VCuF3RTCUjmzWe0TimmO2LlmgOHpQHW7kO/5BZ9Bz92TzglDM2CbLPyYOhp\n",
       "cOY0+Rc5/6TNVtkT1YvTZ3WflHylBanLKc9qcJQOplDTrWfR4/jaQe5vt5gfElYvYcQ9QBNWyJf5\n",
       "jI54pIDMIDOfC6eXmedHD/WMca+HOm/ZQ/+LHflvqI09KAAAAwANF5H4G/NcX4MuDtwysNbfnz/A\n",
       "Ck22UdmCV4whB6ry6UHXeEAfXajUXqAB0eWw69NgVG+ZAAAG1UGaZknhDyZTAgj//rUqgAKmUjkA\n",
       "R8i8Okl1tgQZqEpheImTgUx7rBIg3Z1mYYV6nxKO64IF8fpMmHZWrv0sIVUGosYan7YEhqSvGRe8\n",
       "w90VA1DI9bAx3bvAgI++0aVSNRM8b+ve4krvggv9P1bFAhEzxPGZAOuko4Exo+5K22qD2Soj7QlF\n",
       "bDopA4v98j2aIa/WZuirtbjIyu74U5TIcCGBY5Hol5UHsDL8YTMhK2dOlrtzf/392vMn6Eyq1JsM\n",
       "IDY0g9aCgQrrdiMhCJG13lr0fCiLZhor//kLKyzFxepwDgFKBeMk/KBzX7Esj35eNrAInfrQmRaS\n",
       "tNVN+Wg9AkfCSE3vjeJlua9FRg5N2yjkDPshX3jThX5VhAdY2UKAozTFoTWJw7UYt0b+IL63FubM\n",
       "Zp7NZZ8Xsmby7JK75GNbACgYFqW2RClWPC9GNpsn0r+lOJLjux25APSwtnOFiS+v6zKXHCi1m9v3\n",
       "JKWF7Cmwy+ZsZY9J+0YCojd4fLF58xrkrPvdcnVa/IyvkO1vjYyeGRCRsXLDK/nohCPbFQ75OxkI\n",
       "1W18aFO+yf5NJgKLx0riXJIb2epE+HA9KFQuNsFsPq4OzKcqyTHoHoYoMR0bEo7CRv5f2ctpbKHy\n",
       "UrGFPrCP0R305+oaJp0R/lF8S4U9/0srvPl924/2wJ0NmQp4bOmeoO8lQl9FtMP/A/pKREbt1vuv\n",
       "u+3RWMZ4OFOQsPOD4NnYXfgXxpMf9KIwXKCJ9BkKNoo6JiX9xs/FICks5og90tCEnIJclndoYYAy\n",
       "yS5UCzY+QMCJ8VhELnMl6ZGx90WqKgZfd+NBE0LuC59Oj8WjHRwylrhFTgDHsKHnF30CpIUqWfq3\n",
       "TCMGvaYcMsMZn+jeXW7Z9/EHeHmIH+OiI5GyLnrORCrkC9xo81zLYyzWS4ggBaeZuJC5NvgJ3AvU\n",
       "lwwb3RXDzQZTBMW+1m/yD/rGSMtP7LzTZs7zFWVfunJCrp+0tPXir1ImUlcZfrrPvQ/JqCPphCDs\n",
       "Pfl7W52hakRGKLWmDCLM3bq1TCQKVFwya3P+PlcMTGDz9mInLvEDU4tYE8oibjP9BAuC0WeFDBiw\n",
       "Bv1Ck9WWeaktYGTQTEAYwmVCKT8mDEnJyTYS7qVD4xtZSp0bBYQTUfQnhTS6tk5zWXmtB+ExbCM3\n",
       "WZ2K7kKOLQ238Po4ypsAbiN+cG2acBts2KlL9JCD6foYVdbFidqq8YFv51kMzfAwzTgLciY6OZY4\n",
       "FONAufo+nUmtcH2gWAz+ypCzHUFAS2KV8Hj1OkUNyVHJraStylcPAeycA6vry4RKLqB+/Nlrx7VI\n",
       "7OfblYRRFoe0l6I8gmvDNJwa8RWUcc4h0sPGhjyE8z8qeaoTi8jAZnFEOKTlRmxXrIN0y44Uqfyq\n",
       "snHA5AOQm8fCp+HKqmxadhXuMwuufv0aj6BcARff1CHmEOAMhJF7QgwFgrwNoPfpLlQoX6HXaNvJ\n",
       "veCwb0CwZ+ENaQj0ZYgvIqbqBjzZpbFxJZynrBRP13vvQQUoOF0mr68wP3kkPyol0uI85Z8Y+xyV\n",
       "NQlhKwERTpChL711/4/9YqqBTquPaaKnUIdDnFUNg/21e3e6YpIgBFWPBX15Y8yvHFk1/PLIOsjD\n",
       "OJXk065CehqMHhClC9CebWW9dro8QiquUIT9K0wTj4PVVgHJj78By+6d+gcsgE7AvWwD8/WttHpo\n",
       "C7AikABxPHkOnLWBEaboEH9udy6t2XFav5q6FieBIIiZ4jtn8PsNqjGOUph69mE6ELeB0JfAxASZ\n",
       "UmJodFtfU7PNr/3xfOga724hobG6cFBqQjk+3c8tKH3B/cOtDzNm6JJRDhoWxhZB+So+8st550DS\n",
       "KA+LuaeK8AmwfX5OYEexjBC2MeYZ7WY7Ej6vzPdjhTLiDEN4CbcAB5EvqJ+juBJvLI3mE8zqAeQg\n",
       "GC0Lc6AAaYx/3hJJ+MERG2WyWgwf7hHOegK65/O1oCemBhr3/tGOQjIGTn7g0dUxgQIyVpxavv+F\n",
       "hkkDN4VpOBp29xyXrNXpK1SKRhh6pZHMyuCgsk0NSNcSVB9tWvVqe9z7UFvDvz4HRJN7UxPf4lrf\n",
       "ihzMukkpxebF8OywWTOH/hEeNPP4oZ30fErJxhXFCxlznyqSC47HozthLeKzN6SQAgAiZdXc5pjR\n",
       "RpY/6WTrnZNNfCZFy/gkB+0X58WKdFT44Uak9UtjaiVtVkZbrwwgL1gTdxGBgft7e4Ard+E8znkz\n",
       "JMo9oWzw/M0nswQP4+gxDQqEdVVaPRxOfpk+qUk0MvVYcW2s0tgaI+32WX/QN0Z/CPEwQEwvDi3V\n",
       "lJuguUAsi8OGMhGmQ8ZAatKowAAAAr9BnoRFETw7/wAKUq6/14fi2gAupRC1wmJbgj9nlAU3lS+f\n",
       "Zxexr8Wo+r7HGx8ODoR0MFVPFVVCB01+42z2hGzj5EZbRdPu7b07pyq4OmRqe/c0K23aCUN3XaC4\n",
       "J5yOkjnq6FKeaxZEmR1gq2fWquDGeWLfZef5Q14eUda9qqv+0jfN6EdnVa9CcPZd/ftPqkZudARM\n",
       "MKGeTZth2ZYQdTB9/PBxcNW2BR6UuchjLs4Blk30EMWVc6mOCc0Hb96x5443E9Wv0cf5SccpnbkN\n",
       "/VDk03kzMTG8msIjyByIt90Gk89AlF59dEt5MHJh/kXmVqoK6M+257rolqbsQZSBmTH6wUUr+KAL\n",
       "IgR14KthKKZ85kdhkqe8qxbdQra4QEtuQLx9A6OoNBxWLPIbPMy8ULKuv6cYB76c9oXfOq5c14V0\n",
       "jFNx9F2zxcVVCXg+HN+k27xn7cT77jUT04M8PTkPLqPyu/cyWpl7h669JsJDy9TYNA+KVDMraWk0\n",
       "xth7Ve4etp+xIp5TIkVkhMCydYovtiEczhio2O7Uzb0bxGj42140ySetArYNp+NGO7O4Smja8KRH\n",
       "tssXzn8k/DTPvn/rRajBI/Qe7r9fHudRHCz8UeEeHZFpKNaasLR4L65xqNUzjitOYVeU9Pi8qNoZ\n",
       "4hWQX47qhaPs3Ml+icPZ7+9kZ2Sw2ZEw9CF9NxFKBJEF5WHKvKzEPGeTwqIGr0tZ4A9YG9HlJ+mK\n",
       "LCmMFTppZnexwKDVP+ML+/oh7EpkpXdDuegKOUW8Obtfloqt+Xf/dAgp+F+JQNn+GDURqaE0dkbg\n",
       "JnjUnDWDAR3W6OZNBX6IJN9A9GsyMz7/CQqBaoEhAz4o0G7cCainNwNJLs0TWqipYXxwDr8kTtdN\n",
       "4yMw/3prpNkyZO6AF869Jxo8qeqfdDgoOnqnqk4GmN8Pu11TWwCeZY6ZAAACpAGeo3RDfwAOKe9r\n",
       "JPoANquBsnYR+3C8GkR3dg9coulD6jL0qHbHkqgGiQmD9DchuJ/uENE+UBy7UzfQEcFCeFRx0nkq\n",
       "QSOZgk/Q128IjIk8QOTHM8k8PcNXssHcxE0ivhCu21fDn2AI5wQt+y7VYGy7Noz4HfwporEjNbss\n",
       "Oww8yR9l+dU3k7oiZbHxh/pquMNO+1Ngc88Z9X/FryzF9aAc+7aBkQHAu8K1olBvCJSLmpf0Sx7/\n",
       "4BD9kpB2wnk7vQ+yjUKo+xhhY/GxC0NvNTAiql9k5w4Z8iKF1kRBp0nK0+TVQ6cWW3YDyLGzK23G\n",
       "zwkBE/K8NJYe8BwfHcM9bSqdx3sx2IWgF6gA61GMkDFEk/npZ8Mwq4iZhrgXPUsmV9BPh9yWxmz7\n",
       "cXnBEGUxM2Z28w15ixuI3KUT5Cc0b9WJEFI83F7uj/1lePTVUusIg6cnBzQoVvi32EYdEJk1RyNT\n",
       "1k2eL14d05I8rkWRp6XCQvGCg1AK5I74wk/rYawgexSkLI49HrlYlyRLsHwhQFv9rRxWX/8EKjcD\n",
       "zbJV++pu6grHew6X97naezi+mucLxj8u1RzMLI8ambT/5v5FpFDi5zShBPvsEeVDpgmSVDu1j65j\n",
       "utfu/Ce4xpEWBLALj8x68toQwGGK4ll5Rzb2+onqPix4DcYHiOIz8R036B+AFKccq51PldvT4QGA\n",
       "Gc/KPWiUJYjeovoZLGfqyeVSexbQVhpZn/mTy9VXhc0q+G4S6W1pe+RH7VmEJa/6HZxUpokeesbk\n",
       "lsPzNM8A8Bk7S4mNz/WBfTGltaSfTYqmLz3wSNSb55UZKXCwo9DfHfZf454GAiSbYxm9IIFB4Efw\n",
       "2FJs/dQNX7Zl/ATUHUSL/1pdN1iLrxOa2FrE9a1R6eY0fUAAOmEAAAHDAZ6lakN/AA6Ck+L8Fj54\n",
       "TgAmaYDnog5TQA16kKnF5mJtApNGSOs3fThKTCiSbyOwLODJVOVTbl734r7HoAHt25RzKXD2v6so\n",
       "/eaVeXImLlHiAzkCz3HIt7FjocpNxTqb5PXVBtMKSbj0mfdnmBIxS/7cvtkrz8KJJg7WnOTwNcFq\n",
       "yIYZCMhX+7T914DNLnCsb7ZNll0oWxwQI8ZnXAFvtN8zCbk8grzGQ/fJeX4VJOL1BMSfgn9IKnXa\n",
       "BaEvWrsjkYC5PCobujukQTrg7t/hWvG+Sul7B3vcHtb5LRbfLCtpX8lrNjDI19huzIIBJN/VH2vj\n",
       "C8Q+MWKNNNiPX8a6ghx/jox1b5+qenPVCjJnWkdWZ9JA2dPlMBenCaAY3ph8D8tr3Og4e3QQeTSC\n",
       "AMKGdv4oXB6D/KIhiwwhozKaORjYXLA4BstFhY1WZsEPXaKBnrTkQy75n+cp43cA3Fn1OurA3W/J\n",
       "MqtQsQYqRAakGhJRDdiPmhjxpmHi1Bt6/whEKLAHjSbpn/SWlKI+k/o0K1rkuIujML1n300enKrB\n",
       "6KcUdT9s/40ytQcv2XJLI+EdIUHAgja/bPwFwtSGpr+dNgAm4QAABKFBmqpJqEFomUwII//+tSqA\n",
       "ArhP0gGN9Kyw6S7ZvdOyAoRAUuNKOBzv/1NAdmIkgvhk7SZAP/IaIsfUxgVJchMO4jeqKTp10bH7\n",
       "2hs9P+5wD0Yu349zw3AxF0SAWqF0+ccSL9yGcmsr8KLHdKrALJAgNj1JvGmoWu/NtuUjp0tkBDIy\n",
       "ybVczu5PKdcQ/1eWl3jegw0AaftAchn5V488EQuforuXFwTTffG+o8cO+K06BSqvc1lrxQzyFDbp\n",
       "ynWMW3ALruD4L/tpOreXlW5ea3V37bob4+LF2vom7XJsqfdDu3KQbITKuXj1AfIZ1xEJyD7DGxVc\n",
       "pKc6KgNccUFT8YfrdPEWhnylAD7gzOGXzN8MTdbwCuUfNZ+QRek2OyBkzltwZ9eZdVKodG9e+V0x\n",
       "9YZekxc1bVTjPoemb5SyyYR9YN1w2gRHMRyGZjzFAnViK2lWJlV2/xyLNfjHkg0hpg2r3kVhejoZ\n",
       "eGIp4ZXhc+mPHSoaSbIVe3z69pid77Jw+Sl/Q50Xw/VQEiE6uqZBZfeQkO4TzY1SdtZ99Of6dIW4\n",
       "EjD9bETg5+6Ja0LLR+zC729zp6viG678kcEVTvvMBfrHlxFPu4iNLAACoTT4la6u94bP8IguB3Un\n",
       "8aHW26BkXDGriy+UjkbQcwl+/oRBV6vZYO1RoNWLF/XYD6d+hG/wU+2bed/REGuVmzdTJVjf1jYA\n",
       "VZf5fePG9G7eRDumgqdbx+hUEXMsSVyFRfGNe22Vld5ynpq0v+Uua9ReYTEesee96LgqmyOLZseb\n",
       "TAkrCL103o+l3baeBSplKsSNym2X5BopPEcRflzBJo9rT9V2OCg666V7HpBzgpoGMnlxluBi/Ppw\n",
       "KDqPkZ2nO53M/MdK7jqHaLopFnOlsP0vO69GHzsh1T38dRYgeb9Ku5AoRKMcfr33P8lGESNO5K1R\n",
       "trOJ+GEMIT14nspFYMAZyOi8q9rvWUdyXk1phQGmAUIYYeHRuCVu4Y/jKAYfF9iKuVb0Z+mwIa5C\n",
       "FpbGfBT7A/+5OAJyu4jTzmjjZSZbzf7tC32K9V+P+WoJyWTZ30k/IBo01py842D0FYvEVPM9BQQF\n",
       "GHTOtQSP+s5nmf49fubo1Pj+ZM7K0eOtgUQmCYPxu4541qZ2adwSab2HJkAUi76CoIDIpkFTcjnr\n",
       "ph19ZWvElL/VNFmVRel2UiiCDD/jlAqAwGOuI9Hwg2XKJBHPfwppVyWE+EPh2tKNmqTwIvSN/k8J\n",
       "HjKo5OFFBK0Nqhx3rCkOhTzm9Vzf5fXuYYxB4VeHpzLh6ujznIv5H2gApBJS5Ow/QEZaCW/sbiFO\n",
       "7gg8SPo7DhHzpmH0LrL0HNu0JwNNjHbKR2ShJzJhBAM8d11PheI7dgFHPzgxqnclAGmnXJUdBgv+\n",
       "EEaqkPpjOG6o52A5gcaXRg4jcVYlwOQcqdULCvyZWvO6DProncY9kmmS55v9eBgKqcgAJ1v1YrbH\n",
       "wkzXw18HwO1Jqc7P518v9T5bDoAcHaYGn/bOHkJk+rHc/wBtJ37oaV7AfZ6xmy01wpnfkL9D3EsN\n",
       "13Gad8Rx4YD0x6T/sME7NMAimQoHhJ9+pVwAOqEAAAESQZ7IRREsO/8ACpqvNqHABNNd6pu4wnRK\n",
       "5vi1flqz0DAInCOwZfv3/b3cn1ETRs0iXB/u8MBpSHLF0iximdcTiEPr7YT2VRZa6rirQNkMxQZF\n",
       "QlGFuNd8wYH7pbeOUtjaso2LNXrK9cuyMkZpnm/IKASoQL9+Lcga6bPg4vfY/2f1rtbzVH89+jQE\n",
       "Xpb8NlwCSeGQOSDofKxJM/pOcJZ3tVc6XMSjc9MHrsRDroB3+lmi3FDLhneWNeU7a2MLprkbL83m\n",
       "MYOc0LScyDZr4aD7vpAdpQ8seewmhXRiV7T9DESgU55j3b0doeMDv29fzpOqoBvV3Rc6mvrKeZyv\n",
       "fPDGL1lcA1SKVc7N3n071zoBNsgFNAAAARwBnud0Q38ADmVJOEgBCQfCTCDOM4xhr5kVlzvOCDiS\n",
       "NQmB4RsPgBg+3BCc3+GX3toExKAF940o8RO9NEzWw2R1y4gxVa7h0Yn6Y1KnC1MkKuMRoAFTwa3T\n",
       "kOzEl3uuU9Tha2zd8gt1gBdSVt0LtwmxeOIfse/oDWU7aKWwfbTmeg4Av2XcPP4ZLYa2ft+4Tx3s\n",
       "DvjTH6ZX/zZbDwC11XkBTNS61JNv5vA6TOBp3dpnN4vT606qon3fFRWhGOY8aDYKwbjc8a3W3joa\n",
       "EZU4FxfBmHnntyMczOR2DVXzsBtDBPBwtSB0Z1WxCSvz1zIOd6+58t1hICjBmKvVV8d6Dk+RvDVR\n",
       "V50Rl5Qz7HUoUTNQHjWuw+kxA6oWf4AakAAAADoBnulqQ38ADtqUpntAAiDs2aNN9Ej71ItKQ+jz\n",
       "jXYsMbkV0YS3leKJlB8y7yIGUPo40/fIFPuawAcdAAACMEGa7kmoQWyZTAgj//61KoACuE/SAKTe\n",
       "mSz+VnxClhhGOTVrtfuy3EamdhBkJ57lE9n6PgJiCEmiykVoon/w95Xs1LPQS6CqH9i0q8UwAA3y\n",
       "y5yMPYs9WRVpXbpoeg/3FpEaB5x3WShqj17J4qfzj+pKPMZHvAWzYH0PPfnuGdQJQHcduH9rw0Pi\n",
       "E6MDbUoS/F6b2sIlv2KrGzOsAPU8KV9LhxtgNeByk8/O3QwQxkKHUsKUU+/NZWu5Hobg0J8KETlI\n",
       "xxuGLaJm5gozlXCmkAdXRl0OmXaBUZ6vd4l+/ubZ+tdlZuU+PKq6WJ58XU0YfDYoQEs7QHR93ot3\n",
       "fCHLJL0c+ZFDUBh1oZlieoa32o60ghyATXJcbjjrypI85/6HcerMgEcWLkNYLXFti0X/SiPvP4Jh\n",
       "nB2DGnBIWsEbc00hVsyBLe95fj40+VRmLFrnN446jgH9eD/TomOBp5diSJ73vLW/NKPqesjCnSSQ\n",
       "GSnMU2t46HT4xa7NPF7sha+yB0P+j0G+ippNCJizKeiF4IZcRVBNb5tvY5sHmsqJ7Zf6v1i4paHm\n",
       "mioiz332Y5uViR888bUhj3k3gmKS5A9Msv9M6IA9L79i4Dprv3lvenITUYXbOYPuvPe7v3sMxpUj\n",
       "joQNpJL6gsCgxNhhx/W8QhLYDIksdzGfexTe6XVBS9hFqa3kpJXKLXPwyYBVDKB05JRjorcS4Wea\n",
       "F1/RdlLYon/2s0fXfbiEGrzhbDi4ACigAAAAfEGfDEUVLDv/AAqfMgAKCGkvuLFiNspzgYosiVxX\n",
       "OQBaMilWNWrVf1hIZYuEZ+Sx9B/Cm8BQ6TdhnlphQ1/O12Alhrn94xGlwbn/ob9odF873bbGvP/D\n",
       "tQsyYKXekmkMtD5fpMi+gBZvIzv8HBhhxYAjWvmr5AG9Se9EAYEAAAAeAZ8rdEN/AA7WnC5YHVj1\n",
       "v/YkMnlupYwJKV7oAMCBAAAAFAGfLWpDfwAGmAStMPjWYAadpg1ZAAACGUGbMkmoQWyZTAgj//61\n",
       "KoACuE/SAG4RrFxZI+tsUek55tDaHWJShJAphPYkSB2Xmf2BgdGpypNLXDtnmiylN2esZbbJ6UI4\n",
       "MYHEwv+WGIzPfwMN9hhLyg73okdEyYG6CtHMDpKzWQmCi+NEpnuuLcTESDpn145lPjK6mRyo57JF\n",
       "3dHZKSew4zMG2K4gRyvrWGwAnSWwYu1EKBxZOmgPQ61Z7izqYDuJ3CbLXwqukxYirNq24hvmZVy4\n",
       "vvkuZoL/aREShSOwvmSDJ4wtDjRGV2J6UR6v+qGQU8kI9i5E3bm9XQuWMllFgEYMzx0H3fDhOgev\n",
       "5eXlTv5oXe8JARrJq49nONidUPqhlPYuG4kjwYaByeAD3spOG88IV7XdSeJyuz4BsK6AcH/yRf/4\n",
       "hmbk3w443uEVef4fy+55SYEMfVThvNVLhyksOn+lp77w76oKpUv4d/sGA7i3HraXT2bG5pQ5XJd9\n",
       "aCKKX38ioxk5YYSs4SRnwX/VqZz0YXtCnpa0c9JiqfFFVe5XlZCiGd7GXkDKZSDtFIoRB+BSKGAO\n",
       "BJNaMYT5uOrNs5pIfq3vRWhKS1lorrsRdivDI6ih/bY/rMzKd0+ptX5ectjYd33Zt3jIelI/+e94\n",
       "qvZ+DAx5YVNlO0T4z56bmcspLVFFc8RTrf2YvttD+61itc7A27b+EtmUDQ0Q/gNOkFOKvnEWttIi\n",
       "Zo2T3/PYoAAoIQAAAFxBn1BFFSw7/wAKmY+1coAJx+5MM28N79wPAdXqstfMoBVV5I+LXmub/r6L\n",
       "sFyO0O1SIKr4cuZzwKK9FNZ8l5gxcinN92WObWlGqnMdQuyqJ2Opwd7aggmpLoABcQAAABgBn290\n",
       "Q38ADoHyUdZUzr52qNDrZ1XQk4AAAAATAZ9xakN/AALz7Y5Buif2G9AOOQAAAbFBm3ZJqEFsmUwI\n",
       "I//+tSqABXCh1ABEqSxctV+JvdM/ZfEWufgT1+7IndTf3iCTHjzjmWg1mXqj7k/NlsrofA0enMxk\n",
       "rzlktPuR1eglDbtqjtdq8sgEBgXIlp9ZXCR8snfuas2pvNVURaUDygpDCETOh8pTf8UrB8ilNS62\n",
       "6mLrZy0NWdTFH42ZYoF1kc4Jj2aAGBmR5S/HU6L71Rqg955FV5jgI3PyW3bEn6oDdRZKRR4AQHH3\n",
       "NLb2a963gC6cn/7fEOWG1RdhY1wOsUubLWchIwpW2iTT6I/sEH2fKYfVBXZ1u9a4Bg1goQEyxJor\n",
       "FrLNHzv147C1o3ubC4YHExPzhVsd7ou3oFIX8lUmCYbOTpw5mjFM6CkCADohUNhWq3ANMzsJ+avd\n",
       "ANwlQydyFHABM/yI858pEaipdC3vUXE5LDFmU0HN7wTTyn3BIkCVQn5lztzRYdDvi8R9zEXfHxkF\n",
       "3KzCV0RgHlr9XM/M4wLA3kAPUhZgg9DuJmE1idF6OkR5Xd7TxeDpkTjnZ1wU2KZkWt046DWHsY5H\n",
       "/fV5MeE95kN5i7R4EZ1bGiM0pd5AAEvAAAAAV0GflEUVLDv/AApRj67VzXrkAK5qBG1QvpwoEKVW\n",
       "F+VJnPc5O6NJBJVGdcxA6hybrADajoCV0012M73sSokqJUySWwzQFD60O3mb/rbf83Jo/uMkogA2\n",
       "oAAAABABn7N0Q38AAAYfq+nf3BZRAAAAFAGftWpDfwADidwt2cru2NLfaYNWAAABkUGbukmoQWyZ\n",
       "TAgj//61KoAFcKHUADdEdbamB8DH9l8SvsvfO/SRaAOEEWLJr+if6XztRJAP4+lJEJa1lVvH30un\n",
       "VJz8bYqZTD39tAMX0JpF9hAayJ914xLMrMMGefU1oCmtKpZxwO4qq3qpMtY3gMP1JKYHETE08NwH\n",
       "Skhxn2gAoKEPzivr2sJ1tt1u384THiJrBV0Hlgbi7wrArRhQd8KzopUjH/F0Rn3gJUGFssyJ4OXf\n",
       "Wn0QQm7Uxt2+Bg+AArdLGQ2Z7VZxAU8wt4m/N1fKNjEHfMhwbk55oVRKf7n4A3SlQpl5+78+x0VN\n",
       "84lSLakGKHeWh9gjkAhvT5HYVFY/u6pnvGTn9j4hWncVKNNhCP7bgwKRE6mAyxAuUIcUUewDP5qr\n",
       "YhA2KX1JE/E4mFO+jAD4zSBUnZgauh/2Buxi0zkoJiZ4s/AsWWJberCqicUVgh7G+izosnJtIC1z\n",
       "1FjcE1PVR8ycEqoF2mmOGvJtj/ILpHw9b1hr9bYt6D/1rAtkgDqqUGxshkUxJ8MIAAKnAAAAO0Gf\n",
       "2EUVLDv/AAQilRGJeptC0AH8UNee6lWs6MdkX+v1Fsb/RaA9SGNOiosL+MjRy7HriC0PLOVAABJx\n",
       "AAAAEAGf93RDfwAABh+r6d/cFlAAAAASAZ/5akN/AA3QBiZfiwr2/gP9AAABtUGb/kmoQWyZTAgj\n",
       "//61KoAFcKc7AC6rz5ybQIXD3ogJ/dp8fTfEthmnr5mkLzXt7ECsnAa3RhdOL034O1heape0qlsn\n",
       "pwNks7uDcKrIE3bZxBNl5ViuK9XFiC8P8/OOCbrFQHDQ3s6QnUcBjIelrYhKF/f8qdQWEvgvHISm\n",
       "SFQnyLPVtX0TSXFb/K3ntidIdqXDCakoEQb6PrkP7cNmVZaSSqfXaG9DWa9QKF7RhuO+7CAO/8Mp\n",
       "w/vmHf61PFhfrQoLPY1WT7jhea4BGsobxTdBQ3iienVdjzlHQXsJJzJBPiTs9HQJKj86HcCYFRsP\n",
       "e3sM9OsnA6+DBGL5RBtsWO0zg7aDXG0+48Oo4WXjsZ43RmCOZUm8gG7JL48fG0rk43u9uTSIOtm+\n",
       "7YSmTqe5qINwH3mCQ56XAkxJuoig3198iOLP/4iC17v25FCmJIzYigsWWqvNVQ6+lsoo1hoiTBNE\n",
       "/Y3q3uM38lNh8iscIB2XxRnHACMOdqNrRcDFWZBGKDLqvJ9nTIbsEPSlzntNSRE8wbAVDyZ8J/Lc\n",
       "rUtqhXl8vk/fHTfQaiM2Wpo8TdUGsQRAALuAAAAAHUGeHEUVLDv/AAShyq2Cv9H+4qeI2lh7uiKQ\n",
       "ADUhAAAAEgGeO3RDfwAdrTvmPLRKXnEE7QAAABQBnj1qQ38AHa7f3NfeHbZ8LAsEjAAAATtBmiJJ\n",
       "qEFsmUwIIf/+qlUACt+gkAAW9d5BEVHOAnd/q8AR4vXtjYD84kNdq2tM5wzWx9rkmQCybN4i3hqM\n",
       "08vJE4lPWPb37vsACIZDUxJ/bDt+o4o69BMyW2cdc+ZyBpwcefUHHB787kDN9NhK81d35PHTw+up\n",
       "3of2sury1dO54z5OYILZwKvtnG4TRlkr6zXd24nzocpnBTXx5a9VTblKgY9ABjDKMBvzG3pMDsLo\n",
       "VF/2IoP88Bhph7pl2VRpEsZLGLF317Y7CfsogOEv4M844N1bYqbkTGNuRlHsRnzBQvfdB1mrsUxL\n",
       "wGTY5cIMujrajcgY705cOMfSrxjZhClKRJSEIXYHWru6k/7gDB1l67W4GW+aXNP9mAh6KVegA6UK\n",
       "mn+c64tyLvrHTgFQFJqKsolAOVCdXjkAEHAAAAAbQZ5ARRUsO/8ABCKVGuxZoDh93X8Yl320jAN7\n",
       "AAAAEgGef3RDfwAB0D5FGsWn5ncGLAAAABQBnmFqQ38ADdAGMy7IX8I0LAsEjQAAAMtBmmZJqEFs\n",
       "mUwId//+qZYAKlzdbACavekHI5K7OG3m9qA0ZxPXMfy1Ph/qQXraoTodQD6ilaCrFvRqVcUM+rq8\n",
       "VH9eD/VBLu3x2eeI1PcdXuCUpCVXXK/NwoVykfHqHRnnUakoFc7jtGKqSkm8ISQsKX9wSHfcH0Jp\n",
       "CIg0SwacJiJmVBjD5nmq2sqWefUCCOGTzA/XdwCIFf9hNO/49hjUAyxCUHJtyrkH+1za4/wE46SK\n",
       "4toGGb9o6hy2kb9AS8iMgx2EdRZrQAC8gAAAABxBnoRFFSw7/wAEIpURbXtGEVy6MCawgO7+YCBh\n",
       "AAAAEgGeo3RDfwAGl6v5xVlX73cGLQAAABQBnqVqQ38AHa7f67zAobZ8LAsEjQAAABZBmqdJqEFs\n",
       "mUwIb//+p4QAAAMAACbhAAAE/21vb3YAAABsbXZoZAAAAAAAAAAAAAAAAAAAA+gAAA+gAAEAAAEA\n",
       "AAAAAAAAAAAAAAABAAAAAAAAAAAAAAAAAAAAAQAAAAAAAAAAAAAAAAAAQAAAAAAAAAAAAAAAAAAA\n",
       "AAAAAAAAAAAAAAAAAAAAAAIAAAQpdHJhawAAAFx0a2hkAAAAAwAAAAAAAAAAAAAAAQAAAAAAAA+g\n",
       "AAAAAAAAAAAAAAAAAAAAAAABAAAAAAAAAAAAAAAAAAAAAQAAAAAAAAAAAAAAAAAAQAAAAAH0AAAB\n",
       "kAAAAAAAJGVkdHMAAAAcZWxzdAAAAAAAAAABAAAPoAAACAAAAQAAAAADoW1kaWEAAAAgbWRoZAAA\n",
       "AAAAAAAAAAAAAAAAKAAAAKAAVcQAAAAAAC1oZGxyAAAAAAAAAAB2aWRlAAAAAAAAAAAAAAAAVmlk\n",
       "ZW9IYW5kbGVyAAAAA0xtaW5mAAAAFHZtaGQAAAABAAAAAAAAAAAAAAAkZGluZgAAABxkcmVmAAAA\n",
       "AAAAAAEAAAAMdXJsIAAAAAEAAAMMc3RibAAAALRzdHNkAAAAAAAAAAEAAACkYXZjMQAAAAAAAAAB\n",
       "AAAAAAAAAAAAAAAAAAAAAAH0AZAASAAAAEgAAAAAAAAAAQAAAAAAAAAAAAAAAAAAAAAAAAAAAAAA\n",
       "AAAAAAAAAAAAABj//wAAADJhdmNDAWQAFv/hABlnZAAWrNlAgDPn4QAAAwABAAADABQPFi2WAQAG\n",
       "aOvjyyLAAAAAHHV1aWRraEDyXyRPxbo5pRvPAyPzAAAAAAAAABhzdHRzAAAAAAAAAAEAAAAoAAAE\n",
       "AAAAABRzdHNzAAAAAAAAAAEAAAABAAABQGN0dHMAAAAAAAAAJgAAAAMAAAgAAAAAAQAAFAAAAAAB\n",
       "AAAIAAAAAAEAAAAAAAAAAQAABAAAAAABAAAUAAAAAAEAAAgAAAAAAQAAAAAAAAABAAAEAAAAAAEA\n",
       "ABQAAAAAAQAACAAAAAABAAAAAAAAAAEAAAQAAAAAAQAAFAAAAAABAAAIAAAAAAEAAAAAAAAAAQAA\n",
       "BAAAAAABAAAUAAAAAAEAAAgAAAAAAQAAAAAAAAABAAAEAAAAAAEAABQAAAAAAQAACAAAAAABAAAA\n",
       "AAAAAAEAAAQAAAAAAQAAFAAAAAABAAAIAAAAAAEAAAAAAAAAAQAABAAAAAABAAAUAAAAAAEAAAgA\n",
       "AAAAAQAAAAAAAAABAAAEAAAAAAEAABQAAAAAAQAACAAAAAABAAAAAAAAAAEAAAQAAAAAAQAACAAA\n",
       "AAAcc3RzYwAAAAAAAAABAAAAAQAAACgAAAABAAAAtHN0c3oAAAAAAAAAAAAAACgAAB4dAAAEpQAA\n",
       "BbkAAAbZAAACwwAAAqgAAAHHAAAEpQAAARYAAAEgAAAAPgAAAjQAAACAAAAAIgAAABgAAAIdAAAA\n",
       "YAAAABwAAAAXAAABtQAAAFsAAAAUAAAAGAAAAZUAAAA/AAAAFAAAABYAAAG5AAAAIQAAABYAAAAY\n",
       "AAABPwAAAB8AAAAWAAAAGAAAAM8AAAAgAAAAFgAAABgAAAAaAAAAFHN0Y28AAAAAAAAAAQAAACwA\n",
       "AABidWR0YQAAAFptZXRhAAAAAAAAACFoZGxyAAAAAAAAAABtZGlyYXBwbAAAAAAAAAAAAAAAAC1p\n",
       "bHN0AAAAJal0b28AAAAdZGF0YQAAAAEAAAAATGF2ZjU2LjQwLjEwMQ==\n",
       "\">\n",
       "  Your browser does not support the video tag.\n",
       "</video>"
      ],
      "text/plain": [
       "<matplotlib.animation.FuncAnimation at 0x7f0418b3b4a8>"
      ]
     },
     "execution_count": 23,
     "metadata": {},
     "output_type": "execute_result"
    }
   ],
   "source": [
    "ani"
   ]
  },
  {
   "cell_type": "code",
   "execution_count": null,
   "metadata": {},
   "outputs": [],
   "source": []
  }
 ],
 "metadata": {
  "kernelspec": {
   "display_name": "Python 3 (FastAI)",
   "language": "python",
   "name": "fastai"
  },
  "language_info": {
   "codemirror_mode": {
    "name": "ipython",
    "version": 3
   },
   "file_extension": ".py",
   "mimetype": "text/x-python",
   "name": "python",
   "nbconvert_exporter": "python",
   "pygments_lexer": "ipython3",
   "version": "3.6.3"
  }
 },
 "nbformat": 4,
 "nbformat_minor": 2
}
