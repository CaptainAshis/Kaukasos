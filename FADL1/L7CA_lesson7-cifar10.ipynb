{
 "cells": [
  {
   "cell_type": "markdown",
   "metadata": {},
   "source": [
    "# CIFAR 10\n",
    "\n",
    "21 Jan 2018"
   ]
  },
  {
   "cell_type": "code",
   "execution_count": 1,
   "metadata": {},
   "outputs": [],
   "source": [
    "%matplotlib inline\n",
    "%reload_ext autoreload\n",
    "%autoreload 2"
   ]
  },
  {
   "cell_type": "markdown",
   "metadata": {},
   "source": [
    "You can get thed ata via:\n",
    "```\n",
    "wget http://pjreddie.com/media/files/cifar.tgz\n",
    "```"
   ]
  },
  {
   "cell_type": "code",
   "execution_count": 3,
   "metadata": {},
   "outputs": [],
   "source": [
    "from fastai.conv_learner import *\n",
    "PATH = \"data/cifar10/\"\n",
    "os.makedirs(PATH, exist_ok=True)"
   ]
  },
  {
   "cell_type": "code",
   "execution_count": 4,
   "metadata": {},
   "outputs": [],
   "source": [
    "classes = ('plane', 'car', 'bird', 'cat', 'deer', 'dog', 'frog', 'horse', 'ship', 'truck')\n",
    "stats = (np.array([ 0.4914 ,  0.48216,  0.44653]), np.array([ 0.24703,  0.24349,  0.26159]))"
   ]
  },
  {
   "cell_type": "code",
   "execution_count": 15,
   "metadata": {},
   "outputs": [],
   "source": [
    "def get_data(sz,bs):\n",
    "    tfms = tfms_from_stats(stats, sz, aug_tfms=[RandomFlip()], pad=sz//8)\n",
    "    return ImageClassifierData.from_paths(PATH, val_name='test', tfms=tfms, bs=bs)"
   ]
  },
  {
   "cell_type": "code",
   "execution_count": 16,
   "metadata": {},
   "outputs": [],
   "source": [
    "bs=256"
   ]
  },
  {
   "cell_type": "markdown",
   "metadata": {},
   "source": [
    "## Look at dem der data"
   ]
  },
  {
   "cell_type": "code",
   "execution_count": 17,
   "metadata": {},
   "outputs": [],
   "source": [
    "data = get_data(32, 4)"
   ]
  },
  {
   "cell_type": "code",
   "execution_count": 18,
   "metadata": {},
   "outputs": [],
   "source": [
    "x,y = next(iter(data.trn_dl))"
   ]
  },
  {
   "cell_type": "code",
   "execution_count": 19,
   "metadata": {},
   "outputs": [
    {
     "data": {
      "image/png": "[encoded data removed]",
      "text/plain": [
       "<matplotlib.figure.Figure at 0x7fe5e778df28>"
      ]
     },
     "metadata": {},
     "output_type": "display_data"
    }
   ],
   "source": [
    "plt.imshow(data.trn_ds.denorm(x)[0]);"
   ]
  },
  {
   "cell_type": "code",
   "execution_count": 25,
   "metadata": {},
   "outputs": [
    {
     "data": {
      "image/png": "[encoded data removed]",
      "text/plain": [
       "<matplotlib.figure.Figure at 0x7fe5e72efa58>"
      ]
     },
     "metadata": {},
     "output_type": "display_data"
    }
   ],
   "source": [
    "plt.imshow(data.trn_ds.denorm(x)[3]);"
   ]
  },
  {
   "cell_type": "markdown",
   "metadata": {},
   "source": [
    "## Fully Connected Model"
   ]
  },
  {
   "cell_type": "code",
   "execution_count": 28,
   "metadata": {},
   "outputs": [],
   "source": [
    "data = get_data(32,bs)"
   ]
  },
  {
   "cell_type": "code",
   "execution_count": 29,
   "metadata": {},
   "outputs": [],
   "source": [
    "lr=1e-2"
   ]
  },
  {
   "cell_type": "markdown",
   "metadata": {},
   "source": [
    "From [this notebook](https://github.com/KeremTurgutlu/deeplearning/blob/master/Exploring%20Optimizers.ipynb) by K.Turgutlu."
   ]
  },
  {
   "cell_type": "code",
   "execution_count": 30,
   "metadata": {},
   "outputs": [],
   "source": [
    "class SimpleNet(nn.Module):\n",
    "    def __init__(self, layers):\n",
    "        super().__init__()\n",
    "        self.layers = nn.ModuleList([\n",
    "            nn.Linear(layers[i], layers[i+1]) for i in range(len(layers) - 1)])\n",
    "    \n",
    "    def forward(self, x):\n",
    "        x = x.view(x.size(0), -1)\n",
    "        for λ in self.layers:\n",
    "            λ_x = λ(x)\n",
    "            x = F.relu(λ_x)\n",
    "        return F.log_softmax(λ_x, dim=-1)"
   ]
  },
  {
   "cell_type": "code",
   "execution_count": 32,
   "metadata": {},
   "outputs": [],
   "source": [
    "learn = ConvLearner.from_model_data(SimpleNet([32*32*3, 40, 10]), data)"
   ]
  },
  {
   "cell_type": "code",
   "execution_count": 33,
   "metadata": {},
   "outputs": [
    {
     "data": {
      "text/plain": [
       "(SimpleNet(\n",
       "   (layers): ModuleList(\n",
       "     (0): Linear(in_features=3072, out_features=40)\n",
       "     (1): Linear(in_features=40, out_features=10)\n",
       "   )\n",
       " ), [122880, 40, 400, 10])"
      ]
     },
     "execution_count": 33,
     "metadata": {},
     "output_type": "execute_result"
    }
   ],
   "source": [
    "learn, [o.numel() for o in learn.model.parameters()]"
   ]
  },
  {
   "cell_type": "code",
   "execution_count": 35,
   "metadata": {},
   "outputs": [
    {
     "data": {
      "text/plain": [
       "[Parameter containing:\n",
       " -6.4338e-03  1.5326e-02 -1.5924e-02  ...   1.1547e-02 -9.0885e-03 -1.4649e-02\n",
       "  7.7094e-03 -1.0558e-02 -8.9114e-03  ...   2.8448e-03  1.5704e-02  3.5775e-03\n",
       " -9.6430e-03  6.4865e-03 -1.5673e-02  ...  -4.0456e-03  1.0989e-03  1.1022e-02\n",
       "                 ...                   ⋱                   ...                \n",
       "  2.1720e-03 -7.6407e-03 -4.6671e-03  ...  -1.9418e-03 -3.6204e-03 -1.0774e-02\n",
       "  7.8809e-03 -1.6233e-02  1.1299e-02  ...   1.7158e-03  1.6630e-02 -3.0536e-03\n",
       "  1.6010e-02  1.0412e-02  8.9523e-03  ...  -1.0815e-02  9.0351e-03  5.6351e-04\n",
       " [torch.cuda.FloatTensor of size 40x3072 (GPU 0)], Parameter containing:\n",
       " 1.00000e-02 *\n",
       "   1.1818\n",
       "   0.4050\n",
       "  -0.6216\n",
       "   0.3488\n",
       "  -0.8495\n",
       "  -1.0857\n",
       "  -0.7687\n",
       "   1.5006\n",
       "   1.2637\n",
       "   0.8516\n",
       "  -1.4815\n",
       "   1.3691\n",
       "  -1.2252\n",
       "  -1.6819\n",
       "   0.5080\n",
       "  -0.5053\n",
       "  -1.0665\n",
       "  -1.2321\n",
       "   0.4002\n",
       "   0.8097\n",
       "  -0.9507\n",
       "   1.3731\n",
       "   1.7077\n",
       "   1.0292\n",
       "   0.6423\n",
       "  -1.4595\n",
       "  -0.5423\n",
       "   1.3911\n",
       "   0.3411\n",
       "   1.4390\n",
       "  -0.4499\n",
       "  -1.2129\n",
       "   1.6920\n",
       "   1.4386\n",
       "  -1.4377\n",
       "  -0.9877\n",
       "  -0.8084\n",
       "  -1.5219\n",
       "  -0.4007\n",
       "   1.0414\n",
       " [torch.cuda.FloatTensor of size 40 (GPU 0)], Parameter containing:\n",
       " \n",
       " Columns 0 to 5 \n",
       "  8.6801e-02  3.7416e-02  1.0370e-01  4.4919e-02  4.5619e-02  4.6247e-02\n",
       "  1.4306e-01 -1.0588e-01 -1.5436e-01  1.1478e-02 -9.1797e-03 -9.1000e-02\n",
       "  5.8271e-02  2.4928e-03 -1.1124e-01  1.4486e-01  7.6142e-02  2.5829e-02\n",
       " -7.0052e-02 -9.2389e-02  1.5562e-01 -5.5464e-02 -1.3787e-01 -1.5155e-01\n",
       " -9.1681e-02  3.8297e-02 -1.3740e-01  5.0642e-02 -9.3262e-02 -1.5084e-01\n",
       "  5.8746e-02 -1.1580e-01 -4.3339e-02 -1.3150e-01  1.4065e-01 -1.1542e-01\n",
       "  3.2343e-02  2.9656e-02  6.5543e-03 -1.1775e-01 -1.4875e-02  6.2479e-02\n",
       "  1.5704e-01 -3.3403e-02  1.1596e-03  5.1616e-02  4.5557e-02  7.6497e-02\n",
       " -2.4083e-02 -1.0407e-01 -7.7410e-02  5.9063e-02 -7.5437e-02  1.0477e-02\n",
       "  1.1254e-01 -9.5520e-02  1.3292e-01 -1.1503e-01  1.4713e-01  3.7823e-02\n",
       " \n",
       " Columns 6 to 11 \n",
       "  3.8080e-02  4.2408e-02 -9.3070e-02  1.5767e-01 -1.3698e-02  9.7681e-02\n",
       " -2.2607e-02 -1.0351e-01 -1.0290e-02 -2.1549e-02 -7.1397e-02 -3.7617e-02\n",
       " -1.4683e-01  1.3258e-01 -1.4957e-01 -1.3930e-01 -2.1421e-02  1.3934e-01\n",
       "  4.5519e-03 -9.9547e-02  9.9690e-03  1.1513e-01 -3.3572e-02 -1.5733e-01\n",
       "  8.2210e-02  9.1934e-02  6.2045e-02 -3.4570e-02  1.4985e-01 -1.3507e-01\n",
       "  1.2778e-01 -5.2219e-02 -2.2294e-02 -1.1225e-01  1.3370e-01  1.4953e-01\n",
       "  1.5090e-01  8.4285e-02  7.2498e-02  1.1702e-01 -6.0399e-02 -1.4532e-01\n",
       "  4.2595e-02 -8.2451e-02 -4.1499e-02 -3.8187e-02 -7.0404e-02  5.1409e-03\n",
       " -1.8837e-02 -1.9272e-03  8.5301e-02 -1.2249e-01  7.1021e-02  1.1072e-01\n",
       " -1.1597e-01  4.9250e-02 -1.2080e-01 -3.3544e-02 -7.4233e-02  1.6913e-02\n",
       " \n",
       " Columns 12 to 17 \n",
       " -1.2103e-02  7.6954e-02  1.7974e-02  1.4286e-01  5.1473e-04 -4.9305e-02\n",
       " -2.9159e-02 -4.1892e-02  6.3930e-02  4.4488e-02  4.9413e-02 -5.7243e-02\n",
       " -1.0029e-01 -1.4446e-01 -5.2034e-02 -1.4917e-01  1.0917e-01 -2.3731e-02\n",
       " -2.9791e-02  5.0038e-02 -8.0889e-02 -1.1031e-01  7.1617e-02 -2.9297e-02\n",
       "  1.1470e-02  1.0247e-01 -1.3271e-01  6.5370e-02  1.6612e-02  5.7051e-02\n",
       "  2.3118e-02 -2.1761e-02  4.6787e-02 -1.8582e-02  7.1324e-02  2.7515e-03\n",
       "  8.6372e-02  1.2324e-02  6.5606e-02 -1.4775e-01  9.6966e-02  7.8896e-03\n",
       " -3.7927e-02  4.6469e-02  9.4041e-02  6.4906e-02  1.0142e-01  1.2192e-01\n",
       " -1.3265e-01  1.3982e-01 -1.9722e-02  1.2072e-01  2.5481e-02 -9.1244e-02\n",
       " -1.3479e-01  8.6774e-02  8.9838e-02  1.1602e-01 -4.7814e-03 -8.5533e-03\n",
       " \n",
       " Columns 18 to 23 \n",
       "  4.9005e-03  2.8353e-02 -5.0069e-02 -8.2577e-02 -1.0067e-01 -3.1669e-02\n",
       "  1.1717e-01 -1.4600e-04 -6.6204e-02  3.6089e-02  1.1006e-03 -2.3846e-02\n",
       " -1.5540e-01  7.2478e-02  1.3586e-01 -1.5251e-01  1.2055e-01 -1.2846e-01\n",
       "  3.2904e-02 -1.3627e-01  1.1197e-01  1.3128e-01 -6.7845e-02  1.1450e-01\n",
       "  3.4183e-02 -7.3093e-02 -5.3922e-03  3.6035e-02 -8.6228e-02 -9.7337e-02\n",
       " -2.9996e-02 -1.1263e-01  1.3831e-01  1.2991e-01  4.7657e-02 -7.3355e-03\n",
       "  1.0182e-01  2.2332e-02  9.4982e-03  1.1181e-01  1.0542e-01 -1.2522e-01\n",
       " -1.0176e-01  7.4776e-02  8.3846e-02 -8.5992e-02 -1.4595e-01  7.9327e-02\n",
       "  2.8678e-02 -8.7621e-02  1.8703e-02 -7.9041e-02  1.5697e-02 -1.4209e-01\n",
       " -1.3016e-01  4.6882e-02 -1.5267e-01 -1.2202e-01 -1.3364e-01  8.3462e-02\n",
       " \n",
       " Columns 24 to 29 \n",
       "  1.4243e-01  9.3285e-02 -8.7899e-03 -8.7049e-02 -3.8009e-02  1.2771e-01\n",
       "  6.8342e-02  6.7467e-02 -1.3538e-01 -1.5746e-01 -7.8452e-03 -4.4627e-02\n",
       " -8.4670e-02  7.6598e-02 -1.8531e-02  8.6243e-02  5.8498e-02 -1.0995e-01\n",
       "  1.2024e-01  1.1749e-01  2.0818e-03 -6.2575e-02 -1.1825e-01  1.0089e-01\n",
       " -4.1489e-02 -1.3450e-01  1.5430e-01 -2.7631e-02 -4.9551e-02 -1.5551e-01\n",
       " -5.9554e-02 -8.3634e-02 -1.0152e-01  1.1785e-01 -4.4703e-08  3.0393e-02\n",
       " -1.2858e-02  2.1575e-02 -1.0167e-01 -4.0640e-02 -1.5129e-01 -6.2873e-02\n",
       "  6.7295e-02 -1.7246e-02 -9.4087e-02  5.7650e-02  6.4488e-02  6.4629e-02\n",
       "  6.8665e-03 -1.2148e-01 -8.1583e-02 -2.8053e-02 -2.3468e-02  8.5626e-02\n",
       "  1.2668e-01 -1.2924e-01  3.8747e-02  9.6844e-02 -1.5437e-01  1.2100e-01\n",
       " \n",
       " Columns 30 to 35 \n",
       " -1.4120e-01 -7.8899e-02 -7.8322e-02 -4.2448e-02 -8.6310e-02 -9.0633e-02\n",
       " -1.6721e-02  7.6731e-02 -1.1141e-01  3.4733e-02  1.4340e-01 -1.3316e-01\n",
       " -1.2631e-01 -2.3790e-02  1.2829e-01  4.3780e-02  7.8817e-02  1.1551e-01\n",
       " -1.1541e-01 -1.2867e-01 -9.7672e-02  1.1973e-01  4.4565e-02 -7.0965e-02\n",
       "  1.1443e-01  8.2161e-03 -6.6429e-02 -1.0647e-01 -6.3045e-02  1.5760e-01\n",
       "  1.6508e-02  1.5697e-01 -9.1068e-02 -8.1567e-02 -1.5388e-01  2.2412e-02\n",
       " -1.4331e-01 -1.4237e-01 -9.6682e-02 -6.5590e-03  1.2662e-01  1.5638e-01\n",
       " -1.3527e-01 -6.1302e-03 -9.1939e-02  1.0540e-01 -1.5298e-01  5.2210e-02\n",
       "  8.2893e-02 -1.0432e-01 -1.5057e-01 -1.3612e-01  1.0260e-01  2.1897e-02\n",
       " -9.4522e-02  5.8573e-02 -8.8335e-02 -2.5232e-02 -8.8925e-02 -5.5935e-03\n",
       " \n",
       " Columns 36 to 39 \n",
       "  5.6146e-02 -4.0159e-02 -5.2018e-02 -1.5377e-01\n",
       "  5.2946e-02 -9.9824e-02 -7.6580e-02 -9.1102e-02\n",
       " -3.7970e-02  9.1700e-02 -1.3923e-01  8.1569e-02\n",
       "  4.3283e-02 -1.1587e-01 -1.2450e-01  5.1439e-02\n",
       "  8.0527e-02 -4.6511e-02  3.8449e-02  1.2836e-01\n",
       " -5.7428e-02  9.5370e-02  6.1964e-02  1.2384e-02\n",
       " -5.4999e-02  1.3108e-01 -3.6413e-02 -1.0240e-01\n",
       "  2.4437e-02 -6.6528e-02  6.5956e-02 -8.8857e-02\n",
       " -1.3801e-01 -7.4088e-02  3.9961e-02  5.7775e-03\n",
       "  1.1978e-01  2.0930e-02  2.4217e-02  4.3737e-02\n",
       " [torch.cuda.FloatTensor of size 10x40 (GPU 0)], Parameter containing:\n",
       " -0.0877\n",
       " -0.1210\n",
       " -0.0004\n",
       "  0.0887\n",
       " -0.0368\n",
       "  0.0587\n",
       " -0.0683\n",
       "  0.1318\n",
       "  0.0868\n",
       "  0.0967\n",
       " [torch.cuda.FloatTensor of size 10 (GPU 0)]]"
      ]
     },
     "execution_count": 35,
     "metadata": {},
     "output_type": "execute_result"
    }
   ],
   "source": [
    "[o for o in learn.model.parameters()]"
   ]
  },
  {
   "cell_type": "code",
   "execution_count": null,
   "metadata": {},
   "outputs": [],
   "source": []
  }
 ],
 "metadata": {
  "kernelspec": {
   "display_name": "Python 3 (FasterAI)",
   "language": "python",
   "name": "sdnfastai"
  },
  "language_info": {
   "codemirror_mode": {
    "name": "ipython",
    "version": 3
   },
   "file_extension": ".py",
   "mimetype": "text/x-python",
   "name": "python",
   "nbconvert_exporter": "python",
   "pygments_lexer": "ipython3",
   "version": "3.6.4"
  }
 },
 "nbformat": 4,
 "nbformat_minor": 2
}
