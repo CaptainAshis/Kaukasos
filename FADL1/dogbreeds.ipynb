{
 "cells": [
  {
   "cell_type": "markdown",
   "metadata": {},
   "source": [
    "## Kaggle Dogbreeds"
   ]
  },
  {
   "cell_type": "code",
   "execution_count": 1,
   "metadata": {},
   "outputs": [],
   "source": [
    "%reload_ext autoreload\n",
    "%autoreload 2\n",
    "%matplotlib inline"
   ]
  },
  {
   "cell_type": "code",
   "execution_count": 2,
   "metadata": {},
   "outputs": [],
   "source": [
    "from fastai.imports import *\n",
    "from fastai.conv_learner import *\n",
    "from fastai.model import *\n",
    "from fastai.dataset import *\n",
    "from fastai.sgdr import *\n",
    "\n",
    "from fastai.plots import *"
   ]
  },
  {
   "cell_type": "code",
   "execution_count": 3,
   "metadata": {},
   "outputs": [],
   "source": [
    "PATH = \"data/dogbreeds/\"\n",
    "TRAIN = \"train/\"; VALID = \"valid/\"; TEST = \"test/\"; SUBM = \"subm/\"; RSLT = \"results/\""
   ]
  },
  {
   "cell_type": "code",
   "execution_count": 4,
   "metadata": {},
   "outputs": [],
   "source": [
    "sz = 224\n",
    "bs = 12\n",
    "# arch = resnext101_64\n",
    "arch = resnext50\n",
    "# arch = resnet34\n",
    "# arch = resnet50"
   ]
  },
  {
   "cell_type": "markdown",
   "metadata": {},
   "source": [
    "Explanation of the following code: `get_cv_idxs(..)`:\n",
    "```\n",
    "def get_cv_idxs(n, cv_idx=4, val_pct=0.2, seed=42):\n",
    "1    np.random.seed(seed)\n",
    "2    n_val = int(val_pct*n)\n",
    "3    idx_start = cv_idx*n_val\n",
    "4    idxs = np.random.permutation(n)\n",
    "5    return idxs[idx_start:idx_start+n_val]\n",
    "```\n",
    "function takes in `n` number, `cv_idx` cross-validation index (default `4`), `val_pct` validation percent (default 20%), and a seed (default meaning of life).\n",
    "\n",
    "* Line 1 seeds the NumPy random number generator (ensures reproducible results).\n",
    "* Line 2 sets `n_val` number of valids to be `floor(`validation percent `x` total number`)`.\n",
    "* Line 3 sets `idx_start` starting index to be the number of valids `n_val` times the cross-validation index.\n",
    "* Line 4 sets the indices `idxs` to be a random permutation of all integers `[0:n)`\n",
    "* Line 5 returns a `n_val` wide slice of the `idxs` array starting at `idx_start`\n",
    "\n",
    "I don't know yet what the significance of `cv_idx` is."
   ]
  },
  {
   "cell_type": "code",
   "execution_count": 5,
   "metadata": {},
   "outputs": [],
   "source": [
    "# Counts lines in labels.csv. File contains all labels --> can use as a filecount\n",
    "# Pass filecount n into val_idxs(n) \n",
    "label_csv = f'{PATH}labels.csv'\n",
    "n = len(list(open(label_csv)))-1\n",
    "val_idxs = get_cv_idxs(n)"
   ]
  },
  {
   "cell_type": "code",
   "execution_count": 34,
   "metadata": {},
   "outputs": [],
   "source": [
    "tfms = tfms_from_model(arch, bs, aug_tfms=transforms_side_on, max_zoom=1.1)\n",
    "data = ImageClassifierData.from_csv(path=PATH, folder='train.csv', csv_fname=label_csv,\n",
    "                                    bs=bs, tfms=tfms, val_idxs=val_idxs, suffix='.jpg')"
   ]
  },
  {
   "cell_type": "code",
   "execution_count": 35,
   "metadata": {},
   "outputs": [],
   "source": [
    "learn = ConvLearner.pretrained(arch, data=data, precompute=True)"
   ]
  },
  {
   "cell_type": "code",
   "execution_count": 36,
   "metadata": {},
   "outputs": [
    {
     "data": {
      "text/plain": [
       "array(['train.csv/000bec180eb18c7604dcecc8fe0dba07.jpg', 'train.csv/001cdf01b096e06d78e9e5112d419397.jpg',\n",
       "       'train.csv/00214f311d5d2247d5dfe4fe24b2303d.jpg', 'train.csv/00290d3e1fdd27226ba27a8ce248ce85.jpg',\n",
       "       'train.csv/002a283a315af96eaea0e28e7163b21b.jpg', 'train.csv/003df8b8a8b05244b1d920bb6cf451f9.jpg',\n",
       "       'train.csv/004396df1acd0f1247b740ca2b14616e.jpg', 'train.csv/00693b8bc2470375cc744a6391d397ec.jpg',\n",
       "       'train.csv/0075dc49dab4024d12fafe67074d8a81.jpg', 'train.csv/00792e341f3c6eb33663e415d0715370.jpg'],\n",
       "      dtype='<U46')"
      ]
     },
     "execution_count": 36,
     "metadata": {},
     "output_type": "execute_result"
    }
   ],
   "source": [
    "data.trn_dl.dataset.fnames[:10]"
   ]
  },
  {
   "cell_type": "code",
   "execution_count": 37,
   "metadata": {},
   "outputs": [
    {
     "data": {
      "text/plain": [
       "[('affenpinscher',),\n",
       " ('afghan_hound',),\n",
       " ('african_hunting_dog',),\n",
       " ('airedale',),\n",
       " ('american_staffordshire_terrier',),\n",
       " ('appenzeller',),\n",
       " ('australian_terrier',),\n",
       " ('basenji',),\n",
       " ('basset',),\n",
       " ('beagle',)]"
      ]
     },
     "execution_count": 37,
     "metadata": {},
     "output_type": "execute_result"
    }
   ],
   "source": [
    "list(zip(data.classes))[:10]"
   ]
  },
  {
   "cell_type": "code",
   "execution_count": 38,
   "metadata": {},
   "outputs": [
    {
     "data": {
      "application/vnd.jupyter.widget-view+json": {
       "model_id": "289bf8bd864242c7986eafcaa07b59f7",
       "version_major": 2,
       "version_minor": 0
      },
      "text/plain": [
       "A Jupyter Widget"
      ]
     },
     "metadata": {},
     "output_type": "display_data"
    },
    {
     "name": "stdout",
     "output_type": "stream",
     "text": [
      "  3%|▎         | 20/682 [00:00<00:11, 59.50it/s, loss=5.52]"
     ]
    },
    {
     "name": "stderr",
     "output_type": "stream",
     "text": [
      "/home/wnixalo/miniconda3/envs/fastai/lib/python3.6/site-packages/torch/nn/modules/container.py:72: UserWarning: Implicit dimension choice for log_softmax has been deprecated. Change the call to include dim=X as an argument.\n",
      "  input = module(input)\n"
     ]
    },
    {
     "name": "stdout",
     "output_type": "stream",
     "text": [
      " 78%|███████▊  | 535/682 [00:03<00:00, 167.96it/s, loss=20.9]\n",
      "                                                             \r"
     ]
    },
    {
     "data": {
      "image/png": "[encoded data removed]",
      "text/plain": [
       "<matplotlib.figure.Figure at 0x7fc23706e668>"
      ]
     },
     "metadata": {},
     "output_type": "display_data"
    }
   ],
   "source": [
    "lrf = learn.lr_find()\n",
    "learn.sched.plot()"
   ]
  },
  {
   "cell_type": "code",
   "execution_count": 10,
   "metadata": {},
   "outputs": [],
   "source": [
    "lr = 2e-2"
   ]
  },
  {
   "cell_type": "code",
   "execution_count": 11,
   "metadata": {},
   "outputs": [
    {
     "data": {
      "application/vnd.jupyter.widget-view+json": {
       "model_id": "f5540c4848fd423399e19a088ed6b6d7",
       "version_major": 2,
       "version_minor": 0
      },
      "text/plain": [
       "A Jupyter Widget"
      ]
     },
     "metadata": {},
     "output_type": "display_data"
    },
    {
     "name": "stdout",
     "output_type": "stream",
     "text": [
      "                                                            \n",
      "                                                            \n",
      "                                                            \n",
      "                                                            \n",
      "                                                            \n",
      "                                                            \n",
      "                                                            \n",
      "                                                            \n",
      "\n",
      "                                                            \n",
      "                                                            \n",
      "                                                            \n",
      "                                                            \n",
      "                                                            \n",
      "\n",
      "\n",
      "                                                            \n",
      "\n",
      "  0%|          | 0/682 [00:00<?, ?it/s, loss=5.72]\u001b[A\n",
      "  0%|          | 1/682 [00:00<03:30,  3.23it/s, loss=5.72]\u001b[A\n",
      "  0%|          | 1/682 [00:00<03:58,  2.86it/s, loss=5.59]\u001b[A\n",
      "  0%|          | 1/682 [00:00<04:28,  2.54it/s, loss=5.39]\u001b[A\n",
      "  0%|          | 1/682 [00:00<04:56,  2.30it/s, loss=5.28]\u001b[A\n",
      "  1%|          | 4/682 [00:00<01:14,  9.15it/s, loss=5.28]\u001b[A\n",
      "  1%|          | 4/682 [00:00<01:20,  8.41it/s, loss=5.33]\u001b[A"
     ]
    },
    {
     "name": "stderr",
     "output_type": "stream",
     "text": [
      "/home/wnixalo/miniconda3/envs/fastai/lib/python3.6/site-packages/torch/nn/modules/container.py:72: UserWarning: Implicit dimension choice for log_softmax has been deprecated. Change the call to include dim=X as an argument.\n",
      "  input = module(input)\n"
     ]
    },
    {
     "name": "stdout",
     "output_type": "stream",
     "text": [
      "\n",
      "  1%|          | 4/682 [00:00<01:27,  7.79it/s, loss=5.39]\u001b[A\n",
      "  1%|          | 4/682 [00:00<01:33,  7.23it/s, loss=5.4] \u001b[A\n",
      "  1%|          | 7/682 [00:00<00:53, 12.63it/s, loss=5.4]\u001b[A\n",
      "  1%|          | 7/682 [00:00<00:57, 11.77it/s, loss=5.47]\u001b[A\n",
      "  1%|          | 7/682 [00:00<01:01, 11.04it/s, loss=5.45]\u001b[A\n",
      "  1%|          | 7/682 [00:00<01:04, 10.41it/s, loss=5.45]\u001b[A\n",
      "  1%|▏         | 10/682 [00:00<00:45, 14.83it/s, loss=5.45]\u001b[A\n",
      "  1%|▏         | 10/682 [00:00<00:47, 14.02it/s, loss=5.47]\u001b[A\n",
      "  1%|▏         | 10/682 [00:00<00:50, 13.27it/s, loss=5.47]\u001b[A\n",
      "  1%|▏         | 10/682 [00:00<00:53, 12.58it/s, loss=5.44]\u001b[A\n",
      "  2%|▏         | 13/682 [00:00<00:40, 16.32it/s, loss=5.44]\u001b[A\n",
      "  2%|▏         | 13/682 [00:00<00:43, 15.56it/s, loss=5.43]\u001b[A\n",
      "  2%|▏         | 13/682 [00:00<00:44, 14.88it/s, loss=5.41]\u001b[A\n",
      "  2%|▏         | 13/682 [00:00<00:46, 14.25it/s, loss=5.41]\u001b[A\n",
      "  2%|▏         | 16/682 [00:00<00:38, 17.51it/s, loss=5.41]\u001b[A\n",
      "  2%|▏         | 16/682 [00:00<00:39, 16.79it/s, loss=5.42]\u001b[A\n",
      "  2%|▏         | 16/682 [00:00<00:41, 16.16it/s, loss=5.45]\u001b[A\n",
      "  2%|▏         | 16/682 [00:01<00:42, 15.56it/s, loss=5.46]\u001b[A\n",
      "  3%|▎         | 19/682 [00:01<00:35, 18.45it/s, loss=5.46]\u001b[A\n",
      "  3%|▎         | 19/682 [00:01<00:37, 17.78it/s, loss=5.44]\u001b[A\n",
      "  3%|▎         | 19/682 [00:01<00:38, 17.16it/s, loss=5.45]\u001b[A\n",
      "  3%|▎         | 19/682 [00:01<00:39, 16.58it/s, loss=5.42]\u001b[A\n",
      "  3%|▎         | 22/682 [00:01<00:34, 19.18it/s, loss=5.42]\u001b[A\n",
      "  3%|▎         | 22/682 [00:01<00:35, 18.55it/s, loss=5.42]\u001b[A\n",
      "  3%|▎         | 22/682 [00:01<00:36, 17.97it/s, loss=5.44]\u001b[A\n",
      "  3%|▎         | 22/682 [00:01<00:37, 17.41it/s, loss=5.45]\u001b[A\n",
      "  4%|▎         | 25/682 [00:01<00:33, 19.77it/s, loss=5.45]\u001b[A\n",
      "  4%|▎         | 25/682 [00:01<00:34, 19.18it/s, loss=5.47]\u001b[A\n",
      "  4%|▎         | 25/682 [00:01<00:35, 18.63it/s, loss=5.45]\u001b[A\n",
      "  4%|▎         | 25/682 [00:01<00:36, 18.09it/s, loss=5.47]\u001b[A\n",
      "  4%|▍         | 28/682 [00:01<00:32, 20.25it/s, loss=5.47]\u001b[A\n",
      "  4%|▍         | 28/682 [00:01<00:33, 19.70it/s, loss=5.47]\u001b[A\n",
      "  4%|▍         | 28/682 [00:01<00:34, 19.17it/s, loss=5.45]\u001b[A\n",
      "  4%|▍         | 28/682 [00:01<00:35, 18.68it/s, loss=5.45]\u001b[A\n",
      "  5%|▍         | 31/682 [00:01<00:31, 20.66it/s, loss=5.45]\u001b[A\n",
      "  5%|▍         | 31/682 [00:01<00:32, 20.15it/s, loss=5.45]\u001b[A\n",
      "  5%|▍         | 31/682 [00:01<00:33, 19.66it/s, loss=5.44]\u001b[A\n",
      "  5%|▍         | 31/682 [00:01<00:33, 19.19it/s, loss=5.44]\u001b[A\n",
      "  5%|▍         | 34/682 [00:01<00:30, 21.02it/s, loss=5.44]\u001b[A\n",
      "  5%|▍         | 34/682 [00:01<00:31, 20.52it/s, loss=5.41]\u001b[A\n",
      "  5%|▍         | 34/682 [00:01<00:32, 20.04it/s, loss=5.43]\u001b[A\n",
      "  5%|▍         | 34/682 [00:01<00:33, 19.60it/s, loss=5.43]\u001b[A\n",
      "  5%|▌         | 37/682 [00:01<00:30, 21.32it/s, loss=5.43]\u001b[A\n",
      "  5%|▌         | 37/682 [00:01<00:30, 20.86it/s, loss=5.41]\u001b[A\n",
      "  5%|▌         | 37/682 [00:01<00:31, 20.42it/s, loss=5.39]\u001b[A\n",
      "  5%|▌         | 37/682 [00:01<00:32, 19.98it/s, loss=5.39]\u001b[A\n",
      "  6%|▌         | 40/682 [00:01<00:29, 21.58it/s, loss=5.39]\u001b[A\n",
      "  6%|▌         | 40/682 [00:01<00:30, 21.14it/s, loss=5.38]\u001b[A\n",
      "  6%|▌         | 40/682 [00:01<00:30, 20.73it/s, loss=5.4] \u001b[A\n",
      "  6%|▌         | 40/682 [00:01<00:31, 20.31it/s, loss=5.39]\u001b[A\n",
      "  6%|▋         | 43/682 [00:01<00:29, 21.81it/s, loss=5.39]\u001b[A\n",
      "  6%|▋         | 43/682 [00:02<00:29, 21.38it/s, loss=5.39]\u001b[A\n",
      "  6%|▋         | 43/682 [00:02<00:30, 20.97it/s, loss=5.4] \u001b[A\n",
      "  6%|▋         | 43/682 [00:02<00:31, 20.58it/s, loss=5.4]\u001b[A\n",
      "  7%|▋         | 46/682 [00:02<00:28, 21.99it/s, loss=5.4]\u001b[A\n",
      "  7%|▋         | 46/682 [00:02<00:29, 21.58it/s, loss=5.4]\u001b[A\n",
      "  7%|▋         | 46/682 [00:02<00:29, 21.20it/s, loss=5.39]\u001b[A\n",
      "  7%|▋         | 46/682 [00:02<00:30, 20.82it/s, loss=5.37]\u001b[A\n",
      "  7%|▋         | 49/682 [00:02<00:28, 22.16it/s, loss=5.37]\u001b[A\n",
      "  7%|▋         | 49/682 [00:02<00:29, 21.77it/s, loss=5.37]\u001b[A\n",
      "  7%|▋         | 49/682 [00:02<00:29, 21.40it/s, loss=5.42]\u001b[A\n",
      "  7%|▋         | 49/682 [00:02<00:30, 21.04it/s, loss=5.39]\u001b[A\n",
      "  8%|▊         | 52/682 [00:02<00:28, 22.31it/s, loss=5.39]\u001b[A\n",
      "  8%|▊         | 52/682 [00:02<00:28, 21.94it/s, loss=5.41]\u001b[A\n",
      "  8%|▊         | 52/682 [00:02<00:29, 21.59it/s, loss=5.4] \u001b[A\n",
      "  8%|▊         | 52/682 [00:02<00:29, 21.25it/s, loss=5.4]\u001b[A\n",
      "  8%|▊         | 55/682 [00:02<00:27, 22.45it/s, loss=5.4]\u001b[A\n",
      "  8%|▊         | 55/682 [00:02<00:28, 22.10it/s, loss=5.41]\u001b[A\n",
      "  8%|▊         | 55/682 [00:02<00:28, 21.76it/s, loss=5.41]\u001b[A\n",
      "  8%|▊         | 55/682 [00:02<00:29, 21.43it/s, loss=5.4] \u001b[A\n",
      "  9%|▊         | 58/682 [00:02<00:27, 22.58it/s, loss=5.4]\u001b[A\n",
      "  9%|▊         | 58/682 [00:02<00:28, 22.25it/s, loss=5.38]\u001b[A\n",
      "  9%|▊         | 58/682 [00:02<00:28, 21.91it/s, loss=5.38]\u001b[A\n",
      "  9%|▊         | 58/682 [00:02<00:28, 21.59it/s, loss=5.39]\u001b[A\n",
      "  9%|▉         | 61/682 [00:02<00:27, 22.69it/s, loss=5.39]\u001b[A\n",
      "  9%|▉         | 61/682 [00:02<00:27, 22.37it/s, loss=5.39]\u001b[A\n",
      "  9%|▉         | 61/682 [00:02<00:28, 22.05it/s, loss=5.4] \u001b[A\n",
      "  9%|▉         | 61/682 [00:02<00:28, 21.74it/s, loss=5.41]\u001b[A\n",
      "  9%|▉         | 64/682 [00:02<00:27, 22.79it/s, loss=5.41]\u001b[A\n",
      "  9%|▉         | 64/682 [00:02<00:27, 22.48it/s, loss=5.4] \u001b[A\n",
      "  9%|▉         | 64/682 [00:02<00:27, 22.18it/s, loss=5.42]\u001b[A\n",
      "  9%|▉         | 64/682 [00:02<00:28, 21.87it/s, loss=5.44]\u001b[A\n",
      " 10%|▉         | 67/682 [00:02<00:26, 22.88it/s, loss=5.44]\u001b[A\n",
      " 10%|▉         | 67/682 [00:02<00:27, 22.58it/s, loss=5.45]\u001b[A\n",
      " 10%|▉         | 67/682 [00:03<00:27, 22.29it/s, loss=5.45]\u001b[A\n",
      " 10%|▉         | 67/682 [00:03<00:27, 22.01it/s, loss=5.44]\u001b[A\n",
      " 10%|█         | 70/682 [00:03<00:26, 22.98it/s, loss=5.44]\u001b[A\n",
      " 10%|█         | 70/682 [00:03<00:26, 22.68it/s, loss=5.43]\u001b[A\n",
      " 10%|█         | 70/682 [00:03<00:27, 22.40it/s, loss=5.43]\u001b[A\n",
      " 10%|█         | 70/682 [00:03<00:27, 22.12it/s, loss=5.43]\u001b[A\n",
      " 11%|█         | 73/682 [00:03<00:26, 23.06it/s, loss=5.43]\u001b[A\n",
      " 11%|█         | 73/682 [00:03<00:26, 22.78it/s, loss=5.43]\u001b[A\n",
      " 11%|█         | 73/682 [00:03<00:27, 22.50it/s, loss=5.43]\u001b[A\n",
      " 11%|█         | 73/682 [00:03<00:27, 22.24it/s, loss=5.43]\u001b[A\n",
      " 11%|█         | 76/682 [00:03<00:26, 23.14it/s, loss=5.43]\u001b[A\n",
      " 11%|█         | 76/682 [00:03<00:26, 22.86it/s, loss=5.43]\u001b[A\n",
      " 11%|█         | 76/682 [00:03<00:26, 22.60it/s, loss=5.45]\u001b[A\n",
      " 11%|█         | 76/682 [00:03<00:27, 22.34it/s, loss=5.44]\u001b[A\n",
      " 12%|█▏        | 79/682 [00:03<00:25, 23.21it/s, loss=5.44]\u001b[A\n",
      " 12%|█▏        | 79/682 [00:03<00:26, 22.94it/s, loss=5.44]\u001b[A\n",
      " 12%|█▏        | 79/682 [00:03<00:26, 22.69it/s, loss=5.43]\u001b[A\n",
      " 12%|█▏        | 79/682 [00:03<00:26, 22.44it/s, loss=5.43]\u001b[A\n",
      " 12%|█▏        | 82/682 [00:03<00:25, 23.28it/s, loss=5.43]\u001b[A\n",
      " 12%|█▏        | 82/682 [00:03<00:26, 23.02it/s, loss=5.44]\u001b[A\n",
      "\n",
      " 12%|█▏        | 82/682 [00:03<00:26, 22.77it/s, loss=5.46]\u001b[A\n",
      " 12%|█▏        | 82/682 [00:03<00:26, 22.51it/s, loss=5.47]\u001b[A\n",
      " 12%|█▏        | 85/682 [00:03<00:25, 23.33it/s, loss=5.47]\u001b[A\n",
      " 13%|█▎        | 88/682 [00:03<00:25, 23.16it/s, loss=5.46] [A"
     ]
    },
    {
     "name": "stderr",
     "output_type": "stream",
     "text": [
      "Exception in thread Thread-4:\n",
      "Traceback (most recent call last):\n",
      "  File \"/home/wnixalo/miniconda3/envs/fastai/lib/python3.6/threading.py\", line 916, in _bootstrap_inner\n",
      "    self.run()\n",
      "  File \"/home/wnixalo/miniconda3/envs/fastai/lib/python3.6/site-packages/tqdm/_tqdm.py\", line 144, in run\n",
      "    for instance in self.tqdm_cls._instances:\n",
      "  File \"/home/wnixalo/miniconda3/envs/fastai/lib/python3.6/_weakrefset.py\", line 60, in __iter__\n",
      "    for itemref in self.data:\n",
      "RuntimeError: Set changed size during iteration\n",
      "\n",
      "Exception in thread Thread-5:\n",
      "Traceback (most recent call last):\n",
      "  File \"/home/wnixalo/miniconda3/envs/fastai/lib/python3.6/threading.py\", line 916, in _bootstrap_inner\n",
      "    self.run()\n",
      "  File \"/home/wnixalo/miniconda3/envs/fastai/lib/python3.6/site-packages/tqdm/_tqdm.py\", line 144, in run\n",
      "    for instance in self.tqdm_cls._instances:\n",
      "  File \"/home/wnixalo/miniconda3/envs/fastai/lib/python3.6/_weakrefset.py\", line 60, in __iter__\n",
      "    for itemref in self.data:\n",
      "RuntimeError: Set changed size during iteration\n",
      "\n"
     ]
    },
    {
     "name": "stdout",
     "output_type": "stream",
     "text": [
      "[ 0.       4.77925  4.62485  0.03411]                       \n",
      "[ 1.       4.57017  4.53765  0.03996]                       \n",
      "[ 2.       4.46189  4.5175   0.04435]                       \n",
      "[ 3.       4.51572  4.54183  0.04142]                       \n",
      "[ 4.       4.40379  4.47268  0.04776]                       \n",
      "[ 5.       4.31973  4.45794  0.04435]                       \n",
      "[ 6.       4.23797  4.46152  0.04532]                       \n",
      "\n"
     ]
    }
   ],
   "source": [
    "learn.fit(lr, 3, cycle_len=1, cycle_mult=2)"
   ]
  },
  {
   "cell_type": "code",
   "execution_count": 12,
   "metadata": {},
   "outputs": [],
   "source": [
    "lrs = np.array([lr/9,lr/3,lr])"
   ]
  },
  {
   "cell_type": "code",
   "execution_count": 13,
   "metadata": {},
   "outputs": [
    {
     "data": {
      "application/vnd.jupyter.widget-view+json": {
       "model_id": "1b13b04999174506a3b4a1ac1a571e64",
       "version_major": 2,
       "version_minor": 0
      },
      "text/plain": [
       "A Jupyter Widget"
      ]
     },
     "metadata": {},
     "output_type": "display_data"
    },
    {
     "name": "stdout",
     "output_type": "stream",
     "text": [
      "  0%|          | 1/682 [00:00<04:58,  2.28it/s, loss=4.72]"
     ]
    },
    {
     "name": "stderr",
     "output_type": "stream",
     "text": [
      "/home/wnixalo/miniconda3/envs/fastai/lib/python3.6/site-packages/torch/nn/modules/container.py:72: UserWarning: Implicit dimension choice for log_softmax has been deprecated. Change the call to include dim=X as an argument.\n",
      "  input = module(input)\n"
     ]
    },
    {
     "name": "stdout",
     "output_type": "stream",
     "text": [
      "[ 0.       4.72217  4.69463  0.01852]                       \n",
      "[ 1.       4.68598  4.62722  0.01511]                       \n",
      "[ 2.       4.60267  4.60278  0.02729]                       \n",
      "[ 3.       4.68185  4.62183  0.02583]                       \n",
      "[ 4.       4.60635  4.55476  0.02388]                       \n",
      "[ 5.       4.56302  4.52383  0.02875]                       \n",
      "[ 6.       4.5056   4.52512  0.03216]                       \n",
      "\n"
     ]
    }
   ],
   "source": [
    "learn.unfreeze()\n",
    "learn.fit(lrs, 3, cycle_len=1, cycle_mult=2)"
   ]
  },
  {
   "cell_type": "code",
   "execution_count": 14,
   "metadata": {},
   "outputs": [],
   "source": [
    "learn.save(f'{sz}_dogbreeds_RN50_00')"
   ]
  },
  {
   "cell_type": "code",
   "execution_count": null,
   "metadata": {},
   "outputs": [],
   "source": []
  }
 ],
 "metadata": {
  "kernelspec": {
   "display_name": "Python 3 (FastAI)",
   "language": "python",
   "name": "fastai"
  },
  "language_info": {
   "codemirror_mode": {
    "name": "ipython",
    "version": 3
   },
   "file_extension": ".py",
   "mimetype": "text/x-python",
   "name": "python",
   "nbconvert_exporter": "python",
   "pygments_lexer": "ipython3",
   "version": "3.6.3"
  }
 },
 "nbformat": 4,
 "nbformat_minor": 2
}
