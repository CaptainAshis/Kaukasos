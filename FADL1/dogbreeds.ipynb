{
 "cells": [
  {
   "cell_type": "code",
   "execution_count": 1,
   "metadata": {},
   "outputs": [],
   "source": [
    "%reload_ext autoreload\n",
    "%autoreload 2\n",
    "%matplotlib inline\n",
    "\n",
    "from fastai.imports import *\n",
    "from fastai.conv_learner import *\n",
    "from fastai.torch_imports import *\n",
    "from fastai.model import *\n",
    "from fastai.dataset import *\n",
    "from fastai.sgdr import *\n",
    "from fastai.plots import *"
   ]
  },
  {
   "cell_type": "code",
   "execution_count": 2,
   "metadata": {},
   "outputs": [],
   "source": [
    "PATH = \"data/dogbreeds/\""
   ]
  },
  {
   "cell_type": "code",
   "execution_count": 3,
   "metadata": {},
   "outputs": [],
   "source": [
    "arch = resnext50\n",
    "sz = 224\n",
    "bs = 64"
   ]
  },
  {
   "cell_type": "code",
   "execution_count": 4,
   "metadata": {},
   "outputs": [],
   "source": [
    "labels_csv = f'{PATH}labels.csv'\n",
    "n = len(list(open(labels_csv)))-1\n",
    "val_idxs = get_cv_idxs(n)"
   ]
  },
  {
   "cell_type": "code",
   "execution_count": 5,
   "metadata": {},
   "outputs": [],
   "source": [
    "def get_data(sz, bs):\n",
    "    tfms = tfms_from_model(arch, sz, aug_tfms=transforms_side_on, max_zoom=1.1)\n",
    "    data = ImageClassifierData.from_csv(PATH, 'train', labels_csv, bs=bs, tfms=tfms, \n",
    "                                        val_idxs=val_idxs, suffix='.jpg', test_name='test')\n",
    "    return data if sz < 300 else data.resize(340, 'tmp')"
   ]
  },
  {
   "cell_type": "code",
   "execution_count": 40,
   "metadata": {},
   "outputs": [],
   "source": [
    "# data = get_data(sz, bs)\n",
    "\n",
    "# labels_df = pd.read_csv(labels_csv)\n",
    "# labels_df.pivot_table(index='breed', aggfunc=len).sort_values('id', ascending=False)\n",
    "# fn = PATH + data.trn_ds.fnames[0]\n",
    "# PIL.Image.open(fn)\n",
    "\n",
    "# size_d = {k: PIL.Image.open(PATH+k).size for k in data.trn_ds.fnames}"
   ]
  },
  {
   "cell_type": "code",
   "execution_count": 41,
   "metadata": {},
   "outputs": [],
   "source": [
    "# row_sz, col_sz = list(zip(*size_d.values()))\n",
    "# row_sz, col_sz = np.array(row_sz), np.array(col_sz)\n",
    "\n",
    "# plt.hist(row_sz[row_sz < 1000]); plt.hist(col_sz[col_sz < 1000]);"
   ]
  },
  {
   "cell_type": "code",
   "execution_count": 6,
   "metadata": {},
   "outputs": [],
   "source": [
    "from sklearn import metrics"
   ]
  },
  {
   "cell_type": "code",
   "execution_count": 44,
   "metadata": {},
   "outputs": [
    {
     "name": "stdout",
     "output_type": "stream",
     "text": [
      "100%|██████████| 128/128 [02:53<00:00,  1.36s/it]\n",
      "100%|██████████| 32/32 [00:43<00:00,  1.37s/it]\n",
      "100%|██████████| 162/162 [03:39<00:00,  1.35s/it]\n"
     ]
    }
   ],
   "source": [
    "data = get_data(sz, bs)\n",
    "learn = ConvLearner.pretrained(arch, data, precompute=True)"
   ]
  },
  {
   "cell_type": "code",
   "execution_count": 49,
   "metadata": {},
   "outputs": [
    {
     "data": {
      "application/vnd.jupyter.widget-view+json": {
       "model_id": "29573c7ad5dd4157bf0e428e56f23531",
       "version_major": 2,
       "version_minor": 0
      },
      "text/plain": [
       "A Jupyter Widget"
      ]
     },
     "metadata": {},
     "output_type": "display_data"
    },
    {
     "name": "stdout",
     "output_type": "stream",
     "text": [
      " 93%|█████████▎| 119/128 [00:01<00:00, 114.50it/s, loss=12.1]\n",
      "                                                             \r"
     ]
    },
    {
     "data": {
      "image/png": "[encoded data removed]",
      "text/plain": [
       "<matplotlib.figure.Figure at 0x7f31239a6ef0>"
      ]
     },
     "metadata": {},
     "output_type": "display_data"
    }
   ],
   "source": [
    "learn.lr_find()\n",
    "learn.sched.plot()"
   ]
  },
  {
   "cell_type": "code",
   "execution_count": 50,
   "metadata": {},
   "outputs": [
    {
     "data": {
      "application/vnd.jupyter.widget-view+json": {
       "model_id": "ce20a5b9af3f457d9e68e46948b7613b",
       "version_major": 2,
       "version_minor": 0
      },
      "text/plain": [
       "A Jupyter Widget"
      ]
     },
     "metadata": {},
     "output_type": "display_data"
    },
    {
     "name": "stdout",
     "output_type": "stream",
     "text": [
      "[ 0.       0.85798  0.39835  0.88994]                         \n",
      "[ 1.       0.42135  0.31747  0.90664]                         \n",
      "\n"
     ]
    }
   ],
   "source": [
    "learn.fit(2e-2, 2)"
   ]
  },
  {
   "cell_type": "code",
   "execution_count": 51,
   "metadata": {},
   "outputs": [
    {
     "data": {
      "application/vnd.jupyter.widget-view+json": {
       "model_id": "e665bf520daa49bf9098cb71b9a5dab9",
       "version_major": 2,
       "version_minor": 0
      },
      "text/plain": [
       "A Jupyter Widget"
      ]
     },
     "metadata": {},
     "output_type": "display_data"
    },
    {
     "name": "stdout",
     "output_type": "stream",
     "text": [
      "[ 0.       0.27853  0.30884  0.90023]                         \n",
      "[ 1.       0.21362  0.29688  0.90758]                         \n",
      "\n"
     ]
    }
   ],
   "source": [
    "learn.fit(2e-2, 2)"
   ]
  },
  {
   "cell_type": "code",
   "execution_count": 55,
   "metadata": {},
   "outputs": [
    {
     "data": {
      "application/vnd.jupyter.widget-view+json": {
       "model_id": "8c09c4bfecfa4dab95591bdafde9bec4",
       "version_major": 2,
       "version_minor": 0
      },
      "text/plain": [
       "A Jupyter Widget"
      ]
     },
     "metadata": {},
     "output_type": "display_data"
    },
    {
     "name": "stdout",
     "output_type": "stream",
     "text": [
      "[ 0.       0.31715  0.30835  0.89971]                        \n",
      "[ 1.       0.27991  0.29524  0.90947]                        \n",
      "\n"
     ]
    }
   ],
   "source": [
    "learn.precompute=False\n",
    "learn.fit(2e-2, 2)"
   ]
  },
  {
   "cell_type": "code",
   "execution_count": 56,
   "metadata": {},
   "outputs": [],
   "source": [
    "learn.save('RNx50_224_pre')"
   ]
  },
  {
   "cell_type": "code",
   "execution_count": 11,
   "metadata": {},
   "outputs": [],
   "source": [
    "# increasing size - taking advtg of Fully-Convolutional Arch\n",
    "learn.set_data(get_data(299, 48))"
   ]
  },
  {
   "cell_type": "code",
   "execution_count": 65,
   "metadata": {},
   "outputs": [
    {
     "data": {
      "application/vnd.jupyter.widget-view+json": {
       "model_id": "10aba36d9f564053b0fbf69fb59b9457",
       "version_major": 2,
       "version_minor": 0
      },
      "text/plain": [
       "A Jupyter Widget"
      ]
     },
     "metadata": {},
     "output_type": "display_data"
    },
    {
     "name": "stdout",
     "output_type": "stream",
     "text": [
      "[ 0.       0.26006  0.24794  0.92193]                        \n",
      "[ 1.       0.23345  0.23904  0.92906]                        \n",
      "[ 2.       0.21016  0.23497  0.93182]                        \n",
      "\n"
     ]
    }
   ],
   "source": [
    "learn.fit(1e-2, 3, cycle_len=1)"
   ]
  },
  {
   "cell_type": "code",
   "execution_count": 69,
   "metadata": {},
   "outputs": [],
   "source": [
    "learn.save('RNx50_224_pre')"
   ]
  },
  {
   "cell_type": "code",
   "execution_count": 8,
   "metadata": {},
   "outputs": [],
   "source": [
    "data  = get_data(299, 48)\n",
    "learn = ConvLearner.pretrained(arch, data)\n",
    "learn.load('RNx50_224_pre')"
   ]
  },
  {
   "cell_type": "code",
   "execution_count": 10,
   "metadata": {},
   "outputs": [],
   "source": [
    "learn.freeze()"
   ]
  },
  {
   "cell_type": "code",
   "execution_count": 12,
   "metadata": {},
   "outputs": [
    {
     "name": "stdout",
     "output_type": "stream",
     "text": [
      "\n",
      "  0%|          | 0/4 [00:00<?, ?it/s]\u001b[A\n",
      " 25%|██▌       | 1/4 [01:29<04:28, 89.43s/it]\u001b[A\n",
      " 50%|█████     | 2/4 [02:58<02:58, 89.47s/it]\u001b[A\n",
      " 75%|███████▌  | 3/4 [04:28<01:29, 89.42s/it]\u001b[A\n",
      "100%|██████████| 4/4 [05:57<00:00, 89.41s/it]\u001b[A\n",
      "                                             \u001b[A"
     ]
    },
    {
     "data": {
      "text/plain": [
       "(0.92906066536203524, 0.22787421921797549)"
      ]
     },
     "execution_count": 12,
     "metadata": {},
     "output_type": "execute_result"
    }
   ],
   "source": [
    "log_preds, y = learn.TTA()\n",
    "probs = np.exp(log_preds)\n",
    "accuracy(log_preds, y), metrics.log_loss(y, probs)"
   ]
  },
  {
   "cell_type": "code",
   "execution_count": 13,
   "metadata": {},
   "outputs": [
    {
     "name": "stdout",
     "output_type": "stream",
     "text": [
      "\n",
      "  0%|          | 0/4 [00:00<?, ?it/s]\u001b[A\n",
      " 25%|██▌       | 1/4 [07:20<22:02, 440.87s/it]\u001b[A\n",
      " 50%|█████     | 2/4 [14:41<14:41, 440.92s/it]\u001b[A\n",
      " 75%|███████▌  | 3/4 [22:02<07:20, 440.86s/it]\u001b[A\n",
      "100%|██████████| 4/4 [29:23<00:00, 440.87s/it]\u001b[A\n",
      "                                              \u001b[A"
     ]
    }
   ],
   "source": [
    "test_preds = np.exp(learn.TTA(is_test=True)[0])"
   ]
  },
  {
   "cell_type": "code",
   "execution_count": null,
   "metadata": {},
   "outputs": [],
   "source": []
  },
  {
   "cell_type": "code",
   "execution_count": null,
   "metadata": {},
   "outputs": [],
   "source": []
  },
  {
   "cell_type": "code",
   "execution_count": null,
   "metadata": {},
   "outputs": [],
   "source": []
  },
  {
   "cell_type": "markdown",
   "metadata": {},
   "source": [
    "---\n",
    "\n",
    "Rerunning without validation for predictions:"
   ]
  },
  {
   "cell_type": "code",
   "execution_count": null,
   "metadata": {},
   "outputs": [],
   "source": [
    "from sklearn import metrics\n",
    "PATH = \"data/dogbreeds/\"\n",
    "arch = resnext50\n",
    "sz = 224\n",
    "bs = 64\n",
    "labels_csv = f'{PATH}labels.csv'\n",
    "# n = len(list(open(labels_csv)))-1\n",
    "val_idxs = get_cv_idxs(0)\n",
    "def get_data(sz, bs):\n",
    "    tfms = tfms_from_model(arch, sz, aug_tfms=transforms_side_on, max_zoom=1.1)\n",
    "    data = ImageClassifierData.from_csv(PATH, 'train', labels_csv, bs=bs, tfms=tfms, \n",
    "                                        val_idxs=val_idxs, suffix='.jpg', test_name='test')\n",
    "    return data if sz < 300 else data.resize(340, 'tmp')"
   ]
  },
  {
   "cell_type": "code",
   "execution_count": null,
   "metadata": {},
   "outputs": [],
   "source": [
    "data = get_data(sz, bs)\n",
    "learn = ConvLearner.pretrained(arch, data, precompute=True)\n",
    "learn.fit(1e-2, 2)\n",
    "learn.precompute=False\n",
    "learn.fit(1e-2, 5, cycle_len=1)\n",
    "learn.set_data(get_data(299, bs=32))\n",
    "learn.fit(1e-2, 3, cycle_len=1)\n",
    "learn.fit(1e-2, 3, cycle_len=1, cycle_mult=2)"
   ]
  }
 ],
 "metadata": {
  "kernelspec": {
   "display_name": "Python 3 (FastAI)",
   "language": "python",
   "name": "fastai"
  },
  "language_info": {
   "codemirror_mode": {
    "name": "ipython",
    "version": 3
   },
   "file_extension": ".py",
   "mimetype": "text/x-python",
   "name": "python",
   "nbconvert_exporter": "python",
   "pygments_lexer": "ipython3",
   "version": "3.6.3"
  }
 },
 "nbformat": 4,
 "nbformat_minor": 2
}
