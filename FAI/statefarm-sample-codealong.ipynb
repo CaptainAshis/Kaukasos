{
 "cells": [
  {
   "cell_type": "markdown",
   "metadata": {},
   "source": [
    "### Enter State Farm"
   ]
  },
  {
   "cell_type": "code",
   "execution_count": 1,
   "metadata": {},
   "outputs": [
    {
     "name": "stderr",
     "output_type": "stream",
     "text": [
      "/home/wnixalo/miniconda3/envs/FAI/lib/python2.7/site-packages/theano/gpuarray/dnn.py:135: UserWarning: Your cuDNN version is more recent than Theano. If you encounter problems, try updating Theano or downgrading cuDNN to version 5.1.\n",
      "  warnings.warn(\"Your cuDNN version is more recent than \"\n",
      "Using cuDNN version 6021 on context None\n",
      "Mapped name None to device cuda: GeForce GTX 870M (0000:01:00.0)\n"
     ]
    }
   ],
   "source": [
    "import theano"
   ]
  },
  {
   "cell_type": "code",
   "execution_count": 2,
   "metadata": {
    "collapsed": true
   },
   "outputs": [],
   "source": [
    "import os, sys\n",
    "sys.path.insert(1, os.path.join(os.getcwd(), 'utils'))"
   ]
  },
  {
   "cell_type": "code",
   "execution_count": 3,
   "metadata": {},
   "outputs": [
    {
     "name": "stderr",
     "output_type": "stream",
     "text": [
      "Using Theano backend.\n"
     ]
    }
   ],
   "source": [
    "%matplotlib inline\n",
    "from __future__ import print_function, division\n",
    "# path = \"data/sample/\"\n",
    "path = \"data/statefarm/sample/\"\n",
    "import utils; reload(utils)\n",
    "from utils import *\n",
    "from IPython.display import FileLink"
   ]
  },
  {
   "cell_type": "code",
   "execution_count": 4,
   "metadata": {
    "collapsed": true
   },
   "outputs": [],
   "source": [
    "# batch_size = 64\n",
    "batch_size = 32"
   ]
  },
  {
   "cell_type": "markdown",
   "metadata": {},
   "source": [
    "### Create Sample\n",
    "\n",
    "The following assumes you've already created your validation set - remember that the training and validation set should contain *different drivers*, as mentioned on the Kaggle competition page."
   ]
  },
  {
   "cell_type": "code",
   "execution_count": 5,
   "metadata": {},
   "outputs": [
    {
     "name": "stdout",
     "output_type": "stream",
     "text": [
      "/home/wnixalo/Kaukasos/FAI/data/statefarm\n",
      "/home/wnixalo/Kaukasos/FAI/data/statefarm/train\n"
     ]
    }
   ],
   "source": [
    "%cd data/statefarm\n",
    "%cd train"
   ]
  },
  {
   "cell_type": "code",
   "execution_count": 6,
   "metadata": {
    "collapsed": true
   },
   "outputs": [],
   "source": [
    "%mkdir ../sample\n",
    "%mkdir ../sample/train\n",
    "%mkdir ../sample/valid"
   ]
  },
  {
   "cell_type": "code",
   "execution_count": 7,
   "metadata": {
    "collapsed": true
   },
   "outputs": [],
   "source": [
    "for d in glob('c?'):\n",
    "    os.mkdir('../sample/train/' + d)\n",
    "    os.mkdir('../sample/valid/' + d)"
   ]
  },
  {
   "cell_type": "code",
   "execution_count": 5,
   "metadata": {
    "collapsed": true
   },
   "outputs": [],
   "source": [
    "from shutil import copyfile"
   ]
  },
  {
   "cell_type": "code",
   "execution_count": 23,
   "metadata": {
    "collapsed": true
   },
   "outputs": [],
   "source": [
    "g = glob('c?/*.jpg')\n",
    "shuf = np.random.permutation(g)\n",
    "for i in range(1500): copyfile(shuf[i], '../sample/train/' + shuf[i])"
   ]
  },
  {
   "cell_type": "code",
   "execution_count": 20,
   "metadata": {},
   "outputs": [],
   "source": [
    "# # removing copied sample training images\n",
    "# help(os)\n",
    "# for f in glob('c?/*.jpg'):\n",
    "#     os.remove(f)"
   ]
  },
  {
   "cell_type": "code",
   "execution_count": 23,
   "metadata": {
    "scrolled": true
   },
   "outputs": [
    {
     "name": "stdout",
     "output_type": "stream",
     "text": [
      "/Users/WayNoxchi/Deshar/Kaukasos/FAI\n"
     ]
    }
   ],
   "source": [
    "% cd ../../..\n",
    "%mkdir data/statefarm/results\n",
    "%mkdir data/statefarm/sample/test"
   ]
  },
  {
   "cell_type": "markdown",
   "metadata": {},
   "source": [
    "#### Validation Set (Sample)\n",
    "\n",
    "How I'll do it: create a full val set in the full valid folder, then copy over the same percentage as train to the sample/valid folder.\n",
    "\n",
    "Acutally: wouldn't it be better if I used the full validation set for more accurate results? Then again, for processing on my MacBook, it may be good enough to go w/ the 1st method.\n",
    "\n",
    "##### 1/3: function definitions for moving stuff & aming dirs:"
   ]
  },
  {
   "cell_type": "code",
   "execution_count": 10,
   "metadata": {
    "collapsed": true
   },
   "outputs": [],
   "source": [
    "# run once, make sure you're in datadir first\n",
    "# path = os.getcwd()\n",
    "# os.mkdir(path + '/valid')\n",
    "# for i in xrange(10): os.mkdir(path + '/valid' + '/c' + str(i))\n",
    "\n",
    "def reset_valid(verbose=1, valid_path='', TRAIN_DIR=''):\n",
    "    \"\"\"Moves all images in validation set back to \n",
    "    their respective classes in the training set.\"\"\"\n",
    "    counter = 0\n",
    "    if not valid_path: valid_path = os.getcwd() + '/valid/'\n",
    "    if not TRAIN_DIR:  TRAIN_DIR  = os.getcwd() + '/train'\n",
    "    %cd $valid_path\n",
    "    for i in xrange(10):\n",
    "        %cd c\"$i\"\n",
    "        g = glob('*.jpg')\n",
    "        for n in xrange(len(g)):\n",
    "            os.rename(g[n], TRAIN_DIR + '/c' + str(i) + '/' + g[n])\n",
    "            counter += 1\n",
    "        % cd ..\n",
    "    if verbose: print(\"Moved {} files.\".format(counter))\n",
    "#         %mv $VALID_DIR/c\"$i\"/$*.jpg $TRAIN_DIR/c\"$i\"/$*.jpg\n",
    "\n",
    "# modified from: http://forums.fast.ai/t/statefarm-kaggle-comp/183/20\n",
    "def set_valid(number=1, verbose=1, data_path=''):\n",
    "    \"\"\"Moves <number> of subjects from training to validation \n",
    "    directories. Verbosity: 0: Silent; 1: print no. files moved; \n",
    "    2: print each move operation\"\"\"\n",
    "    if not data_path: data_path = os.getcwd() + '/'\n",
    "    counter = 0\n",
    "    if number < 0: number = 0\n",
    "    for n in xrange(number):\n",
    "        # read CSV file into Pandas DataFrame\n",
    "        dil = pd.read_csv(data_path + 'driver_imgs_list.csv')\n",
    "        # group frame by subject in image\n",
    "        grouped_subjects = dil.groupby('subject')\n",
    "        # pick <number> subjects at random\n",
    "        subject = grouped_subjects.groups.keys()[np.random.randint(0, high=len(grouped_subjects.groups))] # <-- groups?\n",
    "        # get the group assoc w/ subject\n",
    "        group = grouped_subjects.get_group(subject)\n",
    "        # loop over gropu & move imgs to validation dir\n",
    "        for (subject, clssnm, img) in group.values:\n",
    "            source = '{}train/{}/{}'.format(data_path, clssnm, img)\n",
    "            target = source.replace('train', 'valid')\n",
    "            if verbose > 1: print('mv {} {}'.format(source, target))\n",
    "            os.rename(source, target)\n",
    "            counter += 1\n",
    "    if verbose: print (\"Files moved: {}\".format(counter))"
   ]
  },
  {
   "cell_type": "markdown",
   "metadata": {},
   "source": [
    "##### 2/3: Making sure we're in the right dir, & moving stuff"
   ]
  },
  {
   "cell_type": "code",
   "execution_count": 11,
   "metadata": {},
   "outputs": [
    {
     "data": {
      "text/plain": [
       "u'/home/wnixalo/Kaukasos/FAI/data/statefarm/train'"
      ]
     },
     "execution_count": 11,
     "metadata": {},
     "output_type": "execute_result"
    }
   ],
   "source": [
    "%pwd"
   ]
  },
  {
   "cell_type": "code",
   "execution_count": 6,
   "metadata": {},
   "outputs": [
    {
     "name": "stdout",
     "output_type": "stream",
     "text": [
      "/home/wnixalo/Kaukasos/FAI\n"
     ]
    }
   ],
   "source": [
    "# %cd ~/Deshar/Kaukasos/FAI\n",
    "%cd ~/Kaukasos/FAI"
   ]
  },
  {
   "cell_type": "code",
   "execution_count": 13,
   "metadata": {},
   "outputs": [
    {
     "name": "stdout",
     "output_type": "stream",
     "text": [
      "/home/wnixalo/Kaukasos/FAI/data/statefarm\n",
      "/home/wnixalo/Kaukasos/FAI/data/statefarm/valid\n",
      "/home/wnixalo/Kaukasos/FAI/data/statefarm/valid/c0\n",
      "/home/wnixalo/Kaukasos/FAI/data/statefarm/valid\n",
      "/home/wnixalo/Kaukasos/FAI/data/statefarm/valid/c1\n",
      "/home/wnixalo/Kaukasos/FAI/data/statefarm/valid\n",
      "/home/wnixalo/Kaukasos/FAI/data/statefarm/valid/c2\n",
      "/home/wnixalo/Kaukasos/FAI/data/statefarm/valid\n",
      "/home/wnixalo/Kaukasos/FAI/data/statefarm/valid/c3\n",
      "/home/wnixalo/Kaukasos/FAI/data/statefarm/valid\n",
      "/home/wnixalo/Kaukasos/FAI/data/statefarm/valid/c4\n",
      "/home/wnixalo/Kaukasos/FAI/data/statefarm/valid\n",
      "/home/wnixalo/Kaukasos/FAI/data/statefarm/valid/c5\n",
      "/home/wnixalo/Kaukasos/FAI/data/statefarm/valid\n",
      "/home/wnixalo/Kaukasos/FAI/data/statefarm/valid/c6\n",
      "/home/wnixalo/Kaukasos/FAI/data/statefarm/valid\n",
      "/home/wnixalo/Kaukasos/FAI/data/statefarm/valid/c7\n",
      "/home/wnixalo/Kaukasos/FAI/data/statefarm/valid\n",
      "/home/wnixalo/Kaukasos/FAI/data/statefarm/valid/c8\n",
      "/home/wnixalo/Kaukasos/FAI/data/statefarm/valid\n",
      "/home/wnixalo/Kaukasos/FAI/data/statefarm/valid/c9\n",
      "/home/wnixalo/Kaukasos/FAI/data/statefarm/valid\n",
      "Moved 2577 files.\n",
      "/home/wnixalo/Kaukasos/FAI/data/statefarm\n",
      "Files moved: 2961\n"
     ]
    }
   ],
   "source": [
    "%cd data/statefarm/\n",
    "reset_valid()\n",
    "%cd ..\n",
    "set_valid(number=3)"
   ]
  },
  {
   "cell_type": "markdown",
   "metadata": {},
   "source": [
    "I understand now why I was getting weird validation-accuracy results: I was moving a unique valset from training, *in the full data directory* and **not** in the sample dir. But then why was my model even able to train if there wasn't anything in the sample validation folders? Because I was only *copying* 1000 random images from sample/train to sample/valid. *Ooof..*\n",
    "\n",
    "Nevermind, ignore (some of) that.... the 1000 sample val imgs are taken from the valid set moved from training in the full directory.. The problem affecting accuracy is that the valid set separated from training *after* the sample training set is copied.. So some of the val imgs will have drivers in sample training set. This explains why accuracy was off, but not as off as one would expect. Will reconfigure this.\n",
    "\n",
    "This notebook is being rerun on my Asus Linux machine. Upgrading from an Intel Core i5 CPU to an NVidia GTX 870M GPU should yield a good speedup. \n",
    "\n",
    "CPU times: \n",
    "* Single Linear Model: 60~48 seconds\n",
    "* Single (100 Node) Hidden Layer: 67~52 seconds\n",
    "* Single block of 2 Convolutional layers (+ LM): 453~410 seconds"
   ]
  },
  {
   "cell_type": "markdown",
   "metadata": {},
   "source": [
    "##### 3/3: copying val set from the full valid folder to sample valid\n",
    "\n",
    "J.Howard uses a permutation of 1,000 val imgs, so I'll just do that here."
   ]
  },
  {
   "cell_type": "code",
   "execution_count": 26,
   "metadata": {},
   "outputs": [
    {
     "name": "stdout",
     "output_type": "stream",
     "text": [
      "/home/wnixalo/Kaukasos/FAI/data/statefarm\n"
     ]
    },
    {
     "data": {
      "text/plain": [
       "u'/home/wnixalo/Kaukasos/FAI/data/statefarm'"
      ]
     },
     "execution_count": 26,
     "metadata": {},
     "output_type": "execute_result"
    }
   ],
   "source": [
    "%pwd"
   ]
  },
  {
   "cell_type": "code",
   "execution_count": 27,
   "metadata": {},
   "outputs": [
    {
     "name": "stdout",
     "output_type": "stream",
     "text": [
      "/home/wnixalo/Kaukasos/FAI/data/statefarm/valid\n"
     ]
    }
   ],
   "source": [
    "%cd valid\n",
    "# g = glob('valid/c?/*.jpg') # <-- this doesnt work: why?\n",
    "g = glob('c?/*.jpg')\n",
    "shuf = np.random.permutation(g)\n",
    "# for i in range(1000): copyfile(shuf[i], '/sample/' + shuf[i])\n",
    "for i in range(1000): copyfile(shuf[i], '../sample/valid/' + shuf[i])"
   ]
  },
  {
   "cell_type": "markdown",
   "metadata": {},
   "source": [
    "### Create Batches"
   ]
  },
  {
   "cell_type": "code",
   "execution_count": 7,
   "metadata": {},
   "outputs": [
    {
     "name": "stdout",
     "output_type": "stream",
     "text": [
      "Found 1500 images belonging to 10 classes.\n",
      "Found 1000 images belonging to 10 classes.\n"
     ]
    }
   ],
   "source": [
    "batches = get_batches(path + 'train', batch_size=batch_size)\n",
    "val_batches = get_batches(path + 'valid', batch_size=batch_size*2, shuffle=False)"
   ]
  },
  {
   "cell_type": "code",
   "execution_count": 35,
   "metadata": {},
   "outputs": [],
   "source": [
    "%pwd\n",
    "os.mkdir(path + 'test')"
   ]
  },
  {
   "cell_type": "code",
   "execution_count": 8,
   "metadata": {},
   "outputs": [
    {
     "name": "stdout",
     "output_type": "stream",
     "text": [
      "Found 1500 images belonging to 10 classes.\n",
      "Found 1000 images belonging to 10 classes.\n",
      "Found 0 images belonging to 0 classes.\n"
     ]
    }
   ],
   "source": [
    "(val_classes, trn_classes, val_labels, trn_labels, val_filenames, filenames, \n",
    "    test_filename) = get_classes(path)"
   ]
  },
  {
   "cell_type": "markdown",
   "metadata": {},
   "source": [
    "### Basic Models\n",
    "\n",
    "#### Linear Model\n",
    "\n",
    "First, we try the simplest model and use default parameters. Note the trick of making the first layer a batchnorm layer - that way we don't have to worry about normalizing the input ourselves."
   ]
  },
  {
   "cell_type": "code",
   "execution_count": 39,
   "metadata": {
    "collapsed": true
   },
   "outputs": [],
   "source": [
    "model = Sequential([\n",
    "            BatchNormalization(axis=1, input_shape=(3, 224, 224)),\n",
    "            Flatten(),\n",
    "            Dense(10, activation='softmax')\n",
    "        ])"
   ]
  },
  {
   "cell_type": "markdown",
   "metadata": {},
   "source": [
    "As you can see below, this training is going nowhere..."
   ]
  },
  {
   "cell_type": "code",
   "execution_count": 40,
   "metadata": {},
   "outputs": [
    {
     "name": "stdout",
     "output_type": "stream",
     "text": [
      "Epoch 1/2\n",
      "1500/1500 [==============================] - 29s - loss: 13.2244 - acc: 0.1360 - val_loss: 14.0211 - val_acc: 0.1270\n",
      "Epoch 2/2\n",
      "1500/1500 [==============================] - 22s - loss: 13.3749 - acc: 0.1627 - val_loss: 13.8814 - val_acc: 0.1300\n"
     ]
    },
    {
     "data": {
      "text/plain": [
       "<keras.callbacks.History at 0x7efbfd7bdcd0>"
      ]
     },
     "execution_count": 40,
     "metadata": {},
     "output_type": "execute_result"
    }
   ],
   "source": [
    "model.compile(Adam(), loss='categorical_crossentropy', metrics=['accuracy'])\n",
    "model.fit_generator(batches, batches.nb_sample, nb_epoch=2, validation_data=val_batches,\n",
    "                   nb_val_samples=val_batches.nb_sample)"
   ]
  },
  {
   "cell_type": "markdown",
   "metadata": {},
   "source": [
    "Let's first check the number of parameters to see that there's enough parameters to find some useful relationships:"
   ]
  },
  {
   "cell_type": "code",
   "execution_count": 41,
   "metadata": {},
   "outputs": [
    {
     "name": "stdout",
     "output_type": "stream",
     "text": [
      "____________________________________________________________________________________________________\n",
      "Layer (type)                     Output Shape          Param #     Connected to                     \n",
      "====================================================================================================\n",
      "batchnormalization_1 (BatchNorma (None, 3, 224, 224)   12          batchnormalization_input_1[0][0] \n",
      "____________________________________________________________________________________________________\n",
      "flatten_1 (Flatten)              (None, 150528)        0           batchnormalization_1[0][0]       \n",
      "____________________________________________________________________________________________________\n",
      "dense_1 (Dense)                  (None, 10)            1505290     flatten_1[0][0]                  \n",
      "====================================================================================================\n",
      "Total params: 1,505,302\n",
      "Trainable params: 1,505,296\n",
      "Non-trainable params: 6\n",
      "____________________________________________________________________________________________________\n"
     ]
    }
   ],
   "source": [
    "model.summary()"
   ]
  },
  {
   "cell_type": "code",
   "execution_count": 42,
   "metadata": {},
   "outputs": [
    {
     "data": {
      "text/plain": [
       "1505280"
      ]
     },
     "execution_count": 42,
     "metadata": {},
     "output_type": "execute_result"
    }
   ],
   "source": [
    "10*3*224*224"
   ]
  },
  {
   "cell_type": "markdown",
   "metadata": {},
   "source": [
    "Since we have a simple model with no regularization and plenty of parameters, it seems most likely that our learning rate is too hgh. Perhaps it is jumping to a solution where it predicts one or two classes with high confidence, so that it can give a zero prediction to as many classes as possible - that's the best approach for a model that is no better than random, and there is likely to be where we would end up with a high learning rate. So let's check:"
   ]
  },
  {
   "cell_type": "code",
   "execution_count": 43,
   "metadata": {},
   "outputs": [
    {
     "data": {
      "text/plain": [
       "array([[ 0.15,  0.  ,  0.  ,  0.  ,  0.  ,  0.  ,  0.  ,  0.  ,  0.85,  0.  ],\n",
       "       [ 0.  ,  0.  ,  1.  ,  0.  ,  0.  ,  0.  ,  0.  ,  0.  ,  0.  ,  0.  ],\n",
       "       [ 0.  ,  0.  ,  1.  ,  0.  ,  0.  ,  0.  ,  0.  ,  0.  ,  0.  ,  0.  ],\n",
       "       [ 0.  ,  0.  ,  0.  ,  0.  ,  0.  ,  0.  ,  0.  ,  0.  ,  1.  ,  0.  ],\n",
       "       [ 0.  ,  0.  ,  1.  ,  0.  ,  0.  ,  0.  ,  0.  ,  0.  ,  0.  ,  0.  ],\n",
       "       [ 0.  ,  0.  ,  0.  ,  0.  ,  0.  ,  0.  ,  0.  ,  0.  ,  1.  ,  0.  ],\n",
       "       [ 0.  ,  0.  ,  0.  ,  0.  ,  0.  ,  0.  ,  0.  ,  0.  ,  1.  ,  0.  ],\n",
       "       [ 0.  ,  0.  ,  1.  ,  0.  ,  0.  ,  0.  ,  0.  ,  0.  ,  0.  ,  0.  ],\n",
       "       [ 0.  ,  0.  ,  1.  ,  0.  ,  0.  ,  0.  ,  0.  ,  0.  ,  0.  ,  0.  ],\n",
       "       [ 0.  ,  0.  ,  1.  ,  0.  ,  0.  ,  0.  ,  0.  ,  0.  ,  0.  ,  0.  ]], dtype=float32)"
      ]
     },
     "execution_count": 43,
     "metadata": {},
     "output_type": "execute_result"
    }
   ],
   "source": [
    "np.round(model.predict_generator(batches, batches.n)[:10],2)"
   ]
  },
  {
   "cell_type": "code",
   "execution_count": 16,
   "metadata": {
    "collapsed": true
   },
   "outputs": [],
   "source": [
    "# temp = model.predict_generator(batches, batches.n)"
   ]
  },
  {
   "cell_type": "markdown",
   "metadata": {},
   "source": [
    "*(Not so in this case, only kind of, but it was indeed predicted 1 or 6 back on the Mac)*\n",
    "\n",
    "Our hypothesis was correct. It's nearly always predicting class 1 or 6, with very high confidence. So let's try a lower learning rate:"
   ]
  },
  {
   "cell_type": "code",
   "execution_count": 44,
   "metadata": {},
   "outputs": [
    {
     "name": "stdout",
     "output_type": "stream",
     "text": [
      "0.0010000000475\n"
     ]
    }
   ],
   "source": [
    "# here's a way to take a look at the learning rate\n",
    "import keras.backend as K\n",
    "LR = K.eval(model.optimizer.lr)\n",
    "print(LR)"
   ]
  },
  {
   "cell_type": "code",
   "execution_count": 45,
   "metadata": {},
   "outputs": [
    {
     "name": "stdout",
     "output_type": "stream",
     "text": [
      "Epoch 1/2\n",
      "1500/1500 [==============================] - 29s - loss: 2.3244 - acc: 0.2060 - val_loss: 4.7891 - val_acc: 0.1390\n",
      "Epoch 2/2\n",
      "1500/1500 [==============================] - 22s - loss: 1.7141 - acc: 0.4367 - val_loss: 3.4757 - val_acc: 0.1630\n"
     ]
    },
    {
     "data": {
      "text/plain": [
       "<keras.callbacks.History at 0x7efbf9d8b250>"
      ]
     },
     "execution_count": 45,
     "metadata": {},
     "output_type": "execute_result"
    }
   ],
   "source": [
    "model = Sequential([\n",
    "            BatchNormalization(axis=1, input_shape=(3,224,224)),\n",
    "            Flatten(),\n",
    "            Dense(10, activation='softmax')\n",
    "        ])\n",
    "model.compile(Adam(lr=1e-5), loss='categorical_crossentropy', metrics=['accuracy'])\n",
    "model.fit_generator(batches, batches.nb_sample, nb_epoch=2, validation_data=val_batches, \n",
    "                    nb_val_samples=val_batches.nb_sample)"
   ]
  },
  {
   "cell_type": "markdown",
   "metadata": {},
   "source": [
    "Great - we found our way out of that hole ... Now we can increase the learning rate and see where we can get to."
   ]
  },
  {
   "cell_type": "code",
   "execution_count": 46,
   "metadata": {
    "collapsed": true
   },
   "outputs": [],
   "source": [
    "model.optimizer.lr=0.001"
   ]
  },
  {
   "cell_type": "code",
   "execution_count": 47,
   "metadata": {},
   "outputs": [
    {
     "name": "stdout",
     "output_type": "stream",
     "text": [
      "Epoch 1/4\n",
      "1500/1500 [==============================] - 28s - loss: 1.3299 - acc: 0.6260 - val_loss: 2.5152 - val_acc: 0.2180\n",
      "Epoch 2/4\n",
      "1500/1500 [==============================] - 23s - loss: 1.1029 - acc: 0.7153 - val_loss: 2.2670 - val_acc: 0.2630\n",
      "Epoch 3/4\n",
      "1500/1500 [==============================] - 23s - loss: 0.9380 - acc: 0.7900 - val_loss: 1.9485 - val_acc: 0.3060\n",
      "Epoch 4/4\n",
      "1500/1500 [==============================] - 22s - loss: 0.7986 - acc: 0.8380 - val_loss: 1.9150 - val_acc: 0.3500\n"
     ]
    },
    {
     "data": {
      "text/plain": [
       "<keras.callbacks.History at 0x7efbf9d8ba90>"
      ]
     },
     "execution_count": 47,
     "metadata": {},
     "output_type": "execute_result"
    }
   ],
   "source": [
    "model.fit_generator(batches, batches.nb_sample, nb_epoch=4, validation_data=val_batches, \n",
    "                    nb_val_samples=val_batches.nb_sample)"
   ]
  },
  {
   "cell_type": "markdown",
   "metadata": {},
   "source": [
    "We're stabilizing at validation accuracy of 0.39 *(~.35 in my NB)*. Not great, but a lot better than random. Before moving on, let's check that our validation set on the sample is large enough that it gives consistent results:"
   ]
  },
  {
   "cell_type": "code",
   "execution_count": 48,
   "metadata": {},
   "outputs": [
    {
     "name": "stdout",
     "output_type": "stream",
     "text": [
      "Found 1000 images belonging to 10 classes.\n"
     ]
    }
   ],
   "source": [
    "rnd_batches = get_batches(path+'valid', batch_size=batch_size*2, shuffle=True)"
   ]
  },
  {
   "cell_type": "code",
   "execution_count": 49,
   "metadata": {
    "collapsed": true
   },
   "outputs": [],
   "source": [
    "val_res = [model.evaluate_generator(rnd_batches, rnd_batches.nb_sample) for i in range(10)]"
   ]
  },
  {
   "cell_type": "code",
   "execution_count": 50,
   "metadata": {},
   "outputs": [
    {
     "data": {
      "text/plain": [
       "array([[ 1.92,  0.35],\n",
       "       [ 1.89,  0.36],\n",
       "       [ 1.91,  0.35],\n",
       "       [ 1.95,  0.34],\n",
       "       [ 1.93,  0.36],\n",
       "       [ 1.87,  0.35],\n",
       "       [ 1.94,  0.34],\n",
       "       [ 1.93,  0.35],\n",
       "       [ 1.92,  0.35],\n",
       "       [ 1.92,  0.35]])"
      ]
     },
     "execution_count": 50,
     "metadata": {},
     "output_type": "execute_result"
    }
   ],
   "source": [
    "np.round(val_res,2)"
   ]
  },
  {
   "cell_type": "markdown",
   "metadata": {},
   "source": [
    "Yup, pretty consistent - if we see imporvements of 3% or more, it's probably not random, based on the above samples.\n",
    "\n",
    "#### L2 Regularization\n",
    "\n",
    "The previous model is over-fitting a lot, but we can't use dropout since we only have one layer. We can try to decrease overfitting in our model by adding [l2 regularization](http://www.kdnuggets.com/2015/04/preventing-overfitting-neural-networks.html/2) (ie: add the sum of squares of the weights to our loss function):"
   ]
  },
  {
   "cell_type": "code",
   "execution_count": 51,
   "metadata": {},
   "outputs": [
    {
     "name": "stdout",
     "output_type": "stream",
     "text": [
      "Epoch 1/2\n",
      "1500/1500 [==============================] - 29s - loss: 2.5984 - acc: 0.1967 - val_loss: 4.0778 - val_acc: 0.1300\n",
      "Epoch 2/2\n",
      "1500/1500 [==============================] - 22s - loss: 1.9251 - acc: 0.4273 - val_loss: 3.3006 - val_acc: 0.1690\n"
     ]
    },
    {
     "data": {
      "text/plain": [
       "<keras.callbacks.History at 0x7efbf8e91050>"
      ]
     },
     "execution_count": 51,
     "metadata": {},
     "output_type": "execute_result"
    }
   ],
   "source": [
    "model = Sequential([\n",
    "            BatchNormalization(axis=1, input_shape=(3,224,224)),\n",
    "            Flatten(),\n",
    "            Dense(10, activation='softmax', W_regularizer=l2(0.01))\n",
    "        ])\n",
    "model.compile(Adam(lr=1e-5), loss='categorical_crossentropy', metrics=['accuracy'])\n",
    "model.fit_generator(batches, batches.nb_sample, nb_epoch=2, validation_data=val_batches, \n",
    "                    nb_val_samples=val_batches.nb_sample)"
   ]
  },
  {
   "cell_type": "code",
   "execution_count": 52,
   "metadata": {},
   "outputs": [
    {
     "name": "stdout",
     "output_type": "stream",
     "text": [
      "Epoch 1/4\n",
      "1500/1500 [==============================] - 29s - loss: 1.5375 - acc: 0.6327 - val_loss: 2.6286 - val_acc: 0.3050\n",
      "Epoch 2/4\n",
      "1500/1500 [==============================] - 23s - loss: 1.3301 - acc: 0.7207 - val_loss: 2.2907 - val_acc: 0.3770\n",
      "Epoch 3/4\n",
      "1500/1500 [==============================] - 23s - loss: 1.1374 - acc: 0.7927 - val_loss: 2.1786 - val_acc: 0.4260\n",
      "Epoch 4/4\n",
      "1500/1500 [==============================] - 23s - loss: 1.0011 - acc: 0.8413 - val_loss: 2.0969 - val_acc: 0.4280\n"
     ]
    },
    {
     "data": {
      "text/plain": [
       "<keras.callbacks.History at 0x7efbf0d1c550>"
      ]
     },
     "execution_count": 52,
     "metadata": {},
     "output_type": "execute_result"
    }
   ],
   "source": [
    "model.optimizer.lr=0.001\n",
    "model.fit_generator(batches, batches.nb_sample, nb_epoch=4, validation_data=val_batches, \n",
    "                    nb_val_samples=val_batches.nb_sample)"
   ]
  },
  {
   "cell_type": "markdown",
   "metadata": {},
   "source": [
    "Looks like we can get a bit over 50% *(almost, here: 42.8%)* accuracy this way. This'll be a good benchmark for our future models - if we can't beat 50%, then we're not even beating a linear model trained on a sample, so we'll know that's not a good approach.\n",
    "\n",
    "### Single hidden layer\n",
    "\n",
    "The next simplest model is to add a single hidden layer."
   ]
  },
  {
   "cell_type": "code",
   "execution_count": 53,
   "metadata": {},
   "outputs": [
    {
     "name": "stdout",
     "output_type": "stream",
     "text": [
      "Epoch 1/2\n",
      "1500/1500 [==============================] - 29s - loss: 1.9530 - acc: 0.3720 - val_loss: 6.8269 - val_acc: 0.2310\n",
      "Epoch 2/2\n",
      "1500/1500 [==============================] - 22s - loss: 0.9760 - acc: 0.7380 - val_loss: 3.5732 - val_acc: 0.3020\n",
      "Epoch 1/5\n",
      "1500/1500 [==============================] - 29s - loss: 0.5404 - acc: 0.8920 - val_loss: 2.8955 - val_acc: 0.3460\n",
      "Epoch 2/5\n",
      "1500/1500 [==============================] - 24s - loss: 0.3456 - acc: 0.9513 - val_loss: 2.3355 - val_acc: 0.3780\n",
      "Epoch 3/5\n",
      "1500/1500 [==============================] - 22s - loss: 0.2140 - acc: 0.9807 - val_loss: 1.8686 - val_acc: 0.4330\n",
      "Epoch 4/5\n",
      "1500/1500 [==============================] - 22s - loss: 0.1530 - acc: 0.9940 - val_loss: 1.9645 - val_acc: 0.4020\n",
      "Epoch 5/5\n",
      "1500/1500 [==============================] - 22s - loss: 0.1067 - acc: 0.9973 - val_loss: 1.9403 - val_acc: 0.4000\n"
     ]
    },
    {
     "data": {
      "text/plain": [
       "<keras.callbacks.History at 0x7efbece61d10>"
      ]
     },
     "execution_count": 53,
     "metadata": {},
     "output_type": "execute_result"
    }
   ],
   "source": [
    "model = Sequential([\n",
    "            BatchNormalization(axis=1, input_shape=(3, 224, 224)),\n",
    "            Flatten(),\n",
    "            Dense(100, activation='relu'), #¿would λ2 be good here?\n",
    "            BatchNormalization(),\n",
    "            Dense(10, activation='softmax')\n",
    "        ])\n",
    "model.compile(Adam(lr=1e-5), loss='categorical_crossentropy', metrics=['accuracy'])\n",
    "model.fit_generator(batches, batches.nb_sample, nb_epoch=2, validation_data=val_batches, \n",
    "                    nb_val_samples=val_batches.nb_sample)\n",
    "\n",
    "model.optimizer.lr = 0.01\n",
    "model.fit_generator(batches, batches.nb_sample, nb_epoch=5, validation_data=val_batches, \n",
    "                    nb_val_samples=val_batches.nb_sample)"
   ]
  },
  {
   "cell_type": "markdown",
   "metadata": {},
   "source": [
    "*(Odd, I may not have a good validation set if I'm getting such higher valacc numbers... ---- not anymore now that I'm using a proper valset. Of course, just as with JH's notebook: val accuracy has decreased a bit.)*\n",
    "\n",
    "Not looking very encouraging... which isn't surprising since we know that CNNs are a much better choice for computer vision problems. So we'll try one.\n",
    "\n",
    "### Single Conv Layer\n",
    "\n",
    "2 conv layers with max pooling followed by a simple dense network is a good simple CNN to start with:"
   ]
  },
  {
   "cell_type": "code",
   "execution_count": 24,
   "metadata": {
    "collapsed": true
   },
   "outputs": [],
   "source": [
    "def conv1(batches):\n",
    "    model = Sequential([\n",
    "                BatchNormalization(axis=1, input_shape=(3,224,224)),\n",
    "                Convolution2D(32, 3, 3, activation='relu'),\n",
    "                BatchNormalization(axis=1),\n",
    "                MaxPooling2D((3, 3)),\n",
    "                Convolution2D(64, 3, 3, activation='relu'),\n",
    "                BatchNormalization(axis=1),\n",
    "                MaxPooling2D((3,3)),\n",
    "                Flatten(),\n",
    "                Dense(200, activation='relu'),\n",
    "                BatchNormalization(),\n",
    "                Dense(10, activation='softmax')\n",
    "            ])\n",
    "    model.compile(Adam(1e-3), loss='categorical_crossentropy', metrics=['accuracy'])\n",
    "    model.fit_generator(batches, batches.nb_sample, nb_epoch=2, validation_data=val_batches,\n",
    "                        nb_val_samples=val_batches.nb_sample)\n",
    "    \n",
    "    model.optimizer.lr = 0.001\n",
    "    model.fit_generator(batches, batches.nb_sample, nb_epoch=4, validation_data=val_batches,\n",
    "                        nb_val_samples=val_batches.nb_sample)\n",
    "    \n",
    "    return model"
   ]
  },
  {
   "cell_type": "markdown",
   "metadata": {},
   "source": [
    "On GPU running out of memory (2692/3017 MiB) at this point. Restarting with smaller batch size (32?)"
   ]
  },
  {
   "cell_type": "code",
   "execution_count": 10,
   "metadata": {},
   "outputs": [
    {
     "name": "stdout",
     "output_type": "stream",
     "text": [
      "Epoch 1/2\n",
      "1500/1500 [==============================] - 27s - loss: 1.5698 - acc: 0.5500 - val_loss: 2.3221 - val_acc: 0.1720\n",
      "Epoch 2/2\n",
      "1500/1500 [==============================] - 24s - loss: 0.3194 - acc: 0.9200 - val_loss: 4.1715 - val_acc: 0.1150\n",
      "Epoch 1/4\n",
      "1500/1500 [==============================] - 28s - loss: 0.0753 - acc: 0.9860 - val_loss: 10.1540 - val_acc: 0.0950\n",
      "Epoch 2/4\n",
      "1500/1500 [==============================] - 24s - loss: 0.0312 - acc: 0.9967 - val_loss: 7.7758 - val_acc: 0.1620\n",
      "Epoch 3/4\n",
      "1500/1500 [==============================] - 25s - loss: 0.0130 - acc: 1.0000 - val_loss: 5.6227 - val_acc: 0.2060\n",
      "Epoch 4/4\n",
      "1500/1500 [==============================] - 24s - loss: 0.0060 - acc: 1.0000 - val_loss: 3.5450 - val_acc: 0.2780\n"
     ]
    }
   ],
   "source": [
    "conv1(batches)"
   ]
  },
  {
   "cell_type": "markdown",
   "metadata": {},
   "source": [
    "The training set here is very rapidly reaching a very high accuracy. So if we could regularize this, perhaps we could get a reasonable results.\n",
    "\n",
    "So, what kind of regularization should we try first? As we discussed in lesson 3, we should start with data augmentation.\n",
    "\n",
    "## Data Augmentation\n",
    "\n",
    "To find the best data augmentation parameters, we can try each type of data augmentation, one at a time. For each type, we can try four very different levels of augmentation, and see which is the best. In the steps below we've only kept the single best results we found. We're using the CNN we defined above, since we have already observed it can model the data quickly and accurately.\n",
    "\n",
    "Width shift: move the image left and right -"
   ]
  },
  {
   "cell_type": "code",
   "execution_count": 11,
   "metadata": {},
   "outputs": [
    {
     "name": "stdout",
     "output_type": "stream",
     "text": [
      "Found 1500 images belonging to 10 classes.\n"
     ]
    }
   ],
   "source": [
    "gen_t = image.ImageDataGenerator(width_shift_range=0.1)\n",
    "batches = get_batches(path + 'train', gen_t, batch_size=batch_size)"
   ]
  },
  {
   "cell_type": "code",
   "execution_count": 12,
   "metadata": {},
   "outputs": [
    {
     "name": "stdout",
     "output_type": "stream",
     "text": [
      "Epoch 1/2\n",
      "1500/1500 [==============================] - 27s - loss: 2.1444 - acc: 0.3353 - val_loss: 2.0697 - val_acc: 0.3110\n",
      "Epoch 2/2\n",
      "1500/1500 [==============================] - 26s - loss: 1.1475 - acc: 0.6627 - val_loss: 2.1255 - val_acc: 0.2670\n",
      "Epoch 1/4\n",
      "1500/1500 [==============================] - 28s - loss: 0.7160 - acc: 0.7867 - val_loss: 2.6059 - val_acc: 0.2640\n",
      "Epoch 2/4\n",
      "1500/1500 [==============================] - 24s - loss: 0.5159 - acc: 0.8447 - val_loss: 2.7986 - val_acc: 0.2920\n",
      "Epoch 3/4\n",
      "1500/1500 [==============================] - 24s - loss: 0.4063 - acc: 0.8807 - val_loss: 2.1449 - val_acc: 0.3750\n",
      "Epoch 4/4\n",
      "1500/1500 [==============================] - 24s - loss: 0.2804 - acc: 0.9220 - val_loss: 1.7042 - val_acc: 0.3800\n"
     ]
    }
   ],
   "source": [
    "model = conv1(batches)"
   ]
  },
  {
   "cell_type": "markdown",
   "metadata": {},
   "source": [
    "Height shift: move the image up and down - "
   ]
  },
  {
   "cell_type": "code",
   "execution_count": 13,
   "metadata": {},
   "outputs": [
    {
     "name": "stdout",
     "output_type": "stream",
     "text": [
      "Found 1500 images belonging to 10 classes.\n"
     ]
    }
   ],
   "source": [
    "gen_t = image.ImageDataGenerator(height_shift_range=0.05)\n",
    "batches = get_batches(path + 'train', gen_t, batch_size=batch_size)"
   ]
  },
  {
   "cell_type": "code",
   "execution_count": 14,
   "metadata": {},
   "outputs": [
    {
     "name": "stdout",
     "output_type": "stream",
     "text": [
      "Epoch 1/2\n",
      "1500/1500 [==============================] - 27s - loss: 1.9705 - acc: 0.4240 - val_loss: 2.1577 - val_acc: 0.2370\n",
      "Epoch 2/2\n",
      "1500/1500 [==============================] - 24s - loss: 0.7798 - acc: 0.7780 - val_loss: 2.5230 - val_acc: 0.2800\n",
      "Epoch 1/4\n",
      "1500/1500 [==============================] - 28s - loss: 0.3468 - acc: 0.9153 - val_loss: 3.1418 - val_acc: 0.2650\n",
      "Epoch 2/4\n",
      "1500/1500 [==============================] - 24s - loss: 0.2442 - acc: 0.9333 - val_loss: 4.4669 - val_acc: 0.1850\n",
      "Epoch 3/4\n",
      "1500/1500 [==============================] - 24s - loss: 0.1695 - acc: 0.9553 - val_loss: 5.1272 - val_acc: 0.2070\n",
      "Epoch 4/4\n",
      "1500/1500 [==============================] - 24s - loss: 0.1205 - acc: 0.9767 - val_loss: 3.2405 - val_acc: 0.2420\n"
     ]
    }
   ],
   "source": [
    "model = conv1(batches)"
   ]
  },
  {
   "cell_type": "markdown",
   "metadata": {},
   "source": [
    "Random shear angles (max in radians) - "
   ]
  },
  {
   "cell_type": "code",
   "execution_count": 15,
   "metadata": {},
   "outputs": [
    {
     "name": "stdout",
     "output_type": "stream",
     "text": [
      "Found 1500 images belonging to 10 classes.\n"
     ]
    }
   ],
   "source": [
    "gen_t = image.ImageDataGenerator(shear_range=0.1)\n",
    "batches = get_batches(path + 'train', gen_t, batch_size=batch_size)"
   ]
  },
  {
   "cell_type": "code",
   "execution_count": 16,
   "metadata": {},
   "outputs": [
    {
     "name": "stdout",
     "output_type": "stream",
     "text": [
      "Epoch 1/2\n",
      "1500/1500 [==============================] - 28s - loss: 1.6760 - acc: 0.5007 - val_loss: 2.1360 - val_acc: 0.2010\n",
      "Epoch 2/2\n",
      "1500/1500 [==============================] - 24s - loss: 0.4158 - acc: 0.8887 - val_loss: 2.7266 - val_acc: 0.1360\n",
      "Epoch 1/4\n",
      "1500/1500 [==============================] - 28s - loss: 0.1252 - acc: 0.9767 - val_loss: 3.0101 - val_acc: 0.2570\n",
      "Epoch 2/4\n",
      "1500/1500 [==============================] - 24s - loss: 0.0758 - acc: 0.9873 - val_loss: 3.4695 - val_acc: 0.1940\n",
      "Epoch 3/4\n",
      "1500/1500 [==============================] - 25s - loss: 0.0400 - acc: 0.9960 - val_loss: 3.1227 - val_acc: 0.1900\n",
      "Epoch 4/4\n",
      "1500/1500 [==============================] - 24s - loss: 0.0209 - acc: 0.9987 - val_loss: 2.8056 - val_acc: 0.2300\n"
     ]
    }
   ],
   "source": [
    "model = conv1(batches)"
   ]
  },
  {
   "cell_type": "markdown",
   "metadata": {},
   "source": [
    "Rotation: max in degrees - "
   ]
  },
  {
   "cell_type": "code",
   "execution_count": 17,
   "metadata": {},
   "outputs": [
    {
     "name": "stdout",
     "output_type": "stream",
     "text": [
      "Found 1500 images belonging to 10 classes.\n"
     ]
    }
   ],
   "source": [
    "gen_t = image.ImageDataGenerator(rotation_range=15)\n",
    "batches = get_batches(path + 'train', gen_t, batch_size=batch_size)"
   ]
  },
  {
   "cell_type": "code",
   "execution_count": 18,
   "metadata": {},
   "outputs": [
    {
     "name": "stdout",
     "output_type": "stream",
     "text": [
      "Epoch 1/2\n",
      "1500/1500 [==============================] - 27s - loss: 1.9311 - acc: 0.3973 - val_loss: 2.1683 - val_acc: 0.1690\n",
      "Epoch 2/2\n",
      "1500/1500 [==============================] - 24s - loss: 0.8799 - acc: 0.7247 - val_loss: 2.1014 - val_acc: 0.2760\n",
      "Epoch 1/4\n",
      "1500/1500 [==============================] - 27s - loss: 0.4911 - acc: 0.8547 - val_loss: 2.4849 - val_acc: 0.2890\n",
      "Epoch 2/4\n",
      "1500/1500 [==============================] - 24s - loss: 0.3981 - acc: 0.8893 - val_loss: 2.6046 - val_acc: 0.2490\n",
      "Epoch 3/4\n",
      "1500/1500 [==============================] - 25s - loss: 0.2532 - acc: 0.9267 - val_loss: 2.7225 - val_acc: 0.3160\n",
      "Epoch 4/4\n",
      "1500/1500 [==============================] - 25s - loss: 0.2075 - acc: 0.9460 - val_loss: 2.7361 - val_acc: 0.3170\n"
     ]
    }
   ],
   "source": [
    "model = conv1(batches)"
   ]
  },
  {
   "cell_type": "markdown",
   "metadata": {},
   "source": [
    "Channel shift: randomly changing the R,B,G colors - "
   ]
  },
  {
   "cell_type": "code",
   "execution_count": 19,
   "metadata": {},
   "outputs": [
    {
     "name": "stdout",
     "output_type": "stream",
     "text": [
      "Found 1500 images belonging to 10 classes.\n"
     ]
    }
   ],
   "source": [
    "gen_t = image.ImageDataGenerator(channel_shift_range=20)\n",
    "batches = get_batches(path + 'train', gen_t, batch_size=batch_size)"
   ]
  },
  {
   "cell_type": "code",
   "execution_count": 20,
   "metadata": {},
   "outputs": [
    {
     "name": "stdout",
     "output_type": "stream",
     "text": [
      "Epoch 1/2\n",
      "1500/1500 [==============================] - 28s - loss: 1.8106 - acc: 0.4927 - val_loss: 2.3554 - val_acc: 0.1720\n",
      "Epoch 2/2\n",
      "1500/1500 [==============================] - 24s - loss: 0.4388 - acc: 0.8960 - val_loss: 3.5913 - val_acc: 0.1240\n",
      "Epoch 1/4\n",
      "1500/1500 [==============================] - 28s - loss: 0.1195 - acc: 0.9820 - val_loss: 5.1230 - val_acc: 0.1970\n",
      "Epoch 2/4\n",
      "1500/1500 [==============================] - 24s - loss: 0.0474 - acc: 0.9940 - val_loss: 3.5882 - val_acc: 0.2090\n",
      "Epoch 3/4\n",
      "1500/1500 [==============================] - 25s - loss: 0.0146 - acc: 1.0000 - val_loss: 3.4423 - val_acc: 0.1480\n",
      "Epoch 4/4\n",
      "1500/1500 [==============================] - 25s - loss: 0.0076 - acc: 1.0000 - val_loss: 3.2381 - val_acc: 0.1520\n"
     ]
    }
   ],
   "source": [
    "model = conv1(batches)"
   ]
  },
  {
   "cell_type": "markdown",
   "metadata": {},
   "source": [
    "And finally, putting it all together!"
   ]
  },
  {
   "cell_type": "code",
   "execution_count": 21,
   "metadata": {},
   "outputs": [
    {
     "name": "stdout",
     "output_type": "stream",
     "text": [
      "Found 1500 images belonging to 10 classes.\n"
     ]
    }
   ],
   "source": [
    "gen_t = image.ImageDataGenerator(rotation_range=15, height_shift_range=0.05, \n",
    "                shear_range=0.1, channel_shift_range=20, width_shift_range=0.1)\n",
    "batches = get_batches(path + 'train', gen_t, batch_size=batch_size)"
   ]
  },
  {
   "cell_type": "code",
   "execution_count": 25,
   "metadata": {},
   "outputs": [
    {
     "name": "stdout",
     "output_type": "stream",
     "text": [
      "Epoch 1/2\n",
      "1500/1500 [==============================] - 28s - loss: 2.2840 - acc: 0.2820 - val_loss: 2.9133 - val_acc: 0.1980\n",
      "Epoch 2/2\n",
      "1500/1500 [==============================] - 24s - loss: 1.6720 - acc: 0.4600 - val_loss: 2.2237 - val_acc: 0.1370\n",
      "Epoch 1/4\n",
      "1500/1500 [==============================] - 28s - loss: 1.3354 - acc: 0.5707 - val_loss: 4.3484 - val_acc: 0.1790\n",
      "Epoch 2/4\n",
      "1500/1500 [==============================] - 24s - loss: 1.1996 - acc: 0.6173 - val_loss: 5.3284 - val_acc: 0.2020\n",
      "Epoch 3/4\n",
      "1500/1500 [==============================] - 25s - loss: 1.0949 - acc: 0.6333 - val_loss: 4.0895 - val_acc: 0.2800\n",
      "Epoch 4/4\n",
      "1500/1500 [==============================] - 24s - loss: 0.9598 - acc: 0.6987 - val_loss: 2.6515 - val_acc: 0.3640\n"
     ]
    }
   ],
   "source": [
    "model = conv1(batches)"
   ]
  },
  {
   "cell_type": "markdown",
   "metadata": {},
   "source": [
    "At first glance, this isn't looking encouraging, since the validation set is poor and getting worse. But the training set is getting better, and still has a long way to go in accuracy - so we should try annealing our learning rate and running more epochs, before we make a decision."
   ]
  },
  {
   "cell_type": "code",
   "execution_count": 26,
   "metadata": {},
   "outputs": [
    {
     "name": "stdout",
     "output_type": "stream",
     "text": [
      "Epoch 1/5\n",
      "1500/1500 [==============================] - 28s - loss: 0.8259 - acc: 0.7513 - val_loss: 1.4187 - val_acc: 0.5020\n",
      "Epoch 2/5\n",
      "1500/1500 [==============================] - 25s - loss: 0.7557 - acc: 0.7540 - val_loss: 1.4003 - val_acc: 0.4590\n",
      "Epoch 3/5\n",
      "1500/1500 [==============================] - 24s - loss: 0.6917 - acc: 0.7840 - val_loss: 1.1953 - val_acc: 0.5540\n",
      "Epoch 4/5\n",
      "1500/1500 [==============================] - 24s - loss: 0.6404 - acc: 0.7920 - val_loss: 0.9105 - val_acc: 0.7270\n",
      "Epoch 5/5\n",
      "1500/1500 [==============================] - 25s - loss: 0.5648 - acc: 0.8133 - val_loss: 0.8700 - val_acc: 0.7090\n"
     ]
    },
    {
     "data": {
      "text/plain": [
       "<keras.callbacks.History at 0x7f37bd40d550>"
      ]
     },
     "execution_count": 26,
     "metadata": {},
     "output_type": "execute_result"
    }
   ],
   "source": [
    "model.optimizer.lr = 0.0001\n",
    "model.fit_generator(batches, batches.nb_sample, nb_epoch=5, validation_data=val_batches,\n",
    "                    nb_val_samples=val_batches.nb_sample)"
   ]
  },
  {
   "cell_type": "markdown",
   "metadata": {},
   "source": [
    "Lucky we tried that - we're starting to make progress! Let's keep going."
   ]
  },
  {
   "cell_type": "code",
   "execution_count": 27,
   "metadata": {},
   "outputs": [
    {
     "name": "stdout",
     "output_type": "stream",
     "text": [
      "Epoch 1/25\n",
      "1500/1500 [==============================] - 28s - loss: 0.5665 - acc: 0.8213 - val_loss: 0.9156 - val_acc: 0.6950\n",
      "Epoch 2/25\n",
      "1500/1500 [==============================] - 24s - loss: 0.5001 - acc: 0.8453 - val_loss: 1.1941 - val_acc: 0.6120\n",
      "Epoch 3/25\n",
      "1500/1500 [==============================] - 24s - loss: 0.4538 - acc: 0.8640 - val_loss: 0.8370 - val_acc: 0.6890\n",
      "Epoch 4/25\n",
      "1500/1500 [==============================] - 25s - loss: 0.4005 - acc: 0.8800 - val_loss: 0.9979 - val_acc: 0.6710\n",
      "Epoch 5/25\n",
      "1500/1500 [==============================] - 25s - loss: 0.3976 - acc: 0.8760 - val_loss: 0.8736 - val_acc: 0.7280\n",
      "Epoch 6/25\n",
      "1500/1500 [==============================] - 24s - loss: 0.3930 - acc: 0.8767 - val_loss: 1.0180 - val_acc: 0.7020\n",
      "Epoch 7/25\n",
      "1500/1500 [==============================] - 25s - loss: 0.3792 - acc: 0.8833 - val_loss: 1.0186 - val_acc: 0.6510\n",
      "Epoch 8/25\n",
      "1500/1500 [==============================] - 25s - loss: 0.3408 - acc: 0.8873 - val_loss: 0.7202 - val_acc: 0.7560\n",
      "Epoch 9/25\n",
      "1500/1500 [==============================] - 25s - loss: 0.3141 - acc: 0.9027 - val_loss: 0.6616 - val_acc: 0.8240\n",
      "Epoch 10/25\n",
      "1500/1500 [==============================] - 24s - loss: 0.3139 - acc: 0.8960 - val_loss: 0.8935 - val_acc: 0.7520\n",
      "Epoch 11/25\n",
      "1500/1500 [==============================] - 24s - loss: 0.3201 - acc: 0.8953 - val_loss: 0.9206 - val_acc: 0.7150\n",
      "Epoch 12/25\n",
      "1500/1500 [==============================] - 24s - loss: 0.3155 - acc: 0.8953 - val_loss: 0.7933 - val_acc: 0.7590\n",
      "Epoch 13/25\n",
      "1500/1500 [==============================] - 25s - loss: 0.2670 - acc: 0.9113 - val_loss: 0.7633 - val_acc: 0.7530\n",
      "Epoch 14/25\n",
      "1500/1500 [==============================] - 25s - loss: 0.2459 - acc: 0.9287 - val_loss: 0.8990 - val_acc: 0.7460\n",
      "Epoch 15/25\n",
      "1500/1500 [==============================] - 25s - loss: 0.2187 - acc: 0.9327 - val_loss: 0.7794 - val_acc: 0.7720\n",
      "Epoch 16/25\n",
      "1500/1500 [==============================] - 25s - loss: 0.2375 - acc: 0.9287 - val_loss: 1.0600 - val_acc: 0.7370\n",
      "Epoch 17/25\n",
      "1500/1500 [==============================] - 25s - loss: 0.2250 - acc: 0.9307 - val_loss: 0.7686 - val_acc: 0.7590\n",
      "Epoch 18/25\n",
      "1500/1500 [==============================] - 25s - loss: 0.2285 - acc: 0.9313 - val_loss: 0.9665 - val_acc: 0.7500\n",
      "Epoch 19/25\n",
      "1500/1500 [==============================] - 25s - loss: 0.2145 - acc: 0.9273 - val_loss: 0.7705 - val_acc: 0.7590\n",
      "Epoch 20/25\n",
      "1500/1500 [==============================] - 24s - loss: 0.2196 - acc: 0.9273 - val_loss: 1.2420 - val_acc: 0.6880\n",
      "Epoch 21/25\n",
      "1500/1500 [==============================] - 24s - loss: 0.2156 - acc: 0.9320 - val_loss: 1.0883 - val_acc: 0.7420\n",
      "Epoch 22/25\n",
      "1500/1500 [==============================] - 25s - loss: 0.2368 - acc: 0.9207 - val_loss: 0.8508 - val_acc: 0.7470\n",
      "Epoch 23/25\n",
      "1500/1500 [==============================] - 25s - loss: 0.2331 - acc: 0.9200 - val_loss: 1.0747 - val_acc: 0.7370\n",
      "Epoch 24/25\n",
      "1500/1500 [==============================] - 25s - loss: 0.1729 - acc: 0.9440 - val_loss: 1.1955 - val_acc: 0.6960\n",
      "Epoch 25/25\n",
      "1500/1500 [==============================] - 25s - loss: 0.1553 - acc: 0.9493 - val_loss: 1.0082 - val_acc: 0.7680\n"
     ]
    },
    {
     "data": {
      "text/plain": [
       "<keras.callbacks.History at 0x7f37bd40d9d0>"
      ]
     },
     "execution_count": 27,
     "metadata": {},
     "output_type": "execute_result"
    }
   ],
   "source": [
    "model.fit_generator(batches, batches.nb_sample, nb_epoch=25, validation_data=val_batches,\n",
    "                    nb_val_samples=val_batches.nb_sample)"
   ]
  },
  {
   "cell_type": "markdown",
   "metadata": {},
   "source": [
    "Amazingly, using nothing but a small sample, a simple (not pre-trianed) model with no dropout, and data augmentation, we're getting results that would get us into the top 50% of the competition! This looks like a great foundation for our further experiments.\n",
    "\n",
    "To go further, we'll need to use the whole dataset, since dropout and data volumes are very related, so we can't tweak dropout without using all the data.\n",
    "\n",
    "*(I can confirm: my best 1st attempt score was a loss of 1.51002 w/ indicated val/trn loss of: 1.1896/1.0269 & val acc. of 61.9%.. Here it's obviously severely overfitting on training data, but the indicated val loss/acc is: 1.0082/76.8%.. Looks good.)*\n",
    "\n",
    "*Btw, 1.51~~ gives a ranking of 658/1440: top 45.69%. So this would be much better.*"
   ]
  }
 ],
 "metadata": {
  "kernelspec": {
   "display_name": "Python 2",
   "language": "python",
   "name": "python2"
  },
  "language_info": {
   "codemirror_mode": {
    "name": "ipython",
    "version": 2
   },
   "file_extension": ".py",
   "mimetype": "text/x-python",
   "name": "python",
   "nbconvert_exporter": "python",
   "pygments_lexer": "ipython2",
   "version": "2.7.13"
  }
 },
 "nbformat": 4,
 "nbformat_minor": 2
}
