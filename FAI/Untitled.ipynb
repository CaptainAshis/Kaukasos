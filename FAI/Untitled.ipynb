{
 "cells": [
  {
   "cell_type": "markdown",
   "metadata": {},
   "source": [
    "05 Jun 2017\n",
    "\n",
    "Convolution Test Features -- Test.\n",
    "\n",
    "Following along: [[here](https://gist.github.com/idanori/3dadb3c1d66223170d2df4cd802da7cf)]"
   ]
  },
  {
   "cell_type": "code",
   "execution_count": null,
   "metadata": {
    "collapsed": true
   },
   "outputs": [],
   "source": [
    "import theano"
   ]
  },
  {
   "cell_type": "code",
   "execution_count": null,
   "metadata": {
    "collapsed": true
   },
   "outputs": [],
   "source": [
    "%matplotlib inline\n",
    "from __future__ import print_function, division\n",
    "\n",
    "import utils\n",
    "from utils import *\n",
    "from IPython.display import FileLink\n",
    "from shutil import copyfile, move\n",
    "import pandas as pd\n",
    "import matplotlib.image as mpimg"
   ]
  },
  {
   "cell_type": "code",
   "execution_count": null,
   "metadata": {
    "collapsed": true
   },
   "outputs": [],
   "source": [
    "path = \"data/statefarm/\""
   ]
  },
  {
   "cell_type": "code",
   "execution_count": null,
   "metadata": {
    "collapsed": true
   },
   "outputs": [],
   "source": [
    "batch_size = 16"
   ]
  },
  {
   "cell_type": "markdown",
   "metadata": {},
   "source": [
    "### Save Array Function"
   ]
  },
  {
   "cell_type": "code",
   "execution_count": null,
   "metadata": {
    "collapsed": true
   },
   "outputs": [],
   "source": [
    "import bcolz\n",
    "def save_array(fname, arr): c=bcolz.carray(arr, rootdir=fname, mode='w'); c.flush()\n",
    "def load_array(fname): return bcolz.open(fname)[:]\n",
    "def load_carray(fname): return bcolz.open(fname)"
   ]
  },
  {
   "cell_type": "code",
   "execution_count": null,
   "metadata": {
    "collapsed": true
   },
   "outputs": [],
   "source": [
    "def onehot(x): return np.array(OneHotEncoder().fit_transform(x.reshape(-1,1)).todense())\n",
    "def hotone(x):\n",
    "    ret = []\n",
    "    for i in range(len(x)):\n",
    "        for j in range(len(x[i])):\n",
    "            if x[i][j] == 1:\n",
    "                ret += [j]\n",
    "    return ret\n",
    "# concat all arrays from batch dir\n",
    "def concat_batches(batches):\n",
    "    return np.concatenate([batches.next() for i in range(int(batches.n/batches.batch_size+1))])"
   ]
  },
  {
   "cell_type": "markdown",
   "metadata": {},
   "source": [
    "### Add Conv Layer"
   ]
  },
  {
   "cell_type": "code",
   "execution_count": null,
   "metadata": {
    "collapsed": true
   },
   "outputs": [],
   "source": [
    "import vgg16\n",
    "vggModel = Vgg16()\n",
    "vggModel.model.summary()"
   ]
  },
  {
   "cell_type": "code",
   "execution_count": null,
   "metadata": {
    "collapsed": true
   },
   "outputs": [],
   "source": [
    "# get index of last conv layer\n",
    "lastConvIndex = -1\n",
    "for i in range(len(vggModel.model.layers)):\n",
    "    if (type(vggModel.model.layers[i]) == Convolution2D):\n",
    "        lastConvIndex = i\n",
    "\n",
    "print ('last conv layer index ' + str(i))"
   ]
  },
  {
   "cell_type": "code",
   "execution_count": null,
   "metadata": {
    "collapsed": true
   },
   "outputs": [],
   "source": [
    "convLayers = vggModel.model.layers[:lastConvIndex+1]\n",
    "vggConvLayersModel = Sequential(convLayers)\n",
    "vggConvLayersModel.summary()"
   ]
  },
  {
   "cell_type": "code",
   "execution_count": null,
   "metadata": {
    "collapsed": true
   },
   "outputs": [],
   "source": [
    "#generate an augmented train batch\n",
    "imgGen = image.ImageDataGenerator(rotation_range=15, height_shift_range=0.05, \n",
    "                                  shear_range=0.1, channel_shift_range=20, width_shift_range=0.1)\n",
    "\n",
    "augmentTrainBatch = imgGen.flow_from_directory(directory=path+'train', batch_size=64, target_size=(224,224), \n",
    "                                               shuffle=False, class_mode='categorical')"
   ]
  },
  {
   "cell_type": "code",
   "execution_count": null,
   "metadata": {
    "collapsed": true
   },
   "outputs": [],
   "source": [
    "train_batches = augmentTrainBatch\n",
    "\n",
    "# generate a new validation batch\n",
    "val_batches = get_batches(path + 'valid', batch_size=batch_size, shuffle=False, \n",
    "                         target_size=(224,224))"
   ]
  },
  {
   "cell_type": "code",
   "execution_count": null,
   "metadata": {
    "collapsed": true
   },
   "outputs": [],
   "source": [
    "test_batch = get_batches(path + 'test', batch_size=batch_size, shuffle=False,\n",
    "                        target_size=(224,224), class_mode='binary')"
   ]
  },
  {
   "cell_type": "code",
   "execution_count": null,
   "metadata": {
    "collapsed": true
   },
   "outputs": [],
   "source": [
    "val_batches.reset()\n",
    "train_label_arr = onehot(train_batches.classes)\n",
    "train_file_names_arr = train_batches.filenames\n",
    "valid_label_arr = onehot(val_batches.classes)\n",
    "valid_file_names_arr = val_batches.filenames\n",
    "test_file_names_arr = test_batch.filenames"
   ]
  },
  {
   "cell_type": "markdown",
   "metadata": {},
   "source": [
    "#### predict batches on pretrained model (based on conv layer of VGG16)"
   ]
  },
  {
   "cell_type": "code",
   "execution_count": null,
   "metadata": {
    "collapsed": true
   },
   "outputs": [],
   "source": [
    "predictTrainVggConv = vggConvLayersModel.predict_generator(test_batch, test_batch.n)"
   ]
  }
 ],
 "metadata": {
  "kernelspec": {
   "display_name": "Python 2",
   "language": "python",
   "name": "python2"
  },
  "language_info": {
   "codemirror_mode": {
    "name": "ipython",
    "version": 2
   },
   "file_extension": ".py",
   "mimetype": "text/x-python",
   "name": "python",
   "nbconvert_exporter": "python",
   "pygments_lexer": "ipython2",
   "version": "2.7.13"
  }
 },
 "nbformat": 4,
 "nbformat_minor": 2
}
