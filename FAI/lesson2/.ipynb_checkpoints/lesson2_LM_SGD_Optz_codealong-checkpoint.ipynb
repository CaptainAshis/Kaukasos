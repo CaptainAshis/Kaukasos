{
 "cells": [
  {
   "cell_type": "markdown",
   "metadata": {},
   "source": [
    "## Lesson 2 SGD/Optimization Tutorial Code Along\n",
    "\n",
    "See the [notebook](https://github.com/fastai/courses/blob/master/deeplearning1/nbs/sgd-intro.ipynb) -- FAI1 - Practical Deep Learning I\n",
    "\n",
    "Follow Lecture 2 @ around [[1:10:00]]()"
   ]
  },
  {
   "cell_type": "code",
   "execution_count": 16,
   "metadata": {
    "collapsed": true
   },
   "outputs": [],
   "source": [
    "%matplotlib inline\n",
    "import numpy as np\n",
    "from numpy.random import random\n",
    "# from matplotlib import pyplot as plt, animation\n",
    "from matplotlib import pyplot as plt, rcParams, animation, rc\n",
    "rc('animation', html='html5')\n",
    "rcParams['figure.figsize'] = 3, 3 # sets plot window size\n",
    "%precision 4\n",
    "np.set_printoptions(precision=4, linewidth=60)"
   ]
  },
  {
   "cell_type": "code",
   "execution_count": 17,
   "metadata": {
    "collapsed": true
   },
   "outputs": [],
   "source": [
    "def lin(a, b, x): return a*x + b"
   ]
  },
  {
   "cell_type": "code",
   "execution_count": 18,
   "metadata": {
    "collapsed": true
   },
   "outputs": [],
   "source": [
    "a = 3.\n",
    "b = 8."
   ]
  },
  {
   "cell_type": "code",
   "execution_count": 19,
   "metadata": {
    "collapsed": true
   },
   "outputs": [],
   "source": [
    "n = 30\n",
    "x = random(n)\n",
    "y = lin(a, b, x)"
   ]
  },
  {
   "cell_type": "code",
   "execution_count": 20,
   "metadata": {},
   "outputs": [
    {
     "data": {
      "text/plain": [
       "array([ 0.9198,  0.7294,  0.6458,  0.7301,  0.0846,  0.1477,\n",
       "        0.3399,  0.121 ,  0.9358,  0.8968,  0.1368,  0.5865,\n",
       "        0.9389,  0.4044,  0.8888,  0.5425,  0.8703,  0.4314,\n",
       "        0.2092,  0.6894,  0.3578,  0.738 ,  0.0765,  0.6168,\n",
       "        0.8595,  0.5079,  0.9581,  0.6021,  0.2423,  0.04  ])"
      ]
     },
     "execution_count": 20,
     "metadata": {},
     "output_type": "execute_result"
    }
   ],
   "source": [
    "x"
   ]
  },
  {
   "cell_type": "code",
   "execution_count": 21,
   "metadata": {},
   "outputs": [
    {
     "data": {
      "text/plain": [
       "array([ 10.7594,  10.1883,   9.9375,  10.1902,   8.2537,\n",
       "         8.443 ,   9.0196,   8.363 ,  10.8074,  10.6905,\n",
       "         8.4105,   9.7594,  10.8167,   9.2132,  10.6663,\n",
       "         9.6274,  10.611 ,   9.2941,   8.6277,  10.0681,\n",
       "         9.0734,  10.214 ,   8.2294,   9.8505,  10.5784,\n",
       "         9.5237,  10.8743,   9.8063,   8.7268,   8.1201])"
      ]
     },
     "execution_count": 21,
     "metadata": {},
     "output_type": "execute_result"
    }
   ],
   "source": [
    "y"
   ]
  },
  {
   "cell_type": "code",
   "execution_count": 22,
   "metadata": {},
   "outputs": [
    {
     "data": {
      "text/plain": [
       "<matplotlib.collections.PathCollection at 0x11aa8a990>"
      ]
     },
     "execution_count": 22,
     "metadata": {},
     "output_type": "execute_result"
    },
    {
     "data": {
      "image/png": "[encoded data removed]",
      "text/plain": [
       "<matplotlib.figure.Figure at 0x11a6bd490>"
      ]
     },
     "metadata": {},
     "output_type": "display_data"
    }
   ],
   "source": [
    "plt.scatter(x,y)"
   ]
  },
  {
   "cell_type": "code",
   "execution_count": 23,
   "metadata": {
    "collapsed": true
   },
   "outputs": [],
   "source": [
    "def sse(y, y_pred): return ((y - y_pred)**2).sum()\n",
    "def loss(y, a, b, x): return sse(y, lin(a,b,x))\n",
    "def avg_loss(y, a,b,x): return np.sqrt(loss(y,a,b,x)/n)"
   ]
  },
  {
   "cell_type": "markdown",
   "metadata": {},
   "source": [
    "Let's start out with a line: y = ax + b, where a = 3, b = 8; but where we don't know what a & b are, and starting with guesses for both, use a linear model to find them"
   ]
  },
  {
   "cell_type": "code",
   "execution_count": 24,
   "metadata": {},
   "outputs": [
    {
     "data": {
      "text/plain": [
       "9.2452"
      ]
     },
     "execution_count": 24,
     "metadata": {},
     "output_type": "execute_result"
    }
   ],
   "source": [
    "a_guess = -1\n",
    "b_guess = 1\n",
    "avg_loss(y, a_guess, b_guess, x)"
   ]
  },
  {
   "cell_type": "code",
   "execution_count": 25,
   "metadata": {
    "collapsed": true
   },
   "outputs": [],
   "source": [
    "Lr = 0.01    # below thanks to Wolfram Alpha\n",
    "# d[(y - y_pred)**2,b] = d[(y - (a*x+b))**2, b] = 2*(b + a*x - y)\n",
    "# d[(y - y_pred)**2,a] = d[(y - (a*x+b))**2, a] = 2*x*(b+a*x-y) = x * dy/db"
   ]
  },
  {
   "cell_type": "markdown",
   "metadata": {},
   "source": [
    "Coming up with an update function that'll make our guesses of a & b closer to what a & b actually are, each time it is called."
   ]
  },
  {
   "cell_type": "code",
   "execution_count": 26,
   "metadata": {
    "collapsed": true
   },
   "outputs": [],
   "source": [
    "def update():\n",
    "    global a_guess, b_guess\n",
    "    y_pred = lin(a_guess, b_guess, x)\n",
    "    dydb = 2*(y_pred - y)\n",
    "    dyda = x*dydb\n",
    "    a_guess -= Lr * dyda.mean() # new guess is minus deriv * (a little bit)\n",
    "    b_guess -= Lr * dydb.mean()"
   ]
  },
  {
   "cell_type": "markdown",
   "metadata": {},
   "source": [
    "Confirm that our line eventually, actually, fits our data, via animation."
   ]
  },
  {
   "cell_type": "code",
   "execution_count": 27,
   "metadata": {},
   "outputs": [
    {
     "data": {
      "text/html": [
       "<video width=\"500\" height=\"400\" controls autoplay loop>\n",
       "  <source type=\"video/mp4\" src=\"data:video/mp4;base64,AAAAHGZ0eXBNNFYgAAACAGlzb21pc28yYXZjMQAAAAhmcmVlAABP6W1kYXQAAAKuBgX//6rcRem9\n",
       "5tlIt5Ys2CDZI+7veDI2NCAtIGNvcmUgMTQ4IHIyNzQ4IDk3ZWFlZjIgLSBILjI2NC9NUEVHLTQg\n",
       "QVZDIGNvZGVjIC0gQ29weWxlZnQgMjAwMy0yMDE2IC0gaHR0cDovL3d3dy52aWRlb2xhbi5vcmcv\n",
       "eDI2NC5odG1sIC0gb3B0aW9uczogY2FiYWM9MSByZWY9MyBkZWJsb2NrPTE6MDowIGFuYWx5c2U9\n",
       "MHgzOjB4MTEzIG1lPWhleCBzdWJtZT03IHBzeT0xIHBzeV9yZD0xLjAwOjAuMDAgbWl4ZWRfcmVm\n",
       "PTEgbWVfcmFuZ2U9MTYgY2hyb21hX21lPTEgdHJlbGxpcz0xIDh4OGRjdD0xIGNxbT0wIGRlYWR6\n",
       "b25lPTIxLDExIGZhc3RfcHNraXA9MSBjaHJvbWFfcXBfb2Zmc2V0PS0yIHRocmVhZHM9NiBsb29r\n",
       "YWhlYWRfdGhyZWFkcz0xIHNsaWNlZF90aHJlYWRzPTAgbnI9MCBkZWNpbWF0ZT0xIGludGVybGFj\n",
       "ZWQ9MCBibHVyYXlfY29tcGF0PTAgY29uc3RyYWluZWRfaW50cmE9MCBiZnJhbWVzPTMgYl9weXJh\n",
       "bWlkPTIgYl9hZGFwdD0xIGJfYmlhcz0wIGRpcmVjdD0xIHdlaWdodGI9MSBvcGVuX2dvcD0wIHdl\n",
       "aWdodHA9MiBrZXlpbnQ9MjUwIGtleWludF9taW49MTAgc2NlbmVjdXQ9NDAgaW50cmFfcmVmcmVz\n",
       "aD0wIHJjX2xvb2thaGVhZD00MCByYz1jcmYgbWJ0cmVlPTEgY3JmPTIzLjAgcWNvbXA9MC42MCBx\n",
       "cG1pbj0wIHFwbWF4PTY5IHFwc3RlcD00IGlwX3JhdGlvPTEuNDAgYXE9MToxLjAwAIAAABK1ZYiE\n",
       "AD///vdonwKbWkN6gOSVxSXbT4H/q2dwfI/pAwAAAwAAAwAkAvzHv6EHQzQgAABQic/gsldNQVEG\n",
       "rVWJETueZW6CveofCONurjKq1mcfZ0P89EfiowXffzerReILorurz0Hw00X7IHiVKxzwYDZD0QxJ\n",
       "mjjow9WXmubobDkAApf6LTQfJPGLT6M/qC5p9w4f1j5W2R/qlPUB41VwNcEt4n7qsC7L5VBPWFbR\n",
       "hXh5P4Ex54S63N60M4X3YuXchuNU29GF/FAM77pfY9YB+9xBp+7eujFGk0uXQezq8H8Klz1buW7u\n",
       "ctDBgv3bD3cfDc8BZsaitJP0DC2EDFrHT9ziC9zU5mNWQhk4c6xLKsr5q8q+R0xr9sJERl8uBZVN\n",
       "b/doid2Bg5YSnIimCUIA2ZlWtlIgdOc/I9N4+KAuFyoe3IEWyymEUFs/doEKgAJL6ytYq44y5suL\n",
       "sx53yrEfGSOawALCc7cs953AV899pR+dmSOzDGeNXcPiLj41ngM8XRffSmAxUkQfx1Ps9bOhMo+L\n",
       "fBrcQfO0q1tK61f584xjjolfjjagje3dR+rLfAXRQxuWrZDFBt8YWCIFBpoRlfqO3Lc+m9Ji63V0\n",
       "7BUtn53IrvcuK94xu85jtBSU8tk1yyGBT9Ksi0n40wfrprOppPtERWgd0Ts/mMYKz8cIIZ/FPwrd\n",
       "C6q2aMatRQYaOHrer09wkt1l2+uBrR/3+dE3b0GBe3M1WbbX/yT6InQNaoluY8CotyixipW1uzsz\n",
       "b5ZLFZsbcnRYedw24hqSy/tpedN070h2EbmC/KQ32UNZ/uYAOwzwu08LGumwcvyWbAX7FhqpqB+C\n",
       "OTBJWFLkOEpUZrXQ4fSO/cwvPFsJudGYIDPHw4rIe/O/8+X5u00O81iY6CZGYuWgbOEHEdDSVwoD\n",
       "ZrwbtX1BHVzfkFBMvBydhZMdAPZ7rlBrnBne/cA3W588WcjFS3X7ORtliTQvXmQjn3dezsQro2DH\n",
       "BxVo1L9W21IKem/6bYu76UqjPyv8L6DqONGx/5AdqEwVs1NiuRNdd0ofLMGw/M5m8pJqr3/P9f2R\n",
       "Tzdqhy/6DREFUoI94eLJmugC8z9gd6gftxyclR7TnG9TQT3CEECarve/z9KpLOE1ahbp+R6UWy8j\n",
       "3vahcyXrt0N0+aRq4iZAAAcYqMaXRt98XxQxD0RqYns0p8Bm4fdP/L8vBWQxSIEULc0+IdgvFIYq\n",
       "kvYWKxvd/Oyl3fpsEHdzTYFGtq+GTwT4I47+umuHYBFERIjRubT6ZW/6Stot4F2T2UKPms8O9rCD\n",
       "MWpyFXfb2OFegBcbuXzAg9Yjfy/HEgTDGYLzJGMFt6ZSyOuHsmOQqsJStp7qLTYGdNSmXqWmc/Cj\n",
       "WGjZmL9tYpKi/Wp/JQvtUpo7tHJnl6oGbticyZ1sdhlFUtzWG6wp+G85zfTftC0SS0Upu4TMGotD\n",
       "P/6nMMOXDhPLYOzIBGROMQmtp7UCfmZ0KIFXXCK9BMum7iBAKkMUGhSdW7qa2yrbWH4alqfQaOys\n",
       "Y0+XkCykdszkv2g+PrTyWe5ugCXNXDs2MrBEyNaS5Zmj9Y5QpvmWCKDN8jnuHGeqg30nXYRq8MAP\n",
       "6Yas9xx49QseVLEwQ2dyRRiPF839L39Dom924xO1p3CFszigCamw/twV9NbyR9UWCqtssGK5U/m7\n",
       "gSm1A0Ralnfjf6e8zc55wn97CbbNxXc6xsTsUzjfVLyyfe4cZLpLvHIra9p4zesgFbd2+0Y6zY1a\n",
       "NXV2lvoJrDcOmNP7cS+X35tvQ4z4onzkDFQiCbHa1m4dRdfiJGMtnVV4qiQ/+0rF9qWDWcIcdD0f\n",
       "KbzVLBzCcv6FkuuQa2QxXPjKuaSZV6L+n2TRy9RZ6m3T/9NuaCdccxSvBx/0hjDSlcxnVAh8uBiW\n",
       "iKzxg48GWP2UJF92YVGbO3h6lfNT7CQAIijAj8UB3y/t9H4D0K/LWc4n/onffv5nSLXgsFubtEic\n",
       "37mOCWp4PqHms00Iau4Qh4UbePpvl0Mzx9v9yrrIP+HaaCjV8y4mbBd8y+/ldMzx6uTCujx+TVHA\n",
       "+qXMUx03FsQQH6BJaXkZeNkLnF8oIhS7BbnWtTJNj1NBJi+rqrIW/VntS3iJRIXF5C1T7K25L5xD\n",
       "rWtaljBLEhSPpolzukITVlDuP7pAbG3HzdgtoYD6o9AozSJBEIfP9jbgCUISN3dbZVDCBQjWKuxt\n",
       "qcHeZc6PgvOQPAymdproIDA0cVHBSGSP3WCL0Ru7yY1Gs8D1BnkKXToCG6NuNBHhVu4Nyk6K7NSC\n",
       "SpjNbF8ep6q0F/q51TI6RdpJTVARTgeD3v0WYE2FmN+CguP8JEs8wduqEwTObMcJ3Hz+6hwC29eT\n",
       "Q1x/6jt+gqer8LhlW6Bo4FL3dfn7RHxFhjqfJ4yyXEmlYZKuntOu/IV20fJN90yPBJvCQ9IsTAW9\n",
       "27nNSPDUopzvLVs4EoDXIq2/aAJd5nkpnc+zBo5IlGeSFTVWJsHy9khKIDMqrCH1N09K9QkseB1+\n",
       "b8xNOhPehX//lhIzhXV3GvXrpq+upHLhJSQ2qHtGxcAS6F8GGddQ0T1y7RQoNKEQJh9d3/JNFbw0\n",
       "KSOYyqQHKh7nMyPH52IsrLSbdS55ywAbIrXaA0rMrEIffM7w7ICUV2jddDlNlXip00tkzAshNnat\n",
       "cBOd0rctuZnw19TsJN18VkXv/GqC4Lo6quyo1oGexahJ1p/XKNwq0e0nGZxCf8l2jloCvfDyQKNM\n",
       "0byqqAwPftCNADzWlTBsSPdv+i1DH/lxlkLEni7PcdmqOpeQDp1kNPjPRvn+Fivvku6gLrz/JhDj\n",
       "T9XNTeGiHEoVm+yyIBYQlKCBxvmam5YuxjFnaLYYOuLYwr06KPCeCQ1PhAs/Qb3R66dfCniz3KQs\n",
       "RSv/tyabFbsWctjau19esB1s7UKx6K6986h3fg32riu0SPkdV1DuwOJuvMBN5DnNbGUH2PCi115D\n",
       "E5r8cOPUtxzElc+bgVmHmzG6vllKO26NXzubZQPIu1BIAXOx8RnWU9GwNG3yhh52L0Qn7luAGmIN\n",
       "AZusxkSlCJG3kZU/6NbmBjZyzNqjkEF7AxZglGjLpra3y5c9Tn8wvaOaCtbF+oxlC9mVVKAkqTbB\n",
       "NIzCz+7NnEMvfYA+zLmBpoDsHfuw96nCx4KZI8+kD7iSK/9bjZ7aJ+NVKsEkUnba/DvLxyksAAat\n",
       "pxcuNKnid+agocoGFuRTOSkyUvpcm2XeI8UNqltIQmWL9IQHl7Wnb36Ba8rP3Dc5u+LrXo27pGc7\n",
       "O4fPHCnDsfHzRO9hiTd0Eubak3YkPYMUyPhIava1xCNnIbHgso9pKK1hSvRih2QmP6tgrcfkKN8n\n",
       "i+oCMUnrXIV8xttMN8WvLEOacOMkRa5q+5TZmV814Alo6LiUd6AFtsizQRrCEZ5047E7sYbutBOz\n",
       "a1m4d93yFPHeIy7H9zt7n+XTO2ecfed75Wdk4o1BmHyvFhqOpcaRvJUcFPQVyZo11Kc4BxSVJf7x\n",
       "Pugco52tX3TH9TSIhMDaKJ337JAcDIpizEJR6NUBOaazZqSFSOjSlzrzyUuzr9F7wGMq979h0z0T\n",
       "G07R4iIGlsAQa2X6WmkBr//Phx82Zpa/xbrQNcaP3r219X7113J0WdKxe8zBnGXuCoNuXu4cTd28\n",
       "V/1coeuE4ATazt2zXWAjAsZAM7dEKBJjabUnaYPft8fC9KqNutb5LEiiwzaAwW3dd/Z2HUeXbzin\n",
       "UmI7t1PeGUCh6ipbTuV1HMndCWjO6bscmUoijORreSUNRXUt+eR1pzcyKCoswOKyA6eMX4DOzvZC\n",
       "rEnzpF7q/5Ac2q/+zgMZ5obM5f3CnaP3jlUZlZLWuPgz6LqDSe3p+PpndeFkOZEAH12JRFpSnvmI\n",
       "oDsqVUzEXTazPwwWFIirLJoGYVL5g4dLf9shS410qhUDB27FEC6Z0D3XLqrdpxRKrRc+dQ02CCOW\n",
       "+zVAunqSaG/yRSkcMgCqW0i2oBgfkaALR20WhmwkWgD6iw4zi3bvedaQu8WKCnzRqmMbDLex/RdW\n",
       "ePCMqf9pqMeDfqRzw79ZKmr8fk+VvF8qQ+H1WlueiuyhtjFh6h/kVwsvuwyvKSn/C+/EHpm1Zl9/\n",
       "6KCCKTUVS74k8Oac2Cp5rnnajMKbO/EGB+lfdn32YIBpASgECJn/+7+8K5xNhKaMYe94bbHGI3eO\n",
       "dB4mIudukybxYl8/3Cgdi9zk8pIlyetGr2kKIQM87ti97ShdPvI46Phq9PuOynbMa5MlPBZORJcF\n",
       "mWiVG4UemRjKo30923OEe5fYHkAPGSIU175pyhM4HFQjwsGH/biBoy1fL+FtZA/6jgAAAwEwKpRi\n",
       "VPTa/BLaLltEMuJgXVJDgzaOJWrftpCv6EMyUU46mnPNgQlfON9pzpjZI22t4oWx0vYFzAOMyo6Z\n",
       "/hMM33K3kdodGoAAAAMA9gNBJA5aWjzZ6oWgDUDEzCFAt/rVDZP4inILNHHkqn1m5lqpo48Wlx8j\n",
       "dtXOzwAKjMbZFZwT0i0NcdUPhSWd80pFmtAsEYZIsNTZVOgL+YGIX8zUTYEzg3uiJI7solTKzcRw\n",
       "FRDFfAeTYJvuuL+WV1CMwGvs1CQ4fs4Ga0wucxiQ3LzHmvflGsgSRvYvt5Ivin50CfIGu+CfOuB/\n",
       "cycXmwBNWU1viatD7PbwGEKm/+TZR6AE+hZDtfqfOSl1RqHj/JOH0vQexZJ1SG1tU0dbaI/BwW6j\n",
       "sN9pQKU0whLv/KndeS4NsXx1nY+ryzuOfeH7/PsDyRj0hYqA26uQHS7Iew8MAL59pf55Sp7rO4lN\n",
       "6/EtdRXhAE5KifbY5i6qz7C7Zb8cJq3MWCRQQ+LdEPj/7Z5qDk3Q1ppgqGGHLGdNJ0UNyf2Qeomt\n",
       "bK5iFjrW0TXBvFRRE7PZbn5GB8dhuG922GAwRVZnBEMOFl70hNvgzWL6jiVsU4fd1WqJahpoSWwy\n",
       "h/JWFei6NolWRuns7l3aNjgjon4pRg56fO3x5pH8Xivl8hcPInpz0qDbpDW7XhbBasHzd6VNnMls\n",
       "Vq+wIWqsB8482YPV7xoQ2+V94x6XKvldgmpOCxa6lRfSQhFE54D2jkFkRyVvV+JhKkNvKMu1uTwe\n",
       "t1P9wTrfoUy1Jn2/vMwWIM5dV8i78zjzDNJgzIl+aD+d4FQG249KzR0tTKYsiZumaf128rKVVzG3\n",
       "m0M6yu/sb2/grS5BrBPoPorMzmwAu0xNBkCLemCOjlcGjDBVvda4R5LJptxPQWDRuJqit/iJZyoK\n",
       "+rniyV+NTyXZJm458xfN65qay2WZcNS9Fz9K4zfYsNbmu4Fh6oJnulellqoevRzf6Iml7Lb1n5tv\n",
       "Yvzv2+SzpEwIfii6LW5uPi3YmN1vNh5lX5j+bpHTxb071oqtMzRqOH/FU7HdFmjF8koBh4cUrwSS\n",
       "07H34I4COq7iveQDYaeJY/R08Kt23bQ1qSWaH3Gjpud3cLNIkaWNXXW15kQnpHqgfoQxxgENajb0\n",
       "ud9eYEBE8uIzCS/mN1oTae9ic8AN2MX+qCh4b0KiPZwsJSzEdLgrC9/cH2wqGG0yrfIhExOECZwm\n",
       "H+v3AEbH/X5jF9YYbitihHJuo1H+yWQSE12LpQgIk0ViJbLebPUGj4NgfUDXcHp7gtBGm/7q9u3d\n",
       "k3OeVC5jDTB1mOVv4N5Yk7VP4hrgAQxGOlldJH+RFtYqORWEUnosm92vc7ajuA1oQRrWyhpUXX8N\n",
       "/GwR9GPP7+vMuZI7qJ+j9004rwsaILmeGu3mtTB+wBPOJ8LBMj6moZTXG8LMgVg/RGDAk6HSw26l\n",
       "+MwNoAGVhZnYHgSfMLVyrqQ4UY2LfAcdDrJDCcyGDNmjDdpaomCpyknUAJPODn7GoibLniP9UXMl\n",
       "mod0FjsLHGIgaQO42z6l4lR/y0HpHAz3NQ4Xw/qfn1S0gsx3lWJTUcu9H9v+1YXtNHeNFFVEZnpl\n",
       "eRo0iIL6co2zU/RE4hycSwZNBxhT3g89shBnyqdNnpoBCwgQkqfqCjTIHp/R+LtqtAyv/UtpjwLJ\n",
       "6w6KO+YIrJJvF9qHWsBap0UjyujEYWGwU9WMvpDHffdNwjNWHWtO/Y2ytgqdEAmUOxVOYDZpGCXV\n",
       "O6rAXlCUwadEUU0A7LJk6mj2YLqOht3XBefgCquFMGRzZ9jd1U2ebEA1iesfgE8ExI59btRJ7wnP\n",
       "PmKJDHIfnWjtuSWiDltQmvq2sPilnzg4UjyVuTa5yCZ4t+WHmQECh9fmjgGQdRPhefyPM4MvcKhM\n",
       "46b1bs1PUgPlZbIRqNa54k80amwOdO35O8aeJXXLD4vy8yp8I0paeOr09fGqXOjR73PakIR0vtqj\n",
       "N/vSACpZg3bQKubxjoo1by5YzaQ6J2/4BSGreBp0sQ+dwzytz9ZK79jZBOsUwtLYSIyAAABnQQAA\n",
       "An1BmiFsQ//+qZYAK4HPoCFVb3t+EBsyavVY6O8CYqErxJf0vcf457zIRv8mZ6Grq6IvHL0CPQmt\n",
       "BJm4w/goUYZ/JcBxgM1kG0w9/Mg64EcmZa5V41sOqZDIveStndn8I5jg7OclW7KvEcKJFa5dOJm6\n",
       "JMxAxwHcOJoWK5maBKeKqJy9/vJxjMTP/EmHXex3oXrZ5mYP8JRdF4nOnP6F7fFPLXSdUOq+PflB\n",
       "60gWFyNcBDeEViGBdLHSCYnnvhQwk5jqcG2swD5w5i73uJVXGrOetnL4xIFj3s4uyQQfurIQV2J5\n",
       "SEGfn+frd9Nd/eVsL4pbgp8mJRJ25f3klmIh61NQ2ZryYMRZXMVyKuXNBQXiyp3PIWbjToWqV+XL\n",
       "MhbGQFeFTz9nfcxwc+MxEA9Tqm0o3ud9cAAI/d5jhozkArrAPNiLUOd1Z1SExa07iYNCAiaoqMJY\n",
       "DmMvW7x+nWZrW3zjBgIhY6qPIta0Xj3H2DTq6n7486J6eAYCHv2OkKcvvo5fX56hRS9ZPBRWOy4y\n",
       "F0yyugtIMQyuQOChqr9L5c/JBEUqtP5qmozm4J3s+7AFqPchSEAkwb6MCWnmHhuGGTpV+s4lLqqy\n",
       "Kxr0KJ1Gp4VVySKGOgFQ8Avq4V3Uvn8PZKsJFhRZf+PX46QNxYOCXAc2rHV8feViaKLaPVHpZFBJ\n",
       "vxwRnvO3Je/ZikhCGXNMS39Ap3+PK5xN4Hr469nRVFQWWBs7E0nEhIuhAz7CGChvWfk6JeQRzcgf\n",
       "1fHqc8Vb+qBnQqszWFqIdSqY8W76rh7Ny8MAAAMAABsgAAAKQ8IE/6vsDbILoHl/UoZZro6VMeIz\n",
       "gKSY0pPTbzyPYM+AAAADM0GaQjwhkymEP//+qZYAABGeV/4J2+AC6rsrzdFfTiGULPhOiTSTW2l4\n",
       "cRlBZ+gBsiEp17jVMnTL6bjuXCQpK8XWYVmT9wRpGM/0KqS5Fce4s3VFRK5o+mXHCMrsjTxfHzhT\n",
       "K0gFAoCO3z6/5LHKhtgKEGFFG39bEcLdG+B1b1Pq1TOZHGikD6w0Dmsx4jB8e9hqXuaP9LqP2fVC\n",
       "lpAnAF2n0sPUwEkMjoe7QXYnqX8qYX3LE3rRlNEteQENJp389ZDkU1DWza0WirHMXJg79XqVQdUj\n",
       "uoOWSTM03fSqjAZSgejSTHHjWnm/zgmrwPydhCp3PGJFF+w5Vgkfp2Ly3HgXYiD3uNXB6PmAXRvE\n",
       "pqficQqaXKbTI7Zn1Rj9kyBPLyNIEhYzAKmx8POfHuzpXtbnD6r/8KQcQI0XLRYILDRulWeMmK52\n",
       "bDCZn/IuRbfuQZhqoYsWzA38/QmLYD1FfFHfO5YZBfREuU/O83RVTyUAvjM8hLVdCi7bWY9+4CtJ\n",
       "ADcy9uhMER7a4qqf1t3GaLsv37+xiZbLTvd5h5rXSqy5qbDqofjWYckykOwhuu4JrvmWHwJaXOzy\n",
       "vdl8i5g+5mWhzDOH8FQUhuHMrGekpfNR7valR3cJFogQ68aAI2OBBe7ny4qIVW6RCnrBYjt1r/3b\n",
       "27gU8GNUa/w9/r5GIcn+u+8wAjM4RDNf1g8dBw/4gfKHP1ka4+4SsGWXcNsUChgXx9Fd00xjeXQE\n",
       "Knck8p/+cu6I4VI7Sb7oTavzEDYgASzRWQzTdD1inirhVD0Ju1TAqL76k0NQnchUWG+UuGlQ2dfU\n",
       "Z/r2GBPXX9d98HXAQOhyN3lsdQT1IO2VbGmDmIACSel2CwO7IYeeV6VXo5FYTbCmf0KIIg6qdXhb\n",
       "LhSZawbkqzNCZvXLvIoPDFROOvDIscVCYsmibjbKOXpQmdID0qLmPtQME+j8Qh+7NhesOr/nzxVR\n",
       "tQmIlqqDgngZjToJUYLTgXsgcAWQUV/a2FcNM8g0znoc35JQCAXokLHFPDLKypiZQn49LiL2CInr\n",
       "9TObocsdmHgRrQSuiarit61EvwKDwstfDP2bIABIbQoNVAAccQAABEBBmmNJ4Q8mUwIf//6plgAA\n",
       "Uvhb9wb4oAIftOvJYkZVIHib3wlgs92mVE9dMc8+b0jCJPIVhuOvFlhRsy/8jrfV5/jvO3+z93zD\n",
       "vRivRXPW26OZbYSdT8karPhpah3hoohEA5khT0iT5FLDrFhBbsOxmhqIV1kJ0KofIQmLyViEiHgi\n",
       "T36/VF1+4WOIzzdfnqELcP6GAwTmSvZPEbMw6vgi4V9GTVJwFRCNMqVvhzUMBzAMYszD56aU40k3\n",
       "Ug7alLQJlle2DQr4Gw+9GWZHQ+VZJFsjBz2XkepH77WDVHnSOcYqHXwwi0oUv77FbEKGBJRaWBZe\n",
       "/zse4c4HxCNzKFy9XOQRwGlgfpErMHnslnGvGo+gJl3lAuPypVRDaruigH9/06q2N0oQ43DO6tib\n",
       "MJ6cCuJgjyOVgwrnZB/R0k5DdscBDW+jF3v+a8rU/M6w0dfCwm0LaVPePPXJIRRQAmlSojeB+ZFj\n",
       "IR9mNgzG3UDcV97Rrva9e3AAXy6PbxmmsZVzdTHcxrNvUS6tRtp8LX7ODxxqte2r4qNQqoPg5TVQ\n",
       "1+eZuCNe9uJpSCsa+dVUANRK0FO/kdE3iulr+Oj3iauvTbOKcEqJnsrciyzXw0b2gmq//EJERg5g\n",
       "2W7AgMpRQQUigtA3Pl8VOYSJ9ipuSSp6qJUZXg8F+4zUC4/rkgKviKJVPL/JHaROASBACzrGixfb\n",
       "bMz+QmmMixQgEPcqDYJvmJiJpN4AoyIlri5Sg9HeAQma48llAUfYStQSiODOxdSRUFxHqKzRC+Jm\n",
       "nlvUTAyWehomBXSVCYj1k3cJkHkmSk5RQnXhq4c66niYM9jYABK4QNurLqylg/OKe3C1Q32BfbWs\n",
       "BrD656h6+54MqyNM1nfz6XVqd1yMul+dIHF25GhI0SguekZA1aOiZ3MEHVNr8yb/kDZHRRd+dly6\n",
       "DygH6OfeXJjQFAs/bCOZjLMjbk2heBJ8A23Dm6rppGn/I0JxpqQO5Au2Q9/Qr3gPiK5hOQr1ZYNF\n",
       "lNYO00aBzVmWQnEn6IFT6c2e89tjLjr5+i9AT5jagyLRWm6RW4+Lq9PVIVn7EcSaOvUtrGHJkGeq\n",
       "PS/nqYqIxfYn2KyRkZJUMpns7G2yusexWS6poaYVy7yLgGIWrpG0FSiWMSq++pRiLmq4Fz26cpWI\n",
       "KV72NBWMvfz5uPekOYsEEF4YOlujrNrrULehj6GpRw9bStETYo9SzFUiyRm/dsZwPknqUHcfHU/V\n",
       "YRBCsnFOKsTqByZsc3YLNPEj5kB/Rh6MARz3az/DLaCsGsALlFEOPBJ9j6kPhEkMuiAC+tQGt0Ij\n",
       "6j4FosVi3RLQuRIBr/zD4uhhEnivGnJZttOu2cOYPyrubc4smFdweUiNM0GVdgYznF4XjRnGygT4\n",
       "JEo/j7NyYQMmnQhmuNM+MiS7g3rsXDKuPEAR1jKgClBOdStaYN/F2iwCgQBNwAAAAhlBmoRJ4Q8m\n",
       "UwIf//6plgAAy2z/4RysQALpQ8plKNMrGjSH69ImIuH7QVseR1qqZrsM+fKeNwgDw6fJdssKFaEb\n",
       "aOG4gmW5huBfJjJDASByX5/fF2S7odQJtMQRjkA+PPGnGXwjdtc73WeVSU7jiRM0TsPA1z4BEtCK\n",
       "Tn41PeK6NatjYcWcDwG0YLPmQbmtmnRMu4oIsFsctOjSglQNbwEVqJfgqJa5LPWvDaAhCOdQtH3m\n",
       "wV/kcimyKdmv0t0/E0yfrjjeX54pWXR9/CXT6JW4o5nzcXu/Yh5zLetqJn+E7ZxIDTQHQUEEGf/J\n",
       "e8t1Q27LnIg/aZ9eIrXPO/Ic0ZAfA2Yv7565Dxd+7whAGwauG+f0Fd0/5tEAuUIlekTAszZi9BGK\n",
       "Ry2XBhG3hghQPCjvwfi4r+sIJf2iA1pY5leD9Jhq/NYko6Zldf9rK71v0K6gG3I/iX7V5OEFZ/aq\n",
       "8GTQqVhizt5uxkb98TJ5ytOOJwJ39uHDv9BYKBgn9Y4m1j+sixen4PyvpbMz4RXFXSeQSQW+QzyB\n",
       "6m6zv3aDqlvI9pxQxWcQB3gBbV9wWhZH1pHrOE2gRJU/Ys4MvJz8UiPMvQcYbq+Csr+KLEb5wcDj\n",
       "A5vC1TxQOifgKXjVPqdmf8/DNl6OvMkigBr98uL0cc+1coxHd0DAea2qsNwg0lonrRT1VXz/l5e5\n",
       "VAOLrVrP8UzvDsAAO2+EKSEAAAKAQZqlSeEPJlMCCH/+qlUAAHSPk+AHSvOSouvwHRMyU2xWPGyi\n",
       "RiZwSg9kiR/1F/5u8FwKjkXCuce8zZqXJX0eE1lJxLq3qM4jO+36SY+M6zbc8Zo1RhzCReMO/kcw\n",
       "ePFtxdIHezsn/vbgJZMMxfRqy5f+ajnJZ2LVEwZhzZJbEG13H9e/BEECkwi/5VosKK9qXO1mGwIA\n",
       "9uRCNYRqhMYygAOTi3mZCcGhLAeJNhoneqJwtvx9l0bGaOmAzxzf1olon7HPkejXPveU7Or0UCD2\n",
       "3SjjAsxV13anuLMzhE3c8zgSrAqlRIU5fGPQXS0SnbApdvTOkij+fHwtX47SG+82aD5MNNOZywmQ\n",
       "ftSKnFHYx6DrPHox3AZhVAj3yBTEkBxRbJiSkewBZp/57Rqm145DRBb3u05cSGT1a0DATz/HRqZo\n",
       "FWtyEaVM3Ag2PO9SkQ/WcxqhlyhrRG1P4KuGRDuhZBRfOjo3VTXpbs0IafK0NoVWioF07X3R0jI2\n",
       "bNvuRl0SzeRvbjGPPf3omNU01xFT9Hho//Y44WhyCbdtKZUDoG2LYp3zCznnj9gRAzZYjSVJH9nx\n",
       "z0GRq2V6LkWgrbFTYlm7D272FKXp5goCcculgVUV0EZGf3XsIsoZaJJXAsqcbR1CSgbMfnsNUwIe\n",
       "nFrs40gV9fYbSQft2qdU/legEQqPa3T3u2oS17+AXo1QDyS9FvuegCUSxIc2cZfAHpPdvV1Y9lQe\n",
       "oxKTjbzrnCnP8NZns2RoOT5CK4HYXyGlViIxbJPgFKAHnw2ynPPLb+7p+DApYGbYcX6gIYIaLk2E\n",
       "Ir7JXkpCEtZatmvj0uP3Rff2jjBVKUpHLIfCeq7HZ0f4gQAAAktBmsZJ4Q8mUwIIf/6qVQABAD5p\n",
       "ONN5uu04Z1EX4HJoLsGxSD1JSzrlV4qxSlcG0EECleBnf8m8rxZD/1jugi2ZLp9zbMaudGXz+QfX\n",
       "dMM9Dx/OScm8ZYOwdbDwdXhBHiSSIxp/EsQCUg4yD7l2b7wTBgDr16jOv8xiP64Gg91X64SDvNGJ\n",
       "FS76PvWm7asWOW15MS6pIrq4WC2aCSP2PCZWk5VncUJ3DJr33wSb9OHJFL5aqJEEwopgDo6RFpN1\n",
       "tgU4lVIBNpZljTu94LrRw+M/GhDptFd6obrMNBHmb5FS5cgFEuFqhUuJQbQPE0lDSCnt01rCjSkf\n",
       "aFPUpLWdiXudc3TWQU5DKy57Bnl8Y0LagxGzxW11PW3zLCpTh6IJV2NKvqYlek4fZbflPpbx+XvX\n",
       "bJUamtkQFDYSJsiM3Mjw7mbro6yYPtqRFdc2K9EDhxZTWZCJOndfSij6snZs1YcFZicFSVPYKkoF\n",
       "wZOHdiV/3xk2Xlm63dPoBHTPlYCJjJMdzHZbzizfaFfoEDXKe8JOgdTdK35lr9ZZsF1yz6v+vngG\n",
       "Ol4zz2E2MatbwnoSrYtz66AipwtyEUPZGXgSOy7bUmnO8xRrGk+Hx9kKFypB4g/bMaU3foqPF0PB\n",
       "C4HNdS/5sW3b1kc1PAnyZAY75oQkcNoM4v41eMrW99FhPhpAGNyAxd647QCHobrDHC0TupF0dhrD\n",
       "Pm1qqQzCBHgpCbfQnCW7IRnfSP5O7g7Bl1EUwvVMQ27BsAiAQskSSQUE8QojX9Nt9lAzgrgR/wAA\n",
       "AbZBmudJ4Q8mUwIIf/6qVQACU/InRy86/p9/XEoJVIAqzr+356l0SaMTwILxT5Czkn+Iki8mj5B0\n",
       "ComvPxf+CdS36A6WI7V+F6LG82pMHPE3fhnuvcV14cHWarVvXsaCbtqHgyoidmICcpgcOLbZI+wp\n",
       "jxafKlEpnJKnYb71BnCZAuhhbE90eC6kcL39tVXeSyL6qaQg33V62+RWml/vcmuO3vtvgAfyGrY8\n",
       "QG/CD8k4siceiWZ9IT7JUGNpm4J8edeg2qCEqh69m7Eu50j2OmrhpDZpnMn/mjqjYfbWvppYt6kn\n",
       "dALfrrlfpcK0ua1mOWjfAilEKnKAARmrEyanzRlLBA4vY6plurR0KeeFrqqoVpgq0jtI1i5CE2YT\n",
       "th+4pOI6nRlnXeE+cMDGnIIn0GgILzdDR7JkjgrVozk7vlArwICfbz7xv/91mWOfMt/6UBdr2sL3\n",
       "l6/dgo0ni96XNk5khSt/fn/GY6z4xoh98ffeQQt46OxOz3ma4JG3fKuRNZZTlxU0NcT7U/xiUHtx\n",
       "kj14AWNyV+Mmzjg16wCB0j7hcrUDZk7RvlP8XdlX1FLx0z2q6xeJD5kAAAJ1QZsJSeEPJlMFETwR\n",
       "//61KoACYN4NwAdpeB6rTn/ZfF2mBcDXjj+0KEi7GcbjdsGCI4ETe5H+aYIXiRb/MzI7VmtUiStO\n",
       "1NUPRORttIXFDUbJybqe9d/vsLVtGGY+NylNh6CNZEIzjV2c60HVJLdsaVONlxN44XSynW5Emltj\n",
       "5b4UtlzrfvP+3BXOkxAfpCA7BgP8BqcPfelYlMJjpEq4uhPyrXdbu1+ze8+jiu7RAQT3NWN6MvhM\n",
       "pEzSw+fb/WCh8BGn8+arcghZYYPQIsDKTsUCZ7mhxtBNH28DaNUyGCkI4C7HZvuqAhU5mpoIG/IY\n",
       "5a0NKl+sk6j4V+6YaHFh0bdmFvS8EqfYHW1d3wlCYFqg0rqEiJHvMbfuVdUuYLwEx53hCXdwAc6Y\n",
       "3xrm8HcNyzOyVmGU90ctEM0xilD9LLKU3/PP5fqUkCiwbRIo9IvPD5GrPiZ/jfxtE7nKHNfLp0pw\n",
       "2tzeHdAWstiS7hHnBNEU3DPuawHNlsvHEddTx8hE73BuUj250GZ5hpVIzU6EnZ85mHHam0k0ogSM\n",
       "Z6kcw6PAH0fMsUExAChnZpxfrMIaycw0K/kY8/J9Koo3GCzSc9/JyXr3n0LNqwOfcmQUbn3i9X8i\n",
       "71MwQYr9tExY1etsQP4t5yLT1HvbFTrCD3sa06oFg6xJbC9ux14kMZPREWiUu+SnbYyQWBsRy2i6\n",
       "LDrqNrKETS9620Zruwj7zrxZQZAyDqnRTc2ccDRsJBelFxHARH/7cNgN3tG5g099Osrv9Fxf3S4U\n",
       "GhBQ5SK105GW5Lhx4Rk7hSIb6pAKTUsgK9MNgmmWJ/Ba1D9nFbPXmTPoYl3hAm4AAACyAZ8oakN/\n",
       "AA0xdlkViT2Zh9HGxVGbV6V+Hp3og2T1/TSCSgA/RXNRSNhrJEQ6+fdcnr+F9bGyPBrHKTlboWq8\n",
       "wcqWLRZp0VkncsiwZGsorRH3Y/NRxQddQqNHKiL2zW4NFmO5s1e3o1A6dhr09JwURT7YG7ZyD/fa\n",
       "Zl6rYvjXFr8Y6ITyAzC7YxT/rUKu31WW2iBZSDssdo5IKr4rIdj2fv0R8+BhK0QArHyahcvv7tAL\n",
       "SAAABM1Bmy1J4Q8mUwIIf/6qVQAFTY2L4pnwGLbZKKRkBr3PNhzSTjl/88oYCDeBcW/+v5I+o8xg\n",
       "VnZYHVrBpNftMX7aPcK3Bu7WAVndChi5yIRVLfpbexVCuv2L6x1iCVT9+77H//hIdxQ8OGa6K4wG\n",
       "IDTKi4AuF2ndSMSYxSd42jXuXzrt+GvopCgaPJWOJTC1VIQ/EONwSK1DhOt1c8AyAKbqyVxSCmJJ\n",
       "x9Na+Pksv/jkERsZajK7QEyI7DNG8JhMFNe/3NS06Crv+1BLOo4EEUxuqLwnJFQw/1g6KIlf5bBb\n",
       "5zqlYvU7SdYCETsWimBs7yUOUd0kjMZv1r9qDzEYaLpwfGLmcGi5j++cYXqD47safIVkMe4Y53ZT\n",
       "N2ciakHaMuOEeQbju0+hV7zhDEjevHTeN8tS3r/Am9XOZI1jnh1MfHtkh2xGPlwRq9fzIb3wJ7r6\n",
       "qh+0l1VMgWHdb1x01WPxOQAk0yftEv56Fye4xNn0GnJbfzXhPjS4FnUvEfbfb6H+5f0j42Y2NMxd\n",
       "tUoRZbH96YtEdTwHqsLcUqNKMF2vN/pinRJ0cb0n5wMTBd03/Y4rx0xh34yVwLFyqmZohbUPkWLt\n",
       "lgw2mMAogm+4CJWOGYwj1jQzp37FR/3a228d1O0cmGy98DmnIgC4x7B2egX2E6YR9t8p02jfVv0Z\n",
       "UBipRkTgRa/TrElVnUnn7+fLI6HLro60JUviJMIJf+E9wAsSHApw1AAnLdCKEvSfDmhZ7a9S4gGD\n",
       "ORY++QoMdgTCeclwUnwxSaXFxRpt5z+kjYQWLQ3UAilfTEBX2M4O1h/8DN0WoljnauOqn7pfx84D\n",
       "fqcFWfkHuhRaKH/xnKh49mD4uwv74WvitqfWXJEPSkfBK4Etm9l7rL6bxfEkGuJ3//L7B+eJ0e76\n",
       "jDCFW+F6kmNQ25/UzgjrpwSuWS9IfZdRHIpVRsx6QXg1xXJl+EmYP0Dhpk5HbRpPAiiiiS/VQqT0\n",
       "Qpmu6hZVOKUNu1MCOdBUKhY+HUWjcDz1xeRGhFJBjt9TCuw6eWUOyQmJ2Q9EkNuh/ZpZ++7SY3ub\n",
       "DnSVtdo3wUxVaQuBD5J1hTtSSLmffBBN324WKax3ovZwXWXHWKJy+3Y7fCfjRBxb7N5MZLBt3dpZ\n",
       "ZQk5zwy2ICQDL3BSA5gnfCq4Vk7RGPAKY99YQUoZqIU/uIarmJ/4EcWGE4Cz7t5BG9ewk99neWAd\n",
       "RZ/wAgX59vp5FdLlQafGlYw6lYNqHNpa43S2ROVjlRM/+JW7shNWoxC4I4g9m8W0qfyEOQhAiCD6\n",
       "oS8ytx0OfPqSmoNuwG61V6LB6fzmBW1c/1azZh2KvvhWuzQp9GzzfamSUhm5Pl7isT6f+p+Ba/9g\n",
       "xACJ5L4t+PdR144ub9nWWj06RxVXr0A2WDVV+X9I/HqXvLaYMNf1dfYyT9hYjXcjnpQVDbF3gM+x\n",
       "LZh48w+OZO3/4+6mFKWOiE1+39QKCe7xqEMUhLzZrV6U+NQYCcnbnuyL3jF2/e+sfhUVxReJ9uuF\n",
       "owIMNbofOrQawI+hKQWCtPqXCkgB7gTDt5yzvLzkd9NuQwSfbpaxsNhUysRWVzLgpvs+p+rp+dew\n",
       "Hz5m0rN3HeoBKj//3EFvO67KJ/RY0i0TXSr/Sh6b5ckQsaDKgQAAAudBn0tFETw7/wAKUq9c/VLM\n",
       "Sfjco2Ae3Y/8t1ATtQajclJSnhHQ9K6uioanskzmsXP81pqqzqvA0tK1ULp07NUGbuCBhGmLiGux\n",
       "TWMJXoWF3WnkvZDrYTx+ZOtn+dJYcuHK8sB4H8tG92QOQnNsmxEyH4r1gXewxQWq7okL0OdtEivF\n",
       "TVFTcrofI5tAZGulcpaZ9gLKVFjo3PF4eiSSFTlSecQRz01SQLZ6BTC6n7WEPptJzdo8LWbdI//M\n",
       "Nn2lvCsftmC9RpCq8bbr2E/cnX2l6WpvQZyCQxgUkMvLzHCMQZCZROAPS9XgSAMZrRuWWuV+VdcR\n",
       "MYAghfB96NVKZr9N5lRouSyw184Q28CNvTC8fn2kG5GY+bIVivixZfdkwQAOrdJM1dCOXIvz96If\n",
       "qvh4b9qlygQZDDPvjn0sd5u1hPCk5W/HzNQhOLqcKoLtkLXT3wPxjfJ9Yl5nxGiC6Z3MeeqyQUlQ\n",
       "UynfUtnJHoFFVO3dFZ9CCJ/mm65booIGGbA5Sgs8ClhUgoBtSz02Cxeo4na2D1nad9x6vf8HmXqU\n",
       "+8EBrJiGAMvGNxEhnWs9VhvE8uwZgDf6/1QIEeYrJuP7PZAf2cEB5x4eiydJxpcswJ6DBaF8hNuT\n",
       "APLYDgNrJMNbKIrk4h9Y4ZGS+1Iq6zCGDcVzEl3ePzwYS9xHFkWkIL56xI9TGbH/zDxwV/Wiv/6s\n",
       "y3uBXg3AT8wPgSDeO2QsepZ+N1qvekPSctE6KCwZsFaaWSPtj0IA8eOFjddln0t9sLrlaOTqMWE0\n",
       "h2v+UyimoZuGEP5MwFZ7HHQtgNwbGRPV7RrsOMeQNtRfYhI0Xg7z/sGKxRmHeylxZo+tT3nn7AV9\n",
       "NtbP/QBWLCWWPXBab++Q1LU+liV7sf7vpSZfcySU2rItJs+8QKwNjl3IO0SZ9/MuGP3ANhBfQnBs\n",
       "FB+HTXYctTedWn9Z10YyJAcJn3hk1NGAAEYnCrGjPejBwCnoOTcXr0ABQQAAAW0Bn2p0Q38AD2KD\n",
       "Nyl8TktIgAiDP0PDg4uetGsJl4JpRiwWl6HR68y/2YgiHVUol+T8K3ySNfmGsQIpoHausgeXarO4\n",
       "7wJnRXJr7G9KtPIzeuZ7OXszVicZUmE70WPEi+i5z9vjCuC+9ps4QmtQxVTq5+CVWBrasHO6Lzfd\n",
       "/5327kwkPqcQ/19WEvm+E/0qcaNvMjLduIEVBDpqfPh+JVCY8DSsd+V51K90UwDpVbJMqTF6r/Ql\n",
       "MOXfHXrs3mtY/ZIU9WesFLyrLGgAKqpsqdGD0sAwQd7PnUWTe55xwJXxcmv6J3TqhZ3sKwkkQ5zX\n",
       "QY3uAJ7uZHUWC3guapIi1Yk5QZh5dQEwvQjbmJjVnEB2jCVIEZmiDRT3Q+L/wbmJbh/Tx1jR4zXo\n",
       "pOYqZ7h/OubiKcAD7tYofdxZadTrFeZIsoOCal4lrDgwthwaSpxwWVoM/wN1w6e5gAxJdF5wzG22\n",
       "2T0yPA48gOwgAAATcAAAAh8Bn2xqQ38AD2KDNzGfclhCQZFPQqjxUAIcP/l5dSwiviUH+O+QkUyC\n",
       "veaqk0zJ3xzaPNIZg4tkEyRwSzj6cc7k5hL4cSlax+My8r2PscRvV4/sO34tPzqUjLk/8A7vFFVs\n",
       "ZlFJaw17Iox1cCCr62HA+IyIk/PI3tcJE9ChToSWnp7tkubEqgm9Rn/NleC8WDDkjBr5IDcrg6Nw\n",
       "SAJ9jonpuu/DwAn/GNLEJGE8drJ4x4871pXeWPOGuVInZ7JfvYP6Hv6etPfD3gRblIF/CljuYL1f\n",
       "E8BebQMOe7Qy/gEAWLmPtVdfYClgNCuJ4n8wrAaNALpUcK5XxAL3qdeNL+cV/pqNtmkDdVQfrJx9\n",
       "WrXci3S0M3f//JaYuAE5KDtoL0Taq0yKUdzxjkmLKfbFzyChP5yDMODi/xzSm972Ay2qkDH4J6E4\n",
       "tPeHlQ8uI+xHUr+ytkRUXL2RXE8VO3QODoHZAPeYS3GpTLJlVpVHY+2AbQvGwUKrcEeCS8Z3gjKC\n",
       "qDnurN60T35F70uWI/9SfpXrOMv4Z52orwXTFmhjy1TbrzdfM4qYNjiyjijZQ1wo+38ACQahrK0F\n",
       "STBIgKHPf3d19ouLIGum0gjSgX76o8KrUjyERWZANh23+nmDrQ2ttvdHjRg6QK5hzBW20OnQqcTE\n",
       "27iCFJ1ULcUUUuvDw6KbGxPy9Defb3dzbWlfd6W4AJL/gNibpIIpY1iLQCAAS8EAAANiQZtvSahB\n",
       "aJlMFPBD//6qVQAFb8fAAFh+ezaGCXC3WKuSTNp8Zl3hbbD5WA3UOz2DBkQRhH5jBfNc7NneYqvT\n",
       "md8OLsD9ZKhf9xPWFqhjJkuTPRL3EH7spFSRLe6AVOo06w3flWDup2RFVAAiDYHAKjoqSVxv1fjD\n",
       "/0EDuPak4Xrz4TBAcHTYdJXlN5eN+s7qLlEEVj3ZaJMh48GeEHorXAsRVmG1eo14H1f6P83J0UKn\n",
       "1w4EkW1k3PaW1PolFu8ULJD0kgSNeebKWoI0b5FrWs0eKonF9uLO4cxifi+STFSio8+SHutOulFP\n",
       "VOdzS2AB4mj5119ZPqwGGfNlVeXptOEkccrpJQ6FltTs+W3hZN4eZG65ijUn2lyfCZjtesz/3nJm\n",
       "sJKtU3VbrSwKVrtCORWBpHubzQPT7guXwcnlm7oYgdD9cO/GFTE+K2KqCJ74J7OwGm3++OG/ZkqD\n",
       "UwFDHwo8Yg+W9TlMaynwWsofkLVWJO0+r0XzPx1k20CjrY4iv7wa5B+HkTt28SFsJmZxJL6zSqBP\n",
       "i0lrIhiuJ+yrdH2M/fLnJbF+EybM4zJz4m+BR6fzu+LXA90Ss7ELphpvaHG6ATIcq/XOnM3/9fCB\n",
       "2YLmK5KPxQ6V1qqERelisd3GSv37YDgfhBH4njQOxwyqVD1Mg8aWmzsTKCND4wTPv7XldIQq1Q99\n",
       "DGSuv8uFauTNUduw4ntQBj4cS9f6xnBmhw5HXA0vj9O0kdCMuHX1QF+K4ny42bN40U01oaGC5iN9\n",
       "BQsgKy2gUDkx/xP9EqReNOhErLOOxde0kCBwtYrNM4lMbLbozqm0lH6yA3sObElhweWeYVXpt6lY\n",
       "9hI57QQpY5ufb6SJSsFdBxIItv2VH1BWR8CE+NW//Gg2YzahGSF1ttuAYKdLxttSvGQvkzAwwE6H\n",
       "avGqZbgIKwQs/bHyHwn5VYSZCP+lMOknaH4f4HANhdJzKaPkDXV9KzOkdPskja6KSAcPMLDFafg2\n",
       "6Mp670LL0bF2SrRreK/qUZ1StwhJB5K80pZ6v9aCIWLGZYjN+yNHF/MNDaOgB8qpto6ePH0Vm0Su\n",
       "Q/RJA+uHEb0v4CHzMJ6UNXkp/jLTOyeBVIT5YYZkGGYUJRE/yszLLztZ/0nQ3lTZzCAE1dqXkOFn\n",
       "fV/QtrUAAAEMAZ+OakN/AA53i/HmxxWzNX5uxIs/5MYJYe48wgA2kuPwPEQZLYZfOUB545nlj7vj\n",
       "w8M53fDZg+7hUsRS6bJw4dynKHMePaIyCNJmIHxHSUzWWBCypV4Yeg1BgRsV7eJrsz3mT/2sxRcf\n",
       "4W5dM8K7XCO8qg+eUk89z3eQzCRPaCQBXkgRktee8jl1mHmOPnKc+coohslMWrGhN3FNuXbY0Ikn\n",
       "qn+cNSOO47juJ/Mh5rs8QDe3JULphSu3JMoxe/Ty0yB1HlqQLrR7/nbi6F9JGprrAARfAKaPvxIC\n",
       "C+kda+vAMT/819lgv0TC7t7yhMdlwfQCki658FkHUFEMDydZDKOvtHCSTscgaioA/wAAA+FBm5FJ\n",
       "4QpSZTBSwQ/+qlUABW/E3gBYfnwL+3w93fen7SqF1M7HK+pC2Te70N4rQa5h1/olTxXRPx+51XJQ\n",
       "gBpTS+Mcb81V6J/83s7/+P+BG404GrzeUnja8mg55uHiUNr+sMnnsCO/bp2ydI24dmRbAhyqo3EF\n",
       "Of7Q4RNVSmYe2SHiL6TfnaYJ6iHwuZbowrEjLFeqPun8++8KNHFn5g9MFQUhuY+Vc/T6AJZgS3dD\n",
       "wV0y0wSJtp1A/uKxaiRhwiR4Ao3hjU7ek4n+d33n8yvIHPCACNnx+PJpRoIJV64rPgvxJwBRXrQI\n",
       "sm/aMPmmSLOYnnoFyY72s+MsBoYAu6UosypNgVjBXvGJevIwb0q89b181NZdizp+1dYn+MKfpDXs\n",
       "gDx6dib3ZH61mbaW2CQ9rVvcAw6yxEBT8GjbvFetkiuo6aXA9cqE2zAfFPYbNhBjk6GuAMS+7w+m\n",
       "UZMj//3nb3650toOFucYHRdOyGru5QH9bomkRudNizJdZZOiABDTDHtq6QutxiMDbNKhMb2tZVHw\n",
       "0HuC39ZZLxcqWqCNwI3IfGAAigeb4qCtFBqAaaFL1WzxtvB754erfYTbxppSMwI4uSx6mB3e6j8F\n",
       "QeKhU+TXbgAOcBX8a1/t7UmjVONm37o2jlIet8UqnvqLU6uMXIaYkuj+l/HmSaZY8//3/4k5KUN0\n",
       "1b3NPjbIQ8kDkL4jBxv0NxWkhBG1v7YyijcGUK12m1/HvAHcoRcvXoD5OtlDzT6Y8HXv1YxxHhMf\n",
       "C+WHiPzXxifrCEE/EnVz6kM21k1JSf4sB6Kl+GJMD/st5MYEmdQBOKWr4aKX3XBHvBovQYIUba1P\n",
       "0w1I1HnDIiXDc2/CvQXFLS7DYW3t0Hmhq273BZjM+5cjSRTbwbK81ibkkiU1JxtoHHEtWWy9J7mw\n",
       "gXI356v4mCBnQd2RASi3vppKxD2xGLi38jCkMS0bgLzzoGQTTQBe609drD5eJyVkiRCTD50METgi\n",
       "ch1jHQGeEu9wSZ1CE7grmhvyzqrEtcVKW7s8XhbdPV6i22zuFqViV04oqYyxlGkPkwV1/w9PcBjq\n",
       "ggLIfddCyZjRZTtd0eMpA0RpAy1c0h+IKZqs8FuUMzHnfPlWDJvatNIyZTEDHv9K/r2D7NWdJqCX\n",
       "YbFC5k9RjrNEE6dzdO3a9WyVdg8TdrwKl95FLDC+vkVEcrfscbCZu+v+zU6jSE2AQarYUaXdipE+\n",
       "6jc94pEQ3j+iDuTNPEmPxduV7kE1AuLBzpVCA7f+fSI7REjjTFQFM9m2HUTQUCaaemMpipLhhAkK\n",
       "PwDCv821aJGK3dJ84fsoAi2KgWAAAAE6AZ+wakN/AA58Bx8nzhmcGrXABZ8BoAEP1rNd6FgMQ8rG\n",
       "z2dpCJhAGzFvdn+I0Dy+/UpRQV2vWKJD3Mqp+P+lB36AQ/R8SRxyHiHPolbkotDFeAC2k95KEUmZ\n",
       "HPRWYVUW65wq6KtqkQ299M5YW4I2L5Upe9S4XzVSqy757Q2A9T07qjH6M6OLsbWcLFrqJqphW3Tl\n",
       "pVjdFLJdIke/XAl5dNMcnQYDm86enGDKMQgFEW9NRq4EYX+4q4Br5W+Cs9fEISe58oQ/LJ0MoD38\n",
       "zshNXdZwjBczfkfLSFJgqnXxmMbxScof/dMrcBpIluJtwCFTyc7mQ+ByAT5XkEaJGTX5aK/E29cD\n",
       "o39RvveZcVSjq0UCZB93gi5YLKwmGCxmsoRhkBrIA9EJoD33/6siVfvLoCiGKMAHaRzQ64AAAANI\n",
       "QZuzSeEOiZTBRMEP/qpVAAVvxN4AWH58DWCvDqM2utr7ZathIe7bOZzb/uBh67eHdBFdqWUBbTyh\n",
       "F7NDiOArHAZk9HdfMowHjaOD3R6CURtbvMWIErlQGuiH5HfUYiicRB5tuG40rkD0IzJ5UJNdoHum\n",
       "SImQMGT6mb2v+JpPEPJZcofesp+6Bc2/8IqP/j2pXoW5irnNXDDpd475tYBjcXVPAevbcrkbmVfT\n",
       "auj6RDfnpNLELY3EunNWsQIAwqdp6o7tZTBXvGYAtRfcR99fVBlZwdjUrBldgwqP19BCs+ok76wT\n",
       "s1qn/qjZmY9KogyyPN+nzeRP/44RdKYW0Z39PqyDjXCF1K2Ik+kM5A1ZwYjzj+9I35UyZ8skA55P\n",
       "FweB/fqEmHXm/QTh7RkRrnpvoAW9FceHGSxxwPD2M/TCoyy6zVoOLZV31Iam+Zv78LA8gWLHhsG7\n",
       "4DyevykexLatyKRkgA+P9hLl+S1cqbqcXDAhTwoU2GQLV8AzlqAQfAqA4qPQRJNCnxcHf+ov7h+5\n",
       "uoI8zxXbJXXp4K6KMOI8RoxG+RUn0o3xTZy8/x3imswhRkaYO9eXya+Eg/WNZABkVdPmggR98qX7\n",
       "iUGDlFsisk0xbiLJbmvTV9W+mUZ5HxgftOlzeRjsxXs7mP2xHIbO6KK6JMLZ/Je53SGj2RQS9Wcb\n",
       "+1PDdumI+SbdRxkq6NIop3Cz8oXtIkm3gRFGlSESGxEGVCFjKRJDrafeegO0+Mc1GG8rJ1Wl9lPI\n",
       "C0uv56QgyFgb8itONscUDym7S/BZ4z8no3lucAmHyl+bawEeRSZCl9ns62rjYXj70hMiM/S6Wa7X\n",
       "05kpI7Ce9rxlC7FNF/YC7dxczmZcOUEPTFeVcUNkXCndDKS/utkN1YjrxipPHrASCteVTXX/OsUT\n",
       "5pbJEQdgbN4JGeKLrWfuhfhcwmyjYdfMRuK7T5j5q3OCa1FBF/HLQ3/yjn9HviaAD04clUkkEIlB\n",
       "HaprqZYn1OTOg63XGGGdNGpj+8Xmi7Z7LYMhxc209WZo/gpfNyPPoo8ukzCR3y2eSNXCTdOdskjl\n",
       "XCXtf4zelnKSZlRMWpkAYNlbjTe9YTr2LPDexqsZeAy9Wjfyh2iWKcjZAAAA3gGf0mpDfwAOfY3J\n",
       "mKpEVp+wjzaADZ2EmheDTxAeOiEFr4uwV78+28tkBWSOxwc+25/CiXZpZsObWM/fhjhHqQlaKEdE\n",
       "rf6CbKbNtf6Op96SvYZkevf3DswyjAI10+cct226RlB0oC0k0lCf8eRD/zT3RioWdBFQ8+OlOXtt\n",
       "jdyFmUpCK7jmxgIfGsGhzwcg1tEDsw4LbSTf4NT7gcvEsPTJ6lzshX+PoQDtSqK4G1NZT6uacmou\n",
       "xlEOzCQQVgIS648ou8bW0n+Ie0+7ljK48T/Tzr4zgoflFWmUgABBwAAAAgJBm9RJ4Q8mUwIIf/6q\n",
       "VQAFTGitSDwArgwrN0jkvAb81eBFUMM1TgDwtaQw78zYOtLNvwSG96smtAWFmrQBv8GYUfyNXW6v\n",
       "rxaYoPh16m4lh6sQwB1tqSRwUCtT6SRH880U1V7ev6hLbxQYqTaW7PUGm+oJ9FsaySlGXcKO2FWZ\n",
       "l2h40mshH6g7Oa/TgWYmzzse4EaJKj9xhw+CQOOFbiq+QOrziPWvIxgW58oCHM83iJ6BpSwnyvSI\n",
       "7LF+odKNMS6XQxSQ4ytw6YIffKDDWPMiu9fBQYDNn/7kTl0rDzkLoT/2ekfn/vVl/gV8tvxuZ4LF\n",
       "T9HZ9lXztX4PnE7yYunWZn6uCMccfyVCJ98bBblvGGppTCkQEw0snGEUnaukTqN9vZ/nXCuM7kni\n",
       "mwo3yOWE4D0JXkaFDoqOyyn/a1Nwx4Zix5oTAEJf2aWdIrvUjU85iXp4dQOGh2Z+Tl7Vh4NhjU0N\n",
       "0MQdaLgpimC0Pu5Yzmv6MjDIGE6W7SGTylJlVTCzxqlilQ6whgLWy9H7ndpgDbG5H6SKvrTztRb0\n",
       "MwvMwt5poWqyHXn1ZRqXcCdNN9L9jH4ZVHHR+/yyHMfN8UtOXargRIK4VXdL/AAGv2trkVZyMf/+\n",
       "nlyA31fUq0wytltOp3WOTBnhCdaRqfkJIAjy4cgSCjNL4yB69HGI4IEAADfgAAABtEGb9UnhDyZT\n",
       "Agj//rUqgAK4VDBgBGHMb2prmxpOagA+TjSWiyxiodnVkfS0KiIIRvge8F5npn0/x6/Cv15yjcZE\n",
       "WXLlxx6xWlXEbreAE56DgYssGOXelCbUz7CIjjNvR+F6h+IgTwk+xB915uRjhjnOqAeRfXr1ICLC\n",
       "xh1Y2V615LKdFYLAIoQSvS2rC5YG58+EW/sMlEFGPGwXZeNGZj2Bopm5LLVbtPbKJ55MjOC5HjHW\n",
       "mhr+Q7ryBl4IHNgb6Wt6HbiFCCrUqRIzB31XZioOz08bE1OtxZBGdjCwHBbe3ILNz4vPOQnkM50V\n",
       "48x6SNn72Iwhnkw/1yBNLgk7E/qPboOTgugF2QRy4TSJ5O8JOLsUURZJ2r1q1ZMvwNOwGQ2hIKR5\n",
       "8v+f/yRiDoQQN7vqgBeIdAuenSoC0U7yLBAMW4BIUmBJ4lONqHP1np8Ized8MlPPJDl6ny+vA+qz\n",
       "9G0Y4UEKfG8OsLBOTcfj+sAB6FgqqiPWaaxy5GFfM5t1VEXQHMas0z5/wcFcBKAzgw0LR6goswvR\n",
       "picEFiALL4dhdLjkzP6BaaaD4oZUkheDWHsW40EAAAKLQZoYSeEPJlMCCP/+tSqAAspQ6gA5l547\n",
       "8uKmMtaXIwNDfVCiiGDu04Zqm3YkzC0pvbvqMHY/u8DunyuvB5gH1DauvQo+fR1pftSD0h2QNf70\n",
       "vlVZH8u/asQ/eVQFSw9+fIXg6fK7x3yMCkldTfaPguczUCmwUYGac73n89sDxSYlM2bCvhexeqbN\n",
       "402jzMeDSttQ1NS2ga7xOVGmh0pDs1ETp1pJahNaJT8j+djcndp6DYRVfUH0U2jl2CwSylTWpaUw\n",
       "YU9AaRrZ6ykox+bIvCPQh66Wpf/2YUnwtB4c4g1X6jtZmLu3XoUSFQxSlex50SL6WDWupoilI2K+\n",
       "bA9widZM473WUTwGRyAUXjMNkxBOBbkLG6YGK9kaN4996tX4AHdCIZxX80R5rpJ7qLnmW/Jeu8xT\n",
       "YxC3c3mk4wp4P5+aAKZ32sxO9mFgfwnntR2qg6HZh7GqxjgEnfvx9k3zijucRSGkVFLxN7zjpWR/\n",
       "hJFTXSLgzYHC+6T34pKNyMW/RYDyBGDodCKxg0z9zAJvgwxkcdZKIoqNpMct1aABKX5tdVLwECSB\n",
       "vzRHmp61BhaExDqObyHIHxjMhfyJwrrGg0/CD3aaApNcWllBf1PeIvfr9mprYHisN8rHFlr7GyiL\n",
       "FpwvP5g45gTNa9IFwRbsYeMqnevO79RHdS/pPpgGjQTGTR86Z36W6DNgK/G8WVPIBYE4jbxb9iB4\n",
       "8369rGaktVnhEgGeIxdJuqvnJLnYMpaWQ/2JhwuGCRWzcSpaRukcknYJB7IWSS/O92HwGEJrTyKC\n",
       "l/3liALKfv1ftpVNQgfjBMnXMJmmCbcYazRGZQ1Mh4KZ8MiNyO9b/qNRKcVPEldlXlykUHHv03HA\n",
       "AAAAeUGeNkURPDf/AA6CePqR4cBwATn1YOUjysCcJ+GsNd3Tk2l2jbgOeLcA0Km9N/LTHkYl0t+Q\n",
       "FKkhFdZGApaJBT55VQstdrRArwvdCY4KRSdvjLTx5Rt62+NdMaZag9vng7YVczi2Bt40BXuY5BlS\n",
       "nYVr4hEY9sAA7oEAAABAAZ5XakN/AA9iqpie8DeU98x0QhIIqmSAEJdMCsFV0SfsmG7biw+hStn4\n",
       "TtMeDFHWv3oKeBFB1tUycObAAAB6QQAAAVtBmlxJqEFomUwII//+tSqAAspQ6gArf0rKGMKgU0Lz\n",
       "hbDdh2HOkiBn9iAHo+JF5qc1+s+8TLh8+GKC7Utph9yqWrRfRPzRBPd8CrJ/j0og+9tz+8iARWe+\n",
       "rjdLzn2Nxr1pum3/Ovbfm1J7bk4yz9r9Ki6d5ZrYzG42StR4AR3A9LWWKqERTwyDpw3UPbuxA2Er\n",
       "0Zs5oD6TYGH4x2K1UdsP6LfrMlap8vXDen78wnqGUM5s36jiUO4wptfD52WrscZV3Nx0lVmUfmkr\n",
       "Sht0v6eQwTOqqdoYyfB0omR5AlWE+IDkibvCa4474acdphgUPqIDGFfllHDrXvfMLTq8yIvTp/vF\n",
       "r6KIITjqtXw5XQ/IpZyolHk7/9GfP8LqmXuuPRXzF9xD7c4CqLhErlXkorQkztMyIm9aEs79MnU+\n",
       "2fKEfPSKZBmZDACHnIF2diO/ADb8JMIUn2cbIZpmUwAAAHhBnnpFESw7/wAK4YpvimgAufV4E5dN\n",
       "x6jU8874/0/Er9zYZCMGHll5Ww6t0EquhBiZbJjcOQCR6/HxIIqls6GesXl2YvBx9g3CN4iv/qcr\n",
       "VQbRbmonn5nApUi9Jy21UV6ya6EoI3djbsv6MTcFQjAtXUaawuAAOOEAAAAcAZ6ZdEN/AA8um0wk\n",
       "KLOHy1KYpRZJZWhJwAAccAAAABoBnptqQ38AB7FVNoItXeuaZn2VcqQYwADQgQAAARVBmoBJqEFs\n",
       "mUwIIf/+qlUABZPE3gBYfnwNS3SfOO9+Ry0BcmuC81Jdaegqu5prCGZ6XWkvc2CDZgDNaqJ0NwF1\n",
       "qKXHhCZ/kdJ26pwCLKOUKQyvWCSRqaV5a5Mk7vcW5/uT/VzGBNeAq4VY8ejinbAmxVwynt+92PQD\n",
       "cU6GgJjWDGv/ZQZ5WRN1DqBIOHXRljBHaS38l42e4HvZXDJe59IaN3hVb0KKK/vJeG7VtLvJ5HYL\n",
       "CX8G6fZHTSCm4vgfHrGoM12I1SeyH7KR/SlIc3cjuOgbUkSyYbW+8Bp9boU8V9nd1CWu1G9Ef0s9\n",
       "VNn9cAl34leEdWJLgXtqc1sl3yj8IPeYWqKWILQ+l7eaIeEA//YgAAFbAAAALEGevkUVLDv/AAWH\n",
       "GDoHf/t0208vBAOKHzMC/YsDHzP5uPbScdwVgXugABnwAAAAFwGe3XRDfwAHw08lsvUu9mm1FlVA\n",
       "AFxAAAAAGAGe32pDfwAHxKIl1s7KEl0QApyrF0gD0wAAACtBmsRJqEFsmUwIf//+qZYAAmCN0OAC\n",
       "2BRzC5misCpct+cPA+HDwRZYgAGzAAAAIEGe4kUVLDv/AAWVwxwDEB4MsCHJkdpheXsrCkmQAAMD\n",
       "AAAAGAGfAXRDfwAHw08lsvUu7eqFDiR1AABQwAAAABcBnwNqQ38AB8SiJdbfLRsjTUWUzgAP8QAA\n",
       "ABZBmwdJqEFsmUwIb//+p4QAAAMAACbhAAAAIEGfJUUVLDf/AAfFStJSYL1vYFoz0sHDksKQdIRA\n",
       "AAuJAAAAFwGfRmpDfwAHxKIl1t8tGyNNRZTOAA/xAAAEv21vb3YAAABsbXZoZAAAAAAAAAAAAAAA\n",
       "AAAAA+gAAA+gAAEAAAEAAAAAAAAAAAAAAAABAAAAAAAAAAAAAAAAAAAAAQAAAAAAAAAAAAAAAAAA\n",
       "QAAAAAAAAAAAAAAAAAAAAAAAAAAAAAAAAAAAAAAAAAIAAAPpdHJhawAAAFx0a2hkAAAAAwAAAAAA\n",
       "AAAAAAAAAQAAAAAAAA+gAAAAAAAAAAAAAAAAAAAAAAABAAAAAAAAAAAAAAAAAAAAAQAAAAAAAAAA\n",
       "AAAAAAAAQAAAAAH0AAABkAAAAAAAJGVkdHMAAAAcZWxzdAAAAAAAAAABAAAPoAAACAAAAQAAAAAD\n",
       "YW1kaWEAAAAgbWRoZAAAAAAAAAAAAAAAAAAAKAAAAKAAVcQAAAAAAC1oZGxyAAAAAAAAAAB2aWRl\n",
       "AAAAAAAAAAAAAAAAVmlkZW9IYW5kbGVyAAAAAwxtaW5mAAAAFHZtaGQAAAABAAAAAAAAAAAAAAAk\n",
       "ZGluZgAAABxkcmVmAAAAAAAAAAEAAAAMdXJsIAAAAAEAAALMc3RibAAAALRzdHNkAAAAAAAAAAEA\n",
       "AACkYXZjMQAAAAAAAAABAAAAAAAAAAAAAAAAAAAAAAH0AZAASAAAAEgAAAAAAAAAAQAAAAAAAAAA\n",
       "AAAAAAAAAAAAAAAAAAAAAAAAAAAAAAAAABj//wAAADJhdmNDAWQAFv/hABlnZAAWrNlAgDPn4QAA\n",
       "AwABAAADABQPFi2WAQAGaOvjyyLAAAAAHHV1aWRraEDyXyRPxbo5pRvPAyPzAAAAAAAAABhzdHRz\n",
       "AAAAAAAAAAEAAAAoAAAEAAAAABRzdHNzAAAAAAAAAAEAAAABAAABAGN0dHMAAAAAAAAAHgAAAAgA\n",
       "AAgAAAAAAQAADAAAAAABAAAEAAAAAAEAABQAAAAAAQAACAAAAAABAAAAAAAAAAEAAAQAAAAAAQAA\n",
       "DAAAAAABAAAEAAAAAAEAAAwAAAAAAQAABAAAAAABAAAMAAAAAAEAAAQAAAAAAgAACAAAAAABAAAQ\n",
       "AAAAAAIAAAQAAAAAAQAAFAAAAAABAAAIAAAAAAEAAAAAAAAAAQAABAAAAAABAAAUAAAAAAEAAAgA\n",
       "AAAAAQAAAAAAAAABAAAEAAAAAAEAABQAAAAAAQAACAAAAAABAAAAAAAAAAEAAAQAAAAAAQAAEAAA\n",
       "AAACAAAEAAAAABxzdHNjAAAAAAAAAAEAAAABAAAAKAAAAAEAAAC0c3RzegAAAAAAAAAAAAAAKAAA\n",
       "FWsAAAKBAAADNwAABEQAAAIdAAAChAAAAk8AAAG6AAACeQAAALYAAATRAAAC6wAAAXEAAAIjAAAD\n",
       "ZgAAARAAAAPlAAABPgAAA0wAAADiAAACBgAAAbgAAAKPAAAAfQAAAEQAAAFfAAAAfAAAACAAAAAe\n",
       "AAABGQAAADAAAAAbAAAAHAAAAC8AAAAkAAAAHAAAABsAAAAaAAAAJAAAABsAAAAUc3RjbwAAAAAA\n",
       "AAABAAAALAAAAGJ1ZHRhAAAAWm1ldGEAAAAAAAAAIWhkbHIAAAAAAAAAAG1kaXJhcHBsAAAAAAAA\n",
       "AAAAAAAALWlsc3QAAAAlqXRvbwAAAB1kYXRhAAAAAQAAAABMYXZmNTcuNzEuMTAw\n",
       "\">\n",
       "  Your browser does not support the video tag.\n",
       "</video>"
      ],
      "text/plain": [
       "<matplotlib.animation.FuncAnimation at 0x11ab0c650>"
      ]
     },
     "execution_count": 27,
     "metadata": {},
     "output_type": "execute_result"
    }
   ],
   "source": [
    "fig = plt.figure(figsize=(5,4), dpi=100)\n",
    "plt.scatter(x, y)\n",
    "line, = plt.plot(x, lin(a_guess, b_guess, x))\n",
    "plt.close()\n",
    "\n",
    "def animate(i):\n",
    "    line.set_ydata(lin(a_guess, b_guess, x))\n",
    "    for i in xrange(10): update()\n",
    "    return line,\n",
    "\n",
    "ani = animation.FuncAnimation(fig, animate, np.arange(0, 40), interval=100)\n",
    "ani"
   ]
  },
  {
   "cell_type": "markdown",
   "metadata": {},
   "source": [
    "8 May 2017 - Wayne H Nixalo"
   ]
  },
  {
   "cell_type": "code",
   "execution_count": null,
   "metadata": {
    "collapsed": true
   },
   "outputs": [],
   "source": []
  }
 ],
 "metadata": {
  "kernelspec": {
   "display_name": "Python 2",
   "language": "python",
   "name": "python2"
  },
  "language_info": {
   "codemirror_mode": {
    "name": "ipython",
    "version": 2
   },
   "file_extension": ".py",
   "mimetype": "text/x-python",
   "name": "python",
   "nbconvert_exporter": "python",
   "pygments_lexer": "ipython2",
   "version": "2.7.13"
  }
 },
 "nbformat": 4,
 "nbformat_minor": 2
}
