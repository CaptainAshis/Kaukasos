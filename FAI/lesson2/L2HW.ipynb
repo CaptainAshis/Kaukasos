{
 "cells": [
  {
   "cell_type": "markdown",
   "metadata": {},
   "source": [
    "Lesson 2 Assignment JNB -- Kaggle Galaxy Zoo\n",
    "\n",
    "10 May 2017 - Wayne H Nixalo\n",
    "\n",
    "Plan:\n",
    "1. Build a Linear Model (no activations) from scratch\n",
    "2. Build a 1-Layer Neural Network using linear model layers + activations\n",
    "3. Build a finetuned DLNN atop VGG16\n",
    "\n",
    "\n",
    "* experiment w/ SGD vs RMSprop\n",
    "* experiment w/ sigmoid vs tanh vs ReLU\n",
    "* compare scores of ea. model\n",
    "* use utils.py & vgg16.py source code + Keras.io documentation for help\n",
    "\n",
    "Note: I'm pretty sure that by \"*from scratch*\" what J. Howard means is a fresh linear model atop Vgg16.. Creating a straight Linear Model for image classification... does not sound... very sound..\n",
    "\n",
    "Whatever, build break learn."
   ]
  },
  {
   "cell_type": "code",
   "execution_count": 2,
   "metadata": {},
   "outputs": [
    {
     "name": "stderr",
     "output_type": "stream",
     "text": [
      "Using Theano backend.\n"
     ]
    }
   ],
   "source": [
    "import keras"
   ]
  },
  {
   "cell_type": "code",
   "execution_count": null,
   "metadata": {
    "collapsed": true
   },
   "outputs": [],
   "source": [
    "# Constants\n",
    "Num_Classes = Num_Classes\n",
    "batch_size = 4\n",
    "lr = 0.01"
   ]
  },
  {
   "cell_type": "code",
   "execution_count": null,
   "metadata": {
    "collapsed": true
   },
   "outputs": [],
   "source": [
    "# Helper Functions\n",
    "\n",
    "# get_batches(..) copied from utils.py\n",
    "# gen.flow_from_directory() is an iterator that yields batches of images\n",
    "# from a directory indefinitely.\n",
    "from keras.preprocessing import image\n",
    "def get_batches(dirname, gen=image.ImageDataGenerator(), shuffle=True, batche_size=4, class_mode='categorical',\n",
    "                target_size=(224,224)):\n",
    "    return gen.flow_from_directory(dirname, target_size=target_size,\n",
    "            class_mode=class_mode, shuffle=shuffle, batch_size=batch_size)\n",
    "\n",
    "# fast array saving/loading\n",
    "import bcolz\n",
    "def save_array(fname, arr): c=bcolz.carray(arr, rootdir=fname, mode='w'); c.flush()\n",
    "def load_array(fname): return bcolz.open(fname)[:]\n",
    "\n",
    "# One-Hot Encoding for Keras\n",
    "from sklearn.preprocessing import OneHotEncoder\n",
    "def onehot(x): return np.array(OneHotEncoder().fit_transform(x.reshape(-1, 1))).todense()\n",
    "# should I use that or from Keras?\n",
    "# def onehot(x): return keras.utils.np_utils.to_categorical(x)\n",
    "\n",
    "# from utils.py -- retrieving data saved by bcolz\n",
    "def get_data(path, target_size=(224,224)):\n",
    "    batches = get_batches(path, shuffle=False, batch_size=1, class_mode=None, target_size=target_size)\n",
    "    return np.concatenate([batches.next() for i in range(batches.nb_sample)])\n"
   ]
  },
  {
   "cell_type": "markdown",
   "metadata": {},
   "source": [
    "### 1. Basic Linear Model"
   ]
  },
  {
   "cell_type": "code",
   "execution_count": null,
   "metadata": {
    "collapsed": true
   },
   "outputs": [],
   "source": [
    "LM = keras.model.Sequential([Dense(Num_Classes, input_shape=(784,))])\n",
    "\n",
    "LM.compile(optimizer=SGD(lr=0.01), loss='mse')\n",
    "# LM.compile(optimizer=RMSprop(lr=0.01), loss='mse')\n",
    "\n"
   ]
  },
  {
   "cell_type": "code",
   "execution_count": null,
   "metadata": {
    "collapsed": true
   },
   "outputs": [],
   "source": []
  },
  {
   "cell_type": "markdown",
   "metadata": {},
   "source": [
    "### 2. 1-Layer Neural Network"
   ]
  },
  {
   "cell_type": "markdown",
   "metadata": {},
   "source": [
    "### 3. Finetuned VGG16 "
   ]
  },
  {
   "cell_type": "code",
   "execution_count": null,
   "metadata": {
    "collapsed": true
   },
   "outputs": [],
   "source": [
    "import os, sys"
   ]
  },
  {
   "cell_type": "code",
   "execution_count": null,
   "metadata": {
    "collapsed": true
   },
   "outputs": [],
   "source": [
    "sys.path.insert(os.path.join(1, '../utils/'))\n",
    "import Vgg16"
   ]
  }
 ],
 "metadata": {
  "kernelspec": {
   "display_name": "Python 2",
   "language": "python",
   "name": "python2"
  },
  "language_info": {
   "codemirror_mode": {
    "name": "ipython",
    "version": 2
   },
   "file_extension": ".py",
   "mimetype": "text/x-python",
   "name": "python",
   "nbconvert_exporter": "python",
   "pygments_lexer": "ipython2",
   "version": "2.7.13"
  }
 },
 "nbformat": 4,
 "nbformat_minor": 2
}
