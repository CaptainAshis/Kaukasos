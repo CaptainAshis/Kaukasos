{
 "cells": [
  {
   "cell_type": "markdown",
   "metadata": {},
   "source": [
    "Wayne Nixalo - 1 Jul 2017\n",
    "\n",
    "RNN practice in Theano -- 4th attempt\n",
    "\n",
    "Implementing dimensionality for context idea.\n",
    "\n",
    "## Theano RNN"
   ]
  },
  {
   "cell_type": "code",
   "execution_count": 1,
   "metadata": {},
   "outputs": [
    {
     "name": "stderr",
     "output_type": "stream",
     "text": [
      "Using Theano backend.\n"
     ]
    }
   ],
   "source": [
    "import theano\n",
    "import os, sys\n",
    "sys.path.insert(1, os.path.join('../utils'))\n",
    "from utils import *\n",
    "# from __future__ import division, print_functions"
   ]
  },
  {
   "cell_type": "code",
   "execution_count": 2,
   "metadata": {},
   "outputs": [
    {
     "name": "stdout",
     "output_type": "stream",
     "text": [
      "('corpus length:', 600901)\n",
      "('total chars:', 86)\n"
     ]
    }
   ],
   "source": [
    "path = get_file('nietzsche.txt', origin=\"https://s3.amazonaws.com/text-datasets/nietzsche.txt\")\n",
    "text = open(path).read()\n",
    "print('corpus length:', len(text))\n",
    "chars = sorted(list(set(text)))\n",
    "vocab_size = len(chars) + 1\n",
    "print('total chars:', vocab_size)"
   ]
  },
  {
   "cell_type": "code",
   "execution_count": 3,
   "metadata": {},
   "outputs": [
    {
     "data": {
      "text/plain": [
       "'\\n !\"\\'(),-.0123456789:;=?ABCDEFGHIJKLMNOPQRSTUVWXYZ[]_abcdefghijklmnopqrstuvwxyz'"
      ]
     },
     "execution_count": 3,
     "metadata": {},
     "output_type": "execute_result"
    }
   ],
   "source": [
    "chars.insert(0, \"\\0\")\n",
    "''.join(chars[1:-6])"
   ]
  },
  {
   "cell_type": "code",
   "execution_count": 4,
   "metadata": {
    "collapsed": true
   },
   "outputs": [],
   "source": [
    "char_indices = dict((c, i) for i, c in enumerate(chars))\n",
    "indices_char = dict((i, c) for i, c in enumerate(chars))\n",
    "idx = [char_indices[c] for c in text]\n",
    "# ''.join(indices_char[i] for i in idx[:70])"
   ]
  },
  {
   "cell_type": "code",
   "execution_count": 5,
   "metadata": {
    "collapsed": true
   },
   "outputs": [],
   "source": [
    "n_hidden, n_fac, cs = 256, 42, 8"
   ]
  },
  {
   "cell_type": "code",
   "execution_count": 6,
   "metadata": {
    "collapsed": true
   },
   "outputs": [],
   "source": [
    "c_in_dat = [[idx[i+n] for i in xrange(0, len(idx)-1-cs, cs)] for n in range(cs)]\n",
    "c_out_dat = [[idx[i+cs] for i in xrange(0, len(idx)-cs, cs)] for n in range(cs)]\n",
    "\n",
    "xs = [np.stack(c[:-2]) for c in c_in_dat]\n",
    "ys = [np.stack(c[:-2]) for c in c_out_dat]"
   ]
  },
  {
   "cell_type": "markdown",
   "metadata": {},
   "source": [
    "So here's the trouble spot. First looking at the shape & visualizing `xs`, then seeing how we can get `xs` to be of the right shape"
   ]
  },
  {
   "cell_type": "code",
   "execution_count": 22,
   "metadata": {},
   "outputs": [
    {
     "name": "stdout",
     "output_type": "stream",
     "text": [
      "[40  1 33  2 72 67 73  2]\n",
      "[42  1 38 44  2  9 61 73]\n",
      "[29 43 31 71 54  9 58 61]\n",
      "[30 45  2 74  2 76 67 58]\n",
      "[25 40 73 73 76 61 24 71]\n",
      "[27 40 61 61 68 54  2 58]\n",
      "[29 39 54  2 66 73 33  2]\n",
      "[ 1 43 73 62 54  2 72 67]\n"
     ]
    },
    {
     "data": {
      "text/plain": [
       "(75110,)"
      ]
     },
     "execution_count": 22,
     "metadata": {},
     "output_type": "execute_result"
    }
   ],
   "source": [
    "for row in [xs[n][:cs] for n in range(cs)]: print row\n",
    "xs[0].shape"
   ]
  },
  {
   "cell_type": "markdown",
   "metadata": {},
   "source": [
    "By trial & error found out `axis=2` is the right axis to expand. And looks like it gives me exactly what I was looking for."
   ]
  },
  {
   "cell_type": "code",
   "execution_count": 17,
   "metadata": {
    "collapsed": true
   },
   "outputs": [],
   "source": [
    "# xs2 = np.stack(np.squeeze(xs), axis=0)\n",
    "xs2 = np.expand_dims(xs, axis=2)"
   ]
  },
  {
   "cell_type": "code",
   "execution_count": 18,
   "metadata": {},
   "outputs": [
    {
     "data": {
      "text/plain": [
       "(75110, 1)"
      ]
     },
     "execution_count": 18,
     "metadata": {},
     "output_type": "execute_result"
    }
   ],
   "source": [
    "xs2[0].shape"
   ]
  },
  {
   "cell_type": "code",
   "execution_count": 24,
   "metadata": {},
   "outputs": [
    {
     "name": "stdout",
     "output_type": "stream",
     "text": [
      "[[40]\n",
      " [ 1]\n",
      " [33]\n",
      " [ 2]\n",
      " [72]\n",
      " [67]\n",
      " [73]\n",
      " [ 2]]\n",
      "[[42]\n",
      " [ 1]\n",
      " [38]\n",
      " [44]\n",
      " [ 2]\n",
      " [ 9]\n",
      " [61]\n",
      " [73]]\n",
      "[[29]\n",
      " [43]\n",
      " [31]\n",
      " [71]\n",
      " [54]\n",
      " [ 9]\n",
      " [58]\n",
      " [61]]\n",
      "[[30]\n",
      " [45]\n",
      " [ 2]\n",
      " [74]\n",
      " [ 2]\n",
      " [76]\n",
      " [67]\n",
      " [58]]\n",
      "[[25]\n",
      " [40]\n",
      " [73]\n",
      " [73]\n",
      " [76]\n",
      " [61]\n",
      " [24]\n",
      " [71]]\n",
      "[[27]\n",
      " [40]\n",
      " [61]\n",
      " [61]\n",
      " [68]\n",
      " [54]\n",
      " [ 2]\n",
      " [58]]\n",
      "[[29]\n",
      " [39]\n",
      " [54]\n",
      " [ 2]\n",
      " [66]\n",
      " [73]\n",
      " [33]\n",
      " [ 2]]\n",
      "[[ 1]\n",
      " [43]\n",
      " [73]\n",
      " [62]\n",
      " [54]\n",
      " [ 2]\n",
      " [72]\n",
      " [67]]\n"
     ]
    },
    {
     "data": {
      "text/plain": [
       "(75110, 1)"
      ]
     },
     "execution_count": 24,
     "metadata": {},
     "output_type": "execute_result"
    }
   ],
   "source": [
    "for row in [xs2[n][:cs] for n in range(cs)]: print row\n",
    "xs2[0].shape"
   ]
  },
  {
   "cell_type": "code",
   "execution_count": 25,
   "metadata": {},
   "outputs": [
    {
     "name": "stdout",
     "output_type": "stream",
     "text": [
      "(8, 8)\n"
     ]
    }
   ],
   "source": [
    "print(len(xs), len(xs2))"
   ]
  },
  {
   "cell_type": "markdown",
   "metadata": {},
   "source": [
    "Now to build an RNN in Theano and test it out. A successful result is a loss of around ~14.4, and an okay'ish prediction of the next character in an 8 character series."
   ]
  },
  {
   "cell_type": "code",
   "execution_count": 51,
   "metadata": {},
   "outputs": [
    {
     "data": {
      "text/plain": [
       "((75110, 8, 86), (75110, 8, 86), (75110, 8, 86), (75110, 8, 86))"
      ]
     },
     "execution_count": 51,
     "metadata": {},
     "output_type": "execute_result"
    }
   ],
   "source": [
    "# One Hot Encoding xs & ys:\n",
    "oh_ys = [to_categorical(o, vocab_size) for o in ys]\n",
    "oh_y_rnn = np.stack(oh_ys, axis=1)\n",
    "\n",
    "# seeing if there's a difference between the x & x2 versions\n",
    "oh_xs = [to_categorical(o, vocab_size) for o in xs]\n",
    "oh_x_rnn = np.stack(oh_xs, axis=1)\n",
    "\n",
    "oh_xs2 = [to_categorical(o, vocab_size) for o in xs2]\n",
    "oh_x2_rnn = np.stack(oh_xs, axis=1)\n",
    "\n",
    "xs3 = [np.stack(x[:]) for x in xs2]\n",
    "oh_xs3 = [to_categorical(o, vocab_size) for o in xs3]\n",
    "oh_x3_rnn = np.stack(oh_xs, axis=1)\n",
    "\n",
    "oh_x_rnn.shape, oh_x2_rnn.shape, oh_x3_rnn.shape, oh_y_rnn.shape"
   ]
  },
  {
   "cell_type": "code",
   "execution_count": 27,
   "metadata": {},
   "outputs": [],
   "source": [
    "n_input = vocab_size\n",
    "n_output = vocab_size\n",
    "\n",
    "def init_wgts(rows, cols):\n",
    "    scale = math.sqrt(2/rows)\n",
    "    return shared(normal(scale=scale, size=(rows,cols)).astype(np.float32))\n",
    "def init_bias(rows):\n",
    "    return shared(np.zeros(rows, dtype=np.float32))\n",
    "def wgts_and_bias(n_in, n_out):\n",
    "    return init_wgts(n_in, n_out), init_bias(n_out)\n",
    "def id_and_bias(n):\n",
    "    return shared(np.eye(n, dtype=np.float32)), init_bias(n)\n",
    "\n",
    "# Theano Variables\n",
    "t_inp = T.matrix('inp')\n",
    "t_outp = T.matrix('outp')\n",
    "t_h0 = T.vector('h0')\n",
    "lr = T.scalar('lr')\n",
    "\n",
    "all_args = [t_h0, t_inp, t_outp, lr]\n",
    "\n",
    "W_h = id_and_bias(n_hidden)\n",
    "W_x = wgts_and_bias(n_input, n_hidden)\n",
    "W_y = wgts_and_bias(n_hidden, n_output)\n",
    "w_all = list(chain.from_iterable([W_h, W_x, W_y]))\n",
    "\n",
    "def step(x, h, W_h, b_h, W_x, b_x, W_y, b_y):\n",
    "    # Calculate the hidden activations\n",
    "    h = nnet.relu(T.dot(x, W_x) + b_x + T.dot(h, W_h) + b_h)\n",
    "    # Calculate the output activations\n",
    "    y = nnet.softmax(T.dot(h, W_y) + b_y)\n",
    "    # Return both (the `Flatten()` is to work around a Theano bug)\n",
    "    return h, T.flatten(y, 1)"
   ]
  },
  {
   "cell_type": "code",
   "execution_count": 28,
   "metadata": {},
   "outputs": [
    {
     "name": "stderr",
     "output_type": "stream",
     "text": [
      "/Users/WayNoxchi/Miniconda3/Theano/theano/tensor/basic.py:5130: UserWarning: flatten outdim parameter is deprecated, use ndim instead.\n",
      "  \"flatten outdim parameter is deprecated, use ndim instead.\")\n"
     ]
    }
   ],
   "source": [
    "[v_h, v_y], _ = theano.scan(step, sequences=t_inp,\n",
    "                             outputs_info=[t_h0, None], non_sequences=w_all)\n",
    "\n",
    "error = nnet.categorical_crossentropy(v_y, t_outp).sum()\n",
    "g_all = T.grad(error, w_all)\n",
    "\n",
    "def upd_dict(wgts, grads, lr):\n",
    "    return OrderedDict({w: w - g * lr for (w,g) in zip(wgts, grads)})\n",
    "\n",
    "upd = upd_dict(w_all, g_all, lr)\n",
    "\n",
    "# finally ready to compile the function\n",
    "fn = theano.function(all_args, error, updates=upd, allow_input_downcast=True)"
   ]
  },
  {
   "cell_type": "code",
   "execution_count": 56,
   "metadata": {},
   "outputs": [
    {
     "data": {
      "text/plain": [
       "((75110, 8, 86), (75110, 8, 86), (75110, 8, 86), (75110, 8, 86))"
      ]
     },
     "execution_count": 56,
     "metadata": {},
     "output_type": "execute_result"
    }
   ],
   "source": [
    "X = oh_x_rnn\n",
    "X2 = oh_x2_rnn\n",
    "X3 = oh_x3_rnn\n",
    "Y = oh_y_rnn\n",
    "X.shape, X2.shape, X3.shape, Y.shape"
   ]
  },
  {
   "cell_type": "code",
   "execution_count": 57,
   "metadata": {
    "scrolled": true
   },
   "outputs": [
    {
     "name": "stdout",
     "output_type": "stream",
     "text": [
      "ErrorX:26.444   ErrorX2:25.839   ErrorX2:25.239\n",
      "ErrorX:25.633   ErrorX2:25.031   ErrorX2:24.435\n",
      "ErrorX:26.118   ErrorX2:25.512   ErrorX2:24.913\n",
      "ErrorX:25.408   ErrorX2:24.807   ErrorX2:24.213\n",
      "ErrorX:25.354   ErrorX2:24.753   ErrorX2:24.159\n",
      "ErrorX:25.901   ErrorX2:25.295   ErrorX2:24.695\n",
      "ErrorX:25.221   ErrorX2:24.619   ErrorX2:24.023\n",
      "ErrorX:25.274   ErrorX2:24.672   ErrorX2:24.076\n",
      "ErrorX:25.171   ErrorX2:24.571   ErrorX2:23.978\n",
      "ErrorX:25.891   ErrorX2:25.286   ErrorX2:24.687\n",
      "ErrorX:25.283   ErrorX2:24.679   ErrorX2:24.081\n",
      "ErrorX:25.175   ErrorX2:24.574   ErrorX2:23.979\n",
      "ErrorX:26.283   ErrorX2:25.680   ErrorX2:25.083\n",
      "ErrorX:25.173   ErrorX2:24.571   ErrorX2:23.975\n",
      "ErrorX:25.074   ErrorX2:24.472   ErrorX2:23.877\n",
      "ErrorX:26.220   ErrorX2:25.615   ErrorX2:25.016\n",
      "ErrorX:26.562   ErrorX2:25.958   ErrorX2:25.361\n",
      "ErrorX:25.915   ErrorX2:25.311   ErrorX2:24.714\n",
      "ErrorX:25.131   ErrorX2:24.529   ErrorX2:23.933\n",
      "ErrorX:25.093   ErrorX2:24.492   ErrorX2:23.896\n",
      "ErrorX:24.690   ErrorX2:24.092   ErrorX2:23.500\n",
      "ErrorX:25.668   ErrorX2:25.063   ErrorX2:24.464\n",
      "ErrorX:25.267   ErrorX2:24.666   ErrorX2:24.072\n",
      "ErrorX:24.826   ErrorX2:24.226   ErrorX2:23.633\n",
      "ErrorX:25.325   ErrorX2:24.724   ErrorX2:24.128\n",
      "ErrorX:25.232   ErrorX2:24.631   ErrorX2:24.036\n",
      "ErrorX:25.642   ErrorX2:25.038   ErrorX2:24.440\n",
      "ErrorX:25.699   ErrorX2:25.095   ErrorX2:24.497\n",
      "ErrorX:25.550   ErrorX2:24.948   ErrorX2:24.352\n",
      "ErrorX:25.439   ErrorX2:24.836   ErrorX2:24.239\n",
      "ErrorX:26.538   ErrorX2:25.931   ErrorX2:25.330\n",
      "ErrorX:25.375   ErrorX2:24.773   ErrorX2:24.177\n",
      "ErrorX:26.081   ErrorX2:25.477   ErrorX2:24.878\n",
      "ErrorX:25.327   ErrorX2:24.726   ErrorX2:24.130\n",
      "ErrorX:25.764   ErrorX2:25.158   ErrorX2:24.558\n",
      "ErrorX:25.831   ErrorX2:25.227   ErrorX2:24.629\n",
      "ErrorX:25.441   ErrorX2:24.840   ErrorX2:24.246\n",
      "ErrorX:25.811   ErrorX2:25.207   ErrorX2:24.608\n",
      "ErrorX:25.632   ErrorX2:25.030   ErrorX2:24.435\n",
      "ErrorX:25.783   ErrorX2:25.180   ErrorX2:24.582\n",
      "ErrorX:25.294   ErrorX2:24.690   ErrorX2:24.093\n",
      "ErrorX:25.373   ErrorX2:24.770   ErrorX2:24.173\n",
      "ErrorX:25.560   ErrorX2:24.956   ErrorX2:24.358\n",
      "ErrorX:26.182   ErrorX2:25.577   ErrorX2:24.977\n",
      "ErrorX:26.283   ErrorX2:25.678   ErrorX2:25.080\n",
      "ErrorX:26.099   ErrorX2:25.494   ErrorX2:24.895\n",
      "ErrorX:25.429   ErrorX2:24.829   ErrorX2:24.235\n",
      "ErrorX:24.666   ErrorX2:24.083   ErrorX2:23.508\n",
      "ErrorX:24.783   ErrorX2:24.183   ErrorX2:23.588\n",
      "ErrorX:25.087   ErrorX2:24.486   ErrorX2:23.892\n",
      "ErrorX:24.824   ErrorX2:24.223   ErrorX2:23.629\n",
      "ErrorX:25.160   ErrorX2:24.557   ErrorX2:23.960\n",
      "ErrorX:24.732   ErrorX2:24.133   ErrorX2:23.541\n",
      "ErrorX:24.879   ErrorX2:24.276   ErrorX2:23.679\n",
      "ErrorX:25.771   ErrorX2:25.165   ErrorX2:24.565\n",
      "ErrorX:24.673   ErrorX2:24.072   ErrorX2:23.478\n",
      "ErrorX:24.885   ErrorX2:24.285   ErrorX2:23.691\n",
      "ErrorX:24.811   ErrorX2:24.209   ErrorX2:23.614\n",
      "ErrorX:24.899   ErrorX2:24.297   ErrorX2:23.701\n",
      "ErrorX:24.719   ErrorX2:24.117   ErrorX2:23.522\n",
      "ErrorX:25.151   ErrorX2:24.548   ErrorX2:23.950\n",
      "ErrorX:25.047   ErrorX2:24.445   ErrorX2:23.850\n",
      "ErrorX:25.210   ErrorX2:24.607   ErrorX2:24.010\n",
      "ErrorX:25.190   ErrorX2:24.587   ErrorX2:23.990\n",
      "ErrorX:24.671   ErrorX2:24.072   ErrorX2:23.478\n",
      "ErrorX:24.979   ErrorX2:24.376   ErrorX2:23.779\n",
      "ErrorX:24.805   ErrorX2:24.205   ErrorX2:23.610\n",
      "ErrorX:24.792   ErrorX2:24.191   ErrorX2:23.596\n",
      "ErrorX:24.883   ErrorX2:24.284   ErrorX2:23.691\n",
      "ErrorX:24.187   ErrorX2:23.589   ErrorX2:22.997\n",
      "ErrorX:25.391   ErrorX2:24.788   ErrorX2:24.191\n",
      "ErrorX:24.992   ErrorX2:24.390   ErrorX2:23.794\n",
      "ErrorX:24.642   ErrorX2:24.042   ErrorX2:23.447\n",
      "ErrorX:24.650   ErrorX2:24.049   ErrorX2:23.454\n",
      "ErrorX:24.096   ErrorX2:23.498   ErrorX2:22.906\n"
     ]
    }
   ],
   "source": [
    "# gonna run on X and X2 and X3 simultaneously \n",
    "\n",
    "err = 0.0; err2 = 0.0; err3 = 0.0; l_rate = 0.01\n",
    "for i in xrange(len(X)):\n",
    "    err += fn(np.zeros(n_hidden), X[i], Y[i], l_rate)\n",
    "    err2 += fn(np.zeros(n_hidden), X2[i], Y[i], l_rate)\n",
    "    err3 += fn(np.zeros(n_hidden), X3[i], Y[i], l_rate)\n",
    "    if i % 1000 == 999:\n",
    "        print (\"ErrorX:{:.3f}   ErrorX2:{:.3f}   ErrorX2:{:.3f}\".format(err/1000, err2/1000, err3/1000))\n",
    "        err=0.0; err2=0.0; err3=0.0"
   ]
  },
  {
   "cell_type": "markdown",
   "metadata": {},
   "source": [
    "It's a little better but no where near good enough. I need to find out what's wrong.."
   ]
  },
  {
   "cell_type": "code",
   "execution_count": 49,
   "metadata": {},
   "outputs": [
    {
     "data": {
      "text/plain": [
       "(75110, 1)"
      ]
     },
     "execution_count": 49,
     "metadata": {},
     "output_type": "execute_result"
    }
   ],
   "source": [
    "xs3 = [np.stack(x[:]) for x in xs2]\n",
    "xs3[0].shape"
   ]
  },
  {
   "cell_type": "code",
   "execution_count": 59,
   "metadata": {},
   "outputs": [
    {
     "data": {
      "text/plain": [
       "[array([[40],\n",
       "        [ 1],\n",
       "        [33],\n",
       "        ..., \n",
       "        [72],\n",
       "        [71],\n",
       "        [61]]), array([[42],\n",
       "        [ 1],\n",
       "        [38],\n",
       "        ..., \n",
       "        [73],\n",
       "        [65],\n",
       "        [58]]), array([[29],\n",
       "        [43],\n",
       "        [31],\n",
       "        ..., \n",
       "        [62],\n",
       "        [57],\n",
       "        [ 2]]), array([[30],\n",
       "        [45],\n",
       "        [ 2],\n",
       "        ..., \n",
       "        [54],\n",
       "        [ 2],\n",
       "        [62]]), array([[25],\n",
       "        [40],\n",
       "        [73],\n",
       "        ..., \n",
       "        [67],\n",
       "        [54],\n",
       "        [67]]), array([[27],\n",
       "        [40],\n",
       "        [61],\n",
       "        ..., \n",
       "        [ 2],\n",
       "        [72],\n",
       "        [57]]), array([[29],\n",
       "        [39],\n",
       "        [54],\n",
       "        ..., \n",
       "        [76],\n",
       "        [ 2],\n",
       "        [62]]), array([[ 1],\n",
       "        [43],\n",
       "        [73],\n",
       "        ..., \n",
       "        [68],\n",
       "        [73],\n",
       "        [56]])]"
      ]
     },
     "execution_count": 59,
     "metadata": {},
     "output_type": "execute_result"
    }
   ],
   "source": [
    "xs3"
   ]
  },
  {
   "cell_type": "markdown",
   "metadata": {},
   "source": [
    "xs3 is in the proper format.. so I have to look at the `oh_xs3` and `oh_xs3_rnn` versions"
   ]
  },
  {
   "cell_type": "code",
   "execution_count": 60,
   "metadata": {},
   "outputs": [
    {
     "data": {
      "text/plain": [
       "array([[ 0.,  0.,  0., ...,  0.,  0.,  0.],\n",
       "       [ 0.,  1.,  0., ...,  0.,  0.,  0.],\n",
       "       [ 0.,  0.,  0., ...,  0.,  0.,  0.],\n",
       "       ..., \n",
       "       [ 0.,  0.,  0., ...,  0.,  0.,  0.],\n",
       "       [ 0.,  0.,  0., ...,  0.,  0.,  0.],\n",
       "       [ 0.,  0.,  0., ...,  0.,  0.,  0.]])"
      ]
     },
     "execution_count": 60,
     "metadata": {},
     "output_type": "execute_result"
    }
   ],
   "source": [
    "oh_xs3[0]"
   ]
  },
  {
   "cell_type": "code",
   "execution_count": null,
   "metadata": {
    "collapsed": true
   },
   "outputs": [],
   "source": []
  },
  {
   "cell_type": "code",
   "execution_count": null,
   "metadata": {
    "collapsed": true
   },
   "outputs": [],
   "source": []
  },
  {
   "cell_type": "code",
   "execution_count": null,
   "metadata": {
    "collapsed": true
   },
   "outputs": [],
   "source": []
  },
  {
   "cell_type": "code",
   "execution_count": null,
   "metadata": {
    "collapsed": true
   },
   "outputs": [],
   "source": []
  },
  {
   "cell_type": "code",
   "execution_count": null,
   "metadata": {
    "collapsed": true
   },
   "outputs": [],
   "source": []
  },
  {
   "cell_type": "code",
   "execution_count": null,
   "metadata": {
    "collapsed": true
   },
   "outputs": [],
   "source": []
  },
  {
   "cell_type": "code",
   "execution_count": null,
   "metadata": {
    "collapsed": true
   },
   "outputs": [],
   "source": []
  },
  {
   "cell_type": "code",
   "execution_count": null,
   "metadata": {
    "collapsed": true
   },
   "outputs": [],
   "source": []
  },
  {
   "cell_type": "code",
   "execution_count": null,
   "metadata": {
    "collapsed": true
   },
   "outputs": [],
   "source": []
  },
  {
   "cell_type": "code",
   "execution_count": null,
   "metadata": {
    "collapsed": true
   },
   "outputs": [],
   "source": [
    "\n",
    "\n",
    "\n",
    "\n",
    "\n",
    "\n",
    "\n",
    "\n",
    "\n",
    "\n",
    "\n",
    "\n",
    "\n",
    "\n",
    "\n",
    "\n",
    "\n",
    "\n",
    "\n",
    "\n",
    "\n",
    "\n",
    "\n",
    "\n",
    "\n",
    "\n",
    "\n",
    "\n",
    "\n",
    "\n",
    "\n",
    "\n",
    "\n",
    "\n",
    "\n",
    "\n",
    "\n",
    "\n",
    "\n"
   ]
  }
 ],
 "metadata": {
  "kernelspec": {
   "display_name": "Python 2",
   "language": "python",
   "name": "python2"
  },
  "language_info": {
   "codemirror_mode": {
    "name": "ipython",
    "version": 2
   },
   "file_extension": ".py",
   "mimetype": "text/x-python",
   "name": "python",
   "nbconvert_exporter": "python",
   "pygments_lexer": "ipython2",
   "version": "2.7.13"
  }
 },
 "nbformat": 4,
 "nbformat_minor": 2
}
