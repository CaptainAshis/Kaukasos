{
 "cells": [
  {
   "cell_type": "markdown",
   "metadata": {},
   "source": [
    "    Wayne Nixalo  -  20 May 2017\n",
    "FAI1 - Practical Deep Learning I - Week 3 HW: Kaggle StateFarm Distracted Driver Competition"
   ]
  },
  {
   "cell_type": "markdown",
   "metadata": {
    "collapsed": true
   },
   "source": [
    "#### Imports"
   ]
  },
  {
   "cell_type": "code",
   "execution_count": null,
   "metadata": {
    "collapsed": true
   },
   "outputs": [],
   "source": [
    "import os, sys\n",
    "import numpy as np\n",
    "from glob import glob"
   ]
  },
  {
   "cell_type": "code",
   "execution_count": null,
   "metadata": {
    "collapsed": true
   },
   "outputs": [],
   "source": [
    "# will need this to access any libraries in superdirectories\n",
    "sys.path.insert(1, os.path(os.getcwd(), '../utils'))\n",
    "from vgg16 import Vgg16"
   ]
  },
  {
   "cell_type": "markdown",
   "metadata": {},
   "source": [
    "#### 1. Run this the First Time Only\n",
    "\n",
    "Download the Data and get it into the right directories. Fortunately SF already organized the data, so it's just a matter of assigning path variables. NOTE: kaggle-cli needs to be set up beforhand. Also path vars must be assigned each time this notebook is run."
   ]
  },
  {
   "cell_type": "code",
   "execution_count": null,
   "metadata": {
    "collapsed": true
   },
   "outputs": [],
   "source": [
    "HOME_DIR = os.getcwd()\n",
    "DATA_PATH = HOME_DIR + '/data'\n",
    "TRAIN_PATH = DATA_PATH + '/train'\n",
    "VAL_PATH = DATA_PATH + '/valid'\n",
    "TEST_PATH = DATA_PATH + '/test'"
   ]
  },
  {
   "cell_type": "code",
   "execution_count": null,
   "metadata": {
    "collapsed": true
   },
   "outputs": [],
   "source": [
    "# create the validation directories\n",
    "os.mkdir(VAL_PATH)\n",
    "for i in xrange(10):\n",
    "    os.mkdir(VAL_PATH + '/c' + str(i))\n",
    "\n",
    "# # another way to do this:\n",
    "# %mkdir $VAL_PATH\n",
    "# for i in xrange(10):\n",
    "#     %mkdir $VAL_PATH/c\"$i\""
   ]
  },
  {
   "cell_type": "markdown",
   "metadata": {},
   "source": [
    "#### 2. Run this if you don't have an Accurate Validation Set\n",
    "\n",
    "Grab a random permutation from the training data for validation. Do this until validation accuracy matches test accuracy. Also see: http://stackoverflow.com/questions/2632205/how-to-count-the-number-of-files-in-a-directory-using-python"
   ]
  },
  {
   "cell_type": "code",
   "execution_count": null,
   "metadata": {
    "collapsed": true
   },
   "outputs": [],
   "source": [
    "%cd $DATA_PATH\n",
    "\n",
    "VAL_PORTION = 0.2\n",
    "for i in xrange(10):\n",
    "    %cd c\"$i\"\n",
    "    g = glob('*.jpg')\n",
    "    shuff = np.random.permutation(g)\n",
    "    for n in xrange(number * VAL_PORTION):\n",
    "        os.rename(shuff[n], VAL_PATH + shuff[n])\n",
    "    % cd .."
   ]
  }
 ],
 "metadata": {
  "kernelspec": {
   "display_name": "Python 2",
   "language": "python",
   "name": "python2"
  },
  "language_info": {
   "codemirror_mode": {
    "name": "ipython",
    "version": 2
   },
   "file_extension": ".py",
   "mimetype": "text/x-python",
   "name": "python",
   "nbconvert_exporter": "python",
   "pygments_lexer": "ipython2",
   "version": "2.7.13"
  }
 },
 "nbformat": 4,
 "nbformat_minor": 2
}
