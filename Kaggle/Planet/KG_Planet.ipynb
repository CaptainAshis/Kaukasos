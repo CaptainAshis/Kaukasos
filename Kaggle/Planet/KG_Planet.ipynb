{
 "cells": [
  {
   "cell_type": "markdown",
   "metadata": {},
   "source": [
    "20 July 2017\n",
    "Wayne H Nixalo\n",
    "Kaggle Planet: Understanding the Amazon from Space\n",
    "-- quick test 'monkey' model --"
   ]
  },
  {
   "cell_type": "code",
   "execution_count": null,
   "metadata": {
    "collapsed": true
   },
   "outputs": [],
   "source": [
    "import sys, os\n",
    "sys.path.insert(1, os.path.join('../../FAI/utils/'))\n",
    "from utils import *\n",
    "import pandas as pd"
   ]
  },
  {
   "cell_type": "code",
   "execution_count": null,
   "metadata": {
    "collapsed": true
   },
   "outputs": [],
   "source": [
    "batch_size = 12\n",
    "trn_batches = get_batches(path + 'train-jpg', batch_size=batch_size)\n",
    "tst_batches = get_batches(path + 'test-jpg', batch_size=batch_size)"
   ]
  },
  {
   "cell_type": "code",
   "execution_count": null,
   "metadata": {
    "collapsed": true
   },
   "outputs": [],
   "source": [
    "data_path = os.path.abspath(\"./data/\")"
   ]
  },
  {
   "cell_type": "code",
   "execution_count": null,
   "metadata": {
    "collapsed": true
   },
   "outputs": [],
   "source": [
    "df_train_data = pd.read_csv(data_path + 'train_v2.csv')\n",
    "df_test_data = pd.read_csv(data_path + 'sample_submission_v2.csv')\n",
    "\n",
    "flatten = lambda L: [item for sublist in L for item in sublist]\n",
    "labels = list(set(flatten([L.split(' ') for L in df_train_data['tags'].values])))\n",
    "\n",
    "label_map = {L: i for i, L in enumerate(labels)}\n",
    "inv_label_map = {i: L for L, i in label_map.items()}"
   ]
  },
  {
   "cell_type": "code",
   "execution_count": null,
   "metadata": {
    "collapsed": true
   },
   "outputs": [],
   "source": [
    "def Dense_Monkey_Model():\n",
    "    return Sequential([\n",
    "                BatchNormalization(input_shape=(4, 224, 224)),\n",
    "                Dense(4, activation='relu'),\n",
    "                BatchNormalization(),\n",
    "                Dense(1000, activation='relu'),\n",
    "                BatchNormalization(),\n",
    "                Dense(1200, activation='relu'),\n",
    "                BatchNormalization(),\n",
    "                Dense(17, activaiton='softmax')\n",
    "            ])"
   ]
  },
  {
   "cell_type": "code",
   "execution_count": null,
   "metadata": {
    "collapsed": true
   },
   "outputs": [],
   "source": [
    "DMM = Dense_Monkey_Model()\n",
    "DMM.compile(Adam(), loss='categorical_crossentropy', metrics=['accuracy'])\n",
    "DMM.fit_generator([trn_batches, df_train_data], trn_batches.nb_sample, nb_epoch=1)"
   ]
  }
 ],
 "metadata": {
  "kernelspec": {
   "display_name": "Python 2",
   "language": "python",
   "name": "python2"
  },
  "language_info": {
   "codemirror_mode": {
    "name": "ipython",
    "version": 2
   },
   "file_extension": ".py",
   "mimetype": "text/x-python",
   "name": "python",
   "nbconvert_exporter": "python",
   "pygments_lexer": "ipython2",
   "version": "2.7.13"
  }
 },
 "nbformat": 4,
 "nbformat_minor": 2
}
