{
 "cells": [
  {
   "cell_type": "code",
   "execution_count": 42,
   "metadata": {},
   "outputs": [
    {
     "name": "stdout",
     "output_type": "stream",
     "text": [
      "\u001b[34mc0\u001b[m\u001b[m/ \u001b[34mc1\u001b[m\u001b[m/ \u001b[34mc2\u001b[m\u001b[m/ \u001b[34mc3\u001b[m\u001b[m/ \u001b[34mc4\u001b[m\u001b[m/ \u001b[34mc5\u001b[m\u001b[m/ \u001b[34mc6\u001b[m\u001b[m/ \u001b[34mc7\u001b[m\u001b[m/ \u001b[34mc8\u001b[m\u001b[m/ \u001b[34mc9\u001b[m\u001b[m/\r\n"
     ]
    }
   ],
   "source": [
    "%ls"
   ]
  },
  {
   "cell_type": "code",
   "execution_count": 19,
   "metadata": {
    "collapsed": true
   },
   "outputs": [],
   "source": [
    "tpah = 'temp'"
   ]
  },
  {
   "cell_type": "code",
   "execution_count": 29,
   "metadata": {},
   "outputs": [
    {
     "name": "stdout",
     "output_type": "stream",
     "text": [
      "mkdir: temp: File exists\r\n"
     ]
    }
   ],
   "source": [
    "%mkdir $tpah\n",
    "for i in xrange(10):\n",
    "    %mkdir $tpah/c\"$i\""
   ]
  },
  {
   "cell_type": "code",
   "execution_count": 27,
   "metadata": {
    "collapsed": true
   },
   "outputs": [],
   "source": [
    "mkdir $tpah"
   ]
  },
  {
   "cell_type": "code",
   "execution_count": 30,
   "metadata": {},
   "outputs": [
    {
     "name": "stdout",
     "output_type": "stream",
     "text": [
      "\u001b[34mc0\u001b[m\u001b[m/ \u001b[34mc1\u001b[m\u001b[m/ \u001b[34mc2\u001b[m\u001b[m/ \u001b[34mc3\u001b[m\u001b[m/ \u001b[34mc4\u001b[m\u001b[m/ \u001b[34mc5\u001b[m\u001b[m/ \u001b[34mc6\u001b[m\u001b[m/ \u001b[34mc7\u001b[m\u001b[m/ \u001b[34mc8\u001b[m\u001b[m/ \u001b[34mc9\u001b[m\u001b[m/\r\n"
     ]
    }
   ],
   "source": [
    "%ls temp/"
   ]
  },
  {
   "cell_type": "code",
   "execution_count": 33,
   "metadata": {},
   "outputs": [],
   "source": [
    "from os import getcwd\n",
    "HOMEDIR = getcwd()"
   ]
  },
  {
   "cell_type": "code",
   "execution_count": 36,
   "metadata": {},
   "outputs": [
    {
     "name": "stdout",
     "output_type": "stream",
     "text": [
      "/Users/WayNoxchi/Deshar/Kaukasos/FAI/lesson3\n"
     ]
    },
    {
     "data": {
      "text/plain": [
       "u'/Users/WayNoxchi/Deshar/Kaukasos/FAI/lesson3'"
      ]
     },
     "execution_count": 36,
     "metadata": {},
     "output_type": "execute_result"
    }
   ],
   "source": [
    "print(HOMEDIR)\n",
    "%pwd"
   ]
  },
  {
   "cell_type": "code",
   "execution_count": 37,
   "metadata": {},
   "outputs": [
    {
     "name": "stdout",
     "output_type": "stream",
     "text": [
      "/Users/WayNoxchi/Deshar/Kaukasos/FAI/lesson3/temp\n"
     ]
    }
   ],
   "source": [
    "%cd temp"
   ]
  },
  {
   "cell_type": "code",
   "execution_count": 38,
   "metadata": {},
   "outputs": [
    {
     "data": {
      "text/plain": [
       "u'/Users/WayNoxchi/Deshar/Kaukasos/FAI/lesson3/temp'"
      ]
     },
     "execution_count": 38,
     "metadata": {},
     "output_type": "execute_result"
    }
   ],
   "source": [
    "%pwd"
   ]
  },
  {
   "cell_type": "code",
   "execution_count": 43,
   "metadata": {},
   "outputs": [
    {
     "name": "stdout",
     "output_type": "stream",
     "text": [
      "/Users/WayNoxchi/Deshar/Kaukasos/FAI/lesson3\n"
     ]
    }
   ],
   "source": [
    "%cd .."
   ]
  },
  {
   "cell_type": "code",
   "execution_count": 44,
   "metadata": {},
   "outputs": [
    {
     "name": "stdout",
     "output_type": "stream",
     "text": [
      "      10\r\n"
     ]
    }
   ],
   "source": [
    "%ls temp | wc -l"
   ]
  },
  {
   "cell_type": "code",
   "execution_count": 45,
   "metadata": {},
   "outputs": [
    {
     "name": "stdout",
     "output_type": "stream",
     "text": [
      "      10\r\n"
     ]
    }
   ],
   "source": [
    "number = %ls temp | wc -l"
   ]
  },
  {
   "cell_type": "code",
   "execution_count": 47,
   "metadata": {
    "collapsed": true
   },
   "outputs": [],
   "source": [
    "number"
   ]
  },
  {
   "cell_type": "code",
   "execution_count": 58,
   "metadata": {},
   "outputs": [
    {
     "name": "stdout",
     "output_type": "stream",
     "text": [
      "       6\r\n"
     ]
    }
   ],
   "source": [
    "ls -l | grep -v ^d | wc -l"
   ]
  },
  {
   "cell_type": "code",
   "execution_count": 63,
   "metadata": {},
   "outputs": [],
   "source": [
    "from glob import glob\n",
    "g = glob('*.txt')"
   ]
  },
  {
   "cell_type": "code",
   "execution_count": 67,
   "metadata": {},
   "outputs": [
    {
     "name": "stdout",
     "output_type": "stream",
     "text": [
      "2\n"
     ]
    }
   ],
   "source": [
    "print(len(g))"
   ]
  },
  {
   "cell_type": "code",
   "execution_count": null,
   "metadata": {
    "collapsed": true
   },
   "outputs": [],
   "source": []
  }
 ],
 "metadata": {
  "kernelspec": {
   "display_name": "Python 2",
   "language": "python",
   "name": "python2"
  },
  "language_info": {
   "codemirror_mode": {
    "name": "ipython",
    "version": 2
   },
   "file_extension": ".py",
   "mimetype": "text/x-python",
   "name": "python",
   "nbconvert_exporter": "python",
   "pygments_lexer": "ipython2",
   "version": "2.7.13"
  }
 },
 "nbformat": 4,
 "nbformat_minor": 2
}
