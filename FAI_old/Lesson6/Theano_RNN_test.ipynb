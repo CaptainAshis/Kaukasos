{
 "cells": [
  {
   "cell_type": "markdown",
   "metadata": {},
   "source": [
    "Wayne Nixalo - 22 Jun 2017\n",
    "RNN practice in Theano"
   ]
  },
  {
   "cell_type": "code",
   "execution_count": 1,
   "metadata": {},
   "outputs": [
    {
     "name": "stderr",
     "output_type": "stream",
     "text": [
      "Using Theano backend.\n"
     ]
    }
   ],
   "source": [
    "# library imports\n",
    "import os, sys\n",
    "sys.path.insert(1, os.path.join('../utils'))\n",
    "# import utils; reload(utils)\n",
    "from utils import *"
   ]
  },
  {
   "cell_type": "code",
   "execution_count": 2,
   "metadata": {},
   "outputs": [
    {
     "name": "stdout",
     "output_type": "stream",
     "text": [
      "('corpus length:', 600901)\n",
      "('total chars:', 86)\n"
     ]
    }
   ],
   "source": [
    "# Loading data - as in Lesson 6 JNB\n",
    "path = get_file('nietzsche.txt', origin=\"https://s3.amazonaws.com/text-datasets/nietzsche.txt\")\n",
    "text = open(path).read()\n",
    "print('corpus length:', len(text))\n",
    "\n",
    "chars = sorted(list(set(text)))\n",
    "vocab_size = len(chars) + 1 # +1 for adding Null char\n",
    "chars.insert(0, \"\\0\")\n",
    "print('total chars:', vocab_size)"
   ]
  },
  {
   "cell_type": "code",
   "execution_count": 23,
   "metadata": {},
   "outputs": [
    {
     "ename": "SyntaxError",
     "evalue": "invalid syntax (<ipython-input-23-3202a8331fcd>, line 22)",
     "output_type": "error",
     "traceback": [
      "\u001b[0;36m  File \u001b[0;32m\"<ipython-input-23-3202a8331fcd>\"\u001b[0;36m, line \u001b[0;32m22\u001b[0m\n\u001b[0;31m    ys = [np.stack(c[:-2]) for c in c_out_dat]\u001b[0m\n\u001b[0m     ^\u001b[0m\n\u001b[0;31mSyntaxError\u001b[0m\u001b[0;31m:\u001b[0m invalid syntax\n"
     ]
    }
   ],
   "source": [
    "# Data format-stuff\n",
    "\n",
    "# char <--> index mapping:\n",
    "char_indices = dict((c, i) for i, c in enumerate(chars))\n",
    "indices_char = dict((i, c) for i, c in enumerate(chars))\n",
    "\n",
    "# `idx` will be the data used: converts all chars to index based on mapping\n",
    "idx = [char_indices[c] for c in text]\n",
    "\n",
    "# choose size for hidden state\n",
    "n_hidden = 256\n",
    "# choose no. embeedding factors // not needed \n",
    "# n_fac = 42\n",
    "# char-seq length\n",
    "cs = 8\n",
    "\n",
    "# formatting char in/out data\n",
    "c_in_dat  = [[idx[i+n] for i in xrange(0, len(idx)-cs-1, cs)] for n in xrange(cs)]\n",
    "c_out_dat = [[idx[i+n] for i in xrange(1, len(idx)-cs, cs)] for n in xrange(cs)]\n",
    "\n",
    "# the -2 is to omit the added Null char\n",
    "ys = [np.stack(c[:-2]) for c in c_out_dat]\n",
    "xs = [np.stack(c[:-2]) for c in c_in_dat]\n",
    "\n",
    "# Need to One-Hot Encode input/output:\n",
    "oh_ys = [to_categorical(o, vocab_size) for o in ys]\n",
    "oh_y_rnn = np.stack(oh_ys, axis=1)\n",
    "oh_xs = [to_categorical(o, vocab_size) for o in xs]\n",
    "oh_x_rnn = np.stack(oh_xs, axis=1)"
   ]
  },
  {
   "cell_type": "code",
   "execution_count": 4,
   "metadata": {
    "collapsed": true
   },
   "outputs": [],
   "source": [
    "# tell Theano the in/out data size\n",
    "n_input = vocab_size\n",
    "n_output = vocab_size"
   ]
  },
  {
   "cell_type": "code",
   "execution_count": 5,
   "metadata": {
    "collapsed": true
   },
   "outputs": [],
   "source": [
    "# Define weight & bias initializations for Theano -- shared vars\n",
    "def init_wgts(rows, cols):\n",
    "    scale = math.sqrt(2/rows) # Glorot initilztn\n",
    "    return shared(normal(scale=scale, size=(rows,cols)).astype(np.float32))\n",
    "def  init_bias(rows):\n",
    "    return shared(np.zeros(rows, dtype=np.float32))\n",
    "\n",
    "# returning weights & biases wrapped in a tuple; hidden weights intlzd as Id_matx\n",
    "def wgts_and_bias(n_in, n_out):\n",
    "    return init_wgts(n_in, n_out), init_bias(n_out)\n",
    "def id_and_bias(n):\n",
    "    return shared(np.eye(n, dtype=np.float32)), init_bias(n)"
   ]
  },
  {
   "cell_type": "code",
   "execution_count": 6,
   "metadata": {},
   "outputs": [],
   "source": [
    "# beginning constructn of computatn graph w/ Theano vars:\n",
    "t_inp = T.matrix('inp')\n",
    "t_outp = T.matrix('outp')\n",
    "t_h0 = T.vector('h0')\n",
    "lr = T.scalar('lr')\n",
    "\n",
    "all_args = [t_h0, t_inp, t_outp, lr]\n",
    "\n",
    "# Creating initial weight matrices:\n",
    "W_h = id_and_bias(n_hidden)\n",
    "W_x = wgts_and_bias(n_input, n_hidden)\n",
    "W_y = wgts_and_bias(n_hidden, n_output)\n",
    "w_all = list(chain.from_iterable([W_h, W_x, W_y]))"
   ]
  },
  {
   "cell_type": "code",
   "execution_count": 7,
   "metadata": {
    "collapsed": true
   },
   "outputs": [],
   "source": [
    "# Defining for Theano the operation that goes on at each step:\n",
    "def step(x, h, W_h, b_h, W_x, b_x, W_y, b_y):\n",
    "    \"\"\"This fn performs a single forward pass for one char\"\"\"\n",
    "    # Calculate hidden activations\n",
    "    h = nnet.relu(T.dot(x, W_x) + b_x + T.dot(h, W_h) + b_h)\n",
    "    # Calculate output activations\n",
    "    y = nnet.softmax(T.dot(h, W_y) + b_y)\n",
    "    # Return both. NOTE: the `Flatten()` is a workaround for a Theano bug\n",
    "    return h, T.flatten(y, 1)"
   ]
  },
  {
   "cell_type": "code",
   "execution_count": 8,
   "metadata": {},
   "outputs": [],
   "source": [
    "# setting up the scan operation -- the vars\n",
    "[v_h, v_y], _ = theano.scan(step, sequences=t_inp,\n",
    "                            outputs_info=[t_h0, None], non_sequences=w_all)\n",
    "\n",
    "# defining calculation of loss function and gradients (auto in Theano)\n",
    "error = nnet.categorical_crossentropy(v_y, t_outp).sum()\n",
    "g_all = T.grad(error, w_all)"
   ]
  },
  {
   "cell_type": "code",
   "execution_count": 9,
   "metadata": {
    "collapsed": true
   },
   "outputs": [],
   "source": [
    "# Defining for Theano how to perform SGD (online). Dictionary of updates\n",
    "# which completes after every forward-pass -- applying SGD update rule \n",
    "# to every weight.\n",
    "def upd_dict(wgts, grads, lr):\n",
    "    return OrderedDict({w: w - g * lr for (w, g) in zip(wgts, grads)})\n",
    "\n",
    "upd = upd_dict(w_all, g_all, lr)"
   ]
  },
  {
   "cell_type": "code",
   "execution_count": 10,
   "metadata": {},
   "outputs": [
    {
     "name": "stderr",
     "output_type": "stream",
     "text": [
      "/Users/WayNoxchi/Miniconda3/Theano/theano/tensor/basic.py:5130: UserWarning: flatten outdim parameter is deprecated, use ndim instead.\n",
      "  \"flatten outdim parameter is deprecated, use ndim instead.\")\n"
     ]
    }
   ],
   "source": [
    "# ready to compile the function:\n",
    "fn = theano.function(all_args, error, updates = upd, allow_input_downcast = True)"
   ]
  },
  {
   "cell_type": "code",
   "execution_count": 11,
   "metadata": {},
   "outputs": [
    {
     "data": {
      "text/plain": [
       "((75110, 8, 86), (75110, 8, 86))"
      ]
     },
     "execution_count": 11,
     "metadata": {},
     "output_type": "execute_result"
    }
   ],
   "source": [
    "# the data\n",
    "X = oh_x_rnn\n",
    "Y = oh_y_rnn\n",
    "\n",
    "# just taking a look\n",
    "X.shape, Y.shape"
   ]
  },
  {
   "cell_type": "code",
   "execution_count": 12,
   "metadata": {
    "scrolled": false
   },
   "outputs": [
    {
     "name": "stdout",
     "output_type": "stream",
     "text": [
      "Error:34.151\n",
      "Error:31.617\n",
      "Error:30.001\n",
      "Error:28.831\n",
      "Error:28.046\n",
      "Error:27.810\n",
      "Error:27.215\n",
      "Error:26.847\n",
      "Error:26.648\n",
      "Error:26.734\n",
      "Error:26.112\n",
      "Error:26.157\n",
      "Error:26.977\n",
      "Error:26.001\n",
      "Error:25.816\n",
      "Error:26.649\n",
      "Error:26.489\n",
      "Error:26.317\n",
      "Error:25.737\n",
      "Error:25.587\n",
      "Error:25.539\n",
      "Error:25.673\n",
      "Error:25.795\n",
      "Error:25.492\n",
      "Error:25.591\n",
      "Error:25.618\n",
      "Error:25.748\n",
      "Error:25.433\n",
      "Error:25.508\n",
      "Error:25.703\n",
      "Error:25.769\n",
      "Error:25.561\n",
      "Error:25.841\n",
      "Error:25.388\n",
      "Error:25.573\n",
      "Error:25.839\n",
      "Error:25.341\n",
      "Error:25.634\n",
      "Error:25.537\n",
      "Error:25.844\n",
      "Error:25.225\n",
      "Error:25.214\n",
      "Error:25.435\n",
      "Error:25.592\n",
      "Error:25.829\n",
      "Error:25.917\n",
      "Error:25.384\n",
      "Error:24.487\n",
      "Error:24.924\n",
      "Error:25.032\n",
      "Error:24.693\n",
      "Error:24.782\n",
      "Error:24.597\n",
      "Error:24.588\n",
      "Error:24.914\n",
      "Error:24.778\n",
      "Error:24.802\n",
      "Error:24.746\n",
      "Error:24.666\n",
      "Error:24.876\n",
      "Error:24.601\n",
      "Error:24.771\n",
      "Error:24.813\n",
      "Error:24.921\n",
      "Error:24.657\n",
      "Error:24.535\n",
      "Error:24.522\n",
      "Error:24.580\n",
      "Error:24.331\n",
      "Error:24.423\n",
      "Error:24.980\n",
      "Error:24.550\n",
      "Error:24.351\n",
      "Error:24.203\n",
      "Error:24.142\n",
      "Error:25.719\n",
      "Error:25.070\n",
      "Error:25.362\n",
      "Error:25.297\n",
      "Error:25.185\n",
      "Error:25.359\n",
      "Error:25.087\n",
      "Error:25.033\n",
      "Error:25.091\n",
      "Error:25.454\n",
      "Error:24.756\n",
      "Error:24.978\n",
      "Error:26.431\n",
      "Error:24.986\n",
      "Error:24.864\n",
      "Error:26.038\n",
      "Error:25.944\n",
      "Error:25.710\n",
      "Error:25.023\n",
      "Error:24.923\n",
      "Error:24.859\n",
      "Error:25.079\n",
      "Error:25.339\n",
      "Error:24.944\n",
      "Error:25.117\n",
      "Error:25.135\n",
      "Error:25.309\n",
      "Error:24.989\n",
      "Error:25.108\n",
      "Error:25.293\n",
      "Error:25.431\n",
      "Error:25.174\n",
      "Error:25.543\n",
      "Error:25.045\n",
      "Error:25.249\n",
      "Error:25.586\n",
      "Error:25.057\n",
      "Error:25.376\n",
      "Error:25.273\n",
      "Error:25.585\n",
      "Error:24.944\n",
      "Error:24.950\n",
      "Error:25.197\n",
      "Error:25.381\n",
      "Error:25.641\n",
      "Error:25.677\n",
      "Error:25.146\n",
      "Error:24.071\n",
      "Error:24.634\n",
      "Error:24.867\n",
      "Error:24.428\n",
      "Error:24.571\n",
      "Error:24.357\n",
      "Error:24.354\n",
      "Error:24.775\n",
      "Error:24.590\n",
      "Error:24.631\n",
      "Error:24.550\n",
      "Error:24.525\n",
      "Error:24.687\n",
      "Error:24.431\n",
      "Error:24.619\n",
      "Error:24.658\n",
      "Error:24.775\n",
      "Error:24.476\n",
      "Error:24.341\n",
      "Error:24.340\n",
      "Error:24.398\n",
      "Error:24.152\n",
      "Error:24.213\n",
      "Error:24.884\n",
      "Error:24.406\n",
      "Error:24.177\n",
      "Error:24.021\n",
      "Error:23.951\n"
     ]
    }
   ],
   "source": [
    "# Manually defining the Loop -- Theano is for GPU - no built-in serial looping\n",
    "def loop(l_rate=0.01):\n",
    "    err = 0.0; # l_rate = 0.01\n",
    "    for i in xrange(len(X)):\n",
    "        err += fn(np.zeros(n_hidden), X[i], Y[i], l_rate)\n",
    "        # print progress every 1000 loops\n",
    "        if i % 1000 == 999:\n",
    "            print (\"Error:{:.3f}\".format(err/1000))\n",
    "            err = 0.0\n",
    "loop(l_rate=0.001)\n",
    "loop(l_rate=0.01)"
   ]
  },
  {
   "cell_type": "code",
   "execution_count": 13,
   "metadata": {},
   "outputs": [],
   "source": [
    "# output / prediction fn thing?\n",
    "f_y = theano.function([t_h0, t_inp], v_y, allow_input_downcast=True)"
   ]
  },
  {
   "cell_type": "code",
   "execution_count": 14,
   "metadata": {
    "collapsed": true
   },
   "outputs": [],
   "source": [
    "pred = np.argmax(f_y(np.zeros(n_hidden), X[6]), axis=1)"
   ]
  },
  {
   "cell_type": "code",
   "execution_count": 15,
   "metadata": {
    "collapsed": true
   },
   "outputs": [],
   "source": [
    "act = np.argmax(X[6], axis=1)"
   ]
  },
  {
   "cell_type": "code",
   "execution_count": 16,
   "metadata": {},
   "outputs": [
    {
     "data": {
      "text/plain": [
       "['t', 'h', 'e', 'n', '?', ' ', 'I', 's']"
      ]
     },
     "execution_count": 16,
     "metadata": {},
     "output_type": "execute_result"
    }
   ],
   "source": [
    "[indices_char[o] for o in act]"
   ]
  },
  {
   "cell_type": "code",
   "execution_count": 17,
   "metadata": {},
   "outputs": [
    {
     "data": {
      "text/plain": [
       "[' ', ' ', ' ', ' ', ' ', ' ', ' ', ' ']"
      ]
     },
     "execution_count": 17,
     "metadata": {},
     "output_type": "execute_result"
    }
   ],
   "source": [
    "[indices_char[o] for o in pred]"
   ]
  },
  {
   "cell_type": "code",
   "execution_count": 18,
   "metadata": {
    "collapsed": true
   },
   "outputs": [],
   "source": [
    "act2 = np.argmax(X[16], axis=1)\n",
    "pred2 = np.argmax(f_y(np.zeros(n_hidden), X[16]), axis=1)"
   ]
  },
  {
   "cell_type": "code",
   "execution_count": 19,
   "metadata": {},
   "outputs": [
    {
     "data": {
      "text/plain": [
       "['y', ' ', 'h', 'a', 'v', 'e', ' ', 'b']"
      ]
     },
     "execution_count": 19,
     "metadata": {},
     "output_type": "execute_result"
    }
   ],
   "source": [
    "[indices_char[o] for o in act2]"
   ]
  },
  {
   "cell_type": "code",
   "execution_count": 20,
   "metadata": {},
   "outputs": [
    {
     "data": {
      "text/plain": [
       "[' ', ' ', ' ', ' ', ' ', ' ', ' ', ' ']"
      ]
     },
     "execution_count": 20,
     "metadata": {},
     "output_type": "execute_result"
    }
   ],
   "source": [
    "[indices_char[o] for o in pred2]"
   ]
  },
  {
   "cell_type": "code",
   "execution_count": 21,
   "metadata": {},
   "outputs": [
    {
     "data": {
      "text/plain": [
       "(75110, 8, 86)"
      ]
     },
     "execution_count": 21,
     "metadata": {},
     "output_type": "execute_result"
    }
   ],
   "source": [
    "oh_x_rnn.shape"
   ]
  },
  {
   "cell_type": "code",
   "execution_count": 22,
   "metadata": {},
   "outputs": [
    {
     "data": {
      "text/plain": [
       "[array([40,  1, 33,  2, 72, 67, 73,  2]),\n",
       " array([42,  1, 38, 44,  2,  9, 61, 73]),\n",
       " array([29, 43, 31, 71, 54,  9, 58, 61]),\n",
       " array([30, 45,  2, 74,  2, 76, 67, 58]),\n",
       " array([25, 40, 73, 73, 76, 61, 24, 71]),\n",
       " array([27, 40, 61, 61, 68, 54,  2, 58]),\n",
       " array([29, 39, 54,  2, 66, 73, 33,  2]),\n",
       " array([ 1, 43, 73, 62, 54,  2, 72, 67])]"
      ]
     },
     "execution_count": 22,
     "metadata": {},
     "output_type": "execute_result"
    }
   ],
   "source": [
    "[xs[n][:cs] for n in range(cs)]"
   ]
  },
  {
   "cell_type": "code",
   "execution_count": 24,
   "metadata": {
    "collapsed": true
   },
   "outputs": [],
   "source": [
    "# NOTE: I need to rework this."
   ]
  },
  {
   "cell_type": "code",
   "execution_count": null,
   "metadata": {
    "collapsed": true
   },
   "outputs": [],
   "source": []
  }
 ],
 "metadata": {
  "kernelspec": {
   "display_name": "Python 2",
   "language": "python",
   "name": "python2"
  },
  "language_info": {
   "codemirror_mode": {
    "name": "ipython",
    "version": 2
   },
   "file_extension": ".py",
   "mimetype": "text/x-python",
   "name": "python",
   "nbconvert_exporter": "python",
   "pygments_lexer": "ipython2",
   "version": "2.7.13"
  }
 },
 "nbformat": 4,
 "nbformat_minor": 2
}
