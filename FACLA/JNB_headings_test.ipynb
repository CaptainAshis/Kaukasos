{
 "cells": [
  {
   "cell_type": "code",
   "execution_count": 1,
   "metadata": {},
   "outputs": [
    {
     "name": "stderr",
     "output_type": "stream",
     "text": [
      "Using Theano backend.\n"
     ]
    }
   ],
   "source": [
    "import theano\n",
    "import keras"
   ]
  },
  {
   "cell_type": "markdown",
   "metadata": {},
   "source": [
    "# Collapsible Heading"
   ]
  },
  {
   "cell_type": "code",
   "execution_count": 2,
   "metadata": {},
   "outputs": [
    {
     "name": "stdout",
     "output_type": "stream",
     "text": [
      "Help on package keras:\n",
      "\n",
      "NAME\n",
      "    keras\n",
      "\n",
      "PACKAGE CONTENTS\n",
      "    activations\n",
      "    applications (package)\n",
      "    backend (package)\n",
      "    callbacks\n",
      "    constraints\n",
      "    datasets (package)\n",
      "    engine (package)\n",
      "    initializers\n",
      "    layers (package)\n",
      "    legacy (package)\n",
      "    losses\n",
      "    metrics\n",
      "    models\n",
      "    objectives\n",
      "    optimizers\n",
      "    preprocessing (package)\n",
      "    regularizers\n",
      "    utils (package)\n",
      "    wrappers (package)\n",
      "\n",
      "DATA\n",
      "    absolute_import = _Feature((2, 5, 0, 'alpha', 1), (3, 0, 0, 'alpha', 0...\n",
      "\n",
      "VERSION\n",
      "    2.0.4\n",
      "\n",
      "FILE\n",
      "    /Users/WayNoxchi/Miniconda3/lib/python3.6/site-packages/keras/__init__.py\n",
      "\n",
      "\n"
     ]
    }
   ],
   "source": [
    "help(keras.layers.convolutional)"
   ]
  }
 ],
 "metadata": {
  "kernelspec": {
   "display_name": "Python 3",
   "language": "python",
   "name": "python3"
  },
  "language_info": {
   "codemirror_mode": {
    "name": "ipython",
    "version": 3
   },
   "file_extension": ".py",
   "mimetype": "text/x-python",
   "name": "python",
   "nbconvert_exporter": "python",
   "pygments_lexer": "ipython3",
   "version": "3.6.1"
  }
 },
 "nbformat": 4,
 "nbformat_minor": 2
}
