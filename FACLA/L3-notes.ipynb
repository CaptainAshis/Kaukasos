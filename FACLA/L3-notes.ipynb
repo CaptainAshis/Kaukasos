{
 "cells": [
  {
   "cell_type": "markdown",
   "metadata": {},
   "source": [
    "## FCLA/FNLA Fast.ai Numerical/Computational Linear Algebra\n",
    "\n",
    "### Lecture 3: New Perspectives on NMF, Randomized SVD\n",
    "Notes / In-Class Questions\n",
    "\n",
    "WNixalo - 2018/2/8"
   ]
  },
  {
   "cell_type": "markdown",
   "metadata": {},
   "source": [
    "Question on section: [Truncated SVD](http://nbviewer.jupyter.org/github/fastai/numerical-linear-algebra/blob/master/nbs/2.%20Topic%20Modeling%20with%20NMF%20and%20SVD.ipynb#More-Details)\n",
    "\n",
    "Given A: `m` x `n` and Q: `m` x `r`; is Q the identity matrix?"
   ]
  },
  {
   "cell_type": "markdown",
   "metadata": {},
   "source": [
    "A≈QQTA"
   ]
  },
  {
   "cell_type": "code",
   "execution_count": 1,
   "metadata": {},
   "outputs": [],
   "source": [
    "import torch\n",
    "import numpy as np"
   ]
  },
  {
   "cell_type": "code",
   "execution_count": 27,
   "metadata": {},
   "outputs": [
    {
     "name": "stdout",
     "output_type": "stream",
     "text": [
      "[[1. 0. 0.]\n",
      " [0. 1. 0.]\n",
      " [0. 0. 1.]]\n",
      "[[1. 0. 0.]\n",
      " [0. 1. 0.]\n",
      " [0. 0. 1.]]\n",
      "[[1. 0. 0.]\n",
      " [0. 1. 0.]\n",
      " [0. 0. 1.]]\n"
     ]
    }
   ],
   "source": [
    "Q = np.eye(3)\n",
    "print(Q)\n",
    "print(Q.T)\n",
    "print(Q @ Q.T)"
   ]
  },
  {
   "cell_type": "code",
   "execution_count": 26,
   "metadata": {},
   "outputs": [
    {
     "data": {
      "text/plain": [
       "\n",
       " 1  0  0\n",
       " 0  1  0\n",
       " 0  0  1\n",
       "[torch.FloatTensor of size 3x3]"
      ]
     },
     "execution_count": 26,
     "metadata": {},
     "output_type": "execute_result"
    }
   ],
   "source": [
    "# construct I matrix\n",
    "Q = torch.eye(3)\n",
    "\n",
    "# torch matrix multip\n",
    "# torch.mm(Q, Q.transpose)\n",
    "Q @ torch.t(Q)"
   ]
  },
  {
   "cell_type": "markdown",
   "metadata": {},
   "source": [
    "So if A is *approx equal* to Q•Q.T•A .. but *not* equal.. then Q is **not** the identity, but is very close to it."
   ]
  },
  {
   "cell_type": "markdown",
   "metadata": {
    "collapsed": true
   },
   "source": [
    "Oh, right. Q: m x r, **not** m x m... \n",
    "\n",
    "If both the columns and rows of Q had been orthonormal, then it would have been the Identity, but only the columns (r) are orthonormal.\n",
    "\n",
    "Q is a tall, skinny matrix.\n"
   ]
  },
  {
   "cell_type": "markdown",
   "metadata": {},
   "source": [
    "---\n",
    "\n",
    "AW gives range(A). AW has far more rows than columns ==> in practice these columns are approximately orthonormal (v.unlikely to get lin-dep cols when choosing random values)."
   ]
  },
  {
   "cell_type": "markdown",
   "metadata": {},
   "source": [
    "QR decomposition is foundational to Numerical Linear Algebra.\n",
    "\n",
    "Q consists of orthonormal columns, R is upper-triangular."
   ]
  },
  {
   "cell_type": "markdown",
   "metadata": {},
   "source": [
    "**Calculating Truncated-SVD:**\n",
    "\n",
    "1\\. Compute approximation to range(A). We want Q with r orthonormal columns such that $$A\\approx QQ^TA$$\n",
    "\n",
    "2\\. Construct $B = Q^T A$, which is small ($r\\times n$)\n",
    "\n",
    "3\\. Compute the SVD of $B$ by standard methods (fast since $B$ is smaller than $A$): $B = S\\, Σ V^T$\n",
    "\n",
    "4\\. Since: $$A \\approx QQ^TA = Q(S \\, ΣV^T)$$ if we set $U = QS$, then we have a low rank approximation $A \\approx UΣV^T$."
   ]
  },
  {
   "cell_type": "markdown",
   "metadata": {},
   "source": [
    "**How to choose $r$?**\n",
    "\n",
    "If we wanted to get 5 cols from a matrix of 100 cols, (5 topics). As a rule of thumb, let's go for 15 instead. You don't want to explicitly pull exactly the amount you want due to the randomized component being present, so you add some buffer.\n",
    "\n",
    "Since our projection is approximate, we make it a little bigger than we need."
   ]
  },
  {
   "cell_type": "markdown",
   "metadata": {},
   "source": [
    "**Implementing Randomized SVD:**\n",
    "\n",
    "First we want a randomized range finder."
   ]
  },
  {
   "cell_type": "code",
   "execution_count": 2,
   "metadata": {},
   "outputs": [],
   "source": [
    "import numpy as np\n",
    "from sklearn.datasets import fetch_20newsgroups\n",
    "from sklearn import decomposition\n",
    "from scipy import linalg\n",
    "import matplotlib.pyplot as plt\n",
    "\n",
    "%matplotlib inline\n",
    "np.set_printoptions(suppress=True)\n",
    "\n",
    "categories = ['alt.atheism', 'talk.religion.misc', 'comp.graphics', 'sci.space']\n",
    "remove = ('headers', 'footers', 'quotes')\n",
    "newsgroups_train = fetch_20newsgroups(subset='train', categories=categories, remove=remove)\n",
    "# newsgroups_test = fetch_20newsgroups(subset='test', categories=categories, remove=remove)\n",
    "\n",
    "from sklearn.feature_extraction.text import CountVectorizer, TfidfVectorizer\n",
    "\n",
    "vectorizer = CountVectorizer(stop_words='english')\n",
    "vectors = vectorizer.fit_transform(newsgroups_train.data).todense() # (documents, vocab)\n",
    "\n",
    "vocab = np.array(vectorizer.get_feature_names())"
   ]
  },
  {
   "cell_type": "code",
   "execution_count": 3,
   "metadata": {},
   "outputs": [],
   "source": [
    "num_top_words=8\n",
    "\n",
    "def show_topics(a):\n",
    "    top_words = lambda t: [vocab[i] for i in np.argsort(t)[:-num_top_words-1:-1]]\n",
    "    topic_words = ([top_words(t) for t in a])\n",
    "    return [' '.join(t) for t in topic_words]"
   ]
  },
  {
   "cell_type": "code",
   "execution_count": 4,
   "metadata": {},
   "outputs": [],
   "source": [
    "# computes an orthonormal matrix whose range approximates the range of A\n",
    "# power_iteration_normalizer can be safe_sparse_dot (fast but unstable), LU (imbetween), or QR (slow but most accurate)\n",
    "def randomized_range_finder(A, size, n_iter=5):\n",
    "    # randomly init our Mat to our size; size: num_cols\n",
    "    Q = np.random.normal(size=(A.shape[1], size))\n",
    "    \n",
    "    # LU decomp (lower triang * upper triang mat)\n",
    "    # improves accuracy & normalizes\n",
    "    for i in range(n_iter):\n",
    "        Q, _ = linalg.lu(A @ Q, permute_l=True)\n",
    "        Q, _ = linalg.lu(A.T @ Q, permute_l=True)\n",
    "    \n",
    "    # QR decomp on A & Q\n",
    "    Q, _ = linalg.qr(A @ Q, mode='economic')\n",
    "    return Q"
   ]
  },
  {
   "cell_type": "markdown",
   "metadata": {},
   "source": [
    "Randomized SVD method:"
   ]
  },
  {
   "cell_type": "code",
   "execution_count": 5,
   "metadata": {},
   "outputs": [],
   "source": [
    "def randomized_svd(M, n_components, n_oversamples=10, n_iter=4):\n",
    "    \n",
    "    # number of random columns we're going to create is the number of \n",
    "    # columns we want + number of oversamples (extra buffer)\n",
    "    n_random = n_components + n_oversamples\n",
    "    \n",
    "    Q = randomized_range_finder(M, n_random, n_iter)\n",
    "    \n",
    "    # project M to the (k + p) dimensional space using basis vectors\n",
    "    B = Q.T @ M\n",
    "    \n",
    "    # compute SVD on the thin matrix: (k + p) wide\n",
    "    Uhat, s, V = linalg.svd(B, full_matrices=False)\n",
    "    del B\n",
    "    U = Q @ Uhat\n",
    "    \n",
    "    # return the number of components we want from U, s, V\n",
    "    return U[:, :n_components], s[:n_components], V[:n_components, :]"
   ]
  },
  {
   "cell_type": "code",
   "execution_count": 6,
   "metadata": {},
   "outputs": [
    {
     "name": "stdout",
     "output_type": "stream",
     "text": [
      "CPU times: user 4.68 s, sys: 2.49 s, total: 7.16 s\n",
      "Wall time: 5.44 s\n"
     ]
    }
   ],
   "source": [
    "%time u, s, v = randomized_svd(vectors, 5)"
   ]
  },
  {
   "cell_type": "code",
   "execution_count": 7,
   "metadata": {},
   "outputs": [
    {
     "data": {
      "text/plain": [
       "((2034, 5), (5,), (5, 26576))"
      ]
     },
     "execution_count": 7,
     "metadata": {},
     "output_type": "execute_result"
    }
   ],
   "source": [
    "u.shape, s.shape, v.shape"
   ]
  },
  {
   "cell_type": "code",
   "execution_count": 8,
   "metadata": {},
   "outputs": [
    {
     "data": {
      "text/plain": [
       "['jpeg image edu file graphics images gif data',\n",
       " 'edu graphics data space pub mail 128 3d',\n",
       " 'space jesus launch god people satellite matthew atheists',\n",
       " 'jesus god matthew people atheists atheism does graphics',\n",
       " 'jpeg graphics space pub edu ray mail send']"
      ]
     },
     "execution_count": 8,
     "metadata": {},
     "output_type": "execute_result"
    }
   ],
   "source": [
    "show_topics(v)"
   ]
  },
  {
   "cell_type": "markdown",
   "metadata": {},
   "source": [
    "Computational Complexity for a M`x`N matrix in SVD is $M^2N+N^3$, so Randomized (Truncated?) SVD is a *massive* improvement."
   ]
  },
  {
   "cell_type": "markdown",
   "metadata": {
    "collapsed": true
   },
   "source": [
    "---\n",
    "\n",
    "2018/3/7\n",
    "\n",
    "Write a loop to calculate the error of your decomposition as your vary the # of topics. Plot the results."
   ]
  },
  {
   "cell_type": "code",
   "execution_count": 35,
   "metadata": {},
   "outputs": [
    {
     "name": "stdout",
     "output_type": "stream",
     "text": [
      "CPU times: user 5 µs, sys: 1e+03 ns, total: 6 µs\n",
      "Wall time: 11 µs\n",
      "CPU times: user 4.62 s, sys: 2.03 s, total: 6.65 s\n",
      "Wall time: 4.43 s\n",
      "CPU times: user 74 µs, sys: 2 µs, total: 76 µs\n",
      "Wall time: 42 µs\n",
      "CPU times: user 444 ms, sys: 194 ms, total: 638 ms\n",
      "Wall time: 394 ms\n",
      "CPU times: user 435 ms, sys: 224 ms, total: 659 ms\n",
      "Wall time: 583 ms\n",
      "0.0068263497623073325\n"
     ]
    }
   ],
   "source": [
    "# 1. how do I calculate decomposition error?:\n",
    "# I guess I'll use MSE?\n",
    "\n",
    "# # NumPy:    # https://stackoverflow.com/questions/16774849/mean-squared-error-in-numpy\n",
    "# def MSEnp(A,B):\n",
    "#     if type(A) == np.ndarray and type(B) == np.ndarray:\n",
    "#         return ((A - B) ** 2).mean()\n",
    "#     else:\n",
    "#         return np.square((A - B)).mean()\n",
    "\n",
    "# Scikit-Learn:\n",
    "from sklearn import metrics\n",
    "MSE = metrics.mean_squared_error  # usg: mse(A,B)\n",
    "\n",
    "\n",
    "# 2. Now how to recompose my decomposition?:\n",
    "\n",
    "%time B = vectors  # original matrix\n",
    "%time U, S, V = randomized_svd(B, 10) # num_topics = 10\n",
    "\n",
    "# S is vector of Σ's singular values. Convert back to matrix:\n",
    "%time Σ = S * np.eye(S.shape[0])\n",
    "\n",
    "# from SVD formula: A ≈ U@Σ@V.T\n",
    "%time A = U@Σ@V  ## apparently randomized_svd returns V.T, not V ?\n",
    "\n",
    "\n",
    "# 3. Finally calculated error I guess:\n",
    "\n",
    "%time mse_error = MSE(A,B)\n",
    "print(mse_error)"
   ]
  },
  {
   "cell_type": "code",
   "execution_count": 60,
   "metadata": {},
   "outputs": [],
   "source": [
    "# Im putting way too much effort into this lol\n",
    "def fib(n):\n",
    "    if n <= 1:\n",
    "        return n\n",
    "    else:\n",
    "        f1 = 1\n",
    "        f2 = 0\n",
    "        for i in range(n):\n",
    "            t = f1 + f2\n",
    "            tmp = f2\n",
    "            f2 += f1\n",
    "            f1 = tmp\n",
    "        return t"
   ]
  },
  {
   "cell_type": "code",
   "execution_count": 82,
   "metadata": {},
   "outputs": [
    {
     "name": "stdout",
     "output_type": "stream",
     "text": [
      "Topics:   1     Time:   1\n",
      "Topics:   2     Time:   2\n",
      "Topics:   3     Time:   3\n",
      "Topics:   5     Time:   5\n",
      "Topics:   8     Time:   8\n",
      "Topics:  13     Time:  13\n",
      "Topics:  21     Time:  21\n",
      "Topics:  34     Time:  34\n",
      "Topics:  55     Time:  55\n",
      "Topics:  89     Time:  89\n",
      "Topics: 144     Time: 144\n"
     ]
    }
   ],
   "source": [
    "for i,e in enumerate(num_topics):\n",
    "    print(f'Topics: {num_topics[i]:>3}    ',\n",
    "          f'Time: {num_topics[i]:>3}')"
   ]
  },
  {
   "cell_type": "code",
   "execution_count": 84,
   "metadata": {},
   "outputs": [
    {
     "name": "stdout",
     "output_type": "stream",
     "text": [
      "Topics:   1    Time: 10.306    Error: 0.012774542799\n",
      "Topics:   2    Time: 6.059    Error: 0.011202491441\n",
      "Topics:   3    Time: 6.796    Error: 0.010130595402\n",
      "Topics:   5    Time: 6.148    Error: 0.008617415024\n",
      "Topics:   8    Time: 5.883    Error: 0.007381466577\n",
      "Topics:  13    Time: 6.036    Error: 0.006150021022\n",
      "Topics:  21    Time: 7.312    Error: 0.005167188039\n",
      "Topics:  34    Time: 6.405    Error: 0.004373025522\n",
      "Topics:  55    Time: 10.075    Error: 0.003611011115\n",
      "Topics:  89    Time: 9.624    Error: 0.002845523291\n",
      "Topics: 144    Time: 12.863    Error: 0.002155064568\n",
      "Topics: 233    Time: 15.912    Error: 0.001544413065\n"
     ]
    }
   ],
   "source": [
    "## Setup\n",
    "import time\n",
    "\n",
    "B = vectors\n",
    "num_topics = [fib(i) for i in range(2,14)]\n",
    "TnE = []  # time & error\n",
    "\n",
    "\n",
    "## Loop:\n",
    "for n_topics in num_topics:\n",
    "    t0 = time.time()\n",
    "    U, S, Vt = randomized_svd(B, n_topics)\n",
    "    Σ = S * np.eye(S.shape[0])\n",
    "    A = U@Σ@Vt\n",
    "    TnE.append([time.time() - t0, MSE(A,B)])\n",
    "    \n",
    "for i, tne in enumerate(TnE):\n",
    "    print(f'Topics: {num_topics[i]:>3}    '\n",
    "          f'Time: {np.round(tne[0],3):>3}    '\n",
    "          f'Error: {np.round(tne[1],12):>3}')"
   ]
  },
  {
   "cell_type": "code",
   "execution_count": 85,
   "metadata": {},
   "outputs": [
    {
     "data": {
      "image/png": "[encoded data removed]",
      "text/plain": [
       "<Figure size 432x288 with 1 Axes>"
      ]
     },
     "metadata": {},
     "output_type": "display_data"
    }
   ],
   "source": [
    "# https://matplotlib.org/users/pyplot_tutorial.html\n",
    "plt.plot(num_topics, [tne[1] for tne in TnE])\n",
    "plt.xlabel('No. Topics')\n",
    "plt.ylabel('MSE Error')\n",
    "plt.show()"
   ]
  },
  {
   "cell_type": "code",
   "execution_count": 87,
   "metadata": {},
   "outputs": [
    {
     "data": {
      "text/plain": [
       "[<matplotlib.lines.Line2D at 0x1a17f70dd8>]"
      ]
     },
     "execution_count": 87,
     "metadata": {},
     "output_type": "execute_result"
    },
    {
     "data": {
      "image/png": "[encoded data removed]",
      "text/plain": [
       "<Figure size 432x288 with 1 Axes>"
      ]
     },
     "metadata": {},
     "output_type": "display_data"
    }
   ],
   "source": [
    "## R.Thomas' class solution:\n",
    "step = 20\n",
    "n = 20\n",
    "error = np.zeros(n)\n",
    "\n",
    "for i in range(n):\n",
    "    U, s, V = randomized_svd(vectors, i * step)\n",
    "    reconstructed = U @ np.diag(s) @ V\n",
    "    error[i] = np.linalg.norm(vectors - reconstructed)\n",
    "    \n",
    "plt.plot(range(0,n*step,step), error)"
   ]
  },
  {
   "cell_type": "markdown",
   "metadata": {},
   "source": [
    "Looks like she used the Norm instead of MSE. Same curve shape. \n",
    "\n",
    "Here's why I used the fibonacci sequence for my topic numbers. This solution took much longer than mine (i=20 vs i=12) with more steps, yet mine appears smoother. Why? I figured this was the shape of curve I'd get: ie interesting bit is in the beginning, so I used a number sequence that spread out as you went so you'd get higher resolution early on. Yay."
   ]
  },
  {
   "cell_type": "markdown",
   "metadata": {},
   "source": [
    "---\n",
    "\n",
    "**NOTE**: random magical superpower Machine Learning Data Analytics *thing*: ***Johnson-Lindenstrauss lemma***: \n",
    "\n",
    "basically if you have a matrix with too many columns to work with (leading to overfitting or w/e else), multiple it by some random (square?) matrix and you'll preserve its properties but in a workable shape\n",
    "\n",
    "https://en.wikipedia.org/wiki/Johnson-Lindenstrauss_lemma"
   ]
  },
  {
   "cell_type": "code",
   "execution_count": null,
   "metadata": {},
   "outputs": [],
   "source": []
  }
 ],
 "metadata": {
  "kernelspec": {
   "display_name": "Python 3 (FastAI)",
   "language": "python",
   "name": "fastai"
  },
  "language_info": {
   "codemirror_mode": {
    "name": "ipython",
    "version": 3
   },
   "file_extension": ".py",
   "mimetype": "text/x-python",
   "name": "python",
   "nbconvert_exporter": "python",
   "pygments_lexer": "ipython3",
   "version": "3.6.4"
  }
 },
 "nbformat": 4,
 "nbformat_minor": 2
}
