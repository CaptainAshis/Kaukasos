{
 "cells": [
  {
   "cell_type": "markdown",
   "metadata": {},
   "source": [
    "# URT [Chapter 1](http://underactuated.csail.mit.edu/underactuated.html?chapter=1) Notes\n",
    "\n",
    "Wayne H Nixalo - 2018/2/14 00:53\n",
    "\n",
    "---"
   ]
  },
  {
   "cell_type": "markdown",
   "metadata": {},
   "source": [
    "### Example 1.1 Robot Manipulators\n",
    "\n",
    "The equations of motion for the double pendulum system are simple to derive (see [Appendix](http://underactuated.csail.mit.edu/underactuated.html?chapter=multibody)) and take the form of standard \"manipulator equations\":\n",
    "\n",
    "$$M(q)\\ddot{q}+C(q,\\dot{q})\\dot{q} = \\tau_g(q)+Bu$$\n",
    "\n",
    "The inertial matrix $M(q)$ is always uniformly symmetric & positive definite and $\\Rightarrow$ is invertible. Putting the equation into [Equation 1](http://underactuated.csail.mit.edu/underactuated.html?chapter=1#mjx-eqn-eqf1_plus_f2) form yields: \n",
    "\n",
    "$$\\ddot{q}=M^{-1}(q)[\\tau_g(q)+Bu-C(q,\\dot{q}]\\dot(q)$$\n",
    "\n",
    "Because $\\textbf{M}^{-1}(\\textbf{q})$ is always full rank, the system described by the manipulator eqns is FA $\\iff$ $\\textbf{B}$ is full row rank. Here $\\textbf{q}=[\\theta_1,\\theta_2]^T$ and $\\textbf{u}=[\\tau_1,\\tau_2]^T$ (motor torques at joints), and $\\textbf{B}=\\textbf{I}_{2\\times2}$"
   ]
  },
  {
   "cell_type": "code",
   "execution_count": 5,
   "metadata": {},
   "outputs": [
    {
     "ename": "ImportError",
     "evalue": "No module named underactuated",
     "output_type": "error",
     "traceback": [
      "\u001b[0;31m---------------------------------------------------------------------------\u001b[0m",
      "\u001b[0;31mImportError\u001b[0m                               Traceback (most recent call last)",
      "\u001b[0;32m<ipython-input-5-07f34d9bd52b>\u001b[0m in \u001b[0;36m<module>\u001b[0;34m()\u001b[0m\n\u001b[1;32m      1\u001b[0m from pydrake.all import (BasicVector, DiagramBuilder, FloatingBaseType,\n\u001b[1;32m      2\u001b[0m                          RigidBodyPlant, RigidBodyTree, Simulator)\n\u001b[0;32m----> 3\u001b[0;31m \u001b[0;32mfrom\u001b[0m \u001b[0munderactuated\u001b[0m \u001b[0;32mimport\u001b[0m \u001b[0;34m(\u001b[0m\u001b[0mFindResource\u001b[0m\u001b[0;34m,\u001b[0m \u001b[0mPlanarRigidBodyVisualizer\u001b[0m\u001b[0;34m)\u001b[0m\u001b[0;34m\u001b[0m\u001b[0m\n\u001b[0m\u001b[1;32m      4\u001b[0m \u001b[0;34m\u001b[0m\u001b[0m\n\u001b[1;32m      5\u001b[0m \u001b[0;31m# Load the double pendulum from Universal Robot Description Format\u001b[0m\u001b[0;34m\u001b[0m\u001b[0;34m\u001b[0m\u001b[0m\n",
      "\u001b[0;31mImportError\u001b[0m: No module named underactuated"
     ]
    }
   ],
   "source": [
    "from pydrake.all import (BasicVector, DiagramBuilder, FloatingBaseType,\n",
    "                         RigidBodyPlant, RigidBodyTree, Simulator)\n",
    "from underactuated import (FindResource, PlanarRigidBodyVisualizer)\n",
    "\n",
    "# Load the double pendulum from Universal Robot Description Format\n",
    "tree = RigidBodyTree(FindResource(\"double_pendulum.urdf\"),\n",
    "                     FloatingBaseType.kFixed)\n",
    "\n",
    "# Set up a block diagram with the robot (dynamics) and a visualization block.\n",
    "builder = DiagramBuilder()\n",
    "robot = builder.AddSystem(RigidBodyPlant(tree))\n",
    "builder.ExportInput(robot.get_input_port(0))\n",
    "visualizer = builder.AddSystem(PlanarRigidBodyVisualizer(tree,\n",
    "                                                         xlim=[-2.8, 2.8],\n",
    "                                                         ylim=[-2.8, 2.8]))\n",
    "builder.Connect(robot.get_output_port(0), visualizer.get_input_port(0))\n",
    "diagram = builder.Build()\n",
    "\n",
    "# Set up a simulator to run this diagram\n",
    "simulator = Simulator(diagram)\n",
    "simulator.set_target_realtime_rate(1.0)\n",
    "simulator.set_publish_every_time_step(False)\n",
    "\n",
    "# Set the initial conditions\n",
    "context = simulator.get_mutable_context()\n",
    "context.FixInputPort(0, BasicVector([0., 0.]))  # Zero input torques\n",
    "state = context.get_mutable_continuous_state_vector()\n",
    "state.SetFromVector((1., 1., 0., 0.))  # (theta1, theta2, theta1dot, theta2dot)\n",
    "\n",
    "# Simulate for 10 seconds\n",
    "simulator.StepTo(10)"
   ]
  },
  {
   "cell_type": "markdown",
   "metadata": {},
   "source": [
    "We can also use [Drake](http://drake.mit.edu/) to evaluate manipulator eqns:"
   ]
  },
  {
   "cell_type": "code",
   "execution_count": 6,
   "metadata": {},
   "outputs": [
    {
     "ename": "ImportError",
     "evalue": "No module named underactuated",
     "output_type": "error",
     "traceback": [
      "\u001b[0;31m---------------------------------------------------------------------------\u001b[0m",
      "\u001b[0;31mImportError\u001b[0m                               Traceback (most recent call last)",
      "\u001b[0;32m<ipython-input-6-b3af88b3890d>\u001b[0m in \u001b[0;36m<module>\u001b[0;34m()\u001b[0m\n\u001b[1;32m      1\u001b[0m \u001b[0;32mfrom\u001b[0m \u001b[0mpydrake\u001b[0m\u001b[0;34m.\u001b[0m\u001b[0mall\u001b[0m \u001b[0;32mimport\u001b[0m \u001b[0;34m(\u001b[0m\u001b[0mFloatingBaseType\u001b[0m\u001b[0;34m,\u001b[0m \u001b[0mRigidBodyTree\u001b[0m\u001b[0;34m)\u001b[0m\u001b[0;34m\u001b[0m\u001b[0m\n\u001b[0;32m----> 2\u001b[0;31m \u001b[0;32mfrom\u001b[0m \u001b[0munderactuated\u001b[0m \u001b[0;32mimport\u001b[0m \u001b[0;34m(\u001b[0m\u001b[0mFindResource\u001b[0m\u001b[0;34m,\u001b[0m \u001b[0mManipulatorDynamics\u001b[0m\u001b[0;34m)\u001b[0m\u001b[0;34m\u001b[0m\u001b[0m\n\u001b[0m\u001b[1;32m      3\u001b[0m \u001b[0;34m\u001b[0m\u001b[0m\n\u001b[1;32m      4\u001b[0m tree = RigidBodyTree(FindResource(\"double_pendulum.urdf\"),\n\u001b[1;32m      5\u001b[0m                      FloatingBaseType.kFixed)\n",
      "\u001b[0;31mImportError\u001b[0m: No module named underactuated"
     ]
    }
   ],
   "source": [
    "from pydrake.all import (FloatingBaseType, RigidBodyTree)\n",
    "from underactuated import (FindResource, ManipulatorDynamics)\n",
    "\n",
    "tree = RigidBodyTree(FindResource(\"double_pendulum.urdf\"),\n",
    "                     FloatingBaseType.kFixed)\n",
    "\n",
    "q = (1., 1.)\n",
    "v = (0.1, 0.1)\n",
    "(M, Cv, tauG, B) = ManipulatorDynamics(tree, q, v)\n",
    "print(\"M = \" + str(M))\n",
    "print(\"Cv = \" + str(Cv))\n",
    "print(\"tauG = \" + str(tauG))\n",
    "print(\"B = \" + str(B))"
   ]
  },
  {
   "cell_type": "markdown",
   "metadata": {},
   "source": [
    "**NOTE**: hmm, looks like this stuff isn't fully implemented yet. I'll try it again later."
   ]
  },
  {
   "cell_type": "code",
   "execution_count": null,
   "metadata": {},
   "outputs": [],
   "source": []
  },
  {
   "cell_type": "code",
   "execution_count": null,
   "metadata": {},
   "outputs": [],
   "source": []
  },
  {
   "cell_type": "code",
   "execution_count": null,
   "metadata": {},
   "outputs": [],
   "source": []
  },
  {
   "cell_type": "code",
   "execution_count": null,
   "metadata": {},
   "outputs": [],
   "source": []
  }
 ],
 "metadata": {
  "kernelspec": {
   "display_name": "Python 2",
   "language": "python",
   "name": "python2"
  },
  "language_info": {
   "codemirror_mode": {
    "name": "ipython",
    "version": 2
   },
   "file_extension": ".py",
   "mimetype": "text/x-python",
   "name": "python",
   "nbconvert_exporter": "python",
   "pygments_lexer": "ipython2",
   "version": "2.7.12"
  }
 },
 "nbformat": 4,
 "nbformat_minor": 2
}
