{
 "cells": [
  {
   "cell_type": "markdown",
   "metadata": {},
   "source": [
    "# Darknet53 ImageNet Sampleset"
   ]
  },
  {
   "cell_type": "markdown",
   "metadata": {},
   "source": [
    "## Import"
   ]
  },
  {
   "cell_type": "code",
   "execution_count": 1,
   "metadata": {},
   "outputs": [],
   "source": [
    "%matplotlib inline\n",
    "%reload_ext autoreload\n",
    "%autoreload 2"
   ]
  },
  {
   "cell_type": "code",
   "execution_count": 2,
   "metadata": {},
   "outputs": [],
   "source": [
    "from fastai.conv_learner import *\n",
    "from fastai.models import darknet"
   ]
  },
  {
   "cell_type": "code",
   "execution_count": 3,
   "metadata": {},
   "outputs": [],
   "source": [
    "from pathlib import Path"
   ]
  },
  {
   "cell_type": "code",
   "execution_count": 4,
   "metadata": {},
   "outputs": [],
   "source": [
    "PATH = Path('data/imagenet')\n",
    "PATH_TRAIN = PATH/'train'"
   ]
  },
  {
   "cell_type": "markdown",
   "metadata": {},
   "source": [
    "## Setup"
   ]
  },
  {
   "cell_type": "code",
   "execution_count": 5,
   "metadata": {},
   "outputs": [],
   "source": [
    "def reset_valset(path):\n",
    "    path_val = path/'valid'\n",
    "    path_trn = path/'train'\n",
    "    \n",
    "    if not os.path.exists(path_val):\n",
    "        print('No validation directory to reset.')\n",
    "        return\n",
    "    \n",
    "    for folder in path_val.iterdir():\n",
    "        for f in folder.iterdir():\n",
    "            os.rename(f, path_trn / str(f).split('valid/')[-1])\n",
    "\n",
    "def create_valset(path, p=0.15, seed=0):\n",
    "    np.random.seed(seed=seed)\n",
    "    \n",
    "    path_val = path/'valid'\n",
    "    path_trn = path/'train'\n",
    "    reset_valset(path)\n",
    "    \n",
    "    # move random p-percent selection from train/ to valid/\n",
    "    for folder in path_trn.iterdir():\n",
    "        os.makedirs(path_val/str(folder).split('train/')[-1], exist_ok=True)\n",
    "        flist = list(folder.iterdir())\n",
    "        n_move = int(np.round(len(flist) * p))\n",
    "        fmoves = np.random.choice(flist, n_move, replace=False)\n",
    "        \n",
    "        for f in fmoves:\n",
    "            os.rename(f, path_val / str(f).split('train/')[-1])\n",
    "\n",
    "def count_files(path):\n",
    "    count = 0\n",
    "    for folder in path.iterdir():\n",
    "        count += len(list(folder.glob('*')))\n",
    "    return count"
   ]
  },
  {
   "cell_type": "code",
   "execution_count": 6,
   "metadata": {},
   "outputs": [
    {
     "data": {
      "text/plain": [
       "(15565, 3874)"
      ]
     },
     "execution_count": 6,
     "metadata": {},
     "output_type": "execute_result"
    }
   ],
   "source": [
    "create_valset(PATH, p=0.2)\n",
    "count_files(PATH_TRAIN), count_files(PATH/'valid')"
   ]
  },
  {
   "cell_type": "markdown",
   "metadata": {},
   "source": [
    "Weight Decay of `1e-5` used bc it's a near what JHoward uses in [CIFAR-10 Darknet notebook](https://github.com/fastai/fastai/blob/master/courses/dl2/cifar10-darknet.ipynb). See Fast.ai DL1 bit on Weight Decay in [Lesson 5 - 2:12:01](https://youtu.be/J99NV9Cr75I?t=2h12m1s).\n",
    "\n",
    "I may experiment with cycle length and cycle split. `lr`, `clr_div`, and `cut_div` values determined by looking at results in the darknet_test.ipynb notebook, and guessing."
   ]
  },
  {
   "cell_type": "code",
   "execution_count": 7,
   "metadata": {},
   "outputs": [],
   "source": [
    "bs = 32\n",
    "sz = 256\n",
    "wd = 1e-5\n",
    "\n",
    "darknet53 = darknet.darknet_53()\n",
    "\n",
    "tfms = tfms_from_stats(imagenet_stats, sz, aug_tfms=transforms_side_on, \n",
    "                       max_zoom=1.05, pad=sz//8)\n",
    "model_data = ImageClassifierData.from_paths(PATH, bs=bs, tfms=tfms)\n",
    "\n",
    "learner = ConvLearner.from_model_data(darknet53, model_data, crit=F.cross_entropy)"
   ]
  },
  {
   "cell_type": "code",
   "execution_count": 8,
   "metadata": {},
   "outputs": [
    {
     "data": {
      "application/vnd.jupyter.widget-view+json": {
       "model_id": "d05ca4ed4a914e15b8bde1e2d8f7dc43",
       "version_major": 2,
       "version_minor": 0
      },
      "text/plain": [
       "HBox(children=(IntProgress(value=0, description='Epoch', max=1), HTML(value='')))"
      ]
     },
     "metadata": {},
     "output_type": "display_data"
    },
    {
     "name": "stdout",
     "output_type": "stream",
     "text": [
      " 91%|█████████ | 442/487 [32:53<03:20,  4.46s/it, loss=71]  "
     ]
    },
    {
     "data": {
      "image/png": "[encoded data removed]",
      "text/plain": [
       "<Figure size 432x288 with 1 Axes>"
      ]
     },
     "metadata": {},
     "output_type": "display_data"
    }
   ],
   "source": [
    "learner.lr_find()\n",
    "learner.sched.plot()"
   ]
  },
  {
   "cell_type": "markdown",
   "metadata": {},
   "source": [
    "## Train"
   ]
  },
  {
   "cell_type": "code",
   "execution_count": 10,
   "metadata": {},
   "outputs": [
    {
     "data": {
      "application/vnd.jupyter.widget-view+json": {
       "model_id": "8fb444445583499b9ced0366f737f0c1",
       "version_major": 2,
       "version_minor": 0
      },
      "text/plain": [
       "HBox(children=(IntProgress(value=0, description='Epoch', max=3), HTML(value='')))"
      ]
     },
     "metadata": {},
     "output_type": "display_data"
    },
    {
     "name": "stdout",
     "output_type": "stream",
     "text": [
      "  0%|          | 0/487 [00:00<?, ?it/s]\n",
      "epoch      trn_loss   val_loss   accuracy                   \n",
      "    0      6.591332   6.535328   0.007228  \n",
      "    1      6.284904   6.388249   0.00826                    \n",
      "    2      5.974577   5.956076   0.018327                   \n",
      "\n"
     ]
    },
    {
     "data": {
      "text/plain": [
       "[array([5.95608]), 0.018327310273619]"
      ]
     },
     "execution_count": 10,
     "metadata": {},
     "output_type": "execute_result"
    }
   ],
   "source": [
    "learner.fit(lrs=1e-2, n_cycle=1, wds=wd, cycle_len=3, use_clr=(40, 10))"
   ]
  },
  {
   "cell_type": "code",
   "execution_count": 11,
   "metadata": {},
   "outputs": [],
   "source": [
    "learner.save('darknet53_imagenet_sample_00')"
   ]
  },
  {
   "cell_type": "code",
   "execution_count": null,
   "metadata": {},
   "outputs": [],
   "source": [
    "learner.fit(lrs=1e-2, n_cycle=1, wds=wd, cycle_len=3, use_clr=(40, 10))"
   ]
  }
 ],
 "metadata": {
  "kernelspec": {
   "display_name": "Python 3",
   "language": "python",
   "name": "python3"
  },
  "language_info": {
   "codemirror_mode": {
    "name": "ipython",
    "version": 3
   },
   "file_extension": ".py",
   "mimetype": "text/x-python",
   "name": "python",
   "nbconvert_exporter": "python",
   "pygments_lexer": "ipython3",
   "version": "3.6.5"
  }
 },
 "nbformat": 4,
 "nbformat_minor": 2
}
