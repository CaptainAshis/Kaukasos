{
 "cells": [
  {
   "cell_type": "code",
   "execution_count": 1,
   "metadata": {},
   "outputs": [],
   "source": [
    "%reload_ext autoreload\n",
    "%autoreload 2\n",
    "%matplotlib inline"
   ]
  },
  {
   "cell_type": "markdown",
   "metadata": {},
   "source": [
    "## 1."
   ]
  },
  {
   "cell_type": "code",
   "execution_count": 7,
   "metadata": {
    "collapsed": true
   },
   "outputs": [],
   "source": [
    "from fastai.conv_learner import *\n",
    "from fastai.models import darknet\n",
    "from pathlib import Path"
   ]
  },
  {
   "cell_type": "code",
   "execution_count": 8,
   "metadata": {
    "collapsed": true
   },
   "outputs": [],
   "source": [
    "PATH = Path('data/imagenet')\n",
    "PATH_TRAIN = PATH/'train'"
   ]
  },
  {
   "cell_type": "code",
   "execution_count": 5,
   "metadata": {
    "scrolled": false
   },
   "outputs": [],
   "source": [
    "# sz = 256\n",
    "# bs = 32\n",
    "# darknet53 = darknet.darknet_53()\n",
    "# tfms = tfms_from_model(darknet53, sz)\n",
    "# model_data = ImageClassifierData.from_paths(PATH, bs=bs, tfms=tfms, val_name='train')\n",
    "# learner = ConvLearner.from_model_data(darknet53, model_data)"
   ]
  },
  {
   "cell_type": "code",
   "execution_count": 9,
   "metadata": {},
   "outputs": [
    {
     "data": {
      "text/plain": [
       "<function torch.nn.functional.nll_loss(input, target, weight=None, size_average=True, ignore_index=-100, reduce=True)>"
      ]
     },
     "execution_count": 9,
     "metadata": {},
     "output_type": "execute_result"
    }
   ],
   "source": [
    "learner.crit"
   ]
  },
  {
   "cell_type": "code",
   "execution_count": 12,
   "metadata": {},
   "outputs": [
    {
     "data": {
      "text/plain": [
       "<fastai.dataset.ImageClassifierData at 0x7ff722707518>"
      ]
     },
     "execution_count": 12,
     "metadata": {},
     "output_type": "execute_result"
    }
   ],
   "source": [
    "model_data"
   ]
  },
  {
   "cell_type": "code",
   "execution_count": 13,
   "metadata": {},
   "outputs": [
    {
     "data": {
      "text/plain": [
       "<function torch.nn.functional.nll_loss(input, target, weight=None, size_average=True, ignore_index=-100, reduce=True)>"
      ]
     },
     "execution_count": 13,
     "metadata": {},
     "output_type": "execute_result"
    }
   ],
   "source": [
    "learner.crit"
   ]
  },
  {
   "cell_type": "code",
   "execution_count": 14,
   "metadata": {
    "collapsed": true
   },
   "outputs": [],
   "source": [
    "learner.crit = F.cross_entropy"
   ]
  },
  {
   "cell_type": "code",
   "execution_count": 15,
   "metadata": {},
   "outputs": [
    {
     "data": {
      "text/plain": [
       "<function torch.nn.functional.cross_entropy(input, target, weight=None, size_average=True, ignore_index=-100, reduce=True)>"
      ]
     },
     "execution_count": 15,
     "metadata": {},
     "output_type": "execute_result"
    }
   ],
   "source": [
    "learner.crit"
   ]
  },
  {
   "cell_type": "markdown",
   "metadata": {
    "heading_collapsed": true
   },
   "source": [
    "## 2."
   ]
  },
  {
   "cell_type": "markdown",
   "metadata": {
    "hidden": true
   },
   "source": [
    "Checking behavior of `.pretrained` in fastai/conv_learner.py. Looking at number of FC layers at the end of a stock PyTorch model, compared to loading through FastAI:"
   ]
  },
  {
   "cell_type": "code",
   "execution_count": 9,
   "metadata": {
    "collapsed": true,
    "hidden": true
   },
   "outputs": [],
   "source": [
    "from torchvision.models import resnet18"
   ]
  },
  {
   "cell_type": "code",
   "execution_count": 10,
   "metadata": {
    "hidden": true
   },
   "outputs": [
    {
     "data": {
      "text/plain": [
       "<function torchvision.models.resnet.resnet18(pretrained=False, **kwargs)>"
      ]
     },
     "execution_count": 10,
     "metadata": {},
     "output_type": "execute_result"
    }
   ],
   "source": [
    "resnet18"
   ]
  },
  {
   "cell_type": "code",
   "execution_count": 11,
   "metadata": {
    "collapsed": true,
    "hidden": true
   },
   "outputs": [],
   "source": [
    "resnet18 = resnet18()"
   ]
  },
  {
   "cell_type": "code",
   "execution_count": 3,
   "metadata": {
    "hidden": true
   },
   "outputs": [],
   "source": [
    "# resnet18"
   ]
  },
  {
   "cell_type": "markdown",
   "metadata": {
    "hidden": true
   },
   "source": [
    "1 linear layer at the end."
   ]
  },
  {
   "cell_type": "code",
   "execution_count": 18,
   "metadata": {
    "hidden": true
   },
   "outputs": [],
   "source": [
    "from fastai.conv_learner import *"
   ]
  },
  {
   "cell_type": "code",
   "execution_count": 19,
   "metadata": {
    "hidden": true
   },
   "outputs": [
    {
     "data": {
      "text/plain": [
       "<function torchvision.models.resnet.resnet18(pretrained=False, **kwargs)>"
      ]
     },
     "execution_count": 19,
     "metadata": {},
     "output_type": "execute_result"
    }
   ],
   "source": [
    "resnet18"
   ]
  },
  {
   "cell_type": "markdown",
   "metadata": {
    "hidden": true
   },
   "source": [
    "What fastai originally imports is the resnet18 constructor function from torchvision.models.resnet. Good to know."
   ]
  },
  {
   "cell_type": "code",
   "execution_count": 23,
   "metadata": {
    "hidden": true
   },
   "outputs": [],
   "source": [
    "learner = ConvLearner.from_model_data(resnet18(), model_data)"
   ]
  },
  {
   "cell_type": "code",
   "execution_count": 2,
   "metadata": {
    "hidden": true
   },
   "outputs": [],
   "source": [
    "# learner"
   ]
  },
  {
   "cell_type": "code",
   "execution_count": 20,
   "metadata": {
    "hidden": true
   },
   "outputs": [],
   "source": [
    "from pathlib import Path\n",
    "PATH = Path('data/cifar10')"
   ]
  },
  {
   "cell_type": "code",
   "execution_count": 21,
   "metadata": {
    "hidden": true
   },
   "outputs": [],
   "source": [
    "sz = 32\n",
    "bs = 64\n",
    "tfms = tfms_from_model(resnet18, sz)\n",
    "model_data = ImageClassifierData.from_paths(PATH, bs, tfms=tfms, val_name='test')"
   ]
  },
  {
   "cell_type": "code",
   "execution_count": 10,
   "metadata": {
    "hidden": true
   },
   "outputs": [
    {
     "name": "stderr",
     "output_type": "stream",
     "text": [
      "Downloading: \"https://download.pytorch.org/models/resnet18-5c106cde.pth\" to /home/ubuntu/.torch/models/resnet18-5c106cde.pth\n",
      "100%|██████████| 46827520/46827520 [00:00<00:00, 65104058.86it/s]\n"
     ]
    }
   ],
   "source": [
    "learner = ConvLearner.pretrained(resnet18, model_data)"
   ]
  },
  {
   "cell_type": "code",
   "execution_count": 1,
   "metadata": {
    "hidden": true,
    "scrolled": true
   },
   "outputs": [],
   "source": [
    "# learner"
   ]
  },
  {
   "cell_type": "markdown",
   "metadata": {
    "hidden": true
   },
   "source": [
    "Right. fastai strips the FC layer and its associated pooling layers, and replaces them with adaptive pooling and 2 linear layers with batchNorm and dropout; with a LogSoftmax output layer."
   ]
  },
  {
   "cell_type": "code",
   "execution_count": 12,
   "metadata": {
    "hidden": true
   },
   "outputs": [],
   "source": [
    "from fastai.models import darknet"
   ]
  },
  {
   "cell_type": "code",
   "execution_count": 13,
   "metadata": {
    "hidden": true
   },
   "outputs": [
    {
     "data": {
      "text/plain": [
       "<function fastai.models.darknet.darknet_53(num_classes=1000)>"
      ]
     },
     "execution_count": 13,
     "metadata": {},
     "output_type": "execute_result"
    }
   ],
   "source": [
    "darknet.darknet_53"
   ]
  },
  {
   "cell_type": "code",
   "execution_count": 14,
   "metadata": {
    "hidden": true
   },
   "outputs": [],
   "source": [
    "tfms = tfms_from_stats(imagenet_stats, sz)\n",
    "model_data = ImageClassifierData.from_paths(PATH, bs=bs, tfms=tfms, val_name='test')\n",
    "\n",
    "darknet53 = darknet.darknet_53"
   ]
  },
  {
   "cell_type": "code",
   "execution_count": 4,
   "metadata": {
    "hidden": true
   },
   "outputs": [],
   "source": [
    "# learner = ConvLearner.from_model_data(darknet53(num_classes=10), model_data)\n",
    "# learner"
   ]
  },
  {
   "cell_type": "code",
   "execution_count": 5,
   "metadata": {
    "hidden": true
   },
   "outputs": [],
   "source": [
    "# learner = ConvLearner.pretrained(darknet53(num_classes=10), model_data)\n",
    "# learner"
   ]
  },
  {
   "cell_type": "markdown",
   "metadata": {
    "collapsed": true,
    "heading_collapsed": true
   },
   "source": [
    "## 3."
   ]
  },
  {
   "cell_type": "code",
   "execution_count": 4,
   "metadata": {
    "hidden": true
   },
   "outputs": [],
   "source": [
    "%matplotlib inline\n",
    "%reload_ext autoreload\n",
    "%autoreload 2\n",
    "from fastai.conv_learner import *\n",
    "from fastai.models import darknet\n",
    "from pathlib import Path\n",
    "PATH = Path('data/imagenet')\n",
    "PATH_TRAIN = PATH/'train'"
   ]
  },
  {
   "cell_type": "code",
   "execution_count": 5,
   "metadata": {
    "hidden": true
   },
   "outputs": [],
   "source": [
    "bs = 32\n",
    "sz = 256\n",
    "\n",
    "tfms = tfms_from_stats(imagenet_stats, sz)\n",
    "model_data = ImageClassifierData.from_paths(PATH, bs=bs, tfms=tfms)\n",
    "\n",
    "darknet53 = darknet.darknet_53"
   ]
  },
  {
   "cell_type": "markdown",
   "metadata": {
    "hidden": true
   },
   "source": [
    "`.from_model_data`"
   ]
  },
  {
   "cell_type": "code",
   "execution_count": 7,
   "metadata": {
    "hidden": true
   },
   "outputs": [],
   "source": [
    "learner = ConvLearner.from_model_data(darknet53(), model_data)"
   ]
  },
  {
   "cell_type": "code",
   "execution_count": 11,
   "metadata": {
    "hidden": true
   },
   "outputs": [],
   "source": [
    "# learner.summary()"
   ]
  },
  {
   "cell_type": "markdown",
   "metadata": {
    "hidden": true
   },
   "source": [
    "head:\n",
    "```\n",
    "             ('AdaptiveAvgPool2d-232',\n",
    "              OrderedDict([('input_shape', [-1, 1024, 14, 14]),\n",
    "                           ('output_shape', [-1, 1024, 1, 1]),\n",
    "                           ('nb_params', 0)])),\n",
    "             ('Flatten-233',\n",
    "              OrderedDict([('input_shape', [-1, 1024, 1, 1]),\n",
    "                           ('output_shape', [-1, 1024]),\n",
    "                           ('nb_params', 0)])),\n",
    "             ('Linear-234',\n",
    "              OrderedDict([('input_shape', [-1, 1024]),\n",
    "                           ('output_shape', [-1, 1000]),\n",
    "                           ('trainable', True),\n",
    "                           ('nb_params', 1025000)]))])\n",
    "```"
   ]
  },
  {
   "cell_type": "markdown",
   "metadata": {
    "hidden": true
   },
   "source": [
    "learner with NLL loss fails Learning-Rate Finder phase due to negative losses:"
   ]
  },
  {
   "cell_type": "code",
   "execution_count": 14,
   "metadata": {
    "collapsed": true,
    "hidden": true
   },
   "outputs": [
    {
     "data": {
      "application/vnd.jupyter.widget-view+json": {
       "model_id": "7fe82fe694634e6d9fc4ca9b50caf7f7",
       "version_major": 2,
       "version_minor": 0
      },
      "text/plain": [
       "HBox(children=(IntProgress(value=0, description='Epoch', max=1), HTML(value='')))"
      ]
     },
     "metadata": {},
     "output_type": "display_data"
    },
    {
     "name": "stdout",
     "output_type": "stream",
     "text": [
      "  4%|▎         | 18/487 [01:26<37:32,  4.80s/it, loss=-0.0191] "
     ]
    },
    {
     "data": {
      "image/png": "[encoded data removed]",
      "text/plain": [
       "<Figure size 432x288 with 1 Axes>"
      ]
     },
     "metadata": {},
     "output_type": "display_data"
    }
   ],
   "source": [
    "learner.lr_find()\n",
    "learner.sched.plot()"
   ]
  },
  {
   "cell_type": "code",
   "execution_count": 15,
   "metadata": {
    "hidden": true
   },
   "outputs": [
    {
     "data": {
      "text/plain": [
       "<function torch.nn.functional.nll_loss(input, target, weight=None, size_average=True, ignore_index=-100, reduce=True)>"
      ]
     },
     "execution_count": 15,
     "metadata": {},
     "output_type": "execute_result"
    }
   ],
   "source": [
    "learner.crit"
   ]
  },
  {
   "cell_type": "markdown",
   "metadata": {
    "hidden": true
   },
   "source": [
    "`.pretrained`"
   ]
  },
  {
   "cell_type": "code",
   "execution_count": 17,
   "metadata": {
    "collapsed": true,
    "hidden": true
   },
   "outputs": [
    {
     "ename": "AttributeError",
     "evalue": "'bool' object has no attribute 'dim'",
     "output_type": "error",
     "traceback": [
      "\u001b[0;31m---------------------------------------------------------------------------\u001b[0m",
      "\u001b[0;31mAttributeError\u001b[0m                            Traceback (most recent call last)",
      "\u001b[0;32m<ipython-input-17-66ef9014e32e>\u001b[0m in \u001b[0;36m<module>\u001b[0;34m()\u001b[0m\n\u001b[0;32m----> 1\u001b[0;31m \u001b[0mlearner\u001b[0m \u001b[0;34m=\u001b[0m \u001b[0mConvLearner\u001b[0m\u001b[0;34m.\u001b[0m\u001b[0mpretrained\u001b[0m\u001b[0;34m(\u001b[0m\u001b[0mdarknet53\u001b[0m\u001b[0;34m(\u001b[0m\u001b[0;34m)\u001b[0m\u001b[0;34m,\u001b[0m \u001b[0mmodel_data\u001b[0m\u001b[0;34m)\u001b[0m\u001b[0;34m\u001b[0m\u001b[0m\n\u001b[0m",
      "\u001b[0;32m~/Kaukasos/FADL2/fastai/conv_learner.py\u001b[0m in \u001b[0;36mpretrained\u001b[0;34m(cls, f, data, ps, xtra_fc, xtra_cut, custom_head, precompute, pretrained, **kwargs)\u001b[0m\n\u001b[1;32m    110\u001b[0m                    pretrained=True, **kwargs):\n\u001b[1;32m    111\u001b[0m         models = ConvnetBuilder(f, data.c, data.is_multi, data.is_reg,\n\u001b[0;32m--> 112\u001b[0;31m             ps=ps, xtra_fc=xtra_fc, xtra_cut=xtra_cut, custom_head=custom_head, pretrained=pretrained)\n\u001b[0m\u001b[1;32m    113\u001b[0m         \u001b[0;32mreturn\u001b[0m \u001b[0mcls\u001b[0m\u001b[0;34m(\u001b[0m\u001b[0mdata\u001b[0m\u001b[0;34m,\u001b[0m \u001b[0mmodels\u001b[0m\u001b[0;34m,\u001b[0m \u001b[0mprecompute\u001b[0m\u001b[0;34m,\u001b[0m \u001b[0;34m**\u001b[0m\u001b[0mkwargs\u001b[0m\u001b[0;34m)\u001b[0m\u001b[0;34m\u001b[0m\u001b[0m\n\u001b[1;32m    114\u001b[0m \u001b[0;34m\u001b[0m\u001b[0m\n",
      "\u001b[0;32m~/Kaukasos/FADL2/fastai/conv_learner.py\u001b[0m in \u001b[0;36m__init__\u001b[0;34m(self, f, c, is_multi, is_reg, ps, xtra_fc, xtra_cut, custom_head, pretrained)\u001b[0m\n\u001b[1;32m     38\u001b[0m         \u001b[0;32melse\u001b[0m\u001b[0;34m:\u001b[0m \u001b[0mcut\u001b[0m\u001b[0;34m,\u001b[0m\u001b[0mself\u001b[0m\u001b[0;34m.\u001b[0m\u001b[0mlr_cut\u001b[0m \u001b[0;34m=\u001b[0m \u001b[0;36m0\u001b[0m\u001b[0;34m,\u001b[0m\u001b[0;36m0\u001b[0m\u001b[0;34m\u001b[0m\u001b[0m\n\u001b[1;32m     39\u001b[0m         \u001b[0mcut\u001b[0m\u001b[0;34m-=\u001b[0m\u001b[0mxtra_cut\u001b[0m\u001b[0;34m\u001b[0m\u001b[0m\n\u001b[0;32m---> 40\u001b[0;31m         \u001b[0mlayers\u001b[0m \u001b[0;34m=\u001b[0m \u001b[0mcut_model\u001b[0m\u001b[0;34m(\u001b[0m\u001b[0mf\u001b[0m\u001b[0;34m(\u001b[0m\u001b[0mpretrained\u001b[0m\u001b[0;34m)\u001b[0m\u001b[0;34m,\u001b[0m \u001b[0mcut\u001b[0m\u001b[0;34m)\u001b[0m\u001b[0;34m\u001b[0m\u001b[0m\n\u001b[0m\u001b[1;32m     41\u001b[0m         \u001b[0mself\u001b[0m\u001b[0;34m.\u001b[0m\u001b[0mnf\u001b[0m \u001b[0;34m=\u001b[0m \u001b[0mmodel_features\u001b[0m\u001b[0;34m[\u001b[0m\u001b[0mf\u001b[0m\u001b[0;34m]\u001b[0m \u001b[0;32mif\u001b[0m \u001b[0mf\u001b[0m \u001b[0;32min\u001b[0m \u001b[0mmodel_features\u001b[0m \u001b[0;32melse\u001b[0m \u001b[0;34m(\u001b[0m\u001b[0mnum_features\u001b[0m\u001b[0;34m(\u001b[0m\u001b[0mlayers\u001b[0m\u001b[0;34m)\u001b[0m\u001b[0;34m*\u001b[0m\u001b[0;36m2\u001b[0m\u001b[0;34m)\u001b[0m\u001b[0;34m\u001b[0m\u001b[0m\n\u001b[1;32m     42\u001b[0m         \u001b[0;32mif\u001b[0m \u001b[0;32mnot\u001b[0m \u001b[0mcustom_head\u001b[0m\u001b[0;34m:\u001b[0m \u001b[0mlayers\u001b[0m \u001b[0;34m+=\u001b[0m \u001b[0;34m[\u001b[0m\u001b[0mAdaptiveConcatPool2d\u001b[0m\u001b[0;34m(\u001b[0m\u001b[0;34m)\u001b[0m\u001b[0;34m,\u001b[0m \u001b[0mFlatten\u001b[0m\u001b[0;34m(\u001b[0m\u001b[0;34m)\u001b[0m\u001b[0;34m]\u001b[0m\u001b[0;34m\u001b[0m\u001b[0m\n",
      "\u001b[0;32m~/src/anaconda3/envs/fastai/lib/python3.6/site-packages/torch/nn/modules/module.py\u001b[0m in \u001b[0;36m__call__\u001b[0;34m(self, *input, **kwargs)\u001b[0m\n\u001b[1;32m    355\u001b[0m             \u001b[0mresult\u001b[0m \u001b[0;34m=\u001b[0m \u001b[0mself\u001b[0m\u001b[0;34m.\u001b[0m\u001b[0m_slow_forward\u001b[0m\u001b[0;34m(\u001b[0m\u001b[0;34m*\u001b[0m\u001b[0minput\u001b[0m\u001b[0;34m,\u001b[0m \u001b[0;34m**\u001b[0m\u001b[0mkwargs\u001b[0m\u001b[0;34m)\u001b[0m\u001b[0;34m\u001b[0m\u001b[0m\n\u001b[1;32m    356\u001b[0m         \u001b[0;32melse\u001b[0m\u001b[0;34m:\u001b[0m\u001b[0;34m\u001b[0m\u001b[0m\n\u001b[0;32m--> 357\u001b[0;31m             \u001b[0mresult\u001b[0m \u001b[0;34m=\u001b[0m \u001b[0mself\u001b[0m\u001b[0;34m.\u001b[0m\u001b[0mforward\u001b[0m\u001b[0;34m(\u001b[0m\u001b[0;34m*\u001b[0m\u001b[0minput\u001b[0m\u001b[0;34m,\u001b[0m \u001b[0;34m**\u001b[0m\u001b[0mkwargs\u001b[0m\u001b[0;34m)\u001b[0m\u001b[0;34m\u001b[0m\u001b[0m\n\u001b[0m\u001b[1;32m    358\u001b[0m         \u001b[0;32mfor\u001b[0m \u001b[0mhook\u001b[0m \u001b[0;32min\u001b[0m \u001b[0mself\u001b[0m\u001b[0;34m.\u001b[0m\u001b[0m_forward_hooks\u001b[0m\u001b[0;34m.\u001b[0m\u001b[0mvalues\u001b[0m\u001b[0;34m(\u001b[0m\u001b[0;34m)\u001b[0m\u001b[0;34m:\u001b[0m\u001b[0;34m\u001b[0m\u001b[0m\n\u001b[1;32m    359\u001b[0m             \u001b[0mhook_result\u001b[0m \u001b[0;34m=\u001b[0m \u001b[0mhook\u001b[0m\u001b[0;34m(\u001b[0m\u001b[0mself\u001b[0m\u001b[0;34m,\u001b[0m \u001b[0minput\u001b[0m\u001b[0;34m,\u001b[0m \u001b[0mresult\u001b[0m\u001b[0;34m)\u001b[0m\u001b[0;34m\u001b[0m\u001b[0m\n",
      "\u001b[0;32m~/Kaukasos/FADL2/fastai/models/darknet.py\u001b[0m in \u001b[0;36mforward\u001b[0;34m(self, x)\u001b[0m\n\u001b[1;32m     42\u001b[0m         \u001b[0mself\u001b[0m\u001b[0;34m.\u001b[0m\u001b[0mlayers\u001b[0m \u001b[0;34m=\u001b[0m \u001b[0mnn\u001b[0m\u001b[0;34m.\u001b[0m\u001b[0mSequential\u001b[0m\u001b[0;34m(\u001b[0m\u001b[0;34m*\u001b[0m\u001b[0mlayers\u001b[0m\u001b[0;34m)\u001b[0m\u001b[0;34m\u001b[0m\u001b[0m\n\u001b[1;32m     43\u001b[0m \u001b[0;34m\u001b[0m\u001b[0m\n\u001b[0;32m---> 44\u001b[0;31m     \u001b[0;32mdef\u001b[0m \u001b[0mforward\u001b[0m\u001b[0;34m(\u001b[0m\u001b[0mself\u001b[0m\u001b[0;34m,\u001b[0m \u001b[0mx\u001b[0m\u001b[0;34m)\u001b[0m\u001b[0;34m:\u001b[0m \u001b[0;32mreturn\u001b[0m \u001b[0mself\u001b[0m\u001b[0;34m.\u001b[0m\u001b[0mlayers\u001b[0m\u001b[0;34m(\u001b[0m\u001b[0mx\u001b[0m\u001b[0;34m)\u001b[0m\u001b[0;34m\u001b[0m\u001b[0m\n\u001b[0m\u001b[1;32m     45\u001b[0m \u001b[0;34m\u001b[0m\u001b[0m\n\u001b[1;32m     46\u001b[0m \u001b[0;32mdef\u001b[0m \u001b[0mdarknet_53\u001b[0m\u001b[0;34m(\u001b[0m\u001b[0mnum_classes\u001b[0m\u001b[0;34m=\u001b[0m\u001b[0;36m1000\u001b[0m\u001b[0;34m)\u001b[0m\u001b[0;34m:\u001b[0m    \u001b[0;32mreturn\u001b[0m \u001b[0mDarknet\u001b[0m\u001b[0;34m(\u001b[0m\u001b[0;34m[\u001b[0m\u001b[0;36m1\u001b[0m\u001b[0;34m,\u001b[0m\u001b[0;36m2\u001b[0m\u001b[0;34m,\u001b[0m\u001b[0;36m8\u001b[0m\u001b[0;34m,\u001b[0m\u001b[0;36m8\u001b[0m\u001b[0;34m,\u001b[0m\u001b[0;36m4\u001b[0m\u001b[0;34m]\u001b[0m\u001b[0;34m,\u001b[0m \u001b[0mnum_classes\u001b[0m\u001b[0;34m)\u001b[0m\u001b[0;34m\u001b[0m\u001b[0m\n",
      "\u001b[0;32m~/src/anaconda3/envs/fastai/lib/python3.6/site-packages/torch/nn/modules/module.py\u001b[0m in \u001b[0;36m__call__\u001b[0;34m(self, *input, **kwargs)\u001b[0m\n\u001b[1;32m    355\u001b[0m             \u001b[0mresult\u001b[0m \u001b[0;34m=\u001b[0m \u001b[0mself\u001b[0m\u001b[0;34m.\u001b[0m\u001b[0m_slow_forward\u001b[0m\u001b[0;34m(\u001b[0m\u001b[0;34m*\u001b[0m\u001b[0minput\u001b[0m\u001b[0;34m,\u001b[0m \u001b[0;34m**\u001b[0m\u001b[0mkwargs\u001b[0m\u001b[0;34m)\u001b[0m\u001b[0;34m\u001b[0m\u001b[0m\n\u001b[1;32m    356\u001b[0m         \u001b[0;32melse\u001b[0m\u001b[0;34m:\u001b[0m\u001b[0;34m\u001b[0m\u001b[0m\n\u001b[0;32m--> 357\u001b[0;31m             \u001b[0mresult\u001b[0m \u001b[0;34m=\u001b[0m \u001b[0mself\u001b[0m\u001b[0;34m.\u001b[0m\u001b[0mforward\u001b[0m\u001b[0;34m(\u001b[0m\u001b[0;34m*\u001b[0m\u001b[0minput\u001b[0m\u001b[0;34m,\u001b[0m \u001b[0;34m**\u001b[0m\u001b[0mkwargs\u001b[0m\u001b[0;34m)\u001b[0m\u001b[0;34m\u001b[0m\u001b[0m\n\u001b[0m\u001b[1;32m    358\u001b[0m         \u001b[0;32mfor\u001b[0m \u001b[0mhook\u001b[0m \u001b[0;32min\u001b[0m \u001b[0mself\u001b[0m\u001b[0;34m.\u001b[0m\u001b[0m_forward_hooks\u001b[0m\u001b[0;34m.\u001b[0m\u001b[0mvalues\u001b[0m\u001b[0;34m(\u001b[0m\u001b[0;34m)\u001b[0m\u001b[0;34m:\u001b[0m\u001b[0;34m\u001b[0m\u001b[0m\n\u001b[1;32m    359\u001b[0m             \u001b[0mhook_result\u001b[0m \u001b[0;34m=\u001b[0m \u001b[0mhook\u001b[0m\u001b[0;34m(\u001b[0m\u001b[0mself\u001b[0m\u001b[0;34m,\u001b[0m \u001b[0minput\u001b[0m\u001b[0;34m,\u001b[0m \u001b[0mresult\u001b[0m\u001b[0;34m)\u001b[0m\u001b[0;34m\u001b[0m\u001b[0m\n",
      "\u001b[0;32m~/src/anaconda3/envs/fastai/lib/python3.6/site-packages/torch/nn/modules/container.py\u001b[0m in \u001b[0;36mforward\u001b[0;34m(self, input)\u001b[0m\n\u001b[1;32m     65\u001b[0m     \u001b[0;32mdef\u001b[0m \u001b[0mforward\u001b[0m\u001b[0;34m(\u001b[0m\u001b[0mself\u001b[0m\u001b[0;34m,\u001b[0m \u001b[0minput\u001b[0m\u001b[0;34m)\u001b[0m\u001b[0;34m:\u001b[0m\u001b[0;34m\u001b[0m\u001b[0m\n\u001b[1;32m     66\u001b[0m         \u001b[0;32mfor\u001b[0m \u001b[0mmodule\u001b[0m \u001b[0;32min\u001b[0m \u001b[0mself\u001b[0m\u001b[0;34m.\u001b[0m\u001b[0m_modules\u001b[0m\u001b[0;34m.\u001b[0m\u001b[0mvalues\u001b[0m\u001b[0;34m(\u001b[0m\u001b[0;34m)\u001b[0m\u001b[0;34m:\u001b[0m\u001b[0;34m\u001b[0m\u001b[0m\n\u001b[0;32m---> 67\u001b[0;31m             \u001b[0minput\u001b[0m \u001b[0;34m=\u001b[0m \u001b[0mmodule\u001b[0m\u001b[0;34m(\u001b[0m\u001b[0minput\u001b[0m\u001b[0;34m)\u001b[0m\u001b[0;34m\u001b[0m\u001b[0m\n\u001b[0m\u001b[1;32m     68\u001b[0m         \u001b[0;32mreturn\u001b[0m \u001b[0minput\u001b[0m\u001b[0;34m\u001b[0m\u001b[0m\n\u001b[1;32m     69\u001b[0m \u001b[0;34m\u001b[0m\u001b[0m\n",
      "\u001b[0;32m~/src/anaconda3/envs/fastai/lib/python3.6/site-packages/torch/nn/modules/module.py\u001b[0m in \u001b[0;36m__call__\u001b[0;34m(self, *input, **kwargs)\u001b[0m\n\u001b[1;32m    355\u001b[0m             \u001b[0mresult\u001b[0m \u001b[0;34m=\u001b[0m \u001b[0mself\u001b[0m\u001b[0;34m.\u001b[0m\u001b[0m_slow_forward\u001b[0m\u001b[0;34m(\u001b[0m\u001b[0;34m*\u001b[0m\u001b[0minput\u001b[0m\u001b[0;34m,\u001b[0m \u001b[0;34m**\u001b[0m\u001b[0mkwargs\u001b[0m\u001b[0;34m)\u001b[0m\u001b[0;34m\u001b[0m\u001b[0m\n\u001b[1;32m    356\u001b[0m         \u001b[0;32melse\u001b[0m\u001b[0;34m:\u001b[0m\u001b[0;34m\u001b[0m\u001b[0m\n\u001b[0;32m--> 357\u001b[0;31m             \u001b[0mresult\u001b[0m \u001b[0;34m=\u001b[0m \u001b[0mself\u001b[0m\u001b[0;34m.\u001b[0m\u001b[0mforward\u001b[0m\u001b[0;34m(\u001b[0m\u001b[0;34m*\u001b[0m\u001b[0minput\u001b[0m\u001b[0;34m,\u001b[0m \u001b[0;34m**\u001b[0m\u001b[0mkwargs\u001b[0m\u001b[0;34m)\u001b[0m\u001b[0;34m\u001b[0m\u001b[0m\n\u001b[0m\u001b[1;32m    358\u001b[0m         \u001b[0;32mfor\u001b[0m \u001b[0mhook\u001b[0m \u001b[0;32min\u001b[0m \u001b[0mself\u001b[0m\u001b[0;34m.\u001b[0m\u001b[0m_forward_hooks\u001b[0m\u001b[0;34m.\u001b[0m\u001b[0mvalues\u001b[0m\u001b[0;34m(\u001b[0m\u001b[0;34m)\u001b[0m\u001b[0;34m:\u001b[0m\u001b[0;34m\u001b[0m\u001b[0m\n\u001b[1;32m    359\u001b[0m             \u001b[0mhook_result\u001b[0m \u001b[0;34m=\u001b[0m \u001b[0mhook\u001b[0m\u001b[0;34m(\u001b[0m\u001b[0mself\u001b[0m\u001b[0;34m,\u001b[0m \u001b[0minput\u001b[0m\u001b[0;34m,\u001b[0m \u001b[0mresult\u001b[0m\u001b[0;34m)\u001b[0m\u001b[0;34m\u001b[0m\u001b[0m\n",
      "\u001b[0;32m~/Kaukasos/FADL2/fastai/models/darknet.py\u001b[0m in \u001b[0;36mforward\u001b[0;34m(self, x)\u001b[0m\n\u001b[1;32m     13\u001b[0m         \u001b[0mself\u001b[0m\u001b[0;34m.\u001b[0m\u001b[0mrelu\u001b[0m \u001b[0;34m=\u001b[0m \u001b[0mnn\u001b[0m\u001b[0;34m.\u001b[0m\u001b[0mLeakyReLU\u001b[0m\u001b[0;34m(\u001b[0m\u001b[0;36m0.1\u001b[0m\u001b[0;34m,\u001b[0m \u001b[0minplace\u001b[0m\u001b[0;34m=\u001b[0m\u001b[0;32mTrue\u001b[0m\u001b[0;34m)\u001b[0m\u001b[0;34m\u001b[0m\u001b[0m\n\u001b[1;32m     14\u001b[0m \u001b[0;34m\u001b[0m\u001b[0m\n\u001b[0;32m---> 15\u001b[0;31m     \u001b[0;32mdef\u001b[0m \u001b[0mforward\u001b[0m\u001b[0;34m(\u001b[0m\u001b[0mself\u001b[0m\u001b[0;34m,\u001b[0m \u001b[0mx\u001b[0m\u001b[0;34m)\u001b[0m\u001b[0;34m:\u001b[0m \u001b[0;32mreturn\u001b[0m \u001b[0mself\u001b[0m\u001b[0;34m.\u001b[0m\u001b[0mrelu\u001b[0m\u001b[0;34m(\u001b[0m\u001b[0mself\u001b[0m\u001b[0;34m.\u001b[0m\u001b[0mbn\u001b[0m\u001b[0;34m(\u001b[0m\u001b[0mself\u001b[0m\u001b[0;34m.\u001b[0m\u001b[0mconv\u001b[0m\u001b[0;34m(\u001b[0m\u001b[0mx\u001b[0m\u001b[0;34m)\u001b[0m\u001b[0;34m)\u001b[0m\u001b[0;34m)\u001b[0m\u001b[0;34m\u001b[0m\u001b[0m\n\u001b[0m\u001b[1;32m     16\u001b[0m \u001b[0;34m\u001b[0m\u001b[0m\n\u001b[1;32m     17\u001b[0m \u001b[0;32mclass\u001b[0m \u001b[0mDarknetBlock\u001b[0m\u001b[0;34m(\u001b[0m\u001b[0mnn\u001b[0m\u001b[0;34m.\u001b[0m\u001b[0mModule\u001b[0m\u001b[0;34m)\u001b[0m\u001b[0;34m:\u001b[0m\u001b[0;34m\u001b[0m\u001b[0m\n",
      "\u001b[0;32m~/src/anaconda3/envs/fastai/lib/python3.6/site-packages/torch/nn/modules/module.py\u001b[0m in \u001b[0;36m__call__\u001b[0;34m(self, *input, **kwargs)\u001b[0m\n\u001b[1;32m    355\u001b[0m             \u001b[0mresult\u001b[0m \u001b[0;34m=\u001b[0m \u001b[0mself\u001b[0m\u001b[0;34m.\u001b[0m\u001b[0m_slow_forward\u001b[0m\u001b[0;34m(\u001b[0m\u001b[0;34m*\u001b[0m\u001b[0minput\u001b[0m\u001b[0;34m,\u001b[0m \u001b[0;34m**\u001b[0m\u001b[0mkwargs\u001b[0m\u001b[0;34m)\u001b[0m\u001b[0;34m\u001b[0m\u001b[0m\n\u001b[1;32m    356\u001b[0m         \u001b[0;32melse\u001b[0m\u001b[0;34m:\u001b[0m\u001b[0;34m\u001b[0m\u001b[0m\n\u001b[0;32m--> 357\u001b[0;31m             \u001b[0mresult\u001b[0m \u001b[0;34m=\u001b[0m \u001b[0mself\u001b[0m\u001b[0;34m.\u001b[0m\u001b[0mforward\u001b[0m\u001b[0;34m(\u001b[0m\u001b[0;34m*\u001b[0m\u001b[0minput\u001b[0m\u001b[0;34m,\u001b[0m \u001b[0;34m**\u001b[0m\u001b[0mkwargs\u001b[0m\u001b[0;34m)\u001b[0m\u001b[0;34m\u001b[0m\u001b[0m\n\u001b[0m\u001b[1;32m    358\u001b[0m         \u001b[0;32mfor\u001b[0m \u001b[0mhook\u001b[0m \u001b[0;32min\u001b[0m \u001b[0mself\u001b[0m\u001b[0;34m.\u001b[0m\u001b[0m_forward_hooks\u001b[0m\u001b[0;34m.\u001b[0m\u001b[0mvalues\u001b[0m\u001b[0;34m(\u001b[0m\u001b[0;34m)\u001b[0m\u001b[0;34m:\u001b[0m\u001b[0;34m\u001b[0m\u001b[0m\n\u001b[1;32m    359\u001b[0m             \u001b[0mhook_result\u001b[0m \u001b[0;34m=\u001b[0m \u001b[0mhook\u001b[0m\u001b[0;34m(\u001b[0m\u001b[0mself\u001b[0m\u001b[0;34m,\u001b[0m \u001b[0minput\u001b[0m\u001b[0;34m,\u001b[0m \u001b[0mresult\u001b[0m\u001b[0;34m)\u001b[0m\u001b[0;34m\u001b[0m\u001b[0m\n",
      "\u001b[0;32m~/src/anaconda3/envs/fastai/lib/python3.6/site-packages/torch/nn/modules/conv.py\u001b[0m in \u001b[0;36mforward\u001b[0;34m(self, input)\u001b[0m\n\u001b[1;32m    280\u001b[0m     \u001b[0;32mdef\u001b[0m \u001b[0mforward\u001b[0m\u001b[0;34m(\u001b[0m\u001b[0mself\u001b[0m\u001b[0;34m,\u001b[0m \u001b[0minput\u001b[0m\u001b[0;34m)\u001b[0m\u001b[0;34m:\u001b[0m\u001b[0;34m\u001b[0m\u001b[0m\n\u001b[1;32m    281\u001b[0m         return F.conv2d(input, self.weight, self.bias, self.stride,\n\u001b[0;32m--> 282\u001b[0;31m                         self.padding, self.dilation, self.groups)\n\u001b[0m\u001b[1;32m    283\u001b[0m \u001b[0;34m\u001b[0m\u001b[0m\n\u001b[1;32m    284\u001b[0m \u001b[0;34m\u001b[0m\u001b[0m\n",
      "\u001b[0;32m~/src/anaconda3/envs/fastai/lib/python3.6/site-packages/torch/nn/functional.py\u001b[0m in \u001b[0;36mconv2d\u001b[0;34m(input, weight, bias, stride, padding, dilation, groups)\u001b[0m\n\u001b[1;32m     82\u001b[0m         \u001b[0;34m>>\u001b[0m\u001b[0;34m>\u001b[0m \u001b[0mF\u001b[0m\u001b[0;34m.\u001b[0m\u001b[0mconv2d\u001b[0m\u001b[0;34m(\u001b[0m\u001b[0minputs\u001b[0m\u001b[0;34m,\u001b[0m \u001b[0mfilters\u001b[0m\u001b[0;34m,\u001b[0m \u001b[0mpadding\u001b[0m\u001b[0;34m=\u001b[0m\u001b[0;36m1\u001b[0m\u001b[0;34m)\u001b[0m\u001b[0;34m\u001b[0m\u001b[0m\n\u001b[1;32m     83\u001b[0m     \"\"\"\n\u001b[0;32m---> 84\u001b[0;31m     \u001b[0;32mif\u001b[0m \u001b[0minput\u001b[0m \u001b[0;32mis\u001b[0m \u001b[0;32mnot\u001b[0m \u001b[0;32mNone\u001b[0m \u001b[0;32mand\u001b[0m \u001b[0minput\u001b[0m\u001b[0;34m.\u001b[0m\u001b[0mdim\u001b[0m\u001b[0;34m(\u001b[0m\u001b[0;34m)\u001b[0m \u001b[0;34m!=\u001b[0m \u001b[0;36m4\u001b[0m\u001b[0;34m:\u001b[0m\u001b[0;34m\u001b[0m\u001b[0m\n\u001b[0m\u001b[1;32m     85\u001b[0m         \u001b[0;32mraise\u001b[0m \u001b[0mValueError\u001b[0m\u001b[0;34m(\u001b[0m\u001b[0;34m\"Expected 4D tensor as input, got {}D tensor instead.\"\u001b[0m\u001b[0;34m.\u001b[0m\u001b[0mformat\u001b[0m\u001b[0;34m(\u001b[0m\u001b[0minput\u001b[0m\u001b[0;34m.\u001b[0m\u001b[0mdim\u001b[0m\u001b[0;34m(\u001b[0m\u001b[0;34m)\u001b[0m\u001b[0;34m)\u001b[0m\u001b[0;34m)\u001b[0m\u001b[0;34m\u001b[0m\u001b[0m\n\u001b[1;32m     86\u001b[0m \u001b[0;34m\u001b[0m\u001b[0m\n",
      "\u001b[0;31mAttributeError\u001b[0m: 'bool' object has no attribute 'dim'"
     ]
    }
   ],
   "source": [
    "learner = ConvLearner.pretrained(darknet53(), model_data)"
   ]
  },
  {
   "cell_type": "code",
   "execution_count": null,
   "metadata": {
    "hidden": true
   },
   "outputs": [],
   "source": [
    "learner.summary()"
   ]
  },
  {
   "cell_type": "code",
   "execution_count": null,
   "metadata": {
    "hidden": true
   },
   "outputs": [],
   "source": [
    "learner.lr_find()\n",
    "learner.sched.plot()"
   ]
  },
  {
   "cell_type": "markdown",
   "metadata": {},
   "source": [
    "## Testing Fix\n",
    "\n",
    "Testing addition of LogSoftmax layer to fastai.models.darknet.Darknet definition"
   ]
  },
  {
   "cell_type": "code",
   "execution_count": 1,
   "metadata": {},
   "outputs": [],
   "source": [
    "from pathlib import Path\n",
    "from fastai.conv_learner import *\n",
    "from fastai.models import darknet"
   ]
  },
  {
   "cell_type": "code",
   "execution_count": 2,
   "metadata": {},
   "outputs": [],
   "source": [
    "PATH = Path('data/imagenet')\n",
    "\n",
    "sz = 256; bs=32\n",
    "\n",
    "tfms = tfms_from_stats(imagenet_stats, sz)\n",
    "model_data = ImageClassifierData.from_paths(PATH, bs=bs, tfms=tfms, val_name='train')\n",
    "\n",
    "darknet53 = darknet.darknet_53"
   ]
  },
  {
   "cell_type": "code",
   "execution_count": 3,
   "metadata": {},
   "outputs": [],
   "source": [
    "learner = ConvLearner.from_model_data(darknet53(), model_data)"
   ]
  },
  {
   "cell_type": "code",
   "execution_count": 4,
   "metadata": {},
   "outputs": [],
   "source": [
    "# learner.summary()"
   ]
  },
  {
   "cell_type": "code",
   "execution_count": 5,
   "metadata": {},
   "outputs": [
    {
     "data": {
      "application/vnd.jupyter.widget-view+json": {
       "model_id": "9fde50e016a6491fb8c8d2b6920e553b",
       "version_major": 2,
       "version_minor": 0
      },
      "text/plain": [
       "HBox(children=(IntProgress(value=0, description='Epoch', max=1), HTML(value='')))"
      ]
     },
     "metadata": {},
     "output_type": "display_data"
    },
    {
     "name": "stdout",
     "output_type": "stream",
     "text": [
      " 92%|█████████▏| 448/487 [33:30<02:55,  4.49s/it, loss=28.3]"
     ]
    },
    {
     "data": {
      "image/png": "[encoded data removed]",
      "text/plain": [
       "<Figure size 432x288 with 1 Axes>"
      ]
     },
     "metadata": {},
     "output_type": "display_data"
    }
   ],
   "source": [
    "learner.lr_find()\n",
    "learner.sched.plot()"
   ]
  },
  {
   "cell_type": "code",
   "execution_count": 6,
   "metadata": {
    "scrolled": false
   },
   "outputs": [
    {
     "data": {
      "text/plain": [
       "OrderedDict([('Conv2d-1',\n",
       "              OrderedDict([('input_shape', [-1, 3, 256, 256]),\n",
       "                           ('output_shape', [-1, 32, 256, 256]),\n",
       "                           ('trainable', True),\n",
       "                           ('nb_params', 864)])),\n",
       "             ('BatchNorm2d-2',\n",
       "              OrderedDict([('input_shape', [-1, 32, 256, 256]),\n",
       "                           ('output_shape', [-1, 32, 256, 256]),\n",
       "                           ('trainable', True),\n",
       "                           ('nb_params', 64)])),\n",
       "             ('LeakyReLU-3',\n",
       "              OrderedDict([('input_shape', [-1, 32, 256, 256]),\n",
       "                           ('output_shape', [-1, 32, 256, 256]),\n",
       "                           ('nb_params', 0)])),\n",
       "             ('ConvBN-4',\n",
       "              OrderedDict([('input_shape', [-1, 3, 256, 256]),\n",
       "                           ('output_shape', [-1, 32, 256, 256]),\n",
       "                           ('nb_params', 0)])),\n",
       "             ('Conv2d-5',\n",
       "              OrderedDict([('input_shape', [-1, 32, 256, 256]),\n",
       "                           ('output_shape', [-1, 64, 127, 127]),\n",
       "                           ('trainable', True),\n",
       "                           ('nb_params', 18432)])),\n",
       "             ('BatchNorm2d-6',\n",
       "              OrderedDict([('input_shape', [-1, 64, 127, 127]),\n",
       "                           ('output_shape', [-1, 64, 127, 127]),\n",
       "                           ('trainable', True),\n",
       "                           ('nb_params', 128)])),\n",
       "             ('LeakyReLU-7',\n",
       "              OrderedDict([('input_shape', [-1, 64, 127, 127]),\n",
       "                           ('output_shape', [-1, 64, 127, 127]),\n",
       "                           ('nb_params', 0)])),\n",
       "             ('ConvBN-8',\n",
       "              OrderedDict([('input_shape', [-1, 32, 256, 256]),\n",
       "                           ('output_shape', [-1, 64, 127, 127]),\n",
       "                           ('nb_params', 0)])),\n",
       "             ('Conv2d-9',\n",
       "              OrderedDict([('input_shape', [-1, 64, 127, 127]),\n",
       "                           ('output_shape', [-1, 32, 127, 127]),\n",
       "                           ('trainable', True),\n",
       "                           ('nb_params', 2048)])),\n",
       "             ('BatchNorm2d-10',\n",
       "              OrderedDict([('input_shape', [-1, 32, 127, 127]),\n",
       "                           ('output_shape', [-1, 32, 127, 127]),\n",
       "                           ('trainable', True),\n",
       "                           ('nb_params', 64)])),\n",
       "             ('LeakyReLU-11',\n",
       "              OrderedDict([('input_shape', [-1, 32, 127, 127]),\n",
       "                           ('output_shape', [-1, 32, 127, 127]),\n",
       "                           ('nb_params', 0)])),\n",
       "             ('ConvBN-12',\n",
       "              OrderedDict([('input_shape', [-1, 64, 127, 127]),\n",
       "                           ('output_shape', [-1, 32, 127, 127]),\n",
       "                           ('nb_params', 0)])),\n",
       "             ('Conv2d-13',\n",
       "              OrderedDict([('input_shape', [-1, 32, 127, 127]),\n",
       "                           ('output_shape', [-1, 64, 127, 127]),\n",
       "                           ('trainable', True),\n",
       "                           ('nb_params', 18432)])),\n",
       "             ('BatchNorm2d-14',\n",
       "              OrderedDict([('input_shape', [-1, 64, 127, 127]),\n",
       "                           ('output_shape', [-1, 64, 127, 127]),\n",
       "                           ('trainable', True),\n",
       "                           ('nb_params', 128)])),\n",
       "             ('LeakyReLU-15',\n",
       "              OrderedDict([('input_shape', [-1, 64, 127, 127]),\n",
       "                           ('output_shape', [-1, 64, 127, 127]),\n",
       "                           ('nb_params', 0)])),\n",
       "             ('ConvBN-16',\n",
       "              OrderedDict([('input_shape', [-1, 32, 127, 127]),\n",
       "                           ('output_shape', [-1, 64, 127, 127]),\n",
       "                           ('nb_params', 0)])),\n",
       "             ('DarknetBlock-17',\n",
       "              OrderedDict([('input_shape', [-1, 64, 127, 127]),\n",
       "                           ('output_shape', [-1, 64, 127, 127]),\n",
       "                           ('nb_params', 0)])),\n",
       "             ('Conv2d-18',\n",
       "              OrderedDict([('input_shape', [-1, 64, 127, 127]),\n",
       "                           ('output_shape', [-1, 128, 125, 125]),\n",
       "                           ('trainable', True),\n",
       "                           ('nb_params', 73728)])),\n",
       "             ('BatchNorm2d-19',\n",
       "              OrderedDict([('input_shape', [-1, 128, 125, 125]),\n",
       "                           ('output_shape', [-1, 128, 125, 125]),\n",
       "                           ('trainable', True),\n",
       "                           ('nb_params', 256)])),\n",
       "             ('LeakyReLU-20',\n",
       "              OrderedDict([('input_shape', [-1, 128, 125, 125]),\n",
       "                           ('output_shape', [-1, 128, 125, 125]),\n",
       "                           ('nb_params', 0)])),\n",
       "             ('ConvBN-21',\n",
       "              OrderedDict([('input_shape', [-1, 64, 127, 127]),\n",
       "                           ('output_shape', [-1, 128, 125, 125]),\n",
       "                           ('nb_params', 0)])),\n",
       "             ('Conv2d-22',\n",
       "              OrderedDict([('input_shape', [-1, 128, 125, 125]),\n",
       "                           ('output_shape', [-1, 64, 125, 125]),\n",
       "                           ('trainable', True),\n",
       "                           ('nb_params', 8192)])),\n",
       "             ('BatchNorm2d-23',\n",
       "              OrderedDict([('input_shape', [-1, 64, 125, 125]),\n",
       "                           ('output_shape', [-1, 64, 125, 125]),\n",
       "                           ('trainable', True),\n",
       "                           ('nb_params', 128)])),\n",
       "             ('LeakyReLU-24',\n",
       "              OrderedDict([('input_shape', [-1, 64, 125, 125]),\n",
       "                           ('output_shape', [-1, 64, 125, 125]),\n",
       "                           ('nb_params', 0)])),\n",
       "             ('ConvBN-25',\n",
       "              OrderedDict([('input_shape', [-1, 128, 125, 125]),\n",
       "                           ('output_shape', [-1, 64, 125, 125]),\n",
       "                           ('nb_params', 0)])),\n",
       "             ('Conv2d-26',\n",
       "              OrderedDict([('input_shape', [-1, 64, 125, 125]),\n",
       "                           ('output_shape', [-1, 128, 125, 125]),\n",
       "                           ('trainable', True),\n",
       "                           ('nb_params', 73728)])),\n",
       "             ('BatchNorm2d-27',\n",
       "              OrderedDict([('input_shape', [-1, 128, 125, 125]),\n",
       "                           ('output_shape', [-1, 128, 125, 125]),\n",
       "                           ('trainable', True),\n",
       "                           ('nb_params', 256)])),\n",
       "             ('LeakyReLU-28',\n",
       "              OrderedDict([('input_shape', [-1, 128, 125, 125]),\n",
       "                           ('output_shape', [-1, 128, 125, 125]),\n",
       "                           ('nb_params', 0)])),\n",
       "             ('ConvBN-29',\n",
       "              OrderedDict([('input_shape', [-1, 64, 125, 125]),\n",
       "                           ('output_shape', [-1, 128, 125, 125]),\n",
       "                           ('nb_params', 0)])),\n",
       "             ('DarknetBlock-30',\n",
       "              OrderedDict([('input_shape', [-1, 128, 125, 125]),\n",
       "                           ('output_shape', [-1, 128, 125, 125]),\n",
       "                           ('nb_params', 0)])),\n",
       "             ('Conv2d-31',\n",
       "              OrderedDict([('input_shape', [-1, 128, 125, 125]),\n",
       "                           ('output_shape', [-1, 64, 125, 125]),\n",
       "                           ('trainable', True),\n",
       "                           ('nb_params', 8192)])),\n",
       "             ('BatchNorm2d-32',\n",
       "              OrderedDict([('input_shape', [-1, 64, 125, 125]),\n",
       "                           ('output_shape', [-1, 64, 125, 125]),\n",
       "                           ('trainable', True),\n",
       "                           ('nb_params', 128)])),\n",
       "             ('LeakyReLU-33',\n",
       "              OrderedDict([('input_shape', [-1, 64, 125, 125]),\n",
       "                           ('output_shape', [-1, 64, 125, 125]),\n",
       "                           ('nb_params', 0)])),\n",
       "             ('ConvBN-34',\n",
       "              OrderedDict([('input_shape', [-1, 128, 125, 125]),\n",
       "                           ('output_shape', [-1, 64, 125, 125]),\n",
       "                           ('nb_params', 0)])),\n",
       "             ('Conv2d-35',\n",
       "              OrderedDict([('input_shape', [-1, 64, 125, 125]),\n",
       "                           ('output_shape', [-1, 128, 125, 125]),\n",
       "                           ('trainable', True),\n",
       "                           ('nb_params', 73728)])),\n",
       "             ('BatchNorm2d-36',\n",
       "              OrderedDict([('input_shape', [-1, 128, 125, 125]),\n",
       "                           ('output_shape', [-1, 128, 125, 125]),\n",
       "                           ('trainable', True),\n",
       "                           ('nb_params', 256)])),\n",
       "             ('LeakyReLU-37',\n",
       "              OrderedDict([('input_shape', [-1, 128, 125, 125]),\n",
       "                           ('output_shape', [-1, 128, 125, 125]),\n",
       "                           ('nb_params', 0)])),\n",
       "             ('ConvBN-38',\n",
       "              OrderedDict([('input_shape', [-1, 64, 125, 125]),\n",
       "                           ('output_shape', [-1, 128, 125, 125]),\n",
       "                           ('nb_params', 0)])),\n",
       "             ('DarknetBlock-39',\n",
       "              OrderedDict([('input_shape', [-1, 128, 125, 125]),\n",
       "                           ('output_shape', [-1, 128, 125, 125]),\n",
       "                           ('nb_params', 0)])),\n",
       "             ('Conv2d-40',\n",
       "              OrderedDict([('input_shape', [-1, 128, 125, 125]),\n",
       "                           ('output_shape', [-1, 256, 62, 62]),\n",
       "                           ('trainable', True),\n",
       "                           ('nb_params', 294912)])),\n",
       "             ('BatchNorm2d-41',\n",
       "              OrderedDict([('input_shape', [-1, 256, 62, 62]),\n",
       "                           ('output_shape', [-1, 256, 62, 62]),\n",
       "                           ('trainable', True),\n",
       "                           ('nb_params', 512)])),\n",
       "             ('LeakyReLU-42',\n",
       "              OrderedDict([('input_shape', [-1, 256, 62, 62]),\n",
       "                           ('output_shape', [-1, 256, 62, 62]),\n",
       "                           ('nb_params', 0)])),\n",
       "             ('ConvBN-43',\n",
       "              OrderedDict([('input_shape', [-1, 128, 125, 125]),\n",
       "                           ('output_shape', [-1, 256, 62, 62]),\n",
       "                           ('nb_params', 0)])),\n",
       "             ('Conv2d-44',\n",
       "              OrderedDict([('input_shape', [-1, 256, 62, 62]),\n",
       "                           ('output_shape', [-1, 128, 62, 62]),\n",
       "                           ('trainable', True),\n",
       "                           ('nb_params', 32768)])),\n",
       "             ('BatchNorm2d-45',\n",
       "              OrderedDict([('input_shape', [-1, 128, 62, 62]),\n",
       "                           ('output_shape', [-1, 128, 62, 62]),\n",
       "                           ('trainable', True),\n",
       "                           ('nb_params', 256)])),\n",
       "             ('LeakyReLU-46',\n",
       "              OrderedDict([('input_shape', [-1, 128, 62, 62]),\n",
       "                           ('output_shape', [-1, 128, 62, 62]),\n",
       "                           ('nb_params', 0)])),\n",
       "             ('ConvBN-47',\n",
       "              OrderedDict([('input_shape', [-1, 256, 62, 62]),\n",
       "                           ('output_shape', [-1, 128, 62, 62]),\n",
       "                           ('nb_params', 0)])),\n",
       "             ('Conv2d-48',\n",
       "              OrderedDict([('input_shape', [-1, 128, 62, 62]),\n",
       "                           ('output_shape', [-1, 256, 62, 62]),\n",
       "                           ('trainable', True),\n",
       "                           ('nb_params', 294912)])),\n",
       "             ('BatchNorm2d-49',\n",
       "              OrderedDict([('input_shape', [-1, 256, 62, 62]),\n",
       "                           ('output_shape', [-1, 256, 62, 62]),\n",
       "                           ('trainable', True),\n",
       "                           ('nb_params', 512)])),\n",
       "             ('LeakyReLU-50',\n",
       "              OrderedDict([('input_shape', [-1, 256, 62, 62]),\n",
       "                           ('output_shape', [-1, 256, 62, 62]),\n",
       "                           ('nb_params', 0)])),\n",
       "             ('ConvBN-51',\n",
       "              OrderedDict([('input_shape', [-1, 128, 62, 62]),\n",
       "                           ('output_shape', [-1, 256, 62, 62]),\n",
       "                           ('nb_params', 0)])),\n",
       "             ('DarknetBlock-52',\n",
       "              OrderedDict([('input_shape', [-1, 256, 62, 62]),\n",
       "                           ('output_shape', [-1, 256, 62, 62]),\n",
       "                           ('nb_params', 0)])),\n",
       "             ('Conv2d-53',\n",
       "              OrderedDict([('input_shape', [-1, 256, 62, 62]),\n",
       "                           ('output_shape', [-1, 128, 62, 62]),\n",
       "                           ('trainable', True),\n",
       "                           ('nb_params', 32768)])),\n",
       "             ('BatchNorm2d-54',\n",
       "              OrderedDict([('input_shape', [-1, 128, 62, 62]),\n",
       "                           ('output_shape', [-1, 128, 62, 62]),\n",
       "                           ('trainable', True),\n",
       "                           ('nb_params', 256)])),\n",
       "             ('LeakyReLU-55',\n",
       "              OrderedDict([('input_shape', [-1, 128, 62, 62]),\n",
       "                           ('output_shape', [-1, 128, 62, 62]),\n",
       "                           ('nb_params', 0)])),\n",
       "             ('ConvBN-56',\n",
       "              OrderedDict([('input_shape', [-1, 256, 62, 62]),\n",
       "                           ('output_shape', [-1, 128, 62, 62]),\n",
       "                           ('nb_params', 0)])),\n",
       "             ('Conv2d-57',\n",
       "              OrderedDict([('input_shape', [-1, 128, 62, 62]),\n",
       "                           ('output_shape', [-1, 256, 62, 62]),\n",
       "                           ('trainable', True),\n",
       "                           ('nb_params', 294912)])),\n",
       "             ('BatchNorm2d-58',\n",
       "              OrderedDict([('input_shape', [-1, 256, 62, 62]),\n",
       "                           ('output_shape', [-1, 256, 62, 62]),\n",
       "                           ('trainable', True),\n",
       "                           ('nb_params', 512)])),\n",
       "             ('LeakyReLU-59',\n",
       "              OrderedDict([('input_shape', [-1, 256, 62, 62]),\n",
       "                           ('output_shape', [-1, 256, 62, 62]),\n",
       "                           ('nb_params', 0)])),\n",
       "             ('ConvBN-60',\n",
       "              OrderedDict([('input_shape', [-1, 128, 62, 62]),\n",
       "                           ('output_shape', [-1, 256, 62, 62]),\n",
       "                           ('nb_params', 0)])),\n",
       "             ('DarknetBlock-61',\n",
       "              OrderedDict([('input_shape', [-1, 256, 62, 62]),\n",
       "                           ('output_shape', [-1, 256, 62, 62]),\n",
       "                           ('nb_params', 0)])),\n",
       "             ('Conv2d-62',\n",
       "              OrderedDict([('input_shape', [-1, 256, 62, 62]),\n",
       "                           ('output_shape', [-1, 128, 62, 62]),\n",
       "                           ('trainable', True),\n",
       "                           ('nb_params', 32768)])),\n",
       "             ('BatchNorm2d-63',\n",
       "              OrderedDict([('input_shape', [-1, 128, 62, 62]),\n",
       "                           ('output_shape', [-1, 128, 62, 62]),\n",
       "                           ('trainable', True),\n",
       "                           ('nb_params', 256)])),\n",
       "             ('LeakyReLU-64',\n",
       "              OrderedDict([('input_shape', [-1, 128, 62, 62]),\n",
       "                           ('output_shape', [-1, 128, 62, 62]),\n",
       "                           ('nb_params', 0)])),\n",
       "             ('ConvBN-65',\n",
       "              OrderedDict([('input_shape', [-1, 256, 62, 62]),\n",
       "                           ('output_shape', [-1, 128, 62, 62]),\n",
       "                           ('nb_params', 0)])),\n",
       "             ('Conv2d-66',\n",
       "              OrderedDict([('input_shape', [-1, 128, 62, 62]),\n",
       "                           ('output_shape', [-1, 256, 62, 62]),\n",
       "                           ('trainable', True),\n",
       "                           ('nb_params', 294912)])),\n",
       "             ('BatchNorm2d-67',\n",
       "              OrderedDict([('input_shape', [-1, 256, 62, 62]),\n",
       "                           ('output_shape', [-1, 256, 62, 62]),\n",
       "                           ('trainable', True),\n",
       "                           ('nb_params', 512)])),\n",
       "             ('LeakyReLU-68',\n",
       "              OrderedDict([('input_shape', [-1, 256, 62, 62]),\n",
       "                           ('output_shape', [-1, 256, 62, 62]),\n",
       "                           ('nb_params', 0)])),\n",
       "             ('ConvBN-69',\n",
       "              OrderedDict([('input_shape', [-1, 128, 62, 62]),\n",
       "                           ('output_shape', [-1, 256, 62, 62]),\n",
       "                           ('nb_params', 0)])),\n",
       "             ('DarknetBlock-70',\n",
       "              OrderedDict([('input_shape', [-1, 256, 62, 62]),\n",
       "                           ('output_shape', [-1, 256, 62, 62]),\n",
       "                           ('nb_params', 0)])),\n",
       "             ('Conv2d-71',\n",
       "              OrderedDict([('input_shape', [-1, 256, 62, 62]),\n",
       "                           ('output_shape', [-1, 128, 62, 62]),\n",
       "                           ('trainable', True),\n",
       "                           ('nb_params', 32768)])),\n",
       "             ('BatchNorm2d-72',\n",
       "              OrderedDict([('input_shape', [-1, 128, 62, 62]),\n",
       "                           ('output_shape', [-1, 128, 62, 62]),\n",
       "                           ('trainable', True),\n",
       "                           ('nb_params', 256)])),\n",
       "             ('LeakyReLU-73',\n",
       "              OrderedDict([('input_shape', [-1, 128, 62, 62]),\n",
       "                           ('output_shape', [-1, 128, 62, 62]),\n",
       "                           ('nb_params', 0)])),\n",
       "             ('ConvBN-74',\n",
       "              OrderedDict([('input_shape', [-1, 256, 62, 62]),\n",
       "                           ('output_shape', [-1, 128, 62, 62]),\n",
       "                           ('nb_params', 0)])),\n",
       "             ('Conv2d-75',\n",
       "              OrderedDict([('input_shape', [-1, 128, 62, 62]),\n",
       "                           ('output_shape', [-1, 256, 62, 62]),\n",
       "                           ('trainable', True),\n",
       "                           ('nb_params', 294912)])),\n",
       "             ('BatchNorm2d-76',\n",
       "              OrderedDict([('input_shape', [-1, 256, 62, 62]),\n",
       "                           ('output_shape', [-1, 256, 62, 62]),\n",
       "                           ('trainable', True),\n",
       "                           ('nb_params', 512)])),\n",
       "             ('LeakyReLU-77',\n",
       "              OrderedDict([('input_shape', [-1, 256, 62, 62]),\n",
       "                           ('output_shape', [-1, 256, 62, 62]),\n",
       "                           ('nb_params', 0)])),\n",
       "             ('ConvBN-78',\n",
       "              OrderedDict([('input_shape', [-1, 128, 62, 62]),\n",
       "                           ('output_shape', [-1, 256, 62, 62]),\n",
       "                           ('nb_params', 0)])),\n",
       "             ('DarknetBlock-79',\n",
       "              OrderedDict([('input_shape', [-1, 256, 62, 62]),\n",
       "                           ('output_shape', [-1, 256, 62, 62]),\n",
       "                           ('nb_params', 0)])),\n",
       "             ('Conv2d-80',\n",
       "              OrderedDict([('input_shape', [-1, 256, 62, 62]),\n",
       "                           ('output_shape', [-1, 128, 62, 62]),\n",
       "                           ('trainable', True),\n",
       "                           ('nb_params', 32768)])),\n",
       "             ('BatchNorm2d-81',\n",
       "              OrderedDict([('input_shape', [-1, 128, 62, 62]),\n",
       "                           ('output_shape', [-1, 128, 62, 62]),\n",
       "                           ('trainable', True),\n",
       "                           ('nb_params', 256)])),\n",
       "             ('LeakyReLU-82',\n",
       "              OrderedDict([('input_shape', [-1, 128, 62, 62]),\n",
       "                           ('output_shape', [-1, 128, 62, 62]),\n",
       "                           ('nb_params', 0)])),\n",
       "             ('ConvBN-83',\n",
       "              OrderedDict([('input_shape', [-1, 256, 62, 62]),\n",
       "                           ('output_shape', [-1, 128, 62, 62]),\n",
       "                           ('nb_params', 0)])),\n",
       "             ('Conv2d-84',\n",
       "              OrderedDict([('input_shape', [-1, 128, 62, 62]),\n",
       "                           ('output_shape', [-1, 256, 62, 62]),\n",
       "                           ('trainable', True),\n",
       "                           ('nb_params', 294912)])),\n",
       "             ('BatchNorm2d-85',\n",
       "              OrderedDict([('input_shape', [-1, 256, 62, 62]),\n",
       "                           ('output_shape', [-1, 256, 62, 62]),\n",
       "                           ('trainable', True),\n",
       "                           ('nb_params', 512)])),\n",
       "             ('LeakyReLU-86',\n",
       "              OrderedDict([('input_shape', [-1, 256, 62, 62]),\n",
       "                           ('output_shape', [-1, 256, 62, 62]),\n",
       "                           ('nb_params', 0)])),\n",
       "             ('ConvBN-87',\n",
       "              OrderedDict([('input_shape', [-1, 128, 62, 62]),\n",
       "                           ('output_shape', [-1, 256, 62, 62]),\n",
       "                           ('nb_params', 0)])),\n",
       "             ('DarknetBlock-88',\n",
       "              OrderedDict([('input_shape', [-1, 256, 62, 62]),\n",
       "                           ('output_shape', [-1, 256, 62, 62]),\n",
       "                           ('nb_params', 0)])),\n",
       "             ('Conv2d-89',\n",
       "              OrderedDict([('input_shape', [-1, 256, 62, 62]),\n",
       "                           ('output_shape', [-1, 128, 62, 62]),\n",
       "                           ('trainable', True),\n",
       "                           ('nb_params', 32768)])),\n",
       "             ('BatchNorm2d-90',\n",
       "              OrderedDict([('input_shape', [-1, 128, 62, 62]),\n",
       "                           ('output_shape', [-1, 128, 62, 62]),\n",
       "                           ('trainable', True),\n",
       "                           ('nb_params', 256)])),\n",
       "             ('LeakyReLU-91',\n",
       "              OrderedDict([('input_shape', [-1, 128, 62, 62]),\n",
       "                           ('output_shape', [-1, 128, 62, 62]),\n",
       "                           ('nb_params', 0)])),\n",
       "             ('ConvBN-92',\n",
       "              OrderedDict([('input_shape', [-1, 256, 62, 62]),\n",
       "                           ('output_shape', [-1, 128, 62, 62]),\n",
       "                           ('nb_params', 0)])),\n",
       "             ('Conv2d-93',\n",
       "              OrderedDict([('input_shape', [-1, 128, 62, 62]),\n",
       "                           ('output_shape', [-1, 256, 62, 62]),\n",
       "                           ('trainable', True),\n",
       "                           ('nb_params', 294912)])),\n",
       "             ('BatchNorm2d-94',\n",
       "              OrderedDict([('input_shape', [-1, 256, 62, 62]),\n",
       "                           ('output_shape', [-1, 256, 62, 62]),\n",
       "                           ('trainable', True),\n",
       "                           ('nb_params', 512)])),\n",
       "             ('LeakyReLU-95',\n",
       "              OrderedDict([('input_shape', [-1, 256, 62, 62]),\n",
       "                           ('output_shape', [-1, 256, 62, 62]),\n",
       "                           ('nb_params', 0)])),\n",
       "             ('ConvBN-96',\n",
       "              OrderedDict([('input_shape', [-1, 128, 62, 62]),\n",
       "                           ('output_shape', [-1, 256, 62, 62]),\n",
       "                           ('nb_params', 0)])),\n",
       "             ('DarknetBlock-97',\n",
       "              OrderedDict([('input_shape', [-1, 256, 62, 62]),\n",
       "                           ('output_shape', [-1, 256, 62, 62]),\n",
       "                           ('nb_params', 0)])),\n",
       "             ('Conv2d-98',\n",
       "              OrderedDict([('input_shape', [-1, 256, 62, 62]),\n",
       "                           ('output_shape', [-1, 128, 62, 62]),\n",
       "                           ('trainable', True),\n",
       "                           ('nb_params', 32768)])),\n",
       "             ('BatchNorm2d-99',\n",
       "              OrderedDict([('input_shape', [-1, 128, 62, 62]),\n",
       "                           ('output_shape', [-1, 128, 62, 62]),\n",
       "                           ('trainable', True),\n",
       "                           ('nb_params', 256)])),\n",
       "             ('LeakyReLU-100',\n",
       "              OrderedDict([('input_shape', [-1, 128, 62, 62]),\n",
       "                           ('output_shape', [-1, 128, 62, 62]),\n",
       "                           ('nb_params', 0)])),\n",
       "             ('ConvBN-101',\n",
       "              OrderedDict([('input_shape', [-1, 256, 62, 62]),\n",
       "                           ('output_shape', [-1, 128, 62, 62]),\n",
       "                           ('nb_params', 0)])),\n",
       "             ('Conv2d-102',\n",
       "              OrderedDict([('input_shape', [-1, 128, 62, 62]),\n",
       "                           ('output_shape', [-1, 256, 62, 62]),\n",
       "                           ('trainable', True),\n",
       "                           ('nb_params', 294912)])),\n",
       "             ('BatchNorm2d-103',\n",
       "              OrderedDict([('input_shape', [-1, 256, 62, 62]),\n",
       "                           ('output_shape', [-1, 256, 62, 62]),\n",
       "                           ('trainable', True),\n",
       "                           ('nb_params', 512)])),\n",
       "             ('LeakyReLU-104',\n",
       "              OrderedDict([('input_shape', [-1, 256, 62, 62]),\n",
       "                           ('output_shape', [-1, 256, 62, 62]),\n",
       "                           ('nb_params', 0)])),\n",
       "             ('ConvBN-105',\n",
       "              OrderedDict([('input_shape', [-1, 128, 62, 62]),\n",
       "                           ('output_shape', [-1, 256, 62, 62]),\n",
       "                           ('nb_params', 0)])),\n",
       "             ('DarknetBlock-106',\n",
       "              OrderedDict([('input_shape', [-1, 256, 62, 62]),\n",
       "                           ('output_shape', [-1, 256, 62, 62]),\n",
       "                           ('nb_params', 0)])),\n",
       "             ('Conv2d-107',\n",
       "              OrderedDict([('input_shape', [-1, 256, 62, 62]),\n",
       "                           ('output_shape', [-1, 128, 62, 62]),\n",
       "                           ('trainable', True),\n",
       "                           ('nb_params', 32768)])),\n",
       "             ('BatchNorm2d-108',\n",
       "              OrderedDict([('input_shape', [-1, 128, 62, 62]),\n",
       "                           ('output_shape', [-1, 128, 62, 62]),\n",
       "                           ('trainable', True),\n",
       "                           ('nb_params', 256)])),\n",
       "             ('LeakyReLU-109',\n",
       "              OrderedDict([('input_shape', [-1, 128, 62, 62]),\n",
       "                           ('output_shape', [-1, 128, 62, 62]),\n",
       "                           ('nb_params', 0)])),\n",
       "             ('ConvBN-110',\n",
       "              OrderedDict([('input_shape', [-1, 256, 62, 62]),\n",
       "                           ('output_shape', [-1, 128, 62, 62]),\n",
       "                           ('nb_params', 0)])),\n",
       "             ('Conv2d-111',\n",
       "              OrderedDict([('input_shape', [-1, 128, 62, 62]),\n",
       "                           ('output_shape', [-1, 256, 62, 62]),\n",
       "                           ('trainable', True),\n",
       "                           ('nb_params', 294912)])),\n",
       "             ('BatchNorm2d-112',\n",
       "              OrderedDict([('input_shape', [-1, 256, 62, 62]),\n",
       "                           ('output_shape', [-1, 256, 62, 62]),\n",
       "                           ('trainable', True),\n",
       "                           ('nb_params', 512)])),\n",
       "             ('LeakyReLU-113',\n",
       "              OrderedDict([('input_shape', [-1, 256, 62, 62]),\n",
       "                           ('output_shape', [-1, 256, 62, 62]),\n",
       "                           ('nb_params', 0)])),\n",
       "             ('ConvBN-114',\n",
       "              OrderedDict([('input_shape', [-1, 128, 62, 62]),\n",
       "                           ('output_shape', [-1, 256, 62, 62]),\n",
       "                           ('nb_params', 0)])),\n",
       "             ('DarknetBlock-115',\n",
       "              OrderedDict([('input_shape', [-1, 256, 62, 62]),\n",
       "                           ('output_shape', [-1, 256, 62, 62]),\n",
       "                           ('nb_params', 0)])),\n",
       "             ('Conv2d-116',\n",
       "              OrderedDict([('input_shape', [-1, 256, 62, 62]),\n",
       "                           ('output_shape', [-1, 512, 30, 30]),\n",
       "                           ('trainable', True),\n",
       "                           ('nb_params', 1179648)])),\n",
       "             ('BatchNorm2d-117',\n",
       "              OrderedDict([('input_shape', [-1, 512, 30, 30]),\n",
       "                           ('output_shape', [-1, 512, 30, 30]),\n",
       "                           ('trainable', True),\n",
       "                           ('nb_params', 1024)])),\n",
       "             ('LeakyReLU-118',\n",
       "              OrderedDict([('input_shape', [-1, 512, 30, 30]),\n",
       "                           ('output_shape', [-1, 512, 30, 30]),\n",
       "                           ('nb_params', 0)])),\n",
       "             ('ConvBN-119',\n",
       "              OrderedDict([('input_shape', [-1, 256, 62, 62]),\n",
       "                           ('output_shape', [-1, 512, 30, 30]),\n",
       "                           ('nb_params', 0)])),\n",
       "             ('Conv2d-120',\n",
       "              OrderedDict([('input_shape', [-1, 512, 30, 30]),\n",
       "                           ('output_shape', [-1, 256, 30, 30]),\n",
       "                           ('trainable', True),\n",
       "                           ('nb_params', 131072)])),\n",
       "             ('BatchNorm2d-121',\n",
       "              OrderedDict([('input_shape', [-1, 256, 30, 30]),\n",
       "                           ('output_shape', [-1, 256, 30, 30]),\n",
       "                           ('trainable', True),\n",
       "                           ('nb_params', 512)])),\n",
       "             ('LeakyReLU-122',\n",
       "              OrderedDict([('input_shape', [-1, 256, 30, 30]),\n",
       "                           ('output_shape', [-1, 256, 30, 30]),\n",
       "                           ('nb_params', 0)])),\n",
       "             ('ConvBN-123',\n",
       "              OrderedDict([('input_shape', [-1, 512, 30, 30]),\n",
       "                           ('output_shape', [-1, 256, 30, 30]),\n",
       "                           ('nb_params', 0)])),\n",
       "             ('Conv2d-124',\n",
       "              OrderedDict([('input_shape', [-1, 256, 30, 30]),\n",
       "                           ('output_shape', [-1, 512, 30, 30]),\n",
       "                           ('trainable', True),\n",
       "                           ('nb_params', 1179648)])),\n",
       "             ('BatchNorm2d-125',\n",
       "              OrderedDict([('input_shape', [-1, 512, 30, 30]),\n",
       "                           ('output_shape', [-1, 512, 30, 30]),\n",
       "                           ('trainable', True),\n",
       "                           ('nb_params', 1024)])),\n",
       "             ('LeakyReLU-126',\n",
       "              OrderedDict([('input_shape', [-1, 512, 30, 30]),\n",
       "                           ('output_shape', [-1, 512, 30, 30]),\n",
       "                           ('nb_params', 0)])),\n",
       "             ('ConvBN-127',\n",
       "              OrderedDict([('input_shape', [-1, 256, 30, 30]),\n",
       "                           ('output_shape', [-1, 512, 30, 30]),\n",
       "                           ('nb_params', 0)])),\n",
       "             ('DarknetBlock-128',\n",
       "              OrderedDict([('input_shape', [-1, 512, 30, 30]),\n",
       "                           ('output_shape', [-1, 512, 30, 30]),\n",
       "                           ('nb_params', 0)])),\n",
       "             ('Conv2d-129',\n",
       "              OrderedDict([('input_shape', [-1, 512, 30, 30]),\n",
       "                           ('output_shape', [-1, 256, 30, 30]),\n",
       "                           ('trainable', True),\n",
       "                           ('nb_params', 131072)])),\n",
       "             ('BatchNorm2d-130',\n",
       "              OrderedDict([('input_shape', [-1, 256, 30, 30]),\n",
       "                           ('output_shape', [-1, 256, 30, 30]),\n",
       "                           ('trainable', True),\n",
       "                           ('nb_params', 512)])),\n",
       "             ('LeakyReLU-131',\n",
       "              OrderedDict([('input_shape', [-1, 256, 30, 30]),\n",
       "                           ('output_shape', [-1, 256, 30, 30]),\n",
       "                           ('nb_params', 0)])),\n",
       "             ('ConvBN-132',\n",
       "              OrderedDict([('input_shape', [-1, 512, 30, 30]),\n",
       "                           ('output_shape', [-1, 256, 30, 30]),\n",
       "                           ('nb_params', 0)])),\n",
       "             ('Conv2d-133',\n",
       "              OrderedDict([('input_shape', [-1, 256, 30, 30]),\n",
       "                           ('output_shape', [-1, 512, 30, 30]),\n",
       "                           ('trainable', True),\n",
       "                           ('nb_params', 1179648)])),\n",
       "             ('BatchNorm2d-134',\n",
       "              OrderedDict([('input_shape', [-1, 512, 30, 30]),\n",
       "                           ('output_shape', [-1, 512, 30, 30]),\n",
       "                           ('trainable', True),\n",
       "                           ('nb_params', 1024)])),\n",
       "             ('LeakyReLU-135',\n",
       "              OrderedDict([('input_shape', [-1, 512, 30, 30]),\n",
       "                           ('output_shape', [-1, 512, 30, 30]),\n",
       "                           ('nb_params', 0)])),\n",
       "             ('ConvBN-136',\n",
       "              OrderedDict([('input_shape', [-1, 256, 30, 30]),\n",
       "                           ('output_shape', [-1, 512, 30, 30]),\n",
       "                           ('nb_params', 0)])),\n",
       "             ('DarknetBlock-137',\n",
       "              OrderedDict([('input_shape', [-1, 512, 30, 30]),\n",
       "                           ('output_shape', [-1, 512, 30, 30]),\n",
       "                           ('nb_params', 0)])),\n",
       "             ('Conv2d-138',\n",
       "              OrderedDict([('input_shape', [-1, 512, 30, 30]),\n",
       "                           ('output_shape', [-1, 256, 30, 30]),\n",
       "                           ('trainable', True),\n",
       "                           ('nb_params', 131072)])),\n",
       "             ('BatchNorm2d-139',\n",
       "              OrderedDict([('input_shape', [-1, 256, 30, 30]),\n",
       "                           ('output_shape', [-1, 256, 30, 30]),\n",
       "                           ('trainable', True),\n",
       "                           ('nb_params', 512)])),\n",
       "             ('LeakyReLU-140',\n",
       "              OrderedDict([('input_shape', [-1, 256, 30, 30]),\n",
       "                           ('output_shape', [-1, 256, 30, 30]),\n",
       "                           ('nb_params', 0)])),\n",
       "             ('ConvBN-141',\n",
       "              OrderedDict([('input_shape', [-1, 512, 30, 30]),\n",
       "                           ('output_shape', [-1, 256, 30, 30]),\n",
       "                           ('nb_params', 0)])),\n",
       "             ('Conv2d-142',\n",
       "              OrderedDict([('input_shape', [-1, 256, 30, 30]),\n",
       "                           ('output_shape', [-1, 512, 30, 30]),\n",
       "                           ('trainable', True),\n",
       "                           ('nb_params', 1179648)])),\n",
       "             ('BatchNorm2d-143',\n",
       "              OrderedDict([('input_shape', [-1, 512, 30, 30]),\n",
       "                           ('output_shape', [-1, 512, 30, 30]),\n",
       "                           ('trainable', True),\n",
       "                           ('nb_params', 1024)])),\n",
       "             ('LeakyReLU-144',\n",
       "              OrderedDict([('input_shape', [-1, 512, 30, 30]),\n",
       "                           ('output_shape', [-1, 512, 30, 30]),\n",
       "                           ('nb_params', 0)])),\n",
       "             ('ConvBN-145',\n",
       "              OrderedDict([('input_shape', [-1, 256, 30, 30]),\n",
       "                           ('output_shape', [-1, 512, 30, 30]),\n",
       "                           ('nb_params', 0)])),\n",
       "             ('DarknetBlock-146',\n",
       "              OrderedDict([('input_shape', [-1, 512, 30, 30]),\n",
       "                           ('output_shape', [-1, 512, 30, 30]),\n",
       "                           ('nb_params', 0)])),\n",
       "             ('Conv2d-147',\n",
       "              OrderedDict([('input_shape', [-1, 512, 30, 30]),\n",
       "                           ('output_shape', [-1, 256, 30, 30]),\n",
       "                           ('trainable', True),\n",
       "                           ('nb_params', 131072)])),\n",
       "             ('BatchNorm2d-148',\n",
       "              OrderedDict([('input_shape', [-1, 256, 30, 30]),\n",
       "                           ('output_shape', [-1, 256, 30, 30]),\n",
       "                           ('trainable', True),\n",
       "                           ('nb_params', 512)])),\n",
       "             ('LeakyReLU-149',\n",
       "              OrderedDict([('input_shape', [-1, 256, 30, 30]),\n",
       "                           ('output_shape', [-1, 256, 30, 30]),\n",
       "                           ('nb_params', 0)])),\n",
       "             ('ConvBN-150',\n",
       "              OrderedDict([('input_shape', [-1, 512, 30, 30]),\n",
       "                           ('output_shape', [-1, 256, 30, 30]),\n",
       "                           ('nb_params', 0)])),\n",
       "             ('Conv2d-151',\n",
       "              OrderedDict([('input_shape', [-1, 256, 30, 30]),\n",
       "                           ('output_shape', [-1, 512, 30, 30]),\n",
       "                           ('trainable', True),\n",
       "                           ('nb_params', 1179648)])),\n",
       "             ('BatchNorm2d-152',\n",
       "              OrderedDict([('input_shape', [-1, 512, 30, 30]),\n",
       "                           ('output_shape', [-1, 512, 30, 30]),\n",
       "                           ('trainable', True),\n",
       "                           ('nb_params', 1024)])),\n",
       "             ('LeakyReLU-153',\n",
       "              OrderedDict([('input_shape', [-1, 512, 30, 30]),\n",
       "                           ('output_shape', [-1, 512, 30, 30]),\n",
       "                           ('nb_params', 0)])),\n",
       "             ('ConvBN-154',\n",
       "              OrderedDict([('input_shape', [-1, 256, 30, 30]),\n",
       "                           ('output_shape', [-1, 512, 30, 30]),\n",
       "                           ('nb_params', 0)])),\n",
       "             ('DarknetBlock-155',\n",
       "              OrderedDict([('input_shape', [-1, 512, 30, 30]),\n",
       "                           ('output_shape', [-1, 512, 30, 30]),\n",
       "                           ('nb_params', 0)])),\n",
       "             ('Conv2d-156',\n",
       "              OrderedDict([('input_shape', [-1, 512, 30, 30]),\n",
       "                           ('output_shape', [-1, 256, 30, 30]),\n",
       "                           ('trainable', True),\n",
       "                           ('nb_params', 131072)])),\n",
       "             ('BatchNorm2d-157',\n",
       "              OrderedDict([('input_shape', [-1, 256, 30, 30]),\n",
       "                           ('output_shape', [-1, 256, 30, 30]),\n",
       "                           ('trainable', True),\n",
       "                           ('nb_params', 512)])),\n",
       "             ('LeakyReLU-158',\n",
       "              OrderedDict([('input_shape', [-1, 256, 30, 30]),\n",
       "                           ('output_shape', [-1, 256, 30, 30]),\n",
       "                           ('nb_params', 0)])),\n",
       "             ('ConvBN-159',\n",
       "              OrderedDict([('input_shape', [-1, 512, 30, 30]),\n",
       "                           ('output_shape', [-1, 256, 30, 30]),\n",
       "                           ('nb_params', 0)])),\n",
       "             ('Conv2d-160',\n",
       "              OrderedDict([('input_shape', [-1, 256, 30, 30]),\n",
       "                           ('output_shape', [-1, 512, 30, 30]),\n",
       "                           ('trainable', True),\n",
       "                           ('nb_params', 1179648)])),\n",
       "             ('BatchNorm2d-161',\n",
       "              OrderedDict([('input_shape', [-1, 512, 30, 30]),\n",
       "                           ('output_shape', [-1, 512, 30, 30]),\n",
       "                           ('trainable', True),\n",
       "                           ('nb_params', 1024)])),\n",
       "             ('LeakyReLU-162',\n",
       "              OrderedDict([('input_shape', [-1, 512, 30, 30]),\n",
       "                           ('output_shape', [-1, 512, 30, 30]),\n",
       "                           ('nb_params', 0)])),\n",
       "             ('ConvBN-163',\n",
       "              OrderedDict([('input_shape', [-1, 256, 30, 30]),\n",
       "                           ('output_shape', [-1, 512, 30, 30]),\n",
       "                           ('nb_params', 0)])),\n",
       "             ('DarknetBlock-164',\n",
       "              OrderedDict([('input_shape', [-1, 512, 30, 30]),\n",
       "                           ('output_shape', [-1, 512, 30, 30]),\n",
       "                           ('nb_params', 0)])),\n",
       "             ('Conv2d-165',\n",
       "              OrderedDict([('input_shape', [-1, 512, 30, 30]),\n",
       "                           ('output_shape', [-1, 256, 30, 30]),\n",
       "                           ('trainable', True),\n",
       "                           ('nb_params', 131072)])),\n",
       "             ('BatchNorm2d-166',\n",
       "              OrderedDict([('input_shape', [-1, 256, 30, 30]),\n",
       "                           ('output_shape', [-1, 256, 30, 30]),\n",
       "                           ('trainable', True),\n",
       "                           ('nb_params', 512)])),\n",
       "             ('LeakyReLU-167',\n",
       "              OrderedDict([('input_shape', [-1, 256, 30, 30]),\n",
       "                           ('output_shape', [-1, 256, 30, 30]),\n",
       "                           ('nb_params', 0)])),\n",
       "             ('ConvBN-168',\n",
       "              OrderedDict([('input_shape', [-1, 512, 30, 30]),\n",
       "                           ('output_shape', [-1, 256, 30, 30]),\n",
       "                           ('nb_params', 0)])),\n",
       "             ('Conv2d-169',\n",
       "              OrderedDict([('input_shape', [-1, 256, 30, 30]),\n",
       "                           ('output_shape', [-1, 512, 30, 30]),\n",
       "                           ('trainable', True),\n",
       "                           ('nb_params', 1179648)])),\n",
       "             ('BatchNorm2d-170',\n",
       "              OrderedDict([('input_shape', [-1, 512, 30, 30]),\n",
       "                           ('output_shape', [-1, 512, 30, 30]),\n",
       "                           ('trainable', True),\n",
       "                           ('nb_params', 1024)])),\n",
       "             ('LeakyReLU-171',\n",
       "              OrderedDict([('input_shape', [-1, 512, 30, 30]),\n",
       "                           ('output_shape', [-1, 512, 30, 30]),\n",
       "                           ('nb_params', 0)])),\n",
       "             ('ConvBN-172',\n",
       "              OrderedDict([('input_shape', [-1, 256, 30, 30]),\n",
       "                           ('output_shape', [-1, 512, 30, 30]),\n",
       "                           ('nb_params', 0)])),\n",
       "             ('DarknetBlock-173',\n",
       "              OrderedDict([('input_shape', [-1, 512, 30, 30]),\n",
       "                           ('output_shape', [-1, 512, 30, 30]),\n",
       "                           ('nb_params', 0)])),\n",
       "             ('Conv2d-174',\n",
       "              OrderedDict([('input_shape', [-1, 512, 30, 30]),\n",
       "                           ('output_shape', [-1, 256, 30, 30]),\n",
       "                           ('trainable', True),\n",
       "                           ('nb_params', 131072)])),\n",
       "             ('BatchNorm2d-175',\n",
       "              OrderedDict([('input_shape', [-1, 256, 30, 30]),\n",
       "                           ('output_shape', [-1, 256, 30, 30]),\n",
       "                           ('trainable', True),\n",
       "                           ('nb_params', 512)])),\n",
       "             ('LeakyReLU-176',\n",
       "              OrderedDict([('input_shape', [-1, 256, 30, 30]),\n",
       "                           ('output_shape', [-1, 256, 30, 30]),\n",
       "                           ('nb_params', 0)])),\n",
       "             ('ConvBN-177',\n",
       "              OrderedDict([('input_shape', [-1, 512, 30, 30]),\n",
       "                           ('output_shape', [-1, 256, 30, 30]),\n",
       "                           ('nb_params', 0)])),\n",
       "             ('Conv2d-178',\n",
       "              OrderedDict([('input_shape', [-1, 256, 30, 30]),\n",
       "                           ('output_shape', [-1, 512, 30, 30]),\n",
       "                           ('trainable', True),\n",
       "                           ('nb_params', 1179648)])),\n",
       "             ('BatchNorm2d-179',\n",
       "              OrderedDict([('input_shape', [-1, 512, 30, 30]),\n",
       "                           ('output_shape', [-1, 512, 30, 30]),\n",
       "                           ('trainable', True),\n",
       "                           ('nb_params', 1024)])),\n",
       "             ('LeakyReLU-180',\n",
       "              OrderedDict([('input_shape', [-1, 512, 30, 30]),\n",
       "                           ('output_shape', [-1, 512, 30, 30]),\n",
       "                           ('nb_params', 0)])),\n",
       "             ('ConvBN-181',\n",
       "              OrderedDict([('input_shape', [-1, 256, 30, 30]),\n",
       "                           ('output_shape', [-1, 512, 30, 30]),\n",
       "                           ('nb_params', 0)])),\n",
       "             ('DarknetBlock-182',\n",
       "              OrderedDict([('input_shape', [-1, 512, 30, 30]),\n",
       "                           ('output_shape', [-1, 512, 30, 30]),\n",
       "                           ('nb_params', 0)])),\n",
       "             ('Conv2d-183',\n",
       "              OrderedDict([('input_shape', [-1, 512, 30, 30]),\n",
       "                           ('output_shape', [-1, 256, 30, 30]),\n",
       "                           ('trainable', True),\n",
       "                           ('nb_params', 131072)])),\n",
       "             ('BatchNorm2d-184',\n",
       "              OrderedDict([('input_shape', [-1, 256, 30, 30]),\n",
       "                           ('output_shape', [-1, 256, 30, 30]),\n",
       "                           ('trainable', True),\n",
       "                           ('nb_params', 512)])),\n",
       "             ('LeakyReLU-185',\n",
       "              OrderedDict([('input_shape', [-1, 256, 30, 30]),\n",
       "                           ('output_shape', [-1, 256, 30, 30]),\n",
       "                           ('nb_params', 0)])),\n",
       "             ('ConvBN-186',\n",
       "              OrderedDict([('input_shape', [-1, 512, 30, 30]),\n",
       "                           ('output_shape', [-1, 256, 30, 30]),\n",
       "                           ('nb_params', 0)])),\n",
       "             ('Conv2d-187',\n",
       "              OrderedDict([('input_shape', [-1, 256, 30, 30]),\n",
       "                           ('output_shape', [-1, 512, 30, 30]),\n",
       "                           ('trainable', True),\n",
       "                           ('nb_params', 1179648)])),\n",
       "             ('BatchNorm2d-188',\n",
       "              OrderedDict([('input_shape', [-1, 512, 30, 30]),\n",
       "                           ('output_shape', [-1, 512, 30, 30]),\n",
       "                           ('trainable', True),\n",
       "                           ('nb_params', 1024)])),\n",
       "             ('LeakyReLU-189',\n",
       "              OrderedDict([('input_shape', [-1, 512, 30, 30]),\n",
       "                           ('output_shape', [-1, 512, 30, 30]),\n",
       "                           ('nb_params', 0)])),\n",
       "             ('ConvBN-190',\n",
       "              OrderedDict([('input_shape', [-1, 256, 30, 30]),\n",
       "                           ('output_shape', [-1, 512, 30, 30]),\n",
       "                           ('nb_params', 0)])),\n",
       "             ('DarknetBlock-191',\n",
       "              OrderedDict([('input_shape', [-1, 512, 30, 30]),\n",
       "                           ('output_shape', [-1, 512, 30, 30]),\n",
       "                           ('nb_params', 0)])),\n",
       "             ('Conv2d-192',\n",
       "              OrderedDict([('input_shape', [-1, 512, 30, 30]),\n",
       "                           ('output_shape', [-1, 1024, 14, 14]),\n",
       "                           ('trainable', True),\n",
       "                           ('nb_params', 4718592)])),\n",
       "             ('BatchNorm2d-193',\n",
       "              OrderedDict([('input_shape', [-1, 1024, 14, 14]),\n",
       "                           ('output_shape', [-1, 1024, 14, 14]),\n",
       "                           ('trainable', True),\n",
       "                           ('nb_params', 2048)])),\n",
       "             ('LeakyReLU-194',\n",
       "              OrderedDict([('input_shape', [-1, 1024, 14, 14]),\n",
       "                           ('output_shape', [-1, 1024, 14, 14]),\n",
       "                           ('nb_params', 0)])),\n",
       "             ('ConvBN-195',\n",
       "              OrderedDict([('input_shape', [-1, 512, 30, 30]),\n",
       "                           ('output_shape', [-1, 1024, 14, 14]),\n",
       "                           ('nb_params', 0)])),\n",
       "             ('Conv2d-196',\n",
       "              OrderedDict([('input_shape', [-1, 1024, 14, 14]),\n",
       "                           ('output_shape', [-1, 512, 14, 14]),\n",
       "                           ('trainable', True),\n",
       "                           ('nb_params', 524288)])),\n",
       "             ('BatchNorm2d-197',\n",
       "              OrderedDict([('input_shape', [-1, 512, 14, 14]),\n",
       "                           ('output_shape', [-1, 512, 14, 14]),\n",
       "                           ('trainable', True),\n",
       "                           ('nb_params', 1024)])),\n",
       "             ('LeakyReLU-198',\n",
       "              OrderedDict([('input_shape', [-1, 512, 14, 14]),\n",
       "                           ('output_shape', [-1, 512, 14, 14]),\n",
       "                           ('nb_params', 0)])),\n",
       "             ('ConvBN-199',\n",
       "              OrderedDict([('input_shape', [-1, 1024, 14, 14]),\n",
       "                           ('output_shape', [-1, 512, 14, 14]),\n",
       "                           ('nb_params', 0)])),\n",
       "             ('Conv2d-200',\n",
       "              OrderedDict([('input_shape', [-1, 512, 14, 14]),\n",
       "                           ('output_shape', [-1, 1024, 14, 14]),\n",
       "                           ('trainable', True),\n",
       "                           ('nb_params', 4718592)])),\n",
       "             ('BatchNorm2d-201',\n",
       "              OrderedDict([('input_shape', [-1, 1024, 14, 14]),\n",
       "                           ('output_shape', [-1, 1024, 14, 14]),\n",
       "                           ('trainable', True),\n",
       "                           ('nb_params', 2048)])),\n",
       "             ('LeakyReLU-202',\n",
       "              OrderedDict([('input_shape', [-1, 1024, 14, 14]),\n",
       "                           ('output_shape', [-1, 1024, 14, 14]),\n",
       "                           ('nb_params', 0)])),\n",
       "             ('ConvBN-203',\n",
       "              OrderedDict([('input_shape', [-1, 512, 14, 14]),\n",
       "                           ('output_shape', [-1, 1024, 14, 14]),\n",
       "                           ('nb_params', 0)])),\n",
       "             ('DarknetBlock-204',\n",
       "              OrderedDict([('input_shape', [-1, 1024, 14, 14]),\n",
       "                           ('output_shape', [-1, 1024, 14, 14]),\n",
       "                           ('nb_params', 0)])),\n",
       "             ('Conv2d-205',\n",
       "              OrderedDict([('input_shape', [-1, 1024, 14, 14]),\n",
       "                           ('output_shape', [-1, 512, 14, 14]),\n",
       "                           ('trainable', True),\n",
       "                           ('nb_params', 524288)])),\n",
       "             ('BatchNorm2d-206',\n",
       "              OrderedDict([('input_shape', [-1, 512, 14, 14]),\n",
       "                           ('output_shape', [-1, 512, 14, 14]),\n",
       "                           ('trainable', True),\n",
       "                           ('nb_params', 1024)])),\n",
       "             ('LeakyReLU-207',\n",
       "              OrderedDict([('input_shape', [-1, 512, 14, 14]),\n",
       "                           ('output_shape', [-1, 512, 14, 14]),\n",
       "                           ('nb_params', 0)])),\n",
       "             ('ConvBN-208',\n",
       "              OrderedDict([('input_shape', [-1, 1024, 14, 14]),\n",
       "                           ('output_shape', [-1, 512, 14, 14]),\n",
       "                           ('nb_params', 0)])),\n",
       "             ('Conv2d-209',\n",
       "              OrderedDict([('input_shape', [-1, 512, 14, 14]),\n",
       "                           ('output_shape', [-1, 1024, 14, 14]),\n",
       "                           ('trainable', True),\n",
       "                           ('nb_params', 4718592)])),\n",
       "             ('BatchNorm2d-210',\n",
       "              OrderedDict([('input_shape', [-1, 1024, 14, 14]),\n",
       "                           ('output_shape', [-1, 1024, 14, 14]),\n",
       "                           ('trainable', True),\n",
       "                           ('nb_params', 2048)])),\n",
       "             ('LeakyReLU-211',\n",
       "              OrderedDict([('input_shape', [-1, 1024, 14, 14]),\n",
       "                           ('output_shape', [-1, 1024, 14, 14]),\n",
       "                           ('nb_params', 0)])),\n",
       "             ('ConvBN-212',\n",
       "              OrderedDict([('input_shape', [-1, 512, 14, 14]),\n",
       "                           ('output_shape', [-1, 1024, 14, 14]),\n",
       "                           ('nb_params', 0)])),\n",
       "             ('DarknetBlock-213',\n",
       "              OrderedDict([('input_shape', [-1, 1024, 14, 14]),\n",
       "                           ('output_shape', [-1, 1024, 14, 14]),\n",
       "                           ('nb_params', 0)])),\n",
       "             ('Conv2d-214',\n",
       "              OrderedDict([('input_shape', [-1, 1024, 14, 14]),\n",
       "                           ('output_shape', [-1, 512, 14, 14]),\n",
       "                           ('trainable', True),\n",
       "                           ('nb_params', 524288)])),\n",
       "             ('BatchNorm2d-215',\n",
       "              OrderedDict([('input_shape', [-1, 512, 14, 14]),\n",
       "                           ('output_shape', [-1, 512, 14, 14]),\n",
       "                           ('trainable', True),\n",
       "                           ('nb_params', 1024)])),\n",
       "             ('LeakyReLU-216',\n",
       "              OrderedDict([('input_shape', [-1, 512, 14, 14]),\n",
       "                           ('output_shape', [-1, 512, 14, 14]),\n",
       "                           ('nb_params', 0)])),\n",
       "             ('ConvBN-217',\n",
       "              OrderedDict([('input_shape', [-1, 1024, 14, 14]),\n",
       "                           ('output_shape', [-1, 512, 14, 14]),\n",
       "                           ('nb_params', 0)])),\n",
       "             ('Conv2d-218',\n",
       "              OrderedDict([('input_shape', [-1, 512, 14, 14]),\n",
       "                           ('output_shape', [-1, 1024, 14, 14]),\n",
       "                           ('trainable', True),\n",
       "                           ('nb_params', 4718592)])),\n",
       "             ('BatchNorm2d-219',\n",
       "              OrderedDict([('input_shape', [-1, 1024, 14, 14]),\n",
       "                           ('output_shape', [-1, 1024, 14, 14]),\n",
       "                           ('trainable', True),\n",
       "                           ('nb_params', 2048)])),\n",
       "             ('LeakyReLU-220',\n",
       "              OrderedDict([('input_shape', [-1, 1024, 14, 14]),\n",
       "                           ('output_shape', [-1, 1024, 14, 14]),\n",
       "                           ('nb_params', 0)])),\n",
       "             ('ConvBN-221',\n",
       "              OrderedDict([('input_shape', [-1, 512, 14, 14]),\n",
       "                           ('output_shape', [-1, 1024, 14, 14]),\n",
       "                           ('nb_params', 0)])),\n",
       "             ('DarknetBlock-222',\n",
       "              OrderedDict([('input_shape', [-1, 1024, 14, 14]),\n",
       "                           ('output_shape', [-1, 1024, 14, 14]),\n",
       "                           ('nb_params', 0)])),\n",
       "             ('Conv2d-223',\n",
       "              OrderedDict([('input_shape', [-1, 1024, 14, 14]),\n",
       "                           ('output_shape', [-1, 512, 14, 14]),\n",
       "                           ('trainable', True),\n",
       "                           ('nb_params', 524288)])),\n",
       "             ('BatchNorm2d-224',\n",
       "              OrderedDict([('input_shape', [-1, 512, 14, 14]),\n",
       "                           ('output_shape', [-1, 512, 14, 14]),\n",
       "                           ('trainable', True),\n",
       "                           ('nb_params', 1024)])),\n",
       "             ('LeakyReLU-225',\n",
       "              OrderedDict([('input_shape', [-1, 512, 14, 14]),\n",
       "                           ('output_shape', [-1, 512, 14, 14]),\n",
       "                           ('nb_params', 0)])),\n",
       "             ('ConvBN-226',\n",
       "              OrderedDict([('input_shape', [-1, 1024, 14, 14]),\n",
       "                           ('output_shape', [-1, 512, 14, 14]),\n",
       "                           ('nb_params', 0)])),\n",
       "             ('Conv2d-227',\n",
       "              OrderedDict([('input_shape', [-1, 512, 14, 14]),\n",
       "                           ('output_shape', [-1, 1024, 14, 14]),\n",
       "                           ('trainable', True),\n",
       "                           ('nb_params', 4718592)])),\n",
       "             ('BatchNorm2d-228',\n",
       "              OrderedDict([('input_shape', [-1, 1024, 14, 14]),\n",
       "                           ('output_shape', [-1, 1024, 14, 14]),\n",
       "                           ('trainable', True),\n",
       "                           ('nb_params', 2048)])),\n",
       "             ('LeakyReLU-229',\n",
       "              OrderedDict([('input_shape', [-1, 1024, 14, 14]),\n",
       "                           ('output_shape', [-1, 1024, 14, 14]),\n",
       "                           ('nb_params', 0)])),\n",
       "             ('ConvBN-230',\n",
       "              OrderedDict([('input_shape', [-1, 512, 14, 14]),\n",
       "                           ('output_shape', [-1, 1024, 14, 14]),\n",
       "                           ('nb_params', 0)])),\n",
       "             ('DarknetBlock-231',\n",
       "              OrderedDict([('input_shape', [-1, 1024, 14, 14]),\n",
       "                           ('output_shape', [-1, 1024, 14, 14]),\n",
       "                           ('nb_params', 0)])),\n",
       "             ('AdaptiveAvgPool2d-232',\n",
       "              OrderedDict([('input_shape', [-1, 1024, 14, 14]),\n",
       "                           ('output_shape', [-1, 1024, 1, 1]),\n",
       "                           ('nb_params', 0)])),\n",
       "             ('Flatten-233',\n",
       "              OrderedDict([('input_shape', [-1, 1024, 1, 1]),\n",
       "                           ('output_shape', [-1, 1024]),\n",
       "                           ('nb_params', 0)])),\n",
       "             ('Linear-234',\n",
       "              OrderedDict([('input_shape', [-1, 1024]),\n",
       "                           ('output_shape', [-1, 1000]),\n",
       "                           ('trainable', True),\n",
       "                           ('nb_params', 1025000)])),\n",
       "             ('LogSoftmax-235',\n",
       "              OrderedDict([('input_shape', [-1, 1000]),\n",
       "                           ('output_shape', [-1, 1000]),\n",
       "                           ('nb_params', 0)]))])"
      ]
     },
     "execution_count": 6,
     "metadata": {},
     "output_type": "execute_result"
    }
   ],
   "source": [
    "learner.summary()"
   ]
  },
  {
   "cell_type": "code",
   "execution_count": 7,
   "metadata": {},
   "outputs": [
    {
     "data": {
      "text/plain": [
       "<function torch.nn.functional.nll_loss(input, target, weight=None, size_average=True, ignore_index=-100, reduce=True)>"
      ]
     },
     "execution_count": 7,
     "metadata": {},
     "output_type": "execute_result"
    }
   ],
   "source": [
    "learner.crit"
   ]
  },
  {
   "cell_type": "code",
   "execution_count": null,
   "metadata": {},
   "outputs": [],
   "source": []
  },
  {
   "cell_type": "code",
   "execution_count": null,
   "metadata": {},
   "outputs": [],
   "source": []
  },
  {
   "cell_type": "code",
   "execution_count": null,
   "metadata": {},
   "outputs": [],
   "source": []
  },
  {
   "cell_type": "code",
   "execution_count": null,
   "metadata": {},
   "outputs": [],
   "source": []
  },
  {
   "cell_type": "code",
   "execution_count": null,
   "metadata": {},
   "outputs": [],
   "source": []
  }
 ],
 "metadata": {
  "kernelspec": {
   "display_name": "Python 3",
   "language": "python",
   "name": "python3"
  },
  "language_info": {
   "codemirror_mode": {
    "name": "ipython",
    "version": 3
   },
   "file_extension": ".py",
   "mimetype": "text/x-python",
   "name": "python",
   "nbconvert_exporter": "python",
   "pygments_lexer": "ipython3",
   "version": "3.6.5"
  }
 },
 "nbformat": 4,
 "nbformat_minor": 2
}
