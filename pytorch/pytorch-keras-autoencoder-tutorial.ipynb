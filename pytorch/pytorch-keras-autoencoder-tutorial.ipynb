{
 "cells": [
  {
   "cell_type": "markdown",
   "metadata": {},
   "source": [
    "# Building Autoencoders in ~~Keras~~ PyTorch\n",
    "\n",
    "WNixalo – 2018/6/16\n",
    "\n",
    "[Building Autoencoders in Keras](https://blog.keras.io/building-autoencoders-in-keras.html)"
   ]
  },
  {
   "cell_type": "code",
   "execution_count": 223,
   "metadata": {},
   "outputs": [],
   "source": [
    "%matplotlib inline\n",
    "%reload_ext autoreload\n",
    "%autoreload 2"
   ]
  },
  {
   "cell_type": "code",
   "execution_count": 222,
   "metadata": {},
   "outputs": [],
   "source": [
    "import numpy as np\n",
    "import torch"
   ]
  },
  {
   "cell_type": "code",
   "execution_count": 99,
   "metadata": {},
   "outputs": [],
   "source": [
    "import matplotlib.pyplot as plt"
   ]
  },
  {
   "cell_type": "code",
   "execution_count": 2,
   "metadata": {},
   "outputs": [],
   "source": [
    "import copy"
   ]
  },
  {
   "cell_type": "markdown",
   "metadata": {},
   "source": [
    "## 1. Building the simplest possible autoencoder"
   ]
  },
  {
   "cell_type": "markdown",
   "metadata": {},
   "source": [
    "> We'll start simple, with a single fully-connected neural layer as encoder and as decoder:\n",
    "\n",
    "```\n",
    "from keras.layers import Input, Dense\n",
    "from keras.models import Model\n",
    "\n",
    "# this is the size of our encoded representations\n",
    "encoding_dim = 32 # 32 floats -> compression of factor 24.5 assuming input is 784 floats\n",
    "\n",
    "# this is our input placeholder\n",
    "input_img = Input(shape=(784,))\n",
    "# \"encoded\" is the encoded representation of the input\n",
    "encoded = Dense(encoding_dim, activation='relu')(input_img)\n",
    "# \"decoded\" is the lossy reconstruction of the input\n",
    "decoded = Dense(784, activation='sigmoid')(encoded)\n",
    "\n",
    "# this model maps an input to its reconstruction\n",
    "autoencoder = Model(input_img, decoded)\n",
    "```"
   ]
  },
  {
   "cell_type": "code",
   "execution_count": 12,
   "metadata": {},
   "outputs": [],
   "source": [
    "import torch.nn as nn\n",
    "import torch.nn.functional as F"
   ]
  },
  {
   "cell_type": "code",
   "execution_count": 13,
   "metadata": {},
   "outputs": [],
   "source": [
    "# # encoding size\n",
    "# encoding_dim = 32\n",
    "\n",
    "# # input placeholder\n",
    "# input_img = torch.tensor(torch.rand(784), requires_grad=True) # I guess should have grad?\n",
    "# # the encoded representation of input\n",
    "# encoded = nn.ModuleList([nn.Linear(784, encoding_dim), nn.ReLU()])\n",
    "# # the lossy reconstruction of the input\n",
    "# decoded = nn.ModuleList([nn.Linear(encoding_dim, 784), nn.Sigmoid()])\n",
    "\n",
    "# # this model maps an input to its reconstruction\n",
    "# autoencoder = nn.Sequential(encoded, decoded)"
   ]
  },
  {
   "cell_type": "markdown",
   "metadata": {},
   "source": [
    "> Let's also create a separate encoder model:\n",
    "\n",
    "```\n",
    "# this model maps an input to its encoded representation\n",
    "encoder = Model(input_img, encoded)\n",
    "```\n",
    "> As well as the decoder model:\n",
    "\n",
    "```\n",
    "# create a placeholder for an encoded (32-dimensional) input\n",
    "encoded_input = Input(shape=(encoding_dim,))\n",
    "# retrieve the last layer of the autoencoder model\n",
    "decoder_layer = autoencoder.layers[-1]\n",
    "# create the decoder model\n",
    "decoder = Model(encoded_input, decoder_layer(encoded_input))\n",
    "```"
   ]
  },
  {
   "cell_type": "code",
   "execution_count": 34,
   "metadata": {},
   "outputs": [],
   "source": [
    "# # model maps an input to its encoded representation\n",
    "# encoder = copy.deepcopy(encoded) # copying models: https://discuss.pytorch.org/t/copying-nn-modules-without-shared-memory/113/2\n",
    "\n",
    "# # placeholder for 32-dim encoded input\n",
    "# encoded_input = torch.tensor(torch.rand(784), requires_grad=True)\n",
    "# # retrieve last layer of autoencoder model\n",
    "# decoder_layer = list(autoencoder.children())[-1]\n",
    "# # create decoder model\n",
    "# decoder = copy.deepcopy(decoder_layer)"
   ]
  },
  {
   "cell_type": "code",
   "execution_count": 4,
   "metadata": {},
   "outputs": [],
   "source": [
    "input_size   = 784\n",
    "encoding_dim = 32"
   ]
  },
  {
   "cell_type": "code",
   "execution_count": 193,
   "metadata": {},
   "outputs": [],
   "source": [
    "# writing full classes for the en/de-coders is overkill, but this is the \n",
    "# general form of writing pytorch modules.\n",
    "\n",
    "class Encoder(nn.Module):\n",
    "    def __init__(self, input_size, encoding_dim):\n",
    "        super().__init__()\n",
    "        self.layers = nn.ModuleList([nn.Linear(input_size, encoding_dim), nn.ReLU()])\n",
    "    def forward(self, x):\n",
    "        for layer in self.layers:\n",
    "            x = layer(x)\n",
    "        return x\n",
    "            \n",
    "class Decoder(nn.Module):\n",
    "    def __init__(self, encoding_dim, input_size):\n",
    "        super().__init__()\n",
    "        self.layers = nn.ModuleList([nn.Linear(encoding_dim, input_size)])\n",
    "    def forward(self, x):\n",
    "        for layer in self.layers:\n",
    "            x = layer(x)\n",
    "        return x\n",
    "\n",
    "class Autoencoder(nn.Module):\n",
    "    def __init__(self, input_size=784, encoding_dim=32):\n",
    "        super().__init__()\n",
    "        self.encoder = Encoder(input_size, encoding_dim)\n",
    "        self.decoder = Decoder(encoding_dim, input_size)\n",
    "    def forward(self, x):\n",
    "        x = x.view(x.size(0), -1) # flatten to (nm,1) vector\n",
    "        x = self.encoder(x)  # Encode\n",
    "        x = self.decoder(x)  # Decode\n",
    "        x = F.sigmoid(x)\n",
    "        x = x.reshape(x.size(0),1,28,28) # should be a more elegant way to do this\n",
    "        return x"
   ]
  },
  {
   "cell_type": "markdown",
   "metadata": {},
   "source": [
    "Autoencoder without any training (you'd expect just noise):"
   ]
  },
  {
   "cell_type": "code",
   "execution_count": 204,
   "metadata": {},
   "outputs": [],
   "source": [
    "autoencoder = Autoencoder(784, 32)"
   ]
  },
  {
   "cell_type": "code",
   "execution_count": 195,
   "metadata": {},
   "outputs": [],
   "source": [
    "x,y = next(iter(train_loader))\n",
    "z = autoencoder(x)"
   ]
  },
  {
   "cell_type": "code",
   "execution_count": 196,
   "metadata": {},
   "outputs": [
    {
     "data": {
      "text/plain": [
       "torch.Size([16, 1, 28, 28])"
      ]
     },
     "execution_count": 196,
     "metadata": {},
     "output_type": "execute_result"
    }
   ],
   "source": [
    "z.shape"
   ]
  },
  {
   "cell_type": "code",
   "execution_count": 197,
   "metadata": {},
   "outputs": [
    {
     "data": {
      "image/png": "[encoded data removed]",
      "text/plain": [
       "<Figure size 432x288 with 2 Axes>"
      ]
     },
     "metadata": {},
     "output_type": "display_data"
    }
   ],
   "source": [
    "fig,axes = plt.subplots(1,2); plt.set_cmap(['gray','viridis'][1]);\n",
    "axes[0].imshow(x[0][0].numpy()); axes[1].imshow(z[0][0].detach().numpy());"
   ]
  },
  {
   "cell_type": "markdown",
   "metadata": {},
   "source": [
    "> Now let's train our autoencoder to reconstruct MNIST digits.\n",
    ">\n",
    "> First, we'll configure our model to use a per-pixel binary crossentropy loss, and the Adadelta optimizer:\n",
    "\n",
    "```\n",
    "autoencoder.compile(optimizer='adadelta', loss='binary_crossentropy')\n",
    "```\n",
    "\n",
    "> Let's prepare our input data. We're using MNIST digits, and we're discarding the labels (since we're only interested in encoding/decoding the input images).\n",
    "\n",
    "```\n",
    "from keras.datasets import mnist\n",
    "import numpy as np\n",
    "(x_train, _), (x_test, _) = mnist.load_data()\n",
    "```\n",
    "\n",
    "> We will normalize all values between 0 and 1 and we will flatten the 28x28 images into vectors of size 784.\n",
    "\n",
    "```\n",
    "x_train = x_train.astype('float32') / 255.\n",
    "x_test  = x_test.astype('float32') / 255.\n",
    "x_train = x_train.reshape((len(x_train), np.prod(x_train.shape[1:])))\n",
    "x_test  = x_test.reshape((len(x_test), np.prod(x_test.shape[1:])))\n",
    "print(x_train.shape)\n",
    "print(x_test.shape)\n",
    "```"
   ]
  },
  {
   "cell_type": "code",
   "execution_count": 166,
   "metadata": {},
   "outputs": [],
   "source": [
    "# these are actually initialized within the training loop\n",
    "optimizer = torch.optim.Adadelta(autoencoder.parameters())\n",
    "criterion = torch.nn.BCELoss()"
   ]
  },
  {
   "cell_type": "code",
   "execution_count": 167,
   "metadata": {},
   "outputs": [],
   "source": [
    "import torchvision"
   ]
  },
  {
   "cell_type": "code",
   "execution_count": 168,
   "metadata": {},
   "outputs": [],
   "source": [
    "bs = 16\n",
    "\n",
    "# stats = [[0.1307],[0.3073]]\n",
    "\n",
    "tfm0 = torchvision.transforms.ToTensor()  # convert [0,255] -> [0.0,1.0]\n",
    "# tfm1 = torchvision.transforms.Normalize(*stats) # normalize to [-1.0,+1.0]\n",
    "\n",
    "# tfms = [tfm0, tfm1]\n",
    "# tfms = torchvision.transforms.Compose(tfms)"
   ]
  },
  {
   "cell_type": "code",
   "execution_count": 169,
   "metadata": {},
   "outputs": [],
   "source": [
    "train_dataset = torchvision.datasets.MNIST('data/MNIST/',train=True, transform=tfm0)\n",
    "test_dataset  = torchvision.datasets.MNIST('data/MNIST/',train=False,transform=tfm0)\n",
    "\n",
    "train_loader  = torch.utils.data.DataLoader(train_dataset, batch_size=bs, shuffle=True)\n",
    "test_loader   = torch.utils.data.DataLoader(test_dataset,  batch_size=bs)"
   ]
  },
  {
   "cell_type": "markdown",
   "metadata": {},
   "source": [
    "multiple ways to flatten tensors:"
   ]
  },
  {
   "cell_type": "code",
   "execution_count": 170,
   "metadata": {},
   "outputs": [
    {
     "name": "stdout",
     "output_type": "stream",
     "text": [
      "True\n",
      "torch.Size([16, 784])\n",
      "torch.Size([16, 784])\n"
     ]
    }
   ],
   "source": [
    "# get minibatch\n",
    "x,_ = next(iter(train_loader)); x_test,_ = next(iter(test_loader))\n",
    "# check ea. way to flatten is identical\n",
    "compare0 = torch.equal(np.reshape(x, (len(x), np.prod(x.shape[1:]))),\n",
    "                       x.reshape(len(x), np.prod(x.shape[1:])))\n",
    "compare1 = torch.equal(x.view(x.size(0), -1), x.reshape(len(x), np.prod(x.shape[1:])))\n",
    "print(True == compare0 == compare1)\n",
    "# display flattened minibatch shapes\n",
    "print(x.view(x.size(0), -1).shape)\n",
    "print(x_test.view(x_test.size(0), -1).shape)"
   ]
  },
  {
   "cell_type": "markdown",
   "metadata": {},
   "source": [
    "I'll just flatten each minibatch as it comes out of the dataloader when I'm using the model."
   ]
  },
  {
   "cell_type": "markdown",
   "metadata": {},
   "source": [
    "> Now let's train our autoencoder for 50 epochs:\n",
    "\n",
    "```\n",
    "autoencoder.fit(x_train, x_train, epochs=50, batch_size=256, shuffle=True,\n",
    "                validation_data=(x_test, x_test))\n",
    "```\n",
    "\n",
    "> After 50 epochs, the autoencoder seems to reach a stable train/test loss value of about `0.11`. We can try to visualize the reconstrubted inputs and the encoded representations. We will use Matplotlib.\n",
    "\n",
    "```\n",
    "# encode and decode some digits\n",
    "# note that we take them from the *test* set\n",
    "encoded_imgs = encoder.predict(x_test)\n",
    "decoded_imgs = decoder.predict(encoded_imgs)\n",
    "```\n",
    "\n",
    "```\n",
    "# use Matplotlib (don't ask)\n",
    "import matplotlib.pyplot as plt\n",
    "\n",
    "n = 10 # how many digits we will display\n",
    "plt.figure(figsize=(20, 4))\n",
    "for i in range(n):\n",
    "    # display original\n",
    "    ax = plt.subplot(2, n, i + 1)\n",
    "    plt.imshow(x_test[i].reshape(28, 28))\n",
    "    plt.gray()\n",
    "    ax.get_xaxis().set_visible(False)\n",
    "    ax.get_yaxis().set_visible(False)\n",
    "    \n",
    "    # display reconstruction\n",
    "    ax = plt.subplot(2, n, i + 1 + n)\n",
    "    plt.imshow(decoded_imgs[i].reshape(28, 28))\n",
    "    plt.gray()\n",
    "    ax.get_xaxis().set_visible(False)\n",
    "    ax.get_yaxis().set_visible(False)\n",
    "plt.show()\n",
    "```"
   ]
  },
  {
   "cell_type": "code",
   "execution_count": 203,
   "metadata": {},
   "outputs": [],
   "source": [
    "def train(model, trainloader=None, valloader=None, num_epochs=1):\n",
    "    device = torch.device('cuda:0' if torch.cuda.is_available() else 'cpu')\n",
    "    \n",
    "    # name dataloaders for phases\n",
    "    phases = ['train']\n",
    "    dataloaders = {'train':trainloader}\n",
    "    if valloader:\n",
    "        phases.append('valid')\n",
    "        dataloaders['valid'] = valloader\n",
    "    \n",
    "    # move model to gpu -- pytorch >= 0.4 ## NOTE: havent tested on gpu yet\n",
    "    model.to(device)\n",
    "    optimizer = torch.optim.Adadelta(autoencoder.parameters())\n",
    "    criterion = torch.nn.BCELoss()\n",
    "    \n",
    "    # epoch w/ train & val phases\n",
    "    for epoch in range(num_epochs):\n",
    "        print(f'Epoch {epoch+1}/{num_epochs}\\n{\"-\"*10}')\n",
    "        \n",
    "        for phase in phases:\n",
    "            if phase == 'train':\n",
    "                #scheduler.step() # (no LR scheduler this time)\n",
    "                model.train() # set model to training mode\n",
    "            else: model.eval() # set model to evaluation mode\n",
    "                \n",
    "            running_loss, running_correct, count = 0.0, 0, 0\n",
    "        \n",
    "            for i, minibatch in enumerate(dataloaders[phase]):\n",
    "                x,y = minibatch\n",
    "                x,y = x.to(device), y.to(device)\n",
    "\n",
    "                # zero param gradients\n",
    "                optimizer.zero_grad()\n",
    "\n",
    "                # forward: track history if training phase\n",
    "                with torch.set_grad_enabled(phase=='train'): # pytorch >= 0.4\n",
    "                    outputs = model(x)\n",
    "                    loss    = criterion(outputs, x)\n",
    "#                     pdb.set_trace()\n",
    "                    preds,_ = torch.max(outputs,1) # for accuracy metric\n",
    "                    # backward & optimize if training phase\n",
    "                    if phase == 'train':\n",
    "                        loss.backward()\n",
    "                        optimizer.step()\n",
    "                \n",
    "                # stats\n",
    "                running_loss += loss.item() * x.size(0)\n",
    "                running_correct += torch.sum(preds == x.data)\n",
    "                count += len(x)\n",
    "            \n",
    "            epoch_loss = running_loss / count\n",
    "            epoch_acc  = running_correct.double() / count\n",
    "            \n",
    "            # (not doing this here) deep copy model if best so far\n",
    "            #if phase == 'val' and epoch_acc > best_acc:\n",
    "            #    best_acc = epoch_acc\n",
    "            #    best_model_wts = copy.deepcopy(model.state_dict())\n",
    "            \n",
    "            "
   ]
  },
  {
   "cell_type": "code",
   "execution_count": 205,
   "metadata": {},
   "outputs": [
    {
     "name": "stdout",
     "output_type": "stream",
     "text": [
      "Epoch 1/1\n",
      "----------\n",
      "CPU times: user 54.4 s, sys: 1.3 s, total: 55.7 s\n",
      "Wall time: 19.7 s\n"
     ]
    }
   ],
   "source": [
    "%time train(autoencoder, trainloader=train_loader, valloader=test_loader, num_epochs=1)"
   ]
  },
  {
   "cell_type": "code",
   "execution_count": 208,
   "metadata": {},
   "outputs": [],
   "source": [
    "z = autoencoder(x)"
   ]
  },
  {
   "cell_type": "code",
   "execution_count": 210,
   "metadata": {},
   "outputs": [],
   "source": [
    "def compare_plot(x,z, idx=0, cdx=1):\n",
    "    \"\"\"assumes x,y (bs,1,28,28) tensors\"\"\"\n",
    "    fig,axes = plt.subplots(1,2); plt.set_cmap(['gray','viridis'][cdx]);\n",
    "    axes[0].imshow(x[idx][0].numpy()); axes[1].imshow(z[idx][0].detach().numpy());"
   ]
  },
  {
   "cell_type": "code",
   "execution_count": 211,
   "metadata": {},
   "outputs": [
    {
     "data": {
      "image/png": "[encoded data removed]",
      "text/plain": [
       "<Figure size 432x288 with 2 Axes>"
      ]
     },
     "metadata": {},
     "output_type": "display_data"
    }
   ],
   "source": [
    "compare_plot(x,z)"
   ]
  },
  {
   "cell_type": "markdown",
   "metadata": {},
   "source": [
    "Woah."
   ]
  },
  {
   "cell_type": "code",
   "execution_count": 212,
   "metadata": {},
   "outputs": [
    {
     "data": {
      "image/png": "[encoded data removed]",
      "text/plain": [
       "<Figure size 432x288 with 2 Axes>"
      ]
     },
     "metadata": {},
     "output_type": "display_data"
    }
   ],
   "source": [
    "compare_plot(x,z,idx=1)"
   ]
  },
  {
   "cell_type": "code",
   "execution_count": 213,
   "metadata": {},
   "outputs": [
    {
     "data": {
      "image/png": "[encoded data removed]",
      "text/plain": [
       "<Figure size 432x288 with 2 Axes>"
      ]
     },
     "metadata": {},
     "output_type": "display_data"
    }
   ],
   "source": [
    "compare_plot(x,z,idx=2)"
   ]
  },
  {
   "cell_type": "code",
   "execution_count": 214,
   "metadata": {},
   "outputs": [
    {
     "data": {
      "image/png": "[encoded data removed]",
      "text/plain": [
       "<Figure size 432x288 with 2 Axes>"
      ]
     },
     "metadata": {},
     "output_type": "display_data"
    }
   ],
   "source": [
    "compare_plot(x,z,idx=3)"
   ]
  },
  {
   "cell_type": "code",
   "execution_count": null,
   "metadata": {},
   "outputs": [],
   "source": []
  },
  {
   "cell_type": "code",
   "execution_count": null,
   "metadata": {},
   "outputs": [],
   "source": []
  },
  {
   "cell_type": "code",
   "execution_count": null,
   "metadata": {},
   "outputs": [],
   "source": []
  },
  {
   "cell_type": "markdown",
   "metadata": {},
   "source": [
    "## 2. Adding a sparsity constraint on the encoded representations"
   ]
  },
  {
   "cell_type": "code",
   "execution_count": null,
   "metadata": {},
   "outputs": [],
   "source": []
  },
  {
   "cell_type": "markdown",
   "metadata": {},
   "source": [
    "## 3. Deep autoencoder"
   ]
  },
  {
   "cell_type": "code",
   "execution_count": null,
   "metadata": {},
   "outputs": [],
   "source": []
  },
  {
   "cell_type": "markdown",
   "metadata": {},
   "source": [
    "## 4. Convolutional autoencoder"
   ]
  },
  {
   "cell_type": "code",
   "execution_count": null,
   "metadata": {},
   "outputs": [],
   "source": []
  },
  {
   "cell_type": "markdown",
   "metadata": {},
   "source": [
    "## 5. Application to image denoising"
   ]
  },
  {
   "cell_type": "code",
   "execution_count": null,
   "metadata": {},
   "outputs": [],
   "source": []
  },
  {
   "cell_type": "markdown",
   "metadata": {},
   "source": [
    "## 6. Sequence–to–sequence autoencoder"
   ]
  },
  {
   "cell_type": "code",
   "execution_count": null,
   "metadata": {},
   "outputs": [],
   "source": []
  },
  {
   "cell_type": "markdown",
   "metadata": {},
   "source": [
    "## 7. Variational autoencoder (VAE)"
   ]
  },
  {
   "cell_type": "code",
   "execution_count": null,
   "metadata": {},
   "outputs": [],
   "source": []
  },
  {
   "cell_type": "code",
   "execution_count": null,
   "metadata": {},
   "outputs": [],
   "source": []
  },
  {
   "cell_type": "markdown",
   "metadata": {},
   "source": [
    "---"
   ]
  },
  {
   "cell_type": "markdown",
   "metadata": {},
   "source": [
    "### Aside: calculating μ & σ of MNIST"
   ]
  },
  {
   "cell_type": "markdown",
   "metadata": {},
   "source": [
    "I wanted some values to normalize the dataset with. I did this by only passing in the `ToTensor()` transfor to the dataset object and turning off shuffling (though that shouldn't matter), then computing the standard deviation & mean.\n",
    "\n",
    "On second look, FChollet only normalizes to between `[0.0,1.0]`, so this was unnecessary."
   ]
  },
  {
   "cell_type": "code",
   "execution_count": 99,
   "metadata": {},
   "outputs": [
    {
     "name": "stdout",
     "output_type": "stream",
     "text": [
      "CPU times: user 4.82 s, sys: 17.3 ms, total: 4.84 s\n",
      "Wall time: 4.86 s\n"
     ]
    }
   ],
   "source": [
    "%%time\n",
    "std,mean,count = 0.,0.,0\n",
    "for x,_ in train_loader:\n",
    "    std   += torch.std(x)\n",
    "    mean  += torch.mean(x)\n",
    "    count += 1\n",
    "std  /= count\n",
    "mean /= count"
   ]
  },
  {
   "cell_type": "code",
   "execution_count": 100,
   "metadata": {},
   "outputs": [
    {
     "data": {
      "text/plain": [
       "(tensor(0.3073), tensor(0.1307))"
      ]
     },
     "execution_count": 100,
     "metadata": {},
     "output_type": "execute_result"
    }
   ],
   "source": [
    "std, mean"
   ]
  },
  {
   "cell_type": "markdown",
   "metadata": {},
   "source": [
    "---"
   ]
  }
 ],
 "metadata": {
  "kernelspec": {
   "display_name": "Python 3 (FastAI)",
   "language": "python",
   "name": "fastai"
  },
  "language_info": {
   "codemirror_mode": {
    "name": "ipython",
    "version": 3
   },
   "file_extension": ".py",
   "mimetype": "text/x-python",
   "name": "python",
   "nbconvert_exporter": "python",
   "pygments_lexer": "ipython3",
   "version": "3.6.5"
  }
 },
 "nbformat": 4,
 "nbformat_minor": 2
}
