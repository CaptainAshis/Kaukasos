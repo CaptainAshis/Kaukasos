{
 "cells": [
  {
   "cell_type": "code",
   "execution_count": 1,
   "metadata": {},
   "outputs": [],
   "source": [
    "%matplotlib inline\n",
    "%reload_ext autoreload\n",
    "%autoreload 2"
   ]
  },
  {
   "cell_type": "code",
   "execution_count": 2,
   "metadata": {},
   "outputs": [],
   "source": [
    "import matplotlib.pyplot as plt\n",
    "import numpy as np"
   ]
  },
  {
   "cell_type": "code",
   "execution_count": 3,
   "metadata": {},
   "outputs": [],
   "source": [
    "import networkx as nx\n",
    "from grove.pyqaoa.qaoa import QAOA\n",
    "from pyquil.paulis import PauliSum, PauliTerm\n",
    "from pyquil.gates import H\n",
    "from pyquil.api import QVMConnection as q_sim\n",
    "import pyquil.quil as pq"
   ]
  },
  {
   "cell_type": "code",
   "execution_count": 4,
   "metadata": {},
   "outputs": [],
   "source": [
    "# n-qubit graph\n",
    "n = 6\n",
    "graph = nx.Graph()\n",
    "for i in range(n):\n",
    "    graph.add_edge(i, (i + 1) % n)"
   ]
  },
  {
   "cell_type": "code",
   "execution_count": 5,
   "metadata": {},
   "outputs": [
    {
     "data": {
      "image/png": "[encoded data removed]",
      "text/plain": [
       "<Figure size 432x288 with 1 Axes>"
      ]
     },
     "metadata": {},
     "output_type": "display_data"
    }
   ],
   "source": [
    "nx.draw_circular(graph, node_color=\"#6CAFB7\")"
   ]
  },
  {
   "cell_type": "markdown",
   "metadata": {},
   "source": [
    "## Simple Bipartite Graph"
   ]
  },
  {
   "cell_type": "markdown",
   "metadata": {},
   "source": [
    "```\n",
    "u   v\n",
    "|\\ /|    1  3  5\n",
    "| • |    v––x––z\n",
    "|/ \\|     \\/ \\/\n",
    "w   x     /\\ /\\\n",
    "|\\ /|    u––w––y\n",
    "| • |    0  2  4\n",
    "|/ \\|\n",
    "y   z\n",
    "```"
   ]
  },
  {
   "cell_type": "code",
   "execution_count": 265,
   "metadata": {},
   "outputs": [],
   "source": [
    "display_options = {'node_color' :\"#6CAFB7\",\n",
    "                   'node_size'  :250,\n",
    "                   'with_labels': True}"
   ]
  },
  {
   "cell_type": "code",
   "execution_count": 13,
   "metadata": {},
   "outputs": [],
   "source": [
    "g = nx.Graph()\n",
    "\n",
    "nodes = [\"\"]\n",
    "\n",
    "g.add_nodes_from(\"uvwxyz\")"
   ]
  },
  {
   "cell_type": "code",
   "execution_count": 14,
   "metadata": {},
   "outputs": [
    {
     "data": {
      "text/plain": [
       "NodeView(('u', 'v', 'w', 'x', 'y', 'z'))"
      ]
     },
     "execution_count": 14,
     "metadata": {},
     "output_type": "execute_result"
    }
   ],
   "source": [
    "g.nodes()"
   ]
  },
  {
   "cell_type": "code",
   "execution_count": 45,
   "metadata": {},
   "outputs": [],
   "source": [
    "edges = [('u','x'),('u','w'),('v','w'),('v','x'),\n",
    "         ('y','w'),('y','x'),('z','w'),('z','x')]\n",
    "g.add_edges_from(edges)"
   ]
  },
  {
   "cell_type": "code",
   "execution_count": 47,
   "metadata": {},
   "outputs": [
    {
     "data": {
      "text/plain": [
       "EdgeView([('u', 'x'), ('u', 'w'), ('v', 'w'), ('v', 'x'), ('w', 'y'), ('w', 'z'), ('x', 'y'), ('x', 'z')])"
      ]
     },
     "execution_count": 47,
     "metadata": {},
     "output_type": "execute_result"
    }
   ],
   "source": [
    "g.edges()"
   ]
  },
  {
   "cell_type": "code",
   "execution_count": 46,
   "metadata": {},
   "outputs": [
    {
     "data": {
      "image/png": "[encoded data removed]",
      "text/plain": [
       "<Figure size 432x288 with 1 Axes>"
      ]
     },
     "metadata": {},
     "output_type": "display_data"
    }
   ],
   "source": [
    "nx.draw(g, with_labels=True, **display_options)"
   ]
  },
  {
   "cell_type": "markdown",
   "metadata": {},
   "source": [
    "## 'Classical' Max-Cut Solver"
   ]
  },
  {
   "cell_type": "markdown",
   "metadata": {},
   "source": [
    "I'll use this to test my 'quantum' solutions later. No attempts at efficiency, just a brute-force check.\n",
    "\n",
    "Constraints:\n",
    "\n",
    "- $V_1 \\cap V_2 = \\varnothing$ and $V_1 \\cup V_2 = V$; $\\,\\,\\,\\,V: graph$\n",
    "\n",
    "- cuts A,B have no internal edges\n",
    "- no edge has more than 1 end-point"
   ]
  },
  {
   "cell_type": "markdown",
   "metadata": {},
   "source": [
    "<img src=\"images/max_cut_bipartite_graph_notes.png\" style=\"width:100%\">"
   ]
  },
  {
   "cell_type": "markdown",
   "metadata": {},
   "source": [
    "I'll start by assuming the graph is bipartite and focus on finding the max cut."
   ]
  },
  {
   "cell_type": "code",
   "execution_count": 50,
   "metadata": {},
   "outputs": [
    {
     "data": {
      "text/plain": [
       "EdgeView([('u', 'x'), ('u', 'w'), ('v', 'w'), ('v', 'x'), ('w', 'y'), ('w', 'z'), ('x', 'y'), ('x', 'z')])"
      ]
     },
     "execution_count": 50,
     "metadata": {},
     "output_type": "execute_result"
    }
   ],
   "source": [
    "g.edges"
   ]
  },
  {
   "cell_type": "code",
   "execution_count": 60,
   "metadata": {},
   "outputs": [
    {
     "data": {
      "text/plain": [
       "NodeView(('u', 'v', 'w', 'x', 'y', 'z'))"
      ]
     },
     "execution_count": 60,
     "metadata": {},
     "output_type": "execute_result"
    }
   ],
   "source": [
    "g.nodes"
   ]
  },
  {
   "cell_type": "code",
   "execution_count": 61,
   "metadata": {},
   "outputs": [],
   "source": [
    "def internal_edge(edge, graph):\n",
    "    \"\"\"Checks if edge is internal to graph.\"\"\"\n",
    "    return edge in graph.edges"
   ]
  },
  {
   "cell_type": "code",
   "execution_count": 70,
   "metadata": {},
   "outputs": [
    {
     "data": {
      "text/plain": [
       "[('u', 'x'),\n",
       " ('u', 'w'),\n",
       " ('v', 'w'),\n",
       " ('v', 'x'),\n",
       " ('w', 'y'),\n",
       " ('w', 'z'),\n",
       " ('x', 'y'),\n",
       " ('x', 'z')]"
      ]
     },
     "execution_count": 70,
     "metadata": {},
     "output_type": "execute_result"
    }
   ],
   "source": [
    "list(g.edges())"
   ]
  },
  {
   "cell_type": "code",
   "execution_count": 71,
   "metadata": {},
   "outputs": [
    {
     "data": {
      "text/plain": [
       "('u', 'x')"
      ]
     },
     "execution_count": 71,
     "metadata": {},
     "output_type": "execute_result"
    }
   ],
   "source": [
    "edge = list(g.edges())[0];\n",
    "edge"
   ]
  },
  {
   "cell_type": "code",
   "execution_count": 72,
   "metadata": {},
   "outputs": [
    {
     "data": {
      "text/plain": [
       "True"
      ]
     },
     "execution_count": 72,
     "metadata": {},
     "output_type": "execute_result"
    }
   ],
   "source": [
    "internal_edge(edge, g)"
   ]
  },
  {
   "cell_type": "code",
   "execution_count": 96,
   "metadata": {},
   "outputs": [],
   "source": [
    "def single_endpoint(edge, graph):\n",
    "    \"\"\"Checks that an edge has a single endpoint in graph.\"\"\"\n",
    "    return list(graph.edges()).count(edge) == 1"
   ]
  },
  {
   "cell_type": "code",
   "execution_count": 97,
   "metadata": {},
   "outputs": [
    {
     "name": "stdout",
     "output_type": "stream",
     "text": [
      "True\n",
      "True\n",
      "True\n",
      "True\n",
      "True\n",
      "True\n",
      "True\n",
      "True\n"
     ]
    }
   ],
   "source": [
    "for edge in list(g.edges()):\n",
    "    print(single_endpoint(edge, g))"
   ]
  },
  {
   "cell_type": "markdown",
   "metadata": {},
   "source": [
    "What has to be maximized is the number of edges crossed by the cut."
   ]
  },
  {
   "cell_type": "code",
   "execution_count": 99,
   "metadata": {},
   "outputs": [
    {
     "data": {
      "text/plain": [
       "EdgeView([('u', 'x'), ('u', 'w'), ('v', 'w'), ('v', 'x'), ('w', 'y'), ('w', 'z'), ('x', 'y'), ('x', 'z')])"
      ]
     },
     "execution_count": 99,
     "metadata": {},
     "output_type": "execute_result"
    }
   ],
   "source": [
    "g.edges()"
   ]
  },
  {
   "cell_type": "code",
   "execution_count": 147,
   "metadata": {},
   "outputs": [],
   "source": [
    "a = g.edges()\n",
    "b = g.edges()"
   ]
  },
  {
   "cell_type": "code",
   "execution_count": 152,
   "metadata": {},
   "outputs": [
    {
     "name": "stdout",
     "output_type": "stream",
     "text": [
      "1\n",
      "1\n",
      "1\n",
      "1\n",
      "1\n",
      "1\n",
      "1\n",
      "1\n"
     ]
    }
   ],
   "source": [
    "for val in a.values():\n",
    "    if val in b.values():\n",
    "        print(1)"
   ]
  },
  {
   "cell_type": "code",
   "execution_count": 167,
   "metadata": {},
   "outputs": [
    {
     "data": {
      "text/plain": [
       "['x', 'w']"
      ]
     },
     "execution_count": 167,
     "metadata": {},
     "output_type": "execute_result"
    }
   ],
   "source": [
    "list(g.neighbors('u'))"
   ]
  },
  {
   "cell_type": "code",
   "execution_count": 163,
   "metadata": {},
   "outputs": [
    {
     "data": {
      "text/plain": [
       "AtlasView({'x': {}, 'w': {}})"
      ]
     },
     "execution_count": 163,
     "metadata": {},
     "output_type": "execute_result"
    }
   ],
   "source": [
    "tmp = g['u'];tmp"
   ]
  },
  {
   "cell_type": "code",
   "execution_count": 164,
   "metadata": {},
   "outputs": [
    {
     "data": {
      "text/plain": [
       "ValuesView(AtlasView({'x': {}, 'w': {}}))"
      ]
     },
     "execution_count": 164,
     "metadata": {},
     "output_type": "execute_result"
    }
   ],
   "source": [
    "tmp.values()"
   ]
  },
  {
   "cell_type": "code",
   "execution_count": 157,
   "metadata": {},
   "outputs": [
    {
     "data": {
      "text/plain": [
       "[('u', 'x'),\n",
       " ('u', 'w'),\n",
       " ('v', 'w'),\n",
       " ('v', 'x'),\n",
       " ('w', 'y'),\n",
       " ('w', 'z'),\n",
       " ('x', 'y'),\n",
       " ('x', 'z')]"
      ]
     },
     "execution_count": 157,
     "metadata": {},
     "output_type": "execute_result"
    }
   ],
   "source": [
    "list(g.edges())"
   ]
  },
  {
   "cell_type": "code",
   "execution_count": 278,
   "metadata": {},
   "outputs": [],
   "source": [
    "# def edges_between(graph_A, graph_B):\n",
    "#     \"\"\"Gets the number of edges shared by edges_A and edges_B.\"\"\"\n",
    "#     count = 0\n",
    "#     for edge in graph_A.edges:\n",
    "#         count += edge in graph_B.edges\n",
    "#     return count\n",
    "\n",
    "def edges_between(edges_A, edges_B):\n",
    "    \"\"\"Gets the number of edges shared by edges_A and edges_B.\"\"\"\n",
    "    count = 0\n",
    "    for edge in edges_A:\n",
    "        count += set(edge) in map(set, edges_B)\n",
    "    return count"
   ]
  },
  {
   "cell_type": "code",
   "execution_count": 279,
   "metadata": {},
   "outputs": [],
   "source": [
    "def get_edges_from_nodes(nodes, graph):\n",
    "    \"\"\"Retreives all edges connected to nodes in graph.\"\"\"\n",
    "    edges = []\n",
    "    for node in nodes:\n",
    "        for edge in graph.edges:\n",
    "            if node in edge:\n",
    "                edges.append(edge)\n",
    "    return edges"
   ]
  },
  {
   "cell_type": "code",
   "execution_count": 354,
   "metadata": {},
   "outputs": [],
   "source": [
    "def get_unique_permutations(nodes, split_idx):\n",
    "    \"\"\"Returns all unique combinations of nodes split at split_idx.\"\"\"\n",
    "    nodes_A,nodes_B = [],[]\n",
    "    # get all unique combos up to the split\n",
    "    for perm in itertools.permutations(nodes, split_idx+1):\n",
    "        if set(perm) not in nodes_A: nodes_A.append(set(perm))\n",
    "    # cast the sets back to lists\n",
    "    nodes_A = list(map(list, nodes_A))\n",
    "    # get all unique combos after the split\n",
    "    for perm in nodes_A:\n",
    "        add_nodes = nodes.copy()\n",
    "        for node in perm: \n",
    "            add_nodes.remove(node)\n",
    "        nodes_B.append(add_nodes)\n",
    "    # return permutations of split pairs\n",
    "    return nodes_A, nodes_B"
   ]
  },
  {
   "cell_type": "markdown",
   "metadata": {},
   "source": [
    "Manual run; The answer should be 8"
   ]
  },
  {
   "cell_type": "code",
   "execution_count": 285,
   "metadata": {},
   "outputs": [
    {
     "name": "stdout",
     "output_type": "stream",
     "text": [
      "8\n"
     ]
    }
   ],
   "source": [
    "# Select Cut\n",
    "nodes_A = ['w','x']\n",
    "nodes_B = ['u','v','y','z']\n",
    "\n",
    "# Get Edges of Cut\n",
    "edges_A = get_edges_from_nodes(nodes_A, g)\n",
    "edges_B = get_edges_from_nodes(nodes_B, g)\n",
    "\n",
    "# Check No Internal Edges\n",
    "A_internal = g.copy()\n",
    "A_internal.remove_nodes_from(nodes_B)\n",
    "B_internal = g.copy()\n",
    "B_internal.remove_nodes_from(nodes_A)\n",
    "for graph in (A_internal, B_internal): assert(len(graph.edges)==0)\n",
    "\n",
    "# Check all Single Endpoints  –  check first no internals\n",
    "assert(set(edges_B)==set(edges_A))\n",
    "    \n",
    "# Count Crossed Edges\n",
    "print(edges_between(edges_A, edges_B))"
   ]
  },
  {
   "cell_type": "markdown",
   "metadata": {},
   "source": [
    "Now to iterate through all possible cuts:"
   ]
  },
  {
   "cell_type": "code",
   "execution_count": 377,
   "metadata": {},
   "outputs": [
    {
     "name": "stdout",
     "output_type": "stream",
     "text": [
      "['u'] ['v', 'w', 'x', 'y', 'z']\n",
      "['v'] ['u', 'w', 'x', 'y', 'z']\n",
      "['w'] ['u', 'v', 'x', 'y', 'z']\n",
      "['x'] ['u', 'v', 'w', 'y', 'z']\n",
      "['y'] ['u', 'v', 'w', 'x', 'z']\n",
      "['z'] ['u', 'v', 'w', 'x', 'y']\n",
      "['v', 'u'] ['w', 'x', 'y', 'z']\n",
      "['w', 'u'] ['v', 'x', 'y', 'z']\n",
      "['u', 'x'] ['v', 'w', 'y', 'z']\n",
      "['u', 'y'] ['v', 'w', 'x', 'z']\n",
      "['u', 'z'] ['v', 'w', 'x', 'y']\n",
      "['v', 'w'] ['u', 'x', 'y', 'z']\n",
      "['v', 'x'] ['u', 'w', 'y', 'z']\n",
      "['v', 'y'] ['u', 'w', 'x', 'z']\n",
      "['v', 'z'] ['u', 'w', 'x', 'y']\n",
      "['w', 'x'] ['u', 'v', 'y', 'z']\n",
      "['w', 'y'] ['u', 'v', 'x', 'z']\n",
      "['w', 'z'] ['u', 'v', 'x', 'y']\n",
      "['x', 'y'] ['u', 'v', 'w', 'z']\n",
      "['x', 'z'] ['u', 'v', 'w', 'y']\n",
      "['z', 'y'] ['u', 'v', 'w', 'x']\n",
      "['v', 'u', 'w'] ['x', 'y', 'z']\n",
      "['v', 'u', 'x'] ['w', 'y', 'z']\n",
      "['v', 'u', 'y'] ['w', 'x', 'z']\n",
      "['v', 'u', 'z'] ['w', 'x', 'y']\n",
      "['w', 'u', 'x'] ['v', 'y', 'z']\n",
      "['w', 'u', 'y'] ['v', 'x', 'z']\n",
      "['w', 'u', 'z'] ['v', 'x', 'y']\n",
      "['u', 'x', 'y'] ['v', 'w', 'z']\n",
      "['u', 'x', 'z'] ['v', 'w', 'y']\n",
      "['u', 'z', 'y'] ['v', 'w', 'x']\n",
      "['v', 'x', 'w'] ['u', 'y', 'z']\n",
      "['v', 'y', 'w'] ['u', 'x', 'z']\n",
      "['v', 'z', 'w'] ['u', 'x', 'y']\n",
      "['v', 'x', 'y'] ['u', 'w', 'z']\n",
      "['v', 'x', 'z'] ['u', 'w', 'y']\n",
      "['v', 'z', 'y'] ['u', 'w', 'x']\n",
      "['w', 'x', 'y'] ['u', 'v', 'z']\n",
      "['w', 'x', 'z'] ['u', 'v', 'y']\n",
      "['w', 'z', 'y'] ['u', 'v', 'x']\n",
      "['x', 'z', 'y'] ['u', 'v', 'w']\n",
      "8 [['w', 'x'], ['u', 'v', 'y', 'z']]\n"
     ]
    }
   ],
   "source": [
    "# create graph\n",
    "g = nx.Graph()\n",
    "g.add_nodes_from(\"uvwxyz\")\n",
    "edges = [('u','x'),('u','w'),('v','w'),('v','x'),\n",
    "         ('y','w'),('y','x'),('z','w'),('z','x')]\n",
    "g.add_edges_from(edges)\n",
    "\n",
    "max_crossed = 0\n",
    "\n",
    "# get cut splits\n",
    "n_nodes = len(g.nodes)\n",
    "split_idxs = list(range(0, int(n_nodes//2)))\n",
    "\n",
    "# iterate through all unique cut sizes\n",
    "for split_idx in split_idxs:\n",
    "    permutations = get_unique_permutations(nodes, split_idx)\n",
    "    \n",
    "    # iterate through all unique node permutations (Select Cut)\n",
    "    for nodes_A, nodes_B in list(zip(*permutations)):\n",
    "        print(nodes_A, nodes_B)\n",
    "        \n",
    "        # get edges of cut\n",
    "        edges_A = get_edges_from_nodes(nodes_A, g)\n",
    "        edges_B = get_edges_from_nodes(nodes_B, g)\n",
    "        \n",
    "        # check no internal edges\n",
    "        A_internal = g.copy()\n",
    "        B_internal = g.copy()\n",
    "        A_internal.remove_nodes_from(nodes_B)\n",
    "        B_internal.remove_nodes_from(nodes_A)\n",
    "        for graph in (A_internal, B_internal): \n",
    "            #assert(len(graph.edges)==0)\n",
    "            internal_exists = False\n",
    "            if len(graph.edges) > 0: \n",
    "                internal_exists = True\n",
    "                break\n",
    "        if internal_exists: continue\n",
    "        \n",
    "        # check all single endpoints – (check first no internals)\n",
    "        #assert(set(edges_B)==set(edges_A))\n",
    "        if set(edges_B) != set(edges_A): continue\n",
    "        \n",
    "        # count crossed edges\n",
    "        count = edges_between(edges_A, edges_B)\n",
    "        if count > max_crossed:\n",
    "            max_crossed = count\n",
    "            max_cut = [nodes_A, nodes_B]\n",
    "            \n",
    "print(max_crossed, max_cut)"
   ]
  },
  {
   "cell_type": "markdown",
   "metadata": {},
   "source": [
    "Refactored:"
   ]
  },
  {
   "cell_type": "code",
   "execution_count": 381,
   "metadata": {},
   "outputs": [],
   "source": [
    "def valid_cut(nodes_AB, edges_AB, graph):\n",
    "    \"\"\"Determines if a cut is valid.\"\"\"\n",
    "    \n",
    "    nodes_A, nodes_B = nodes_AB\n",
    "    edges_A, edges_B = edges_AB\n",
    "    valid_cut = True\n",
    "    \n",
    "    # get edges of cut\n",
    "    edges_A = get_edges_from_nodes(nodes_A, graph)\n",
    "    edges_B = get_edges_from_nodes(nodes_B, graph)\n",
    "\n",
    "    # check no internal edges\n",
    "    A_internal = graph.copy()\n",
    "    B_internal = graph.copy()\n",
    "    A_internal.remove_nodes_from(nodes_B)\n",
    "    B_internal.remove_nodes_from(nodes_A)\n",
    "    \n",
    "    for graph in (A_internal, B_internal): \n",
    "        if len(graph.edges) > 0: \n",
    "            valid_cut = False\n",
    "            break\n",
    "\n",
    "    # check all single endpoints – (check first no internals)\n",
    "    if valid_cut: valid_cut = set(edges_B)==set(edges_A)\n",
    "        \n",
    "    return valid_cut"
   ]
  },
  {
   "cell_type": "code",
   "execution_count": 383,
   "metadata": {},
   "outputs": [],
   "source": [
    "def find_max_cut(graph):\n",
    "    \"\"\"Finds the Max Cut of a Bipartite Graph.\"\"\"\n",
    "    max_crossed = 0\n",
    "\n",
    "    # get cut splits\n",
    "    n_nodes = len(graph.nodes)\n",
    "    split_idxs = list(range(0, int(n_nodes//2)))\n",
    "\n",
    "    # iterate through all unique cut sizes\n",
    "    for split_idx in split_idxs:\n",
    "        permutations = get_unique_permutations(nodes, split_idx)\n",
    "\n",
    "        # iterate through all unique node permutations (Select Cut)\n",
    "        for nodes_A, nodes_B in list(zip(*permutations)):\n",
    "\n",
    "            # get edges of cut\n",
    "            edges_A = get_edges_from_nodes(nodes_A, graph)\n",
    "            edges_B = get_edges_from_nodes(nodes_B, graph)\n",
    "\n",
    "            # check no internal edges and check all single endpoints\n",
    "            if not valid_cut((nodes_A, nodes_B), (edges_A, edges_B), graph):\n",
    "                continue\n",
    "\n",
    "            # count crossed edges\n",
    "            count = edges_between(edges_A, edges_B)\n",
    "            if count > max_crossed:\n",
    "                max_crossed = count\n",
    "                max_cut = [nodes_A, nodes_B]\n",
    "                \n",
    "    # check max cut exists\n",
    "    if max_crossed == 0:\n",
    "        max_cut = [None, None]\n",
    "    \n",
    "    return max_crossed, max_cut"
   ]
  },
  {
   "cell_type": "code",
   "execution_count": 387,
   "metadata": {},
   "outputs": [
    {
     "name": "stdout",
     "output_type": "stream",
     "text": [
      "8 [['w', 'x'], ['u', 'v', 'y', 'z']]\n"
     ]
    },
    {
     "data": {
      "image/png": "[encoded data removed]",
      "text/plain": [
       "<Figure size 432x288 with 1 Axes>"
      ]
     },
     "metadata": {},
     "output_type": "display_data"
    }
   ],
   "source": [
    "# create graph\n",
    "g = nx.Graph()\n",
    "g.add_nodes_from(\"uvwxyz\")\n",
    "edges = [('u','x'),('u','w'),('v','w'),('v','x'),\n",
    "         ('y','w'),('y','x'),('z','w'),('z','x')]\n",
    "g.add_edges_from(edges)\n",
    "\n",
    "# find max cut\n",
    "max_crossed, max_cut = find_max_cut(g)\n",
    "\n",
    "# display\n",
    "print(f\"{max_crossed} {max_cut}\")\n",
    "nx.draw(g, **display_options)"
   ]
  },
  {
   "cell_type": "markdown",
   "metadata": {},
   "source": [
    "## More scrap work"
   ]
  },
  {
   "cell_type": "code",
   "execution_count": 370,
   "metadata": {},
   "outputs": [
    {
     "data": {
      "text/plain": [
       "[0, 1, 2]"
      ]
     },
     "execution_count": 370,
     "metadata": {},
     "output_type": "execute_result"
    }
   ],
   "source": [
    "split_idxs"
   ]
  },
  {
   "cell_type": "code",
   "execution_count": 362,
   "metadata": {},
   "outputs": [
    {
     "data": {
      "text/plain": [
       "0"
      ]
     },
     "execution_count": 362,
     "metadata": {},
     "output_type": "execute_result"
    }
   ],
   "source": [
    "max_crossed"
   ]
  },
  {
   "cell_type": "code",
   "execution_count": 356,
   "metadata": {},
   "outputs": [
    {
     "data": {
      "text/plain": [
       "[(['v', 'u'], ['w', 'x', 'y', 'z']),\n",
       " (['w', 'u'], ['v', 'x', 'y', 'z']),\n",
       " (['u', 'x'], ['v', 'w', 'y', 'z']),\n",
       " (['u', 'y'], ['v', 'w', 'x', 'z']),\n",
       " (['u', 'z'], ['v', 'w', 'x', 'y']),\n",
       " (['v', 'w'], ['u', 'x', 'y', 'z']),\n",
       " (['v', 'x'], ['u', 'w', 'y', 'z']),\n",
       " (['v', 'y'], ['u', 'w', 'x', 'z']),\n",
       " (['v', 'z'], ['u', 'w', 'x', 'y']),\n",
       " (['w', 'x'], ['u', 'v', 'y', 'z']),\n",
       " (['w', 'y'], ['u', 'v', 'x', 'z']),\n",
       " (['w', 'z'], ['u', 'v', 'x', 'y']),\n",
       " (['x', 'y'], ['u', 'v', 'w', 'z']),\n",
       " (['x', 'z'], ['u', 'v', 'w', 'y']),\n",
       " (['z', 'y'], ['u', 'v', 'w', 'x'])]"
      ]
     },
     "execution_count": 356,
     "metadata": {},
     "output_type": "execute_result"
    }
   ],
   "source": [
    "permutations = get_unique_permutations(nodes, 1)\n",
    "list(zip(*permutations))"
   ]
  },
  {
   "cell_type": "code",
   "execution_count": 357,
   "metadata": {},
   "outputs": [
    {
     "name": "stdout",
     "output_type": "stream",
     "text": [
      "['v', 'u'] ['w', 'x', 'y', 'z']\n",
      "['w', 'u'] ['v', 'x', 'y', 'z']\n",
      "['u', 'x'] ['v', 'w', 'y', 'z']\n",
      "['u', 'y'] ['v', 'w', 'x', 'z']\n",
      "['u', 'z'] ['v', 'w', 'x', 'y']\n",
      "['v', 'w'] ['u', 'x', 'y', 'z']\n",
      "['v', 'x'] ['u', 'w', 'y', 'z']\n",
      "['v', 'y'] ['u', 'w', 'x', 'z']\n",
      "['v', 'z'] ['u', 'w', 'x', 'y']\n",
      "['w', 'x'] ['u', 'v', 'y', 'z']\n",
      "['w', 'y'] ['u', 'v', 'x', 'z']\n",
      "['w', 'z'] ['u', 'v', 'x', 'y']\n",
      "['x', 'y'] ['u', 'v', 'w', 'z']\n",
      "['x', 'z'] ['u', 'v', 'w', 'y']\n",
      "['z', 'y'] ['u', 'v', 'w', 'x']\n"
     ]
    }
   ],
   "source": [
    "for a,b in list(zip(*permutations)):\n",
    "    print(a, b)"
   ]
  },
  {
   "cell_type": "markdown",
   "metadata": {},
   "source": [
    "---"
   ]
  },
  {
   "cell_type": "code",
   "execution_count": 324,
   "metadata": {},
   "outputs": [
    {
     "data": {
      "text/plain": [
       "['u', 'v', 'w', 'x', 'y', 'z']"
      ]
     },
     "execution_count": 324,
     "metadata": {},
     "output_type": "execute_result"
    }
   ],
   "source": [
    "nodes = ['u', 'v', 'w', 'x', 'y', 'z']; nodes"
   ]
  },
  {
   "cell_type": "code",
   "execution_count": 326,
   "metadata": {},
   "outputs": [],
   "source": [
    "nodes_A = ['w', 'x']"
   ]
  },
  {
   "cell_type": "code",
   "execution_count": 329,
   "metadata": {},
   "outputs": [
    {
     "ename": "TypeError",
     "evalue": "remove() takes exactly one argument (2 given)",
     "output_type": "error",
     "traceback": [
      "\u001b[0;31m---------------------------------------------------------------------------\u001b[0m",
      "\u001b[0;31mTypeError\u001b[0m                                 Traceback (most recent call last)",
      "\u001b[0;32m<ipython-input-329-2e0336176af0>\u001b[0m in \u001b[0;36m<module>\u001b[0;34m()\u001b[0m\n\u001b[0;32m----> 1\u001b[0;31m \u001b[0mnodes\u001b[0m\u001b[0;34m.\u001b[0m\u001b[0mremove\u001b[0m\u001b[0;34m(\u001b[0m\u001b[0;34m*\u001b[0m\u001b[0mnodes_A\u001b[0m\u001b[0;34m)\u001b[0m\u001b[0;34m\u001b[0m\u001b[0m\n\u001b[0m",
      "\u001b[0;31mTypeError\u001b[0m: remove() takes exactly one argument (2 given)"
     ]
    }
   ],
   "source": [
    "nodes.remove(nodes_A)"
   ]
  },
  {
   "cell_type": "markdown",
   "metadata": {},
   "source": [
    "Checking permutation logic"
   ]
  },
  {
   "cell_type": "code",
   "execution_count": 304,
   "metadata": {},
   "outputs": [
    {
     "data": {
      "text/plain": [
       "30"
      ]
     },
     "execution_count": 304,
     "metadata": {},
     "output_type": "execute_result"
    }
   ],
   "source": [
    "len(list(itertools.permutations(nodes, 2)))"
   ]
  },
  {
   "cell_type": "code",
   "execution_count": 308,
   "metadata": {},
   "outputs": [
    {
     "data": {
      "text/plain": [
       "15"
      ]
     },
     "execution_count": 308,
     "metadata": {},
     "output_type": "execute_result"
    }
   ],
   "source": [
    "permutations = []\n",
    "for perm in itertools.permutations(nodes, 2):\n",
    "    if set(perm) not in permutations: permutations.append(set(perm))\n",
    "len(permutations)"
   ]
  },
  {
   "cell_type": "code",
   "execution_count": 319,
   "metadata": {},
   "outputs": [
    {
     "data": {
      "text/plain": [
       "360"
      ]
     },
     "execution_count": 319,
     "metadata": {},
     "output_type": "execute_result"
    }
   ],
   "source": [
    "len(list(itertools.permutations(nodes, 4)))"
   ]
  },
  {
   "cell_type": "code",
   "execution_count": 320,
   "metadata": {},
   "outputs": [
    {
     "data": {
      "text/plain": [
       "15"
      ]
     },
     "execution_count": 320,
     "metadata": {},
     "output_type": "execute_result"
    }
   ],
   "source": [
    "permutations = []\n",
    "for perm in itertools.permutations(nodes, 4):\n",
    "    if set(perm) not in permutations: permutations.append(set(perm))\n",
    "len(permutations)"
   ]
  },
  {
   "cell_type": "code",
   "execution_count": 311,
   "metadata": {},
   "outputs": [
    {
     "data": {
      "text/plain": [
       "[{'u', 'v', 'w', 'x'},\n",
       " {'u', 'v', 'w', 'y'},\n",
       " {'u', 'v', 'w', 'z'},\n",
       " {'u', 'v', 'x', 'y'},\n",
       " {'u', 'v', 'x', 'z'},\n",
       " {'u', 'v', 'y', 'z'},\n",
       " {'u', 'w', 'x', 'y'},\n",
       " {'u', 'w', 'x', 'z'},\n",
       " {'u', 'w', 'y', 'z'},\n",
       " {'u', 'x', 'y', 'z'},\n",
       " {'v', 'w', 'x', 'y'},\n",
       " {'v', 'w', 'x', 'z'},\n",
       " {'v', 'w', 'y', 'z'},\n",
       " {'v', 'x', 'y', 'z'},\n",
       " {'w', 'x', 'y', 'z'}]"
      ]
     },
     "execution_count": 311,
     "metadata": {},
     "output_type": "execute_result"
    }
   ],
   "source": [
    "permutations"
   ]
  },
  {
   "cell_type": "code",
   "execution_count": 312,
   "metadata": {},
   "outputs": [
    {
     "data": {
      "text/plain": [
       "720"
      ]
     },
     "execution_count": 312,
     "metadata": {},
     "output_type": "execute_result"
    }
   ],
   "source": [
    "len(list(itertools.permutations(nodes, 6)))"
   ]
  },
  {
   "cell_type": "code",
   "execution_count": 316,
   "metadata": {},
   "outputs": [
    {
     "data": {
      "text/plain": [
       "1"
      ]
     },
     "execution_count": 316,
     "metadata": {},
     "output_type": "execute_result"
    }
   ],
   "source": [
    "permutations = []\n",
    "for perm in itertools.permutations(nodes, 6):\n",
    "    if set(perm) not in permutations: permutations.append(set(perm))\n",
    "len(permutations)"
   ]
  },
  {
   "cell_type": "code",
   "execution_count": 321,
   "metadata": {},
   "outputs": [
    {
     "data": {
      "text/plain": [
       "6"
      ]
     },
     "execution_count": 321,
     "metadata": {},
     "output_type": "execute_result"
    }
   ],
   "source": [
    "permutations = []\n",
    "for perm in itertools.permutations(nodes, 5):\n",
    "    if set(perm) not in permutations: permutations.append(set(perm))\n",
    "len(permutations)"
   ]
  },
  {
   "cell_type": "code",
   "execution_count": 322,
   "metadata": {},
   "outputs": [
    {
     "data": {
      "text/plain": [
       "6"
      ]
     },
     "execution_count": 322,
     "metadata": {},
     "output_type": "execute_result"
    }
   ],
   "source": [
    "permutations = []\n",
    "for perm in itertools.permutations(nodes, 1):\n",
    "    if set(perm) not in permutations: permutations.append(set(perm))\n",
    "len(permutations)"
   ]
  },
  {
   "cell_type": "code",
   "execution_count": 314,
   "metadata": {},
   "outputs": [
    {
     "data": {
      "text/plain": [
       "720"
      ]
     },
     "execution_count": 314,
     "metadata": {},
     "output_type": "execute_result"
    }
   ],
   "source": [
    "len(list(itertools.permutations(nodes)))"
   ]
  },
  {
   "cell_type": "code",
   "execution_count": 315,
   "metadata": {},
   "outputs": [
    {
     "data": {
      "text/plain": [
       "['u', 'v', 'w', 'x', 'y', 'z']"
      ]
     },
     "execution_count": 315,
     "metadata": {},
     "output_type": "execute_result"
    }
   ],
   "source": [
    "nodes"
   ]
  },
  {
   "cell_type": "code",
   "execution_count": 282,
   "metadata": {},
   "outputs": [
    {
     "data": {
      "text/plain": [
       "[('u', 'x'),\n",
       " ('u', 'w'),\n",
       " ('v', 'w'),\n",
       " ('v', 'x'),\n",
       " ('w', 'y'),\n",
       " ('x', 'y'),\n",
       " ('w', 'z'),\n",
       " ('x', 'z')]"
      ]
     },
     "execution_count": 282,
     "metadata": {},
     "output_type": "execute_result"
    }
   ],
   "source": [
    "edges_B"
   ]
  },
  {
   "cell_type": "code",
   "execution_count": 281,
   "metadata": {},
   "outputs": [
    {
     "data": {
      "text/plain": [
       "[('u', 'w'),\n",
       " ('v', 'w'),\n",
       " ('w', 'y'),\n",
       " ('w', 'z'),\n",
       " ('u', 'x'),\n",
       " ('v', 'x'),\n",
       " ('x', 'y'),\n",
       " ('x', 'z')]"
      ]
     },
     "execution_count": 281,
     "metadata": {},
     "output_type": "execute_result"
    }
   ],
   "source": [
    "edges_A"
   ]
  },
  {
   "cell_type": "code",
   "execution_count": 266,
   "metadata": {},
   "outputs": [
    {
     "data": {
      "text/plain": [
       "(NodeView(('v', 'w', 'x', 'y', 'z')),\n",
       " EdgeView([('v', 'w'), ('v', 'x'), ('w', 'y'), ('w', 'z'), ('x', 'y'), ('x', 'z')]),\n",
       " None)"
      ]
     },
     "execution_count": 266,
     "metadata": {},
     "output_type": "execute_result"
    },
    {
     "data": {
      "image/png": "[encoded data removed]",
      "text/plain": [
       "<Figure size 432x288 with 1 Axes>"
      ]
     },
     "metadata": {},
     "output_type": "display_data"
    }
   ],
   "source": [
    "a = g.copy()\n",
    "a.remove_node('u')\n",
    "a.nodes, a.edges, nx.draw(a, **display_options)"
   ]
  },
  {
   "cell_type": "markdown",
   "metadata": {},
   "source": [
    "---"
   ]
  },
  {
   "cell_type": "code",
   "execution_count": 246,
   "metadata": {},
   "outputs": [
    {
     "data": {
      "text/plain": [
       "NodeView(('u', 'v', 'w', 'x', 'y', 'z'))"
      ]
     },
     "execution_count": 246,
     "metadata": {},
     "output_type": "execute_result"
    }
   ],
   "source": [
    "g.nodes"
   ]
  },
  {
   "cell_type": "code",
   "execution_count": 247,
   "metadata": {},
   "outputs": [
    {
     "data": {
      "text/plain": [
       "{(1, 2), (2, 1)}"
      ]
     },
     "execution_count": 247,
     "metadata": {},
     "output_type": "execute_result"
    }
   ],
   "source": [
    "map(set, itertools.permutations([1,2])"
   ]
  },
  {
   "cell_type": "code",
   "execution_count": 236,
   "metadata": {},
   "outputs": [],
   "source": [
    "num_nodes = len(g.nodes)\n",
    "split_idxs = list(range(1, int(len(g.nodes)//2)))\n",
    "for split_idx in split_idxs:\n",
    "    nodes_A = "
   ]
  },
  {
   "cell_type": "code",
   "execution_count": 237,
   "metadata": {},
   "outputs": [
    {
     "data": {
      "text/plain": [
       "[1, 2]"
      ]
     },
     "execution_count": 237,
     "metadata": {},
     "output_type": "execute_result"
    }
   ],
   "source": [
    "split_idxs"
   ]
  },
  {
   "cell_type": "code",
   "execution_count": 239,
   "metadata": {},
   "outputs": [
    {
     "data": {
      "text/plain": [
       "['v', 'w', 'x', 'y', 'z', 'u\"']"
      ]
     },
     "execution_count": 239,
     "metadata": {},
     "output_type": "execute_result"
    }
   ],
   "source": [
    "\n",
    "list(g.nodes)[1:]"
   ]
  },
  {
   "cell_type": "code",
   "execution_count": null,
   "metadata": {},
   "outputs": [],
   "source": [
    "# def edges_between(edges_A, edges_B):\n",
    "#     \"\"\"Gets the number of edges shared by edges_A and edges_B.\"\"\"\n",
    "#     count = 0\n",
    "#     for edge in edges_A:\n",
    "#         count += set(edge) in map(lambda x: set(x), edges_B)\n",
    "#     return count"
   ]
  },
  {
   "cell_type": "markdown",
   "metadata": {},
   "source": [
    "---"
   ]
  },
  {
   "cell_type": "code",
   "execution_count": null,
   "metadata": {},
   "outputs": [],
   "source": []
  },
  {
   "cell_type": "code",
   "execution_count": 220,
   "metadata": {},
   "outputs": [
    {
     "data": {
      "text/plain": [
       "True"
      ]
     },
     "execution_count": 220,
     "metadata": {},
     "output_type": "execute_result"
    }
   ],
   "source": [
    "a = (\"x\", \"v\")\n",
    "b = (\"v\", \"x\")\n",
    "\n",
    "set(a) == set(b)"
   ]
  },
  {
   "cell_type": "code",
   "execution_count": 221,
   "metadata": {},
   "outputs": [
    {
     "data": {
      "text/plain": [
       "(('v', 'x'), ('z', 'w'))"
      ]
     },
     "execution_count": 221,
     "metadata": {},
     "output_type": "execute_result"
    }
   ],
   "source": [
    "B = (b, ('z','w')); B"
   ]
  },
  {
   "cell_type": "code",
   "execution_count": 224,
   "metadata": {},
   "outputs": [
    {
     "data": {
      "text/plain": [
       "False"
      ]
     },
     "execution_count": 224,
     "metadata": {},
     "output_type": "execute_result"
    }
   ],
   "source": [
    "set(a) in map(lambda x: set(x), B)"
   ]
  },
  {
   "cell_type": "code",
   "execution_count": null,
   "metadata": {},
   "outputs": [],
   "source": [
    "#     count = 0\n",
    "#     for edge in edges_A.values():\n",
    "#         if edge in b.values():\n",
    "#             count += 1\n",
    "#     return count"
   ]
  },
  {
   "cell_type": "markdown",
   "metadata": {},
   "source": [
    "---"
   ]
  },
  {
   "cell_type": "code",
   "execution_count": 205,
   "metadata": {},
   "outputs": [
    {
     "data": {
      "text/plain": [
       "EdgeView([('u', 'x'), ('u', 'w'), ('v', 'w'), ('v', 'x'), ('w', 'y'), ('w', 'z'), ('x', 'y'), ('x', 'z')])"
      ]
     },
     "execution_count": 205,
     "metadata": {},
     "output_type": "execute_result"
    }
   ],
   "source": [
    "g.edges"
   ]
  },
  {
   "cell_type": "code",
   "execution_count": 204,
   "metadata": {},
   "outputs": [
    {
     "data": {
      "text/plain": [
       "NodeView(('u', 'v', 'w', 'x', 'y', 'z', 'u\"'))"
      ]
     },
     "execution_count": 204,
     "metadata": {},
     "output_type": "execute_result"
    }
   ],
   "source": [
    "g.nodes"
   ]
  },
  {
   "cell_type": "code",
   "execution_count": 217,
   "metadata": {},
   "outputs": [
    {
     "data": {
      "text/plain": [
       "[('u', 'x'), ('u', 'w'), ('u', 'x'), ('v', 'x'), ('x', 'y'), ('x', 'z')]"
      ]
     },
     "execution_count": 217,
     "metadata": {},
     "output_type": "execute_result"
    }
   ],
   "source": [
    "nodes = ['u','x']\n",
    "edges = []\n",
    "for node in nodes:\n",
    "    for edge in g.edges:\n",
    "        if node in edge:\n",
    "            edges.append(edge)\n",
    "edges"
   ]
  },
  {
   "cell_type": "markdown",
   "metadata": {},
   "source": [
    "---"
   ]
  },
  {
   "cell_type": "code",
   "execution_count": 214,
   "metadata": {},
   "outputs": [
    {
     "data": {
      "text/plain": [
       "[('u', 'x'), ('u', 'w')]"
      ]
     },
     "execution_count": 214,
     "metadata": {},
     "output_type": "execute_result"
    }
   ],
   "source": [
    "node = 'u'\n",
    "\n",
    "edges = []\n",
    "for edge in g.edges:\n",
    "    if node in edge:\n",
    "        edges.append(edge)\n",
    "        \n",
    "edges"
   ]
  },
  {
   "cell_type": "code",
   "execution_count": 215,
   "metadata": {},
   "outputs": [
    {
     "data": {
      "text/plain": [
       "list"
      ]
     },
     "execution_count": 215,
     "metadata": {},
     "output_type": "execute_result"
    }
   ],
   "source": [
    "type(edges)"
   ]
  },
  {
   "cell_type": "markdown",
   "metadata": {},
   "source": [
    "---"
   ]
  },
  {
   "cell_type": "code",
   "execution_count": 136,
   "metadata": {},
   "outputs": [
    {
     "data": {
      "text/plain": [
       "AtlasView({'x': {}, 'w': {}})"
      ]
     },
     "execution_count": 136,
     "metadata": {},
     "output_type": "execute_result"
    }
   ],
   "source": [
    "g['u']"
   ]
  },
  {
   "cell_type": "code",
   "execution_count": 137,
   "metadata": {},
   "outputs": [
    {
     "data": {
      "text/plain": [
       "EdgeView([('u', 'x'), ('u', 'w'), ('v', 'w'), ('v', 'x'), ('w', 'y'), ('w', 'z'), ('x', 'y'), ('x', 'z')])"
      ]
     },
     "execution_count": 137,
     "metadata": {},
     "output_type": "execute_result"
    }
   ],
   "source": [
    "g.edges()"
   ]
  },
  {
   "cell_type": "code",
   "execution_count": 139,
   "metadata": {},
   "outputs": [
    {
     "data": {
      "text/plain": [
       "networkx.classes.reportviews.EdgeView"
      ]
     },
     "execution_count": 139,
     "metadata": {},
     "output_type": "execute_result"
    }
   ],
   "source": [
    "type(g.edges())"
   ]
  },
  {
   "cell_type": "code",
   "execution_count": 142,
   "metadata": {},
   "outputs": [
    {
     "data": {
      "text/plain": [
       "networkx.classes.reportviews.EdgeView"
      ]
     },
     "execution_count": 142,
     "metadata": {},
     "output_type": "execute_result"
    }
   ],
   "source": [
    "nx.classes.reportviews.EdgeView"
   ]
  },
  {
   "cell_type": "code",
   "execution_count": 143,
   "metadata": {},
   "outputs": [
    {
     "data": {
      "text/plain": [
       "[('u', 'x'),\n",
       " ('u', 'w'),\n",
       " ('v', 'w'),\n",
       " ('v', 'x'),\n",
       " ('y', 'w'),\n",
       " ('y', 'x'),\n",
       " ('z', 'w'),\n",
       " ('z', 'x')]"
      ]
     },
     "execution_count": 143,
     "metadata": {},
     "output_type": "execute_result"
    }
   ],
   "source": [
    "edges"
   ]
  },
  {
   "cell_type": "code",
   "execution_count": 145,
   "metadata": {},
   "outputs": [
    {
     "name": "stdout",
     "output_type": "stream",
     "text": [
      "False\n",
      "True\n"
     ]
    }
   ],
   "source": [
    "edge = ('x','u')\n",
    "print(edge in edges)\n",
    "edges = g.edges()\n",
    "print(edge in edges)"
   ]
  },
  {
   "cell_type": "markdown",
   "metadata": {},
   "source": [
    "---"
   ]
  },
  {
   "cell_type": "code",
   "execution_count": 12,
   "metadata": {},
   "outputs": [
    {
     "data": {
      "image/png": "[encoded data removed]",
      "text/plain": [
       "<Figure size 432x288 with 1 Axes>"
      ]
     },
     "metadata": {},
     "output_type": "display_data"
    }
   ],
   "source": [
    "n = 6\n",
    "color = \"#6CAFB7\"\n",
    "graph = nx.Graph() # undirected graph\n",
    "\n",
    "graph.add_edge(0, 2); graph.add_edge(0, 3)\n",
    "graph.add_edge(1, 2); graph.add_edge(1, 3)\n",
    "\n",
    "graph.add_edge(2, 0); graph.add_edge(2, 1); graph.add_edge(2, 4); graph.add_edge(2, 5)\n",
    "graph.add_edge(3, 0); graph.add_edge(3, 1); graph.add_edge(3, 4); graph.add_edge(3, 5)\n",
    "\n",
    "graph.add_edge(4, 2); graph.add_edge(4, 3)\n",
    "graph.add_edge(5, 2); graph.add_edge(5, 3)\n",
    "\n",
    "nx.draw_spring(graph, node_color=color)"
   ]
  },
  {
   "cell_type": "code",
   "execution_count": null,
   "metadata": {},
   "outputs": [],
   "source": [
    "nx.bipartite.basic."
   ]
  }
 ],
 "metadata": {
  "kernelspec": {
   "display_name": "Python (quant)",
   "language": "python",
   "name": "quant"
  },
  "language_info": {
   "codemirror_mode": {
    "name": "ipython",
    "version": 3
   },
   "file_extension": ".py",
   "mimetype": "text/x-python",
   "name": "python",
   "nbconvert_exporter": "python",
   "pygments_lexer": "ipython3",
   "version": "3.6.5"
  }
 },
 "nbformat": 4,
 "nbformat_minor": 2
}
