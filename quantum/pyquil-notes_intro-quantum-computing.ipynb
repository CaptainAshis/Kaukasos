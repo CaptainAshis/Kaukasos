{
 "cells": [
  {
   "cell_type": "markdown",
   "metadata": {},
   "source": [
    "# Intro to Quantum Computing\n",
    "\n",
    "---\n",
    "\n",
    "2018/6/6 – WNixalo notes\n",
    "\n",
    "[pyQuil Docs](http://pyquil.readthedocs.io/en/latest/intro.html#)"
   ]
  },
  {
   "cell_type": "markdown",
   "metadata": {
    "heading_collapsed": true
   },
   "source": [
    "## From Bit to Qubit"
   ]
  },
  {
   "cell_type": "markdown",
   "metadata": {
    "heading_collapsed": true,
    "hidden": true
   },
   "source": [
    "### [probabilistic bits as vector spaces](http://pyquil.readthedocs.io/en/latest/intro.html#probabilistic-bits-as-vector-spaces)"
   ]
  },
  {
   "cell_type": "code",
   "execution_count": 3,
   "metadata": {
    "hidden": true
   },
   "outputs": [],
   "source": [
    "%matplotlib inline\n",
    "%reload_ext autoreload\n",
    "%autoreload 2"
   ]
  },
  {
   "cell_type": "code",
   "execution_count": 4,
   "metadata": {
    "hidden": true
   },
   "outputs": [],
   "source": [
    "import numpy as np\n",
    "import matplotlib.pyplot as plt"
   ]
  },
  {
   "cell_type": "code",
   "execution_count": 5,
   "metadata": {
    "hidden": true
   },
   "outputs": [
    {
     "data": {
      "image/png": "[encoded data removed]",
      "text/plain": [
       "<Figure size 432x288 with 1 Axes>"
      ]
     },
     "metadata": {},
     "output_type": "display_data"
    }
   ],
   "source": [
    "# http://pyquil.readthedocs.io/en/latest/intro.html\n",
    "outcome_0 = np.array([1.0, 0.0]) # orthonorm basis vecs\n",
    "outcome_1 = np.array([0.0, 1.0])\n",
    "a = 0.75\n",
    "b = 0.25\n",
    "# vec(v) = a*vec(0) + b*vec(1)\n",
    "prob_bit = a*outcome_0 + b*outcome_1\n",
    "\n",
    "X,Y = prob_bit\n",
    "fig,ax = plt.subplots()\n",
    "ax.quiver(X,Y, angles='xy', scale_units='xy', scale=1)\n",
    "ax.set_xlim([0,1]); ax.set_ylim([0,1])\n",
    "plt.draw(); plt.show()"
   ]
  },
  {
   "cell_type": "markdown",
   "metadata": {
    "hidden": true
   },
   "source": [
    "$$Pr(i) = vec(v)^T\\dot{}vec(i)$$"
   ]
  },
  {
   "cell_type": "markdown",
   "metadata": {
    "heading_collapsed": true,
    "hidden": true
   },
   "source": [
    "### [code](http://pyquil.readthedocs.io/en/latest/intro.html#some-code)\n",
    "\n",
    "**NOTE**: [pyQuil must be installed and a Forest API connection set up](http://pyquil.readthedocs.io/en/latest/start.html)."
   ]
  },
  {
   "cell_type": "code",
   "execution_count": 7,
   "metadata": {
    "hidden": true
   },
   "outputs": [],
   "source": [
    "# imports for pyQuil\n",
    "import numpy as np\n",
    "from pyquil.quil import Program\n",
    "from pyquil.api import QVMConnection\n",
    "quantum_simulator = QVMConnection()\n",
    "\n",
    "# pyQuil is based around operations (or gates) so we'll start with the most \n",
    "# basic one: the identity oepration, I. I takes 1 argument: the index \n",
    "# of the qubit that it should be applied to.\n",
    "from pyquil.gates import I"
   ]
  },
  {
   "cell_type": "code",
   "execution_count": 8,
   "metadata": {
    "hidden": true
   },
   "outputs": [
    {
     "name": "stdout",
     "output_type": "stream",
     "text": [
      "Qubit in state α=(1+0j) and β=0j\n",
      "Measurement probability of qubit in outcome 0 is 1.0\n",
      "Measurement probability of qubit in outcome 1 is 0.0\n"
     ]
    }
   ],
   "source": [
    "# Make a quantum program allocating 1 qubut (qubit #0) and doing nothing to it\n",
    "p = Program(I(0))\n",
    "\n",
    "# Quantum statse are called wavefunctions, historically.\n",
    "# We can run this basic program on our connection to the simulator.\n",
    "# This call will return the state of our qubits after we run the program p.\n",
    "# This api call returns a tuple, but we'll ignore the scond value for now.\n",
    "wavefunction = quantum_simulator.wavefunction(p)\n",
    "\n",
    "# wavefunction is a Wavefunction object that stores a quantum state as a list of amplitudes\n",
    "alpha, beta = wavefunction\n",
    "\n",
    "print(f\"Qubit in state α={alpha} and β={beta}\")\n",
    "print(f\"Measurement probability of qubit in outcome 0 is {abs(alpha)**2}\")\n",
    "print(f\"Measurement probability of qubit in outcome 1 is {abs(beta)**2}\")"
   ]
  },
  {
   "cell_type": "markdown",
   "metadata": {
    "collapsed": true,
    "hidden": true
   },
   "source": [
    "Applying an operation to our qubit affects the probability of each outcome:"
   ]
  },
  {
   "cell_type": "code",
   "execution_count": 10,
   "metadata": {
    "collapsed": true,
    "hidden": true
   },
   "outputs": [],
   "source": [
    "def print_results(coeffs):\n",
    "    alpha,beta = coeffs\n",
    "    print(f\"Qubit in state α={alpha} and β={beta}\")\n",
    "    print(f\"Measurement probability of qubit in outcome 0 is {abs(alpha)**2}\")\n",
    "    print(f\"Measurement probability of qubit in outcome 1 is {abs(beta)**2}\")"
   ]
  },
  {
   "cell_type": "code",
   "execution_count": 9,
   "metadata": {
    "collapsed": true,
    "hidden": true
   },
   "outputs": [],
   "source": [
    "# We can import the qubit \"flip\" operation, called X, and see what it does.\n",
    "# We'll learn more about this operation in the next section.\n",
    "from pyquil.gates import X"
   ]
  },
  {
   "cell_type": "code",
   "execution_count": 11,
   "metadata": {
    "hidden": true
   },
   "outputs": [
    {
     "name": "stdout",
     "output_type": "stream",
     "text": [
      "Qubit in state α=0j and β=(1+0j)\n",
      "Measurement probability of qubit in outcome 0 is 0.0\n",
      "Measurement probability of qubit in outcome 1 is 1.0\n"
     ]
    }
   ],
   "source": [
    "p = Program(X(0))\n",
    "\n",
    "wavefunc = quantum_simulator.wavefunction(p)\n",
    "alpha, beta = wavefunc\n",
    "\n",
    "print_results((alpha,beta))"
   ]
  },
  {
   "cell_type": "markdown",
   "metadata": {
    "collapsed": true,
    "hidden": true
   },
   "source": [
    "In this case we've flipped the probability of outcome 0 into the probability of outcome 1 for our qubit. We can also investigate what happens to the state of multiple qubits. We'd expect the state of multiple qubits to grow exponentially in size, as their vectors are tensored together."
   ]
  },
  {
   "cell_type": "code",
   "execution_count": 16,
   "metadata": {
    "hidden": true
   },
   "outputs": [
    {
     "name": "stdout",
     "output_type": "stream",
     "text": [
      "Quantum state is of dim: 4\n",
      "Quantum state is of dim: 16\n",
      "Quantum state is of dim: 1024\n"
     ]
    }
   ],
   "source": [
    "# Multiple qubits also produce the expected scaling of the state.\n",
    "p = Program(I(0), I(1))\n",
    "wavefunction = quantum_simulator.wavefunction(p)\n",
    "print(f\"Quantum state is of dim: {len(wavefunction.amplitudes)}\")\n",
    "\n",
    "p = Program(I(0), I(1), I(2), I(3))\n",
    "wavefunction = quantum_simulator.wavefunction(p)\n",
    "print(f'Quantum state is of dim: {len(wavefunction.amplitudes)}')\n",
    "\n",
    "p = Program()\n",
    "for x in range(10):\n",
    "    p += I(x)\n",
    "wavefunction = quantum_simulator.wavefunction(p)\n",
    "print(f\"Quantum state is of dim: {len(wavefunction.amplitudes)}\")"
   ]
  },
  {
   "cell_type": "markdown",
   "metadata": {
    "collapsed": true,
    "hidden": true
   },
   "source": [
    "Looking at the actual value for the state of the 2 qubits combined. The resulting dictionary of this method contains outcomes as keys and probabilities of those outcomes as values."
   ]
  },
  {
   "cell_type": "code",
   "execution_count": 17,
   "metadata": {
    "hidden": true
   },
   "outputs": [
    {
     "name": "stdout",
     "output_type": "stream",
     "text": [
      "{'00': 1.0, '01': 0.0, '10': 0.0, '11': 0.0}\n"
     ]
    }
   ],
   "source": [
    "# wavefunction(Program) returns a coefficient array that corresponds to outcomes in the following order\n",
    "wavefunction = quantum_simulator.wavefunction(Program(I(0), I(1)))\n",
    "print(wavefunction.get_outcome_probs())"
   ]
  },
  {
   "cell_type": "markdown",
   "metadata": {
    "collapsed": true,
    "heading_collapsed": true
   },
   "source": [
    "## Qubit Operations"
   ]
  },
  {
   "cell_type": "markdown",
   "metadata": {
    "collapsed": true,
    "hidden": true
   },
   "source": [
    "Since individual qubits are 2D vectors, operations on them are 2x2 matrices. The identity matrix leaves the state vector unchanged:\n",
    "\\begin{split}I = \\left(\\begin{matrix}\n",
    "1 & 0\\\\\n",
    "0 & 1\n",
    "\\end{matrix}\\right)\\end{split}\n",
    "\n",
    "so the program that applies this operation to the zero state is just:\n",
    "\\begin{split} I\\,|\\,0\\rangle = \\left(\\begin{matrix}\n",
    "1 & 0\\\\\n",
    "0 & 1\n",
    "\\end{matrix}\\right)\\left(\\begin{matrix}\n",
    "1 \\\\\n",
    "0\n",
    "\\end{matrix}\\right) = \\left(\\begin{matrix}\n",
    "1 \\\\\n",
    "0\n",
    "\\end{matrix}\\right) = |\\,0\\rangle\\end{split}"
   ]
  },
  {
   "cell_type": "code",
   "execution_count": 18,
   "metadata": {
    "hidden": true
   },
   "outputs": [
    {
     "name": "stdout",
     "output_type": "stream",
     "text": [
      "(1+0j)|0>\n"
     ]
    }
   ],
   "source": [
    "p = Program(I(0))\n",
    "print(quantum_simulator.wavefunction(p))"
   ]
  },
  {
   "cell_type": "markdown",
   "metadata": {
    "collapsed": true,
    "heading_collapsed": true,
    "hidden": true
   },
   "source": [
    "### [pauli operators](http://pyquil.readthedocs.io/en/latest/intro.html#pauli-operators)"
   ]
  },
  {
   "cell_type": "markdown",
   "metadata": {
    "collapsed": true,
    "hidden": true
   },
   "source": [
    "The `X` gate is one of the 3 important single-qubit gates, called Pauli Operators:\n",
    "\n",
    "\\begin{split}X = \\left(\\begin{matrix}\n",
    "0 & 1\\\\\n",
    "1 & 0\n",
    "\\end{matrix}\\right)\n",
    "\\qquad\n",
    "Y = \\left(\\begin{matrix}\n",
    "0 & -i\\\\\n",
    "i & 0\n",
    "\\end{matrix}\\right)\n",
    "\\qquad\n",
    "Z = \\left(\\begin{matrix}\n",
    "1 & 0\\\\\n",
    "0 & -1\n",
    "\\end{matrix}\\right)\\end{split}\n",
    "\n",
    "\n",
    "\n",
    "\n",
    "\n",
    "\n",
    "\n",
    "\n",
    "\n",
    "\n",
    "\n",
    "\n",
    "\n"
   ]
  },
  {
   "cell_type": "code",
   "execution_count": 66,
   "metadata": {
    "collapsed": true,
    "hidden": true
   },
   "outputs": [],
   "source": [
    "def print_results(p_optr, state, careflip=True):\n",
    "    prob = 1.\n",
    "    if careflip: bitflip = int(wavefunction.get_outcome_probs()[str(state)]==prob)\n",
    "    print(f\"{p_optr}|{state}> = {wavefunction}\")\n",
    "    print(f\"Outcome probabilities: {wavefunction.get_outcome_probs()}\")\n",
    "    if careflip: \n",
    "        result = (\"looks like a bit flip\",\"state looks unchanged\")[bitflip]\n",
    "        print(f\"This {result}\\n\")"
   ]
  },
  {
   "cell_type": "code",
   "execution_count": 64,
   "metadata": {
    "collapsed": true,
    "hidden": true
   },
   "outputs": [],
   "source": [
    "from pyquil.gates import X, Y, Z"
   ]
  },
  {
   "cell_type": "code",
   "execution_count": 65,
   "metadata": {
    "hidden": true
   },
   "outputs": [
    {
     "name": "stdout",
     "output_type": "stream",
     "text": [
      "X|0> = (1+0j)|1>\n",
      "Outcome probabilities: {'0': 0.0, '1': 1.0}\n",
      "This looks like a bit flip\n",
      "\n",
      "Y|0> = 1j|1>\n",
      "Outcome probabilities: {'0': 0.0, '1': 1.0}\n",
      "This looks like a bit flip\n",
      "\n",
      "Z|0> = (1+0j)|0>\n",
      "Outcome probabilities: {'0': 1.0, '1': 0.0}\n",
      "This state looks unchanged\n",
      "\n"
     ]
    }
   ],
   "source": [
    "p = Program(X(0))\n",
    "wavefunction = quantum_simulator.wavefunction(p)\n",
    "print_results(\"X\", 0)\n",
    "\n",
    "p = Program(Y(0))\n",
    "wavefunction = quantum_simulator.wavefunction(p)\n",
    "print_results(\"Y\", 0)\n",
    "\n",
    "p = Program(Z(0))\n",
    "wavefunction = quantum_simulator.wavefunction(p)\n",
    "print_results(\"Z\", 0)"
   ]
  },
  {
   "cell_type": "markdown",
   "metadata": {
    "hidden": true
   },
   "source": [
    "Quantum programs are built by applying successive gate operations:"
   ]
  },
  {
   "cell_type": "code",
   "execution_count": 75,
   "metadata": {
    "hidden": true
   },
   "outputs": [
    {
     "name": "stdout",
     "output_type": "stream",
     "text": [
      "ZYX|0> = -1j|0>\n",
      "Outcome probabilities: {'0': 1.0, '1': 0.0}\n"
     ]
    }
   ],
   "source": [
    "# Composing qubit operations is the same as multiplying matrices sequentially\n",
    "p = Program(X(0), Y(0), Z(0))\n",
    "wavefunction = quantum_simulator.wavefunction(p)\n",
    "\n",
    "print_results(\"ZYX\", 0, careflip=False)"
   ]
  },
  {
   "cell_type": "markdown",
   "metadata": {
    "heading_collapsed": true,
    "hidden": true
   },
   "source": [
    "### [multi-qubit operations](http://pyquil.readthedocs.io/en/latest/intro.html#multi-qubit-operations)"
   ]
  },
  {
   "cell_type": "markdown",
   "metadata": {
    "hidden": true
   },
   "source": [
    "Operations can be applied to composite states of multiple qubits. Example: the controlled-NOT (`CNOT`) gate that works on 2 qubits:\n",
    "\n",
    "\\begin{split}CNOT = \\left(\\begin{matrix}\n",
    "1 & 0 & 0 & 0 \\\\\n",
    "0 & 1 & 0 & 0 \\\\\n",
    "0 & 0 & 0 & 1 \\\\\n",
    "0 & 0 & 1 & 0 \\\\\n",
    "\\end{matrix}\\right)\\end{split}"
   ]
  },
  {
   "cell_type": "code",
   "execution_count": 77,
   "metadata": {
    "collapsed": true,
    "hidden": true
   },
   "outputs": [],
   "source": [
    "from pyquil.gates import CNOT"
   ]
  },
  {
   "cell_type": "code",
   "execution_count": 151,
   "metadata": {
    "hidden": true
   },
   "outputs": [],
   "source": [
    "def print_cnot(qbit_states):\n",
    "    print(f\"CNOT|{qbit_states} = {wavefunction}\")\n",
    "    print(f\"Outcome probabilities\\n{wavefunction.get_outcome_probs()}\\n\")"
   ]
  },
  {
   "cell_type": "code",
   "execution_count": 152,
   "metadata": {
    "hidden": true
   },
   "outputs": [
    {
     "name": "stdout",
     "output_type": "stream",
     "text": [
      "CNOT|00 = (1+0j)|00>\n",
      "Outcome probabilities\n",
      "{'00': 1.0, '01': 0.0, '10': 0.0, '11': 0.0}\n",
      "\n",
      "CNOT|01 = (1+0j)|11>\n",
      "Outcome probabilities\n",
      "{'00': 0.0, '01': 0.0, '10': 0.0, '11': 1.0}\n",
      "\n",
      "CNOT|10 = (1+0j)|10>\n",
      "Outcome probabilities\n",
      "{'00': 0.0, '01': 0.0, '10': 1.0, '11': 0.0}\n",
      "\n",
      "CNOT|11 = (1+0j)|01>\n",
      "Outcome probabilities\n",
      "{'00': 0.0, '01': 1.0, '10': 0.0, '11': 0.0}\n",
      "\n"
     ]
    }
   ],
   "source": [
    "p = Program(CNOT(0, 1)) # input qbit states: 0,0\n",
    "wavefunction = quantum_simulator.wavefunction(p)\n",
    "print_cnot(\"00\")\n",
    "\n",
    "p = Program(X(0), CNOT(0, 1)) # flip qbit 0\n",
    "wavefunction = quantum_simulator.wavefunction(p)\n",
    "print_cnot(\"01\")\n",
    "\n",
    "p = Program(X(1), CNOT(0, 1)) # flip qbit 1\n",
    "wavefunction = quantum_simulator.wavefunction(p)\n",
    "print_cnot(\"10\")\n",
    "\n",
    "p = Program(X(0), X(1), CNOT(0, 1)) # flip qbits 0,1\n",
    "wavefunction = quantum_simulator.wavefunction(p)\n",
    "print_cnot(\"11\")"
   ]
  },
  {
   "cell_type": "markdown",
   "metadata": {
    "hidden": true
   },
   "source": [
    "The `CNOT` gate flips (negates) the 2nd qubit IFF the 1st qubit's state is 1 (true).\n",
    "\n",
    "The `SWAP` gate swaps the $\\rvert01\\rangle$ and $\\rvert10\\rangle$ states:\n",
    "\n",
    "\\begin{split}SWAP = \\left(\\begin{matrix}\n",
    "1 & 0 & 0 & 0 \\\\\n",
    "0 & 0 & 1 & 0 \\\\\n",
    "0 & 1 & 0 & 0 \\\\\n",
    "0 & 0 & 0 & 1 \\\\\n",
    "\\end{matrix}\\right)\\end{split}"
   ]
  },
  {
   "cell_type": "code",
   "execution_count": 153,
   "metadata": {
    "collapsed": true,
    "hidden": true
   },
   "outputs": [],
   "source": [
    "from pyquil.gates import SWAP"
   ]
  },
  {
   "cell_type": "code",
   "execution_count": 154,
   "metadata": {
    "hidden": true
   },
   "outputs": [
    {
     "name": "stdout",
     "output_type": "stream",
     "text": [
      "SWAP|01> = (1+0j)|10>\n",
      "Outcome probabilities\n",
      "{'00': 0.0, '01': 0.0, '10': 1.0, '11': 0.0}\n"
     ]
    }
   ],
   "source": [
    "p = Program(X(0), SWAP(0,1))\n",
    "wavefunction = quantum_simulator.wavefunction(p)\n",
    "\n",
    "print(f\"SWAP|01> = {wavefunction}\")\n",
    "print(f\"Outcome probabilities\\n{wavefunction.get_outcome_probs()}\")"
   ]
  },
  {
   "cell_type": "markdown",
   "metadata": {
    "collapsed": true,
    "hidden": true
   },
   "source": [
    "---\n",
    "\n",
    "**Summary**: quantum computing operations are composed of a series of complex matrices applied to complex vectors. These matrices must be unitary (their complex conjugate transpose equals their inverse) because the overall probability of all outcomes must sum to 1."
   ]
  },
  {
   "cell_type": "markdown",
   "metadata": {
    "heading_collapsed": true
   },
   "source": [
    "## The Quantum Abstract Machine"
   ]
  },
  {
   "cell_type": "markdown",
   "metadata": {
    "hidden": true
   },
   "source": [
    "The programming model that underlies Quil is a hybrid–classical model in which $N$ qubits interact with $M$ classical bits:\n",
    "\n",
    "<img src=\"http://pyquil.readthedocs.io/en/latest/_images/qam.png\" >\n",
    "\n",
    "[Quil whitepaper](https://arxiv.org/abs/1608.03355).\n",
    "\n",
    "Quantum & Classical (Q/C) bits come with a defined gate set defining which gate operations can be applied to which qubits. The fixed gate set represents the limitations on which gates can be applied by different kinds of quantum computing hardware."
   ]
  },
  {
   "cell_type": "markdown",
   "metadata": {
    "heading_collapsed": true,
    "hidden": true
   },
   "source": [
    "### [qubit measurements](http://pyquil.readthedocs.io/en/latest/intro.html#qubit-measurements)"
   ]
  },
  {
   "cell_type": "markdown",
   "metadata": {
    "hidden": true
   },
   "source": [
    "Measurements have 2 effects:\n",
    "1. project the state vector onto 1 of the basic outcomes.\n",
    "2. (*optional*) store the outcome of the measurement in a C bit."
   ]
  },
  {
   "cell_type": "code",
   "execution_count": 155,
   "metadata": {
    "collapsed": true,
    "hidden": true
   },
   "outputs": [],
   "source": [
    "# Createa a program that stores the outcome of measuring qubit #0 into \n",
    "# classical register [0]\n",
    "classical_register_index = 0\n",
    "p = Program(I(0)).measure(0, classical_register_index)"
   ]
  },
  {
   "cell_type": "markdown",
   "metadata": {
    "hidden": true
   },
   "source": [
    "On actual quantum hardware, we're unable to directly look at the wavefunction (we've been cheating up till now by looking). Instead we only have access to the C bits that are affected by measurements. This functionality is emulated by the `run` command."
   ]
  },
  {
   "cell_type": "code",
   "execution_count": 156,
   "metadata": {
    "hidden": true
   },
   "outputs": [
    {
     "name": "stdout",
     "output_type": "stream",
     "text": [
      "[[0, 0]]\n"
     ]
    }
   ],
   "source": [
    "# Choose which classical registers to look in at the end of the computation\n",
    "classical_regs = [0,1]\n",
    "print(quantum_simulator.run(p, classical_regs))"
   ]
  },
  {
   "cell_type": "markdown",
   "metadata": {
    "hidden": true
   },
   "source": [
    "Both registers are zero. If we'd flipped the qubit before measurement we'd get:"
   ]
  },
  {
   "cell_type": "code",
   "execution_count": 159,
   "metadata": {
    "hidden": true
   },
   "outputs": [
    {
     "name": "stdout",
     "output_type": "stream",
     "text": [
      "[[1, 0]]\n"
     ]
    }
   ],
   "source": [
    "p = Program(X(0)) # Flip the qubit\n",
    "p.measure(0, classical_register_index) # Measure the qubit\n",
    "\n",
    "classical_regs = [0,1]\n",
    "print(quantum_simulator.run(p, classical_regs))"
   ]
  },
  {
   "cell_type": "markdown",
   "metadata": {
    "hidden": true
   },
   "source": [
    "These are deterministic measurements. We'll get the same result from making them multiple times:"
   ]
  },
  {
   "cell_type": "code",
   "execution_count": 160,
   "metadata": {
    "hidden": true
   },
   "outputs": [
    {
     "name": "stdout",
     "output_type": "stream",
     "text": [
      "[[1], [1], [1], [1], [1], [1], [1], [1], [1], [1]]\n"
     ]
    }
   ],
   "source": [
    "p = Program(X(0))\n",
    "p.measure(0, classical_register_index)\n",
    "\n",
    "classical_regs = [0]\n",
    "trials = 10\n",
    "print(quantum_simulator.run(p, classical_regs, trials))"
   ]
  },
  {
   "cell_type": "markdown",
   "metadata": {
    "heading_collapsed": true,
    "hidden": true
   },
   "source": [
    "### [classical/quantum interaction](http://pyquil.readthedocs.io/en/latest/intro.html#classical-quantum-interaction)"
   ]
  },
  {
   "cell_type": "markdown",
   "metadata": {
    "hidden": true
   },
   "source": [
    "In general, measurements can affect the quantum state. They act like projections onto the outcome basis states. To show this, we'll introduce a new single-qubit gate: the **Hadamard gate**. Matrix form:\n",
    "\n",
    "\\begin{split}H = \\frac{1}{\\sqrt{2}}\\left(\\begin{matrix}\n",
    "1 & 1\\\\\n",
    "1 & -1\n",
    "\\end{matrix}\\right)\\end{split}"
   ]
  },
  {
   "cell_type": "code",
   "execution_count": 161,
   "metadata": {
    "collapsed": true,
    "hidden": true
   },
   "outputs": [],
   "source": [
    "from pyquil.gates import H"
   ]
  },
  {
   "cell_type": "code",
   "execution_count": 162,
   "metadata": {
    "hidden": true
   },
   "outputs": [
    {
     "name": "stdout",
     "output_type": "stream",
     "text": [
      "H|0> = (0.7071067812+0j)|0> + (0.7071067812+0j)|1>\n",
      "Outcome probs\n",
      "{'0': 0.4999999999999999, '1': 0.4999999999999999}\n"
     ]
    }
   ],
   "source": [
    "# The Hadamard produces a superposition state\n",
    "coin_program = Program(H(0))\n",
    "wavefunction = quantum_simulator.wavefunction(coin_program)\n",
    "\n",
    "print(f\"H|0> = {wavefunction}\")\n",
    "print(f\"Outcome probs\\n{wavefunction.get_outcome_probs()}\")"
   ]
  },
  {
   "cell_type": "markdown",
   "metadata": {
    "hidden": true
   },
   "source": [
    "In a sense, this Q bit really is a random variable representing a coin. In fact there's a continuous family of states of form:\n",
    "$$\\frac{1}{\\sqrt{2}}\\left(\\rvert\\,0\\rangle + e^{i\\theta}\\rvert\\,1\\rangle\\right)$$\n",
    "represents the outcomes of an unbiased coin. Being able to work w/ all these different new states is part of what gives quantum computing extra power wrt C bits."
   ]
  },
  {
   "cell_type": "code",
   "execution_count": 163,
   "metadata": {
    "hidden": true
   },
   "outputs": [
    {
     "name": "stdout",
     "output_type": "stream",
     "text": [
      "[[1], [1], [1], [0], [0], [1], [0], [0], [1], [0]]\n"
     ]
    }
   ],
   "source": [
    "# Introduce measurement\n",
    "classical_reg = 0\n",
    "coin_program = Program(H(0)).measure(0, classical_reg)\n",
    "trials = 10\n",
    "\n",
    "# We probabilistic results of about half 1's and half 0's\n",
    "print(quantum_simulator.run(coin_program, [0], trials))"
   ]
  },
  {
   "cell_type": "markdown",
   "metadata": {
    "hidden": true
   },
   "source": [
    "pyQuil lets us look at the wavefunction **after** a measurement as well:"
   ]
  },
  {
   "cell_type": "code",
   "execution_count": 166,
   "metadata": {
    "hidden": true
   },
   "outputs": [
    {
     "name": "stdout",
     "output_type": "stream",
     "text": [
      "Before measurement: H|0> = (0.7071067812+0j)|0> + (0.7071067812+0j)|1>\n",
      "Afer meas: (1+0j)|1>\n",
      "Afer meas: (1+0j)|1>\n",
      "Afer meas: (1+0j)|0>\n",
      "Afer meas: (1+0j)|0>\n",
      "Afer meas: (1+0j)|0>\n"
     ]
    }
   ],
   "source": [
    "clasical_reg = 0\n",
    "coin_program = Program(H(0))\n",
    "print(f\"Before measurement: H|0> = {quantum_simulator.wavefunction(coin_program)}\")\n",
    "\n",
    "coin_program.measure(0, classical_reg)\n",
    "for x in range(5):\n",
    "    print(f\"Afer meas: {quantum_simulator.wavefunction(coin_program)}\")"
   ]
  },
  {
   "cell_type": "markdown",
   "metadata": {
    "hidden": true
   },
   "source": [
    "Measurement has an effect on the quantum state independent of what's stored classically. Observation of binary state (where previously it was probabilistic) is referred to as **collapse** of the wavefunction. Mathematically, the wavefunction is being projected onto the vector of the obtained outcome and subsequently rescaled to unit norm."
   ]
  },
  {
   "cell_type": "code",
   "execution_count": 270,
   "metadata": {
    "hidden": true
   },
   "outputs": [
    {
     "name": "stdout",
     "output_type": "stream",
     "text": [
      "Before meas: Bell state = (0.7071067812+0j)|00> + (0.7071067812+0j)|11>\n",
      "After meas: {'00': 0.0, '01': 0.0, '10': 0.0, '11': 1.0}\n",
      "After meas: {'00': 0.9999999999999996, '01': 0.0, '10': 0.0, '11': 0.0}\n",
      "After meas: {'00': 0.0, '01': 0.0, '10': 0.0, '11': 1.0}\n",
      "After meas: {'00': 0.0, '01': 0.0, '10': 0.0, '11': 1.0}\n",
      "After meas: {'00': 0.9999999999999996, '01': 0.0, '10': 0.0, '11': 0.0}\n"
     ]
    }
   ],
   "source": [
    "# This happens with bigger systems too\n",
    "classical_reg = 0\n",
    "\n",
    "# This program prepares something called a Bell state\n",
    "# (a special kind of 'entangled state')\n",
    "bell_program = Program(H(0), CNOT(0,1))\n",
    "wavefunction = quantum_simulator.wavefunction(bell_program)\n",
    "print(f\"Before meas: Bell state = {wavefunction}\")\n",
    "\n",
    "bell_program.measure(0, clasical_reg)\n",
    "for x in range(5):\n",
    "    wavefunction = quantum_simulator.wavefunction(bell_program)\n",
    "    print(f'After meas: {wavefunction.get_outcome_probs()}')"
   ]
  },
  {
   "cell_type": "markdown",
   "metadata": {
    "hidden": true
   },
   "source": [
    "The above program prepared **entanglement** because, even though there're random outcomes after every measurement, both qubits are in the same state. They are either both $\\rvert0\\rangle$ or both $\\rvert1\\rangle$. This special kind of correlation is part of what makes quantum mechanics so unique and powerful."
   ]
  },
  {
   "cell_type": "markdown",
   "metadata": {
    "heading_collapsed": true,
    "hidden": true
   },
   "source": [
    "### [classical control](http://pyquil.readthedocs.io/en/latest/intro.html#classical-control)"
   ]
  },
  {
   "cell_type": "markdown",
   "metadata": {
    "hidden": true
   },
   "source": [
    "There are ways of introducing C control of Q programs. For example, we can use the state of classical bits to determine what Q operations to run:"
   ]
  },
  {
   "cell_type": "code",
   "execution_count": 273,
   "metadata": {
    "hidden": true
   },
   "outputs": [
    {
     "name": "stdout",
     "output_type": "stream",
     "text": [
      "[[1]]\n"
     ]
    }
   ],
   "source": [
    "true_branch = Program(X(7)) #  if branch\n",
    "false_branch = Program(I(7)) # else branch\n",
    "\n",
    "# Branch on classical reg [1]\n",
    "p = Program(X(0)).measure(0,1).if_then(1, true_branch, false_branch)\n",
    "\n",
    "# Measure qubit #7 into classical register [7]\n",
    "p.measure(7,7)\n",
    "\n",
    "# Run and check register [7]\n",
    "print(quantum_simulator.run(p, [7]))"
   ]
  },
  {
   "cell_type": "markdown",
   "metadata": {
    "hidden": true
   },
   "source": [
    "A `[1]` here means that qubit 7 was indeed flipped:\n",
    "\n",
    "<img src=\"http://pyquil.readthedocs.io/en/latest/_images/branch.png\" >"
   ]
  },
  {
   "cell_type": "markdown",
   "metadata": {
    "heading_collapsed": true,
    "hidden": true
   },
   "source": [
    "### [example: the probabilistic halting problem](http://pyquil.readthedocs.io/en/latest/intro.html#example-the-probabilistic-halting-problem)"
   ]
  },
  {
   "cell_type": "markdown",
   "metadata": {
    "hidden": true
   },
   "source": [
    "A fun example is to create a program that has an exponentially increasing chance of halting... *but* that may run forever!"
   ]
  },
  {
   "cell_type": "code",
   "execution_count": 274,
   "metadata": {
    "hidden": true
   },
   "outputs": [
    {
     "name": "stdout",
     "output_type": "stream",
     "text": [
      "[[0]]\n"
     ]
    }
   ],
   "source": [
    "inside_loop = Program(H(0)).measure(0,1)\n",
    "\n",
    "p = Program().inst(X(0)).while_do(1, inside_loop)\n",
    "\n",
    "# Run and check register [1]\n",
    "print(quantum_simulator.run(p, [1]))"
   ]
  },
  {
   "cell_type": "markdown",
   "metadata": {
    "hidden": true
   },
   "source": [
    "<img src=\"http://pyquil.readthedocs.io/en/latest/_images/loop.png\">"
   ]
  },
  {
   "cell_type": "markdown",
   "metadata": {},
   "source": [
    "## Next Steps"
   ]
  },
  {
   "cell_type": "markdown",
   "metadata": {},
   "source": [
    "* pyQuil [Installation and Getting Started](http://pyquil.readthedocs.io/en/latest/start.html)\n",
    "guide.\n",
    "* Want to learn more: book: *Quantum Computation and Quantum Information* – Nielsen & Chuang. Excellent resource for newcomers to the field.\n",
    "* Interested in learning about quantum computing software: Rigetti blog posts: [The Quantum Software Challenge](https://medium.com/@rigetticomputing/the-quantum-software-challenge-1a86eec1ce47)"
   ]
  }
 ],
 "metadata": {
  "kernelspec": {
   "display_name": "Python (quant)",
   "language": "python",
   "name": "quant"
  },
  "language_info": {
   "codemirror_mode": {
    "name": "ipython",
    "version": 3
   },
   "file_extension": ".py",
   "mimetype": "text/x-python",
   "name": "python",
   "nbconvert_exporter": "python",
   "pygments_lexer": "ipython3",
   "version": "3.6.5"
  }
 },
 "nbformat": 4,
 "nbformat_minor": 2
}
