{
 "cells": [
  {
   "cell_type": "markdown",
   "metadata": {},
   "source": [
    "# QAOA Max Cut\n",
    "\n",
    "Wayne Nixalo – 2018/6/7-8\n",
    "\n",
    "---"
   ]
  },
  {
   "cell_type": "code",
   "execution_count": 1,
   "metadata": {},
   "outputs": [],
   "source": [
    "%matplotlib inline\n",
    "%reload_ext autoreload\n",
    "%autoreload 2"
   ]
  },
  {
   "cell_type": "code",
   "execution_count": 2,
   "metadata": {},
   "outputs": [],
   "source": [
    "import numpy as np\n",
    "import matplotlib.pyplot as plt\n",
    "import itertools"
   ]
  },
  {
   "cell_type": "code",
   "execution_count": 3,
   "metadata": {},
   "outputs": [],
   "source": [
    "import networkx as nx\n",
    "\n",
    "from grove.pyqaoa.qaoa import QAOA\n",
    "from grove.pyqaoa.maxcut_qaoa import maxcut_qaoa\n",
    "from pyquil.paulis import PauliSum, PauliTerm\n",
    "from pyquil.gates import H\n",
    "from pyquil.api import QVMConnection\n",
    "import pyquil.quil as pq\n",
    "\n",
    "from functools import reduce\n",
    "from collections import Counter"
   ]
  },
  {
   "cell_type": "code",
   "execution_count": 4,
   "metadata": {},
   "outputs": [],
   "source": [
    "display_options = {'node_color' :\"#6CAFB7\",\n",
    "                   'node_size'  :250,\n",
    "                   'with_labels': True}"
   ]
  },
  {
   "cell_type": "markdown",
   "metadata": {},
   "source": [
    "## 1. 'Classical' Solver"
   ]
  },
  {
   "cell_type": "markdown",
   "metadata": {},
   "source": [
    "Low-level worker functions"
   ]
  },
  {
   "cell_type": "code",
   "execution_count": 5,
   "metadata": {},
   "outputs": [],
   "source": [
    "def internal_edge(edge, graph):\n",
    "    \"\"\"Checks if edge is internal to graph.\"\"\"\n",
    "    return edge in graph.edges\n",
    "\n",
    "def single_endpoint(edge, graph):\n",
    "    \"\"\"Checks that an edge has a single endpoint in graph.\"\"\"\n",
    "    return list(graph.edges()).count(edge) == 1\n",
    "\n",
    "def get_edges_from_nodes(nodes, graph):\n",
    "    \"\"\"Retreives all edges connected to nodes in graph.\"\"\"\n",
    "    edges = []\n",
    "    for node in nodes:\n",
    "        for edge in graph.edges:\n",
    "            if node in edge:\n",
    "                edges.append(edge)\n",
    "    return edges\n",
    "\n",
    "def edges_between(edges_A, edges_B):\n",
    "    \"\"\"Gets the number of edges shared by edges_A and edges_B.\"\"\"\n",
    "    count = 0\n",
    "    for edge in edges_A:\n",
    "        count += set(edge) in map(set, edges_B)\n",
    "    return count\n",
    "\n",
    "def get_unique_permutations(nodes, split_idx):\n",
    "    \"\"\"Returns all unique combinations of nodes split at split_idx.\"\"\"\n",
    "    nodes_A,nodes_B = [],[]\n",
    "    nodes = list(nodes)\n",
    "    # get all unique combos up to the split\n",
    "    for perm in itertools.permutations(nodes, split_idx+1):\n",
    "        if set(perm) not in nodes_A: nodes_A.append(set(perm))\n",
    "    # cast the sets back to lists\n",
    "    nodes_A = list(map(list, nodes_A))\n",
    "    # get all unique combos after the split\n",
    "    for perm in nodes_A:\n",
    "        add_nodes = nodes.copy()\n",
    "        for node in perm: \n",
    "            add_nodes.remove(node)\n",
    "        nodes_B.append(add_nodes)\n",
    "    # return permutations of split pairs\n",
    "    return nodes_A, nodes_B"
   ]
  },
  {
   "cell_type": "markdown",
   "metadata": {},
   "source": [
    "Validation"
   ]
  },
  {
   "cell_type": "code",
   "execution_count": 6,
   "metadata": {},
   "outputs": [],
   "source": [
    "def valid_cut(nodes_AB, edges_AB, graph):\n",
    "    \"\"\"Determines if a cut is valid.\"\"\"\n",
    "    \n",
    "    nodes_A, nodes_B = nodes_AB\n",
    "    edges_A, edges_B = edges_AB\n",
    "    valid_cut = True\n",
    "    \n",
    "    # get edges of cut\n",
    "    edges_A = get_edges_from_nodes(nodes_A, graph)\n",
    "    edges_B = get_edges_from_nodes(nodes_B, graph)\n",
    "\n",
    "    # check no internal edges\n",
    "    A_internal = graph.copy()\n",
    "    B_internal = graph.copy()\n",
    "    A_internal.remove_nodes_from(nodes_B)\n",
    "    B_internal.remove_nodes_from(nodes_A)\n",
    "    \n",
    "    for graph in (A_internal, B_internal): \n",
    "        if len(graph.edges) > 0: \n",
    "            valid_cut = False\n",
    "            break\n",
    "\n",
    "    # check all single endpoints – (check first no internals)\n",
    "    if valid_cut: valid_cut = set(edges_B)==set(edges_A)\n",
    "        \n",
    "    return valid_cut"
   ]
  },
  {
   "cell_type": "markdown",
   "metadata": {},
   "source": [
    "Finder"
   ]
  },
  {
   "cell_type": "code",
   "execution_count": 7,
   "metadata": {},
   "outputs": [],
   "source": [
    "def find_max_cut(graph):\n",
    "    \"\"\"Finds the Max Cut of a Bipartite Graph.\"\"\"\n",
    "    max_crossed = 0\n",
    "\n",
    "    # get cut splits\n",
    "    n_nodes = len(graph.nodes)\n",
    "    split_idxs = list(range(0, int(n_nodes//2)))\n",
    "\n",
    "    # iterate through all unique cut sizes\n",
    "    for split_idx in split_idxs:\n",
    "        permutations = get_unique_permutations(graph.nodes, split_idx)\n",
    "\n",
    "        # iterate through all unique node permutations (Select Cut)\n",
    "        for nodes_A, nodes_B in list(zip(*permutations)):\n",
    "\n",
    "            # get edges of cut\n",
    "            edges_A = get_edges_from_nodes(nodes_A, graph)\n",
    "            edges_B = get_edges_from_nodes(nodes_B, graph)\n",
    "\n",
    "            # check no internal edges and check all single endpoints\n",
    "            if not valid_cut((nodes_A, nodes_B), (edges_A, edges_B), graph):\n",
    "                continue\n",
    "\n",
    "            # count crossed edges\n",
    "            count = edges_between(edges_A, edges_B)\n",
    "            if count > max_crossed:\n",
    "                max_crossed = count\n",
    "                max_cut = [nodes_A, nodes_B]\n",
    "                \n",
    "    # check max cut exists\n",
    "    if max_crossed == 0:\n",
    "        max_cut = [None, None]\n",
    "    \n",
    "    return max_crossed, max_cut"
   ]
  },
  {
   "cell_type": "markdown",
   "metadata": {},
   "source": [
    "## 2. Example run:"
   ]
  },
  {
   "cell_type": "code",
   "execution_count": 12,
   "metadata": {},
   "outputs": [
    {
     "name": "stdout",
     "output_type": "stream",
     "text": [
      "8 [['w', 'x'], ['u', 'v', 'y', 'z']]\n",
      "CPU times: user 36.9 ms, sys: 3.09 ms, total: 40 ms\n",
      "Wall time: 38.7 ms\n"
     ]
    },
    {
     "data": {
      "image/png": "[encoded data removed]",
      "text/plain": [
       "<Figure size 432x288 with 1 Axes>"
      ]
     },
     "metadata": {},
     "output_type": "display_data"
    }
   ],
   "source": [
    "%%time\n",
    "\n",
    "# create graph\n",
    "g = nx.Graph()\n",
    "g.add_nodes_from(\"uvwxyz\")\n",
    "edges = [('u','x'),('u','w'),('v','w'),('v','x'),\n",
    "         ('y','w'),('y','x'),('z','w'),('z','x')]\n",
    "g.add_edges_from(edges)\n",
    "\n",
    "# find max cut\n",
    "max_crossed, max_cut = find_max_cut(g)\n",
    "\n",
    "# display\n",
    "print(f\"{max_crossed} {max_cut}\")\n",
    "nx.draw(g, **display_options)"
   ]
  },
  {
   "cell_type": "markdown",
   "metadata": {},
   "source": [
    "## 3. 'Quantum' Solver"
   ]
  },
  {
   "cell_type": "code",
   "execution_count": 13,
   "metadata": {},
   "outputs": [],
   "source": [
    "q_sim = QVMConnection()"
   ]
  },
  {
   "cell_type": "markdown",
   "metadata": {},
   "source": [
    "`u`, `v`, `node` must all be integers to serve as indices. A dictionary will be needed to map non-integer nodes  & edge names."
   ]
  },
  {
   "cell_type": "code",
   "execution_count": 14,
   "metadata": {},
   "outputs": [],
   "source": [
    "graph = nx.Graph()\n",
    "graph.add_nodes_from([0,1,2,3,4,5])\n",
    "edges = [(0,3),(0,2),(1,2),(1,3),\n",
    "         (4,2),(4,3),(5,2),(5,3)]\n",
    "graph.add_edges_from(edges)"
   ]
  },
  {
   "cell_type": "code",
   "execution_count": 15,
   "metadata": {},
   "outputs": [
    {
     "data": {
      "text/plain": [
       "(NodeView((0, 1, 2, 3, 4, 5)),\n",
       " EdgeView([(0, 3), (0, 2), (1, 2), (1, 3), (2, 4), (2, 5), (3, 4), (3, 5)]))"
      ]
     },
     "execution_count": 15,
     "metadata": {},
     "output_type": "execute_result"
    }
   ],
   "source": [
    "graph.nodes, graph.edges"
   ]
  },
  {
   "cell_type": "code",
   "execution_count": 27,
   "metadata": {},
   "outputs": [
    {
     "data": {
      "image/png": "[encoded data removed]",
      "text/plain": [
       "<Figure size 432x288 with 1 Axes>"
      ]
     },
     "metadata": {},
     "output_type": "display_data"
    }
   ],
   "source": [
    "nx.draw(graph, **display_options)"
   ]
  },
  {
   "cell_type": "code",
   "execution_count": 28,
   "metadata": {},
   "outputs": [],
   "source": [
    "cost_operators, driver_operators = [],[]\n",
    "\n",
    "for u,v in graph.edges():\n",
    "    cost_operators.append(PauliTerm(\"Z\", u, 0.5) *\n",
    "                          PauliTerm(\"Z\", v)      +\n",
    "                          PauliTerm(\"I\", 0, -0.5))\n",
    "for node in graph.nodes():\n",
    "    driver_operators.append(PauliSum([PauliTerm(\"X\", node, 1.0)]))"
   ]
  },
  {
   "cell_type": "code",
   "execution_count": 29,
   "metadata": {},
   "outputs": [],
   "source": [
    "program = pq.Program()\n",
    "for node in graph.nodes():\n",
    "    program.inst(H(node))"
   ]
  },
  {
   "cell_type": "code",
   "execution_count": 30,
   "metadata": {},
   "outputs": [],
   "source": [
    "max_cut_instance = QAOA(qvm=q_sim, n_qubits=len(graph.nodes()), steps=1, \n",
    "            ref_hamiltonian=driver_operators, cost_ham=cost_operators,\n",
    "            driver_ref=program, store_basis=True)"
   ]
  },
  {
   "cell_type": "code",
   "execution_count": 31,
   "metadata": {},
   "outputs": [
    {
     "name": "stdout",
     "output_type": "stream",
     "text": [
      "WARNING: Fast method for expectation will be used. Noise\n",
      "                     models will be ineffective\n",
      "Optimization terminated successfully.\n",
      "         Current function value: -5.574359\n",
      "         Iterations: 20\n",
      "         Function evaluations: 35\n"
     ]
    }
   ],
   "source": [
    "betas, gammas = max_cut_instance.get_angles()"
   ]
  },
  {
   "cell_type": "code",
   "execution_count": 32,
   "metadata": {},
   "outputs": [],
   "source": [
    "# get paramaterized program\n",
    "param_program = max_cut_instance.get_parameterized_program()\n",
    "sampling_program = param_program(np.hstack((betas, gammas)))\n",
    "\n",
    "# use run_and_measure QVM API to prepare circuit & measure qubits\n",
    "bitstring_samples = q_sim.run_and_measure(quil_program=sampling_program,\n",
    "                        qubits=range(len(graph.nodes())), trials=1000)\n",
    "bitstring_tuples  = map(tuple, bitstring_samples)\n",
    "\n",
    "# aggregate statistics\n",
    "freq = Counter(bitstring_tuples)\n",
    "max_freq_string = max(freq, key=lambda x: freq[x])"
   ]
  },
  {
   "cell_type": "code",
   "execution_count": 33,
   "metadata": {},
   "outputs": [],
   "source": [
    "def get_max_from_bit_freqs(freq):\n",
    "    for bit_string_freq in freq.items():\n",
    "        if bit_string_freq[1] == max(freq.values()):\n",
    "            max_cut = bit_string_freq\n",
    "    return max_cut"
   ]
  },
  {
   "cell_type": "markdown",
   "metadata": {},
   "source": [
    "QAOA algorithm says indices [0,1,4,5] and [2,3]:"
   ]
  },
  {
   "cell_type": "code",
   "execution_count": 34,
   "metadata": {},
   "outputs": [
    {
     "data": {
      "text/plain": [
       "((1, 1, 0, 0, 1, 1), 162)"
      ]
     },
     "execution_count": 34,
     "metadata": {},
     "output_type": "execute_result"
    }
   ],
   "source": [
    "max_cut = get_max_from_bit_freqs(freq);\n",
    "max_cut"
   ]
  },
  {
   "cell_type": "markdown",
   "metadata": {},
   "source": [
    "Brute force algorith agrees:"
   ]
  },
  {
   "cell_type": "code",
   "execution_count": 35,
   "metadata": {},
   "outputs": [
    {
     "data": {
      "text/plain": [
       "(8, [[2, 3], [0, 1, 4, 5]])"
      ]
     },
     "execution_count": 35,
     "metadata": {},
     "output_type": "execute_result"
    }
   ],
   "source": [
    "find_max_cut(graph)"
   ]
  },
  {
   "cell_type": "markdown",
   "metadata": {},
   "source": [
    "### 3.1 Refactored:"
   ]
  },
  {
   "cell_type": "code",
   "execution_count": 36,
   "metadata": {},
   "outputs": [],
   "source": [
    "def QAOA_max_cut(graph):\n",
    "    q_sim = QVMConnection()\n",
    "\n",
    "    cost_operators, driver_operators = [],[]\n",
    "\n",
    "    for u,v in graph.edges():\n",
    "        cost_operators.append(PauliTerm(\"Z\", u, 0.5) *\n",
    "                              PauliTerm(\"Z\", v)      +\n",
    "                              PauliTerm(\"I\", 0, -0.5))\n",
    "    for node in graph.nodes():\n",
    "        driver_operators.append(PauliSum([PauliTerm(\"X\", node, 1.0)]))\n",
    "\n",
    "    program = pq.Program()\n",
    "    \n",
    "    for node in graph.nodes():\n",
    "        program.inst(H(node))\n",
    "\n",
    "    max_cut_instance = QAOA(qvm=q_sim, n_qubits=len(graph.nodes()), steps=1, \n",
    "                ref_hamiltonian=driver_operators, cost_ham=cost_operators,\n",
    "                driver_ref=program, store_basis=True)\n",
    "\n",
    "    betas, gammas = max_cut_instance.get_angles()\n",
    "\n",
    "    # get paramaterized program\n",
    "    param_program = max_cut_instance.get_parameterized_program()\n",
    "    sampling_program = param_program(np.hstack((betas, gammas)))\n",
    "\n",
    "    # use run_and_measure QVM API to prepare circuit & measure qubits\n",
    "    bitstring_samples = q_sim.run_and_measure(quil_program=sampling_program,\n",
    "                            qubits=range(len(graph.nodes())), trials=1000)\n",
    "    bitstring_tuples  = map(tuple, bitstring_samples)\n",
    "\n",
    "    # aggregate statistics\n",
    "    freqs = Counter(bitstring_tuples)\n",
    "    \n",
    "    return freqs, {'betas':betas, 'gammas':gammas,\n",
    "                   'inst':max_cut_instance, 'program':program,\n",
    "                   'costop':cost_operators, 'drivop':driver_operators}"
   ]
  },
  {
   "cell_type": "markdown",
   "metadata": {},
   "source": [
    "## 4. Random Graph:"
   ]
  },
  {
   "cell_type": "code",
   "execution_count": 52,
   "metadata": {},
   "outputs": [],
   "source": [
    "def gen_random_graph(n=6, min_p=0.5):\n",
    "    \"\"\"Build a random graph with at least `min_p` percent \n",
    "       of its edges removed. Manual check for no isolated \n",
    "       nodes required.\n",
    "    \"\"\"\n",
    "    graph = nx.complete_graph(n)\n",
    "    \n",
    "    # choose random number of edges to remove\n",
    "    n_remove = int(max(min_p, np.random.random()) * len(graph.edges))\n",
    "    # built list of edges to remove\n",
    "    remove_idxs = np.random.choice(range(len(graph.edges)), size=n_remove, replace=False)\n",
    "    edges_list = list(graph.edges)\n",
    "    removes = [edges_list[idx] for idx in remove_idxs]\n",
    "    # remove edges\n",
    "    graph.remove_edges_from(removes)\n",
    "    \n",
    "    return graph"
   ]
  },
  {
   "cell_type": "code",
   "execution_count": 124,
   "metadata": {},
   "outputs": [
    {
     "data": {
      "text/plain": [
       "True"
      ]
     },
     "execution_count": 124,
     "metadata": {},
     "output_type": "execute_result"
    }
   ],
   "source": [
    "n = 12\n",
    "graph = gen_random_graph(n=n)\n",
    "# check no isolated nodes. see: https://networkx.github.io/documentation/stable/reference/algorithms/generated/networkx.algorithms.components.connected_components.html#networkx.algorithms.components.connected_components\n",
    "[len(c) for c in sorted(nx.connected_components(graph), key=len, reverse=True)][0] == n"
   ]
  },
  {
   "cell_type": "code",
   "execution_count": 125,
   "metadata": {},
   "outputs": [
    {
     "data": {
      "text/plain": [
       "NodeView((0, 1, 2, 3, 4, 5, 6, 7, 8, 9, 10, 11))"
      ]
     },
     "execution_count": 125,
     "metadata": {},
     "output_type": "execute_result"
    }
   ],
   "source": [
    "graph.nodes"
   ]
  },
  {
   "cell_type": "code",
   "execution_count": 126,
   "metadata": {},
   "outputs": [
    {
     "data": {
      "text/plain": [
       "EdgeView([(0, 8), (1, 2), (1, 4), (3, 8), (4, 7), (4, 9), (5, 8), (6, 8), (6, 10), (9, 10), (9, 11)])"
      ]
     },
     "execution_count": 126,
     "metadata": {},
     "output_type": "execute_result"
    }
   ],
   "source": [
    "graph.edges"
   ]
  },
  {
   "cell_type": "code",
   "execution_count": 127,
   "metadata": {},
   "outputs": [
    {
     "data": {
      "image/png": "[encoded data removed]",
      "text/plain": [
       "<Figure size 432x288 with 1 Axes>"
      ]
     },
     "metadata": {},
     "output_type": "display_data"
    }
   ],
   "source": [
    "nx.draw(graph, **display_options)"
   ]
  },
  {
   "cell_type": "code",
   "execution_count": 128,
   "metadata": {},
   "outputs": [
    {
     "name": "stdout",
     "output_type": "stream",
     "text": [
      "WARNING: Fast method for expectation will be used. Noise\n",
      "                     models will be ineffective\n",
      "Optimization terminated successfully.\n",
      "         Current function value: -8.090991\n",
      "         Iterations: 22\n",
      "         Function evaluations: 44\n",
      "((0, 0, 1, 0, 1, 0, 0, 0, 1, 0, 1, 1), 15)\n",
      "CPU times: user 583 ms, sys: 24.1 ms, total: 607 ms\n",
      "Wall time: 8.61 s\n"
     ]
    }
   ],
   "source": [
    "%%time\n",
    "freqs, var_dict = QAOA_max_cut(graph)\n",
    "max_cut = get_max_from_bit_freqs(freqs)\n",
    "print(max_cut)"
   ]
  },
  {
   "cell_type": "code",
   "execution_count": 129,
   "metadata": {},
   "outputs": [
    {
     "name": "stdout",
     "output_type": "stream",
     "text": [
      "CPU times: user 11.1 s, sys: 37.2 ms, total: 11.1 s\n",
      "Wall time: 11.2 s\n"
     ]
    },
    {
     "data": {
      "text/plain": [
       "(11, [[2, 4, 8, 10, 11], [0, 1, 3, 5, 6, 7, 9]])"
      ]
     },
     "execution_count": 129,
     "metadata": {},
     "output_type": "execute_result"
    }
   ],
   "source": [
    "%%time\n",
    "# brute force check\n",
    "find_max_cut(graph)"
   ]
  },
  {
   "cell_type": "markdown",
   "metadata": {},
   "source": [
    "**NOTE** this time things worked, but this is rare. I think this was one of the few random graphs that were bipartite and thus solvable."
   ]
  },
  {
   "cell_type": "markdown",
   "metadata": {},
   "source": [
    "### 4.1 Plotting Bit Strings"
   ]
  },
  {
   "cell_type": "code",
   "execution_count": 130,
   "metadata": {},
   "outputs": [],
   "source": [
    "def qubit_plot(inst, probs, n_qubits):\n",
    "    probs = probs.real\n",
    "    states = inst.states\n",
    "    fig = plt.figure()\n",
    "    ax = fig.add_subplot(111)\n",
    "    ax.set_xlabel(\"state\",fontsize=20)\n",
    "    ax.set_ylabel(\"Probability\",fontsize=20)\n",
    "    ax.set_xlim([0, 2**n_qubits])\n",
    "    rec = ax.bar(range(2**n_qubits), probs[:,0],)\n",
    "    num_states = [0, \n",
    "                  int(\"\".join(str(x) for x in [0,1] * (n_qubits//2)), 2),\n",
    "                  int(\"\".join(str(x) for x in [1,0] * (n_qubits//2)), 2),\n",
    "                  2**n_qubits - 1]\n",
    "    ax.set_xticks(num_states)\n",
    "    ax.set_xticklabels(map(lambda x: inst.states[x], num_states), rotation=90)\n",
    "    plt.grid(True)\n",
    "    plt.tight_layout()\n",
    "    plt.show()"
   ]
  },
  {
   "cell_type": "code",
   "execution_count": 131,
   "metadata": {},
   "outputs": [
    {
     "data": {
      "image/png": "[encoded data removed]",
      "text/plain": [
       "<Figure size 432x288 with 1 Axes>"
      ]
     },
     "metadata": {},
     "output_type": "display_data"
    }
   ],
   "source": [
    "n_qubits = len(graph.nodes())\n",
    "betas  = var_dict['betas']\n",
    "gammas = var_dict['gammas']\n",
    "t = np.hstack((betas,gammas))\n",
    "max_cut_instance = var_dict['inst']\n",
    "probs = max_cut_instance.probabilities(t)\n",
    "qubit_plot(max_cut_instance, probs, n_qubits)"
   ]
  },
  {
   "cell_type": "markdown",
   "metadata": {},
   "source": [
    "## 5 Random Graph 2"
   ]
  },
  {
   "cell_type": "markdown",
   "metadata": {},
   "source": [
    "A more typical example of running QAOA & Brute-Force Max Cut on a random graph:"
   ]
  },
  {
   "cell_type": "code",
   "execution_count": 135,
   "metadata": {},
   "outputs": [
    {
     "data": {
      "text/plain": [
       "True"
      ]
     },
     "execution_count": 135,
     "metadata": {},
     "output_type": "execute_result"
    }
   ],
   "source": [
    "n = 12\n",
    "graph = gen_random_graph(n=n)\n",
    "# check no isolated nodes. see: https://networkx.github.io/documentation/stable/reference/algorithms/generated/networkx.algorithms.components.connected_components.html#networkx.algorithms.components.connected_components\n",
    "[len(c) for c in sorted(nx.connected_components(graph), key=len, reverse=True)][0] == n"
   ]
  },
  {
   "cell_type": "code",
   "execution_count": 136,
   "metadata": {},
   "outputs": [
    {
     "data": {
      "image/png": "[encoded data removed]",
      "text/plain": [
       "<Figure size 432x288 with 1 Axes>"
      ]
     },
     "metadata": {},
     "output_type": "display_data"
    }
   ],
   "source": [
    "nx.draw(graph, **display_options)"
   ]
  },
  {
   "cell_type": "code",
   "execution_count": 137,
   "metadata": {},
   "outputs": [
    {
     "name": "stdout",
     "output_type": "stream",
     "text": [
      "WARNING: Fast method for expectation will be used. Noise\n",
      "                     models will be ineffective\n",
      "Optimization terminated successfully.\n",
      "         Current function value: -16.682567\n",
      "         Iterations: 19\n",
      "         Function evaluations: 37\n",
      "((1, 0, 0, 0, 1, 0, 0, 1, 1, 0, 1, 1), 8)\n",
      "CPU times: user 1.34 s, sys: 38.1 ms, total: 1.38 s\n",
      "Wall time: 12.3 s\n"
     ]
    }
   ],
   "source": [
    "%%time\n",
    "freqs, var_dict = QAOA_max_cut(graph)\n",
    "max_cut = get_max_from_bit_freqs(freqs)\n",
    "print(max_cut)"
   ]
  },
  {
   "cell_type": "code",
   "execution_count": 138,
   "metadata": {},
   "outputs": [
    {
     "name": "stdout",
     "output_type": "stream",
     "text": [
      "CPU times: user 11.9 s, sys: 46.5 ms, total: 11.9 s\n",
      "Wall time: 12 s\n"
     ]
    },
    {
     "data": {
      "text/plain": [
       "(0, [None, None])"
      ]
     },
     "execution_count": 138,
     "metadata": {},
     "output_type": "execute_result"
    }
   ],
   "source": [
    "%%time\n",
    "# brute force check\n",
    "find_max_cut(graph)"
   ]
  },
  {
   "cell_type": "markdown",
   "metadata": {},
   "source": [
    "Hmmm. Maybe I wrote the BF algo wrong. Maybe there's no solution. I'm thinking adding a constraint for a random *bipartite* graph may help."
   ]
  },
  {
   "cell_type": "code",
   "execution_count": 139,
   "metadata": {},
   "outputs": [
    {
     "data": {
      "image/png": "[encoded data removed]",
      "text/plain": [
       "<Figure size 432x288 with 1 Axes>"
      ]
     },
     "metadata": {},
     "output_type": "display_data"
    }
   ],
   "source": [
    "n_qubits = len(graph.nodes())\n",
    "betas  = var_dict['betas']\n",
    "gammas = var_dict['gammas']\n",
    "t = np.hstack((betas,gammas))\n",
    "max_cut_instance = var_dict['inst']\n",
    "probs = max_cut_instance.probabilities(t)\n",
    "qubit_plot(max_cut_instance, probs, n_qubits)"
   ]
  },
  {
   "cell_type": "markdown",
   "metadata": {},
   "source": [
    "## Comments"
   ]
  },
  {
   "cell_type": "markdown",
   "metadata": {},
   "source": [
    "My guess is the random graphs are the issue. I'm new to this problem, but there does not look like there's any intuitive way to do a max cut on many of the random graphs I've been generating.\n",
    "\n",
    "I tried cutting larger fractions of their edges, but that too often resulted in unconnected graphs. My implementation of QAOA (which, to be fair, consists mostly of me calling Grove and using the pyQuil Forest API) *does* find the correct max cut for the simple 6-node graph –– and that graph is bipartite: I got it from a Tim Roughgarden lecture.\n",
    "\n",
    "If there were more time I'd write a routine to generate guaranteed bipartite graphs, but the problem statement did say:\n",
    "\n",
    "> solve a simple max-cut problem on a small random graph of roughly a dozen nodes.\n",
    "\n",
    "So I think the more important thing was seeing how someone would handle the assignment.\n",
    "\n",
    "*However*, when there was a solution found (it took a couple dozen tries of creating a random graph) both the brute-force checker and the QAOA agreed. That was very satisfying.\n",
    "\n",
    "In any case, seeing the QAOA algorithm solve the first graph, by I guess (simulated) electron spin as bits, was very creepy in a cool way."
   ]
  }
 ],
 "metadata": {
  "kernelspec": {
   "display_name": "Python (quant)",
   "language": "python",
   "name": "quant"
  },
  "language_info": {
   "codemirror_mode": {
    "name": "ipython",
    "version": 3
   },
   "file_extension": ".py",
   "mimetype": "text/x-python",
   "name": "python",
   "nbconvert_exporter": "python",
   "pygments_lexer": "ipython3",
   "version": "3.6.5"
  }
 },
 "nbformat": 4,
 "nbformat_minor": 2
}
