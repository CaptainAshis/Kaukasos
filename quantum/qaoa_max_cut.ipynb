{
 "cells": [
  {
   "cell_type": "markdown",
   "metadata": {},
   "source": [
    "# QAOA Max Cut\n",
    "\n",
    "Wayne Nixalo – 2018/6/7\n",
    "\n",
    "---"
   ]
  },
  {
   "cell_type": "code",
   "execution_count": 1,
   "metadata": {},
   "outputs": [],
   "source": [
    "%matplotlib inline\n",
    "%reload_ext autoreload\n",
    "%autoreload 2"
   ]
  },
  {
   "cell_type": "code",
   "execution_count": 17,
   "metadata": {},
   "outputs": [],
   "source": [
    "import numpy as np\n",
    "import matplotlib.pyplot as plt\n",
    "import itertools"
   ]
  },
  {
   "cell_type": "code",
   "execution_count": 59,
   "metadata": {},
   "outputs": [],
   "source": [
    "import networkx as nx\n",
    "\n",
    "from grove.pyqaoa.qaoa import QAOA\n",
    "from grove.pyqaoa.maxcut_qaoa import maxcut_qaoa\n",
    "from pyquil.paulis import PauliSum, PauliTerm\n",
    "from pyquil.gates import H\n",
    "from pyquil.api import QVMConnection\n",
    "import pyquil.quil as pq\n",
    "\n",
    "from functools import reduce\n",
    "from collections import Counter"
   ]
  },
  {
   "cell_type": "code",
   "execution_count": 4,
   "metadata": {},
   "outputs": [],
   "source": [
    "display_options = {'node_color' :\"#6CAFB7\",\n",
    "                   'node_size'  :250,\n",
    "                   'with_labels': True}"
   ]
  },
  {
   "cell_type": "markdown",
   "metadata": {
    "heading_collapsed": true
   },
   "source": [
    "## 'Classical' Solver"
   ]
  },
  {
   "cell_type": "markdown",
   "metadata": {
    "hidden": true
   },
   "source": [
    "Low-level worker functions"
   ]
  },
  {
   "cell_type": "code",
   "execution_count": 19,
   "metadata": {
    "hidden": true
   },
   "outputs": [],
   "source": [
    "def internal_edge(edge, graph):\n",
    "    \"\"\"Checks if edge is internal to graph.\"\"\"\n",
    "    return edge in graph.edges\n",
    "\n",
    "def single_endpoint(edge, graph):\n",
    "    \"\"\"Checks that an edge has a single endpoint in graph.\"\"\"\n",
    "    return list(graph.edges()).count(edge) == 1\n",
    "\n",
    "def get_edges_from_nodes(nodes, graph):\n",
    "    \"\"\"Retreives all edges connected to nodes in graph.\"\"\"\n",
    "    edges = []\n",
    "    for node in nodes:\n",
    "        for edge in graph.edges:\n",
    "            if node in edge:\n",
    "                edges.append(edge)\n",
    "    return edges\n",
    "\n",
    "def edges_between(edges_A, edges_B):\n",
    "    \"\"\"Gets the number of edges shared by edges_A and edges_B.\"\"\"\n",
    "    count = 0\n",
    "    for edge in edges_A:\n",
    "        count += set(edge) in map(set, edges_B)\n",
    "    return count\n",
    "\n",
    "def get_unique_permutations(nodes, split_idx):\n",
    "    \"\"\"Returns all unique combinations of nodes split at split_idx.\"\"\"\n",
    "    nodes_A,nodes_B = [],[]\n",
    "    nodes = list(nodes)\n",
    "    # get all unique combos up to the split\n",
    "    for perm in itertools.permutations(nodes, split_idx+1):\n",
    "        if set(perm) not in nodes_A: nodes_A.append(set(perm))\n",
    "    # cast the sets back to lists\n",
    "    nodes_A = list(map(list, nodes_A))\n",
    "    # get all unique combos after the split\n",
    "    for perm in nodes_A:\n",
    "        add_nodes = nodes.copy()\n",
    "        for node in perm: \n",
    "            add_nodes.remove(node)\n",
    "        nodes_B.append(add_nodes)\n",
    "    # return permutations of split pairs\n",
    "    return nodes_A, nodes_B"
   ]
  },
  {
   "cell_type": "markdown",
   "metadata": {
    "hidden": true
   },
   "source": [
    "Validation"
   ]
  },
  {
   "cell_type": "code",
   "execution_count": 20,
   "metadata": {
    "hidden": true
   },
   "outputs": [],
   "source": [
    "def valid_cut(nodes_AB, edges_AB, graph):\n",
    "    \"\"\"Determines if a cut is valid.\"\"\"\n",
    "    \n",
    "    nodes_A, nodes_B = nodes_AB\n",
    "    edges_A, edges_B = edges_AB\n",
    "    valid_cut = True\n",
    "    \n",
    "    # get edges of cut\n",
    "    edges_A = get_edges_from_nodes(nodes_A, graph)\n",
    "    edges_B = get_edges_from_nodes(nodes_B, graph)\n",
    "\n",
    "    # check no internal edges\n",
    "    A_internal = graph.copy()\n",
    "    B_internal = graph.copy()\n",
    "    A_internal.remove_nodes_from(nodes_B)\n",
    "    B_internal.remove_nodes_from(nodes_A)\n",
    "    \n",
    "    for graph in (A_internal, B_internal): \n",
    "        if len(graph.edges) > 0: \n",
    "            valid_cut = False\n",
    "            break\n",
    "\n",
    "    # check all single endpoints – (check first no internals)\n",
    "    if valid_cut: valid_cut = set(edges_B)==set(edges_A)\n",
    "        \n",
    "    return valid_cut"
   ]
  },
  {
   "cell_type": "markdown",
   "metadata": {
    "hidden": true
   },
   "source": [
    "Finder"
   ]
  },
  {
   "cell_type": "code",
   "execution_count": 21,
   "metadata": {
    "hidden": true
   },
   "outputs": [],
   "source": [
    "def find_max_cut(graph):\n",
    "    \"\"\"Finds the Max Cut of a Bipartite Graph.\"\"\"\n",
    "    max_crossed = 0\n",
    "\n",
    "    # get cut splits\n",
    "    n_nodes = len(graph.nodes)\n",
    "    split_idxs = list(range(0, int(n_nodes//2)))\n",
    "\n",
    "    # iterate through all unique cut sizes\n",
    "    for split_idx in split_idxs:\n",
    "        permutations = get_unique_permutations(graph.nodes, split_idx)\n",
    "\n",
    "        # iterate through all unique node permutations (Select Cut)\n",
    "        for nodes_A, nodes_B in list(zip(*permutations)):\n",
    "\n",
    "            # get edges of cut\n",
    "            edges_A = get_edges_from_nodes(nodes_A, graph)\n",
    "            edges_B = get_edges_from_nodes(nodes_B, graph)\n",
    "\n",
    "            # check no internal edges and check all single endpoints\n",
    "            if not valid_cut((nodes_A, nodes_B), (edges_A, edges_B), graph):\n",
    "                continue\n",
    "\n",
    "            # count crossed edges\n",
    "            count = edges_between(edges_A, edges_B)\n",
    "            if count > max_crossed:\n",
    "                max_crossed = count\n",
    "                max_cut = [nodes_A, nodes_B]\n",
    "                \n",
    "    # check max cut exists\n",
    "    if max_crossed == 0:\n",
    "        max_cut = [None, None]\n",
    "    \n",
    "    return max_crossed, max_cut"
   ]
  },
  {
   "cell_type": "markdown",
   "metadata": {},
   "source": [
    "## Example run:"
   ]
  },
  {
   "cell_type": "code",
   "execution_count": 23,
   "metadata": {},
   "outputs": [
    {
     "name": "stdout",
     "output_type": "stream",
     "text": [
      "8 [['x', 'w'], ['u', 'v', 'y', 'z']]\n",
      "CPU times: user 34.2 ms, sys: 2.72 ms, total: 36.9 ms\n",
      "Wall time: 36.4 ms\n"
     ]
    },
    {
     "data": {
      "image/png": "[encoded data removed]",
      "text/plain": [
       "<Figure size 432x288 with 1 Axes>"
      ]
     },
     "metadata": {},
     "output_type": "display_data"
    }
   ],
   "source": [
    "%%time\n",
    "\n",
    "# create graph\n",
    "g = nx.Graph()\n",
    "g.add_nodes_from(\"uvwxyz\")\n",
    "edges = [('u','x'),('u','w'),('v','w'),('v','x'),\n",
    "         ('y','w'),('y','x'),('z','w'),('z','x')]\n",
    "g.add_edges_from(edges)\n",
    "\n",
    "# find max cut\n",
    "max_crossed, max_cut = find_max_cut(g)\n",
    "\n",
    "# display\n",
    "print(f\"{max_crossed} {max_cut}\")\n",
    "nx.draw(g, **display_options)"
   ]
  },
  {
   "cell_type": "markdown",
   "metadata": {},
   "source": [
    "## 'Quantum' Solver"
   ]
  },
  {
   "cell_type": "code",
   "execution_count": 25,
   "metadata": {},
   "outputs": [],
   "source": [
    "# graph         = [(0,1)] # graph defined by list of unit-weight edges\n",
    "steps         = 1  # reference to cost Hamiltonian evolution path length\n",
    "qaoa_instance = maxcut_qaoa(graph, steps=steps)"
   ]
  },
  {
   "cell_type": "markdown",
   "metadata": {},
   "source": [
    "Cost & Driver Hamiltonians corresponding to graph are stored as lists of PauliSums."
   ]
  },
  {
   "cell_type": "code",
   "execution_count": 27,
   "metadata": {},
   "outputs": [],
   "source": [
    "cost_list,ref_list = qaoa_instance.cost_ham, qaoa_instance.ref_ham\n",
    "cost_ham = reduce(lambda x,y : x + y, cost_list)\n",
    "ref_ham  = reduce(lambda x,y : x + y, ref_list)"
   ]
  },
  {
   "cell_type": "markdown",
   "metadata": {},
   "source": [
    "Precompute Quil program"
   ]
  },
  {
   "cell_type": "code",
   "execution_count": null,
   "metadata": {},
   "outputs": [],
   "source": [
    "param_program = qaoa_instance.get_parameterized_program()"
   ]
  },
  {
   "cell_type": "markdown",
   "metadata": {},
   "source": [
    "Setup Rigetti Forest API connection"
   ]
  },
  {
   "cell_type": "code",
   "execution_count": 39,
   "metadata": {},
   "outputs": [],
   "source": [
    "q_sim = QVMConnection()"
   ]
  },
  {
   "cell_type": "code",
   "execution_count": 41,
   "metadata": {},
   "outputs": [],
   "source": [
    "n = 6\n",
    "graph = nx.Graph()\n",
    "for i in range(n): graph.add_edge(i, (i + 1) % n)"
   ]
  },
  {
   "cell_type": "code",
   "execution_count": null,
   "metadata": {},
   "outputs": [],
   "source": [
    "# g = nx.Graph()\n",
    "# g.add_nodes_from(\"uvwxyz\")\n",
    "# edges = [('u','x'),('u','w'),('v','w'),('v','x'),\n",
    "#          ('y','w'),('y','x'),('z','w'),('z','x')]\n",
    "# g.add_edges_from(edges)"
   ]
  },
  {
   "cell_type": "code",
   "execution_count": 43,
   "metadata": {},
   "outputs": [
    {
     "data": {
      "image/png": "[encoded data removed]",
      "text/plain": [
       "<Figure size 432x288 with 1 Axes>"
      ]
     },
     "metadata": {},
     "output_type": "display_data"
    }
   ],
   "source": [
    "nx.draw_circular(graph, **display_options)"
   ]
  },
  {
   "cell_type": "code",
   "execution_count": 46,
   "metadata": {},
   "outputs": [
    {
     "data": {
      "text/plain": [
       "(6, [[0, 2, 4], [1, 3, 5]])"
      ]
     },
     "execution_count": 46,
     "metadata": {},
     "output_type": "execute_result"
    }
   ],
   "source": [
    "find_max_cut(graph)"
   ]
  },
  {
   "cell_type": "markdown",
   "metadata": {},
   "source": [
    "`u`, `v`, `node` must all be integers to serve as indices. A dictionary will be needed to map non-integer nodes  & edge names."
   ]
  },
  {
   "cell_type": "code",
   "execution_count": 106,
   "metadata": {},
   "outputs": [],
   "source": [
    "\n",
    "# node_dict = {'u':0,'v':1,'w':2,'x':3,'y':4,'z':5}\n",
    "graph = nx.Graph()\n",
    "# g.add_nodes_from(\"uvwxyz\")\n",
    "graph.add_nodes_from([0,1,2,3,4,5])\n",
    "edges = [(0,3),(0,2),(1,2),(1,3),\n",
    "         (4,2),(4,3),(5,2),(5,3)]\n",
    "graph.add_edges_from(edges)"
   ]
  },
  {
   "cell_type": "code",
   "execution_count": 107,
   "metadata": {},
   "outputs": [
    {
     "data": {
      "text/plain": [
       "(NodeView((0, 1, 2, 3, 4, 5)),\n",
       " EdgeView([(0, 3), (0, 2), (1, 2), (1, 3), (2, 4), (2, 5), (3, 4), (3, 5)]))"
      ]
     },
     "execution_count": 107,
     "metadata": {},
     "output_type": "execute_result"
    }
   ],
   "source": [
    "graph.nodes, graph.edges"
   ]
  },
  {
   "cell_type": "code",
   "execution_count": 110,
   "metadata": {},
   "outputs": [
    {
     "data": {
      "image/png": "[encoded data removed]",
      "text/plain": [
       "<Figure size 432x288 with 1 Axes>"
      ]
     },
     "metadata": {},
     "output_type": "display_data"
    }
   ],
   "source": [
    "nx.draw(graph, **display_options)"
   ]
  },
  {
   "cell_type": "code",
   "execution_count": 111,
   "metadata": {},
   "outputs": [],
   "source": [
    "cost_operators, driver_operators = [],[]\n",
    "\n",
    "for u,v in graph.edges():\n",
    "    cost_operators.append(PauliTerm(\"Z\", u, 0.5) *\n",
    "                          PauliTerm(\"Z\", v)      +\n",
    "                          PauliTerm(\"I\", 0, -0.5))\n",
    "for node in graph.nodes():\n",
    "    driver_operators.append(PauliSum([PauliTerm(\"X\", node, 1.0)]))"
   ]
  },
  {
   "cell_type": "code",
   "execution_count": 112,
   "metadata": {},
   "outputs": [],
   "source": [
    "program = pq.Program()\n",
    "for node in graph.nodes():\n",
    "    program.inst(H(node))"
   ]
  },
  {
   "cell_type": "code",
   "execution_count": 113,
   "metadata": {},
   "outputs": [],
   "source": [
    "max_cut_instance = QAOA(qvm=q_sim, n_qubits=len(graph.nodes()), steps=1, \n",
    "            ref_hamiltonian=driver_operators, cost_ham=cost_operators,\n",
    "            driver_ref=program, store_basis=True)"
   ]
  },
  {
   "cell_type": "code",
   "execution_count": 114,
   "metadata": {},
   "outputs": [
    {
     "name": "stdout",
     "output_type": "stream",
     "text": [
      "WARNING: Fast method for expectation will be used. Noise\n",
      "                     models will be ineffective\n",
      "Optimization terminated successfully.\n",
      "         Current function value: -5.574295\n",
      "         Iterations: 23\n",
      "         Function evaluations: 44\n"
     ]
    }
   ],
   "source": [
    "betas, gammas = max_cut_instance.get_angles()"
   ]
  },
  {
   "cell_type": "code",
   "execution_count": 115,
   "metadata": {},
   "outputs": [],
   "source": [
    "# get paramaterized program\n",
    "param_program = max_cut_instance.get_parameterized_program()\n",
    "sampling_program = param_program(np.hstack((betas, gammas)))\n",
    "\n",
    "# use run_and_measure QVM API to prepare circuit & measure qubits\n",
    "bitstring_samples = q_sim.run_and_measure(quil_program=sampling_program,\n",
    "                        qubits=range(len(graph.nodes())), trials=1000)\n",
    "bitstring_tuples  = map(tuple, bitstring_samples)\n",
    "\n",
    "# aggregate statistics\n",
    "freq = Counter(bitstring_tuples)\n",
    "max_freq_string = max(freq, key=lambda x: freq[x])"
   ]
  },
  {
   "cell_type": "code",
   "execution_count": 116,
   "metadata": {},
   "outputs": [],
   "source": [
    "for bit_string_freq in freq.items():\n",
    "    if bit_string_freq[1] == max(freq.values()):\n",
    "        max_cut = bit_string_freq"
   ]
  },
  {
   "cell_type": "code",
   "execution_count": 117,
   "metadata": {},
   "outputs": [
    {
     "data": {
      "text/plain": [
       "((1, 1, 0, 0, 1, 1), 146)"
      ]
     },
     "execution_count": 117,
     "metadata": {},
     "output_type": "execute_result"
    }
   ],
   "source": [
    "max_cut"
   ]
  }
 ],
 "metadata": {
  "kernelspec": {
   "display_name": "Python (quant)",
   "language": "python",
   "name": "quant"
  },
  "language_info": {
   "codemirror_mode": {
    "name": "ipython",
    "version": 3
   },
   "file_extension": ".py",
   "mimetype": "text/x-python",
   "name": "python",
   "nbconvert_exporter": "python",
   "pygments_lexer": "ipython3",
   "version": "3.6.5"
  }
 },
 "nbformat": 4,
 "nbformat_minor": 2
}
