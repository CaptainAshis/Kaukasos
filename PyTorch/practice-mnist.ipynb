{
 "cells": [
  {
   "cell_type": "markdown",
   "metadata": {},
   "source": [
    "PyTorch practice with MNIST data\n",
    "\n",
    "WNixalo - 2018/2/27\n",
    "\n",
    "---"
   ]
  },
  {
   "cell_type": "markdown",
   "metadata": {
    "heading_collapsed": true
   },
   "source": [
    "## 0. Imports"
   ]
  },
  {
   "cell_type": "code",
   "execution_count": 11,
   "metadata": {
    "hidden": true
   },
   "outputs": [],
   "source": [
    "# %reload_ext autoreload\n",
    "# %autoreload 2\n",
    "%matplotlib inline"
   ]
  },
  {
   "cell_type": "code",
   "execution_count": 1,
   "metadata": {
    "hidden": true
   },
   "outputs": [],
   "source": [
    "import torch\n",
    "import torchvision\n",
    "\n",
    "import numpy as np\n",
    "\n",
    "# import mnist_loader"
   ]
  },
  {
   "cell_type": "code",
   "execution_count": 2,
   "metadata": {
    "hidden": true
   },
   "outputs": [],
   "source": [
    "# train, valid, test = mnist_loader.load_data(path='data/mnist/')"
   ]
  },
  {
   "cell_type": "markdown",
   "metadata": {
    "heading_collapsed": true
   },
   "source": [
    "## 1. Data Loading"
   ]
  },
  {
   "cell_type": "code",
   "execution_count": 2,
   "metadata": {
    "hidden": true
   },
   "outputs": [],
   "source": [
    "# torchvision datasets are PIL.Image images of range [0,1]. Must trsfm them \n",
    "# to Tensors of normalized range [-1,1]\n",
    "transform = torchvision.transforms.Compose(\n",
    "    [torchvision.transforms.ToTensor(),\n",
    "     torchvision.transforms.Normalize((0.5,0.5,0.5),(0.5,0.5,0.5))]\n",
    ")\n",
    "# I have no idea how this works"
   ]
  },
  {
   "cell_type": "code",
   "execution_count": 76,
   "metadata": {
    "hidden": true
   },
   "outputs": [
    {
     "name": "stdout",
     "output_type": "stream",
     "text": [
      "Downloading http://yann.lecun.com/exdb/mnist/train-images-idx3-ubyte.gz\n",
      "Downloading http://yann.lecun.com/exdb/mnist/train-labels-idx1-ubyte.gz\n",
      "Downloading http://yann.lecun.com/exdb/mnist/t10k-images-idx3-ubyte.gz\n",
      "Downloading http://yann.lecun.com/exdb/mnist/t10k-labels-idx1-ubyte.gz\n",
      "Processing...\n",
      "Done!\n"
     ]
    }
   ],
   "source": [
    "trainset = torchvision.datasets.MNIST(root='./data/mnist/', train=True,\n",
    "                                      download=True, transform=transform)\n",
    "testset  = torchvision.datasets.MNIST(root='./data/mnnist/', train=False, \n",
    "                                      download=False, transform=transform)\n",
    "# ^ already downloaded w/ trainset; doesnt need to be `download=True`\n",
    "\n",
    "trainloader = torch.utils.data.DataLoader(trainset, batch_size=32, \n",
    "                                          shuffle=True, num_workers=4)\n",
    "testloader  = torch.utils.data.DataLoader(testset, batch_size=32, \n",
    "                                          shuffle=False, num_workers=4)"
   ]
  },
  {
   "cell_type": "code",
   "execution_count": 4,
   "metadata": {
    "hidden": true
   },
   "outputs": [
    {
     "data": {
      "text/plain": [
       "('1', '2', '3', '4', '5', '6', '7', '8', '9', '10')"
      ]
     },
     "execution_count": 4,
     "metadata": {},
     "output_type": "execute_result"
    }
   ],
   "source": [
    "classes = tuple(str(i+1) for i in range(10))\n",
    "classes"
   ]
  },
  {
   "cell_type": "markdown",
   "metadata": {
    "heading_collapsed": true
   },
   "source": [
    "## 2. Network Definition"
   ]
  },
  {
   "cell_type": "code",
   "execution_count": 118,
   "metadata": {
    "hidden": true
   },
   "outputs": [],
   "source": [
    "class FullNet(torch.nn.Module):\n",
    "    def __init__(self, layers):\n",
    "        super().__init__()\n",
    "        self.layers = torch.nn.ModuleList([\n",
    "            torch.nn.Linear(layers[i], layers[i+1]) for i in range(len(layers) - 1)\n",
    "        ])\n",
    "    def forward(self, x):\n",
    "        x = x.view(x.size(0), -1)\n",
    "        for layer in self.layers:\n",
    "            layer_x = layer(x)\n",
    "            x = torch.nn.functional.relu(layer_x) # NOTE we dont use relu as last actvn\n",
    "        return torch.nn.functional.log_softmax(layer_x, dim=-1) # but we DO take the last layer's output"
   ]
  },
  {
   "cell_type": "code",
   "execution_count": 119,
   "metadata": {
    "hidden": true
   },
   "outputs": [],
   "source": [
    "layers = [1*28*28, 40, 10] # MNIST dims: torch.Size([1, 28, 28]\n",
    "network = FullNet(layers)"
   ]
  },
  {
   "cell_type": "code",
   "execution_count": 120,
   "metadata": {
    "hidden": true
   },
   "outputs": [
    {
     "data": {
      "text/plain": [
       "FullNet(\n",
       "  (layers): ModuleList(\n",
       "    (0): Linear(in_features=784, out_features=40, bias=True)\n",
       "    (1): Linear(in_features=40, out_features=10, bias=True)\n",
       "  )\n",
       ")"
      ]
     },
     "execution_count": 120,
     "metadata": {},
     "output_type": "execute_result"
    }
   ],
   "source": [
    "network"
   ]
  },
  {
   "cell_type": "code",
   "execution_count": 121,
   "metadata": {
    "hidden": true
   },
   "outputs": [
    {
     "data": {
      "text/plain": [
       "[31360, 40, 400, 10]"
      ]
     },
     "execution_count": 121,
     "metadata": {},
     "output_type": "execute_result"
    }
   ],
   "source": [
    "[param.numel() for param in network.parameters()]"
   ]
  },
  {
   "cell_type": "markdown",
   "metadata": {
    "heading_collapsed": true
   },
   "source": [
    "## 3. Loss Function & Optimizer Definitions"
   ]
  },
  {
   "cell_type": "code",
   "execution_count": 122,
   "metadata": {
    "hidden": true
   },
   "outputs": [],
   "source": [
    "# loss function\n",
    "criterion = torch.nn.CrossEntropyLoss()\n",
    "# backprop optimizer\n",
    "optimizer = torch.optim.SGD(network.parameters(), lr=1e-2, momentum=0.9)"
   ]
  },
  {
   "cell_type": "code",
   "execution_count": 123,
   "metadata": {
    "hidden": true
   },
   "outputs": [
    {
     "data": {
      "text/plain": [
       "<bound method Module.parameters of FullNet(\n",
       "  (layers): ModuleList(\n",
       "    (0): Linear(in_features=784, out_features=40, bias=True)\n",
       "    (1): Linear(in_features=40, out_features=10, bias=True)\n",
       "  )\n",
       ")>"
      ]
     },
     "execution_count": 123,
     "metadata": {},
     "output_type": "execute_result"
    }
   ],
   "source": [
    "network.parameters"
   ]
  },
  {
   "cell_type": "markdown",
   "metadata": {
    "heading_collapsed": true
   },
   "source": [
    "## 4. Training"
   ]
  },
  {
   "cell_type": "markdown",
   "metadata": {
    "hidden": true
   },
   "source": [
    "---\n",
    "\n",
    "**Aside:** example training one minibatch"
   ]
  },
  {
   "cell_type": "code",
   "execution_count": 124,
   "metadata": {
    "hidden": true
   },
   "outputs": [
    {
     "data": {
      "text/plain": [
       "<torch.utils.data.dataloader.DataLoader at 0x1185996d8>"
      ]
     },
     "execution_count": 124,
     "metadata": {},
     "output_type": "execute_result"
    }
   ],
   "source": [
    "trainloader"
   ]
  },
  {
   "cell_type": "code",
   "execution_count": 203,
   "metadata": {
    "hidden": true
   },
   "outputs": [],
   "source": [
    "# I don't know how to get just one minibatch out of trainloader but this works\n",
    "for i, data in enumerate(trainloader):\n",
    "    if i == 0:\n",
    "        inp, lab = data\n",
    "        inp, lab = (torch.autograd.Variable(x) for x in (inp,lab))\n",
    "        \n",
    "outp = network(inp)\n",
    "loss = criterion(outp, lab)"
   ]
  },
  {
   "cell_type": "code",
   "execution_count": 213,
   "metadata": {
    "hidden": true
   },
   "outputs": [
    {
     "name": "stdout",
     "output_type": "stream",
     "text": [
      "\n",
      " 2.3698\n",
      "[torch.FloatTensor of size 1]\n",
      "\n",
      "2.3697829246520996\n"
     ]
    }
   ],
   "source": [
    "for elm in (loss.data, loss.data[0]): print(elm)"
   ]
  },
  {
   "cell_type": "markdown",
   "metadata": {
    "hidden": true
   },
   "source": [
    "---"
   ]
  },
  {
   "cell_type": "code",
   "execution_count": 125,
   "metadata": {
    "hidden": true
   },
   "outputs": [
    {
     "name": "stdout",
     "output_type": "stream",
     "text": [
      "[1, 200] loss: 0.08223918932676315\n",
      "[1, 400] loss: 0.12379545839503407\n",
      "[1, 600] loss: 0.16112342023104428\n",
      "[1, 800] loss: 0.19378408048674464\n",
      "[1, 1000] loss: 0.22447118280082942\n",
      "[1, 1200] loss: 0.25460694983974097\n",
      "[1, 1400] loss: 0.2821106288600713\n",
      "[1, 1600] loss: 0.30961359589546916\n",
      "[1, 1800] loss: 0.33626045821607115\n",
      "[2, 200] loss: 0.021724706136621533\n",
      "[2, 400] loss: 0.04294103889167309\n",
      "[2, 600] loss: 0.06436645950842648\n",
      "[2, 800] loss: 0.08606091195857152\n",
      "[2, 1000] loss: 0.1072557271947153\n",
      "[2, 1200] loss: 0.12731340752681716\n",
      "[2, 1400] loss: 0.14723177703144028\n",
      "[2, 1600] loss: 0.16624242612766102\n",
      "[2, 1800] loss: 0.18413627829542384\n",
      "Training Loop Complete\n"
     ]
    }
   ],
   "source": [
    "# some help from: \n",
    "# http://pytorch.org/tutorials/beginner/blitz/cifar10_tutorial.html#train-the-network\n",
    "for epoch in range(2):\n",
    "    running_loss = 0.0\n",
    "    for i, data in enumerate(trainloader, start=0):\n",
    "        # get inputs & wrap them in Variable\n",
    "        inputs, labels = data\n",
    "        inputs, labels = torch.autograd.Variable(inputs), torch.autograd.Variable(labels)\n",
    "        \n",
    "        # zero the parameter gradients\n",
    "        optimizer.zero_grad()\n",
    "        \n",
    "        # forward + backward + optimize\n",
    "        outputs = network(inputs)             # forward computation step\n",
    "        loss    = criterion(outputs, labels)  # loss calculation\n",
    "        loss.backward()                       # backward (backprop) comp.step (gradient calculations)\n",
    "        optimizer.step()                      # SGD step: update weights\n",
    "        \n",
    "        # print statistics\n",
    "        running_loss += loss.data[0]\n",
    "        if i % 200 == 199: # print every 200 mini-batches\n",
    "            print(f'{[epoch+1, i+1]} loss: {running_loss/2000}')\n",
    "            \n",
    "print(f'Training Loop Complete')"
   ]
  },
  {
   "cell_type": "markdown",
   "metadata": {
    "hidden": true
   },
   "source": [
    "**NOTE**: forgot to divide running loss by 200, not 2000."
   ]
  },
  {
   "cell_type": "markdown",
   "metadata": {
    "heading_collapsed": true
   },
   "source": [
    "## 5. Visualizing Data"
   ]
  },
  {
   "cell_type": "code",
   "execution_count": 242,
   "metadata": {
    "hidden": true
   },
   "outputs": [],
   "source": [
    "# help from:\n",
    "# http://pytorch.org/tutorials/beginner/blitz/cifar10_tutorial.html#test-the-network-on-the-test-data\n",
    "\n",
    "# oh so can you just wrap the DataLoader in `iter()` and get elements that way? ahhh..\n",
    "dataiter = iter(testloader)\n",
    "images, labels = dataiter.next()"
   ]
  },
  {
   "cell_type": "code",
   "execution_count": 368,
   "metadata": {
    "hidden": true
   },
   "outputs": [],
   "source": [
    "# images"
   ]
  },
  {
   "cell_type": "code",
   "execution_count": 245,
   "metadata": {
    "hidden": true
   },
   "outputs": [],
   "source": [
    "def imshow(img):\n",
    "    img = img / 2 + 0.5 # unnormalize\n",
    "    npimg = img.numpy()\n",
    "    try:\n",
    "        plt.imshow(np.transpose(npimg, (1, 2, 0)))\n",
    "    except NameError:\n",
    "        import matplotlib.pyplot as plt  # not sure if Py3.6 supports condtl imports..\n",
    "        plt.imshow(np.transpose(npimg, (1, 2, 0)))"
   ]
  },
  {
   "cell_type": "code",
   "execution_count": 374,
   "metadata": {
    "hidden": true
   },
   "outputs": [
    {
     "name": "stdout",
     "output_type": "stream",
     "text": [
      "    7   2   1   0   4   1   4   9\n",
      "    5   9   0   6   9   0   1   5\n",
      "    9   7   3   4   9   6   6   5\n",
      "    4   0   7   4   0   1   3   1\n"
     ]
    },
    {
     "data": {
      "image/png": "[encoded data removed]",
      "text/plain": [
       "<matplotlib.figure.Figure at 0x13b966cf8>"
      ]
     },
     "metadata": {},
     "output_type": "display_data"
    }
   ],
   "source": [
    "imshow(torchvision.utils.make_grid(images))\n",
    "for i in range(len(labels)//8):\n",
    "    print('  ' + ' '.join(f'{labels[i*8 + j]:3d}' for j in range(8)))\n",
    "# print(f'Ground Truth: '.join(f'{classes[labels[j]]:5s}' for j in range(4)))"
   ]
  },
  {
   "cell_type": "markdown",
   "metadata": {
    "hidden": true
   },
   "source": [
    "*okay, that's actually so cool.*"
   ]
  },
  {
   "cell_type": "markdown",
   "metadata": {
    "hidden": true
   },
   "source": [
    "---\n",
    "\n",
    "**Aside:** figuring out why the labels were printed wrong (corrected now)"
   ]
  },
  {
   "cell_type": "code",
   "execution_count": 367,
   "metadata": {
    "hidden": true
   },
   "outputs": [
    {
     "data": {
      "text/plain": [
       "[[7, 2, 1, 0, 4, 1, 4, 9],\n",
       " [2, 1, 0, 4, 1, 4, 9, 5],\n",
       " [1, 0, 4, 1, 4, 9, 5, 9],\n",
       " [0, 4, 1, 4, 9, 5, 9, 0]]"
      ]
     },
     "execution_count": 367,
     "metadata": {},
     "output_type": "execute_result"
    }
   ],
   "source": [
    "# original\n",
    "[[labels[i+j] for j in range(8)] for i in range(4)]"
   ]
  },
  {
   "cell_type": "code",
   "execution_count": 365,
   "metadata": {
    "hidden": true
   },
   "outputs": [
    {
     "data": {
      "text/plain": [
       "[[7, 2, 1, 0, 4, 1, 4, 9],\n",
       " [5, 9, 0, 6, 9, 0, 1, 5],\n",
       " [9, 7, 3, 4, 9, 6, 6, 5],\n",
       " [4, 0, 7, 4, 0, 1, 3, 1]]"
      ]
     },
     "execution_count": 365,
     "metadata": {},
     "output_type": "execute_result"
    }
   ],
   "source": [
    "# corrected\n",
    "[[labels[i*8 + j] for j in range(8)] for i in range(4)]"
   ]
  },
  {
   "cell_type": "markdown",
   "metadata": {
    "hidden": true
   },
   "source": [
    "Making sure the images match up with their corresponding labels:"
   ]
  },
  {
   "cell_type": "code",
   "execution_count": 349,
   "metadata": {
    "hidden": true
   },
   "outputs": [
    {
     "data": {
      "text/plain": [
       "(28, 28, 1)"
      ]
     },
     "execution_count": 349,
     "metadata": {},
     "output_type": "execute_result"
    }
   ],
   "source": [
    "img = images[8]\n",
    "img = img / 2 + 0.5\n",
    "img = img.numpy()\n",
    "img = np.transpose(img, (1,2,0))\n",
    "img.shape"
   ]
  },
  {
   "cell_type": "code",
   "execution_count": 362,
   "metadata": {
    "hidden": true
   },
   "outputs": [
    {
     "name": "stdout",
     "output_type": "stream",
     "text": [
      "(28, 28)\n"
     ]
    },
    {
     "data": {
      "image/png": "[encoded data removed]",
      "text/plain": [
       "<matplotlib.figure.Figure at 0x139e8ccf8>"
      ]
     },
     "metadata": {},
     "output_type": "display_data"
    }
   ],
   "source": [
    "print(img[:,:,0].shape)\n",
    "plt.imshow(img[:,:,0],cmap='gray');"
   ]
  },
  {
   "cell_type": "code",
   "execution_count": 363,
   "metadata": {
    "hidden": true
   },
   "outputs": [
    {
     "data": {
      "text/plain": [
       "5"
      ]
     },
     "execution_count": 363,
     "metadata": {},
     "output_type": "execute_result"
    }
   ],
   "source": [
    "labels[8]"
   ]
  },
  {
   "cell_type": "markdown",
   "metadata": {
    "hidden": true
   },
   "source": [
    "---\n",
    "\n",
    "**Aside:** understanding some matrix stuff for images"
   ]
  },
  {
   "cell_type": "code",
   "execution_count": 333,
   "metadata": {
    "hidden": true,
    "scrolled": false
   },
   "outputs": [
    {
     "data": {
      "text/plain": [
       "(122, 242)"
      ]
     },
     "execution_count": 333,
     "metadata": {},
     "output_type": "execute_result"
    }
   ],
   "source": [
    "img = torchvision.utils.make_grid(images)\n",
    "img = img / 2 + 0.5\n",
    "img = img.numpy()   # (3, 122, 242)\n",
    "# plt.imshow(np.transpose(img, (1, 2, 0)))  # (122, 242, 3)\n",
    "# plt.imshow(np.transpose(img, (0, 1, 2)))  # (3, 122, 242) ## invalid dims\n",
    "# plt.imshow(np.transpose(img, (0, 1, 2))[0])  # (122, 242) ## this works instead\n",
    "\n",
    "# So, plt needs HxWxC, but will work with CxHxW iff C=1\n",
    "# Our images from DataLoader are CxHxW\n",
    "# Can use img = np.transpose(img, (1,2,0)) to convert CxHxW --> HxWxC"
   ]
  },
  {
   "cell_type": "code",
   "execution_count": 334,
   "metadata": {
    "hidden": true
   },
   "outputs": [
    {
     "name": "stdout",
     "output_type": "stream",
     "text": [
      "torch.Size([3, 28, 28])\n",
      "torch.Size([28, 28, 3])\n"
     ]
    }
   ],
   "source": [
    "img = images[-1]\n",
    "img = torchvision.utils.make_grid(img)\n",
    "print(img.shape)\n",
    "print(np.transpose(img, (1,2,0)).shape)"
   ]
  },
  {
   "cell_type": "code",
   "execution_count": 335,
   "metadata": {
    "hidden": true
   },
   "outputs": [
    {
     "name": "stdout",
     "output_type": "stream",
     "text": [
      "(1, 28, 28)\n"
     ]
    },
    {
     "data": {
      "image/png": "[encoded data removed]",
      "text/plain": [
       "<matplotlib.figure.Figure at 0x12caa83c8>"
      ]
     },
     "metadata": {},
     "output_type": "display_data"
    }
   ],
   "source": [
    "img = images[-1]\n",
    "img = img / 2 + 0.5\n",
    "img = img.numpy()\n",
    "# img = np.transpose(img, (1,2,0))\n",
    "# img.shape\n",
    "plt.imshow(img[0], cmap='gray') # see: https://matplotlib.org/examples/color/colormaps_reference.html\n",
    "print(img.shape)"
   ]
  },
  {
   "cell_type": "markdown",
   "metadata": {
    "hidden": true
   },
   "source": [
    "Having trouble now with 1 channel images in `pyplot`. 3 channel HxWxC is fine for 1 channel, HxW is fine, but both CxHxW and HxWxC fail if C = 1."
   ]
  },
  {
   "cell_type": "markdown",
   "metadata": {
    "hidden": true
   },
   "source": [
    "---"
   ]
  },
  {
   "cell_type": "markdown",
   "metadata": {
    "heading_collapsed": true
   },
   "source": [
    "## 7. Testing"
   ]
  },
  {
   "cell_type": "markdown",
   "metadata": {
    "hidden": true
   },
   "source": [
    "### 7.1 Test Run on Single MiniBatch"
   ]
  },
  {
   "cell_type": "code",
   "execution_count": 375,
   "metadata": {
    "hidden": true
   },
   "outputs": [],
   "source": [
    "# test run on first minibatch:\n",
    "dataiter = iter(testloader)\n",
    "images, labels = dataiter.next()\n",
    "\n",
    "outputs = network(torch.autograd.Variable(images))\n",
    "\n",
    "# btw, it seems getting further into iterators is where itertools comes in:\n",
    "# https://stackoverflow.com/a/3267069"
   ]
  },
  {
   "cell_type": "markdown",
   "metadata": {
    "hidden": true
   },
   "source": [
    "Sanity Check: output of neuralnet for 1 minibatch of 32 images for 10 classes is a $32 \\times 10$ tensor."
   ]
  },
  {
   "cell_type": "code",
   "execution_count": 377,
   "metadata": {
    "hidden": true
   },
   "outputs": [
    {
     "data": {
      "text/plain": [
       "torch.Size([32, 10])"
      ]
     },
     "execution_count": 377,
     "metadata": {},
     "output_type": "execute_result"
    }
   ],
   "source": [
    "outputs.shape"
   ]
  },
  {
   "cell_type": "markdown",
   "metadata": {
    "hidden": true
   },
   "source": [
    "And the `images` object being wrapped as a pytorch Variable & sent into the network is itself a `torch.FloatTensor` -- to answer the question of *how do I get data into a PyTorch neuralnet again?*\n",
    "\n",
    "`type(images)` --> `torch.FloatTensor`; coming out of `dataiter.next()` which itself is `iter(testloader)` which defined in §1."
   ]
  },
  {
   "cell_type": "code",
   "execution_count": 384,
   "metadata": {
    "hidden": true
   },
   "outputs": [],
   "source": [
    "_, predicted = torch.max(outputs.data, 1)\n",
    "\n",
    "# output tensor is 32x10. That's 32 rows of values in 10 columns.\n",
    "# torch.max(outputs.data, 1) specifies finding maximum value along axis-1 (ie: columnwise)\n",
    "# torch.max(..) returns: (value, index)"
   ]
  },
  {
   "cell_type": "code",
   "execution_count": 391,
   "metadata": {
    "hidden": true
   },
   "outputs": [
    {
     "name": "stdout",
     "output_type": "stream",
     "text": [
      "0.9375\n"
     ]
    },
    {
     "data": {
      "text/plain": [
       "[[7, 2, 1, 0, 4, 1, 4, 9],\n",
       " [6, 9, 0, 6, 9, 0, 1, 3],\n",
       " [9, 7, 3, 4, 9, 6, 6, 5],\n",
       " [4, 0, 7, 4, 0, 1, 3, 1]]"
      ]
     },
     "execution_count": 391,
     "metadata": {},
     "output_type": "execute_result"
    },
    {
     "data": {
      "image/png": "[encoded data removed]",
      "text/plain": [
       "<matplotlib.figure.Figure at 0x13b5c2e48>"
      ]
     },
     "metadata": {},
     "output_type": "display_data"
    }
   ],
   "source": [
    "imshow(torchvision.utils.make_grid(images))\n",
    "# accuracy:\n",
    "print(sum(labels == predicted)/len(labels)) # sum of torch.ByteTensor size 32\n",
    "# predictions:\n",
    "[[predicted[i*8 + j] for j in range(8)] for i in range(4)]\n"
   ]
  },
  {
   "cell_type": "markdown",
   "metadata": {
    "hidden": true
   },
   "source": [
    "$93.75\\%$ accuracy, though this is a notoriously easy dataset."
   ]
  },
  {
   "cell_type": "markdown",
   "metadata": {
    "hidden": true
   },
   "source": [
    "### 7.2 Testing on full test dataset"
   ]
  },
  {
   "cell_type": "code",
   "execution_count": 403,
   "metadata": {
    "hidden": true
   },
   "outputs": [
    {
     "name": "stdout",
     "output_type": "stream",
     "text": [
      "MNIST dataset accuracy: 94.38%\n",
      "10000 images.\n"
     ]
    }
   ],
   "source": [
    "correct = 0\n",
    "total = 0\n",
    "\n",
    "for datum in testloader:\n",
    "    images, labels  = datum\n",
    "    outputs = network(torch.autograd.Variable(images))\n",
    "    _, predicted = torch.max(outputs.data, 1)\n",
    "    \n",
    "    total += labels.size(0)  # labels.size() --> torch.Size([size])\n",
    "    correct += (predicted == labels).sum()  # method of torch.ByteTensor\n",
    "\n",
    "print(f'MNIST dataset accuracy: {100*np.round(correct/total, 4)}%\\n{total} images.')"
   ]
  },
  {
   "cell_type": "markdown",
   "metadata": {
    "hidden": true
   },
   "source": [
    "Awesome."
   ]
  },
  {
   "cell_type": "markdown",
   "metadata": {
    "heading_collapsed": true
   },
   "source": [
    "## 8 Custom Data"
   ]
  },
  {
   "cell_type": "code",
   "execution_count": 13,
   "metadata": {
    "hidden": true
   },
   "outputs": [],
   "source": [
    "import cv2\n",
    "import os"
   ]
  },
  {
   "cell_type": "code",
   "execution_count": 14,
   "metadata": {
    "hidden": true
   },
   "outputs": [],
   "source": [
    "flist = os.listdir('data/digits/')\n",
    "flist = ['data/digits/' + f for f in flist]"
   ]
  },
  {
   "cell_type": "code",
   "execution_count": 15,
   "metadata": {
    "hidden": true
   },
   "outputs": [],
   "source": [
    "flist.remove('data/digits/digits.png')"
   ]
  },
  {
   "cell_type": "code",
   "execution_count": 16,
   "metadata": {
    "hidden": true
   },
   "outputs": [
    {
     "data": {
      "text/plain": [
       "['data/digits/pen1-9.png',\n",
       " 'data/digits/pen1-8.png',\n",
       " 'data/digits/pen2-8.png',\n",
       " 'data/digits/pen2-9.png',\n",
       " 'data/digits/pen2-0.png',\n",
       " 'data/digits/pen1-5.png',\n",
       " 'data/digits/pencil-2.png',\n",
       " 'data/digits/pencil-3.png',\n",
       " 'data/digits/pen1-7a.png',\n",
       " 'data/digits/pen1-4.png',\n",
       " 'data/digits/pen1-6.png',\n",
       " 'data/digits/pencil-1.png',\n",
       " 'data/digits/pencil-0.png',\n",
       " 'data/digits/pen1-7b.png',\n",
       " 'data/digits/pen1-3.png',\n",
       " 'data/digits/pencil-4.png',\n",
       " 'data/digits/pencil-5.png',\n",
       " 'data/digits/pen1-2.png',\n",
       " 'data/digits/pen1-0.png',\n",
       " 'data/digits/pencil-6.png',\n",
       " 'data/digits/pen1-1.png']"
      ]
     },
     "execution_count": 16,
     "metadata": {},
     "output_type": "execute_result"
    }
   ],
   "source": [
    "flist"
   ]
  },
  {
   "cell_type": "code",
   "execution_count": 318,
   "metadata": {
    "hidden": true
   },
   "outputs": [],
   "source": [
    "custom_labels = [f.split('-')[-1].split('.')[0] for f in flist]\n",
    "# remove 'a' & 'b'\n",
    "for i,elm in enumerate(custom_labels):\n",
    "    if len(elm) > 1:\n",
    "        custom_labels[i] = custom_labels[i][0]\n",
    "custom_labels = [int(λ) for λ in custom_labels]\n",
    "\n",
    "# labels should be of type: [torch.LongTensor of size 16] size acc. to num labels\n",
    "custom_labels = torch.Tensor(custom_labels)  # I think this'll do"
   ]
  },
  {
   "cell_type": "code",
   "execution_count": 319,
   "metadata": {
    "hidden": true
   },
   "outputs": [],
   "source": [
    "images = [cv2.imread(f) for f in flist]\n",
    "\n",
    "# reference for what datatype images will be:\n",
    "# [torch.FloatTensor of size 16x1x28x28] --- last minibatch: 10000 % 32 = 16\n",
    "\n",
    "# array of images from disk\n",
    "images = [cv2.imread(f) for f in flist]\n",
    "\n",
    "# resize images to 28x28\n",
    "images = [cv2.resize(img, (28,28), interpolation=cv2.INTER_AREA) for img in images]\n",
    "\n",
    "# convert 3-channel png to Grayscale (opencv loads as bgr)\n",
    "images = [cv2.cvtColor(img, cv2.COLOR_BGR2GRAY) for img in images]\n",
    "\n",
    "# invert grayscale (to be in line w/ MNIST data)\n",
    "images = [255 - img for img in images]\n",
    "\n",
    "# convert HxW dims to HxWxC for PyTorch usage later\n",
    "images = [np.expand_dims(img, -1) for img in images]\n",
    "\n",
    "## NOTE: need remove last dim to view in pyplot.imshow via: images[idx][:,:,0]"
   ]
  },
  {
   "cell_type": "code",
   "execution_count": 68,
   "metadata": {
    "hidden": true
   },
   "outputs": [],
   "source": [
    "## another way to do resizings\n",
    "# get transformation foreach image (x,y : c,r)\n",
    "# trsfs = [[28/img.shape[1], 28/img.shape[0]] for img in images]\n",
    "# img = cv2.resize(img, None, fx=28/img.shape[1], fy=28/img.shape[0], interpolation=cv2.INTER_AREA)"
   ]
  },
  {
   "cell_type": "code",
   "execution_count": 207,
   "metadata": {
    "hidden": true
   },
   "outputs": [],
   "source": [
    "## create PyTorch dataset class\n",
    "# from: http://pytorch.org/tutorials/beginner/data_loading_tutorial.html#dataset-class\n",
    "class custom_dataset(torch.utils.data.Dataset):\n",
    "    def __init__(self, data_array, transform=None): # going to want to put inputs&labels in as zipped tuples\n",
    "        self.data = data_array\n",
    "        self.transform=transform\n",
    "    \n",
    "    def __len__(self):\n",
    "        return len(self.data)\n",
    "    \n",
    "    def __getitem__(self, idx):\n",
    "        \"\"\"Return a dict of image & label\"\"\"\n",
    "        image = self.data[idx][0]\n",
    "        label = self.data[idx][1]\n",
    "        \n",
    "        if self.transform:\n",
    "            image = self.transform(image) # wait, does this alter self.data[idx][0] ??\n",
    "    \n",
    "#         return {'image':image, 'label':label} ## I don't see key names in PT MNIST loader\n",
    "        return (image, label)"
   ]
  },
  {
   "cell_type": "code",
   "execution_count": 320,
   "metadata": {
    "hidden": true
   },
   "outputs": [],
   "source": [
    "## create dataloader\n",
    "transform = torchvision.transforms.Compose(\n",
    "    [torchvision.transforms.ToTensor(),\n",
    "     torchvision.transforms.Normalize((0.5,0.5,0.5),(0.5,0.5,0.5))]\n",
    ")\n",
    "\n",
    "custom_data = custom_dataset(list(zip(images, custom_labels)), transform=transform)\n",
    "\n",
    "custom_dataloader = torch.utils.data.DataLoader(custom_data, batch_size=32,\n",
    "                                                shuffle=False, num_workers=4)"
   ]
  },
  {
   "cell_type": "code",
   "execution_count": 322,
   "metadata": {
    "hidden": true
   },
   "outputs": [],
   "source": [
    "## create batch-iterator of dataloader\n",
    "custom_dataiter = iter(custom_dataloader)"
   ]
  },
  {
   "cell_type": "code",
   "execution_count": 235,
   "metadata": {
    "hidden": true
   },
   "outputs": [],
   "source": [
    "## Test Network on Data\n",
    "indata, labels  = custom_dataiter.next()\n",
    "indata  = torch.autograd.Variable(indata)\n",
    "\n",
    "outputs = network(indata)"
   ]
  },
  {
   "cell_type": "code",
   "execution_count": 236,
   "metadata": {
    "hidden": true
   },
   "outputs": [],
   "source": [
    "_, predictions = torch.max(outputs, 1)"
   ]
  },
  {
   "cell_type": "markdown",
   "metadata": {
    "hidden": true
   },
   "source": [
    "And here we see an immediate jumpy to ~ 81% accuracy on completely new images, thanks to preprocessing -- to make the images look like those the network trained on."
   ]
  },
  {
   "cell_type": "code",
   "execution_count": 231,
   "metadata": {
    "hidden": true
   },
   "outputs": [
    {
     "name": "stdout",
     "output_type": "stream",
     "text": [
      "Y*  Y'\n",
      "------\n",
      "9   8\n",
      "8   8\n",
      "8   8\n",
      "9   9\n",
      "0   0\n",
      "5   5\n",
      "2   2\n",
      "3   3\n",
      "7   7\n",
      "4   4\n",
      "6   6\n",
      "1   1\n",
      "0   0\n",
      "7   7\n",
      "3   3\n",
      "4   4\n",
      "5   5\n",
      "2   4\n",
      "0   9\n",
      "6   6\n",
      "1   8\n",
      "------\n",
      "A: 80.95%\n"
     ]
    }
   ],
   "source": [
    "print('Y*  Y\\'\\n------')\n",
    "\n",
    "correct = 0\n",
    "for elem in zip(labels, predictions.data):\n",
    "    correct += elem[0]==elem[1]\n",
    "    print(int(elem[0]), ' ', elem[1])\n",
    "    \n",
    "print('------')\n",
    "\n",
    "total   = len(labels)\n",
    "\n",
    "print(f'A: {100*np.round((correct/total), 4)}%')\n"
   ]
  },
  {
   "cell_type": "markdown",
   "metadata": {
    "hidden": true
   },
   "source": [
    "Predictions on images without preprocessing:\n",
    "\n",
    "Predictions on my own hand-written digits. Zero accuracy, but understandable. This is a standard Linear Neural Net. It's nodes are looking for specific numbers in the input tensor, they're not really capable of spotting spatial features. I expect accuracy to get back to 'normal', ~90% range, after I preprocess to invert black/white."
   ]
  },
  {
   "cell_type": "code",
   "execution_count": 237,
   "metadata": {
    "hidden": true
   },
   "outputs": [
    {
     "name": "stdout",
     "output_type": "stream",
     "text": [
      "Y*  Y'\n",
      "------\n",
      "9   2\n",
      "8   7\n",
      "8   2\n",
      "9   2\n",
      "0   3\n",
      "5   2\n",
      "2   7\n",
      "3   7\n",
      "7   2\n",
      "4   2\n",
      "6   7\n",
      "1   2\n",
      "0   3\n",
      "7   0\n",
      "3   5\n",
      "4   3\n",
      "5   2\n",
      "2   3\n",
      "0   5\n",
      "6   2\n",
      "1   2\n",
      "------\n",
      "A: 0.0%\n"
     ]
    }
   ],
   "source": [
    "print('Y*  Y\\'\\n------')\n",
    "\n",
    "correct = 0\n",
    "for elem in zip(labels, predictions.data):\n",
    "    correct += elem[0]==elem[1]\n",
    "    print(int(elem[0]), ' ', elem[1])\n",
    "    \n",
    "print('------')\n",
    "\n",
    "total   = len(labels)\n",
    "\n",
    "print(f'A: {100*np.round((correct/total), 4)}%')"
   ]
  },
  {
   "cell_type": "markdown",
   "metadata": {
    "hidden": true
   },
   "source": [
    "Well that was super cool. The Linear/Fully-Connected/Dense Neural Net on it's own is very limited. It can't recognize spatially-correlated features. Maybe it can, but it's ability  to do is ephemeral and a byproduct at best. I can do better with a simple ConvNet."
   ]
  },
  {
   "cell_type": "markdown",
   "metadata": {
    "heading_collapsed": true
   },
   "source": [
    "## 9. Simple ConvNet"
   ]
  },
  {
   "cell_type": "code",
   "execution_count": 301,
   "metadata": {
    "hidden": true
   },
   "outputs": [],
   "source": [
    "class ConvNet(torch.nn.Module):\n",
    "    def __init__(self, layers, c):\n",
    "        super().__init__()\n",
    "        self.layers = torch.nn.ModuleList([\n",
    "            torch.nn.Conv2d(layers[i], layers[i+1], kernel_size=3, stride=2) \n",
    "            for i in range(len(layers) - 1)\n",
    "        ])\n",
    "#         self.pool = nn.AdaptiveMaxPool2d(1)             # can use this to pool\n",
    "        self.out = torch.nn.Linear(layers[-1], c)\n",
    "    \n",
    "    def forward(self, x):\n",
    "        for layer in self.layers:\n",
    "            x = layer(x)\n",
    "        x = torch.nn.functional.adaptive_avg_pool2d(x, 1) # or this to pool\n",
    "        x = x.view(x.size(0), -1)\n",
    "        return torch.nn.functional.log_softmax(self.out(x), dim=-1)"
   ]
  },
  {
   "cell_type": "code",
   "execution_count": 328,
   "metadata": {
    "hidden": true
   },
   "outputs": [],
   "source": [
    "class ConvNetMod(torch.nn.Module):\n",
    "    \"\"\"'Modern' ConvNet using large-field input conv layer\"\"\"\n",
    "    def __init__(self, layers, c):\n",
    "        super().__init__()\n",
    "        # 'modern' large-field input Conv layer\n",
    "        self.conv1 = torch.nn.Conv2d(1,10,kernel_size=5, stride=1, padding=2)\n",
    "        # Conv block\n",
    "        self.layers = torch.nn.ModuleList([\n",
    "            torch.nn.Conv2d(layers[i], layers[i+1], kernel_size=3, stride=2) \n",
    "            for i in range(len(layers) - 1)\n",
    "        ])\n",
    "        # output classification Linear layer\n",
    "        self.out = torch.nn.Linear(layers[-1], c)\n",
    "        \n",
    "    def forward(self, x):\n",
    "        x = self.conv1(x)\n",
    "        for layer in self.layers:   # conv layers in convblock\n",
    "            x = layer(x)\n",
    "        x = torch.nn.functional.adaptive_max_pool2d(x, 1) # pool after conv block\n",
    "        x = x.view(x.size(0), -1)                         # reshape final featmap to vector\n",
    "        return torch.nn.functional.log_softmax(self.out(x), dim=-1) # apply output nonlinearity on final outputs"
   ]
  },
  {
   "cell_type": "markdown",
   "metadata": {
    "hidden": true
   },
   "source": [
    "### 9.1 Train ConvNet & ConvNetMod:"
   ]
  },
  {
   "cell_type": "markdown",
   "metadata": {
    "hidden": true
   },
   "source": [
    "Is it valid to put put the optimizer and criterion inside the network object? Yeah, right? If I set `loss = convnetwork.criterion(outputs, labels)`, then `loss.backward()` that'll update the loss *within* the network object yeah?\n",
    "\n",
    "$\\Longrightarrow$ nah wasn't working the way I had it implemented.\n",
    "\n",
    "**NOTE**: lol.. it trains 2x ~ 4x as fast if I correctly set the stride to 2 (had it to 1 at first). Yeah ofc."
   ]
  },
  {
   "cell_type": "markdown",
   "metadata": {
    "hidden": true
   },
   "source": [
    "**ConvNet**:"
   ]
  },
  {
   "cell_type": "code",
   "execution_count": 310,
   "metadata": {
    "hidden": true,
    "scrolled": false
   },
   "outputs": [
    {
     "name": "stdout",
     "output_type": "stream",
     "text": [
      "[1, 200] loss: 1.5147740623354913\n",
      "[1, 400] loss: 0.8907962292432785\n",
      "[1, 600] loss: 0.7682120184600353\n",
      "[1, 800] loss: 0.7408229354023933\n",
      "[1, 1000] loss: 0.6852227079868317\n",
      "[1, 1200] loss: 0.6981311133503914\n",
      "[1, 1400] loss: 0.6829375706613063\n",
      "[1, 1600] loss: 0.6524065189063549\n",
      "[1, 1800] loss: 0.6446917968988418\n",
      "[2, 200] loss: 0.6353790518641472\n",
      "[2, 400] loss: 0.6347182787954807\n",
      "[2, 600] loss: 0.6338051172345877\n",
      "[2, 800] loss: 0.6304291028529405\n",
      "[2, 1000] loss: 0.6218855299800634\n",
      "[2, 1200] loss: 0.6026327655464411\n",
      "[2, 1400] loss: 0.5834794988483191\n",
      "[2, 1600] loss: 0.6285126277059316\n",
      "[2, 1800] loss: 0.6001350527256727\n",
      "Training Loop Complete\n"
     ]
    }
   ],
   "source": [
    "layers = [1, 20, 40, 80] # this may be too much -- filter size by last layer is ..? 7? 3.5?\n",
    "c = 10\n",
    "\n",
    "convnetwork = ConvNet(layers, c)\n",
    "\n",
    "criterion = torch.nn.CrossEntropyLoss()\n",
    "optimizer = torch.optim.SGD(convnetwork.parameters(), lr=0.01, momentum=0.9)\n",
    "\n",
    "num_epochs = 2\n",
    "\n",
    "for epoch in range(num_epochs):\n",
    "    running_loss = 0.0\n",
    "    \n",
    "    for i, datum in enumerate(trainloader):\n",
    "        inputs, labels = datum\n",
    "        inputs, labels = torch.autograd.Variable(inputs), torch.autograd.Variable(labels)\n",
    "        \n",
    "        optimizer.zero_grad()\n",
    "        \n",
    "        outputs = convnetwork(inputs)\n",
    "        loss    = criterion(outputs, labels)\n",
    "        loss.backward()\n",
    "        optimizer.step()\n",
    "        \n",
    "#         print(f'minibatch no. {i+1}  Loss: {loss.data[0]/(i+1)}')\n",
    "        \n",
    "        running_loss += loss.data[0]\n",
    "        if i % 200 == 199: # print every 200 mini-batches\n",
    "            print(f'{[epoch+1, i+1]} loss: {running_loss/200}')\n",
    "            running_loss = 0.0\n",
    "            \n",
    "print(f'Training Loop Complete')"
   ]
  },
  {
   "cell_type": "markdown",
   "metadata": {
    "hidden": true
   },
   "source": [
    "That loss is about 1/3 what I got with the same training regimen on a Linear network."
   ]
  },
  {
   "cell_type": "markdown",
   "metadata": {
    "hidden": true
   },
   "source": [
    "More training:"
   ]
  },
  {
   "cell_type": "code",
   "execution_count": 331,
   "metadata": {
    "hidden": true
   },
   "outputs": [
    {
     "name": "stdout",
     "output_type": "stream",
     "text": [
      "[1, 200] loss: 0.5811036449670791\n",
      "[1, 400] loss: 0.5610083170980215\n",
      "[1, 600] loss: 0.6128740479052067\n",
      "[1, 800] loss: 0.6100998826324939\n",
      "[1, 1000] loss: 0.6341160758584737\n",
      "[1, 1200] loss: 0.5942814573645592\n",
      "[1, 1400] loss: 0.594333580210805\n",
      "[1, 1600] loss: 0.6236286294460297\n",
      "[1, 1800] loss: 0.595114980712533\n",
      "[2, 200] loss: 0.576330739185214\n",
      "[2, 400] loss: 0.5908198317885399\n",
      "[2, 600] loss: 0.6049356714636087\n",
      "[2, 800] loss: 0.5888264106214046\n",
      "[2, 1000] loss: 0.5759006731957197\n",
      "[2, 1200] loss: 0.6162133126705885\n",
      "[2, 1400] loss: 0.5872442109882832\n",
      "[2, 1600] loss: 0.5917398457229137\n",
      "[2, 1800] loss: 0.5769337169080972\n",
      "Training Loop Complete\n"
     ]
    }
   ],
   "source": [
    "num_epochs = 2\n",
    "\n",
    "for epoch in range(num_epochs):\n",
    "    running_loss = 0.0\n",
    "    \n",
    "    for i, datum in enumerate(trainloader):\n",
    "        inputs, labels = datum\n",
    "        inputs, labels = torch.autograd.Variable(inputs), torch.autograd.Variable(labels)\n",
    "        \n",
    "        optimizer.zero_grad()\n",
    "        \n",
    "        outputs = convnetwork(inputs)\n",
    "        loss    = criterion(outputs, labels)\n",
    "        loss.backward()\n",
    "        optimizer.step()\n",
    "        \n",
    "#         print(f'minibatch no. {i+1}  Loss: {loss.data[0]/(i+1)}')\n",
    "        \n",
    "        running_loss += loss.data[0]\n",
    "        if i % 200 == 199: # print every 200 mini-batches\n",
    "            print(f'{[epoch+1, i+1]} loss: {running_loss/200}')\n",
    "            running_loss = 0.0\n",
    "            \n",
    "print(f'Training Loop Complete')"
   ]
  },
  {
   "cell_type": "code",
   "execution_count": 335,
   "metadata": {
    "hidden": true
   },
   "outputs": [
    {
     "name": "stdout",
     "output_type": "stream",
     "text": [
      "[1, 200] loss: 0.5499874053150415\n",
      "[1, 400] loss: 0.5505127182602882\n",
      "[1, 600] loss: 0.5441986237466335\n",
      "[1, 800] loss: 0.5343618736043573\n",
      "[1, 1000] loss: 0.5295614355057477\n",
      "[1, 1200] loss: 0.5584205207228661\n",
      "[1, 1400] loss: 0.5378603199124337\n",
      "[1, 1600] loss: 0.5592815712094307\n",
      "[1, 1800] loss: 0.5127506905794144\n",
      "[2, 200] loss: 0.5422512035816908\n",
      "[2, 400] loss: 0.5255283830314874\n",
      "[2, 600] loss: 0.5359036011993885\n",
      "[2, 800] loss: 0.549936011210084\n",
      "[2, 1000] loss: 0.5385399685800075\n",
      "[2, 1200] loss: 0.5557142957299948\n",
      "[2, 1400] loss: 0.5206742455810308\n",
      "[2, 1600] loss: 0.5254877541959285\n",
      "[2, 1800] loss: 0.5394602462649345\n",
      "Training Loop Complete\n"
     ]
    }
   ],
   "source": [
    "optimizer = torch.optim.SGD(convnetwork.parameters(), lr=0.005, momentum=0.9)\n",
    "\n",
    "num_epochs = 2\n",
    "\n",
    "for epoch in range(num_epochs):\n",
    "    running_loss = 0.0\n",
    "    \n",
    "    for i, datum in enumerate(trainloader):\n",
    "        inputs, labels = datum\n",
    "        inputs, labels = torch.autograd.Variable(inputs), torch.autograd.Variable(labels)\n",
    "        \n",
    "        optimizer.zero_grad()\n",
    "        \n",
    "        outputs = convnetwork(inputs)\n",
    "        loss    = criterion(outputs, labels)\n",
    "        loss.backward()\n",
    "        optimizer.step()\n",
    "        \n",
    "#         print(f'minibatch no. {i+1}  Loss: {loss.data[0]/(i+1)}')\n",
    "        \n",
    "        running_loss += loss.data[0]\n",
    "        if i % 200 == 199: # print every 200 mini-batches\n",
    "            print(f'{[epoch+1, i+1]} loss: {running_loss/200}')\n",
    "            running_loss = 0.0\n",
    "            \n",
    "print(f'Training Loop Complete')"
   ]
  },
  {
   "cell_type": "markdown",
   "metadata": {
    "hidden": true
   },
   "source": [
    "**ConvNetMod**:\n",
    "\n",
    "This wasn't training the first time. I think at 6 layers I'm too deep to effectively train, especially with that large first layer. Maybe it would work better if I used batch norm. Also, I wonder if the benefit of the large initial receptive field is mitigated by the tiny and relatively simple images.\n",
    "\n",
    "Oh.. it's because I set the optimizer to `optimizer = torch.optim.SGD(convnetwork.parameters(), ...)` It was optimizing for the wrong network architecture."
   ]
  },
  {
   "cell_type": "code",
   "execution_count": 336,
   "metadata": {
    "hidden": true,
    "scrolled": false
   },
   "outputs": [
    {
     "name": "stdout",
     "output_type": "stream",
     "text": [
      "[1, 200] loss: 0.9755856948718429\n",
      "[1, 400] loss: 0.36350536564365027\n",
      "[1, 600] loss: 0.2829720405489206\n",
      "[1, 800] loss: 0.25728355629369615\n",
      "[1, 1000] loss: 0.2428307731356472\n",
      "[1, 1200] loss: 0.22951006439514457\n",
      "[1, 1400] loss: 0.2248263764567673\n",
      "[1, 1600] loss: 0.19917273157509044\n",
      "[1, 1800] loss: 0.19325778452679515\n",
      "[2, 200] loss: 0.17952732898760587\n",
      "[2, 400] loss: 0.17119824059773237\n",
      "[2, 600] loss: 0.16161648735869677\n",
      "[2, 800] loss: 0.172478382284753\n",
      "[2, 1000] loss: 0.17300547419581563\n",
      "[2, 1200] loss: 0.1848725085519254\n",
      "[2, 1400] loss: 0.169392710684333\n",
      "[2, 1600] loss: 0.1442504899809137\n",
      "[2, 1800] loss: 0.15615285632607992\n",
      "Training Loop Complete\n"
     ]
    }
   ],
   "source": [
    "layers = [10, 20, 40, 80] # this may be too much -- filter size by last layer is ..? 7? 3.5?\n",
    "c = 10\n",
    "\n",
    "convnetworkmod = ConvNetMod(layers, c)\n",
    "\n",
    "criterion = torch.nn.CrossEntropyLoss()\n",
    "optimizer = torch.optim.SGD(convnetworkmod.parameters(), lr=0.01, momentum=0.9)\n",
    "\n",
    "num_epochs = 2\n",
    "\n",
    "for epoch in range(num_epochs):\n",
    "    running_loss = 0.0\n",
    "    \n",
    "    for i, datum in enumerate(trainloader):\n",
    "        inputs, labels = datum\n",
    "        inputs, labels = torch.autograd.Variable(inputs), torch.autograd.Variable(labels)\n",
    "        \n",
    "        optimizer.zero_grad()\n",
    "        \n",
    "        outputs = convnetworkmod(inputs)\n",
    "        loss    = criterion(outputs, labels)\n",
    "        loss.backward()\n",
    "        optimizer.step()\n",
    "        \n",
    "#         print(f'minibatch no. {i+1}  Loss: {loss.data[0]/(i+1)}')\n",
    "        \n",
    "        running_loss += loss.data[0]\n",
    "        if i % 200 == 199: # print every 200 mini-batches\n",
    "            print(f'{[epoch+1, i+1]} loss: {running_loss/200}')\n",
    "            running_loss = 0.0\n",
    "            \n",
    "print(f'Training Loop Complete')"
   ]
  },
  {
   "cell_type": "markdown",
   "metadata": {
    "hidden": true
   },
   "source": [
    "*Wow*, nevermind. Introducing the large-receptive-field conv layer in the beginning *really* helped with the loss."
   ]
  },
  {
   "cell_type": "markdown",
   "metadata": {
    "hidden": true
   },
   "source": [
    "### 9.2 Test accuracy of ConvNets"
   ]
  },
  {
   "cell_type": "code",
   "execution_count": 317,
   "metadata": {
    "hidden": true
   },
   "outputs": [
    {
     "name": "stdout",
     "output_type": "stream",
     "text": [
      "MNIST dataset accuracy: 80.91000000000001%\n",
      "10000 images.\n"
     ]
    }
   ],
   "source": [
    "correct = 0\n",
    "total   = 0\n",
    "\n",
    "for datum in testloader:\n",
    "    inputs, labels = datum\n",
    "    inputs         = torch.autograd.Variable(inputs)\n",
    "    \n",
    "    outputs = convnetwork(inputs)\n",
    "    _, predictions = torch.max(outputs.data, 1)\n",
    "    \n",
    "    total += labels.size(0)\n",
    "    correct += (labels == predictions).sum()\n",
    "    \n",
    "print(f'MNIST dataset accuracy: {100*np.round(correct/total, 4)}%\\n{total} images.')"
   ]
  },
  {
   "cell_type": "markdown",
   "metadata": {
    "hidden": true
   },
   "source": [
    "*technically* less accurate, but I know it has a lot more potential than the other method, and will be more resilient."
   ]
  },
  {
   "cell_type": "code",
   "execution_count": null,
   "metadata": {
    "hidden": true
   },
   "outputs": [],
   "source": []
  },
  {
   "cell_type": "markdown",
   "metadata": {
    "hidden": true
   },
   "source": [
    "---\n",
    "\n",
    "**Aside:** checking how I can access the number of elements in a minibatch via labels:"
   ]
  },
  {
   "cell_type": "code",
   "execution_count": 313,
   "metadata": {
    "hidden": true
   },
   "outputs": [
    {
     "data": {
      "text/plain": [
       "32"
      ]
     },
     "execution_count": 313,
     "metadata": {},
     "output_type": "execute_result"
    }
   ],
   "source": [
    "labels.size(0)"
   ]
  },
  {
   "cell_type": "code",
   "execution_count": 314,
   "metadata": {
    "hidden": true
   },
   "outputs": [
    {
     "data": {
      "text/plain": [
       "32"
      ]
     },
     "execution_count": 314,
     "metadata": {},
     "output_type": "execute_result"
    }
   ],
   "source": [
    "torch.autograd.Variable(labels).size(0)"
   ]
  },
  {
   "cell_type": "code",
   "execution_count": 315,
   "metadata": {
    "hidden": true
   },
   "outputs": [
    {
     "data": {
      "text/plain": [
       "32"
      ]
     },
     "execution_count": 315,
     "metadata": {},
     "output_type": "execute_result"
    }
   ],
   "source": [
    "len(labels)"
   ]
  },
  {
   "cell_type": "code",
   "execution_count": 316,
   "metadata": {
    "hidden": true
   },
   "outputs": [
    {
     "data": {
      "text/plain": [
       "32"
      ]
     },
     "execution_count": 316,
     "metadata": {},
     "output_type": "execute_result"
    }
   ],
   "source": [
    "len(torch.autograd.Variable(labels))"
   ]
  },
  {
   "cell_type": "markdown",
   "metadata": {
    "hidden": true
   },
   "source": [
    "---"
   ]
  },
  {
   "cell_type": "markdown",
   "metadata": {
    "hidden": true
   },
   "source": [
    "### 9.3 Run ConvNets on custom data;"
   ]
  },
  {
   "cell_type": "code",
   "execution_count": null,
   "metadata": {
    "hidden": true
   },
   "outputs": [],
   "source": [
    "## NOTE: make sure the custom_dataloader from §8 is in memory"
   ]
  },
  {
   "cell_type": "markdown",
   "metadata": {
    "hidden": true
   },
   "source": [
    "ConvNet after 4 epochs at lr=0.01 and 2 epochs at lr=0.05:"
   ]
  },
  {
   "cell_type": "code",
   "execution_count": 337,
   "metadata": {
    "hidden": true
   },
   "outputs": [
    {
     "name": "stdout",
     "output_type": "stream",
     "text": [
      "Y*  Y'\n",
      "------\n",
      "9   3\n",
      "8   8\n",
      "8   8\n",
      "9   9\n",
      "0   0\n",
      "5   5\n",
      "2   2\n",
      "3   3\n",
      "7   7\n",
      "4   7\n",
      "6   6\n",
      "1   1\n",
      "0   0\n",
      "7   7\n",
      "3   3\n",
      "4   7\n",
      "5   5\n",
      "2   2\n",
      "0   7\n",
      "6   5\n",
      "1   1\n",
      "------\n",
      "A: 76.19%\n"
     ]
    }
   ],
   "source": [
    "## create batch-iterator of dataloader\n",
    "custom_dataiter = iter(custom_dataloader)\n",
    "\n",
    "indata, labels  = custom_dataiter.next()\n",
    "indata  = torch.autograd.Variable(indata)\n",
    "\n",
    "outputs = convnetwork(indata)\n",
    "\n",
    "_, predictions = torch.max(outputs, 1)\n",
    "\n",
    "\n",
    "print('Y*  Y\\'\\n------')\n",
    "\n",
    "correct = 0\n",
    "for elem in zip(labels, predictions.data):\n",
    "    correct += elem[0]==elem[1]\n",
    "    print(int(elem[0]), ' ', elem[1])\n",
    "    \n",
    "print('------')\n",
    "\n",
    "total   = len(labels)\n",
    "\n",
    "print(f'A: {100*np.round((correct/total), 4)}%')\n"
   ]
  },
  {
   "cell_type": "markdown",
   "metadata": {
    "hidden": true
   },
   "source": [
    "ConvNetMod after 2 epochs of training:"
   ]
  },
  {
   "cell_type": "code",
   "execution_count": 338,
   "metadata": {
    "hidden": true
   },
   "outputs": [
    {
     "name": "stdout",
     "output_type": "stream",
     "text": [
      "Y*  Y'\n",
      "------\n",
      "9   2\n",
      "8   8\n",
      "8   8\n",
      "9   9\n",
      "0   0\n",
      "5   5\n",
      "2   2\n",
      "3   3\n",
      "7   7\n",
      "4   4\n",
      "6   6\n",
      "1   1\n",
      "0   0\n",
      "7   4\n",
      "3   3\n",
      "4   4\n",
      "5   5\n",
      "2   2\n",
      "0   9\n",
      "6   6\n",
      "1   1\n",
      "------\n",
      "A: 85.71%\n"
     ]
    }
   ],
   "source": [
    "custom_dataiter = iter(custom_dataloader)\n",
    "\n",
    "indata, labels  = custom_dataiter.next()\n",
    "indata  = torch.autograd.Variable(indata)\n",
    "\n",
    "outputs = convnetworkmod(indata)\n",
    "\n",
    "_, predictions = torch.max(outputs, 1)\n",
    "\n",
    "\n",
    "print('Y*  Y\\'\\n------')\n",
    "\n",
    "correct = 0\n",
    "for elem in zip(labels, predictions.data):\n",
    "    correct += elem[0]==elem[1]\n",
    "    print(int(elem[0]), ' ', elem[1])\n",
    "    \n",
    "print('------')\n",
    "\n",
    "total   = len(labels)\n",
    "\n",
    "print(f'A: {100*np.round((correct/total), 4)}%')"
   ]
  },
  {
   "cell_type": "code",
   "execution_count": 349,
   "metadata": {
    "hidden": true
   },
   "outputs": [],
   "source": [
    "def viewimg(image_array, idx):\n",
    "    image = image_array[idx]\n",
    "    image = image[:,:,0]\n",
    "    image = image/2 + 0.5\n",
    "    image = 255 - image\n",
    "    plt.imshow(image, cmap='gray')"
   ]
  },
  {
   "cell_type": "code",
   "execution_count": 351,
   "metadata": {
    "hidden": true
   },
   "outputs": [
    {
     "name": "stdout",
     "output_type": "stream",
     "text": [
      "Convnet's prediction: 2\n"
     ]
    },
    {
     "data": {
      "text/plain": [
       "(None, None)"
      ]
     },
     "execution_count": 351,
     "metadata": {},
     "output_type": "execute_result"
    },
    {
     "data": {
      "image/png": "[encoded data removed]",
      "text/plain": [
       "<matplotlib.figure.Figure at 0x1296f84e0>"
      ]
     },
     "metadata": {},
     "output_type": "display_data"
    }
   ],
   "source": [
    "idx =0\n",
    "viewimg(images, idx), print(f'Convnet\\'s prediction: {predictions.data[idx]}')"
   ]
  },
  {
   "cell_type": "code",
   "execution_count": 352,
   "metadata": {
    "hidden": true
   },
   "outputs": [
    {
     "name": "stdout",
     "output_type": "stream",
     "text": [
      "Convnet's prediction: 8\n"
     ]
    },
    {
     "data": {
      "text/plain": [
       "(None, None)"
      ]
     },
     "execution_count": 352,
     "metadata": {},
     "output_type": "execute_result"
    },
    {
     "data": {
      "image/png": "[encoded data removed]",
      "text/plain": [
       "<matplotlib.figure.Figure at 0x12ac784a8>"
      ]
     },
     "metadata": {},
     "output_type": "display_data"
    }
   ],
   "source": [
    "idx =1\n",
    "viewimg(images, idx), print(f'Convnet\\'s prediction: {predictions.data[idx]}')"
   ]
  },
  {
   "cell_type": "code",
   "execution_count": 357,
   "metadata": {
    "hidden": true
   },
   "outputs": [
    {
     "name": "stdout",
     "output_type": "stream",
     "text": [
      "Convnet's prediction: 0\n"
     ]
    },
    {
     "data": {
      "text/plain": [
       "(None, None)"
      ]
     },
     "execution_count": 357,
     "metadata": {},
     "output_type": "execute_result"
    },
    {
     "data": {
      "image/png": "[encoded data removed]",
      "text/plain": [
       "<matplotlib.figure.Figure at 0x12d35ee10>"
      ]
     },
     "metadata": {},
     "output_type": "display_data"
    }
   ],
   "source": [
    "idx =4\n",
    "viewimg(images, idx), print(f'Convnet\\'s prediction: {predictions.data[idx]}')"
   ]
  },
  {
   "cell_type": "code",
   "execution_count": 358,
   "metadata": {
    "hidden": true
   },
   "outputs": [
    {
     "name": "stdout",
     "output_type": "stream",
     "text": [
      "Convnet's prediction: 2\n"
     ]
    },
    {
     "data": {
      "text/plain": [
       "(None, None)"
      ]
     },
     "execution_count": 358,
     "metadata": {},
     "output_type": "execute_result"
    },
    {
     "data": {
      "image/png": "[encoded data removed]",
      "text/plain": [
       "<matplotlib.figure.Figure at 0x12d408828>"
      ]
     },
     "metadata": {},
     "output_type": "display_data"
    }
   ],
   "source": [
    "idx =6\n",
    "viewimg(images, idx), print(f'Convnet\\'s prediction: {predictions.data[idx]}')"
   ]
  },
  {
   "cell_type": "code",
   "execution_count": 359,
   "metadata": {
    "hidden": true
   },
   "outputs": [
    {
     "name": "stdout",
     "output_type": "stream",
     "text": [
      "Convnet's prediction: 1\n"
     ]
    },
    {
     "data": {
      "text/plain": [
       "(None, None)"
      ]
     },
     "execution_count": 359,
     "metadata": {},
     "output_type": "execute_result"
    },
    {
     "data": {
      "image/png": "[encoded data removed]",
      "text/plain": [
       "<matplotlib.figure.Figure at 0x12d349f60>"
      ]
     },
     "metadata": {},
     "output_type": "display_data"
    }
   ],
   "source": [
    "idx =20\n",
    "viewimg(images, idx), print(f'Convnet\\'s prediction: {predictions.data[idx]}')"
   ]
  },
  {
   "cell_type": "code",
   "execution_count": 360,
   "metadata": {
    "hidden": true
   },
   "outputs": [
    {
     "name": "stdout",
     "output_type": "stream",
     "text": [
      "Convnet's prediction: 4\n"
     ]
    },
    {
     "data": {
      "text/plain": [
       "(None, None)"
      ]
     },
     "execution_count": 360,
     "metadata": {},
     "output_type": "execute_result"
    },
    {
     "data": {
      "image/png": "[encoded data removed]",
      "text/plain": [
       "<matplotlib.figure.Figure at 0x12d634e10>"
      ]
     },
     "metadata": {},
     "output_type": "display_data"
    }
   ],
   "source": [
    "idx =15\n",
    "viewimg(images, idx), print(f'Convnet\\'s prediction: {predictions.data[idx]}')"
   ]
  },
  {
   "cell_type": "code",
   "execution_count": 361,
   "metadata": {
    "hidden": true
   },
   "outputs": [
    {
     "name": "stdout",
     "output_type": "stream",
     "text": [
      "Convnet's prediction: 6\n"
     ]
    },
    {
     "data": {
      "text/plain": [
       "(None, None)"
      ]
     },
     "execution_count": 361,
     "metadata": {},
     "output_type": "execute_result"
    },
    {
     "data": {
      "image/png": "[encoded data removed]",
      "text/plain": [
       "<matplotlib.figure.Figure at 0x12d65c4e0>"
      ]
     },
     "metadata": {},
     "output_type": "display_data"
    }
   ],
   "source": [
    "idx =19\n",
    "viewimg(images, idx), print(f'Convnet\\'s prediction: {predictions.data[idx]}')"
   ]
  },
  {
   "cell_type": "code",
   "execution_count": 368,
   "metadata": {
    "hidden": true
   },
   "outputs": [
    {
     "name": "stdout",
     "output_type": "stream",
     "text": [
      "Convnet's prediction: 7\n"
     ]
    },
    {
     "data": {
      "text/plain": [
       "(None, None)"
      ]
     },
     "execution_count": 368,
     "metadata": {},
     "output_type": "execute_result"
    },
    {
     "data": {
      "image/png": "[encoded data removed]",
      "text/plain": [
       "<matplotlib.figure.Figure at 0x12ddefa20>"
      ]
     },
     "metadata": {},
     "output_type": "display_data"
    }
   ],
   "source": [
    "idx =8\n",
    "viewimg(images, idx), print(f'Convnet\\'s prediction: {predictions.data[idx]}')"
   ]
  },
  {
   "cell_type": "markdown",
   "metadata": {
    "hidden": true
   },
   "source": [
    "---\n",
    "\n",
    "**Aside:** Checking that my custom data iterator works exactly the same as the PT MNIST one:"
   ]
  },
  {
   "cell_type": "code",
   "execution_count": 369,
   "metadata": {
    "hidden": true
   },
   "outputs": [],
   "source": [
    "# custom_dataiter.next()"
   ]
  },
  {
   "cell_type": "code",
   "execution_count": 333,
   "metadata": {
    "hidden": true
   },
   "outputs": [],
   "source": [
    "# dataiter = iter(testloader)"
   ]
  },
  {
   "cell_type": "code",
   "execution_count": 370,
   "metadata": {
    "hidden": true
   },
   "outputs": [],
   "source": [
    "# dataiter.next()"
   ]
  },
  {
   "cell_type": "markdown",
   "metadata": {
    "hidden": true
   },
   "source": [
    "Although I wonder if I should have preprocessed my written digits to be color inverted. I see a lot of `-1`'s in the PT MNIST data, and `+1`'s in my own. They're both normalized in range $[-1,1]$, making me think that's the case. Luckily it's a simple NumPy or OpenCV operation away, and can just be done in the initial image-loading phase.\n",
    "\n",
    "I may do so without updating this Aside.\n",
    "\n",
    "---"
   ]
  },
  {
   "cell_type": "markdown",
   "metadata": {
    "heading_collapsed": true
   },
   "source": [
    "## Z. Misc"
   ]
  },
  {
   "cell_type": "code",
   "execution_count": null,
   "metadata": {
    "hidden": true
   },
   "outputs": [],
   "source": []
  },
  {
   "cell_type": "code",
   "execution_count": null,
   "metadata": {
    "hidden": true
   },
   "outputs": [],
   "source": []
  },
  {
   "cell_type": "code",
   "execution_count": null,
   "metadata": {
    "hidden": true
   },
   "outputs": [],
   "source": []
  },
  {
   "cell_type": "code",
   "execution_count": null,
   "metadata": {
    "hidden": true
   },
   "outputs": [],
   "source": []
  },
  {
   "cell_type": "code",
   "execution_count": null,
   "metadata": {
    "hidden": true
   },
   "outputs": [],
   "source": []
  },
  {
   "cell_type": "code",
   "execution_count": null,
   "metadata": {
    "hidden": true
   },
   "outputs": [],
   "source": []
  },
  {
   "cell_type": "code",
   "execution_count": null,
   "metadata": {
    "hidden": true
   },
   "outputs": [],
   "source": []
  },
  {
   "cell_type": "code",
   "execution_count": null,
   "metadata": {
    "hidden": true
   },
   "outputs": [],
   "source": []
  },
  {
   "cell_type": "code",
   "execution_count": null,
   "metadata": {
    "hidden": true
   },
   "outputs": [],
   "source": []
  },
  {
   "cell_type": "code",
   "execution_count": null,
   "metadata": {
    "hidden": true
   },
   "outputs": [],
   "source": []
  },
  {
   "cell_type": "code",
   "execution_count": null,
   "metadata": {
    "hidden": true
   },
   "outputs": [],
   "source": []
  },
  {
   "cell_type": "code",
   "execution_count": null,
   "metadata": {
    "hidden": true
   },
   "outputs": [],
   "source": []
  },
  {
   "cell_type": "code",
   "execution_count": null,
   "metadata": {
    "hidden": true
   },
   "outputs": [],
   "source": []
  },
  {
   "cell_type": "code",
   "execution_count": null,
   "metadata": {
    "hidden": true
   },
   "outputs": [],
   "source": []
  },
  {
   "cell_type": "code",
   "execution_count": null,
   "metadata": {
    "hidden": true
   },
   "outputs": [],
   "source": []
  },
  {
   "cell_type": "code",
   "execution_count": null,
   "metadata": {
    "hidden": true
   },
   "outputs": [],
   "source": []
  },
  {
   "cell_type": "code",
   "execution_count": null,
   "metadata": {
    "hidden": true
   },
   "outputs": [],
   "source": []
  },
  {
   "cell_type": "code",
   "execution_count": null,
   "metadata": {
    "hidden": true
   },
   "outputs": [],
   "source": []
  },
  {
   "cell_type": "code",
   "execution_count": null,
   "metadata": {
    "hidden": true
   },
   "outputs": [],
   "source": []
  },
  {
   "cell_type": "markdown",
   "metadata": {
    "hidden": true
   },
   "source": [
    "---\n",
    "\n",
    "**Aside:** Getting the DataLoader to work:"
   ]
  },
  {
   "cell_type": "code",
   "execution_count": 87,
   "metadata": {
    "hidden": true
   },
   "outputs": [
    {
     "ename": "ValueError",
     "evalue": "Traceback (most recent call last):\n  File \"/Users/WayNoxchi/Miniconda3/envs/fastai/lib/python3.6/site-packages/torch/utils/data/dataloader.py\", line 55, in _worker_loop\n    samples = collate_fn([dataset[i] for i in batch_indices])\n  File \"/Users/WayNoxchi/Miniconda3/envs/fastai/lib/python3.6/site-packages/torch/utils/data/dataloader.py\", line 55, in <listcomp>\n    samples = collate_fn([dataset[i] for i in batch_indices])\n  File \"<ipython-input-76-0debf74882c5>\", line 17, in __getitem__\n    image = self.transform(image) # wait, does this alter self.data[idx][0] ??\n  File \"/Users/WayNoxchi/Miniconda3/envs/fastai/lib/python3.6/site-packages/torchvision-0.2.0-py3.6.egg/torchvision/transforms/transforms.py\", line 42, in __call__\n    img = t(img)\n  File \"/Users/WayNoxchi/Miniconda3/envs/fastai/lib/python3.6/site-packages/torchvision-0.2.0-py3.6.egg/torchvision/transforms/transforms.py\", line 61, in __call__\n    return F.to_tensor(pic)\n  File \"/Users/WayNoxchi/Miniconda3/envs/fastai/lib/python3.6/site-packages/torchvision-0.2.0-py3.6.egg/torchvision/transforms/functional.py\", line 48, in to_tensor\n    img = torch.from_numpy(pic.transpose((2, 0, 1)))\nValueError: axes don't match array\n",
     "output_type": "error",
     "traceback": [
      "\u001b[0;31m---------------------------------------------------------------------------\u001b[0m",
      "\u001b[0;31mValueError\u001b[0m                                Traceback (most recent call last)",
      "\u001b[0;32m<ipython-input-87-787daadca3bb>\u001b[0m in \u001b[0;36m<module>\u001b[0;34m()\u001b[0m\n\u001b[0;32m----> 1\u001b[0;31m \u001b[0mcustom_dataiter\u001b[0m\u001b[0;34m.\u001b[0m\u001b[0mnext\u001b[0m\u001b[0;34m(\u001b[0m\u001b[0;34m)\u001b[0m\u001b[0;34m\u001b[0m\u001b[0m\n\u001b[0m",
      "\u001b[0;32m~/Miniconda3/envs/fastai/lib/python3.6/site-packages/torch/utils/data/dataloader.py\u001b[0m in \u001b[0;36m__next__\u001b[0;34m(self)\u001b[0m\n\u001b[1;32m    279\u001b[0m                 \u001b[0mself\u001b[0m\u001b[0;34m.\u001b[0m\u001b[0mreorder_dict\u001b[0m\u001b[0;34m[\u001b[0m\u001b[0midx\u001b[0m\u001b[0;34m]\u001b[0m \u001b[0;34m=\u001b[0m \u001b[0mbatch\u001b[0m\u001b[0;34m\u001b[0m\u001b[0m\n\u001b[1;32m    280\u001b[0m                 \u001b[0;32mcontinue\u001b[0m\u001b[0;34m\u001b[0m\u001b[0m\n\u001b[0;32m--> 281\u001b[0;31m             \u001b[0;32mreturn\u001b[0m \u001b[0mself\u001b[0m\u001b[0;34m.\u001b[0m\u001b[0m_process_next_batch\u001b[0m\u001b[0;34m(\u001b[0m\u001b[0mbatch\u001b[0m\u001b[0;34m)\u001b[0m\u001b[0;34m\u001b[0m\u001b[0m\n\u001b[0m\u001b[1;32m    282\u001b[0m \u001b[0;34m\u001b[0m\u001b[0m\n\u001b[1;32m    283\u001b[0m     \u001b[0mnext\u001b[0m \u001b[0;34m=\u001b[0m \u001b[0m__next__\u001b[0m  \u001b[0;31m# Python 2 compatibility\u001b[0m\u001b[0;34m\u001b[0m\u001b[0m\n",
      "\u001b[0;32m~/Miniconda3/envs/fastai/lib/python3.6/site-packages/torch/utils/data/dataloader.py\u001b[0m in \u001b[0;36m_process_next_batch\u001b[0;34m(self, batch)\u001b[0m\n\u001b[1;32m    299\u001b[0m         \u001b[0mself\u001b[0m\u001b[0;34m.\u001b[0m\u001b[0m_put_indices\u001b[0m\u001b[0;34m(\u001b[0m\u001b[0;34m)\u001b[0m\u001b[0;34m\u001b[0m\u001b[0m\n\u001b[1;32m    300\u001b[0m         \u001b[0;32mif\u001b[0m \u001b[0misinstance\u001b[0m\u001b[0;34m(\u001b[0m\u001b[0mbatch\u001b[0m\u001b[0;34m,\u001b[0m \u001b[0mExceptionWrapper\u001b[0m\u001b[0;34m)\u001b[0m\u001b[0;34m:\u001b[0m\u001b[0;34m\u001b[0m\u001b[0m\n\u001b[0;32m--> 301\u001b[0;31m             \u001b[0;32mraise\u001b[0m \u001b[0mbatch\u001b[0m\u001b[0;34m.\u001b[0m\u001b[0mexc_type\u001b[0m\u001b[0;34m(\u001b[0m\u001b[0mbatch\u001b[0m\u001b[0;34m.\u001b[0m\u001b[0mexc_msg\u001b[0m\u001b[0;34m)\u001b[0m\u001b[0;34m\u001b[0m\u001b[0m\n\u001b[0m\u001b[1;32m    302\u001b[0m         \u001b[0;32mreturn\u001b[0m \u001b[0mbatch\u001b[0m\u001b[0;34m\u001b[0m\u001b[0m\n\u001b[1;32m    303\u001b[0m \u001b[0;34m\u001b[0m\u001b[0m\n",
      "\u001b[0;31mValueError\u001b[0m: Traceback (most recent call last):\n  File \"/Users/WayNoxchi/Miniconda3/envs/fastai/lib/python3.6/site-packages/torch/utils/data/dataloader.py\", line 55, in _worker_loop\n    samples = collate_fn([dataset[i] for i in batch_indices])\n  File \"/Users/WayNoxchi/Miniconda3/envs/fastai/lib/python3.6/site-packages/torch/utils/data/dataloader.py\", line 55, in <listcomp>\n    samples = collate_fn([dataset[i] for i in batch_indices])\n  File \"<ipython-input-76-0debf74882c5>\", line 17, in __getitem__\n    image = self.transform(image) # wait, does this alter self.data[idx][0] ??\n  File \"/Users/WayNoxchi/Miniconda3/envs/fastai/lib/python3.6/site-packages/torchvision-0.2.0-py3.6.egg/torchvision/transforms/transforms.py\", line 42, in __call__\n    img = t(img)\n  File \"/Users/WayNoxchi/Miniconda3/envs/fastai/lib/python3.6/site-packages/torchvision-0.2.0-py3.6.egg/torchvision/transforms/transforms.py\", line 61, in __call__\n    return F.to_tensor(pic)\n  File \"/Users/WayNoxchi/Miniconda3/envs/fastai/lib/python3.6/site-packages/torchvision-0.2.0-py3.6.egg/torchvision/transforms/functional.py\", line 48, in to_tensor\n    img = torch.from_numpy(pic.transpose((2, 0, 1)))\nValueError: axes don't match array\n"
     ]
    }
   ],
   "source": [
    "custom_dataiter.next()"
   ]
  },
  {
   "cell_type": "code",
   "execution_count": 89,
   "metadata": {
    "hidden": true
   },
   "outputs": [],
   "source": [
    "img = images[0]"
   ]
  },
  {
   "cell_type": "code",
   "execution_count": 92,
   "metadata": {
    "hidden": true
   },
   "outputs": [
    {
     "ename": "ValueError",
     "evalue": "axes don't match array",
     "output_type": "error",
     "traceback": [
      "\u001b[0;31m---------------------------------------------------------------------------\u001b[0m",
      "\u001b[0;31mValueError\u001b[0m                                Traceback (most recent call last)",
      "\u001b[0;32m<ipython-input-92-75cf014b2e01>\u001b[0m in \u001b[0;36m<module>\u001b[0;34m()\u001b[0m\n\u001b[0;32m----> 1\u001b[0;31m \u001b[0mtorch\u001b[0m\u001b[0;34m.\u001b[0m\u001b[0mfrom_numpy\u001b[0m\u001b[0;34m(\u001b[0m\u001b[0mimg\u001b[0m\u001b[0;34m.\u001b[0m\u001b[0mtranspose\u001b[0m\u001b[0;34m(\u001b[0m\u001b[0;34m(\u001b[0m\u001b[0;36m2\u001b[0m\u001b[0;34m,\u001b[0m\u001b[0;36m0\u001b[0m\u001b[0;34m,\u001b[0m\u001b[0;36m1\u001b[0m\u001b[0;34m)\u001b[0m\u001b[0;34m)\u001b[0m\u001b[0;34m)\u001b[0m\u001b[0;34m\u001b[0m\u001b[0m\n\u001b[0m",
      "\u001b[0;31mValueError\u001b[0m: axes don't match array"
     ]
    }
   ],
   "source": [
    "torch.from_numpy(img.transpose((2,0,1)))"
   ]
  },
  {
   "cell_type": "code",
   "execution_count": 96,
   "metadata": {
    "hidden": true
   },
   "outputs": [
    {
     "data": {
      "text/plain": [
       "(28, 28, 1)"
      ]
     },
     "execution_count": 96,
     "metadata": {},
     "output_type": "execute_result"
    }
   ],
   "source": [
    "np.expand_dims(img, -1).shape"
   ]
  },
  {
   "cell_type": "code",
   "execution_count": 97,
   "metadata": {
    "hidden": true
   },
   "outputs": [
    {
     "data": {
      "text/plain": [
       "\n",
       "(0 ,.,.) = \n",
       "\n",
       "Columns 0 to 14 \n",
       "   255  254  255  255  255  255  255  255  255  255  255  255  255  255  255\n",
       "  255  255  255  255  255  255  255  255  255  255  255  255  255  255  255\n",
       "  255  255  255  255  255  255  255  255  255  255  255  255  255  255  255\n",
       "  255  255  255  255  255  255  255  255  255  255  255  255  255  255  255\n",
       "  255  255  255  255  255  255  255  255  255  255  255  255  255  255  255\n",
       "  255  255  255  255  255  255  255  255  255  255  255  255  245  235  170\n",
       "  255  255  255  255  255  255  255  255  233  165  153  108   86   44   72\n",
       "  255  255  255  255  255  254  234  146   68   68  103  165  207  240  255\n",
       "  255  255  255  255  244  177   52   88  205  249  255  255  255  255  255\n",
       "  255  255  255  253  116   34  145  249  255  255  255  255  255  255  255\n",
       "  255  255  255  232   39  114  254  255  255  255  255  255  255  255  255\n",
       "  255  255  255  246   41   70  239  255  255  255  255  255  239  209  139\n",
       "  255  255  255  255  148   28   80  110  127  126  112   79   47   72  135\n",
       "  255  255  255  255  255  209  114   87   86   96  118  151  200  246  255\n",
       "  255  255  255  255  255  255  255  255  255  255  255  255  255  255  255\n",
       "  255  255  255  255  255  255  255  255  255  255  255  255  255  255  255\n",
       "  255  255  255  255  255  255  255  255  255  255  255  255  255  255  255\n",
       "  255  255  255  255  255  255  255  255  255  255  255  255  255  255  255\n",
       "  255  255  255  255  255  255  255  255  255  255  255  255  255  255  255\n",
       "  255  255  255  255  255  255  255  255  255  255  255  255  255  255  255\n",
       "  255  255  255  255  255  255  255  255  255  255  255  255  255  255  255\n",
       "  255  255  255  255  255  255  255  255  255  255  255  255  255  255  255\n",
       "  255  255  255  255  255  255  255  255  255  255  255  255  255  255  255\n",
       "  255  255  255  255  255  255  255  255  255  255  255  255  255  255  255\n",
       "  255  255  255  255  255  255  255  255  255  255  255  255  255  255  255\n",
       "  255  255  255  255  255  255  255  255  255  255  255  255  255  255  255\n",
       "  255  255  255  255  255  255  255  255  255  255  255  255  255  255  255\n",
       "  255  255  255  255  255  255  255  255  255  255  255  255  255  255  255\n",
       "\n",
       "Columns 15 to 27 \n",
       "   255  255  255  255  255  255  255  255  255  255  255  255  255\n",
       "  255  255  255  255  255  255  255  255  255  255  255  255  255\n",
       "  255  255  255  255  255  255  255  255  255  255  255  255  255\n",
       "  255  255  255  255  255  255  255  255  255  255  255  255  255\n",
       "  255  255  254  255  255  255  255  255  255  255  255  255  255\n",
       "  141  102   92  105  189  255  255  255  255  255  255  255  255\n",
       "   92   71   30   25  122  231  255  255  255  255  255  255  255\n",
       "  255  254  242  219  170   49  229  255  255  255  255  255  255\n",
       "  255  255  255  243   65   44  247  255  255  255  255  255  255\n",
       "  255  255  249  162   22  125  255  255  255  255  255  255  255\n",
       "  249  210   87   26   29  211  255  255  255  255  255  255  255\n",
       "   96   94  177  113   47  252  255  255  255  255  255  255  255\n",
       "  173  247  255  106   55  253  255  255  255  255  255  255  255\n",
       "  255  255  255  145   51  252  255  255  255  255  255  255  255\n",
       "  255  255  255  187   40  227  255  255  255  255  255  255  255\n",
       "  255  255  255  219   27  216  255  255  255  255  255  255  255\n",
       "  255  255  255  236   32  184  255  255  255  255  255  255  255\n",
       "  255  255  255  246   38  125  255  255  255  255  255  255  255\n",
       "  255  255  255  255  105   45  248  255  255  255  255  255  255\n",
       "  255  255  255  255  194   19  206  255  255  255  255  255  255\n",
       "  255  255  255  255  239   30   79  251  255  255  255  255  255\n",
       "  255  255  255  255  255   97   28  211  255  255  255  255  255\n",
       "  255  255  255  255  255  218  216  255  255  255  255  255  255\n",
       "  255  255  255  255  255  255  255  255  255  255  255  255  255\n",
       "  255  255  255  255  255  255  255  255  255  255  255  255  255\n",
       "  255  255  255  255  255  255  255  255  255  255  255  255  255\n",
       "  255  255  255  255  255  255  255  255  255  255  255  255  255\n",
       "  255  255  255  255  255  255  255  255  255  255  255  255  255\n",
       "[torch.ByteTensor of size 1x28x28]"
      ]
     },
     "execution_count": 97,
     "metadata": {},
     "output_type": "execute_result"
    }
   ],
   "source": [
    "torch.from_numpy(np.expand_dims(img,-1).transpose((2,0,1)))"
   ]
  },
  {
   "cell_type": "markdown",
   "metadata": {
    "hidden": true
   },
   "source": [
    "Okay, that looks like my problem. The images inside ... ahhhh... okay. Far as I can tell, here's what's up:\n",
    "\n",
    "My images from the dataset are failing to load (ie: the dataloader is failing to retrieve images from the dataset) because they're failing a NumPy transpose operation. PyTorch is looking for MxCxHxW Tensors (M=minibatch), and the assumption is images (I think) will be in HxWxC format $\\longrightarrow$ so they get transformed to CxHxW. Issue is my images have only HxW dimensions so this operation fails.\n",
    "\n",
    "But it looks like if I provide the image in the right format, the transpose operation returns the correct-looking formatted image. Cool.\n",
    "\n",
    "Why the *ahh*?  Well inside the MNIST dataset class: `torchvision.datasets.mnist`, there's a delineation between 'raw' and 'processed' images. The data for MNIST is first downloaded, but they arrive as compressed `.gz` files. These are then unzipped into a `raw` folder, then saved to a `processed` folder. I don't know if PyTorch does its image preprocessing on the images when they are saved to `processed` or after they're retreived. Anyway, when you pull an item from the dataset, internally it goes and retrieves it from the `processed` folder, or it initalizes the data array in memory from that folder (unsure which)."
   ]
  },
  {
   "cell_type": "code",
   "execution_count": null,
   "metadata": {
    "hidden": true
   },
   "outputs": [],
   "source": [
    "test"
   ]
  },
  {
   "cell_type": "code",
   "execution_count": 83,
   "metadata": {
    "hidden": true
   },
   "outputs": [],
   "source": [
    "# custom_data.data[0]"
   ]
  },
  {
   "cell_type": "code",
   "execution_count": 81,
   "metadata": {
    "hidden": true
   },
   "outputs": [],
   "source": [
    "custom_dataiter = iter(custom_data)"
   ]
  },
  {
   "cell_type": "code",
   "execution_count": 82,
   "metadata": {
    "hidden": true
   },
   "outputs": [
    {
     "ename": "AttributeError",
     "evalue": "'iterator' object has no attribute 'next'",
     "output_type": "error",
     "traceback": [
      "\u001b[0;31m---------------------------------------------------------------------------\u001b[0m",
      "\u001b[0;31mAttributeError\u001b[0m                            Traceback (most recent call last)",
      "\u001b[0;32m<ipython-input-82-787daadca3bb>\u001b[0m in \u001b[0;36m<module>\u001b[0;34m()\u001b[0m\n\u001b[0;32m----> 1\u001b[0;31m \u001b[0mcustom_dataiter\u001b[0m\u001b[0;34m.\u001b[0m\u001b[0mnext\u001b[0m\u001b[0;34m(\u001b[0m\u001b[0;34m)\u001b[0m\u001b[0;34m\u001b[0m\u001b[0m\n\u001b[0m",
      "\u001b[0;31mAttributeError\u001b[0m: 'iterator' object has no attribute 'next'"
     ]
    }
   ],
   "source": [
    "custom_dataiter.next()"
   ]
  },
  {
   "cell_type": "code",
   "execution_count": null,
   "metadata": {
    "hidden": true
   },
   "outputs": [],
   "source": []
  },
  {
   "cell_type": "code",
   "execution_count": 47,
   "metadata": {
    "hidden": true
   },
   "outputs": [
    {
     "data": {
      "text/plain": [
       "numpy.ndarray"
      ]
     },
     "execution_count": 47,
     "metadata": {},
     "output_type": "execute_result"
    }
   ],
   "source": [
    "type(custom_data.data[0][0])"
   ]
  },
  {
   "cell_type": "code",
   "execution_count": 35,
   "metadata": {
    "hidden": true
   },
   "outputs": [
    {
     "data": {
      "text/plain": [
       "[(0, 'a'), (1, 'b'), (2, 'c'), (3, 'd'), (4, 'e'), (5, 'f')]"
      ]
     },
     "execution_count": 35,
     "metadata": {},
     "output_type": "execute_result"
    }
   ],
   "source": [
    "a = [i for i in range(6)]\n",
    "b = [chr(ord('a')+i) for i in range(6)]\n",
    "c = list(zip(a,b))\n",
    "c"
   ]
  },
  {
   "cell_type": "code",
   "execution_count": 28,
   "metadata": {
    "hidden": true
   },
   "outputs": [
    {
     "data": {
      "text/plain": [
       "97"
      ]
     },
     "execution_count": 28,
     "metadata": {},
     "output_type": "execute_result"
    }
   ],
   "source": [
    "ord('a')"
   ]
  },
  {
   "cell_type": "code",
   "execution_count": null,
   "metadata": {
    "hidden": true
   },
   "outputs": [],
   "source": []
  },
  {
   "cell_type": "code",
   "execution_count": null,
   "metadata": {
    "hidden": true
   },
   "outputs": [],
   "source": []
  },
  {
   "cell_type": "code",
   "execution_count": 74,
   "metadata": {
    "hidden": true
   },
   "outputs": [],
   "source": [
    "torchvision.datasets.mnist??"
   ]
  },
  {
   "cell_type": "code",
   "execution_count": 72,
   "metadata": {
    "hidden": true
   },
   "outputs": [
    {
     "data": {
      "text/plain": [
       "<torchvision.datasets.mnist.MNIST at 0x1185995c0>"
      ]
     },
     "execution_count": 72,
     "metadata": {},
     "output_type": "execute_result"
    }
   ],
   "source": [
    "trainset"
   ]
  },
  {
   "cell_type": "code",
   "execution_count": 84,
   "metadata": {
    "hidden": true
   },
   "outputs": [],
   "source": [
    "# trainset[0]"
   ]
  },
  {
   "cell_type": "code",
   "execution_count": null,
   "metadata": {
    "hidden": true
   },
   "outputs": [],
   "source": []
  },
  {
   "cell_type": "code",
   "execution_count": null,
   "metadata": {
    "hidden": true
   },
   "outputs": [],
   "source": []
  },
  {
   "cell_type": "code",
   "execution_count": 2,
   "metadata": {
    "hidden": true
   },
   "outputs": [],
   "source": [
    "# torchvision datasets are PIL.Image images of range [0,1]. Must trsfm them \n",
    "# to Tensors of normalized range [-1,1]\n",
    "transform = torchvision.transforms.Compose(\n",
    "    [torchvision.transforms.ToTensor(),\n",
    "     torchvision.transforms.Normalize((0.5,0.5,0.5),(0.5,0.5,0.5))]\n",
    ")\n",
    "# I have no idea how this works"
   ]
  },
  {
   "cell_type": "code",
   "execution_count": 76,
   "metadata": {
    "hidden": true
   },
   "outputs": [
    {
     "name": "stdout",
     "output_type": "stream",
     "text": [
      "Downloading http://yann.lecun.com/exdb/mnist/train-images-idx3-ubyte.gz\n",
      "Downloading http://yann.lecun.com/exdb/mnist/train-labels-idx1-ubyte.gz\n",
      "Downloading http://yann.lecun.com/exdb/mnist/t10k-images-idx3-ubyte.gz\n",
      "Downloading http://yann.lecun.com/exdb/mnist/t10k-labels-idx1-ubyte.gz\n",
      "Processing...\n",
      "Done!\n"
     ]
    }
   ],
   "source": [
    "trainset = torchvision.datasets.MNIST(root='./data/mnist/', train=True,\n",
    "                                      download=True, transform=transform)\n",
    "testset  = torchvision.datasets.MNIST(root='./data/mnnist/', train=False, \n",
    "                                      download=False, transform=transform)\n",
    "# ^ already downloaded w/ trainset; doesnt need to be `download=True`\n",
    "\n",
    "trainloader = torch.utils.data.DataLoader(trainset, batch_size=32, \n",
    "                                          shuffle=True, num_workers=4)\n",
    "testloader  = torch.utils.data.DataLoader(testset, batch_size=32, \n",
    "                                          shuffle=False, num_workers=4)"
   ]
  },
  {
   "cell_type": "code",
   "execution_count": null,
   "metadata": {
    "hidden": true
   },
   "outputs": [],
   "source": []
  },
  {
   "cell_type": "code",
   "execution_count": null,
   "metadata": {
    "hidden": true
   },
   "outputs": [],
   "source": []
  },
  {
   "cell_type": "code",
   "execution_count": 521,
   "metadata": {
    "hidden": true
   },
   "outputs": [
    {
     "data": {
      "text/plain": [
       "dtype('uint8')"
      ]
     },
     "execution_count": 521,
     "metadata": {},
     "output_type": "execute_result"
    }
   ],
   "source": [
    "images[0].dtype"
   ]
  },
  {
   "cell_type": "code",
   "execution_count": 522,
   "metadata": {
    "hidden": true
   },
   "outputs": [
    {
     "data": {
      "text/plain": [
       "(28, 28, 1)"
      ]
     },
     "execution_count": 522,
     "metadata": {},
     "output_type": "execute_result"
    }
   ],
   "source": [
    "img = images[0]\n",
    "img = np.expand_dims(img, -1)\n",
    "img.shape"
   ]
  },
  {
   "cell_type": "code",
   "execution_count": null,
   "metadata": {
    "hidden": true
   },
   "outputs": [],
   "source": []
  },
  {
   "cell_type": "code",
   "execution_count": 523,
   "metadata": {
    "hidden": true
   },
   "outputs": [],
   "source": [
    "# compatibility for torchvision.transforms.Compose() -- expects NumPy ndarrays to be of \n",
    "# shape: HxWxC as acc to error:\n",
    "#      46     if isinstance(pic, np.ndarray):\n",
    "#      47         # handle numpy array\n",
    "# ---> 48         img = torch.from_numpy(pic.transpose((2, 0, 1))\n",
    "images = [np.expand_dims(img, -1) for img in images] # cvt (28,28) --> (28,28,1)\n",
    "images = [transform(img) for img in images]\n",
    "\n"
   ]
  },
  {
   "cell_type": "code",
   "execution_count": 524,
   "metadata": {
    "hidden": true
   },
   "outputs": [],
   "source": [
    "custom_loader = torch.utils.data.dataloader.DataLoader((images,custom_labels),\n",
    "                                    batch_size=32,shuffle=False, num_workers=4)"
   ]
  },
  {
   "cell_type": "code",
   "execution_count": 548,
   "metadata": {
    "hidden": true
   },
   "outputs": [],
   "source": [
    "# testset.test_data"
   ]
  },
  {
   "cell_type": "code",
   "execution_count": null,
   "metadata": {
    "hidden": true
   },
   "outputs": [],
   "source": []
  },
  {
   "cell_type": "code",
   "execution_count": null,
   "metadata": {
    "hidden": true
   },
   "outputs": [],
   "source": []
  },
  {
   "cell_type": "code",
   "execution_count": 525,
   "metadata": {
    "hidden": true,
    "scrolled": false
   },
   "outputs": [
    {
     "data": {
      "text/plain": [
       "\n",
       "(0 ,.,.) = \n",
       "\n",
       "Columns 0 to 8 \n",
       "   1.0000  0.9922  1.0000  1.0000  1.0000  1.0000  1.0000  1.0000  1.0000\n",
       "  1.0000  1.0000  1.0000  1.0000  1.0000  1.0000  1.0000  1.0000  1.0000\n",
       "  1.0000  1.0000  1.0000  1.0000  1.0000  1.0000  1.0000  1.0000  1.0000\n",
       "  1.0000  1.0000  1.0000  1.0000  1.0000  1.0000  1.0000  1.0000  1.0000\n",
       "  1.0000  1.0000  1.0000  1.0000  1.0000  1.0000  1.0000  1.0000  1.0000\n",
       "  1.0000  1.0000  1.0000  1.0000  1.0000  1.0000  1.0000  1.0000  1.0000\n",
       "  1.0000  1.0000  1.0000  1.0000  1.0000  1.0000  1.0000  1.0000  0.8275\n",
       "  1.0000  1.0000  1.0000  1.0000  1.0000  0.9922  0.8353  0.1451 -0.4667\n",
       "  1.0000  1.0000  1.0000  1.0000  0.9137  0.3882 -0.5922 -0.3098  0.6078\n",
       "  1.0000  1.0000  1.0000  0.9843 -0.0902 -0.7333  0.1373  0.9529  1.0000\n",
       "  1.0000  1.0000  1.0000  0.8196 -0.6941 -0.1059  0.9922  1.0000  1.0000\n",
       "  1.0000  1.0000  1.0000  0.9294 -0.6784 -0.4510  0.8745  1.0000  1.0000\n",
       "  1.0000  1.0000  1.0000  1.0000  0.1608 -0.7804 -0.3725 -0.1373 -0.0039\n",
       "  1.0000  1.0000  1.0000  1.0000  1.0000  0.6392 -0.1059 -0.3176 -0.3255\n",
       "  1.0000  1.0000  1.0000  1.0000  1.0000  1.0000  1.0000  1.0000  1.0000\n",
       "  1.0000  1.0000  1.0000  1.0000  1.0000  1.0000  1.0000  1.0000  1.0000\n",
       "  1.0000  1.0000  1.0000  1.0000  1.0000  1.0000  1.0000  1.0000  1.0000\n",
       "  1.0000  1.0000  1.0000  1.0000  1.0000  1.0000  1.0000  1.0000  1.0000\n",
       "  1.0000  1.0000  1.0000  1.0000  1.0000  1.0000  1.0000  1.0000  1.0000\n",
       "  1.0000  1.0000  1.0000  1.0000  1.0000  1.0000  1.0000  1.0000  1.0000\n",
       "  1.0000  1.0000  1.0000  1.0000  1.0000  1.0000  1.0000  1.0000  1.0000\n",
       "  1.0000  1.0000  1.0000  1.0000  1.0000  1.0000  1.0000  1.0000  1.0000\n",
       "  1.0000  1.0000  1.0000  1.0000  1.0000  1.0000  1.0000  1.0000  1.0000\n",
       "  1.0000  1.0000  1.0000  1.0000  1.0000  1.0000  1.0000  1.0000  1.0000\n",
       "  1.0000  1.0000  1.0000  1.0000  1.0000  1.0000  1.0000  1.0000  1.0000\n",
       "  1.0000  1.0000  1.0000  1.0000  1.0000  1.0000  1.0000  1.0000  1.0000\n",
       "  1.0000  1.0000  1.0000  1.0000  1.0000  1.0000  1.0000  1.0000  1.0000\n",
       "  1.0000  1.0000  1.0000  1.0000  1.0000  1.0000  1.0000  1.0000  1.0000\n",
       "\n",
       "Columns 9 to 17 \n",
       "   1.0000  1.0000  1.0000  1.0000  1.0000  1.0000  1.0000  1.0000  1.0000\n",
       "  1.0000  1.0000  1.0000  1.0000  1.0000  1.0000  1.0000  1.0000  1.0000\n",
       "  1.0000  1.0000  1.0000  1.0000  1.0000  1.0000  1.0000  1.0000  1.0000\n",
       "  1.0000  1.0000  1.0000  1.0000  1.0000  1.0000  1.0000  1.0000  1.0000\n",
       "  1.0000  1.0000  1.0000  1.0000  1.0000  1.0000  1.0000  1.0000  0.9922\n",
       "  1.0000  1.0000  1.0000  0.9216  0.8431  0.3333  0.1059 -0.2000 -0.2784\n",
       "  0.2941  0.2000 -0.1529 -0.3255 -0.6549 -0.4353 -0.2784 -0.4431 -0.7647\n",
       " -0.4667 -0.1922  0.2941  0.6235  0.8824  1.0000  1.0000  0.9922  0.8980\n",
       "  0.9529  1.0000  1.0000  1.0000  1.0000  1.0000  1.0000  1.0000  1.0000\n",
       "  1.0000  1.0000  1.0000  1.0000  1.0000  1.0000  1.0000  1.0000  0.9529\n",
       "  1.0000  1.0000  1.0000  1.0000  1.0000  1.0000  0.9529  0.6471 -0.3176\n",
       "  1.0000  1.0000  1.0000  0.8745  0.6392  0.0902 -0.2471 -0.2627  0.3882\n",
       " -0.0118 -0.1216 -0.3804 -0.6314 -0.4353  0.0588  0.3569  0.9373  1.0000\n",
       " -0.2471 -0.0745  0.1843  0.5686  0.9294  1.0000  1.0000  1.0000  1.0000\n",
       "  1.0000  1.0000  1.0000  1.0000  1.0000  1.0000  1.0000  1.0000  1.0000\n",
       "  1.0000  1.0000  1.0000  1.0000  1.0000  1.0000  1.0000  1.0000  1.0000\n",
       "  1.0000  1.0000  1.0000  1.0000  1.0000  1.0000  1.0000  1.0000  1.0000\n",
       "  1.0000  1.0000  1.0000  1.0000  1.0000  1.0000  1.0000  1.0000  1.0000\n",
       "  1.0000  1.0000  1.0000  1.0000  1.0000  1.0000  1.0000  1.0000  1.0000\n",
       "  1.0000  1.0000  1.0000  1.0000  1.0000  1.0000  1.0000  1.0000  1.0000\n",
       "  1.0000  1.0000  1.0000  1.0000  1.0000  1.0000  1.0000  1.0000  1.0000\n",
       "  1.0000  1.0000  1.0000  1.0000  1.0000  1.0000  1.0000  1.0000  1.0000\n",
       "  1.0000  1.0000  1.0000  1.0000  1.0000  1.0000  1.0000  1.0000  1.0000\n",
       "  1.0000  1.0000  1.0000  1.0000  1.0000  1.0000  1.0000  1.0000  1.0000\n",
       "  1.0000  1.0000  1.0000  1.0000  1.0000  1.0000  1.0000  1.0000  1.0000\n",
       "  1.0000  1.0000  1.0000  1.0000  1.0000  1.0000  1.0000  1.0000  1.0000\n",
       "  1.0000  1.0000  1.0000  1.0000  1.0000  1.0000  1.0000  1.0000  1.0000\n",
       "  1.0000  1.0000  1.0000  1.0000  1.0000  1.0000  1.0000  1.0000  1.0000\n",
       "\n",
       "Columns 18 to 26 \n",
       "   1.0000  1.0000  1.0000  1.0000  1.0000  1.0000  1.0000  1.0000  1.0000\n",
       "  1.0000  1.0000  1.0000  1.0000  1.0000  1.0000  1.0000  1.0000  1.0000\n",
       "  1.0000  1.0000  1.0000  1.0000  1.0000  1.0000  1.0000  1.0000  1.0000\n",
       "  1.0000  1.0000  1.0000  1.0000  1.0000  1.0000  1.0000  1.0000  1.0000\n",
       "  1.0000  1.0000  1.0000  1.0000  1.0000  1.0000  1.0000  1.0000  1.0000\n",
       " -0.1765  0.4824  1.0000  1.0000  1.0000  1.0000  1.0000  1.0000  1.0000\n",
       " -0.8039 -0.0431  0.8118  1.0000  1.0000  1.0000  1.0000  1.0000  1.0000\n",
       "  0.7176  0.3333 -0.6157  0.7961  1.0000  1.0000  1.0000  1.0000  1.0000\n",
       "  0.9059 -0.4902 -0.6549  0.9373  1.0000  1.0000  1.0000  1.0000  1.0000\n",
       "  0.2706 -0.8275 -0.0196  1.0000  1.0000  1.0000  1.0000  1.0000  1.0000\n",
       " -0.7961 -0.7725  0.6549  1.0000  1.0000  1.0000  1.0000  1.0000  1.0000\n",
       " -0.1137 -0.6314  0.9765  1.0000  1.0000  1.0000  1.0000  1.0000  1.0000\n",
       " -0.1686 -0.5686  0.9843  1.0000  1.0000  1.0000  1.0000  1.0000  1.0000\n",
       "  0.1373 -0.6000  0.9765  1.0000  1.0000  1.0000  1.0000  1.0000  1.0000\n",
       "  0.4667 -0.6863  0.7804  1.0000  1.0000  1.0000  1.0000  1.0000  1.0000\n",
       "  0.7176 -0.7882  0.6941  1.0000  1.0000  1.0000  1.0000  1.0000  1.0000\n",
       "  0.8510 -0.7490  0.4431  1.0000  1.0000  1.0000  1.0000  1.0000  1.0000\n",
       "  0.9294 -0.7020 -0.0196  1.0000  1.0000  1.0000  1.0000  1.0000  1.0000\n",
       "  1.0000 -0.1765 -0.6471  0.9451  1.0000  1.0000  1.0000  1.0000  1.0000\n",
       "  1.0000  0.5216 -0.8510  0.6157  1.0000  1.0000  1.0000  1.0000  1.0000\n",
       "  1.0000  0.8745 -0.7647 -0.3804  0.9686  1.0000  1.0000  1.0000  1.0000\n",
       "  1.0000  1.0000 -0.2392 -0.7804  0.6549  1.0000  1.0000  1.0000  1.0000\n",
       "  1.0000  1.0000  0.7098  0.6941  1.0000  1.0000  1.0000  1.0000  1.0000\n",
       "  1.0000  1.0000  1.0000  1.0000  1.0000  1.0000  1.0000  1.0000  1.0000\n",
       "  1.0000  1.0000  1.0000  1.0000  1.0000  1.0000  1.0000  1.0000  1.0000\n",
       "  1.0000  1.0000  1.0000  1.0000  1.0000  1.0000  1.0000  1.0000  1.0000\n",
       "  1.0000  1.0000  1.0000  1.0000  1.0000  1.0000  1.0000  1.0000  1.0000\n",
       "  1.0000  1.0000  1.0000  1.0000  1.0000  1.0000  1.0000  1.0000  1.0000\n",
       "\n",
       "Columns 27 to 27 \n",
       "   1.0000\n",
       "  1.0000\n",
       "  1.0000\n",
       "  1.0000\n",
       "  1.0000\n",
       "  1.0000\n",
       "  1.0000\n",
       "  1.0000\n",
       "  1.0000\n",
       "  1.0000\n",
       "  1.0000\n",
       "  1.0000\n",
       "  1.0000\n",
       "  1.0000\n",
       "  1.0000\n",
       "  1.0000\n",
       "  1.0000\n",
       "  1.0000\n",
       "  1.0000\n",
       "  1.0000\n",
       "  1.0000\n",
       "  1.0000\n",
       "  1.0000\n",
       "  1.0000\n",
       "  1.0000\n",
       "  1.0000\n",
       "  1.0000\n",
       "  1.0000\n",
       "[torch.FloatTensor of size 1x28x28]"
      ]
     },
     "execution_count": 525,
     "metadata": {},
     "output_type": "execute_result"
    }
   ],
   "source": [
    "images[0]"
   ]
  },
  {
   "cell_type": "code",
   "execution_count": 544,
   "metadata": {
    "hidden": true
   },
   "outputs": [
    {
     "data": {
      "text/plain": [
       "<matplotlib.image.AxesImage at 0x13d35be80>"
      ]
     },
     "execution_count": 544,
     "metadata": {},
     "output_type": "execute_result"
    },
    {
     "data": {
      "image/png": "[encoded data removed]",
      "text/plain": [
       "<matplotlib.figure.Figure at 0x13d169278>"
      ]
     },
     "metadata": {},
     "output_type": "display_data"
    }
   ],
   "source": [
    "img = images[0]\n",
    "img = img / 2 + 0.5\n",
    "img = img.numpy()\n",
    "# img = np.transpose(img, (1,2,0))\n",
    "plt.imshow(img[0], cmap='gray')"
   ]
  },
  {
   "cell_type": "code",
   "execution_count": 536,
   "metadata": {
    "hidden": true
   },
   "outputs": [],
   "source": [
    "y = network(torch.autograd.Variable(images[0]))"
   ]
  },
  {
   "cell_type": "code",
   "execution_count": 545,
   "metadata": {
    "hidden": true
   },
   "outputs": [
    {
     "data": {
      "text/plain": [
       "Variable containing:\n",
       "\n",
       "Columns 0 to 7 \n",
       " -7.5255  -3.7893  -0.5199  -1.9057 -15.0865  -1.8598  -6.6464  -2.5998\n",
       "\n",
       "Columns 8 to 9 \n",
       " -6.1027 -15.6800\n",
       "[torch.FloatTensor of size 1x10]"
      ]
     },
     "execution_count": 545,
     "metadata": {},
     "output_type": "execute_result"
    }
   ],
   "source": [
    "y"
   ]
  },
  {
   "cell_type": "code",
   "execution_count": 538,
   "metadata": {
    "hidden": true
   },
   "outputs": [
    {
     "data": {
      "text/plain": [
       "(Variable containing:\n",
       " -0.5199\n",
       " [torch.FloatTensor of size 1], Variable containing:\n",
       "  2\n",
       " [torch.LongTensor of size 1])"
      ]
     },
     "execution_count": 538,
     "metadata": {},
     "output_type": "execute_result"
    }
   ],
   "source": [
    "torch.max(y, 1)"
   ]
  },
  {
   "cell_type": "code",
   "execution_count": 517,
   "metadata": {
    "hidden": true
   },
   "outputs": [],
   "source": [
    "dataiter = iter(testloader)\n",
    "images, labels = dataiter.next()"
   ]
  },
  {
   "cell_type": "code",
   "execution_count": 526,
   "metadata": {
    "hidden": true
   },
   "outputs": [],
   "source": [
    "x = dataiter.next()"
   ]
  },
  {
   "cell_type": "code",
   "execution_count": 371,
   "metadata": {
    "hidden": true,
    "scrolled": false
   },
   "outputs": [],
   "source": [
    "# x[0][0]"
   ]
  },
  {
   "cell_type": "code",
   "execution_count": null,
   "metadata": {
    "hidden": true
   },
   "outputs": [],
   "source": []
  },
  {
   "cell_type": "code",
   "execution_count": null,
   "metadata": {
    "hidden": true
   },
   "outputs": [],
   "source": []
  },
  {
   "cell_type": "code",
   "execution_count": 513,
   "metadata": {
    "hidden": true
   },
   "outputs": [
    {
     "data": {
      "text/plain": [
       "list"
      ]
     },
     "execution_count": 513,
     "metadata": {},
     "output_type": "execute_result"
    }
   ],
   "source": []
  },
  {
   "cell_type": "code",
   "execution_count": 492,
   "metadata": {
    "hidden": true
   },
   "outputs": [
    {
     "data": {
      "text/plain": [
       "<torch.utils.data.dataloader.DataLoader at 0x12c1c95f8>"
      ]
     },
     "execution_count": 492,
     "metadata": {},
     "output_type": "execute_result"
    }
   ],
   "source": [
    "testloader"
   ]
  },
  {
   "cell_type": "code",
   "execution_count": 493,
   "metadata": {
    "hidden": true
   },
   "outputs": [
    {
     "data": {
      "text/plain": [
       "<torchvision.datasets.mnist.MNIST at 0x12c1c99b0>"
      ]
     },
     "execution_count": 493,
     "metadata": {},
     "output_type": "execute_result"
    }
   ],
   "source": [
    "testset"
   ]
  },
  {
   "cell_type": "code",
   "execution_count": 372,
   "metadata": {
    "hidden": true
   },
   "outputs": [],
   "source": [
    "# custom_labels"
   ]
  },
  {
   "cell_type": "code",
   "execution_count": 467,
   "metadata": {
    "hidden": true
   },
   "outputs": [
    {
     "data": {
      "text/plain": [
       "3458764513820540928"
      ]
     },
     "execution_count": 467,
     "metadata": {},
     "output_type": "execute_result"
    }
   ],
   "source": [
    "custom_labels[0]"
   ]
  },
  {
   "cell_type": "code",
   "execution_count": 445,
   "metadata": {
    "hidden": true
   },
   "outputs": [
    {
     "data": {
      "text/plain": [
       "(28, 28)"
      ]
     },
     "execution_count": 445,
     "metadata": {},
     "output_type": "execute_result"
    }
   ],
   "source": [
    "custom_dataset = "
   ]
  },
  {
   "cell_type": "markdown",
   "metadata": {
    "hidden": true
   },
   "source": [
    "---\n",
    "\n",
    "**Misc**:"
   ]
  },
  {
   "cell_type": "code",
   "execution_count": 43,
   "metadata": {
    "hidden": true
   },
   "outputs": [
    {
     "name": "stdout",
     "output_type": "stream",
     "text": [
      "0 3072\n",
      "1 40\n",
      "2 10\n"
     ]
    }
   ],
   "source": [
    "for i, layer in enumerate(layers, start=0): # 2nd arg is index start count\n",
    "    print(i, layer)"
   ]
  },
  {
   "cell_type": "code",
   "execution_count": 48,
   "metadata": {
    "hidden": true
   },
   "outputs": [
    {
     "data": {
      "text/plain": [
       "1875"
      ]
     },
     "execution_count": 48,
     "metadata": {},
     "output_type": "execute_result"
    }
   ],
   "source": [
    "len(trainloader)"
   ]
  },
  {
   "cell_type": "code",
   "execution_count": 52,
   "metadata": {
    "hidden": true
   },
   "outputs": [
    {
     "data": {
      "text/plain": [
       "32"
      ]
     },
     "execution_count": 52,
     "metadata": {},
     "output_type": "execute_result"
    }
   ],
   "source": [
    "trainloader.batch_size"
   ]
  },
  {
   "cell_type": "code",
   "execution_count": 54,
   "metadata": {
    "hidden": true
   },
   "outputs": [
    {
     "data": {
      "text/plain": [
       "(<PIL.Image.Image image mode=L size=28x28 at 0x12D0CBD68>, 5)"
      ]
     },
     "execution_count": 54,
     "metadata": {},
     "output_type": "execute_result"
    }
   ],
   "source": [
    "trainloader.dataset[0]"
   ]
  },
  {
   "cell_type": "code",
   "execution_count": 64,
   "metadata": {
    "hidden": true,
    "scrolled": false
   },
   "outputs": [
    {
     "data": {
      "image/png": "[encoded data removed]",
      "text/plain": [
       "<PIL.Image.Image image mode=L size=28x28 at 0x12BFB8160>"
      ]
     },
     "execution_count": 64,
     "metadata": {},
     "output_type": "execute_result"
    }
   ],
   "source": [
    "trainloader.dataset[0][0]"
   ]
  },
  {
   "cell_type": "code",
   "execution_count": 65,
   "metadata": {
    "hidden": true
   },
   "outputs": [
    {
     "data": {
      "image/png": "[encoded data removed]",
      "text/plain": [
       "<PIL.Image.Image image mode=L size=28x28 at 0x12BFB8128>"
      ]
     },
     "execution_count": 65,
     "metadata": {},
     "output_type": "execute_result"
    }
   ],
   "source": [
    "trainloader.dataset[1][0]"
   ]
  }
 ],
 "metadata": {
  "kernelspec": {
   "display_name": "Python 3 (FastAI)",
   "language": "python",
   "name": "fastai"
  },
  "language_info": {
   "codemirror_mode": {
    "name": "ipython",
    "version": 3
   },
   "file_extension": ".py",
   "mimetype": "text/x-python",
   "name": "python",
   "nbconvert_exporter": "python",
   "pygments_lexer": "ipython3",
   "version": "3.6.4"
  }
 },
 "nbformat": 4,
 "nbformat_minor": 2
}
