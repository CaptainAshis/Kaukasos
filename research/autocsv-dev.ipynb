{
 "cells": [
  {
   "cell_type": "markdown",
   "metadata": {},
   "source": [
    "# AutoCSV Dev\n",
    "\n",
    "WNixalo –– 2018/6/2-3"
   ]
  },
  {
   "cell_type": "code",
   "execution_count": 1,
   "metadata": {},
   "outputs": [],
   "source": [
    "%matplotlib inline\n",
    "%reload_ext autoreload\n",
    "%autoreload 2"
   ]
  },
  {
   "cell_type": "code",
   "execution_count": 2,
   "metadata": {},
   "outputs": [],
   "source": [
    "from pathlib import Path\n",
    "import numpy as np\n",
    "import pandas as pd\n",
    "import os\n",
    "import matplotlib.pyplot as plt\n",
    "\n",
    "from cifar_utils import count_files"
   ]
  },
  {
   "cell_type": "code",
   "execution_count": 3,
   "metadata": {},
   "outputs": [],
   "source": [
    "PATH = Path('data/cifar10')"
   ]
  },
  {
   "cell_type": "markdown",
   "metadata": {},
   "source": [
    "## Dataset Population"
   ]
  },
  {
   "cell_type": "code",
   "execution_count": 4,
   "metadata": {},
   "outputs": [
    {
     "data": {
      "text/plain": [
       "['airplane',\n",
       " 'automobile',\n",
       " 'bird',\n",
       " 'cat',\n",
       " 'deer',\n",
       " 'dog',\n",
       " 'frog',\n",
       " 'horse',\n",
       " 'ship',\n",
       " 'truck']"
      ]
     },
     "execution_count": 4,
     "metadata": {},
     "output_type": "execute_result"
    }
   ],
   "source": [
    "with open(PATH/'labels.txt') as f:\n",
    "    text = f.read()\n",
    "# print(text)\n",
    "cats = text.split('\\n')[:-1]\n",
    "cats"
   ]
  },
  {
   "cell_type": "code",
   "execution_count": 5,
   "metadata": {},
   "outputs": [
    {
     "data": {
      "text/plain": [
       "{'airplane': 4250,\n",
       " 'automobile': 4250,\n",
       " 'bird': 4250,\n",
       " 'cat': 4250,\n",
       " 'deer': 4250,\n",
       " 'dog': 4250,\n",
       " 'frog': 4250,\n",
       " 'horse': 4250,\n",
       " 'ship': 4250,\n",
       " 'truck': 4250}"
      ]
     },
     "execution_count": 5,
     "metadata": {},
     "output_type": "execute_result"
    }
   ],
   "source": [
    "cat_pops = {cat:count_files(PATH/'train'/cat) for cat in cats}\n",
    "cat_pops"
   ]
  },
  {
   "cell_type": "code",
   "execution_count": 6,
   "metadata": {},
   "outputs": [],
   "source": [
    "cols = dict()\n",
    "cols['cat'],cols['pop'] = zip(*cat_pops.items())"
   ]
  },
  {
   "cell_type": "code",
   "execution_count": 7,
   "metadata": {},
   "outputs": [
    {
     "data": {
      "text/html": [
       "<div>\n",
       "<style scoped>\n",
       "    .dataframe tbody tr th:only-of-type {\n",
       "        vertical-align: middle;\n",
       "    }\n",
       "\n",
       "    .dataframe tbody tr th {\n",
       "        vertical-align: top;\n",
       "    }\n",
       "\n",
       "    .dataframe thead th {\n",
       "        text-align: right;\n",
       "    }\n",
       "</style>\n",
       "<table border=\"1\" class=\"dataframe\">\n",
       "  <thead>\n",
       "    <tr style=\"text-align: right;\">\n",
       "      <th></th>\n",
       "      <th>cat</th>\n",
       "      <th>pop</th>\n",
       "    </tr>\n",
       "  </thead>\n",
       "  <tbody>\n",
       "    <tr>\n",
       "      <th>0</th>\n",
       "      <td>airplane</td>\n",
       "      <td>4250</td>\n",
       "    </tr>\n",
       "    <tr>\n",
       "      <th>1</th>\n",
       "      <td>automobile</td>\n",
       "      <td>4250</td>\n",
       "    </tr>\n",
       "    <tr>\n",
       "      <th>2</th>\n",
       "      <td>bird</td>\n",
       "      <td>4250</td>\n",
       "    </tr>\n",
       "    <tr>\n",
       "      <th>3</th>\n",
       "      <td>cat</td>\n",
       "      <td>4250</td>\n",
       "    </tr>\n",
       "    <tr>\n",
       "      <th>4</th>\n",
       "      <td>deer</td>\n",
       "      <td>4250</td>\n",
       "    </tr>\n",
       "  </tbody>\n",
       "</table>\n",
       "</div>"
      ],
      "text/plain": [
       "          cat   pop\n",
       "0    airplane  4250\n",
       "1  automobile  4250\n",
       "2        bird  4250\n",
       "3         cat  4250\n",
       "4        deer  4250"
      ]
     },
     "execution_count": 7,
     "metadata": {},
     "output_type": "execute_result"
    }
   ],
   "source": [
    "df = pd.DataFrame(cols)\n",
    "df.head()"
   ]
  },
  {
   "cell_type": "code",
   "execution_count": 8,
   "metadata": {},
   "outputs": [
    {
     "data": {
      "text/plain": [
       "(4250.0, 0.0)"
      ]
     },
     "execution_count": 8,
     "metadata": {},
     "output_type": "execute_result"
    },
    {
     "data": {
      "image/png": "[encoded data removed]",
      "text/plain": [
       "<Figure size 432x288 with 1 Axes>"
      ]
     },
     "metadata": {},
     "output_type": "display_data"
    }
   ],
   "source": [
    "df.plot.bar(x=df[df.columns[0]], ylim=(0,1.2*df[df.columns[1]].values.max()), \n",
    "            yerr=max(df.mean()[0]*0.005, df.std()[0]), alpha=.8)\n",
    "df.mean()[0], df.std()[0]"
   ]
  },
  {
   "cell_type": "markdown",
   "metadata": {},
   "source": [
    "### Uneven data set:"
   ]
  },
  {
   "cell_type": "code",
   "execution_count": 9,
   "metadata": {},
   "outputs": [],
   "source": [
    "def plot_pops(df, print_ms=True):\n",
    "    if print_ms: print(f\"{df.mean()[0]:.2f} {df.std()[0]:.2f}\")\n",
    "    df.plot.bar(x=df[df.columns[0]], ylim=(0,1.2*df[df.columns[1]].values.max()), \n",
    "            yerr=max(df.mean()[0]*0.005, df.std()[0]), alpha=.8)\n",
    "    df.mean()[0], df.std()[0]"
   ]
  },
  {
   "cell_type": "code",
   "execution_count": 10,
   "metadata": {},
   "outputs": [],
   "source": [
    "df_backup = df.copy()"
   ]
  },
  {
   "cell_type": "code",
   "execution_count": 11,
   "metadata": {},
   "outputs": [
    {
     "data": {
      "text/plain": [
       "2125"
      ]
     },
     "execution_count": 11,
     "metadata": {},
     "output_type": "execute_result"
    }
   ],
   "source": [
    "# df.at[2,'cat'] # equals 'bird'\n",
    "df.at[2, 'pop'] /= 2 # 4250 -> 2125\n",
    "df.at[2,'pop'] # for editing df values see: https://stackoverflow.com/a/13842286"
   ]
  },
  {
   "cell_type": "code",
   "execution_count": 12,
   "metadata": {},
   "outputs": [
    {
     "name": "stdout",
     "output_type": "stream",
     "text": [
      "4037.50 671.98\n"
     ]
    },
    {
     "data": {
      "image/png": "[encoded data removed]",
      "text/plain": [
       "<Figure size 432x288 with 1 Axes>"
      ]
     },
     "metadata": {},
     "output_type": "display_data"
    }
   ],
   "source": [
    "plot_pops(df)"
   ]
  },
  {
   "cell_type": "code",
   "execution_count": 13,
   "metadata": {},
   "outputs": [
    {
     "data": {
      "text/plain": [
       "671.9840027857806"
      ]
     },
     "execution_count": 13,
     "metadata": {},
     "output_type": "execute_result"
    }
   ],
   "source": [
    "df.std()[0]"
   ]
  },
  {
   "cell_type": "markdown",
   "metadata": {},
   "source": [
    "## AutoCSV"
   ]
  },
  {
   "cell_type": "code",
   "execution_count": 14,
   "metadata": {},
   "outputs": [],
   "source": [
    "# generate a csv from a dataset\n",
    "def generate_csv(path, labelmap=None, folder='train'):\n",
    "    \"\"\"Infers a csv from directory structure. \n",
    "       `labelmap` is a dictionary mapping class folders to class names.\n",
    "       Class names are taken from class folder names if no mapping is provided.\n",
    "       For Single-Category Classification.\n",
    "    \"\"\"\n",
    "    # find categories\n",
    "    catfolders = [f for f in os.listdir(path/folder) if (path/folder/f).is_dir()]\n",
    "    if labelmap is None: labelmap = {cf:cf for cf in catfolders}\n",
    "\n",
    "    rows = []\n",
    "\n",
    "    for cat in catfolders:\n",
    "        catpath = path/folder/cat\n",
    "        fpaths  = list(map(lambda x: cat+'/'+x, os.listdir(catpath)))\n",
    "        rows.extend(list(zip(fpaths,[labelmap[cat] for i in range(len(fpaths))])))\n",
    "\n",
    "    df = pd.DataFrame(rows, columns=['file','class'])\n",
    "    return df"
   ]
  },
  {
   "cell_type": "code",
   "execution_count": 15,
   "metadata": {},
   "outputs": [
    {
     "name": "stdout",
     "output_type": "stream",
     "text": [
      "CPU times: user 68.8 ms, sys: 52.1 ms, total: 121 ms\n",
      "Wall time: 122 ms\n"
     ]
    }
   ],
   "source": [
    "%%time\n",
    "csv = generate_csv(PATH)"
   ]
  },
  {
   "cell_type": "code",
   "execution_count": 16,
   "metadata": {},
   "outputs": [
    {
     "data": {
      "text/html": [
       "<div>\n",
       "<style scoped>\n",
       "    .dataframe tbody tr th:only-of-type {\n",
       "        vertical-align: middle;\n",
       "    }\n",
       "\n",
       "    .dataframe tbody tr th {\n",
       "        vertical-align: top;\n",
       "    }\n",
       "\n",
       "    .dataframe thead th {\n",
       "        text-align: right;\n",
       "    }\n",
       "</style>\n",
       "<table border=\"1\" class=\"dataframe\">\n",
       "  <thead>\n",
       "    <tr style=\"text-align: right;\">\n",
       "      <th></th>\n",
       "      <th>file</th>\n",
       "      <th>class</th>\n",
       "    </tr>\n",
       "  </thead>\n",
       "  <tbody>\n",
       "    <tr>\n",
       "      <th>6483</th>\n",
       "      <td>dog/20688_dog.png</td>\n",
       "      <td>dog</td>\n",
       "    </tr>\n",
       "    <tr>\n",
       "      <th>12388</th>\n",
       "      <td>truck/1602_truck.png</td>\n",
       "      <td>truck</td>\n",
       "    </tr>\n",
       "    <tr>\n",
       "      <th>16061</th>\n",
       "      <td>bird/14294_bird.png</td>\n",
       "      <td>bird</td>\n",
       "    </tr>\n",
       "    <tr>\n",
       "      <th>18073</th>\n",
       "      <td>airplane/18106_airplane.png</td>\n",
       "      <td>airplane</td>\n",
       "    </tr>\n",
       "    <tr>\n",
       "      <th>42118</th>\n",
       "      <td>automobile/46162_automobile.png</td>\n",
       "      <td>automobile</td>\n",
       "    </tr>\n",
       "    <tr>\n",
       "      <th>39891</th>\n",
       "      <td>automobile/33188_automobile.png</td>\n",
       "      <td>automobile</td>\n",
       "    </tr>\n",
       "    <tr>\n",
       "      <th>17797</th>\n",
       "      <td>airplane/38187_airplane.png</td>\n",
       "      <td>airplane</td>\n",
       "    </tr>\n",
       "    <tr>\n",
       "      <th>1668</th>\n",
       "      <td>cat/45885_cat.png</td>\n",
       "      <td>cat</td>\n",
       "    </tr>\n",
       "    <tr>\n",
       "      <th>22111</th>\n",
       "      <td>ship/24451_ship.png</td>\n",
       "      <td>ship</td>\n",
       "    </tr>\n",
       "    <tr>\n",
       "      <th>13452</th>\n",
       "      <td>bird/37374_bird.png</td>\n",
       "      <td>bird</td>\n",
       "    </tr>\n",
       "  </tbody>\n",
       "</table>\n",
       "</div>"
      ],
      "text/plain": [
       "                                  file       class\n",
       "6483                 dog/20688_dog.png         dog\n",
       "12388             truck/1602_truck.png       truck\n",
       "16061              bird/14294_bird.png        bird\n",
       "18073      airplane/18106_airplane.png    airplane\n",
       "42118  automobile/46162_automobile.png  automobile\n",
       "39891  automobile/33188_automobile.png  automobile\n",
       "17797      airplane/38187_airplane.png    airplane\n",
       "1668                 cat/45885_cat.png         cat\n",
       "22111              ship/24451_ship.png        ship\n",
       "13452              bird/37374_bird.png        bird"
      ]
     },
     "execution_count": 16,
     "metadata": {},
     "output_type": "execute_result"
    }
   ],
   "source": [
    "csv.sample(n=10)"
   ]
  },
  {
   "cell_type": "markdown",
   "metadata": {},
   "source": [
    "## CSV-based Pop Counting"
   ]
  },
  {
   "cell_type": "code",
   "execution_count": 17,
   "metadata": {},
   "outputs": [],
   "source": [
    "def pops_from_df(df, catdx=1, colnames=['cat','pop']):\n",
    "    \"\"\"Extracts category populations from a DataFrame.\n",
    "       If `colnames=None`: returns a dictionary, otherwise\n",
    "       a dataframe with `colnames` columns.\n",
    "    \"\"\"\n",
    "    catcol = df.columns[catdx] # prevsly: y = df.columns[ydx]\n",
    "    cats = df[catcol].unique()\n",
    "    pops = [df[df[catcol]==cat].count()[0] for cat in cats] # prevsly: y -> catcol\n",
    "    cat_pops = {cat:pop for cat,pop in zip(cats,pops)}\n",
    "    \n",
    "    if colnames:\n",
    "        cat_pops = list(zip(cats,pops))\n",
    "        cat_pops = pd.DataFrame(cat_pops, columns=colnames)\n",
    "    else:\n",
    "        cat_pops = {cat:pop for cat,pop in zip(cats,pops)}\n",
    "    \n",
    "    return cat_pops"
   ]
  },
  {
   "cell_type": "code",
   "execution_count": 18,
   "metadata": {},
   "outputs": [
    {
     "data": {
      "text/plain": [
       "{'cat': 4250,\n",
       " 'dog': 4250,\n",
       " 'truck': 4250,\n",
       " 'bird': 4250,\n",
       " 'airplane': 4250,\n",
       " 'ship': 4250,\n",
       " 'frog': 4250,\n",
       " 'horse': 4250,\n",
       " 'deer': 4250,\n",
       " 'automobile': 4250}"
      ]
     },
     "execution_count": 18,
     "metadata": {},
     "output_type": "execute_result"
    }
   ],
   "source": [
    "pops_from_df(csv, colnames=None)"
   ]
  },
  {
   "cell_type": "code",
   "execution_count": 19,
   "metadata": {},
   "outputs": [
    {
     "name": "stdout",
     "output_type": "stream",
     "text": [
      "4250.00 0.00\n"
     ]
    },
    {
     "data": {
      "image/png": "[encoded data removed]",
      "text/plain": [
       "<Figure size 432x288 with 1 Axes>"
      ]
     },
     "metadata": {},
     "output_type": "display_data"
    }
   ],
   "source": [
    "plot_pops(pops_from_df(csv))"
   ]
  },
  {
   "cell_type": "markdown",
   "metadata": {},
   "source": [
    "## CSV sampling\n",
    "\n",
    "Retreive a portion of the csv"
   ]
  },
  {
   "cell_type": "code",
   "execution_count": 20,
   "metadata": {},
   "outputs": [],
   "source": [
    "def csv_subset(df, catdx=1, p=0.5):\n",
    "    \"\"\"Returns a percetnage of the original dataset, sampled uniformly by category.\"\"\"\n",
    "    if type(p)==int: p /= df.count()\n",
    "    \n",
    "    catcol = df.columns[catdx]\n",
    "    cats   = df[catcol].unique()\n",
    "    df_slice  = df[catcol]\n",
    "    keep_idxs = np.array([], dtype=np.int64)\n",
    "    \n",
    "    for cat in cats:\n",
    "        cat_idxs = np.where(df_slice==cat)[0]\n",
    "        n = max(1, int(len(cat_idxs)*p))\n",
    "        keep_idxs = np.concatenate((keep_idxs, np.random.choice(cat_idxs, size=n, replace=False)))\n",
    "    \n",
    "    return df.iloc[keep_idxs]"
   ]
  },
  {
   "cell_type": "code",
   "execution_count": 410,
   "metadata": {},
   "outputs": [
    {
     "data": {
      "text/plain": [
       "42500"
      ]
     },
     "execution_count": 410,
     "metadata": {},
     "output_type": "execute_result"
    }
   ],
   "source": [
    "full_df  = generate_csv(PATH)\n",
    "cat_pops = pops_from_df(full_df)\n",
    "\n",
    "full_df.count()[0]"
   ]
  },
  {
   "cell_type": "code",
   "execution_count": 411,
   "metadata": {},
   "outputs": [
    {
     "data": {
      "text/plain": [
       "21250"
      ]
     },
     "execution_count": 411,
     "metadata": {},
     "output_type": "execute_result"
    }
   ],
   "source": [
    "new_csv = csv_subset(full_df)\n",
    "new_csv.count()[0]"
   ]
  },
  {
   "cell_type": "code",
   "execution_count": 412,
   "metadata": {},
   "outputs": [
    {
     "data": {
      "text/html": [
       "<div>\n",
       "<style scoped>\n",
       "    .dataframe tbody tr th:only-of-type {\n",
       "        vertical-align: middle;\n",
       "    }\n",
       "\n",
       "    .dataframe tbody tr th {\n",
       "        vertical-align: top;\n",
       "    }\n",
       "\n",
       "    .dataframe thead th {\n",
       "        text-align: right;\n",
       "    }\n",
       "</style>\n",
       "<table border=\"1\" class=\"dataframe\">\n",
       "  <thead>\n",
       "    <tr style=\"text-align: right;\">\n",
       "      <th></th>\n",
       "      <th>cat</th>\n",
       "      <th>pop</th>\n",
       "    </tr>\n",
       "  </thead>\n",
       "  <tbody>\n",
       "    <tr>\n",
       "      <th>0</th>\n",
       "      <td>cat</td>\n",
       "      <td>2125</td>\n",
       "    </tr>\n",
       "    <tr>\n",
       "      <th>1</th>\n",
       "      <td>dog</td>\n",
       "      <td>2125</td>\n",
       "    </tr>\n",
       "    <tr>\n",
       "      <th>2</th>\n",
       "      <td>truck</td>\n",
       "      <td>2125</td>\n",
       "    </tr>\n",
       "    <tr>\n",
       "      <th>3</th>\n",
       "      <td>bird</td>\n",
       "      <td>2125</td>\n",
       "    </tr>\n",
       "    <tr>\n",
       "      <th>4</th>\n",
       "      <td>airplane</td>\n",
       "      <td>2125</td>\n",
       "    </tr>\n",
       "    <tr>\n",
       "      <th>5</th>\n",
       "      <td>ship</td>\n",
       "      <td>2125</td>\n",
       "    </tr>\n",
       "    <tr>\n",
       "      <th>6</th>\n",
       "      <td>frog</td>\n",
       "      <td>2125</td>\n",
       "    </tr>\n",
       "    <tr>\n",
       "      <th>7</th>\n",
       "      <td>horse</td>\n",
       "      <td>2125</td>\n",
       "    </tr>\n",
       "    <tr>\n",
       "      <th>8</th>\n",
       "      <td>deer</td>\n",
       "      <td>2125</td>\n",
       "    </tr>\n",
       "    <tr>\n",
       "      <th>9</th>\n",
       "      <td>automobile</td>\n",
       "      <td>2125</td>\n",
       "    </tr>\n",
       "  </tbody>\n",
       "</table>\n",
       "</div>"
      ],
      "text/plain": [
       "          cat   pop\n",
       "0         cat  2125\n",
       "1         dog  2125\n",
       "2       truck  2125\n",
       "3        bird  2125\n",
       "4    airplane  2125\n",
       "5        ship  2125\n",
       "6        frog  2125\n",
       "7       horse  2125\n",
       "8        deer  2125\n",
       "9  automobile  2125"
      ]
     },
     "execution_count": 412,
     "metadata": {},
     "output_type": "execute_result"
    }
   ],
   "source": [
    "pops_from_df(new_csv)"
   ]
  },
  {
   "cell_type": "code",
   "execution_count": 413,
   "metadata": {},
   "outputs": [
    {
     "data": {
      "text/html": [
       "<div>\n",
       "<style scoped>\n",
       "    .dataframe tbody tr th:only-of-type {\n",
       "        vertical-align: middle;\n",
       "    }\n",
       "\n",
       "    .dataframe tbody tr th {\n",
       "        vertical-align: top;\n",
       "    }\n",
       "\n",
       "    .dataframe thead th {\n",
       "        text-align: right;\n",
       "    }\n",
       "</style>\n",
       "<table border=\"1\" class=\"dataframe\">\n",
       "  <thead>\n",
       "    <tr style=\"text-align: right;\">\n",
       "      <th></th>\n",
       "      <th>file</th>\n",
       "      <th>class</th>\n",
       "    </tr>\n",
       "  </thead>\n",
       "  <tbody>\n",
       "    <tr>\n",
       "      <th>2311</th>\n",
       "      <td>cat/14032_cat.png</td>\n",
       "      <td>cat</td>\n",
       "    </tr>\n",
       "    <tr>\n",
       "      <th>3438</th>\n",
       "      <td>cat/6348_cat.png</td>\n",
       "      <td>cat</td>\n",
       "    </tr>\n",
       "    <tr>\n",
       "      <th>2914</th>\n",
       "      <td>cat/38894_cat.png</td>\n",
       "      <td>cat</td>\n",
       "    </tr>\n",
       "    <tr>\n",
       "      <th>3382</th>\n",
       "      <td>cat/18582_cat.png</td>\n",
       "      <td>cat</td>\n",
       "    </tr>\n",
       "    <tr>\n",
       "      <th>80</th>\n",
       "      <td>cat/11476_cat.png</td>\n",
       "      <td>cat</td>\n",
       "    </tr>\n",
       "  </tbody>\n",
       "</table>\n",
       "</div>"
      ],
      "text/plain": [
       "                   file class\n",
       "2311  cat/14032_cat.png   cat\n",
       "3438   cat/6348_cat.png   cat\n",
       "2914  cat/38894_cat.png   cat\n",
       "3382  cat/18582_cat.png   cat\n",
       "80    cat/11476_cat.png   cat"
      ]
     },
     "execution_count": 413,
     "metadata": {},
     "output_type": "execute_result"
    }
   ],
   "source": [
    "new_csv.head()"
   ]
  },
  {
   "cell_type": "code",
   "execution_count": 421,
   "metadata": {},
   "outputs": [
    {
     "data": {
      "text/plain": [
       "(2125,)"
      ]
     },
     "execution_count": 421,
     "metadata": {},
     "output_type": "execute_result"
    }
   ],
   "source": [
    "np.unique(new_csv[new_csv['class']=='cat'].as_matrix()[:,0]).shape # check: no repeats"
   ]
  },
  {
   "cell_type": "markdown",
   "metadata": {},
   "source": [
    "## Dataset Smoothing\n",
    "\n",
    "\"Smooth\" out category populations to within a specified standard deviation."
   ]
  },
  {
   "cell_type": "code",
   "execution_count": 950,
   "metadata": {},
   "outputs": [],
   "source": [
    "def smooth_csv_dataset(df, eps=0.1, full_df=None, catdx=1):\n",
    "    \"\"\"'Smooths' out a dataset by adding copied samples.\n",
    "    \n",
    "        For use with single-label classification (2-column) CSVs.\"\"\"\n",
    "    \n",
    "    # result DF and sampling DF\n",
    "    new_df  = df.copy()\n",
    "    full_df = df if full_df is None else full_df\n",
    "    # get category column name\n",
    "    catcol = df.columns[catdx]\n",
    "    \n",
    "    # get category populations & calculate desired range\n",
    "    cat_pops = pops_from_df(df)\n",
    "    c_totals = cat_pops.as_matrix(columns=['pop'])\n",
    "    sd       = eps * c_totals.mean()\n",
    "    # Normalize category sizes\n",
    "    c_norm     = c_totals/c_totals.max()\n",
    "    new_mean   = c_totals.max() - sd\n",
    "    new_totals = (2*sd * c_norm + (new_mean - sd)).astype(int)\n",
    "    \n",
    "    # Increase category sizes by differences\n",
    "    diffs     = new_totals - c_totals\n",
    "    cats      = cat_pops['cat'].values\n",
    "    copy_idxs = []\n",
    "    \n",
    "    for i,cat in enumerate(cats):\n",
    "        diff         = diffs[i]\n",
    "        cat_idxs     = np.where(full_df[catcol]==cat)[0]\n",
    "        full_cat_pop = len(cat_idxs)\n",
    "        \n",
    "        # if the difference is more than Nx greater, copy the whole category N times\n",
    "        if diff > full_cat_pop:\n",
    "            n_copy = int(diff) // full_cat_pop\n",
    "            diff  -= n_copy * full_cat_pop\n",
    "            for i in range(n_copy): copy_idxs.extend(cat_idxs)\n",
    "        copy_idxs.extend(np.random.choice(cat_idxs, size=diff, replace=False))\n",
    "    \n",
    "    copy_rows = full_df.iloc[copy_idxs]\n",
    "    new_df    = new_df.append(copy_rows)\n",
    "    \n",
    "    return new_df"
   ]
  },
  {
   "cell_type": "code",
   "execution_count": 959,
   "metadata": {},
   "outputs": [],
   "source": [
    "def basic_plot2(c_totals=c_totals, sd=sd, oldmean=None, catlist=None):\n",
    "    sa,mean = c_totals.std(),c_totals.mean() if oldmean is None else oldmean\n",
    "    plt.bar(x=range(len(c_totals)),height=c_totals, alpha=0.4, color='k');\n",
    "    plt.axhline(y=mean,c='r'); plt.axhline(y=mean+sd,c='k'); plt.axhline(y=mean-sd,c='k');\n",
    "    if catlist is not None: plt.xticks(range(len(c_totals)), catlist, rotation=90)\n",
    "    print(mean, (sd, sa))\n",
    "    print(c_totals)"
   ]
  },
  {
   "cell_type": "markdown",
   "metadata": {},
   "source": [
    "Makes this:"
   ]
  },
  {
   "cell_type": "code",
   "execution_count": 963,
   "metadata": {},
   "outputs": [
    {
     "name": "stdout",
     "output_type": "stream",
     "text": [
      "476.5 (47.650000000000006, 81.13599694340361)\n",
      "[517 513 497 477 510 500 514 236 487 514]\n"
     ]
    },
    {
     "data": {
      "image/png": "[encoded data removed]",
      "text/plain": [
       "<Figure size 432x288 with 1 Axes>"
      ]
     },
     "metadata": {},
     "output_type": "display_data"
    }
   ],
   "source": [
    "df = generate_csv(PATH)\n",
    "\n",
    "skewed_df = df.sample(n=5000)\n",
    "drop_idxs = np.where(skewed_df['class']=='airplane')[0]\n",
    "drop_idxs = np.random.choice(drop_idxs, size=len(drop_idxs)//2, replace=False)\n",
    "skewed_df.drop(skewed_df.index[drop_idxs], inplace=True)\n",
    "\n",
    "cat_pops = pops_from_df(skewed_df)\n",
    "c_totals = cat_pops.as_matrix(columns=['pop'])\n",
    "catlist  = cat_pops.as_matrix(columns=['cat'])\n",
    "\n",
    "eps = 0.1; sd = c_totals.mean()*eps\n",
    "\n",
    "basic_plot2(c_totals=c_totals[:,0],sd=sd,catlist=catlist[:,0])"
   ]
  },
  {
   "cell_type": "markdown",
   "metadata": {},
   "source": [
    "Become this:"
   ]
  },
  {
   "cell_type": "code",
   "execution_count": 975,
   "metadata": {},
   "outputs": [
    {
     "name": "stdout",
     "output_type": "stream",
     "text": [
      "509.1 (47.650000000000006, 14.895972610071489)\n",
      "[517 516 513 509 515 513 516 465 511 516]\n"
     ]
    },
    {
     "data": {
      "image/png": "[encoded data removed]",
      "text/plain": [
       "<Figure size 432x288 with 1 Axes>"
      ]
     },
     "metadata": {},
     "output_type": "display_data"
    }
   ],
   "source": [
    "smoothed_df = smooth_csv_dataset(skewed_df, eps=eps, full_df=df)\n",
    "\n",
    "cat_pops = pops_from_df(smoothed_df)\n",
    "c_totals = cat_pops.as_matrix(columns=['pop'])\n",
    "catlist  = cat_pops.as_matrix(columns=['cat'])\n",
    "\n",
    "basic_plot2(c_totals=c_totals[:,0], sd=sd, catlist=catlist[:,0])"
   ]
  },
  {
   "cell_type": "markdown",
   "metadata": {},
   "source": [
    "Looking at it another way:"
   ]
  },
  {
   "cell_type": "code",
   "execution_count": 976,
   "metadata": {},
   "outputs": [
    {
     "name": "stdout",
     "output_type": "stream",
     "text": [
      "469.35 (47.650000000000006, 14.895972610071489)\n",
      "[517 516 513 509 515 513 516 465 511 516]\n"
     ]
    },
    {
     "data": {
      "image/png": "[encoded data removed]",
      "text/plain": [
       "<Figure size 432x288 with 1 Axes>"
      ]
     },
     "metadata": {},
     "output_type": "display_data"
    }
   ],
   "source": [
    "basic_plot2(c_totals=c_totals[:,0], sd=sd, catlist=catlist[:,0], oldmean=c_totals.max()-sd)"
   ]
  },
  {
   "cell_type": "markdown",
   "metadata": {
    "heading_collapsed": true
   },
   "source": [
    "### Manual prototyping:"
   ]
  },
  {
   "cell_type": "markdown",
   "metadata": {
    "hidden": true
   },
   "source": [
    "New algorithm:\n",
    "```\n",
    "set max to max category.\n",
    "calculate new mean as 1 σδ below max.\n",
    "normalize dataset to 1 σδ of new mean.\n",
    "```\n",
    "\n",
    "normalization:\n",
    "- todo"
   ]
  },
  {
   "cell_type": "code",
   "execution_count": 462,
   "metadata": {
    "hidden": true
   },
   "outputs": [],
   "source": [
    "def basic_plot():\n",
    "    mean,sa = c_totals.mean(),c_totals.std()\n",
    "    plt.bar(x=range(len(c_totals)),height=c_totals, alpha=0.4, color='k');\n",
    "    plt.axhline(y=mean,c='r'); plt.axhline(y=mean+sd,c='k'); plt.axhline(y=mean-sd,c='k');\n",
    "    print(mean, (sd, sa))\n",
    "    print(c_totals)"
   ]
  },
  {
   "cell_type": "code",
   "execution_count": 500,
   "metadata": {
    "hidden": true
   },
   "outputs": [],
   "source": [
    "df = generate_csv(PATH)"
   ]
  },
  {
   "cell_type": "markdown",
   "metadata": {
    "hidden": true
   },
   "source": [
    "Getting a 'skewed' dataset from the original DataFrame"
   ]
  },
  {
   "cell_type": "code",
   "execution_count": 556,
   "metadata": {
    "hidden": true
   },
   "outputs": [
    {
     "data": {
      "text/plain": [
       "(500.0, 22.181073012818835)"
      ]
     },
     "execution_count": 556,
     "metadata": {},
     "output_type": "execute_result"
    }
   ],
   "source": [
    "skewed_df = df.sample(n=5000)\n",
    "counts = pops_from_df(skewed_df); counts.mean()[0], counts.std()[0]"
   ]
  },
  {
   "cell_type": "code",
   "execution_count": 557,
   "metadata": {
    "hidden": true
   },
   "outputs": [
    {
     "data": {
      "text/plain": [
       "(532,)"
      ]
     },
     "execution_count": 557,
     "metadata": {},
     "output_type": "execute_result"
    }
   ],
   "source": [
    "drop_idxs = np.where(skewed_df['class']=='dog')[0]\n",
    "drop_idxs.shape"
   ]
  },
  {
   "cell_type": "code",
   "execution_count": 558,
   "metadata": {
    "hidden": true
   },
   "outputs": [
    {
     "data": {
      "text/plain": [
       "(266,)"
      ]
     },
     "execution_count": 558,
     "metadata": {},
     "output_type": "execute_result"
    }
   ],
   "source": [
    "drop_idxs = np.random.choice(drop_idxs, size=len(drop_idxs)//2, replace=False)\n",
    "drop_idxs.shape"
   ]
  },
  {
   "cell_type": "code",
   "execution_count": 584,
   "metadata": {
    "hidden": true
   },
   "outputs": [
    {
     "data": {
      "text/plain": [
       "(4734, 266)"
      ]
     },
     "execution_count": 584,
     "metadata": {},
     "output_type": "execute_result"
    }
   ],
   "source": [
    "skewed_df.drop(skewed_df.index[drop_idxs], inplace=True)\n",
    "skewed_df.count()[0], np.where(skewed_df['class']=='dog')[0].shape[0]"
   ]
  },
  {
   "cell_type": "code",
   "execution_count": 608,
   "metadata": {
    "hidden": true
   },
   "outputs": [
    {
     "name": "stdout",
     "output_type": "stream",
     "text": [
      "473.40 75.34\n"
     ]
    },
    {
     "data": {
      "image/png": "[encoded data removed]",
      "text/plain": [
       "<Figure size 432x288 with 1 Axes>"
      ]
     },
     "metadata": {},
     "output_type": "display_data"
    }
   ],
   "source": [
    "plot_pops(pops_from_df(skewed_df))"
   ]
  },
  {
   "cell_type": "markdown",
   "metadata": {
    "hidden": true
   },
   "source": [
    "In this case with an ε of 10%, we'd want a standard deviation of about 47. It's currently at 75.\n",
    "\n",
    "Modifying the algorithm to work on dataframes instead of integer arrays:"
   ]
  },
  {
   "cell_type": "code",
   "execution_count": 610,
   "metadata": {
    "hidden": true
   },
   "outputs": [],
   "source": [
    "eps = 0.1\n",
    "\n",
    "cat_pops = pops_from_df(skewed_df)\n",
    "c_totals = cat_pops.as_matrix(columns=['pop'])"
   ]
  },
  {
   "cell_type": "markdown",
   "metadata": {
    "hidden": true
   },
   "source": [
    "NumPy and Pandas seem to disagree on the standard deviation. Looks like by default they're [calculated subtly differently](https://stackoverflow.com/a/24984205)."
   ]
  },
  {
   "cell_type": "code",
   "execution_count": 611,
   "metadata": {
    "hidden": true
   },
   "outputs": [
    {
     "data": {
      "text/plain": [
       "(473.4, 71.47335167739092)"
      ]
     },
     "execution_count": 611,
     "metadata": {},
     "output_type": "execute_result"
    }
   ],
   "source": [
    "c_totals.mean(), c_totals.std()"
   ]
  },
  {
   "cell_type": "code",
   "execution_count": 631,
   "metadata": {
    "hidden": true
   },
   "outputs": [],
   "source": [
    "sd = eps * c_totals.mean() # desired standard deviation"
   ]
  },
  {
   "cell_type": "markdown",
   "metadata": {
    "hidden": true
   },
   "source": [
    "Normalize category sizes:"
   ]
  },
  {
   "cell_type": "code",
   "execution_count": 728,
   "metadata": {
    "hidden": true
   },
   "outputs": [
    {
     "name": "stdout",
     "output_type": "stream",
     "text": [
      "473.4 477.65999999999997\n",
      "71.47335167739092 12.867012085173464\n"
     ]
    },
    {
     "data": {
      "text/plain": [
       "[(array([506]), array([521])),\n",
       " (array([508]), array([521])),\n",
       " (array([525]), array([525])),\n",
       " (array([509]), array([522])),\n",
       " (array([486]), array([517])),\n",
       " (array([511]), array([522])),\n",
       " (array([471]), array([515])),\n",
       " (array([266]), array([478])),\n",
       " (array([488]), array([518])),\n",
       " (array([464]), array([513]))]"
      ]
     },
     "execution_count": 728,
     "metadata": {},
     "output_type": "execute_result"
    }
   ],
   "source": [
    "# normalize category sizes\n",
    "c_normd = c_totals/c_totals.max()# - c_totals.min()/c_totals.max()\n",
    "mean = c_totals.max() - sd\n",
    "new_totals = (2*sd * c_normd + (mean - sd)).astype(int)\n",
    "\n",
    "#display\n",
    "print(c_totals.mean(),mean);print(c_totals.std(),new_totals.std()); list(zip(c_totals, new_totals))"
   ]
  },
  {
   "cell_type": "code",
   "execution_count": 729,
   "metadata": {
    "hidden": true
   },
   "outputs": [
    {
     "data": {
      "text/plain": [
       "array([[0.96380952],\n",
       "       [0.96761905],\n",
       "       [1.        ],\n",
       "       [0.96952381],\n",
       "       [0.92571429],\n",
       "       [0.97333333],\n",
       "       [0.89714286],\n",
       "       [0.50666667],\n",
       "       [0.92952381],\n",
       "       [0.88380952]])"
      ]
     },
     "execution_count": 729,
     "metadata": {},
     "output_type": "execute_result"
    }
   ],
   "source": [
    "c_normd"
   ]
  },
  {
   "cell_type": "code",
   "execution_count": 730,
   "metadata": {
    "hidden": true
   },
   "outputs": [
    {
     "data": {
      "text/plain": [
       "525"
      ]
     },
     "execution_count": 730,
     "metadata": {},
     "output_type": "execute_result"
    }
   ],
   "source": [
    "c_totals.max()"
   ]
  },
  {
   "cell_type": "code",
   "execution_count": 731,
   "metadata": {
    "hidden": true
   },
   "outputs": [
    {
     "data": {
      "text/plain": [
       "array([506, 508, 525, 509, 486, 511, 471, 266, 488, 464])"
      ]
     },
     "execution_count": 731,
     "metadata": {},
     "output_type": "execute_result"
    }
   ],
   "source": [
    "c_totals[:,0]"
   ]
  },
  {
   "cell_type": "markdown",
   "metadata": {
    "hidden": true
   },
   "source": [
    "Looks like things are working to spec:"
   ]
  },
  {
   "cell_type": "code",
   "execution_count": 741,
   "metadata": {
    "hidden": true
   },
   "outputs": [],
   "source": [
    "def basic_plot2(c_totals=c_totals, sd=sd, oldmean=None):\n",
    "    sa,mean = c_totals.std(),c_totals.mean() if oldmean is None else oldmean\n",
    "    plt.bar(x=range(len(c_totals)),height=c_totals, alpha=0.4, color='k');\n",
    "    plt.axhline(y=mean,c='r'); plt.axhline(y=mean+sd,c='k'); plt.axhline(y=mean-sd,c='k');\n",
    "    print(mean, (sd, sa))\n",
    "    print(c_totals)"
   ]
  },
  {
   "cell_type": "markdown",
   "metadata": {
    "hidden": true
   },
   "source": [
    "Showing the new distribution with original mean flanked by desired standard deviation:"
   ]
  },
  {
   "cell_type": "code",
   "execution_count": 739,
   "metadata": {
    "hidden": true
   },
   "outputs": [
    {
     "name": "stdout",
     "output_type": "stream",
     "text": [
      "477.65999999999997 (47.34, 12.867012085173464)\n",
      "[521 521 525 522 517 522 515 478 518 513]\n"
     ]
    },
    {
     "data": {
      "image/png": "[encoded data removed]",
      "text/plain": [
       "<Figure size 432x288 with 1 Axes>"
      ]
     },
     "metadata": {},
     "output_type": "display_data"
    }
   ],
   "source": [
    "basic_plot2(c_totals=new_totals[:,0], sd=sd, oldmean=mean)"
   ]
  },
  {
   "cell_type": "markdown",
   "metadata": {
    "hidden": true
   },
   "source": [
    "Showing the new mean flanked by desired standard deviation:"
   ]
  },
  {
   "cell_type": "code",
   "execution_count": 740,
   "metadata": {
    "hidden": true
   },
   "outputs": [
    {
     "name": "stdout",
     "output_type": "stream",
     "text": [
      "515.2 (47.34, 12.867012085173464)\n",
      "[521 521 525 522 517 522 515 478 518 513]\n"
     ]
    },
    {
     "data": {
      "image/png": "[encoded data removed]",
      "text/plain": [
       "<Figure size 432x288 with 1 Axes>"
      ]
     },
     "metadata": {},
     "output_type": "display_data"
    }
   ],
   "source": [
    "basic_plot2(c_totals=new_totals[:,0], sd=sd)"
   ]
  },
  {
   "cell_type": "markdown",
   "metadata": {
    "hidden": true
   },
   "source": [
    "Looks like the algorithm mechanics are working as they should. Now to do the dataframe resample bit."
   ]
  },
  {
   "cell_type": "code",
   "execution_count": 745,
   "metadata": {
    "hidden": true
   },
   "outputs": [
    {
     "data": {
      "text/plain": [
       "array([ 15,  13,   0,  13,  31,  11,  44, 212,  30,  49])"
      ]
     },
     "execution_count": 745,
     "metadata": {},
     "output_type": "execute_result"
    }
   ],
   "source": [
    "diffs = new_totals - c_totals\n",
    "diffs[:,0]"
   ]
  },
  {
   "cell_type": "markdown",
   "metadata": {
    "hidden": true
   },
   "source": [
    "Adding to a single category:"
   ]
  },
  {
   "cell_type": "code",
   "execution_count": 749,
   "metadata": {
    "hidden": true
   },
   "outputs": [
    {
     "data": {
      "text/plain": [
       "'deer'"
      ]
     },
     "execution_count": 749,
     "metadata": {},
     "output_type": "execute_result"
    }
   ],
   "source": [
    "cat_pops['cat'][0]"
   ]
  },
  {
   "cell_type": "code",
   "execution_count": 750,
   "metadata": {
    "hidden": true
   },
   "outputs": [
    {
     "data": {
      "text/html": [
       "<div>\n",
       "<style scoped>\n",
       "    .dataframe tbody tr th:only-of-type {\n",
       "        vertical-align: middle;\n",
       "    }\n",
       "\n",
       "    .dataframe tbody tr th {\n",
       "        vertical-align: top;\n",
       "    }\n",
       "\n",
       "    .dataframe thead th {\n",
       "        text-align: right;\n",
       "    }\n",
       "</style>\n",
       "<table border=\"1\" class=\"dataframe\">\n",
       "  <thead>\n",
       "    <tr style=\"text-align: right;\">\n",
       "      <th></th>\n",
       "      <th>cat</th>\n",
       "      <th>pop</th>\n",
       "    </tr>\n",
       "  </thead>\n",
       "  <tbody>\n",
       "    <tr>\n",
       "      <th>0</th>\n",
       "      <td>deer</td>\n",
       "      <td>506</td>\n",
       "    </tr>\n",
       "    <tr>\n",
       "      <th>1</th>\n",
       "      <td>horse</td>\n",
       "      <td>508</td>\n",
       "    </tr>\n",
       "    <tr>\n",
       "      <th>2</th>\n",
       "      <td>frog</td>\n",
       "      <td>525</td>\n",
       "    </tr>\n",
       "    <tr>\n",
       "      <th>3</th>\n",
       "      <td>cat</td>\n",
       "      <td>509</td>\n",
       "    </tr>\n",
       "    <tr>\n",
       "      <th>4</th>\n",
       "      <td>truck</td>\n",
       "      <td>486</td>\n",
       "    </tr>\n",
       "    <tr>\n",
       "      <th>5</th>\n",
       "      <td>ship</td>\n",
       "      <td>511</td>\n",
       "    </tr>\n",
       "    <tr>\n",
       "      <th>6</th>\n",
       "      <td>airplane</td>\n",
       "      <td>471</td>\n",
       "    </tr>\n",
       "    <tr>\n",
       "      <th>7</th>\n",
       "      <td>dog</td>\n",
       "      <td>266</td>\n",
       "    </tr>\n",
       "    <tr>\n",
       "      <th>8</th>\n",
       "      <td>automobile</td>\n",
       "      <td>488</td>\n",
       "    </tr>\n",
       "    <tr>\n",
       "      <th>9</th>\n",
       "      <td>bird</td>\n",
       "      <td>464</td>\n",
       "    </tr>\n",
       "  </tbody>\n",
       "</table>\n",
       "</div>"
      ],
      "text/plain": [
       "          cat  pop\n",
       "0        deer  506\n",
       "1       horse  508\n",
       "2        frog  525\n",
       "3         cat  509\n",
       "4       truck  486\n",
       "5        ship  511\n",
       "6    airplane  471\n",
       "7         dog  266\n",
       "8  automobile  488\n",
       "9        bird  464"
      ]
     },
     "execution_count": 750,
     "metadata": {},
     "output_type": "execute_result"
    }
   ],
   "source": [
    "cat_pops"
   ]
  },
  {
   "cell_type": "code",
   "execution_count": 759,
   "metadata": {
    "hidden": true
   },
   "outputs": [
    {
     "data": {
      "text/plain": [
       "'deer'"
      ]
     },
     "execution_count": 759,
     "metadata": {},
     "output_type": "execute_result"
    }
   ],
   "source": [
    "# cats = cat_pops['cat'].values\n",
    "idx = 0; cat = cat_pops['cat'].values[idx]\n",
    "cat"
   ]
  },
  {
   "cell_type": "markdown",
   "metadata": {
    "hidden": true
   },
   "source": [
    "New Totals says the 'deer' category should have 15 elements added to it, bringing a total of 506 to 521 (I'm a bit paranoid about numerical stability):"
   ]
  },
  {
   "cell_type": "code",
   "execution_count": 764,
   "metadata": {
    "hidden": true
   },
   "outputs": [
    {
     "data": {
      "text/plain": [
       "(506, 521)"
      ]
     },
     "execution_count": 764,
     "metadata": {},
     "output_type": "execute_result"
    }
   ],
   "source": [
    "cat_pops.iloc[idx]['pop'], new_totals[idx][0]"
   ]
  },
  {
   "cell_type": "markdown",
   "metadata": {
    "hidden": true
   },
   "source": [
    "Grab a random sample of 15 elements from the original dataset for 'deer':"
   ]
  },
  {
   "cell_type": "code",
   "execution_count": 782,
   "metadata": {
    "hidden": true
   },
   "outputs": [
    {
     "data": {
      "text/plain": [
       "array([34346, 35384, 37827, 36420, 37771, 37047, 34198, 34865, 36252,\n",
       "       37255, 37010, 34754, 34176, 35629, 38172])"
      ]
     },
     "execution_count": 782,
     "metadata": {},
     "output_type": "execute_result"
    }
   ],
   "source": [
    "copy_idxs = np.random.choice(np.where(df['class'] == cat)[0], size=diffs[idx], replace=False)\n",
    "copy_idxs"
   ]
  },
  {
   "cell_type": "code",
   "execution_count": 783,
   "metadata": {
    "hidden": true
   },
   "outputs": [],
   "source": [
    "copyrows = df.iloc[copy_idxs]"
   ]
  },
  {
   "cell_type": "code",
   "execution_count": 784,
   "metadata": {
    "hidden": true
   },
   "outputs": [
    {
     "data": {
      "text/html": [
       "<div>\n",
       "<style scoped>\n",
       "    .dataframe tbody tr th:only-of-type {\n",
       "        vertical-align: middle;\n",
       "    }\n",
       "\n",
       "    .dataframe tbody tr th {\n",
       "        vertical-align: top;\n",
       "    }\n",
       "\n",
       "    .dataframe thead th {\n",
       "        text-align: right;\n",
       "    }\n",
       "</style>\n",
       "<table border=\"1\" class=\"dataframe\">\n",
       "  <thead>\n",
       "    <tr style=\"text-align: right;\">\n",
       "      <th></th>\n",
       "      <th>file</th>\n",
       "      <th>class</th>\n",
       "    </tr>\n",
       "  </thead>\n",
       "  <tbody>\n",
       "    <tr>\n",
       "      <th>34346</th>\n",
       "      <td>deer/44641_deer.png</td>\n",
       "      <td>deer</td>\n",
       "    </tr>\n",
       "    <tr>\n",
       "      <th>35384</th>\n",
       "      <td>deer/3868_deer.png</td>\n",
       "      <td>deer</td>\n",
       "    </tr>\n",
       "    <tr>\n",
       "      <th>37827</th>\n",
       "      <td>deer/19897_deer.png</td>\n",
       "      <td>deer</td>\n",
       "    </tr>\n",
       "    <tr>\n",
       "      <th>36420</th>\n",
       "      <td>deer/25216_deer.png</td>\n",
       "      <td>deer</td>\n",
       "    </tr>\n",
       "    <tr>\n",
       "      <th>37771</th>\n",
       "      <td>deer/42982_deer.png</td>\n",
       "      <td>deer</td>\n",
       "    </tr>\n",
       "    <tr>\n",
       "      <th>37047</th>\n",
       "      <td>deer/35743_deer.png</td>\n",
       "      <td>deer</td>\n",
       "    </tr>\n",
       "    <tr>\n",
       "      <th>34198</th>\n",
       "      <td>deer/36008_deer.png</td>\n",
       "      <td>deer</td>\n",
       "    </tr>\n",
       "    <tr>\n",
       "      <th>34865</th>\n",
       "      <td>deer/27258_deer.png</td>\n",
       "      <td>deer</td>\n",
       "    </tr>\n",
       "    <tr>\n",
       "      <th>36252</th>\n",
       "      <td>deer/24967_deer.png</td>\n",
       "      <td>deer</td>\n",
       "    </tr>\n",
       "    <tr>\n",
       "      <th>37255</th>\n",
       "      <td>deer/13428_deer.png</td>\n",
       "      <td>deer</td>\n",
       "    </tr>\n",
       "    <tr>\n",
       "      <th>37010</th>\n",
       "      <td>deer/17150_deer.png</td>\n",
       "      <td>deer</td>\n",
       "    </tr>\n",
       "    <tr>\n",
       "      <th>34754</th>\n",
       "      <td>deer/32969_deer.png</td>\n",
       "      <td>deer</td>\n",
       "    </tr>\n",
       "    <tr>\n",
       "      <th>34176</th>\n",
       "      <td>deer/39202_deer.png</td>\n",
       "      <td>deer</td>\n",
       "    </tr>\n",
       "    <tr>\n",
       "      <th>35629</th>\n",
       "      <td>deer/14786_deer.png</td>\n",
       "      <td>deer</td>\n",
       "    </tr>\n",
       "    <tr>\n",
       "      <th>38172</th>\n",
       "      <td>deer/12975_deer.png</td>\n",
       "      <td>deer</td>\n",
       "    </tr>\n",
       "  </tbody>\n",
       "</table>\n",
       "</div>"
      ],
      "text/plain": [
       "                      file class\n",
       "34346  deer/44641_deer.png  deer\n",
       "35384   deer/3868_deer.png  deer\n",
       "37827  deer/19897_deer.png  deer\n",
       "36420  deer/25216_deer.png  deer\n",
       "37771  deer/42982_deer.png  deer\n",
       "37047  deer/35743_deer.png  deer\n",
       "34198  deer/36008_deer.png  deer\n",
       "34865  deer/27258_deer.png  deer\n",
       "36252  deer/24967_deer.png  deer\n",
       "37255  deer/13428_deer.png  deer\n",
       "37010  deer/17150_deer.png  deer\n",
       "34754  deer/32969_deer.png  deer\n",
       "34176  deer/39202_deer.png  deer\n",
       "35629  deer/14786_deer.png  deer\n",
       "38172  deer/12975_deer.png  deer"
      ]
     },
     "execution_count": 784,
     "metadata": {},
     "output_type": "execute_result"
    }
   ],
   "source": [
    "copyrows"
   ]
  },
  {
   "cell_type": "markdown",
   "metadata": {
    "hidden": true
   },
   "source": [
    "Holy shit it works."
   ]
  },
  {
   "cell_type": "code",
   "execution_count": 787,
   "metadata": {
    "hidden": true
   },
   "outputs": [
    {
     "data": {
      "text/html": [
       "<div>\n",
       "<style scoped>\n",
       "    .dataframe tbody tr th:only-of-type {\n",
       "        vertical-align: middle;\n",
       "    }\n",
       "\n",
       "    .dataframe tbody tr th {\n",
       "        vertical-align: top;\n",
       "    }\n",
       "\n",
       "    .dataframe thead th {\n",
       "        text-align: right;\n",
       "    }\n",
       "</style>\n",
       "<table border=\"1\" class=\"dataframe\">\n",
       "  <thead>\n",
       "    <tr style=\"text-align: right;\">\n",
       "      <th></th>\n",
       "      <th>file</th>\n",
       "      <th>class</th>\n",
       "    </tr>\n",
       "  </thead>\n",
       "  <tbody>\n",
       "    <tr>\n",
       "      <th>count</th>\n",
       "      <td>4734</td>\n",
       "      <td>4734</td>\n",
       "    </tr>\n",
       "    <tr>\n",
       "      <th>unique</th>\n",
       "      <td>4734</td>\n",
       "      <td>10</td>\n",
       "    </tr>\n",
       "    <tr>\n",
       "      <th>top</th>\n",
       "      <td>horse/22789_horse.png</td>\n",
       "      <td>frog</td>\n",
       "    </tr>\n",
       "    <tr>\n",
       "      <th>freq</th>\n",
       "      <td>1</td>\n",
       "      <td>525</td>\n",
       "    </tr>\n",
       "  </tbody>\n",
       "</table>\n",
       "</div>"
      ],
      "text/plain": [
       "                         file class\n",
       "count                    4734  4734\n",
       "unique                   4734    10\n",
       "top     horse/22789_horse.png  frog\n",
       "freq                        1   525"
      ]
     },
     "execution_count": 787,
     "metadata": {},
     "output_type": "execute_result"
    }
   ],
   "source": [
    "tmpdf = skewed_df.copy()\n",
    "tmpdf.describe()"
   ]
  },
  {
   "cell_type": "code",
   "execution_count": 788,
   "metadata": {
    "hidden": true
   },
   "outputs": [
    {
     "data": {
      "text/html": [
       "<div>\n",
       "<style scoped>\n",
       "    .dataframe tbody tr th:only-of-type {\n",
       "        vertical-align: middle;\n",
       "    }\n",
       "\n",
       "    .dataframe tbody tr th {\n",
       "        vertical-align: top;\n",
       "    }\n",
       "\n",
       "    .dataframe thead th {\n",
       "        text-align: right;\n",
       "    }\n",
       "</style>\n",
       "<table border=\"1\" class=\"dataframe\">\n",
       "  <thead>\n",
       "    <tr style=\"text-align: right;\">\n",
       "      <th></th>\n",
       "      <th>file</th>\n",
       "      <th>class</th>\n",
       "    </tr>\n",
       "  </thead>\n",
       "  <tbody>\n",
       "    <tr>\n",
       "      <th>count</th>\n",
       "      <td>4749</td>\n",
       "      <td>4749</td>\n",
       "    </tr>\n",
       "    <tr>\n",
       "      <th>unique</th>\n",
       "      <td>4748</td>\n",
       "      <td>10</td>\n",
       "    </tr>\n",
       "    <tr>\n",
       "      <th>top</th>\n",
       "      <td>deer/35743_deer.png</td>\n",
       "      <td>frog</td>\n",
       "    </tr>\n",
       "    <tr>\n",
       "      <th>freq</th>\n",
       "      <td>2</td>\n",
       "      <td>525</td>\n",
       "    </tr>\n",
       "  </tbody>\n",
       "</table>\n",
       "</div>"
      ],
      "text/plain": [
       "                       file class\n",
       "count                  4749  4749\n",
       "unique                 4748    10\n",
       "top     deer/35743_deer.png  frog\n",
       "freq                      2   525"
      ]
     },
     "execution_count": 788,
     "metadata": {},
     "output_type": "execute_result"
    }
   ],
   "source": [
    "tmpdf.append(copyrows).describe()"
   ]
  },
  {
   "cell_type": "code",
   "execution_count": 791,
   "metadata": {
    "hidden": true
   },
   "outputs": [
    {
     "data": {
      "text/html": [
       "<div>\n",
       "<style scoped>\n",
       "    .dataframe tbody tr th:only-of-type {\n",
       "        vertical-align: middle;\n",
       "    }\n",
       "\n",
       "    .dataframe tbody tr th {\n",
       "        vertical-align: top;\n",
       "    }\n",
       "\n",
       "    .dataframe thead th {\n",
       "        text-align: right;\n",
       "    }\n",
       "</style>\n",
       "<table border=\"1\" class=\"dataframe\">\n",
       "  <thead>\n",
       "    <tr style=\"text-align: right;\">\n",
       "      <th></th>\n",
       "      <th>file</th>\n",
       "      <th>class</th>\n",
       "    </tr>\n",
       "  </thead>\n",
       "  <tbody>\n",
       "    <tr>\n",
       "      <th>34133</th>\n",
       "      <td>deer/36514_deer.png</td>\n",
       "      <td>deer</td>\n",
       "    </tr>\n",
       "    <tr>\n",
       "      <th>34346</th>\n",
       "      <td>deer/44641_deer.png</td>\n",
       "      <td>deer</td>\n",
       "    </tr>\n",
       "    <tr>\n",
       "      <th>35384</th>\n",
       "      <td>deer/3868_deer.png</td>\n",
       "      <td>deer</td>\n",
       "    </tr>\n",
       "    <tr>\n",
       "      <th>37827</th>\n",
       "      <td>deer/19897_deer.png</td>\n",
       "      <td>deer</td>\n",
       "    </tr>\n",
       "    <tr>\n",
       "      <th>36420</th>\n",
       "      <td>deer/25216_deer.png</td>\n",
       "      <td>deer</td>\n",
       "    </tr>\n",
       "    <tr>\n",
       "      <th>37771</th>\n",
       "      <td>deer/42982_deer.png</td>\n",
       "      <td>deer</td>\n",
       "    </tr>\n",
       "    <tr>\n",
       "      <th>37047</th>\n",
       "      <td>deer/35743_deer.png</td>\n",
       "      <td>deer</td>\n",
       "    </tr>\n",
       "    <tr>\n",
       "      <th>34198</th>\n",
       "      <td>deer/36008_deer.png</td>\n",
       "      <td>deer</td>\n",
       "    </tr>\n",
       "    <tr>\n",
       "      <th>34865</th>\n",
       "      <td>deer/27258_deer.png</td>\n",
       "      <td>deer</td>\n",
       "    </tr>\n",
       "    <tr>\n",
       "      <th>36252</th>\n",
       "      <td>deer/24967_deer.png</td>\n",
       "      <td>deer</td>\n",
       "    </tr>\n",
       "    <tr>\n",
       "      <th>37255</th>\n",
       "      <td>deer/13428_deer.png</td>\n",
       "      <td>deer</td>\n",
       "    </tr>\n",
       "    <tr>\n",
       "      <th>37010</th>\n",
       "      <td>deer/17150_deer.png</td>\n",
       "      <td>deer</td>\n",
       "    </tr>\n",
       "    <tr>\n",
       "      <th>34754</th>\n",
       "      <td>deer/32969_deer.png</td>\n",
       "      <td>deer</td>\n",
       "    </tr>\n",
       "    <tr>\n",
       "      <th>34176</th>\n",
       "      <td>deer/39202_deer.png</td>\n",
       "      <td>deer</td>\n",
       "    </tr>\n",
       "    <tr>\n",
       "      <th>35629</th>\n",
       "      <td>deer/14786_deer.png</td>\n",
       "      <td>deer</td>\n",
       "    </tr>\n",
       "    <tr>\n",
       "      <th>38172</th>\n",
       "      <td>deer/12975_deer.png</td>\n",
       "      <td>deer</td>\n",
       "    </tr>\n",
       "  </tbody>\n",
       "</table>\n",
       "</div>"
      ],
      "text/plain": [
       "                      file class\n",
       "34133  deer/36514_deer.png  deer\n",
       "34346  deer/44641_deer.png  deer\n",
       "35384   deer/3868_deer.png  deer\n",
       "37827  deer/19897_deer.png  deer\n",
       "36420  deer/25216_deer.png  deer\n",
       "37771  deer/42982_deer.png  deer\n",
       "37047  deer/35743_deer.png  deer\n",
       "34198  deer/36008_deer.png  deer\n",
       "34865  deer/27258_deer.png  deer\n",
       "36252  deer/24967_deer.png  deer\n",
       "37255  deer/13428_deer.png  deer\n",
       "37010  deer/17150_deer.png  deer\n",
       "34754  deer/32969_deer.png  deer\n",
       "34176  deer/39202_deer.png  deer\n",
       "35629  deer/14786_deer.png  deer\n",
       "38172  deer/12975_deer.png  deer"
      ]
     },
     "execution_count": 791,
     "metadata": {},
     "output_type": "execute_result"
    }
   ],
   "source": [
    "tmpdf = tmpdf.append(copyrows)\n",
    "tmpdf.iloc[-16:]"
   ]
  },
  {
   "cell_type": "markdown",
   "metadata": {
    "hidden": true
   },
   "source": [
    "Looks good. Now for all categories."
   ]
  },
  {
   "cell_type": "code",
   "execution_count": 810,
   "metadata": {
    "hidden": true
   },
   "outputs": [
    {
     "data": {
      "text/plain": [
       "418"
      ]
     },
     "execution_count": 810,
     "metadata": {},
     "output_type": "execute_result"
    }
   ],
   "source": [
    "cats = cat_pops['cat'].values\n",
    "copy_idxs = []\n",
    "for i,cat in enumerate(cats):\n",
    "    diff = diffs[i]\n",
    "    copy_idxs.extend(np.random.choice(np.where(df['class'] == cat)[0], size=diff, replace=False))\n",
    "len(copy_idxs)"
   ]
  },
  {
   "cell_type": "code",
   "execution_count": 811,
   "metadata": {
    "hidden": true
   },
   "outputs": [
    {
     "data": {
      "text/plain": [
       "418"
      ]
     },
     "execution_count": 811,
     "metadata": {},
     "output_type": "execute_result"
    }
   ],
   "source": [
    "new_totals.sum() - c_totals.sum()"
   ]
  },
  {
   "cell_type": "code",
   "execution_count": 814,
   "metadata": {
    "hidden": true
   },
   "outputs": [
    {
     "data": {
      "text/plain": [
       "file     418\n",
       "class    418\n",
       "dtype: int64"
      ]
     },
     "execution_count": 814,
     "metadata": {},
     "output_type": "execute_result"
    }
   ],
   "source": [
    "copyrows = df.iloc[copy_idxs]\n",
    "copyrows.count()"
   ]
  },
  {
   "cell_type": "code",
   "execution_count": 818,
   "metadata": {
    "hidden": true
   },
   "outputs": [
    {
     "data": {
      "text/html": [
       "<div>\n",
       "<style scoped>\n",
       "    .dataframe tbody tr th:only-of-type {\n",
       "        vertical-align: middle;\n",
       "    }\n",
       "\n",
       "    .dataframe tbody tr th {\n",
       "        vertical-align: top;\n",
       "    }\n",
       "\n",
       "    .dataframe thead th {\n",
       "        text-align: right;\n",
       "    }\n",
       "</style>\n",
       "<table border=\"1\" class=\"dataframe\">\n",
       "  <thead>\n",
       "    <tr style=\"text-align: right;\">\n",
       "      <th></th>\n",
       "      <th>file</th>\n",
       "      <th>class</th>\n",
       "    </tr>\n",
       "  </thead>\n",
       "  <tbody>\n",
       "    <tr>\n",
       "      <th>6861</th>\n",
       "      <td>dog/42691_dog.png</td>\n",
       "      <td>dog</td>\n",
       "    </tr>\n",
       "    <tr>\n",
       "      <th>18405</th>\n",
       "      <td>airplane/25212_airplane.png</td>\n",
       "      <td>airplane</td>\n",
       "    </tr>\n",
       "    <tr>\n",
       "      <th>6379</th>\n",
       "      <td>dog/23967_dog.png</td>\n",
       "      <td>dog</td>\n",
       "    </tr>\n",
       "    <tr>\n",
       "      <th>4885</th>\n",
       "      <td>dog/37623_dog.png</td>\n",
       "      <td>dog</td>\n",
       "    </tr>\n",
       "    <tr>\n",
       "      <th>11506</th>\n",
       "      <td>truck/29574_truck.png</td>\n",
       "      <td>truck</td>\n",
       "    </tr>\n",
       "  </tbody>\n",
       "</table>\n",
       "</div>"
      ],
      "text/plain": [
       "                              file     class\n",
       "6861             dog/42691_dog.png       dog\n",
       "18405  airplane/25212_airplane.png  airplane\n",
       "6379             dog/23967_dog.png       dog\n",
       "4885             dog/37623_dog.png       dog\n",
       "11506        truck/29574_truck.png     truck"
      ]
     },
     "execution_count": 818,
     "metadata": {},
     "output_type": "execute_result"
    }
   ],
   "source": [
    "copyrows.sample(n=5)"
   ]
  },
  {
   "cell_type": "markdown",
   "metadata": {
    "hidden": true
   },
   "source": [
    "Moment of truth: adding it back together and counting the result:"
   ]
  },
  {
   "cell_type": "code",
   "execution_count": 842,
   "metadata": {
    "hidden": true
   },
   "outputs": [
    {
     "data": {
      "text/plain": [
       "file     4734\n",
       "class    4734\n",
       "dtype: int64"
      ]
     },
     "execution_count": 842,
     "metadata": {},
     "output_type": "execute_result"
    }
   ],
   "source": [
    "tmpdf = skewed_df.copy()\n",
    "tmpdf.count()"
   ]
  },
  {
   "cell_type": "code",
   "execution_count": 843,
   "metadata": {
    "hidden": true
   },
   "outputs": [
    {
     "name": "stdout",
     "output_type": "stream",
     "text": [
      "4734\n",
      "5152\n"
     ]
    }
   ],
   "source": [
    "print(skewed_df.count()[0])\n",
    "skewed_df = skewed_df.append(copyrows)\n",
    "print(skewed_df.count()[0])"
   ]
  },
  {
   "cell_type": "code",
   "execution_count": 824,
   "metadata": {
    "hidden": true
   },
   "outputs": [
    {
     "data": {
      "text/plain": [
       "file     5152\n",
       "class    5152\n",
       "dtype: int64"
      ]
     },
     "execution_count": 824,
     "metadata": {},
     "output_type": "execute_result"
    }
   ],
   "source": [
    "tmpdf.count()"
   ]
  },
  {
   "cell_type": "code",
   "execution_count": 844,
   "metadata": {
    "hidden": true
   },
   "outputs": [
    {
     "name": "stdout",
     "output_type": "stream",
     "text": [
      "515.20 13.56\n"
     ]
    },
    {
     "data": {
      "image/png": "[encoded data removed]",
      "text/plain": [
       "<Figure size 432x288 with 1 Axes>"
      ]
     },
     "metadata": {},
     "output_type": "display_data"
    }
   ],
   "source": [
    "plot_pops(pops_from_df(skewed_df))"
   ]
  },
  {
   "cell_type": "markdown",
   "metadata": {
    "hidden": true
   },
   "source": [
    "What the dataset looks like now:"
   ]
  },
  {
   "cell_type": "code",
   "execution_count": 845,
   "metadata": {
    "hidden": true
   },
   "outputs": [
    {
     "name": "stdout",
     "output_type": "stream",
     "text": [
      "515.2 (47.34, 12.867012085173464)\n",
      "[521 521 525 522 517 522 515 478 518 513]\n"
     ]
    },
    {
     "data": {
      "image/png": "[encoded data removed]",
      "text/plain": [
       "<Figure size 432x288 with 1 Axes>"
      ]
     },
     "metadata": {},
     "output_type": "display_data"
    }
   ],
   "source": [
    "basic_plot2(c_totals=pops_from_df(skewed_df).as_matrix(columns=['pop'])[:,0], sd=sd)"
   ]
  },
  {
   "cell_type": "markdown",
   "metadata": {
    "hidden": true
   },
   "source": [
    "And what it looks like with the original mean superimposed:"
   ]
  },
  {
   "cell_type": "code",
   "execution_count": 846,
   "metadata": {
    "hidden": true
   },
   "outputs": [
    {
     "name": "stdout",
     "output_type": "stream",
     "text": [
      "473.4 (47.34, 12.867012085173464)\n",
      "[521 521 525 522 517 522 515 478 518 513]\n"
     ]
    },
    {
     "data": {
      "image/png": "[encoded data removed]",
      "text/plain": [
       "<Figure size 432x288 with 1 Axes>"
      ]
     },
     "metadata": {},
     "output_type": "display_data"
    }
   ],
   "source": [
    "basic_plot2(c_totals=pops_from_df(skewed_df).as_matrix(columns=['pop'])[:,0], sd=sd, oldmean=c_totals.mean())"
   ]
  },
  {
   "cell_type": "markdown",
   "metadata": {
    "hidden": true
   },
   "source": [
    "The dataset's class distribution has been smoothed out to within 1 desired standard deviation of the mean.\n",
    "\n",
    "Automated dataset smoothing:"
   ]
  },
  {
   "cell_type": "code",
   "execution_count": 922,
   "metadata": {
    "hidden": true
   },
   "outputs": [],
   "source": [
    "def smooth_csv_dataset(df, eps=0.1, full_df=None, catdx=1):\n",
    "    \"\"\"'Smooths' out a dataset by adding copied samples.\n",
    "    \n",
    "        For use with single-label classification (2-column) CSVs.\"\"\"\n",
    "    \n",
    "    # result DF and sampling DF\n",
    "    new_df  = df.copy()\n",
    "    full_df = df if full_df is None else full_df\n",
    "    # get category column name\n",
    "    catcol = df.columns[catdx]\n",
    "    \n",
    "    # get category populations & calculate desired range\n",
    "    cat_pops = pops_from_df(df)\n",
    "    c_totals = cat_pops.as_matrix(columns=['pop'])\n",
    "    sd       = eps * c_totals.mean()\n",
    "    # Normalize category sizes\n",
    "    c_norm     = c_totals/c_totals.max()\n",
    "    new_mean   = c_totals.max() - sd\n",
    "    new_totals = (2*sd * c_norm + (new_mean - sd)).astype(int)\n",
    "    \n",
    "    # Increase category sizes by differences\n",
    "    diffs     = new_totals - c_totals\n",
    "    cats      = cat_pops['cat'].values\n",
    "    copy_idxs = []\n",
    "    \n",
    "    for i,cat in enumerate(cats):\n",
    "        diff         = diffs[i]\n",
    "        cat_idxs     = np.where(full_df[catcol]==cat)[0]\n",
    "        full_cat_pop = len(cat_idxs)\n",
    "        \n",
    "        # if the difference is more than Nx greater, copy the whole category N times\n",
    "        if diff > full_cat_pop:\n",
    "            n_copy = int(diff) // full_cat_pop\n",
    "            diff  -= n_copy * full_cat_pop\n",
    "#             import pdb;pdb.set_trace()\n",
    "            for i in range(n_copy): copy_idxs.extend(cat_idxs)\n",
    "        copy_idxs.extend(np.random.choice(cat_idxs, size=diff, replace=False))\n",
    "    \n",
    "    copy_rows = full_df.iloc[copy_idxs]\n",
    "    new_df    = new_df.append(copy_rows)\n",
    "    \n",
    "    return new_df"
   ]
  },
  {
   "cell_type": "code",
   "execution_count": 876,
   "metadata": {
    "hidden": true
   },
   "outputs": [
    {
     "data": {
      "text/plain": [
       "1"
      ]
     },
     "execution_count": 876,
     "metadata": {},
     "output_type": "execute_result"
    }
   ],
   "source": [
    "int(np.array([1]))"
   ]
  },
  {
   "cell_type": "code",
   "execution_count": 867,
   "metadata": {
    "hidden": true
   },
   "outputs": [
    {
     "data": {
      "text/plain": [
       "[1, 2, 3]"
      ]
     },
     "execution_count": 867,
     "metadata": {},
     "output_type": "execute_result"
    }
   ],
   "source": [
    "tmp = []\n",
    "arr = [1,2,3]\n",
    "ndarr = np.array(arr)\n",
    "# tmp.extend(arr)\n",
    "# tmp.extend(ndarr)\n",
    "tmp.extend(np.array([1,2,3]))\n",
    "tmp"
   ]
  },
  {
   "cell_type": "markdown",
   "metadata": {
    "hidden": true
   },
   "source": [
    "Testing:"
   ]
  },
  {
   "cell_type": "code",
   "execution_count": 500,
   "metadata": {
    "hidden": true
   },
   "outputs": [],
   "source": [
    "df = generate_csv(PATH)"
   ]
  },
  {
   "cell_type": "code",
   "execution_count": 848,
   "metadata": {
    "hidden": true
   },
   "outputs": [
    {
     "data": {
      "text/plain": [
       "(4755, 245)"
      ]
     },
     "execution_count": 848,
     "metadata": {},
     "output_type": "execute_result"
    }
   ],
   "source": [
    "skewed_df = df.sample(n=5000)\n",
    "counts = pops_from_df(skewed_df); counts.mean()[0], counts.std()[0]\n",
    "\n",
    "drop_idxs = np.where(skewed_df['class']=='dog')[0]\n",
    "drop_idxs = np.random.choice(drop_idxs, size=len(drop_idxs)//2, replace=False)\n",
    "\n",
    "skewed_df.drop(skewed_df.index[drop_idxs], inplace=True)\n",
    "skewed_df.count()[0], np.where(skewed_df['class']=='dog')[0].shape[0]"
   ]
  },
  {
   "cell_type": "code",
   "execution_count": 913,
   "metadata": {
    "hidden": true
   },
   "outputs": [
    {
     "name": "stdout",
     "output_type": "stream",
     "text": [
      "475.5 (47.550000000000004, 80.82109873046765)\n",
      "[515 245 452 494 485 495 505 547 532 485]\n"
     ]
    },
    {
     "data": {
      "image/png": "[encoded data removed]",
      "text/plain": [
       "<Figure size 432x288 with 1 Axes>"
      ]
     },
     "metadata": {},
     "output_type": "display_data"
    }
   ],
   "source": [
    "cat_pops = pops_from_df(skewed_df); c_totals = cat_pops.as_matrix(columns=['pop']); sd=c_totals.mean()*eps\n",
    "basic_plot2(c_totals=c_totals[:,0], sd=sd)"
   ]
  },
  {
   "cell_type": "markdown",
   "metadata": {
    "hidden": true
   },
   "source": [
    "Without a 'full' base dataset:"
   ]
  },
  {
   "cell_type": "code",
   "execution_count": 918,
   "metadata": {
    "hidden": true
   },
   "outputs": [
    {
     "data": {
      "text/plain": [
       "47.550000000000004"
      ]
     },
     "execution_count": 918,
     "metadata": {},
     "output_type": "execute_result"
    }
   ],
   "source": [
    "eps * c_totals.mean()"
   ]
  },
  {
   "cell_type": "code",
   "execution_count": 919,
   "metadata": {
    "hidden": true
   },
   "outputs": [
    {
     "data": {
      "text/plain": [
       "547"
      ]
     },
     "execution_count": 919,
     "metadata": {},
     "output_type": "execute_result"
    }
   ],
   "source": [
    "c_totals.max()"
   ]
  },
  {
   "cell_type": "code",
   "execution_count": 932,
   "metadata": {
    "hidden": true
   },
   "outputs": [],
   "source": [
    "smooth_df = smooth_csv_dataset(skewed_df)"
   ]
  },
  {
   "cell_type": "code",
   "execution_count": 933,
   "metadata": {
    "hidden": true
   },
   "outputs": [
    {
     "data": {
      "text/plain": [
       "5341"
      ]
     },
     "execution_count": 933,
     "metadata": {},
     "output_type": "execute_result"
    }
   ],
   "source": [
    "smooth_df.count()[0]"
   ]
  },
  {
   "cell_type": "code",
   "execution_count": 934,
   "metadata": {
    "hidden": true
   },
   "outputs": [
    {
     "data": {
      "text/plain": [
       "475.5"
      ]
     },
     "execution_count": 934,
     "metadata": {},
     "output_type": "execute_result"
    }
   ],
   "source": [
    "oldmean"
   ]
  },
  {
   "cell_type": "code",
   "execution_count": 935,
   "metadata": {
    "hidden": true
   },
   "outputs": [
    {
     "data": {
      "text/plain": [
       "534.1"
      ]
     },
     "execution_count": 935,
     "metadata": {},
     "output_type": "execute_result"
    }
   ],
   "source": [
    "c_totals.mean()"
   ]
  },
  {
   "cell_type": "markdown",
   "metadata": {
    "hidden": true
   },
   "source": [
    "I got a little confused looking at these plots, and realized I wasn't actually displaying or calculating the 'old' mean: more of a 'pseudomean'. The 'oldmean' parameter to the plot ('new_mean' inside the smoother function) *is* the pseudomean.\n",
    "\n",
    "Although it's what I meant, I'm not actually asking for the dataset to be within 1 desired standard deviation from the mean. I'm asking that *no element of the dataset be less than 2 desired standard deviations from the maximum.*\n",
    "\n",
    "That also means nothing is further than ±1 standard deviation from the new *actual* mean. So I'm in effect imposing 2 constraints: \n",
    "1. Nothing is further than 1 stdev from the (actual) mean, \n",
    "2. and the minumum is within 2 stdevs of the maximum."
   ]
  },
  {
   "cell_type": "code",
   "execution_count": 936,
   "metadata": {
    "hidden": true
   },
   "outputs": [
    {
     "name": "stdout",
     "output_type": "stream",
     "text": [
      "499.45 (47.550000000000004, 14.088647912415158)\n",
      "[541 494 530 537 536 537 539 547 544 536]\n"
     ]
    },
    {
     "data": {
      "image/png": "[encoded data removed]",
      "text/plain": [
       "<Figure size 432x288 with 1 Axes>"
      ]
     },
     "metadata": {},
     "output_type": "display_data"
    }
   ],
   "source": [
    "# Smoothed dataset is now\n",
    "cat_pops = pops_from_df(smooth_df); c_totals = cat_pops.as_matrix(columns=['pop'])\n",
    "basic_plot2(c_totals=c_totals[:,0], sd=sd, oldmean=c_totals.max()-sd)"
   ]
  },
  {
   "cell_type": "code",
   "execution_count": 923,
   "metadata": {
    "hidden": true
   },
   "outputs": [
    {
     "name": "stdout",
     "output_type": "stream",
     "text": [
      "534.1 (47.550000000000004, 14.088647912415158)\n",
      "[541 494 530 537 536 537 539 547 544 536]\n"
     ]
    },
    {
     "data": {
      "image/png": "[encoded data removed]",
      "text/plain": [
       "<Figure size 432x288 with 1 Axes>"
      ]
     },
     "metadata": {},
     "output_type": "display_data"
    }
   ],
   "source": [
    "cat_pops = pops_from_df(smooth_df); c_totals = cat_pops.as_matrix(columns=['pop'])\n",
    "basic_plot2(c_totals=c_totals[:,0], sd=sd)"
   ]
  },
  {
   "cell_type": "markdown",
   "metadata": {
    "hidden": true
   },
   "source": [
    "With a 'full' base dataset:"
   ]
  },
  {
   "cell_type": "code",
   "execution_count": 940,
   "metadata": {
    "hidden": true
   },
   "outputs": [
    {
     "name": "stdout",
     "output_type": "stream",
     "text": [
      "CPU times: user 74.1 ms, sys: 3.08 ms, total: 77.2 ms\n",
      "Wall time: 76.5 ms\n"
     ]
    }
   ],
   "source": [
    "%time smooth_df = smooth_csv_dataset(skewed_df, full_df=df)"
   ]
  },
  {
   "cell_type": "code",
   "execution_count": 942,
   "metadata": {
    "hidden": true
   },
   "outputs": [
    {
     "name": "stdout",
     "output_type": "stream",
     "text": [
      "499.45 (47.550000000000004, 14.088647912415158)\n",
      "[541 494 530 537 536 537 539 547 544 536]\n"
     ]
    },
    {
     "data": {
      "image/png": "[encoded data removed]",
      "text/plain": [
       "<Figure size 432x288 with 1 Axes>"
      ]
     },
     "metadata": {},
     "output_type": "display_data"
    }
   ],
   "source": [
    "# entire dataset is within 2 stdevs of the maximum\n",
    "cat_pops = pops_from_df(smooth_df); c_totals = cat_pops.as_matrix(columns=['pop'])\n",
    "basic_plot2(c_totals=c_totals[:,0], sd=sd, oldmean=c_totals.max()-sd)"
   ]
  },
  {
   "cell_type": "code",
   "execution_count": 941,
   "metadata": {
    "hidden": true
   },
   "outputs": [
    {
     "name": "stdout",
     "output_type": "stream",
     "text": [
      "534.1 (47.550000000000004, 14.088647912415158)\n",
      "[541 494 530 537 536 537 539 547 544 536]\n"
     ]
    },
    {
     "data": {
      "image/png": "[encoded data removed]",
      "text/plain": [
       "<Figure size 432x288 with 1 Axes>"
      ]
     },
     "metadata": {},
     "output_type": "display_data"
    }
   ],
   "source": [
    "# entire dataset is within 1 stdev of the mean\n",
    "cat_pops = pops_from_df(smooth_df); c_totals = cat_pops.as_matrix(columns=['pop'])\n",
    "basic_plot2(c_totals=c_totals[:,0], sd=sd)"
   ]
  },
  {
   "cell_type": "code",
   "execution_count": 945,
   "metadata": {
    "hidden": true
   },
   "outputs": [
    {
     "data": {
      "text/html": [
       "<div>\n",
       "<style scoped>\n",
       "    .dataframe tbody tr th:only-of-type {\n",
       "        vertical-align: middle;\n",
       "    }\n",
       "\n",
       "    .dataframe tbody tr th {\n",
       "        vertical-align: top;\n",
       "    }\n",
       "\n",
       "    .dataframe thead th {\n",
       "        text-align: right;\n",
       "    }\n",
       "</style>\n",
       "<table border=\"1\" class=\"dataframe\">\n",
       "  <thead>\n",
       "    <tr style=\"text-align: right;\">\n",
       "      <th></th>\n",
       "      <th>file</th>\n",
       "      <th>class</th>\n",
       "    </tr>\n",
       "  </thead>\n",
       "  <tbody>\n",
       "    <tr>\n",
       "      <th>count</th>\n",
       "      <td>5341</td>\n",
       "      <td>5341</td>\n",
       "    </tr>\n",
       "    <tr>\n",
       "      <th>unique</th>\n",
       "      <td>5287</td>\n",
       "      <td>10</td>\n",
       "    </tr>\n",
       "    <tr>\n",
       "      <th>top</th>\n",
       "      <td>dog/14963_dog.png</td>\n",
       "      <td>frog</td>\n",
       "    </tr>\n",
       "    <tr>\n",
       "      <th>freq</th>\n",
       "      <td>2</td>\n",
       "      <td>547</td>\n",
       "    </tr>\n",
       "  </tbody>\n",
       "</table>\n",
       "</div>"
      ],
      "text/plain": [
       "                     file class\n",
       "count                5341  5341\n",
       "unique               5287    10\n",
       "top     dog/14963_dog.png  frog\n",
       "freq                    2   547"
      ]
     },
     "execution_count": 945,
     "metadata": {},
     "output_type": "execute_result"
    }
   ],
   "source": [
    "smooth_df.describe()"
   ]
  },
  {
   "cell_type": "code",
   "execution_count": 949,
   "metadata": {
    "hidden": true
   },
   "outputs": [
    {
     "data": {
      "text/plain": [
       "(5341, 4755)"
      ]
     },
     "execution_count": 949,
     "metadata": {},
     "output_type": "execute_result"
    }
   ],
   "source": [
    "smooth_df.count()[0], skewed_df.count()[0]"
   ]
  },
  {
   "cell_type": "code",
   "execution_count": null,
   "metadata": {
    "hidden": true
   },
   "outputs": [],
   "source": []
  },
  {
   "cell_type": "markdown",
   "metadata": {
    "heading_collapsed": true
   },
   "source": [
    "## Scrap"
   ]
  },
  {
   "cell_type": "code",
   "execution_count": 764,
   "metadata": {
    "hidden": true
   },
   "outputs": [
    {
     "data": {
      "text/plain": [
       "(506, 521)"
      ]
     },
     "execution_count": 764,
     "metadata": {},
     "output_type": "execute_result"
    }
   ],
   "source": [
    "cat_pops.iloc[idx]['pop'], new_totals[idx][0]"
   ]
  },
  {
   "cell_type": "markdown",
   "metadata": {
    "hidden": true
   },
   "source": [
    "Grab a random sample of 15 elements from the original dataset for 'deer':"
   ]
  },
  {
   "cell_type": "code",
   "execution_count": 782,
   "metadata": {
    "hidden": true
   },
   "outputs": [
    {
     "data": {
      "text/plain": [
       "array([34346, 35384, 37827, 36420, 37771, 37047, 34198, 34865, 36252,\n",
       "       37255, 37010, 34754, 34176, 35629, 38172])"
      ]
     },
     "execution_count": 782,
     "metadata": {},
     "output_type": "execute_result"
    }
   ],
   "source": [
    "copy_idxs = np.random.choice(np.where(df['class'] == cat)[0], size=diffs[idx], replace=False)\n",
    "copy_idxs"
   ]
  },
  {
   "cell_type": "code",
   "execution_count": 783,
   "metadata": {
    "hidden": true
   },
   "outputs": [],
   "source": [
    "copyrows = df.iloc[copy_idxs]"
   ]
  },
  {
   "cell_type": "code",
   "execution_count": null,
   "metadata": {
    "hidden": true
   },
   "outputs": [],
   "source": []
  },
  {
   "cell_type": "code",
   "execution_count": null,
   "metadata": {
    "hidden": true
   },
   "outputs": [],
   "source": [
    "# randomly sample from dataset to fill the difference\n",
    "adds = []\n",
    "diffs = new_totals - c_totals\n",
    "for i,diff in enumerate(diffs):\n",
    "    add = np.random.choice(df[catcol]==#TODO)"
   ]
  },
  {
   "cell_type": "code",
   "execution_count": null,
   "metadata": {
    "hidden": true
   },
   "outputs": [],
   "source": []
  },
  {
   "cell_type": "code",
   "execution_count": 704,
   "metadata": {
    "hidden": true
   },
   "outputs": [
    {
     "data": {
      "text/plain": [
       "(array([266]), array([0.56189269]))"
      ]
     },
     "execution_count": 704,
     "metadata": {},
     "output_type": "execute_result"
    }
   ],
   "source": [
    "c_totals[np.argmin(c_totals)], c_normd[np.argmin(c_totals)]"
   ]
  },
  {
   "cell_type": "code",
   "execution_count": null,
   "metadata": {
    "hidden": true
   },
   "outputs": [],
   "source": [
    "# normalize wrt max\n",
    "c_normd = c_totals/c_totals.max()\n",
    "\n",
    "# set floor as 2sd below max\n"
   ]
  },
  {
   "cell_type": "code",
   "execution_count": null,
   "metadata": {
    "hidden": true
   },
   "outputs": [],
   "source": []
  },
  {
   "cell_type": "code",
   "execution_count": 702,
   "metadata": {
    "hidden": true
   },
   "outputs": [
    {
     "data": {
      "text/plain": [
       "array([5.2288])"
      ]
     },
     "execution_count": 702,
     "metadata": {},
     "output_type": "execute_result"
    }
   ],
   "source": [
    "cmin = c_totals[np.argmin(c_totals)]\n",
    "cnormin = c_normd[np.argmin(c_totals)]\n",
    "\n",
    "2*sd * cnormin"
   ]
  },
  {
   "cell_type": "markdown",
   "metadata": {
    "hidden": true
   },
   "source": [
    "Too many values are being reduced. My algorithm isn't perfect for the job. *But*: what if I just take the max of the result? What does the mean & stdv look like then?"
   ]
  },
  {
   "cell_type": "code",
   "execution_count": 693,
   "metadata": {
    "hidden": true
   },
   "outputs": [
    {
     "name": "stdout",
     "output_type": "stream",
     "text": [
      "491.9 24.570103784884587\n"
     ]
    },
    {
     "data": {
      "text/plain": [
       "(506, 508, 525, 509, 486, 511, 476, 435, 488, 475)"
      ]
     },
     "execution_count": 693,
     "metadata": {},
     "output_type": "execute_result"
    }
   ],
   "source": [
    "maxs = np.max((c_totals, new_totals), axis=0)\n",
    "print(maxs.mean(), maxs.std())\n",
    "list(zip(*maxs))[0]"
   ]
  },
  {
   "cell_type": "markdown",
   "metadata": {
    "hidden": true
   },
   "source": [
    "No values have increased beyond the original max, and all"
   ]
  },
  {
   "cell_type": "code",
   "execution_count": 695,
   "metadata": {
    "hidden": true
   },
   "outputs": [
    {
     "data": {
      "text/plain": [
       "(-56.89999999999998, 33.10000000000002)"
      ]
     },
     "execution_count": 695,
     "metadata": {},
     "output_type": "execute_result"
    }
   ],
   "source": [
    "maxs.min() - maxs.mean(), maxs.max() - maxs.mean()"
   ]
  },
  {
   "cell_type": "code",
   "execution_count": null,
   "metadata": {
    "hidden": true
   },
   "outputs": [],
   "source": []
  },
  {
   "cell_type": "code",
   "execution_count": 646,
   "metadata": {
    "hidden": true
   },
   "outputs": [
    {
     "data": {
      "text/plain": [
       "(473.4, 477.65999999999997)"
      ]
     },
     "execution_count": 646,
     "metadata": {},
     "output_type": "execute_result"
    }
   ],
   "source": [
    "c_totals.mean(), mean"
   ]
  },
  {
   "cell_type": "code",
   "execution_count": null,
   "metadata": {
    "hidden": true
   },
   "outputs": [],
   "source": []
  },
  {
   "cell_type": "code",
   "execution_count": 638,
   "metadata": {
    "hidden": true
   },
   "outputs": [
    {
     "data": {
      "text/plain": [
       "array([[483],\n",
       "       [483],\n",
       "       [487],\n",
       "       [484],\n",
       "       [479],\n",
       "       [484],\n",
       "       [476],\n",
       "       [435],\n",
       "       [479],\n",
       "       [475]])"
      ]
     },
     "execution_count": 638,
     "metadata": {},
     "output_type": "execute_result"
    }
   ],
   "source": [
    "new_totals"
   ]
  },
  {
   "cell_type": "code",
   "execution_count": null,
   "metadata": {
    "hidden": true
   },
   "outputs": [],
   "source": []
  },
  {
   "cell_type": "code",
   "execution_count": 490,
   "metadata": {
    "hidden": true
   },
   "outputs": [
    {
     "data": {
      "text/plain": [
       "array([1330, 1122,  235, 1282, 1262, 1055,  166,  838, 1381,  975])"
      ]
     },
     "execution_count": 490,
     "metadata": {},
     "output_type": "execute_result"
    }
   ],
   "source": [
    "## prototyping: dummy dataset variation\n",
    "c_totals = np.random.randint(1000, 3000, size=10)\n",
    "# calculate mean, actual & desired standard deviation\n",
    "# mean = c_totals.mean()\n",
    "# sa   = c_totals.std()\n",
    "sd   = eps * mean\n",
    "\n",
    "# normalize category sizes\n",
    "c_normd = c_totals/c_totals.mean() - c_totals.min()/c_totals.max()\n",
    "mean = c_totals.max() - sd\n",
    "new_totals = (2*sd * c_normd + (mean - sd)).astype(int)\n",
    "\n",
    "# randomly sample from dataset to fill the difference\n",
    "adds = []\n",
    "diffs = new_totals - c_totals\n",
    "for i,diff in enumerate(diffs):\n",
    "    add = np.random.choice(df[catcol]==#TODO)"
   ]
  },
  {
   "cell_type": "code",
   "execution_count": null,
   "metadata": {
    "hidden": true
   },
   "outputs": [],
   "source": []
  },
  {
   "cell_type": "code",
   "execution_count": 612,
   "metadata": {
    "hidden": true
   },
   "outputs": [
    {
     "data": {
      "text/plain": [
       "pop    75.339528\n",
       "dtype: float64"
      ]
     },
     "execution_count": 612,
     "metadata": {},
     "output_type": "execute_result"
    }
   ],
   "source": [
    "cat_pops.std()"
   ]
  },
  {
   "cell_type": "code",
   "execution_count": 613,
   "metadata": {
    "hidden": true
   },
   "outputs": [
    {
     "data": {
      "text/plain": [
       "array([[506],\n",
       "       [508],\n",
       "       [525],\n",
       "       [509],\n",
       "       [486],\n",
       "       [511],\n",
       "       [471],\n",
       "       [266],\n",
       "       [488],\n",
       "       [464]])"
      ]
     },
     "execution_count": 613,
     "metadata": {},
     "output_type": "execute_result"
    }
   ],
   "source": [
    "c_totals"
   ]
  },
  {
   "cell_type": "code",
   "execution_count": 614,
   "metadata": {
    "hidden": true
   },
   "outputs": [
    {
     "data": {
      "text/html": [
       "<div>\n",
       "<style scoped>\n",
       "    .dataframe tbody tr th:only-of-type {\n",
       "        vertical-align: middle;\n",
       "    }\n",
       "\n",
       "    .dataframe tbody tr th {\n",
       "        vertical-align: top;\n",
       "    }\n",
       "\n",
       "    .dataframe thead th {\n",
       "        text-align: right;\n",
       "    }\n",
       "</style>\n",
       "<table border=\"1\" class=\"dataframe\">\n",
       "  <thead>\n",
       "    <tr style=\"text-align: right;\">\n",
       "      <th></th>\n",
       "      <th>cat</th>\n",
       "      <th>pop</th>\n",
       "    </tr>\n",
       "  </thead>\n",
       "  <tbody>\n",
       "    <tr>\n",
       "      <th>0</th>\n",
       "      <td>deer</td>\n",
       "      <td>506</td>\n",
       "    </tr>\n",
       "    <tr>\n",
       "      <th>1</th>\n",
       "      <td>horse</td>\n",
       "      <td>508</td>\n",
       "    </tr>\n",
       "    <tr>\n",
       "      <th>2</th>\n",
       "      <td>frog</td>\n",
       "      <td>525</td>\n",
       "    </tr>\n",
       "    <tr>\n",
       "      <th>3</th>\n",
       "      <td>cat</td>\n",
       "      <td>509</td>\n",
       "    </tr>\n",
       "    <tr>\n",
       "      <th>4</th>\n",
       "      <td>truck</td>\n",
       "      <td>486</td>\n",
       "    </tr>\n",
       "    <tr>\n",
       "      <th>5</th>\n",
       "      <td>ship</td>\n",
       "      <td>511</td>\n",
       "    </tr>\n",
       "    <tr>\n",
       "      <th>6</th>\n",
       "      <td>airplane</td>\n",
       "      <td>471</td>\n",
       "    </tr>\n",
       "    <tr>\n",
       "      <th>7</th>\n",
       "      <td>dog</td>\n",
       "      <td>266</td>\n",
       "    </tr>\n",
       "    <tr>\n",
       "      <th>8</th>\n",
       "      <td>automobile</td>\n",
       "      <td>488</td>\n",
       "    </tr>\n",
       "    <tr>\n",
       "      <th>9</th>\n",
       "      <td>bird</td>\n",
       "      <td>464</td>\n",
       "    </tr>\n",
       "  </tbody>\n",
       "</table>\n",
       "</div>"
      ],
      "text/plain": [
       "          cat  pop\n",
       "0        deer  506\n",
       "1       horse  508\n",
       "2        frog  525\n",
       "3         cat  509\n",
       "4       truck  486\n",
       "5        ship  511\n",
       "6    airplane  471\n",
       "7         dog  266\n",
       "8  automobile  488\n",
       "9        bird  464"
      ]
     },
     "execution_count": 614,
     "metadata": {},
     "output_type": "execute_result"
    }
   ],
   "source": [
    "cat_pops"
   ]
  },
  {
   "cell_type": "code",
   "execution_count": 615,
   "metadata": {
    "hidden": true
   },
   "outputs": [],
   "source": [
    "def plot_pops(df, print_ms=True):\n",
    "    if print_ms: print(f\"{df.mean()[0]:.2f} {df.std()[0]:.2f}\")\n",
    "    df.plot.bar(x=df[df.columns[0]], ylim=(0,1.2*df[df.columns[1]].values.max()), \n",
    "            yerr=max(df.mean()[0]*0.005, df.std()[0]), alpha=.8)\n",
    "    df.mean()[0], df.std()[0]"
   ]
  },
  {
   "cell_type": "code",
   "execution_count": 616,
   "metadata": {
    "hidden": true
   },
   "outputs": [
    {
     "data": {
      "text/plain": [
       "pop    473.4\n",
       "dtype: float64"
      ]
     },
     "execution_count": 616,
     "metadata": {},
     "output_type": "execute_result"
    }
   ],
   "source": [
    "cat_pops.mean()"
   ]
  },
  {
   "cell_type": "code",
   "execution_count": 617,
   "metadata": {
    "hidden": true
   },
   "outputs": [
    {
     "data": {
      "text/plain": [
       "pop    75.339528\n",
       "dtype: float64"
      ]
     },
     "execution_count": 617,
     "metadata": {},
     "output_type": "execute_result"
    }
   ],
   "source": [
    "cat_pops.std()"
   ]
  },
  {
   "cell_type": "code",
   "execution_count": 618,
   "metadata": {
    "hidden": true
   },
   "outputs": [
    {
     "data": {
      "text/plain": [
       "71.47335167739092"
      ]
     },
     "execution_count": 618,
     "metadata": {},
     "output_type": "execute_result"
    }
   ],
   "source": [
    "cat_pops.as_matrix(columns=['pop']).std()"
   ]
  },
  {
   "cell_type": "code",
   "execution_count": 619,
   "metadata": {
    "hidden": true
   },
   "outputs": [
    {
     "data": {
      "text/plain": [
       "array([[506],\n",
       "       [508],\n",
       "       [525],\n",
       "       [509],\n",
       "       [486],\n",
       "       [511],\n",
       "       [471],\n",
       "       [266],\n",
       "       [488],\n",
       "       [464]])"
      ]
     },
     "execution_count": 619,
     "metadata": {},
     "output_type": "execute_result"
    }
   ],
   "source": [
    "cat_pops.as_matrix(columns=['pop'])"
   ]
  },
  {
   "cell_type": "code",
   "execution_count": 629,
   "metadata": {
    "hidden": true
   },
   "outputs": [
    {
     "data": {
      "text/plain": [
       "(473.4, 71.47335167739092)"
      ]
     },
     "execution_count": 629,
     "metadata": {},
     "output_type": "execute_result"
    }
   ],
   "source": [
    "cat_pops.as_matrix(columns=['pop']).mean(), cat_pops.as_matrix(columns=['pop']).std()"
   ]
  },
  {
   "cell_type": "code",
   "execution_count": 626,
   "metadata": {
    "hidden": true
   },
   "outputs": [
    {
     "data": {
      "text/plain": [
       "4734"
      ]
     },
     "execution_count": 626,
     "metadata": {},
     "output_type": "execute_result"
    }
   ],
   "source": [
    "cat_pops['pop'].sum()"
   ]
  },
  {
   "cell_type": "code",
   "execution_count": 628,
   "metadata": {
    "hidden": true
   },
   "outputs": [
    {
     "data": {
      "text/plain": [
       "(473.4, 75.33952776892383)"
      ]
     },
     "execution_count": 628,
     "metadata": {},
     "output_type": "execute_result"
    }
   ],
   "source": [
    "cat_pops['pop'].mean(), cat_pops['pop'].std()"
   ]
  },
  {
   "cell_type": "code",
   "execution_count": null,
   "metadata": {
    "hidden": true
   },
   "outputs": [],
   "source": []
  },
  {
   "cell_type": "code",
   "execution_count": 599,
   "metadata": {
    "hidden": true
   },
   "outputs": [
    {
     "data": {
      "text/plain": [
       "4734"
      ]
     },
     "execution_count": 599,
     "metadata": {},
     "output_type": "execute_result"
    }
   ],
   "source": [
    "c_totals.sum()"
   ]
  },
  {
   "cell_type": "code",
   "execution_count": 490,
   "metadata": {
    "hidden": true
   },
   "outputs": [
    {
     "data": {
      "text/plain": [
       "array([1330, 1122,  235, 1282, 1262, 1055,  166,  838, 1381,  975])"
      ]
     },
     "execution_count": 490,
     "metadata": {},
     "output_type": "execute_result"
    }
   ],
   "source": [
    "## prototyping: dummy dataset variation\n",
    "c_totals = np.random.randint(1000, 3000, size=10)\n",
    "# calculate mean, actual & desired standard deviation\n",
    "# mean = c_totals.mean()\n",
    "# sa   = c_totals.std()\n",
    "sd   = eps * mean\n",
    "\n",
    "# normalize category sizes\n",
    "c_normd = c_totals/c_totals.mean() - c_totals.min()/c_totals.max()\n",
    "mean = c_totals.max() - sd\n",
    "new_totals = (2*sd * c_normd + (mean - sd)).astype(int)\n",
    "\n",
    "# randomly sample from dataset to fill the difference\n",
    "adds = []\n",
    "diffs = new_totals - c_totals\n",
    "for i,diff in enumerate(diffs):\n",
    "    add = np.random.choice(df[catcol]==)"
   ]
  },
  {
   "cell_type": "code",
   "execution_count": null,
   "metadata": {
    "hidden": true
   },
   "outputs": [],
   "source": []
  },
  {
   "cell_type": "code",
   "execution_count": 496,
   "metadata": {
    "hidden": true,
    "scrolled": true
   },
   "outputs": [
    {
     "data": {
      "text/plain": [
       "[                file class\n",
       " 5   cat/3863_cat.png   cat\n",
       " 6  cat/45897_cat.png   cat\n",
       " 7  cat/49197_cat.png   cat\n",
       " 8   cat/1846_cat.png   cat\n",
       " 9   cat/8760_cat.png   cat]"
      ]
     },
     "execution_count": 496,
     "metadata": {},
     "output_type": "execute_result"
    }
   ],
   "source": [
    "tmp = []\n",
    "tmp.append(df.iloc[5:10])\n",
    "tmp"
   ]
  },
  {
   "cell_type": "code",
   "execution_count": 497,
   "metadata": {
    "hidden": true
   },
   "outputs": [
    {
     "data": {
      "text/html": [
       "<div>\n",
       "<style scoped>\n",
       "    .dataframe tbody tr th:only-of-type {\n",
       "        vertical-align: middle;\n",
       "    }\n",
       "\n",
       "    .dataframe tbody tr th {\n",
       "        vertical-align: top;\n",
       "    }\n",
       "\n",
       "    .dataframe thead th {\n",
       "        text-align: right;\n",
       "    }\n",
       "</style>\n",
       "<table border=\"1\" class=\"dataframe\">\n",
       "  <thead>\n",
       "    <tr style=\"text-align: right;\">\n",
       "      <th></th>\n",
       "      <th>0</th>\n",
       "    </tr>\n",
       "  </thead>\n",
       "  <tbody>\n",
       "    <tr>\n",
       "      <th>0</th>\n",
       "      <td>file class\n",
       "5   cat/3863_cat.pn...</td>\n",
       "    </tr>\n",
       "  </tbody>\n",
       "</table>\n",
       "</div>"
      ],
      "text/plain": [
       "                                                   0\n",
       "0                  file class\n",
       "5   cat/3863_cat.pn..."
      ]
     },
     "execution_count": 497,
     "metadata": {},
     "output_type": "execute_result"
    }
   ],
   "source": [
    "pd.DataFrame(tmp)"
   ]
  },
  {
   "cell_type": "code",
   "execution_count": null,
   "metadata": {
    "hidden": true
   },
   "outputs": [],
   "source": []
  },
  {
   "cell_type": "code",
   "execution_count": 463,
   "metadata": {
    "hidden": true,
    "scrolled": false
   },
   "outputs": [
    {
     "name": "stdout",
     "output_type": "stream",
     "text": [
      "1936.1 (193.61, 608.770145457216)\n",
      "[2648 1644 1261 1311 1215 2895 2227 2026 1475 2659]\n",
      "2732.4879792746115 (193.61, 121.75402909144326)\n",
      "[2874.86797927 2674.06797927 2597.46797927 2607.46797927 2588.26797927\n",
      " 2924.26797927 2790.66797927 2750.46797927 2640.26797927 2877.06797927]\n"
     ]
    },
    {
     "data": {
      "image/png": "[encoded data removed]",
      "text/plain": [
       "<Figure size 432x288 with 1 Axes>"
      ]
     },
     "metadata": {},
     "output_type": "display_data"
    }
   ],
   "source": [
    "eps = 0.1\n",
    "\n",
    "c_totals = np.random.randint(1000, 3000, size=10)\n",
    "mean = c_totals.mean()\n",
    "sa   = c_totals.std()\n",
    "sd   = eps * mean\n",
    "\n",
    "basic_plot()\n",
    "\n",
    "c_normd = c_totals/c_totals.mean() - c_totals.min()/c_totals.max()\n",
    "mean = c_totals.max() - sd\n",
    "c_totals = (2*sd * c_normd + (mean - sd))\n",
    "\n",
    "basic_plot()"
   ]
  },
  {
   "cell_type": "code",
   "execution_count": null,
   "metadata": {
    "hidden": true
   },
   "outputs": [],
   "source": []
  },
  {
   "cell_type": "markdown",
   "metadata": {
    "hidden": true
   },
   "source": [
    "First time I got the normalization algorithm working:"
   ]
  },
  {
   "cell_type": "code",
   "execution_count": 386,
   "metadata": {
    "hidden": true
   },
   "outputs": [
    {
     "name": "stdout",
     "output_type": "stream",
     "text": [
      "2159.1 (215.91, 556.2047195053275)\n",
      "[2974 2803 2686 2567 2208 1818 1286 1631 1521 2097]\n"
     ]
    },
    {
     "data": {
      "image/png": "[encoded data removed]",
      "text/plain": [
       "<Figure size 432x288 with 1 Axes>"
      ]
     },
     "metadata": {},
     "output_type": "display_data"
    }
   ],
   "source": [
    "eps = 0.1\n",
    "\n",
    "c_totals = np.random.randint(1000, 3000, size=10)\n",
    "mean = c_totals.mean()\n",
    "sa   = c_totals.std()\n",
    "sd   = eps * mean\n",
    "\n",
    "basic_plot()"
   ]
  },
  {
   "cell_type": "code",
   "execution_count": 412,
   "metadata": {
    "hidden": true
   },
   "outputs": [
    {
     "data": {
      "text/plain": [
       "array([0.94501152, 0.86581186, 0.81162261, 0.75650705, 0.59023407,\n",
       "       0.40960325, 0.16320429, 0.32299309, 0.27204593, 0.53882376])"
      ]
     },
     "execution_count": 412,
     "metadata": {},
     "output_type": "execute_result"
    }
   ],
   "source": [
    "c_totals / c_totals.mean() - (c_totals.min()/c_totals.max())"
   ]
  },
  {
   "cell_type": "code",
   "execution_count": 413,
   "metadata": {
    "hidden": true
   },
   "outputs": [
    {
     "data": {
      "text/plain": [
       "array([0.94501152, 0.86581186, 0.81162261, 0.75650705, 0.59023407,\n",
       "       0.40960325, 0.16320429, 0.32299309, 0.27204593, 0.53882376])"
      ]
     },
     "execution_count": 413,
     "metadata": {},
     "output_type": "execute_result"
    }
   ],
   "source": [
    "c_normd = c_totals/c_totals.mean() - c_totals.min()/c_totals.max()\n",
    "c_normd"
   ]
  },
  {
   "cell_type": "code",
   "execution_count": 414,
   "metadata": {
    "hidden": true
   },
   "outputs": [
    {
     "data": {
      "text/plain": [
       "2758.09"
      ]
     },
     "execution_count": 414,
     "metadata": {},
     "output_type": "execute_result"
    }
   ],
   "source": [
    "new_mean = c_totals.max() - sd\n",
    "new_mean"
   ]
  },
  {
   "cell_type": "code",
   "execution_count": 420,
   "metadata": {
    "hidden": true
   },
   "outputs": [
    {
     "data": {
      "text/plain": [
       "array([2950.25487559, 2916.05487559, 2892.65487559, 2868.85487559,\n",
       "       2797.05487559, 2719.05487559, 2612.65487559, 2681.65487559,\n",
       "       2659.65487559, 2774.85487559])"
      ]
     },
     "execution_count": 420,
     "metadata": {},
     "output_type": "execute_result"
    }
   ],
   "source": [
    "new_totals = (2*sd * c_normd + (new_mean - sd))\n",
    "new_totals"
   ]
  },
  {
   "cell_type": "code",
   "execution_count": 427,
   "metadata": {
    "hidden": true
   },
   "outputs": [
    {
     "name": "stdout",
     "output_type": "stream",
     "text": [
      "2787.274875588433 (215.91, 111.2409439010655)\n",
      "[2950.25487559 2916.05487559 2892.65487559 2868.85487559 2797.05487559\n",
      " 2719.05487559 2612.65487559 2681.65487559 2659.65487559 2774.85487559]\n"
     ]
    },
    {
     "data": {
      "image/png": "[encoded data removed]",
      "text/plain": [
       "<Figure size 432x288 with 1 Axes>"
      ]
     },
     "metadata": {},
     "output_type": "display_data"
    }
   ],
   "source": [
    "c_totals = new_totals\n",
    "mean = new_mean\n",
    "\n",
    "basic_plot()"
   ]
  },
  {
   "cell_type": "code",
   "execution_count": null,
   "metadata": {
    "hidden": true
   },
   "outputs": [],
   "source": []
  },
  {
   "cell_type": "code",
   "execution_count": 390,
   "metadata": {
    "hidden": true
   },
   "outputs": [
    {
     "data": {
      "text/plain": [
       "array([431.82      , 406.99107599, 390.00286483, 372.72425689,\n",
       "       320.59803631, 263.97066577, 186.72512441, 236.81856759,\n",
       "       220.84674512, 304.48101547])"
      ]
     },
     "execution_count": 390,
     "metadata": {},
     "output_type": "execute_result"
    }
   ],
   "source": [
    "c_norm = c_totals / np.linalg.norm(c_totals, ord=np.inf)\n",
    "c_range= c_norm * sd*2\n",
    "c_range"
   ]
  },
  {
   "cell_type": "code",
   "execution_count": 392,
   "metadata": {
    "hidden": true
   },
   "outputs": [
    {
     "data": {
      "text/plain": [
       "True"
      ]
     },
     "execution_count": 392,
     "metadata": {},
     "output_type": "execute_result"
    }
   ],
   "source": [
    "c_range.max()"
   ]
  },
  {
   "cell_type": "code",
   "execution_count": null,
   "metadata": {
    "hidden": true
   },
   "outputs": [],
   "source": []
  },
  {
   "cell_type": "markdown",
   "metadata": {
    "hidden": true
   },
   "source": [
    "New algorithm:\n",
    "```\n",
    "set max to max category.\n",
    "calculate new mean as 1 σδ below max.\n",
    "normalize dataset to 1 σδ of new mean.\n",
    "```\n",
    "\n",
    "normalization:\n",
    "- % distance to new mean = % distance to original mean, with max distance set by σδ.\n",
    "    \n",
    "- This means that categories further from the original mean than the max is from it will be clamped to new mean - σδ."
   ]
  },
  {
   "cell_type": "code",
   "execution_count": 385,
   "metadata": {
    "hidden": true
   },
   "outputs": [
    {
     "name": "stdout",
     "output_type": "stream",
     "text": [
      "2721.04 (272.104, 455.21449889035824)\n",
      "[2257 1746 2911 1583 1453 2064 1231 1741 1809 2201]\n"
     ]
    },
    {
     "data": {
      "image/png": "[encoded data removed]",
      "text/plain": [
       "<Figure size 432x288 with 1 Axes>"
      ]
     },
     "metadata": {},
     "output_type": "display_data"
    }
   ],
   "source": [
    "c_max = c_totals.max()\n",
    "new_mean = c_max - sd\n",
    "\n",
    "c_norm = c_totals/np.linalg.norm(c_totals, ord=np.inf)\n",
    "c_total = c_norm * sd + new_mean\n",
    "\n",
    "# for i,c_tot in enumerate(c_totals):\n",
    "#     c_totals[i] = max(new_mean-sd, min())\n",
    "#     if c_tot < mean:\n",
    "#         c_totals[i] = max(new_mean-sd, c_tot*(c_tot/mean)/(mean/(new_mean+sd)))\n",
    "#     elif c_tot > mean:\n",
    "#         c_totals[i] = max(new_mean-sd, c_tot*(c_tot/c_max)/(c_max/(new_mean+sd)))\n",
    "\n",
    "mean = new_mean\n",
    "sa   = c_totals.std()\n",
    "sd   = eps*mean\n",
    "\n",
    "basic_plot()"
   ]
  },
  {
   "cell_type": "code",
   "execution_count": null,
   "metadata": {
    "hidden": true
   },
   "outputs": [],
   "source": []
  },
  {
   "cell_type": "code",
   "execution_count": 313,
   "metadata": {
    "hidden": true
   },
   "outputs": [
    {
     "name": "stdout",
     "output_type": "stream",
     "text": [
      "2673.48 (267.348, 133.56885864601824)\n",
      "[2449 2449 2449 2449 2497 2449 2449 2449 2449 2897]\n"
     ]
    },
    {
     "data": {
      "image/png": "[encoded data removed]",
      "text/plain": [
       "<Figure size 432x288 with 1 Axes>"
      ]
     },
     "metadata": {},
     "output_type": "display_data"
    }
   ],
   "source": [
    "c_max = c_totals.max()\n",
    "new_mean = c_max - sd\n",
    "for i,c_tot in enumerate(c_totals):\n",
    "#     c_totals[i] = max(new_mean-sd, min())\n",
    "    if c_tot < mean:\n",
    "        c_totals[i] = max(new_mean-sd, c_tot*(c_tot/mean)/(mean/(new_mean+sd)))\n",
    "    elif c_tot > mean:\n",
    "        c_totals[i] = max(new_mean-sd, c_tot*(c_tot/c_max)/(c_max/(new_mean+sd)))\n",
    "\n",
    "mean = new_mean\n",
    "sa   = c_totals.std()\n",
    "sd   = eps*mean\n",
    "\n",
    "basic_plot()"
   ]
  },
  {
   "cell_type": "code",
   "execution_count": null,
   "metadata": {
    "hidden": true
   },
   "outputs": [],
   "source": []
  },
  {
   "cell_type": "code",
   "execution_count": 491,
   "metadata": {
    "hidden": true
   },
   "outputs": [
    {
     "data": {
      "text/plain": [
       "array([1330, 1122,  235, 1282, 1262, 1055,  166,  838, 1381,  975])"
      ]
     },
     "execution_count": 491,
     "metadata": {},
     "output_type": "execute_result"
    }
   ],
   "source": [
    "diffs"
   ]
  },
  {
   "cell_type": "code",
   "execution_count": 479,
   "metadata": {
    "hidden": true
   },
   "outputs": [],
   "source": [
    "# cat_pops = pops_from_df(csv, colnames=None)\n",
    "cat_pops = pops_from_df(csv)"
   ]
  },
  {
   "cell_type": "code",
   "execution_count": 480,
   "metadata": {
    "hidden": true
   },
   "outputs": [
    {
     "data": {
      "text/plain": [
       "array([[4250],\n",
       "       [4250],\n",
       "       [4250],\n",
       "       [4250],\n",
       "       [4250],\n",
       "       [4250],\n",
       "       [4250],\n",
       "       [4250],\n",
       "       [4250],\n",
       "       [4250]])"
      ]
     },
     "execution_count": 480,
     "metadata": {},
     "output_type": "execute_result"
    }
   ],
   "source": [
    "cat_pops.as_matrix(columns=['pop'])"
   ]
  },
  {
   "cell_type": "code",
   "execution_count": 481,
   "metadata": {
    "hidden": true
   },
   "outputs": [],
   "source": [
    "totals = cat_pops.as_matrix(columns=['pop'])"
   ]
  },
  {
   "cell_type": "code",
   "execution_count": 483,
   "metadata": {
    "hidden": true
   },
   "outputs": [
    {
     "data": {
      "text/plain": [
       "0.0"
      ]
     },
     "execution_count": 483,
     "metadata": {},
     "output_type": "execute_result"
    }
   ],
   "source": [
    "totals.std()"
   ]
  },
  {
   "cell_type": "code",
   "execution_count": 484,
   "metadata": {
    "hidden": true
   },
   "outputs": [
    {
     "data": {
      "text/html": [
       "<div>\n",
       "<style scoped>\n",
       "    .dataframe tbody tr th:only-of-type {\n",
       "        vertical-align: middle;\n",
       "    }\n",
       "\n",
       "    .dataframe tbody tr th {\n",
       "        vertical-align: top;\n",
       "    }\n",
       "\n",
       "    .dataframe thead th {\n",
       "        text-align: right;\n",
       "    }\n",
       "</style>\n",
       "<table border=\"1\" class=\"dataframe\">\n",
       "  <thead>\n",
       "    <tr style=\"text-align: right;\">\n",
       "      <th></th>\n",
       "      <th>cat</th>\n",
       "      <th>pop</th>\n",
       "    </tr>\n",
       "  </thead>\n",
       "  <tbody>\n",
       "    <tr>\n",
       "      <th>0</th>\n",
       "      <td>cat</td>\n",
       "      <td>4250</td>\n",
       "    </tr>\n",
       "    <tr>\n",
       "      <th>1</th>\n",
       "      <td>dog</td>\n",
       "      <td>4250</td>\n",
       "    </tr>\n",
       "    <tr>\n",
       "      <th>2</th>\n",
       "      <td>truck</td>\n",
       "      <td>4250</td>\n",
       "    </tr>\n",
       "    <tr>\n",
       "      <th>3</th>\n",
       "      <td>bird</td>\n",
       "      <td>4250</td>\n",
       "    </tr>\n",
       "    <tr>\n",
       "      <th>4</th>\n",
       "      <td>airplane</td>\n",
       "      <td>4250</td>\n",
       "    </tr>\n",
       "    <tr>\n",
       "      <th>5</th>\n",
       "      <td>ship</td>\n",
       "      <td>4250</td>\n",
       "    </tr>\n",
       "    <tr>\n",
       "      <th>6</th>\n",
       "      <td>frog</td>\n",
       "      <td>4250</td>\n",
       "    </tr>\n",
       "    <tr>\n",
       "      <th>7</th>\n",
       "      <td>horse</td>\n",
       "      <td>4250</td>\n",
       "    </tr>\n",
       "    <tr>\n",
       "      <th>8</th>\n",
       "      <td>deer</td>\n",
       "      <td>4250</td>\n",
       "    </tr>\n",
       "    <tr>\n",
       "      <th>9</th>\n",
       "      <td>automobile</td>\n",
       "      <td>4250</td>\n",
       "    </tr>\n",
       "  </tbody>\n",
       "</table>\n",
       "</div>"
      ],
      "text/plain": [
       "          cat   pop\n",
       "0         cat  4250\n",
       "1         dog  4250\n",
       "2       truck  4250\n",
       "3        bird  4250\n",
       "4    airplane  4250\n",
       "5        ship  4250\n",
       "6        frog  4250\n",
       "7       horse  4250\n",
       "8        deer  4250\n",
       "9  automobile  4250"
      ]
     },
     "execution_count": 484,
     "metadata": {},
     "output_type": "execute_result"
    }
   ],
   "source": [
    "cat_pops"
   ]
  },
  {
   "cell_type": "code",
   "execution_count": 485,
   "metadata": {
    "hidden": true
   },
   "outputs": [
    {
     "name": "stdout",
     "output_type": "stream",
     "text": [
      "['cat']\n",
      "['dog']\n",
      "['truck']\n",
      "['bird']\n",
      "['airplane']\n",
      "['ship']\n",
      "['frog']\n",
      "['horse']\n",
      "['deer']\n",
      "['automobile']\n"
     ]
    }
   ],
   "source": [
    "for cat in cat_pops.as_matrix(columns=['cat']):\n",
    "    print(cat)"
   ]
  },
  {
   "cell_type": "code",
   "execution_count": 489,
   "metadata": {
    "hidden": true
   },
   "outputs": [
    {
     "data": {
      "text/plain": [
       "0        False\n",
       "1        False\n",
       "2        False\n",
       "3        False\n",
       "4        False\n",
       "5        False\n",
       "6        False\n",
       "7        False\n",
       "8        False\n",
       "9        False\n",
       "10       False\n",
       "11       False\n",
       "12       False\n",
       "13       False\n",
       "14       False\n",
       "15       False\n",
       "16       False\n",
       "17       False\n",
       "18       False\n",
       "19       False\n",
       "20       False\n",
       "21       False\n",
       "22       False\n",
       "23       False\n",
       "24       False\n",
       "25       False\n",
       "26       False\n",
       "27       False\n",
       "28       False\n",
       "29       False\n",
       "         ...  \n",
       "42470     True\n",
       "42471     True\n",
       "42472     True\n",
       "42473     True\n",
       "42474     True\n",
       "42475     True\n",
       "42476     True\n",
       "42477     True\n",
       "42478     True\n",
       "42479     True\n",
       "42480     True\n",
       "42481     True\n",
       "42482     True\n",
       "42483     True\n",
       "42484     True\n",
       "42485     True\n",
       "42486     True\n",
       "42487     True\n",
       "42488     True\n",
       "42489     True\n",
       "42490     True\n",
       "42491     True\n",
       "42492     True\n",
       "42493     True\n",
       "42494     True\n",
       "42495     True\n",
       "42496     True\n",
       "42497     True\n",
       "42498     True\n",
       "42499     True\n",
       "Name: class, Length: 42500, dtype: bool"
      ]
     },
     "execution_count": 489,
     "metadata": {},
     "output_type": "execute_result"
    }
   ],
   "source": [
    "df['class']==cat[0]"
   ]
  },
  {
   "cell_type": "code",
   "execution_count": null,
   "metadata": {
    "hidden": true
   },
   "outputs": [],
   "source": []
  },
  {
   "cell_type": "code",
   "execution_count": 306,
   "metadata": {
    "hidden": true
   },
   "outputs": [
    {
     "data": {
      "text/plain": [
       "150.0"
      ]
     },
     "execution_count": 306,
     "metadata": {},
     "output_type": "execute_result"
    }
   ],
   "source": [
    "c_max = 150\n",
    "c_tot = c_max\n",
    "sd = 20\n",
    "new_mean = c_max - sd\n",
    "\n",
    "c_tot*(c_tot/c_max)/(c_max/(new_mean+sd))"
   ]
  },
  {
   "cell_type": "code",
   "execution_count": 309,
   "metadata": {
    "hidden": true
   },
   "outputs": [
    {
     "data": {
      "text/plain": [
       "2704"
      ]
     },
     "execution_count": 309,
     "metadata": {},
     "output_type": "execute_result"
    }
   ],
   "source": [
    "c_max"
   ]
  },
  {
   "cell_type": "code",
   "execution_count": 311,
   "metadata": {
    "hidden": true
   },
   "outputs": [
    {
     "data": {
      "text/plain": [
       "2775.487"
      ]
     },
     "execution_count": 311,
     "metadata": {},
     "output_type": "execute_result"
    }
   ],
   "source": [
    "new_mean + sd"
   ]
  },
  {
   "cell_type": "code",
   "execution_count": null,
   "metadata": {
    "hidden": true
   },
   "outputs": [],
   "source": []
  },
  {
   "cell_type": "code",
   "execution_count": 298,
   "metadata": {
    "hidden": true
   },
   "outputs": [
    {
     "data": {
      "text/plain": [
       "2575.0"
      ]
     },
     "execution_count": 298,
     "metadata": {},
     "output_type": "execute_result"
    }
   ],
   "source": [
    "c_totals.mean()"
   ]
  },
  {
   "cell_type": "code",
   "execution_count": 299,
   "metadata": {
    "hidden": true
   },
   "outputs": [
    {
     "data": {
      "text/plain": [
       "2787.3"
      ]
     },
     "execution_count": 299,
     "metadata": {},
     "output_type": "execute_result"
    }
   ],
   "source": [
    "mean"
   ]
  },
  {
   "cell_type": "code",
   "execution_count": 297,
   "metadata": {
    "hidden": true
   },
   "outputs": [
    {
     "name": "stdout",
     "output_type": "stream",
     "text": [
      "2787.3 (278.73, 0.0)\n",
      "[2575 2575 2575 2575 2575 2575 2575 2575 2575 2575]\n"
     ]
    },
    {
     "data": {
      "image/png": "[encoded data removed]",
      "text/plain": [
       "<Figure size 432x288 with 1 Axes>"
      ]
     },
     "metadata": {},
     "output_type": "display_data"
    }
   ],
   "source": [
    "basic_plot()"
   ]
  },
  {
   "cell_type": "code",
   "execution_count": 287,
   "metadata": {
    "hidden": true
   },
   "outputs": [
    {
     "data": {
      "text/plain": [
       "1.05"
      ]
     },
     "execution_count": 287,
     "metadata": {},
     "output_type": "execute_result"
    }
   ],
   "source": [
    "(70/100)/(100/150)"
   ]
  },
  {
   "cell_type": "code",
   "execution_count": 294,
   "metadata": {
    "hidden": true
   },
   "outputs": [
    {
     "data": {
      "text/plain": [
       "2.25"
      ]
     },
     "execution_count": 294,
     "metadata": {},
     "output_type": "execute_result"
    }
   ],
   "source": [
    "(150/100)/(100/150)"
   ]
  },
  {
   "cell_type": "code",
   "execution_count": null,
   "metadata": {
    "hidden": true
   },
   "outputs": [],
   "source": []
  },
  {
   "cell_type": "markdown",
   "metadata": {
    "hidden": true
   },
   "source": [
    "Standard Deviation formula:\n",
    "<img src=\"https://www.mathsisfun.com/data/images/standard-deviation-formula.gif\" >\n",
    "\n",
    "So, I want σ to be `eps` percent of the total dataset. The main factor in this eq is the difference from the mean. And it's squared, so there's a high penalty on being off-mean. What makes this not-simple is σ and μ affect each other, so there's a differential equation somewhere that has to be solved.\n",
    "\n",
    "1st algorithm idea:\n",
    "```\n",
    "σ: standard deviation; α: actual; δ: desired\n",
    "\n",
    "k = σδ/2\n",
    "\n",
    "While the σα is greater than σδ:\n",
    "\n",
    "    For each category:\n",
    "        if that category is below the mean by more than 1 σδ:\n",
    "            add k σδ of random copies to that category\n",
    "\n",
    "    recalculate mean\n",
    "    recalculate σδ\n",
    "\n",
    "    If no categories are below the mean by more than 1 σδ:\n",
    "        k = k/2\n",
    "```\n",
    "\n",
    "I'm concerned about updates. The 'perfect' numerical solution is to recalculate the mean/stdv every time `k` is added, and to keep `k` at 1. This is also a worst-case scenario for time. Setting `k=σδ/2` is my attempt at striking a balance between 'resolution' and speed."
   ]
  },
  {
   "cell_type": "code",
   "execution_count": 338,
   "metadata": {
    "hidden": true
   },
   "outputs": [
    {
     "name": "stdout",
     "output_type": "stream",
     "text": [
      "2191.6 (219.16, 501.9958565566055)\n",
      "[2187 1255 1965 2302 2380 2358 2208 2954 2836 1471]\n"
     ]
    },
    {
     "data": {
      "image/png": "[encoded data removed]",
      "text/plain": [
       "<Figure size 432x288 with 1 Axes>"
      ]
     },
     "metadata": {},
     "output_type": "display_data"
    }
   ],
   "source": [
    "eps = 0.1\n",
    "\n",
    "c_totals = np.random.randint(1000, 3000, size=10)\n",
    "mean = c_totals.mean()\n",
    "sa   = c_totals.std()\n",
    "sd   = eps * mean\n",
    "\n",
    "k = sd/2\n",
    "\n",
    "iters = 0\n",
    "\n",
    "basic_plot()"
   ]
  },
  {
   "cell_type": "markdown",
   "metadata": {
    "hidden": true
   },
   "source": [
    "this initial version of the algorithm stops progressing when the minimum total is within 1 desired standard deviation of the mean. However, if any totals are more than a desired stdv from the mean, the actual stdv will be greater than that desired. This algorithm will fail to converge whenever this condition exists."
   ]
  },
  {
   "cell_type": "code",
   "execution_count": 349,
   "metadata": {
    "hidden": true
   },
   "outputs": [
    {
     "name": "stdout",
     "output_type": "stream",
     "text": [
      "iterations: 11\n",
      "2387.8 (238.78000000000003, 262.88126597382325)\n",
      "[2187 2236 2183 2302 2380 2358 2208 2954 2836 2234]\n"
     ]
    },
    {
     "data": {
      "image/png": "[encoded data removed]",
      "text/plain": [
       "<Figure size 432x288 with 1 Axes>"
      ]
     },
     "metadata": {},
     "output_type": "display_data"
    }
   ],
   "source": [
    "# while sa > sd:\n",
    "k_OK = False\n",
    "for i,c_tot in enumerate(c_totals):\n",
    "    if mean - c_tot > sd:\n",
    "        c_totals[i] += k\n",
    "        k_OK = True\n",
    "        \n",
    "# update\n",
    "mean = c_totals.mean()\n",
    "sa   = c_totals.std()\n",
    "sd   = eps * mean\n",
    "\n",
    "# check resolution change\n",
    "if not k_OK: k /= 2\n",
    "\n",
    "iters += 1; print(f'iterations: {iters}')\n",
    "basic_plot()"
   ]
  },
  {
   "cell_type": "code",
   "execution_count": 350,
   "metadata": {
    "hidden": true
   },
   "outputs": [
    {
     "data": {
      "text/plain": [
       "27.395"
      ]
     },
     "execution_count": 350,
     "metadata": {},
     "output_type": "execute_result"
    }
   ],
   "source": [
    "k"
   ]
  },
  {
   "cell_type": "code",
   "execution_count": 146,
   "metadata": {
    "hidden": true
   },
   "outputs": [
    {
     "data": {
      "text/plain": [
       "0.363515625"
      ]
     },
     "execution_count": 146,
     "metadata": {},
     "output_type": "execute_result"
    }
   ],
   "source": [
    "k"
   ]
  },
  {
   "cell_type": "code",
   "execution_count": null,
   "metadata": {
    "hidden": true
   },
   "outputs": [],
   "source": []
  },
  {
   "cell_type": "code",
   "execution_count": 29,
   "metadata": {
    "hidden": true
   },
   "outputs": [
    {
     "data": {
      "text/html": [
       "<div>\n",
       "<style scoped>\n",
       "    .dataframe tbody tr th:only-of-type {\n",
       "        vertical-align: middle;\n",
       "    }\n",
       "\n",
       "    .dataframe tbody tr th {\n",
       "        vertical-align: top;\n",
       "    }\n",
       "\n",
       "    .dataframe thead th {\n",
       "        text-align: right;\n",
       "    }\n",
       "</style>\n",
       "<table border=\"1\" class=\"dataframe\">\n",
       "  <thead>\n",
       "    <tr style=\"text-align: right;\">\n",
       "      <th></th>\n",
       "      <th>cat</th>\n",
       "      <th>pop</th>\n",
       "    </tr>\n",
       "  </thead>\n",
       "  <tbody>\n",
       "    <tr>\n",
       "      <th>0</th>\n",
       "      <td>cat</td>\n",
       "      <td>4250</td>\n",
       "    </tr>\n",
       "    <tr>\n",
       "      <th>1</th>\n",
       "      <td>dog</td>\n",
       "      <td>4250</td>\n",
       "    </tr>\n",
       "    <tr>\n",
       "      <th>2</th>\n",
       "      <td>truck</td>\n",
       "      <td>4250</td>\n",
       "    </tr>\n",
       "    <tr>\n",
       "      <th>3</th>\n",
       "      <td>bird</td>\n",
       "      <td>4250</td>\n",
       "    </tr>\n",
       "    <tr>\n",
       "      <th>4</th>\n",
       "      <td>airplane</td>\n",
       "      <td>4250</td>\n",
       "    </tr>\n",
       "    <tr>\n",
       "      <th>5</th>\n",
       "      <td>ship</td>\n",
       "      <td>4250</td>\n",
       "    </tr>\n",
       "    <tr>\n",
       "      <th>6</th>\n",
       "      <td>frog</td>\n",
       "      <td>4250</td>\n",
       "    </tr>\n",
       "    <tr>\n",
       "      <th>7</th>\n",
       "      <td>horse</td>\n",
       "      <td>4250</td>\n",
       "    </tr>\n",
       "    <tr>\n",
       "      <th>8</th>\n",
       "      <td>deer</td>\n",
       "      <td>4250</td>\n",
       "    </tr>\n",
       "    <tr>\n",
       "      <th>9</th>\n",
       "      <td>automobile</td>\n",
       "      <td>4250</td>\n",
       "    </tr>\n",
       "  </tbody>\n",
       "</table>\n",
       "</div>"
      ],
      "text/plain": [
       "          cat   pop\n",
       "0         cat  4250\n",
       "1         dog  4250\n",
       "2       truck  4250\n",
       "3        bird  4250\n",
       "4    airplane  4250\n",
       "5        ship  4250\n",
       "6        frog  4250\n",
       "7       horse  4250\n",
       "8        deer  4250\n",
       "9  automobile  4250"
      ]
     },
     "execution_count": 29,
     "metadata": {},
     "output_type": "execute_result"
    }
   ],
   "source": [
    "cat_pops"
   ]
  },
  {
   "cell_type": "code",
   "execution_count": null,
   "metadata": {
    "hidden": true
   },
   "outputs": [],
   "source": []
  },
  {
   "cell_type": "code",
   "execution_count": 21,
   "metadata": {
    "hidden": true
   },
   "outputs": [
    {
     "data": {
      "text/plain": [
       "(1066.6666666666667, 249.44382578492943)"
      ]
     },
     "execution_count": 21,
     "metadata": {},
     "output_type": "execute_result"
    }
   ],
   "source": [
    "data = np.array([1000, 1500, 700, 1200, 1100, 900])\n",
    "data.mean(), data.std()"
   ]
  },
  {
   "cell_type": "code",
   "execution_count": 26,
   "metadata": {
    "hidden": true
   },
   "outputs": [
    {
     "data": {
      "text/plain": [
       "106.66666666666669"
      ]
     },
     "execution_count": 26,
     "metadata": {},
     "output_type": "execute_result"
    }
   ],
   "source": [
    "ε = 0.1\n",
    "σ = data.mean() * ε; σ"
   ]
  },
  {
   "cell_type": "code",
   "execution_count": null,
   "metadata": {
    "hidden": true
   },
   "outputs": [],
   "source": []
  },
  {
   "cell_type": "code",
   "execution_count": 277,
   "metadata": {
    "hidden": true
   },
   "outputs": [
    {
     "data": {
      "text/html": [
       "<div>\n",
       "<style scoped>\n",
       "    .dataframe tbody tr th:only-of-type {\n",
       "        vertical-align: middle;\n",
       "    }\n",
       "\n",
       "    .dataframe tbody tr th {\n",
       "        vertical-align: top;\n",
       "    }\n",
       "\n",
       "    .dataframe thead th {\n",
       "        text-align: right;\n",
       "    }\n",
       "</style>\n",
       "<table border=\"1\" class=\"dataframe\">\n",
       "  <thead>\n",
       "    <tr style=\"text-align: right;\">\n",
       "      <th></th>\n",
       "      <th>cat</th>\n",
       "      <th>pop</th>\n",
       "    </tr>\n",
       "  </thead>\n",
       "  <tbody>\n",
       "    <tr>\n",
       "      <th>0</th>\n",
       "      <td>bird</td>\n",
       "      <td>90</td>\n",
       "    </tr>\n",
       "    <tr>\n",
       "      <th>1</th>\n",
       "      <td>ship</td>\n",
       "      <td>105</td>\n",
       "    </tr>\n",
       "    <tr>\n",
       "      <th>2</th>\n",
       "      <td>cat</td>\n",
       "      <td>102</td>\n",
       "    </tr>\n",
       "    <tr>\n",
       "      <th>3</th>\n",
       "      <td>frog</td>\n",
       "      <td>102</td>\n",
       "    </tr>\n",
       "    <tr>\n",
       "      <th>4</th>\n",
       "      <td>automobile</td>\n",
       "      <td>99</td>\n",
       "    </tr>\n",
       "    <tr>\n",
       "      <th>5</th>\n",
       "      <td>horse</td>\n",
       "      <td>91</td>\n",
       "    </tr>\n",
       "    <tr>\n",
       "      <th>6</th>\n",
       "      <td>truck</td>\n",
       "      <td>97</td>\n",
       "    </tr>\n",
       "    <tr>\n",
       "      <th>7</th>\n",
       "      <td>deer</td>\n",
       "      <td>117</td>\n",
       "    </tr>\n",
       "    <tr>\n",
       "      <th>8</th>\n",
       "      <td>airplane</td>\n",
       "      <td>108</td>\n",
       "    </tr>\n",
       "    <tr>\n",
       "      <th>9</th>\n",
       "      <td>dog</td>\n",
       "      <td>89</td>\n",
       "    </tr>\n",
       "  </tbody>\n",
       "</table>\n",
       "</div>"
      ],
      "text/plain": [
       "          cat  pop\n",
       "0        bird   90\n",
       "1        ship  105\n",
       "2         cat  102\n",
       "3        frog  102\n",
       "4  automobile   99\n",
       "5       horse   91\n",
       "6       truck   97\n",
       "7        deer  117\n",
       "8    airplane  108\n",
       "9         dog   89"
      ]
     },
     "execution_count": 277,
     "metadata": {},
     "output_type": "execute_result"
    }
   ],
   "source": [
    "pops_from_df(df.sample(n=1000))"
   ]
  },
  {
   "cell_type": "code",
   "execution_count": 375,
   "metadata": {
    "hidden": true
   },
   "outputs": [],
   "source": [
    "n = 100\n",
    "\n",
    "catdx=1\n",
    "catcol = df.columns[catdx]\n",
    "cats = df[catcol].unique()\n",
    "\n",
    "df_slice = df[catcol]\n",
    "\n",
    "keep_idxs = np.array([], dtype=np.int64) ## np.dtype(int) --> dtype('int64')\n",
    "for cat in cats:\n",
    "    keep_idxs = np.concatenate((keep_idxs, np.random.choice(np.where(df_slice==cat)[0], size=n, replace=False)))"
   ]
  },
  {
   "cell_type": "code",
   "execution_count": 385,
   "metadata": {
    "hidden": true
   },
   "outputs": [
    {
     "data": {
      "text/plain": [
       "array([38250, 38251, 38252, ..., 42497, 42498, 42499])"
      ]
     },
     "execution_count": 385,
     "metadata": {},
     "output_type": "execute_result"
    }
   ],
   "source": [
    "np.where(df_slice==cat)[0]"
   ]
  },
  {
   "cell_type": "code",
   "execution_count": 384,
   "metadata": {
    "hidden": true
   },
   "outputs": [
    {
     "data": {
      "text/plain": [
       "4250"
      ]
     },
     "execution_count": 384,
     "metadata": {},
     "output_type": "execute_result"
    }
   ],
   "source": [
    "len(np.where(df_slice==cat)[0])"
   ]
  },
  {
   "cell_type": "code",
   "execution_count": 390,
   "metadata": {
    "hidden": true
   },
   "outputs": [
    {
     "data": {
      "text/plain": [
       "(array([], dtype=int64), array([], dtype=int64))"
      ]
     },
     "execution_count": 390,
     "metadata": {},
     "output_type": "execute_result"
    }
   ],
   "source": [
    "np.array([], dtype='int64'), np.array([], dtype=np.int64)"
   ]
  },
  {
   "cell_type": "code",
   "execution_count": 377,
   "metadata": {
    "hidden": true
   },
   "outputs": [
    {
     "data": {
      "text/plain": [
       "(1000,)"
      ]
     },
     "execution_count": 377,
     "metadata": {},
     "output_type": "execute_result"
    }
   ],
   "source": [
    "keep_idxs.shape"
   ]
  },
  {
   "cell_type": "code",
   "execution_count": 380,
   "metadata": {
    "hidden": true
   },
   "outputs": [
    {
     "data": {
      "text/html": [
       "<div>\n",
       "<style scoped>\n",
       "    .dataframe tbody tr th:only-of-type {\n",
       "        vertical-align: middle;\n",
       "    }\n",
       "\n",
       "    .dataframe tbody tr th {\n",
       "        vertical-align: top;\n",
       "    }\n",
       "\n",
       "    .dataframe thead th {\n",
       "        text-align: right;\n",
       "    }\n",
       "</style>\n",
       "<table border=\"1\" class=\"dataframe\">\n",
       "  <thead>\n",
       "    <tr style=\"text-align: right;\">\n",
       "      <th></th>\n",
       "      <th>file</th>\n",
       "      <th>class</th>\n",
       "    </tr>\n",
       "  </thead>\n",
       "  <tbody>\n",
       "    <tr>\n",
       "      <th>1212</th>\n",
       "      <td>cat/32702_cat.png</td>\n",
       "      <td>cat</td>\n",
       "    </tr>\n",
       "    <tr>\n",
       "      <th>3603</th>\n",
       "      <td>cat/39013_cat.png</td>\n",
       "      <td>cat</td>\n",
       "    </tr>\n",
       "    <tr>\n",
       "      <th>2162</th>\n",
       "      <td>cat/5065_cat.png</td>\n",
       "      <td>cat</td>\n",
       "    </tr>\n",
       "    <tr>\n",
       "      <th>2046</th>\n",
       "      <td>cat/47554_cat.png</td>\n",
       "      <td>cat</td>\n",
       "    </tr>\n",
       "    <tr>\n",
       "      <th>2525</th>\n",
       "      <td>cat/5502_cat.png</td>\n",
       "      <td>cat</td>\n",
       "    </tr>\n",
       "    <tr>\n",
       "      <th>93</th>\n",
       "      <td>cat/32423_cat.png</td>\n",
       "      <td>cat</td>\n",
       "    </tr>\n",
       "    <tr>\n",
       "      <th>1000</th>\n",
       "      <td>cat/18970_cat.png</td>\n",
       "      <td>cat</td>\n",
       "    </tr>\n",
       "    <tr>\n",
       "      <th>2507</th>\n",
       "      <td>cat/2083_cat.png</td>\n",
       "      <td>cat</td>\n",
       "    </tr>\n",
       "    <tr>\n",
       "      <th>771</th>\n",
       "      <td>cat/19922_cat.png</td>\n",
       "      <td>cat</td>\n",
       "    </tr>\n",
       "    <tr>\n",
       "      <th>3884</th>\n",
       "      <td>cat/45850_cat.png</td>\n",
       "      <td>cat</td>\n",
       "    </tr>\n",
       "  </tbody>\n",
       "</table>\n",
       "</div>"
      ],
      "text/plain": [
       "                   file class\n",
       "1212  cat/32702_cat.png   cat\n",
       "3603  cat/39013_cat.png   cat\n",
       "2162   cat/5065_cat.png   cat\n",
       "2046  cat/47554_cat.png   cat\n",
       "2525   cat/5502_cat.png   cat\n",
       "93    cat/32423_cat.png   cat\n",
       "1000  cat/18970_cat.png   cat\n",
       "2507   cat/2083_cat.png   cat\n",
       "771   cat/19922_cat.png   cat\n",
       "3884  cat/45850_cat.png   cat"
      ]
     },
     "execution_count": 380,
     "metadata": {},
     "output_type": "execute_result"
    }
   ],
   "source": [
    "df.iloc[keep_idxs].head(n=10)"
   ]
  },
  {
   "cell_type": "code",
   "execution_count": 381,
   "metadata": {
    "hidden": true
   },
   "outputs": [
    {
     "data": {
      "text/html": [
       "<div>\n",
       "<style scoped>\n",
       "    .dataframe tbody tr th:only-of-type {\n",
       "        vertical-align: middle;\n",
       "    }\n",
       "\n",
       "    .dataframe tbody tr th {\n",
       "        vertical-align: top;\n",
       "    }\n",
       "\n",
       "    .dataframe thead th {\n",
       "        text-align: right;\n",
       "    }\n",
       "</style>\n",
       "<table border=\"1\" class=\"dataframe\">\n",
       "  <thead>\n",
       "    <tr style=\"text-align: right;\">\n",
       "      <th></th>\n",
       "      <th>file</th>\n",
       "      <th>class</th>\n",
       "    </tr>\n",
       "  </thead>\n",
       "  <tbody>\n",
       "    <tr>\n",
       "      <th>7354</th>\n",
       "      <td>dog/28740_dog.png</td>\n",
       "      <td>dog</td>\n",
       "    </tr>\n",
       "    <tr>\n",
       "      <th>38808</th>\n",
       "      <td>automobile/42438_automobile.png</td>\n",
       "      <td>automobile</td>\n",
       "    </tr>\n",
       "    <tr>\n",
       "      <th>1072</th>\n",
       "      <td>cat/41673_cat.png</td>\n",
       "      <td>cat</td>\n",
       "    </tr>\n",
       "    <tr>\n",
       "      <th>13373</th>\n",
       "      <td>bird/8321_bird.png</td>\n",
       "      <td>bird</td>\n",
       "    </tr>\n",
       "    <tr>\n",
       "      <th>30367</th>\n",
       "      <td>horse/19089_horse.png</td>\n",
       "      <td>horse</td>\n",
       "    </tr>\n",
       "    <tr>\n",
       "      <th>28762</th>\n",
       "      <td>frog/20297_frog.png</td>\n",
       "      <td>frog</td>\n",
       "    </tr>\n",
       "    <tr>\n",
       "      <th>20112</th>\n",
       "      <td>airplane/41345_airplane.png</td>\n",
       "      <td>airplane</td>\n",
       "    </tr>\n",
       "    <tr>\n",
       "      <th>5926</th>\n",
       "      <td>dog/7472_dog.png</td>\n",
       "      <td>dog</td>\n",
       "    </tr>\n",
       "    <tr>\n",
       "      <th>34833</th>\n",
       "      <td>deer/18875_deer.png</td>\n",
       "      <td>deer</td>\n",
       "    </tr>\n",
       "    <tr>\n",
       "      <th>15485</th>\n",
       "      <td>bird/14946_bird.png</td>\n",
       "      <td>bird</td>\n",
       "    </tr>\n",
       "  </tbody>\n",
       "</table>\n",
       "</div>"
      ],
      "text/plain": [
       "                                  file       class\n",
       "7354                 dog/28740_dog.png         dog\n",
       "38808  automobile/42438_automobile.png  automobile\n",
       "1072                 cat/41673_cat.png         cat\n",
       "13373               bird/8321_bird.png        bird\n",
       "30367            horse/19089_horse.png       horse\n",
       "28762              frog/20297_frog.png        frog\n",
       "20112      airplane/41345_airplane.png    airplane\n",
       "5926                  dog/7472_dog.png         dog\n",
       "34833              deer/18875_deer.png        deer\n",
       "15485              bird/14946_bird.png        bird"
      ]
     },
     "execution_count": 381,
     "metadata": {},
     "output_type": "execute_result"
    }
   ],
   "source": [
    "df.iloc[keep_idxs].sample(n=10)"
   ]
  },
  {
   "cell_type": "code",
   "execution_count": null,
   "metadata": {
    "hidden": true
   },
   "outputs": [],
   "source": []
  },
  {
   "cell_type": "code",
   "execution_count": null,
   "metadata": {
    "hidden": true
   },
   "outputs": [],
   "source": []
  },
  {
   "cell_type": "code",
   "execution_count": 374,
   "metadata": {
    "hidden": true
   },
   "outputs": [
    {
     "data": {
      "text/plain": [
       "dtype('int64')"
      ]
     },
     "execution_count": 374,
     "metadata": {},
     "output_type": "execute_result"
    }
   ],
   "source": [
    "np.dtype(type(3))"
   ]
  },
  {
   "cell_type": "code",
   "execution_count": 376,
   "metadata": {
    "hidden": true
   },
   "outputs": [
    {
     "data": {
      "text/plain": [
       "array([1212, 3603, 2162, 2046, 2525,   93, 1000, 2507,  771, 3884, 1585,\n",
       "       2912, 3028,  982, 3309, 1072, 4057,  825, 2564, 3107,   77,  767,\n",
       "        997, 3694, 2481, 2382, 3043, 3716, 3621, 2356, 2052, 1666, 2901,\n",
       "       3226, 1771, 3892,  893,  984, 3541, 2205, 2203, 4204,  484, 1039,\n",
       "       1787, 1927, 3474,  578, 1190, 2221, 3273, 2151,   35,  677, 2006,\n",
       "       1774,  583, 3697,  403, 3899, 2748, 3850, 1392,   84,  819,  338,\n",
       "        939, 2811, 1995, 3407, 2153, 3354, 3842, 1176, 3324, 2386,  197,\n",
       "       2875, 2634, 2375, 3219, 2606,  657, 3614, 1268, 1887, 3122, 2855,\n",
       "         95, 2668, 1413, 1763, 2014, 1710,  700,  401, 2624, 2309,  650,\n",
       "       3701])"
      ]
     },
     "execution_count": 376,
     "metadata": {},
     "output_type": "execute_result"
    }
   ],
   "source": [
    "keep_idxs[:100]"
   ]
  },
  {
   "cell_type": "code",
   "execution_count": 351,
   "metadata": {
    "hidden": true
   },
   "outputs": [
    {
     "ename": "TypeError",
     "evalue": "only integer scalar arrays can be converted to a scalar index",
     "output_type": "error",
     "traceback": [
      "\u001b[0;31m---------------------------------------------------------------------------\u001b[0m",
      "\u001b[0;31mTypeError\u001b[0m                                 Traceback (most recent call last)",
      "\u001b[0;32m<ipython-input-351-ab1012697a98>\u001b[0m in \u001b[0;36m<module>\u001b[0;34m()\u001b[0m\n\u001b[1;32m      1\u001b[0m np.concatenate(keep_idxs, \n\u001b[0;32m----> 2\u001b[0;31m                np.random.choice(np.where(df_slice==cat)[0], size=n, replace=False))\n\u001b[0m",
      "\u001b[0;31mTypeError\u001b[0m: only integer scalar arrays can be converted to a scalar index"
     ]
    }
   ],
   "source": [
    "np.concatenate(keep_idxs, np.random.choice(np.where(df_slice==cat)[0], size=n, replace=False))"
   ]
  },
  {
   "cell_type": "code",
   "execution_count": 355,
   "metadata": {
    "hidden": true
   },
   "outputs": [
    {
     "data": {
      "text/plain": [
       "array([ 649,  909, 3390,  377, 1873, 4088, 3097, 2128, 2550, 2647, 3446,\n",
       "        920, 2876, 3022, 2431,   16,  866, 3886, 1753,  339, 2684, 3358,\n",
       "       3514, 3127, 1155,  837, 2827,  724,  487, 1114, 2674, 2455,  391,\n",
       "       1143, 2353,  279, 1566,  838, 3808,  974,   35,  456,  829, 1755,\n",
       "       3984,   41,  794, 2937,  307, 2745,   40, 2961, 1691, 1818, 3538,\n",
       "       3718,  536, 3196, 3880, 1179, 3325,  672, 1607,  861, 1905, 1749,\n",
       "        732, 2645, 4022,  968, 3445, 3611, 1892,  972,  439, 3835, 1444,\n",
       "       3375, 1005, 1389, 2117, 1413, 1266, 2432, 2787, 2492,  912, 4086,\n",
       "       1612, 3692, 3106,  538, 2894,  289, 1040,  870, 1866, 2189, 3222,\n",
       "       2082])"
      ]
     },
     "execution_count": 355,
     "metadata": {},
     "output_type": "execute_result"
    }
   ],
   "source": [
    "np.random.choice(np.where(df_slice==cat)[0], size=n, replace=False)"
   ]
  },
  {
   "cell_type": "code",
   "execution_count": null,
   "metadata": {
    "hidden": true
   },
   "outputs": [],
   "source": []
  },
  {
   "cell_type": "code",
   "execution_count": 337,
   "metadata": {
    "hidden": true
   },
   "outputs": [],
   "source": [
    "keep_idxs = np.array([])"
   ]
  },
  {
   "cell_type": "code",
   "execution_count": 339,
   "metadata": {
    "hidden": true
   },
   "outputs": [],
   "source": [
    "x = np.array([1,2,3,])"
   ]
  },
  {
   "cell_type": "code",
   "execution_count": 340,
   "metadata": {
    "hidden": true
   },
   "outputs": [
    {
     "data": {
      "text/plain": [
       "(3,)"
      ]
     },
     "execution_count": 340,
     "metadata": {},
     "output_type": "execute_result"
    }
   ],
   "source": [
    "x.shape"
   ]
  },
  {
   "cell_type": "code",
   "execution_count": 342,
   "metadata": {
    "hidden": true
   },
   "outputs": [
    {
     "data": {
      "text/plain": [
       "array([1., 2., 3.])"
      ]
     },
     "execution_count": 342,
     "metadata": {},
     "output_type": "execute_result"
    }
   ],
   "source": [
    "np.concatenate((keep_idxs, x))"
   ]
  },
  {
   "cell_type": "code",
   "execution_count": null,
   "metadata": {
    "hidden": true
   },
   "outputs": [],
   "source": []
  },
  {
   "cell_type": "code",
   "execution_count": 298,
   "metadata": {
    "hidden": true
   },
   "outputs": [],
   "source": [
    "catdx=1\n",
    "catcol = df.columns[catdx]\n",
    "cats = df[catcol].unique()\n",
    "for cat in cats:\n",
    "#     pops = [df[df[y]==cat].count()[0] for cat in cats]\n",
    "    keepidx = np.where(df[df[catcol]==cat])\n",
    "    break"
   ]
  },
  {
   "cell_type": "code",
   "execution_count": null,
   "metadata": {
    "hidden": true
   },
   "outputs": [],
   "source": []
  },
  {
   "cell_type": "code",
   "execution_count": 334,
   "metadata": {
    "hidden": true
   },
   "outputs": [],
   "source": [
    "df_slice = df[catcol]\n",
    "keepidxs = np.random.choice(np.where(df_slice==cat)[0], size = 20, replace=False)"
   ]
  },
  {
   "cell_type": "code",
   "execution_count": 332,
   "metadata": {
    "hidden": true
   },
   "outputs": [
    {
     "data": {
      "text/plain": [
       "array([   0,    1,    2, ..., 4247, 4248, 4249])"
      ]
     },
     "execution_count": 332,
     "metadata": {},
     "output_type": "execute_result"
    }
   ],
   "source": [
    "np.where(df_slice==cat)[0]"
   ]
  },
  {
   "cell_type": "code",
   "execution_count": 327,
   "metadata": {
    "hidden": true
   },
   "outputs": [
    {
     "data": {
      "text/plain": [
       "0               cat\n",
       "1               cat\n",
       "2               cat\n",
       "3               cat\n",
       "4               cat\n",
       "5               cat\n",
       "6               cat\n",
       "7               cat\n",
       "8               cat\n",
       "9               cat\n",
       "10              cat\n",
       "11              cat\n",
       "12              cat\n",
       "13              cat\n",
       "14              cat\n",
       "15              cat\n",
       "16              cat\n",
       "17              cat\n",
       "18              cat\n",
       "19              cat\n",
       "20              cat\n",
       "21              cat\n",
       "22              cat\n",
       "23              cat\n",
       "24              cat\n",
       "25              cat\n",
       "26              cat\n",
       "27              cat\n",
       "28              cat\n",
       "29              cat\n",
       "            ...    \n",
       "42470    automobile\n",
       "42471    automobile\n",
       "42472    automobile\n",
       "42473    automobile\n",
       "42474    automobile\n",
       "42475    automobile\n",
       "42476    automobile\n",
       "42477    automobile\n",
       "42478    automobile\n",
       "42479    automobile\n",
       "42480    automobile\n",
       "42481    automobile\n",
       "42482    automobile\n",
       "42483    automobile\n",
       "42484    automobile\n",
       "42485    automobile\n",
       "42486    automobile\n",
       "42487    automobile\n",
       "42488    automobile\n",
       "42489    automobile\n",
       "42490    automobile\n",
       "42491    automobile\n",
       "42492    automobile\n",
       "42493    automobile\n",
       "42494    automobile\n",
       "42495    automobile\n",
       "42496    automobile\n",
       "42497    automobile\n",
       "42498    automobile\n",
       "42499    automobile\n",
       "Name: class, Length: 42500, dtype: object"
      ]
     },
     "execution_count": 327,
     "metadata": {},
     "output_type": "execute_result"
    }
   ],
   "source": [
    "df_slice"
   ]
  },
  {
   "cell_type": "code",
   "execution_count": null,
   "metadata": {
    "hidden": true
   },
   "outputs": [],
   "source": []
  },
  {
   "cell_type": "code",
   "execution_count": 308,
   "metadata": {
    "hidden": true
   },
   "outputs": [
    {
     "data": {
      "text/plain": [
       "(8500,)"
      ]
     },
     "execution_count": 308,
     "metadata": {},
     "output_type": "execute_result"
    }
   ],
   "source": [
    "keepidx = np.where(df[df[catcol]==cat])\n",
    "keepidx[0].shape"
   ]
  },
  {
   "cell_type": "code",
   "execution_count": 317,
   "metadata": {
    "hidden": true
   },
   "outputs": [
    {
     "data": {
      "text/plain": [
       "(4250,)"
      ]
     },
     "execution_count": 317,
     "metadata": {},
     "output_type": "execute_result"
    }
   ],
   "source": [
    "keepidx = df[df[catcol]==cat].as_matrix()[:,0]\n",
    "keepidx.shape"
   ]
  },
  {
   "cell_type": "code",
   "execution_count": 318,
   "metadata": {
    "hidden": true
   },
   "outputs": [
    {
     "data": {
      "text/plain": [
       "array(['cat/21851_cat.png', 'cat/45066_cat.png', 'cat/4835_cat.png', ...,\n",
       "       'cat/46013_cat.png', 'cat/45379_cat.png', 'cat/49298_cat.png'],\n",
       "      dtype=object)"
      ]
     },
     "execution_count": 318,
     "metadata": {},
     "output_type": "execute_result"
    }
   ],
   "source": [
    "keepidx[:n]"
   ]
  },
  {
   "cell_type": "code",
   "execution_count": 319,
   "metadata": {
    "hidden": true
   },
   "outputs": [
    {
     "data": {
      "text/plain": [
       "array([0, 0, 1, 1, 2, 2, 3, 3, 4, 4])"
      ]
     },
     "execution_count": 319,
     "metadata": {},
     "output_type": "execute_result"
    }
   ],
   "source": [
    "keepidx = np.where(df[df[catcol]==cat])\n",
    "keepidx[0][:10]"
   ]
  },
  {
   "cell_type": "code",
   "execution_count": 323,
   "metadata": {
    "hidden": true
   },
   "outputs": [
    {
     "data": {
      "text/html": [
       "<div>\n",
       "<style scoped>\n",
       "    .dataframe tbody tr th:only-of-type {\n",
       "        vertical-align: middle;\n",
       "    }\n",
       "\n",
       "    .dataframe tbody tr th {\n",
       "        vertical-align: top;\n",
       "    }\n",
       "\n",
       "    .dataframe thead th {\n",
       "        text-align: right;\n",
       "    }\n",
       "</style>\n",
       "<table border=\"1\" class=\"dataframe\">\n",
       "  <thead>\n",
       "    <tr style=\"text-align: right;\">\n",
       "      <th></th>\n",
       "      <th>file</th>\n",
       "      <th>class</th>\n",
       "      <th>file</th>\n",
       "      <th>class</th>\n",
       "      <th>file</th>\n",
       "      <th>class</th>\n",
       "      <th>file</th>\n",
       "      <th>class</th>\n",
       "      <th>file</th>\n",
       "      <th>class</th>\n",
       "      <th>...</th>\n",
       "      <th>file</th>\n",
       "      <th>class</th>\n",
       "      <th>file</th>\n",
       "      <th>class</th>\n",
       "      <th>file</th>\n",
       "      <th>class</th>\n",
       "      <th>file</th>\n",
       "      <th>class</th>\n",
       "      <th>file</th>\n",
       "      <th>class</th>\n",
       "    </tr>\n",
       "  </thead>\n",
       "  <tbody>\n",
       "    <tr>\n",
       "      <th>0</th>\n",
       "      <td>cat/21851_cat.png</td>\n",
       "      <td>cat</td>\n",
       "      <td>cat/21851_cat.png</td>\n",
       "      <td>cat</td>\n",
       "      <td>cat/21851_cat.png</td>\n",
       "      <td>cat</td>\n",
       "      <td>cat/21851_cat.png</td>\n",
       "      <td>cat</td>\n",
       "      <td>cat/21851_cat.png</td>\n",
       "      <td>cat</td>\n",
       "      <td>...</td>\n",
       "      <td>cat/21851_cat.png</td>\n",
       "      <td>cat</td>\n",
       "      <td>cat/21851_cat.png</td>\n",
       "      <td>cat</td>\n",
       "      <td>cat/21851_cat.png</td>\n",
       "      <td>cat</td>\n",
       "      <td>cat/21851_cat.png</td>\n",
       "      <td>cat</td>\n",
       "      <td>cat/21851_cat.png</td>\n",
       "      <td>cat</td>\n",
       "    </tr>\n",
       "    <tr>\n",
       "      <th>0</th>\n",
       "      <td>cat/21851_cat.png</td>\n",
       "      <td>cat</td>\n",
       "      <td>cat/21851_cat.png</td>\n",
       "      <td>cat</td>\n",
       "      <td>cat/21851_cat.png</td>\n",
       "      <td>cat</td>\n",
       "      <td>cat/21851_cat.png</td>\n",
       "      <td>cat</td>\n",
       "      <td>cat/21851_cat.png</td>\n",
       "      <td>cat</td>\n",
       "      <td>...</td>\n",
       "      <td>cat/21851_cat.png</td>\n",
       "      <td>cat</td>\n",
       "      <td>cat/21851_cat.png</td>\n",
       "      <td>cat</td>\n",
       "      <td>cat/21851_cat.png</td>\n",
       "      <td>cat</td>\n",
       "      <td>cat/21851_cat.png</td>\n",
       "      <td>cat</td>\n",
       "      <td>cat/21851_cat.png</td>\n",
       "      <td>cat</td>\n",
       "    </tr>\n",
       "    <tr>\n",
       "      <th>1</th>\n",
       "      <td>cat/45066_cat.png</td>\n",
       "      <td>cat</td>\n",
       "      <td>cat/45066_cat.png</td>\n",
       "      <td>cat</td>\n",
       "      <td>cat/45066_cat.png</td>\n",
       "      <td>cat</td>\n",
       "      <td>cat/45066_cat.png</td>\n",
       "      <td>cat</td>\n",
       "      <td>cat/45066_cat.png</td>\n",
       "      <td>cat</td>\n",
       "      <td>...</td>\n",
       "      <td>cat/45066_cat.png</td>\n",
       "      <td>cat</td>\n",
       "      <td>cat/45066_cat.png</td>\n",
       "      <td>cat</td>\n",
       "      <td>cat/45066_cat.png</td>\n",
       "      <td>cat</td>\n",
       "      <td>cat/45066_cat.png</td>\n",
       "      <td>cat</td>\n",
       "      <td>cat/45066_cat.png</td>\n",
       "      <td>cat</td>\n",
       "    </tr>\n",
       "    <tr>\n",
       "      <th>1</th>\n",
       "      <td>cat/45066_cat.png</td>\n",
       "      <td>cat</td>\n",
       "      <td>cat/45066_cat.png</td>\n",
       "      <td>cat</td>\n",
       "      <td>cat/45066_cat.png</td>\n",
       "      <td>cat</td>\n",
       "      <td>cat/45066_cat.png</td>\n",
       "      <td>cat</td>\n",
       "      <td>cat/45066_cat.png</td>\n",
       "      <td>cat</td>\n",
       "      <td>...</td>\n",
       "      <td>cat/45066_cat.png</td>\n",
       "      <td>cat</td>\n",
       "      <td>cat/45066_cat.png</td>\n",
       "      <td>cat</td>\n",
       "      <td>cat/45066_cat.png</td>\n",
       "      <td>cat</td>\n",
       "      <td>cat/45066_cat.png</td>\n",
       "      <td>cat</td>\n",
       "      <td>cat/45066_cat.png</td>\n",
       "      <td>cat</td>\n",
       "    </tr>\n",
       "    <tr>\n",
       "      <th>2</th>\n",
       "      <td>cat/4835_cat.png</td>\n",
       "      <td>cat</td>\n",
       "      <td>cat/4835_cat.png</td>\n",
       "      <td>cat</td>\n",
       "      <td>cat/4835_cat.png</td>\n",
       "      <td>cat</td>\n",
       "      <td>cat/4835_cat.png</td>\n",
       "      <td>cat</td>\n",
       "      <td>cat/4835_cat.png</td>\n",
       "      <td>cat</td>\n",
       "      <td>...</td>\n",
       "      <td>cat/4835_cat.png</td>\n",
       "      <td>cat</td>\n",
       "      <td>cat/4835_cat.png</td>\n",
       "      <td>cat</td>\n",
       "      <td>cat/4835_cat.png</td>\n",
       "      <td>cat</td>\n",
       "      <td>cat/4835_cat.png</td>\n",
       "      <td>cat</td>\n",
       "      <td>cat/4835_cat.png</td>\n",
       "      <td>cat</td>\n",
       "    </tr>\n",
       "  </tbody>\n",
       "</table>\n",
       "<p>5 rows × 8500 columns</p>\n",
       "</div>"
      ],
      "text/plain": [
       "                file class               file class               file class  \\\n",
       "0  cat/21851_cat.png   cat  cat/21851_cat.png   cat  cat/21851_cat.png   cat   \n",
       "0  cat/21851_cat.png   cat  cat/21851_cat.png   cat  cat/21851_cat.png   cat   \n",
       "1  cat/45066_cat.png   cat  cat/45066_cat.png   cat  cat/45066_cat.png   cat   \n",
       "1  cat/45066_cat.png   cat  cat/45066_cat.png   cat  cat/45066_cat.png   cat   \n",
       "2   cat/4835_cat.png   cat   cat/4835_cat.png   cat   cat/4835_cat.png   cat   \n",
       "\n",
       "                file class               file class  ...                file  \\\n",
       "0  cat/21851_cat.png   cat  cat/21851_cat.png   cat  ...   cat/21851_cat.png   \n",
       "0  cat/21851_cat.png   cat  cat/21851_cat.png   cat  ...   cat/21851_cat.png   \n",
       "1  cat/45066_cat.png   cat  cat/45066_cat.png   cat  ...   cat/45066_cat.png   \n",
       "1  cat/45066_cat.png   cat  cat/45066_cat.png   cat  ...   cat/45066_cat.png   \n",
       "2   cat/4835_cat.png   cat   cat/4835_cat.png   cat  ...    cat/4835_cat.png   \n",
       "\n",
       "  class               file class               file class               file  \\\n",
       "0   cat  cat/21851_cat.png   cat  cat/21851_cat.png   cat  cat/21851_cat.png   \n",
       "0   cat  cat/21851_cat.png   cat  cat/21851_cat.png   cat  cat/21851_cat.png   \n",
       "1   cat  cat/45066_cat.png   cat  cat/45066_cat.png   cat  cat/45066_cat.png   \n",
       "1   cat  cat/45066_cat.png   cat  cat/45066_cat.png   cat  cat/45066_cat.png   \n",
       "2   cat   cat/4835_cat.png   cat   cat/4835_cat.png   cat   cat/4835_cat.png   \n",
       "\n",
       "  class               file class  \n",
       "0   cat  cat/21851_cat.png   cat  \n",
       "0   cat  cat/21851_cat.png   cat  \n",
       "1   cat  cat/45066_cat.png   cat  \n",
       "1   cat  cat/45066_cat.png   cat  \n",
       "2   cat   cat/4835_cat.png   cat  \n",
       "\n",
       "[5 rows x 8500 columns]"
      ]
     },
     "execution_count": 323,
     "metadata": {},
     "output_type": "execute_result"
    }
   ],
   "source": [
    "df.iloc[keepidx].head()"
   ]
  },
  {
   "cell_type": "code",
   "execution_count": null,
   "metadata": {
    "hidden": true
   },
   "outputs": [],
   "source": []
  },
  {
   "cell_type": "code",
   "execution_count": 261,
   "metadata": {
    "hidden": true
   },
   "outputs": [
    {
     "data": {
      "text/plain": [
       "[('cat', 4250),\n",
       " ('dog', 4250),\n",
       " ('truck', 4250),\n",
       " ('bird', 4250),\n",
       " ('airplane', 4250),\n",
       " ('ship', 4250),\n",
       " ('frog', 4250),\n",
       " ('horse', 4250),\n",
       " ('deer', 4250),\n",
       " ('automobile', 4250)]"
      ]
     },
     "execution_count": 261,
     "metadata": {},
     "output_type": "execute_result"
    }
   ],
   "source": [
    "list(zip(cats,pops))"
   ]
  },
  {
   "cell_type": "code",
   "execution_count": 210,
   "metadata": {
    "hidden": true
   },
   "outputs": [
    {
     "data": {
      "text/plain": [
       "[('cat', 4250),\n",
       " ('dog', 4250),\n",
       " ('truck', 4250),\n",
       " ('bird', 4250),\n",
       " ('airplane', 4250),\n",
       " ('ship', 4250),\n",
       " ('frog', 4250),\n",
       " ('horse', 4250),\n",
       " ('deer', 4250),\n",
       " ('automobile', 4250)]"
      ]
     },
     "execution_count": 210,
     "metadata": {},
     "output_type": "execute_result"
    }
   ],
   "source": [
    "list(zip(cats,pops))"
   ]
  },
  {
   "cell_type": "code",
   "execution_count": 248,
   "metadata": {
    "hidden": true
   },
   "outputs": [],
   "source": [
    "rows=[]\n",
    "for cat in catfolders:\n",
    "    catpath = path/folder/cat\n",
    "    fpaths  = list(map(lambda x: cat+'/'+x, os.listdir(catpath)))\n",
    "    rows.extend(list(zip(fpaths,[labelmap[cat] for i in range(len(fpaths))])))\n",
    "\n",
    "df = pd.DataFrame(rows, columns=['file','class'])"
   ]
  },
  {
   "cell_type": "code",
   "execution_count": 251,
   "metadata": {
    "hidden": true
   },
   "outputs": [
    {
     "data": {
      "text/plain": [
       "('cat/21851_cat.png', 'cat')"
      ]
     },
     "execution_count": 251,
     "metadata": {},
     "output_type": "execute_result"
    }
   ],
   "source": [
    "rows[0]"
   ]
  },
  {
   "cell_type": "code",
   "execution_count": 250,
   "metadata": {
    "hidden": true
   },
   "outputs": [
    {
     "data": {
      "text/plain": [
       "('cat',\n",
       " 'dog',\n",
       " 'truck',\n",
       " 'bird',\n",
       " 'airplane',\n",
       " 'ship',\n",
       " 'frog',\n",
       " 'horse',\n",
       " 'deer',\n",
       " 'automobile')"
      ]
     },
     "execution_count": 250,
     "metadata": {},
     "output_type": "execute_result"
    }
   ],
   "source": [
    "cols['cat']"
   ]
  },
  {
   "cell_type": "code",
   "execution_count": 252,
   "metadata": {
    "hidden": true
   },
   "outputs": [
    {
     "data": {
      "text/plain": [
       "[('cat', 4250),\n",
       " ('dog', 4250),\n",
       " ('truck', 4250),\n",
       " ('bird', 4250),\n",
       " ('airplane', 4250),\n",
       " ('ship', 4250),\n",
       " ('frog', 4250),\n",
       " ('horse', 4250),\n",
       " ('deer', 4250),\n",
       " ('automobile', 4250)]"
      ]
     },
     "execution_count": 252,
     "metadata": {},
     "output_type": "execute_result"
    }
   ],
   "source": [
    "list(zip(cols['cat'],cols['pop']))"
   ]
  },
  {
   "cell_type": "code",
   "execution_count": 240,
   "metadata": {
    "hidden": true
   },
   "outputs": [
    {
     "ename": "AssertionError",
     "evalue": "2 columns passed, passed data had 10 columns",
     "output_type": "error",
     "traceback": [
      "\u001b[0;31m---------------------------------------------------------------------------\u001b[0m",
      "\u001b[0;31mAssertionError\u001b[0m                            Traceback (most recent call last)",
      "\u001b[0;32m<ipython-input-240-b03925bf8c0e>\u001b[0m in \u001b[0;36m<module>\u001b[0;34m()\u001b[0m\n\u001b[1;32m      3\u001b[0m \u001b[0mcols\u001b[0m \u001b[0;34m=\u001b[0m \u001b[0mdict\u001b[0m\u001b[0;34m(\u001b[0m\u001b[0;34m)\u001b[0m\u001b[0;34m\u001b[0m\u001b[0m\n\u001b[1;32m      4\u001b[0m \u001b[0mcols\u001b[0m\u001b[0;34m[\u001b[0m\u001b[0;34m'cat'\u001b[0m\u001b[0;34m]\u001b[0m\u001b[0;34m,\u001b[0m\u001b[0mcols\u001b[0m\u001b[0;34m[\u001b[0m\u001b[0;34m'pop'\u001b[0m\u001b[0;34m]\u001b[0m \u001b[0;34m=\u001b[0m \u001b[0mzip\u001b[0m\u001b[0;34m(\u001b[0m\u001b[0;34m*\u001b[0m\u001b[0mdictionary\u001b[0m\u001b[0;34m.\u001b[0m\u001b[0mitems\u001b[0m\u001b[0;34m(\u001b[0m\u001b[0;34m)\u001b[0m\u001b[0;34m)\u001b[0m\u001b[0;34m\u001b[0m\u001b[0m\n\u001b[0;32m----> 5\u001b[0;31m \u001b[0mpd\u001b[0m\u001b[0;34m.\u001b[0m\u001b[0mDataFrame\u001b[0m\u001b[0;34m(\u001b[0m\u001b[0;34m[\u001b[0m\u001b[0mcols\u001b[0m\u001b[0;34m[\u001b[0m\u001b[0;34m'cat'\u001b[0m\u001b[0;34m]\u001b[0m\u001b[0;34m,\u001b[0m\u001b[0mcols\u001b[0m\u001b[0;34m[\u001b[0m\u001b[0;34m'pop'\u001b[0m\u001b[0;34m]\u001b[0m\u001b[0;34m]\u001b[0m\u001b[0;34m,\u001b[0m\u001b[0mcolumns\u001b[0m\u001b[0;34m=\u001b[0m\u001b[0;34m[\u001b[0m\u001b[0;34m'cat'\u001b[0m\u001b[0;34m,\u001b[0m\u001b[0;34m'pop'\u001b[0m\u001b[0;34m]\u001b[0m\u001b[0;34m)\u001b[0m\u001b[0;34m\u001b[0m\u001b[0m\n\u001b[0m",
      "\u001b[0;32m~/Miniconda3/envs/fastai/lib/python3.6/site-packages/pandas/core/frame.py\u001b[0m in \u001b[0;36m__init__\u001b[0;34m(self, data, index, columns, dtype, copy)\u001b[0m\n\u001b[1;32m    367\u001b[0m                     \u001b[0;32mif\u001b[0m \u001b[0mis_named_tuple\u001b[0m\u001b[0;34m(\u001b[0m\u001b[0mdata\u001b[0m\u001b[0;34m[\u001b[0m\u001b[0;36m0\u001b[0m\u001b[0;34m]\u001b[0m\u001b[0;34m)\u001b[0m \u001b[0;32mand\u001b[0m \u001b[0mcolumns\u001b[0m \u001b[0;32mis\u001b[0m \u001b[0;32mNone\u001b[0m\u001b[0;34m:\u001b[0m\u001b[0;34m\u001b[0m\u001b[0m\n\u001b[1;32m    368\u001b[0m                         \u001b[0mcolumns\u001b[0m \u001b[0;34m=\u001b[0m \u001b[0mdata\u001b[0m\u001b[0;34m[\u001b[0m\u001b[0;36m0\u001b[0m\u001b[0;34m]\u001b[0m\u001b[0;34m.\u001b[0m\u001b[0m_fields\u001b[0m\u001b[0;34m\u001b[0m\u001b[0m\n\u001b[0;32m--> 369\u001b[0;31m                     \u001b[0marrays\u001b[0m\u001b[0;34m,\u001b[0m \u001b[0mcolumns\u001b[0m \u001b[0;34m=\u001b[0m \u001b[0m_to_arrays\u001b[0m\u001b[0;34m(\u001b[0m\u001b[0mdata\u001b[0m\u001b[0;34m,\u001b[0m \u001b[0mcolumns\u001b[0m\u001b[0;34m,\u001b[0m \u001b[0mdtype\u001b[0m\u001b[0;34m=\u001b[0m\u001b[0mdtype\u001b[0m\u001b[0;34m)\u001b[0m\u001b[0;34m\u001b[0m\u001b[0m\n\u001b[0m\u001b[1;32m    370\u001b[0m                     \u001b[0mcolumns\u001b[0m \u001b[0;34m=\u001b[0m \u001b[0m_ensure_index\u001b[0m\u001b[0;34m(\u001b[0m\u001b[0mcolumns\u001b[0m\u001b[0;34m)\u001b[0m\u001b[0;34m\u001b[0m\u001b[0m\n\u001b[1;32m    371\u001b[0m \u001b[0;34m\u001b[0m\u001b[0m\n",
      "\u001b[0;32m~/Miniconda3/envs/fastai/lib/python3.6/site-packages/pandas/core/frame.py\u001b[0m in \u001b[0;36m_to_arrays\u001b[0;34m(data, columns, coerce_float, dtype)\u001b[0m\n\u001b[1;32m   6282\u001b[0m     \u001b[0;32mif\u001b[0m \u001b[0misinstance\u001b[0m\u001b[0;34m(\u001b[0m\u001b[0mdata\u001b[0m\u001b[0;34m[\u001b[0m\u001b[0;36m0\u001b[0m\u001b[0;34m]\u001b[0m\u001b[0;34m,\u001b[0m \u001b[0;34m(\u001b[0m\u001b[0mlist\u001b[0m\u001b[0;34m,\u001b[0m \u001b[0mtuple\u001b[0m\u001b[0;34m)\u001b[0m\u001b[0;34m)\u001b[0m\u001b[0;34m:\u001b[0m\u001b[0;34m\u001b[0m\u001b[0m\n\u001b[1;32m   6283\u001b[0m         return _list_to_arrays(data, columns, coerce_float=coerce_float,\n\u001b[0;32m-> 6284\u001b[0;31m                                dtype=dtype)\n\u001b[0m\u001b[1;32m   6285\u001b[0m     \u001b[0;32melif\u001b[0m \u001b[0misinstance\u001b[0m\u001b[0;34m(\u001b[0m\u001b[0mdata\u001b[0m\u001b[0;34m[\u001b[0m\u001b[0;36m0\u001b[0m\u001b[0;34m]\u001b[0m\u001b[0;34m,\u001b[0m \u001b[0mcollections\u001b[0m\u001b[0;34m.\u001b[0m\u001b[0mMapping\u001b[0m\u001b[0;34m)\u001b[0m\u001b[0;34m:\u001b[0m\u001b[0;34m\u001b[0m\u001b[0m\n\u001b[1;32m   6286\u001b[0m         return _list_of_dict_to_arrays(data, columns,\n",
      "\u001b[0;32m~/Miniconda3/envs/fastai/lib/python3.6/site-packages/pandas/core/frame.py\u001b[0m in \u001b[0;36m_list_to_arrays\u001b[0;34m(data, columns, coerce_float, dtype)\u001b[0m\n\u001b[1;32m   6361\u001b[0m         \u001b[0mcontent\u001b[0m \u001b[0;34m=\u001b[0m \u001b[0mlist\u001b[0m\u001b[0;34m(\u001b[0m\u001b[0mlib\u001b[0m\u001b[0;34m.\u001b[0m\u001b[0mto_object_array\u001b[0m\u001b[0;34m(\u001b[0m\u001b[0mdata\u001b[0m\u001b[0;34m)\u001b[0m\u001b[0;34m.\u001b[0m\u001b[0mT\u001b[0m\u001b[0;34m)\u001b[0m\u001b[0;34m\u001b[0m\u001b[0m\n\u001b[1;32m   6362\u001b[0m     return _convert_object_array(content, columns, dtype=dtype,\n\u001b[0;32m-> 6363\u001b[0;31m                                  coerce_float=coerce_float)\n\u001b[0m\u001b[1;32m   6364\u001b[0m \u001b[0;34m\u001b[0m\u001b[0m\n\u001b[1;32m   6365\u001b[0m \u001b[0;34m\u001b[0m\u001b[0m\n",
      "\u001b[0;32m~/Miniconda3/envs/fastai/lib/python3.6/site-packages/pandas/core/frame.py\u001b[0m in \u001b[0;36m_convert_object_array\u001b[0;34m(content, columns, coerce_float, dtype)\u001b[0m\n\u001b[1;32m   6418\u001b[0m             \u001b[0;31m# caller's responsibility to check for this...\u001b[0m\u001b[0;34m\u001b[0m\u001b[0;34m\u001b[0m\u001b[0m\n\u001b[1;32m   6419\u001b[0m             raise AssertionError('%d columns passed, passed data had %s '\n\u001b[0;32m-> 6420\u001b[0;31m                                  'columns' % (len(columns), len(content)))\n\u001b[0m\u001b[1;32m   6421\u001b[0m \u001b[0;34m\u001b[0m\u001b[0m\n\u001b[1;32m   6422\u001b[0m     \u001b[0;31m# provide soft conversion of object dtypes\u001b[0m\u001b[0;34m\u001b[0m\u001b[0;34m\u001b[0m\u001b[0m\n",
      "\u001b[0;31mAssertionError\u001b[0m: 2 columns passed, passed data had 10 columns"
     ]
    }
   ],
   "source": [
    "dictionary=cat_pops\n",
    "\n",
    "cols = dict()\n",
    "cols['cat'],cols['pop'] = zip(*dictionary.items())\n",
    "# pd.DataFrame([cols['cat'],cols['pop']],columns=['cat','pop'])"
   ]
  },
  {
   "cell_type": "code",
   "execution_count": 236,
   "metadata": {
    "hidden": true
   },
   "outputs": [
    {
     "data": {
      "text/plain": [
       "{'cat': ('cat',\n",
       "  'dog',\n",
       "  'truck',\n",
       "  'bird',\n",
       "  'airplane',\n",
       "  'ship',\n",
       "  'frog',\n",
       "  'horse',\n",
       "  'deer',\n",
       "  'automobile'),\n",
       " 'pop': (4250, 4250, 4250, 4250, 4250, 4250, 4250, 4250, 4250, 4250)}"
      ]
     },
     "execution_count": 236,
     "metadata": {},
     "output_type": "execute_result"
    }
   ],
   "source": [
    "cols"
   ]
  },
  {
   "cell_type": "code",
   "execution_count": 238,
   "metadata": {
    "hidden": true
   },
   "outputs": [
    {
     "data": {
      "text/html": [
       "<div>\n",
       "<style scoped>\n",
       "    .dataframe tbody tr th:only-of-type {\n",
       "        vertical-align: middle;\n",
       "    }\n",
       "\n",
       "    .dataframe tbody tr th {\n",
       "        vertical-align: top;\n",
       "    }\n",
       "\n",
       "    .dataframe thead th {\n",
       "        text-align: right;\n",
       "    }\n",
       "</style>\n",
       "<table border=\"1\" class=\"dataframe\">\n",
       "  <thead>\n",
       "    <tr style=\"text-align: right;\">\n",
       "      <th></th>\n",
       "      <th>cat</th>\n",
       "      <th>pop</th>\n",
       "    </tr>\n",
       "  </thead>\n",
       "  <tbody>\n",
       "    <tr>\n",
       "      <th>0</th>\n",
       "      <td>cat</td>\n",
       "      <td>4250</td>\n",
       "    </tr>\n",
       "    <tr>\n",
       "      <th>1</th>\n",
       "      <td>dog</td>\n",
       "      <td>4250</td>\n",
       "    </tr>\n",
       "    <tr>\n",
       "      <th>2</th>\n",
       "      <td>truck</td>\n",
       "      <td>4250</td>\n",
       "    </tr>\n",
       "    <tr>\n",
       "      <th>3</th>\n",
       "      <td>bird</td>\n",
       "      <td>4250</td>\n",
       "    </tr>\n",
       "    <tr>\n",
       "      <th>4</th>\n",
       "      <td>airplane</td>\n",
       "      <td>4250</td>\n",
       "    </tr>\n",
       "    <tr>\n",
       "      <th>5</th>\n",
       "      <td>ship</td>\n",
       "      <td>4250</td>\n",
       "    </tr>\n",
       "    <tr>\n",
       "      <th>6</th>\n",
       "      <td>frog</td>\n",
       "      <td>4250</td>\n",
       "    </tr>\n",
       "    <tr>\n",
       "      <th>7</th>\n",
       "      <td>horse</td>\n",
       "      <td>4250</td>\n",
       "    </tr>\n",
       "    <tr>\n",
       "      <th>8</th>\n",
       "      <td>deer</td>\n",
       "      <td>4250</td>\n",
       "    </tr>\n",
       "    <tr>\n",
       "      <th>9</th>\n",
       "      <td>automobile</td>\n",
       "      <td>4250</td>\n",
       "    </tr>\n",
       "  </tbody>\n",
       "</table>\n",
       "</div>"
      ],
      "text/plain": [
       "          cat   pop\n",
       "0         cat  4250\n",
       "1         dog  4250\n",
       "2       truck  4250\n",
       "3        bird  4250\n",
       "4    airplane  4250\n",
       "5        ship  4250\n",
       "6        frog  4250\n",
       "7       horse  4250\n",
       "8        deer  4250\n",
       "9  automobile  4250"
      ]
     },
     "execution_count": 238,
     "metadata": {},
     "output_type": "execute_result"
    }
   ],
   "source": [
    "pd.DataFrame(cols)"
   ]
  },
  {
   "cell_type": "code",
   "execution_count": 239,
   "metadata": {
    "hidden": true
   },
   "outputs": [
    {
     "data": {
      "text/plain": [
       "('cat',\n",
       " 'dog',\n",
       " 'truck',\n",
       " 'bird',\n",
       " 'airplane',\n",
       " 'ship',\n",
       " 'frog',\n",
       " 'horse',\n",
       " 'deer',\n",
       " 'automobile')"
      ]
     },
     "execution_count": 239,
     "metadata": {},
     "output_type": "execute_result"
    }
   ],
   "source": [
    "cols['cat']"
   ]
  },
  {
   "cell_type": "code",
   "execution_count": 224,
   "metadata": {
    "hidden": true
   },
   "outputs": [],
   "source": [
    "cols = dict()\n",
    "cols['cat'],cols['pop'] = zip(*cat_pops.items())"
   ]
  },
  {
   "cell_type": "code",
   "execution_count": 225,
   "metadata": {
    "hidden": true
   },
   "outputs": [
    {
     "data": {
      "text/plain": [
       "{'cat': ('airplane',\n",
       "  'automobile',\n",
       "  'bird',\n",
       "  'cat',\n",
       "  'deer',\n",
       "  'dog',\n",
       "  'frog',\n",
       "  'horse',\n",
       "  'ship',\n",
       "  'truck'),\n",
       " 'pop': (4250, 4250, 4250, 4250, 4250, 4250, 4250, 4250, 4250, 4250)}"
      ]
     },
     "execution_count": 225,
     "metadata": {},
     "output_type": "execute_result"
    }
   ],
   "source": [
    "cols"
   ]
  },
  {
   "cell_type": "code",
   "execution_count": null,
   "metadata": {
    "hidden": true
   },
   "outputs": [],
   "source": []
  },
  {
   "cell_type": "code",
   "execution_count": 207,
   "metadata": {
    "hidden": true
   },
   "outputs": [
    {
     "name": "stdout",
     "output_type": "stream",
     "text": [
      "['cat' 'dog' 'truck' 'bird' 'airplane' 'ship' 'frog' 'horse' 'deer'\n",
      " 'automobile']\n"
     ]
    }
   ],
   "source": [
    "df=csv;xdx=0;ydx=1\n",
    "\n",
    "x,y = df.columns[xdx],df.columns[ydx]\n",
    "cats = df[y].unique()\n",
    "print(cats)\n",
    "pops = [df[df[y]==cat].count()[0] for cat in cats]"
   ]
  },
  {
   "cell_type": "code",
   "execution_count": 177,
   "metadata": {
    "hidden": true
   },
   "outputs": [
    {
     "data": {
      "text/plain": [
       "file     4250\n",
       "class    4250\n",
       "dtype: int64"
      ]
     },
     "execution_count": 177,
     "metadata": {},
     "output_type": "execute_result"
    }
   ],
   "source": [
    "csv[csv['class']=='cat'].count()"
   ]
  },
  {
   "cell_type": "code",
   "execution_count": 179,
   "metadata": {
    "hidden": true
   },
   "outputs": [
    {
     "data": {
      "text/plain": [
       "'class'"
      ]
     },
     "execution_count": 179,
     "metadata": {},
     "output_type": "execute_result"
    }
   ],
   "source": [
    "csv.columns[1]"
   ]
  },
  {
   "cell_type": "code",
   "execution_count": null,
   "metadata": {
    "hidden": true
   },
   "outputs": [],
   "source": []
  },
  {
   "cell_type": "code",
   "execution_count": 149,
   "metadata": {
    "hidden": true
   },
   "outputs": [
    {
     "name": "stdout",
     "output_type": "stream",
     "text": [
      "CPU times: user 5.45 ms, sys: 6.93 ms, total: 12.4 ms\n",
      "Wall time: 12 ms\n"
     ]
    }
   ],
   "source": [
    "%%time\n",
    "labelmap = None\n",
    "folder='train'\n",
    "path = PATH\n",
    "# find categories\n",
    "catfolders = [f for f in os.listdir(path/folder) if (path/folder/f).is_dir()]\n",
    "if labelmap is None: labelmap = {cf:cf for cf in catfolders}\n",
    "\n",
    "df = pd.DataFrame(columns=['file_path','class'])\n",
    "rows = []\n",
    "\n",
    "for cat in catfolders:\n",
    "    catpath = path/folder/cat\n",
    "    fpaths = list(map(lambda x: cat+'/'+x , os.listdir(catpath)))\n",
    "#     fpaths  = list(map(str, catpath.iterdir()))\n",
    "    rows.extend(list(zip(fpaths,[cat for i in range(len(fpaths))])))\n",
    "    break"
   ]
  },
  {
   "cell_type": "code",
   "execution_count": 150,
   "metadata": {
    "hidden": true
   },
   "outputs": [],
   "source": [
    "# rows"
   ]
  },
  {
   "cell_type": "code",
   "execution_count": 135,
   "metadata": {
    "hidden": true
   },
   "outputs": [
    {
     "data": {
      "text/plain": [
       "4250"
      ]
     },
     "execution_count": 135,
     "metadata": {},
     "output_type": "execute_result"
    }
   ],
   "source": [
    "len(rows)"
   ]
  },
  {
   "cell_type": "code",
   "execution_count": null,
   "metadata": {
    "hidden": true
   },
   "outputs": [],
   "source": []
  },
  {
   "cell_type": "code",
   "execution_count": 136,
   "metadata": {
    "hidden": true
   },
   "outputs": [
    {
     "data": {
      "text/html": [
       "<div>\n",
       "<style scoped>\n",
       "    .dataframe tbody tr th:only-of-type {\n",
       "        vertical-align: middle;\n",
       "    }\n",
       "\n",
       "    .dataframe tbody tr th {\n",
       "        vertical-align: top;\n",
       "    }\n",
       "\n",
       "    .dataframe thead th {\n",
       "        text-align: right;\n",
       "    }\n",
       "</style>\n",
       "<table border=\"1\" class=\"dataframe\">\n",
       "  <thead>\n",
       "    <tr style=\"text-align: right;\">\n",
       "      <th></th>\n",
       "      <th>file_path</th>\n",
       "      <th>class</th>\n",
       "    </tr>\n",
       "  </thead>\n",
       "  <tbody>\n",
       "    <tr>\n",
       "      <th>0</th>\n",
       "      <td>data/cifar10/train/cat/21851_cat.png</td>\n",
       "      <td>cat</td>\n",
       "    </tr>\n",
       "    <tr>\n",
       "      <th>1</th>\n",
       "      <td>data/cifar10/train/cat/45066_cat.png</td>\n",
       "      <td>cat</td>\n",
       "    </tr>\n",
       "    <tr>\n",
       "      <th>2</th>\n",
       "      <td>data/cifar10/train/cat/4835_cat.png</td>\n",
       "      <td>cat</td>\n",
       "    </tr>\n",
       "    <tr>\n",
       "      <th>3</th>\n",
       "      <td>data/cifar10/train/cat/35804_cat.png</td>\n",
       "      <td>cat</td>\n",
       "    </tr>\n",
       "    <tr>\n",
       "      <th>4</th>\n",
       "      <td>data/cifar10/train/cat/24696_cat.png</td>\n",
       "      <td>cat</td>\n",
       "    </tr>\n",
       "  </tbody>\n",
       "</table>\n",
       "</div>"
      ],
      "text/plain": [
       "                              file_path class\n",
       "0  data/cifar10/train/cat/21851_cat.png   cat\n",
       "1  data/cifar10/train/cat/45066_cat.png   cat\n",
       "2   data/cifar10/train/cat/4835_cat.png   cat\n",
       "3  data/cifar10/train/cat/35804_cat.png   cat\n",
       "4  data/cifar10/train/cat/24696_cat.png   cat"
      ]
     },
     "execution_count": 136,
     "metadata": {},
     "output_type": "execute_result"
    }
   ],
   "source": [
    "df = pd.DataFrame(rows, columns=['file_path','class'])\n",
    "df.head()"
   ]
  },
  {
   "cell_type": "code",
   "execution_count": 117,
   "metadata": {
    "hidden": true
   },
   "outputs": [
    {
     "data": {
      "text/plain": [
       "[('data/cifar10/train/cat/21851_cat.png', 'cat'),\n",
       " ('data/cifar10/train/cat/45066_cat.png', 'cat'),\n",
       " ('data/cifar10/train/cat/4835_cat.png', 'cat'),\n",
       " ('data/cifar10/train/cat/35804_cat.png', 'cat'),\n",
       " ('data/cifar10/train/cat/24696_cat.png', 'cat'),\n",
       " ('data/cifar10/train/cat/3863_cat.png', 'cat'),\n",
       " ('data/cifar10/train/cat/45897_cat.png', 'cat'),\n",
       " ('data/cifar10/train/cat/49197_cat.png', 'cat'),\n",
       " ('data/cifar10/train/cat/1846_cat.png', 'cat'),\n",
       " ('data/cifar10/train/cat/8760_cat.png', 'cat')]"
      ]
     },
     "execution_count": 117,
     "metadata": {},
     "output_type": "execute_result"
    }
   ],
   "source": [
    "n=10\n",
    "# fpaths[:n], [cat for i in range(n)]\n",
    "\n",
    "list(zip(fpaths[:n],[cat for i in range(n)]))"
   ]
  },
  {
   "cell_type": "code",
   "execution_count": 127,
   "metadata": {
    "hidden": true
   },
   "outputs": [],
   "source": [
    "n = 2000"
   ]
  },
  {
   "cell_type": "code",
   "execution_count": 128,
   "metadata": {
    "hidden": true
   },
   "outputs": [
    {
     "name": "stdout",
     "output_type": "stream",
     "text": [
      "CPU times: user 2.14 ms, sys: 34 µs, total: 2.17 ms\n",
      "Wall time: 2.33 ms\n"
     ]
    }
   ],
   "source": [
    "%%time\n",
    "rows = []\n",
    "rows1 = list(zip(fpaths[:n], [cat for i in range(n)]));\n",
    "rows2 = list(zip(fpaths[n:2*n], [cat for i in range(n)]));\n",
    "rows.append(rows1)\n",
    "rows.append(rows2)\n",
    "rows"
   ]
  },
  {
   "cell_type": "code",
   "execution_count": 129,
   "metadata": {
    "hidden": true
   },
   "outputs": [
    {
     "name": "stdout",
     "output_type": "stream",
     "text": [
      "CPU times: user 644 µs, sys: 0 ns, total: 644 µs\n",
      "Wall time: 655 µs\n"
     ]
    }
   ],
   "source": [
    "%%time\n",
    "rows = []\n",
    "rows1 = list(zip(fpaths[:n], [cat for i in range(n)]));\n",
    "rows2 = list(zip(fpaths[n:2*n], [cat for i in range(n)]));\n",
    "rows.extend(rows1)\n",
    "rows.extend(rows2)\n",
    "rows"
   ]
  },
  {
   "cell_type": "code",
   "execution_count": 122,
   "metadata": {
    "hidden": true
   },
   "outputs": [
    {
     "data": {
      "text/plain": [
       "[('data/cifar10/train/cat/21851_cat.png', 'cat'),\n",
       " ('data/cifar10/train/cat/45066_cat.png', 'cat'),\n",
       " ('data/cifar10/train/cat/4835_cat.png', 'cat'),\n",
       " ('data/cifar10/train/cat/35804_cat.png', 'cat'),\n",
       " ('data/cifar10/train/cat/24696_cat.png', 'cat'),\n",
       " ('data/cifar10/train/cat/3863_cat.png', 'cat'),\n",
       " ('data/cifar10/train/cat/45897_cat.png', 'cat'),\n",
       " ('data/cifar10/train/cat/49197_cat.png', 'cat'),\n",
       " ('data/cifar10/train/cat/1846_cat.png', 'cat'),\n",
       " ('data/cifar10/train/cat/8760_cat.png', 'cat'),\n",
       " ('data/cifar10/train/cat/21851_cat.png', 'cat'),\n",
       " ('data/cifar10/train/cat/45066_cat.png', 'cat'),\n",
       " ('data/cifar10/train/cat/4835_cat.png', 'cat'),\n",
       " ('data/cifar10/train/cat/35804_cat.png', 'cat'),\n",
       " ('data/cifar10/train/cat/24696_cat.png', 'cat'),\n",
       " ('data/cifar10/train/cat/3863_cat.png', 'cat'),\n",
       " ('data/cifar10/train/cat/45897_cat.png', 'cat'),\n",
       " ('data/cifar10/train/cat/49197_cat.png', 'cat'),\n",
       " ('data/cifar10/train/cat/1846_cat.png', 'cat'),\n",
       " ('data/cifar10/train/cat/8760_cat.png', 'cat')]"
      ]
     },
     "execution_count": 122,
     "metadata": {},
     "output_type": "execute_result"
    }
   ],
   "source": [
    "rows"
   ]
  },
  {
   "cell_type": "code",
   "execution_count": null,
   "metadata": {
    "hidden": true
   },
   "outputs": [],
   "source": []
  },
  {
   "cell_type": "code",
   "execution_count": 118,
   "metadata": {
    "hidden": true
   },
   "outputs": [],
   "source": [
    "df = pd.DataFrame(list(zip(fpaths[:n],[cat for i in range(n)])), columns=['file_path','class'])"
   ]
  },
  {
   "cell_type": "code",
   "execution_count": 119,
   "metadata": {
    "hidden": true
   },
   "outputs": [
    {
     "data": {
      "text/html": [
       "<div>\n",
       "<style scoped>\n",
       "    .dataframe tbody tr th:only-of-type {\n",
       "        vertical-align: middle;\n",
       "    }\n",
       "\n",
       "    .dataframe tbody tr th {\n",
       "        vertical-align: top;\n",
       "    }\n",
       "\n",
       "    .dataframe thead th {\n",
       "        text-align: right;\n",
       "    }\n",
       "</style>\n",
       "<table border=\"1\" class=\"dataframe\">\n",
       "  <thead>\n",
       "    <tr style=\"text-align: right;\">\n",
       "      <th></th>\n",
       "      <th>file_path</th>\n",
       "      <th>class</th>\n",
       "    </tr>\n",
       "  </thead>\n",
       "  <tbody>\n",
       "    <tr>\n",
       "      <th>0</th>\n",
       "      <td>data/cifar10/train/cat/21851_cat.png</td>\n",
       "      <td>cat</td>\n",
       "    </tr>\n",
       "    <tr>\n",
       "      <th>1</th>\n",
       "      <td>data/cifar10/train/cat/45066_cat.png</td>\n",
       "      <td>cat</td>\n",
       "    </tr>\n",
       "    <tr>\n",
       "      <th>2</th>\n",
       "      <td>data/cifar10/train/cat/4835_cat.png</td>\n",
       "      <td>cat</td>\n",
       "    </tr>\n",
       "    <tr>\n",
       "      <th>3</th>\n",
       "      <td>data/cifar10/train/cat/35804_cat.png</td>\n",
       "      <td>cat</td>\n",
       "    </tr>\n",
       "    <tr>\n",
       "      <th>4</th>\n",
       "      <td>data/cifar10/train/cat/24696_cat.png</td>\n",
       "      <td>cat</td>\n",
       "    </tr>\n",
       "    <tr>\n",
       "      <th>5</th>\n",
       "      <td>data/cifar10/train/cat/3863_cat.png</td>\n",
       "      <td>cat</td>\n",
       "    </tr>\n",
       "    <tr>\n",
       "      <th>6</th>\n",
       "      <td>data/cifar10/train/cat/45897_cat.png</td>\n",
       "      <td>cat</td>\n",
       "    </tr>\n",
       "    <tr>\n",
       "      <th>7</th>\n",
       "      <td>data/cifar10/train/cat/49197_cat.png</td>\n",
       "      <td>cat</td>\n",
       "    </tr>\n",
       "    <tr>\n",
       "      <th>8</th>\n",
       "      <td>data/cifar10/train/cat/1846_cat.png</td>\n",
       "      <td>cat</td>\n",
       "    </tr>\n",
       "    <tr>\n",
       "      <th>9</th>\n",
       "      <td>data/cifar10/train/cat/8760_cat.png</td>\n",
       "      <td>cat</td>\n",
       "    </tr>\n",
       "  </tbody>\n",
       "</table>\n",
       "</div>"
      ],
      "text/plain": [
       "                              file_path class\n",
       "0  data/cifar10/train/cat/21851_cat.png   cat\n",
       "1  data/cifar10/train/cat/45066_cat.png   cat\n",
       "2   data/cifar10/train/cat/4835_cat.png   cat\n",
       "3  data/cifar10/train/cat/35804_cat.png   cat\n",
       "4  data/cifar10/train/cat/24696_cat.png   cat\n",
       "5   data/cifar10/train/cat/3863_cat.png   cat\n",
       "6  data/cifar10/train/cat/45897_cat.png   cat\n",
       "7  data/cifar10/train/cat/49197_cat.png   cat\n",
       "8   data/cifar10/train/cat/1846_cat.png   cat\n",
       "9   data/cifar10/train/cat/8760_cat.png   cat"
      ]
     },
     "execution_count": 119,
     "metadata": {},
     "output_type": "execute_result"
    }
   ],
   "source": [
    "df"
   ]
  },
  {
   "cell_type": "code",
   "execution_count": 109,
   "metadata": {
    "hidden": true
   },
   "outputs": [
    {
     "ename": "AssertionError",
     "evalue": "2 columns passed, passed data had 4250 columns",
     "output_type": "error",
     "traceback": [
      "\u001b[0;31m---------------------------------------------------------------------------\u001b[0m",
      "\u001b[0;31mAssertionError\u001b[0m                            Traceback (most recent call last)",
      "\u001b[0;32m<ipython-input-109-0388191ef300>\u001b[0m in \u001b[0;36m<module>\u001b[0;34m()\u001b[0m\n\u001b[0;32m----> 1\u001b[0;31m \u001b[0mdf\u001b[0m \u001b[0;34m=\u001b[0m \u001b[0mpd\u001b[0m\u001b[0;34m.\u001b[0m\u001b[0mDataFrame\u001b[0m\u001b[0;34m(\u001b[0m\u001b[0;34m[\u001b[0m\u001b[0mrows\u001b[0m\u001b[0;34m[\u001b[0m\u001b[0;36m0\u001b[0m\u001b[0;34m]\u001b[0m\u001b[0;34m,\u001b[0m\u001b[0mrows\u001b[0m\u001b[0;34m[\u001b[0m\u001b[0;36m1\u001b[0m\u001b[0;34m]\u001b[0m\u001b[0;34m]\u001b[0m\u001b[0;34m,\u001b[0m \u001b[0mcolumns\u001b[0m\u001b[0;34m=\u001b[0m\u001b[0;34m[\u001b[0m\u001b[0;34m'file_path'\u001b[0m\u001b[0;34m,\u001b[0m\u001b[0;34m'class'\u001b[0m\u001b[0;34m]\u001b[0m\u001b[0;34m)\u001b[0m\u001b[0;34m\u001b[0m\u001b[0m\n\u001b[0m",
      "\u001b[0;32m~/Miniconda3/envs/fastai/lib/python3.6/site-packages/pandas/core/frame.py\u001b[0m in \u001b[0;36m__init__\u001b[0;34m(self, data, index, columns, dtype, copy)\u001b[0m\n\u001b[1;32m    367\u001b[0m                     \u001b[0;32mif\u001b[0m \u001b[0mis_named_tuple\u001b[0m\u001b[0;34m(\u001b[0m\u001b[0mdata\u001b[0m\u001b[0;34m[\u001b[0m\u001b[0;36m0\u001b[0m\u001b[0;34m]\u001b[0m\u001b[0;34m)\u001b[0m \u001b[0;32mand\u001b[0m \u001b[0mcolumns\u001b[0m \u001b[0;32mis\u001b[0m \u001b[0;32mNone\u001b[0m\u001b[0;34m:\u001b[0m\u001b[0;34m\u001b[0m\u001b[0m\n\u001b[1;32m    368\u001b[0m                         \u001b[0mcolumns\u001b[0m \u001b[0;34m=\u001b[0m \u001b[0mdata\u001b[0m\u001b[0;34m[\u001b[0m\u001b[0;36m0\u001b[0m\u001b[0;34m]\u001b[0m\u001b[0;34m.\u001b[0m\u001b[0m_fields\u001b[0m\u001b[0;34m\u001b[0m\u001b[0m\n\u001b[0;32m--> 369\u001b[0;31m                     \u001b[0marrays\u001b[0m\u001b[0;34m,\u001b[0m \u001b[0mcolumns\u001b[0m \u001b[0;34m=\u001b[0m \u001b[0m_to_arrays\u001b[0m\u001b[0;34m(\u001b[0m\u001b[0mdata\u001b[0m\u001b[0;34m,\u001b[0m \u001b[0mcolumns\u001b[0m\u001b[0;34m,\u001b[0m \u001b[0mdtype\u001b[0m\u001b[0;34m=\u001b[0m\u001b[0mdtype\u001b[0m\u001b[0;34m)\u001b[0m\u001b[0;34m\u001b[0m\u001b[0m\n\u001b[0m\u001b[1;32m    370\u001b[0m                     \u001b[0mcolumns\u001b[0m \u001b[0;34m=\u001b[0m \u001b[0m_ensure_index\u001b[0m\u001b[0;34m(\u001b[0m\u001b[0mcolumns\u001b[0m\u001b[0;34m)\u001b[0m\u001b[0;34m\u001b[0m\u001b[0m\n\u001b[1;32m    371\u001b[0m \u001b[0;34m\u001b[0m\u001b[0m\n",
      "\u001b[0;32m~/Miniconda3/envs/fastai/lib/python3.6/site-packages/pandas/core/frame.py\u001b[0m in \u001b[0;36m_to_arrays\u001b[0;34m(data, columns, coerce_float, dtype)\u001b[0m\n\u001b[1;32m   6282\u001b[0m     \u001b[0;32mif\u001b[0m \u001b[0misinstance\u001b[0m\u001b[0;34m(\u001b[0m\u001b[0mdata\u001b[0m\u001b[0;34m[\u001b[0m\u001b[0;36m0\u001b[0m\u001b[0;34m]\u001b[0m\u001b[0;34m,\u001b[0m \u001b[0;34m(\u001b[0m\u001b[0mlist\u001b[0m\u001b[0;34m,\u001b[0m \u001b[0mtuple\u001b[0m\u001b[0;34m)\u001b[0m\u001b[0;34m)\u001b[0m\u001b[0;34m:\u001b[0m\u001b[0;34m\u001b[0m\u001b[0m\n\u001b[1;32m   6283\u001b[0m         return _list_to_arrays(data, columns, coerce_float=coerce_float,\n\u001b[0;32m-> 6284\u001b[0;31m                                dtype=dtype)\n\u001b[0m\u001b[1;32m   6285\u001b[0m     \u001b[0;32melif\u001b[0m \u001b[0misinstance\u001b[0m\u001b[0;34m(\u001b[0m\u001b[0mdata\u001b[0m\u001b[0;34m[\u001b[0m\u001b[0;36m0\u001b[0m\u001b[0;34m]\u001b[0m\u001b[0;34m,\u001b[0m \u001b[0mcollections\u001b[0m\u001b[0;34m.\u001b[0m\u001b[0mMapping\u001b[0m\u001b[0;34m)\u001b[0m\u001b[0;34m:\u001b[0m\u001b[0;34m\u001b[0m\u001b[0m\n\u001b[1;32m   6286\u001b[0m         return _list_of_dict_to_arrays(data, columns,\n",
      "\u001b[0;32m~/Miniconda3/envs/fastai/lib/python3.6/site-packages/pandas/core/frame.py\u001b[0m in \u001b[0;36m_list_to_arrays\u001b[0;34m(data, columns, coerce_float, dtype)\u001b[0m\n\u001b[1;32m   6361\u001b[0m         \u001b[0mcontent\u001b[0m \u001b[0;34m=\u001b[0m \u001b[0mlist\u001b[0m\u001b[0;34m(\u001b[0m\u001b[0mlib\u001b[0m\u001b[0;34m.\u001b[0m\u001b[0mto_object_array\u001b[0m\u001b[0;34m(\u001b[0m\u001b[0mdata\u001b[0m\u001b[0;34m)\u001b[0m\u001b[0;34m.\u001b[0m\u001b[0mT\u001b[0m\u001b[0;34m)\u001b[0m\u001b[0;34m\u001b[0m\u001b[0m\n\u001b[1;32m   6362\u001b[0m     return _convert_object_array(content, columns, dtype=dtype,\n\u001b[0;32m-> 6363\u001b[0;31m                                  coerce_float=coerce_float)\n\u001b[0m\u001b[1;32m   6364\u001b[0m \u001b[0;34m\u001b[0m\u001b[0m\n\u001b[1;32m   6365\u001b[0m \u001b[0;34m\u001b[0m\u001b[0m\n",
      "\u001b[0;32m~/Miniconda3/envs/fastai/lib/python3.6/site-packages/pandas/core/frame.py\u001b[0m in \u001b[0;36m_convert_object_array\u001b[0;34m(content, columns, coerce_float, dtype)\u001b[0m\n\u001b[1;32m   6418\u001b[0m             \u001b[0;31m# caller's responsibility to check for this...\u001b[0m\u001b[0;34m\u001b[0m\u001b[0;34m\u001b[0m\u001b[0m\n\u001b[1;32m   6419\u001b[0m             raise AssertionError('%d columns passed, passed data had %s '\n\u001b[0;32m-> 6420\u001b[0;31m                                  'columns' % (len(columns), len(content)))\n\u001b[0m\u001b[1;32m   6421\u001b[0m \u001b[0;34m\u001b[0m\u001b[0m\n\u001b[1;32m   6422\u001b[0m     \u001b[0;31m# provide soft conversion of object dtypes\u001b[0m\u001b[0;34m\u001b[0m\u001b[0;34m\u001b[0m\u001b[0m\n",
      "\u001b[0;31mAssertionError\u001b[0m: 2 columns passed, passed data had 4250 columns"
     ]
    }
   ],
   "source": [
    "df = pd.DataFrame(rows[0],rows[1], columns=['file_path','class'])"
   ]
  },
  {
   "cell_type": "code",
   "execution_count": 106,
   "metadata": {
    "hidden": true
   },
   "outputs": [
    {
     "data": {
      "text/html": [
       "<div>\n",
       "<style scoped>\n",
       "    .dataframe tbody tr th:only-of-type {\n",
       "        vertical-align: middle;\n",
       "    }\n",
       "\n",
       "    .dataframe tbody tr th {\n",
       "        vertical-align: top;\n",
       "    }\n",
       "\n",
       "    .dataframe thead th {\n",
       "        text-align: right;\n",
       "    }\n",
       "</style>\n",
       "<table border=\"1\" class=\"dataframe\">\n",
       "  <thead>\n",
       "    <tr style=\"text-align: right;\">\n",
       "      <th></th>\n",
       "      <th>0</th>\n",
       "      <th>1</th>\n",
       "      <th>2</th>\n",
       "      <th>3</th>\n",
       "      <th>4</th>\n",
       "      <th>5</th>\n",
       "      <th>6</th>\n",
       "      <th>7</th>\n",
       "      <th>8</th>\n",
       "      <th>9</th>\n",
       "      <th>...</th>\n",
       "      <th>4240</th>\n",
       "      <th>4241</th>\n",
       "      <th>4242</th>\n",
       "      <th>4243</th>\n",
       "      <th>4244</th>\n",
       "      <th>4245</th>\n",
       "      <th>4246</th>\n",
       "      <th>4247</th>\n",
       "      <th>4248</th>\n",
       "      <th>4249</th>\n",
       "    </tr>\n",
       "  </thead>\n",
       "  <tbody>\n",
       "    <tr>\n",
       "      <th>0</th>\n",
       "      <td>data/cifar10/train/cat/21851_cat.png</td>\n",
       "      <td>data/cifar10/train/cat/45066_cat.png</td>\n",
       "      <td>data/cifar10/train/cat/4835_cat.png</td>\n",
       "      <td>data/cifar10/train/cat/35804_cat.png</td>\n",
       "      <td>data/cifar10/train/cat/24696_cat.png</td>\n",
       "      <td>data/cifar10/train/cat/3863_cat.png</td>\n",
       "      <td>data/cifar10/train/cat/45897_cat.png</td>\n",
       "      <td>data/cifar10/train/cat/49197_cat.png</td>\n",
       "      <td>data/cifar10/train/cat/1846_cat.png</td>\n",
       "      <td>data/cifar10/train/cat/8760_cat.png</td>\n",
       "      <td>...</td>\n",
       "      <td>data/cifar10/train/cat/2699_cat.png</td>\n",
       "      <td>data/cifar10/train/cat/42321_cat.png</td>\n",
       "      <td>data/cifar10/train/cat/24597_cat.png</td>\n",
       "      <td>data/cifar10/train/cat/29004_cat.png</td>\n",
       "      <td>data/cifar10/train/cat/40304_cat.png</td>\n",
       "      <td>data/cifar10/train/cat/12904_cat.png</td>\n",
       "      <td>data/cifar10/train/cat/48928_cat.png</td>\n",
       "      <td>data/cifar10/train/cat/40314_cat.png</td>\n",
       "      <td>data/cifar10/train/cat/20196_cat.png</td>\n",
       "      <td>data/cifar10/train/cat/33964_cat.png</td>\n",
       "    </tr>\n",
       "    <tr>\n",
       "      <th>1</th>\n",
       "      <td>cat</td>\n",
       "      <td>cat</td>\n",
       "      <td>cat</td>\n",
       "      <td>cat</td>\n",
       "      <td>cat</td>\n",
       "      <td>cat</td>\n",
       "      <td>cat</td>\n",
       "      <td>cat</td>\n",
       "      <td>cat</td>\n",
       "      <td>cat</td>\n",
       "      <td>...</td>\n",
       "      <td>cat</td>\n",
       "      <td>cat</td>\n",
       "      <td>cat</td>\n",
       "      <td>cat</td>\n",
       "      <td>cat</td>\n",
       "      <td>cat</td>\n",
       "      <td>cat</td>\n",
       "      <td>cat</td>\n",
       "      <td>cat</td>\n",
       "      <td>cat</td>\n",
       "    </tr>\n",
       "  </tbody>\n",
       "</table>\n",
       "<p>2 rows × 4250 columns</p>\n",
       "</div>"
      ],
      "text/plain": [
       "                                   0                                     1     \\\n",
       "0  data/cifar10/train/cat/21851_cat.png  data/cifar10/train/cat/45066_cat.png   \n",
       "1                                   cat                                   cat   \n",
       "\n",
       "                                  2                                     3     \\\n",
       "0  data/cifar10/train/cat/4835_cat.png  data/cifar10/train/cat/35804_cat.png   \n",
       "1                                  cat                                   cat   \n",
       "\n",
       "                                   4                                    5     \\\n",
       "0  data/cifar10/train/cat/24696_cat.png  data/cifar10/train/cat/3863_cat.png   \n",
       "1                                   cat                                  cat   \n",
       "\n",
       "                                   6                                     7     \\\n",
       "0  data/cifar10/train/cat/45897_cat.png  data/cifar10/train/cat/49197_cat.png   \n",
       "1                                   cat                                   cat   \n",
       "\n",
       "                                  8                                    9     \\\n",
       "0  data/cifar10/train/cat/1846_cat.png  data/cifar10/train/cat/8760_cat.png   \n",
       "1                                  cat                                  cat   \n",
       "\n",
       "                   ...                                                  4240  \\\n",
       "0                  ...                   data/cifar10/train/cat/2699_cat.png   \n",
       "1                  ...                                                   cat   \n",
       "\n",
       "                                   4241                                  4242  \\\n",
       "0  data/cifar10/train/cat/42321_cat.png  data/cifar10/train/cat/24597_cat.png   \n",
       "1                                   cat                                   cat   \n",
       "\n",
       "                                   4243                                  4244  \\\n",
       "0  data/cifar10/train/cat/29004_cat.png  data/cifar10/train/cat/40304_cat.png   \n",
       "1                                   cat                                   cat   \n",
       "\n",
       "                                   4245                                  4246  \\\n",
       "0  data/cifar10/train/cat/12904_cat.png  data/cifar10/train/cat/48928_cat.png   \n",
       "1                                   cat                                   cat   \n",
       "\n",
       "                                   4247                                  4248  \\\n",
       "0  data/cifar10/train/cat/40314_cat.png  data/cifar10/train/cat/20196_cat.png   \n",
       "1                                   cat                                   cat   \n",
       "\n",
       "                                   4249  \n",
       "0  data/cifar10/train/cat/33964_cat.png  \n",
       "1                                   cat  \n",
       "\n",
       "[2 rows x 4250 columns]"
      ]
     },
     "execution_count": 106,
     "metadata": {},
     "output_type": "execute_result"
    }
   ],
   "source": [
    "df"
   ]
  },
  {
   "cell_type": "code",
   "execution_count": null,
   "metadata": {
    "hidden": true
   },
   "outputs": [],
   "source": []
  },
  {
   "cell_type": "code",
   "execution_count": 75,
   "metadata": {
    "hidden": true
   },
   "outputs": [],
   "source": [
    "files = generate_csv(PATH)\n",
    "cat = 'cat'\n",
    "path = PATH\n",
    "folder = 'train'"
   ]
  },
  {
   "cell_type": "code",
   "execution_count": 76,
   "metadata": {
    "hidden": true
   },
   "outputs": [],
   "source": [
    "files_np = np.array(files)"
   ]
  },
  {
   "cell_type": "code",
   "execution_count": 83,
   "metadata": {
    "hidden": true
   },
   "outputs": [
    {
     "data": {
      "text/plain": [
       "PosixPath('data/cifar10/train/cat')"
      ]
     },
     "execution_count": 83,
     "metadata": {},
     "output_type": "execute_result"
    }
   ],
   "source": [
    "catpath = path/folder/cat;\n",
    "catpath"
   ]
  },
  {
   "cell_type": "code",
   "execution_count": 166,
   "metadata": {
    "hidden": true,
    "scrolled": false
   },
   "outputs": [
    {
     "data": {
      "text/plain": [
       "['data/cifar10/train/cat/21851_cat.png',\n",
       " 'data/cifar10/train/cat/45066_cat.png',\n",
       " 'data/cifar10/train/cat/4835_cat.png',\n",
       " 'data/cifar10/train/cat/35804_cat.png',\n",
       " 'data/cifar10/train/cat/24696_cat.png',\n",
       " 'data/cifar10/train/cat/3863_cat.png',\n",
       " 'data/cifar10/train/cat/45897_cat.png',\n",
       " 'data/cifar10/train/cat/49197_cat.png',\n",
       " 'data/cifar10/train/cat/1846_cat.png',\n",
       " 'data/cifar10/train/cat/8760_cat.png',\n",
       " 'data/cifar10/train/cat/7493_cat.png',\n",
       " 'data/cifar10/train/cat/39751_cat.png',\n",
       " 'data/cifar10/train/cat/16851_cat.png',\n",
       " 'data/cifar10/train/cat/1856_cat.png',\n",
       " 'data/cifar10/train/cat/7483_cat.png',\n",
       " 'data/cifar10/train/cat/33903_cat.png',\n",
       " 'data/cifar10/train/cat/44127_cat.png',\n",
       " 'data/cifar10/train/cat/46757_cat.png',\n",
       " 'data/cifar10/train/cat/36970_cat.png',\n",
       " 'data/cifar10/train/cat/34689_cat.png']"
      ]
     },
     "execution_count": 166,
     "metadata": {},
     "output_type": "execute_result"
    }
   ],
   "source": [
    "list(map(str, catpath.iterdir()))[:20]"
   ]
  },
  {
   "cell_type": "code",
   "execution_count": null,
   "metadata": {
    "hidden": true
   },
   "outputs": [],
   "source": []
  },
  {
   "cell_type": "code",
   "execution_count": 46,
   "metadata": {
    "hidden": true
   },
   "outputs": [],
   "source": [
    "cat_pops_np = np.array([[k,v] for k,v in cat_pops.items()])"
   ]
  },
  {
   "cell_type": "code",
   "execution_count": 47,
   "metadata": {
    "hidden": true
   },
   "outputs": [
    {
     "data": {
      "text/plain": [
       "array(['4250', '4250', '4250', '4250', '4250', '4250', '4250', '4250',\n",
       "       '4250', '4250'], dtype='<U10')"
      ]
     },
     "execution_count": 47,
     "metadata": {},
     "output_type": "execute_result"
    }
   ],
   "source": [
    "cat_pops_np[:,1]"
   ]
  },
  {
   "cell_type": "code",
   "execution_count": 49,
   "metadata": {
    "hidden": true
   },
   "outputs": [],
   "source": [
    "from collections import defaultdict\n",
    "cat_pops_dict = defaultdict(lambda x: [])\n",
    "for k,v in cat_pops.items():\n",
    "    cat_pops_dict[k] = v"
   ]
  },
  {
   "cell_type": "code",
   "execution_count": 50,
   "metadata": {
    "hidden": true
   },
   "outputs": [
    {
     "data": {
      "text/plain": [
       "defaultdict(<function __main__.<lambda>(x)>,\n",
       "            {'airplane': 4250,\n",
       "             'automobile': 4250,\n",
       "             'bird': 4250,\n",
       "             'cat': 4250,\n",
       "             'deer': 4250,\n",
       "             'dog': 4250,\n",
       "             'frog': 4250,\n",
       "             'horse': 4250,\n",
       "             'ship': 4250,\n",
       "             'truck': 4250})"
      ]
     },
     "execution_count": 50,
     "metadata": {},
     "output_type": "execute_result"
    }
   ],
   "source": [
    "cat_pops_dict"
   ]
  },
  {
   "cell_type": "code",
   "execution_count": 48,
   "metadata": {
    "hidden": true
   },
   "outputs": [
    {
     "ename": "SyntaxError",
     "evalue": "invalid syntax (<ipython-input-48-11346347af81>, line 1)",
     "output_type": "error",
     "traceback": [
      "\u001b[0;36m  File \u001b[0;32m\"<ipython-input-48-11346347af81>\"\u001b[0;36m, line \u001b[0;32m1\u001b[0m\n\u001b[0;31m    cat_pops_dict = {'cat':k,'pop':v for k,v in cat_pops.items()}\u001b[0m\n\u001b[0m                                       ^\u001b[0m\n\u001b[0;31mSyntaxError\u001b[0m\u001b[0;31m:\u001b[0m invalid syntax\n"
     ]
    }
   ],
   "source": [
    "cat_pops_dict = {'cat':k,'pop':v for k,v in cat_pops.items()}"
   ]
  },
  {
   "cell_type": "code",
   "execution_count": 29,
   "metadata": {
    "hidden": true
   },
   "outputs": [],
   "source": [
    "df = pd.DataFrame({'cat':[cat for cat in cat_pops.keys()],'pop':[pop for pop in cat_pops.values()]})"
   ]
  },
  {
   "cell_type": "code",
   "execution_count": 30,
   "metadata": {
    "hidden": true
   },
   "outputs": [
    {
     "data": {
      "text/plain": [
       "<matplotlib.axes._subplots.AxesSubplot at 0x115aa2278>"
      ]
     },
     "execution_count": 30,
     "metadata": {},
     "output_type": "execute_result"
    },
    {
     "data": {
      "image/png": "[encoded data removed]",
      "text/plain": [
       "<Figure size 432x288 with 1 Axes>"
      ]
     },
     "metadata": {},
     "output_type": "display_data"
    }
   ],
   "source": [
    "df.plot.bar()"
   ]
  },
  {
   "cell_type": "code",
   "execution_count": null,
   "metadata": {
    "hidden": true
   },
   "outputs": [],
   "source": [
    "df = pd.DataFrame({'cat':})"
   ]
  },
  {
   "cell_type": "code",
   "execution_count": 35,
   "metadata": {
    "hidden": true
   },
   "outputs": [
    {
     "data": {
      "text/plain": [
       "array(['airplane', 'automobile', 'bird', 'cat', 'deer', 'dog', 'frog',\n",
       "       'horse', 'ship', 'truck'], dtype='<U10')"
      ]
     },
     "execution_count": 35,
     "metadata": {},
     "output_type": "execute_result"
    }
   ],
   "source": [
    "cat_pops_np[:,0]"
   ]
  },
  {
   "cell_type": "code",
   "execution_count": 37,
   "metadata": {
    "hidden": true
   },
   "outputs": [],
   "source": [
    "df = pd.DataFrame({'cat':cat_pops_np[:,0],'pop':cat_pops_np[:,1]})"
   ]
  },
  {
   "cell_type": "code",
   "execution_count": 44,
   "metadata": {
    "hidden": true
   },
   "outputs": [
    {
     "data": {
      "text/plain": [
       "0    4250\n",
       "1    4250\n",
       "2    4250\n",
       "3    4250\n",
       "4    4250\n",
       "5    4250\n",
       "6    4250\n",
       "7    4250\n",
       "8    4250\n",
       "9    4250\n",
       "Name: pop, dtype: object"
      ]
     },
     "execution_count": 44,
     "metadata": {},
     "output_type": "execute_result"
    }
   ],
   "source": [
    "df."
   ]
  },
  {
   "cell_type": "code",
   "execution_count": 43,
   "metadata": {
    "hidden": true
   },
   "outputs": [
    {
     "ename": "TypeError",
     "evalue": "Empty 'DataFrame': no numeric data to plot",
     "output_type": "error",
     "traceback": [
      "\u001b[0;31m---------------------------------------------------------------------------\u001b[0m",
      "\u001b[0;31mTypeError\u001b[0m                                 Traceback (most recent call last)",
      "\u001b[0;32m<ipython-input-43-68c901b9fdd6>\u001b[0m in \u001b[0;36m<module>\u001b[0;34m()\u001b[0m\n\u001b[0;32m----> 1\u001b[0;31m \u001b[0mdf\u001b[0m\u001b[0;34m.\u001b[0m\u001b[0mplot\u001b[0m\u001b[0;34m.\u001b[0m\u001b[0mbar\u001b[0m\u001b[0;34m(\u001b[0m\u001b[0;34m)\u001b[0m\u001b[0;34m\u001b[0m\u001b[0m\n\u001b[0m",
      "\u001b[0;32m~/Miniconda3/envs/fastai/lib/python3.6/site-packages/pandas/plotting/_core.py\u001b[0m in \u001b[0;36mbar\u001b[0;34m(self, x, y, **kwds)\u001b[0m\n\u001b[1;32m   2714\u001b[0m         \u001b[0maxes\u001b[0m \u001b[0;34m:\u001b[0m \u001b[0mmatplotlib\u001b[0m\u001b[0;34m.\u001b[0m\u001b[0mAxesSubplot\u001b[0m \u001b[0;32mor\u001b[0m \u001b[0mnp\u001b[0m\u001b[0;34m.\u001b[0m\u001b[0marray\u001b[0m \u001b[0mof\u001b[0m \u001b[0mthem\u001b[0m\u001b[0;34m\u001b[0m\u001b[0m\n\u001b[1;32m   2715\u001b[0m         \"\"\"\n\u001b[0;32m-> 2716\u001b[0;31m         \u001b[0;32mreturn\u001b[0m \u001b[0mself\u001b[0m\u001b[0;34m(\u001b[0m\u001b[0mkind\u001b[0m\u001b[0;34m=\u001b[0m\u001b[0;34m'bar'\u001b[0m\u001b[0;34m,\u001b[0m \u001b[0mx\u001b[0m\u001b[0;34m=\u001b[0m\u001b[0mx\u001b[0m\u001b[0;34m,\u001b[0m \u001b[0my\u001b[0m\u001b[0;34m=\u001b[0m\u001b[0my\u001b[0m\u001b[0;34m,\u001b[0m \u001b[0;34m**\u001b[0m\u001b[0mkwds\u001b[0m\u001b[0;34m)\u001b[0m\u001b[0;34m\u001b[0m\u001b[0m\n\u001b[0m\u001b[1;32m   2717\u001b[0m \u001b[0;34m\u001b[0m\u001b[0m\n\u001b[1;32m   2718\u001b[0m     \u001b[0;32mdef\u001b[0m \u001b[0mbarh\u001b[0m\u001b[0;34m(\u001b[0m\u001b[0mself\u001b[0m\u001b[0;34m,\u001b[0m \u001b[0mx\u001b[0m\u001b[0;34m=\u001b[0m\u001b[0;32mNone\u001b[0m\u001b[0;34m,\u001b[0m \u001b[0my\u001b[0m\u001b[0;34m=\u001b[0m\u001b[0;32mNone\u001b[0m\u001b[0;34m,\u001b[0m \u001b[0;34m**\u001b[0m\u001b[0mkwds\u001b[0m\u001b[0;34m)\u001b[0m\u001b[0;34m:\u001b[0m\u001b[0;34m\u001b[0m\u001b[0m\n",
      "\u001b[0;32m~/Miniconda3/envs/fastai/lib/python3.6/site-packages/pandas/plotting/_core.py\u001b[0m in \u001b[0;36m__call__\u001b[0;34m(self, x, y, kind, ax, subplots, sharex, sharey, layout, figsize, use_index, title, grid, legend, style, logx, logy, loglog, xticks, yticks, xlim, ylim, rot, fontsize, colormap, table, yerr, xerr, secondary_y, sort_columns, **kwds)\u001b[0m\n\u001b[1;32m   2675\u001b[0m                           \u001b[0mfontsize\u001b[0m\u001b[0;34m=\u001b[0m\u001b[0mfontsize\u001b[0m\u001b[0;34m,\u001b[0m \u001b[0mcolormap\u001b[0m\u001b[0;34m=\u001b[0m\u001b[0mcolormap\u001b[0m\u001b[0;34m,\u001b[0m \u001b[0mtable\u001b[0m\u001b[0;34m=\u001b[0m\u001b[0mtable\u001b[0m\u001b[0;34m,\u001b[0m\u001b[0;34m\u001b[0m\u001b[0m\n\u001b[1;32m   2676\u001b[0m                           \u001b[0myerr\u001b[0m\u001b[0;34m=\u001b[0m\u001b[0myerr\u001b[0m\u001b[0;34m,\u001b[0m \u001b[0mxerr\u001b[0m\u001b[0;34m=\u001b[0m\u001b[0mxerr\u001b[0m\u001b[0;34m,\u001b[0m \u001b[0msecondary_y\u001b[0m\u001b[0;34m=\u001b[0m\u001b[0msecondary_y\u001b[0m\u001b[0;34m,\u001b[0m\u001b[0;34m\u001b[0m\u001b[0m\n\u001b[0;32m-> 2677\u001b[0;31m                           sort_columns=sort_columns, **kwds)\n\u001b[0m\u001b[1;32m   2678\u001b[0m     \u001b[0m__call__\u001b[0m\u001b[0;34m.\u001b[0m\u001b[0m__doc__\u001b[0m \u001b[0;34m=\u001b[0m \u001b[0mplot_frame\u001b[0m\u001b[0;34m.\u001b[0m\u001b[0m__doc__\u001b[0m\u001b[0;34m\u001b[0m\u001b[0m\n\u001b[1;32m   2679\u001b[0m \u001b[0;34m\u001b[0m\u001b[0m\n",
      "\u001b[0;32m~/Miniconda3/envs/fastai/lib/python3.6/site-packages/pandas/plotting/_core.py\u001b[0m in \u001b[0;36mplot_frame\u001b[0;34m(data, x, y, kind, ax, subplots, sharex, sharey, layout, figsize, use_index, title, grid, legend, style, logx, logy, loglog, xticks, yticks, xlim, ylim, rot, fontsize, colormap, table, yerr, xerr, secondary_y, sort_columns, **kwds)\u001b[0m\n\u001b[1;32m   1900\u001b[0m                  \u001b[0myerr\u001b[0m\u001b[0;34m=\u001b[0m\u001b[0myerr\u001b[0m\u001b[0;34m,\u001b[0m \u001b[0mxerr\u001b[0m\u001b[0;34m=\u001b[0m\u001b[0mxerr\u001b[0m\u001b[0;34m,\u001b[0m\u001b[0;34m\u001b[0m\u001b[0m\n\u001b[1;32m   1901\u001b[0m                  \u001b[0msecondary_y\u001b[0m\u001b[0;34m=\u001b[0m\u001b[0msecondary_y\u001b[0m\u001b[0;34m,\u001b[0m \u001b[0msort_columns\u001b[0m\u001b[0;34m=\u001b[0m\u001b[0msort_columns\u001b[0m\u001b[0;34m,\u001b[0m\u001b[0;34m\u001b[0m\u001b[0m\n\u001b[0;32m-> 1902\u001b[0;31m                  **kwds)\n\u001b[0m\u001b[1;32m   1903\u001b[0m \u001b[0;34m\u001b[0m\u001b[0m\n\u001b[1;32m   1904\u001b[0m \u001b[0;34m\u001b[0m\u001b[0m\n",
      "\u001b[0;32m~/Miniconda3/envs/fastai/lib/python3.6/site-packages/pandas/plotting/_core.py\u001b[0m in \u001b[0;36m_plot\u001b[0;34m(data, x, y, subplots, ax, kind, **kwds)\u001b[0m\n\u001b[1;32m   1727\u001b[0m         \u001b[0mplot_obj\u001b[0m \u001b[0;34m=\u001b[0m \u001b[0mklass\u001b[0m\u001b[0;34m(\u001b[0m\u001b[0mdata\u001b[0m\u001b[0;34m,\u001b[0m \u001b[0msubplots\u001b[0m\u001b[0;34m=\u001b[0m\u001b[0msubplots\u001b[0m\u001b[0;34m,\u001b[0m \u001b[0max\u001b[0m\u001b[0;34m=\u001b[0m\u001b[0max\u001b[0m\u001b[0;34m,\u001b[0m \u001b[0mkind\u001b[0m\u001b[0;34m=\u001b[0m\u001b[0mkind\u001b[0m\u001b[0;34m,\u001b[0m \u001b[0;34m**\u001b[0m\u001b[0mkwds\u001b[0m\u001b[0;34m)\u001b[0m\u001b[0;34m\u001b[0m\u001b[0m\n\u001b[1;32m   1728\u001b[0m \u001b[0;34m\u001b[0m\u001b[0m\n\u001b[0;32m-> 1729\u001b[0;31m     \u001b[0mplot_obj\u001b[0m\u001b[0;34m.\u001b[0m\u001b[0mgenerate\u001b[0m\u001b[0;34m(\u001b[0m\u001b[0;34m)\u001b[0m\u001b[0;34m\u001b[0m\u001b[0m\n\u001b[0m\u001b[1;32m   1730\u001b[0m     \u001b[0mplot_obj\u001b[0m\u001b[0;34m.\u001b[0m\u001b[0mdraw\u001b[0m\u001b[0;34m(\u001b[0m\u001b[0;34m)\u001b[0m\u001b[0;34m\u001b[0m\u001b[0m\n\u001b[1;32m   1731\u001b[0m     \u001b[0;32mreturn\u001b[0m \u001b[0mplot_obj\u001b[0m\u001b[0;34m.\u001b[0m\u001b[0mresult\u001b[0m\u001b[0;34m\u001b[0m\u001b[0m\n",
      "\u001b[0;32m~/Miniconda3/envs/fastai/lib/python3.6/site-packages/pandas/plotting/_core.py\u001b[0m in \u001b[0;36mgenerate\u001b[0;34m(self)\u001b[0m\n\u001b[1;32m    248\u001b[0m     \u001b[0;32mdef\u001b[0m \u001b[0mgenerate\u001b[0m\u001b[0;34m(\u001b[0m\u001b[0mself\u001b[0m\u001b[0;34m)\u001b[0m\u001b[0;34m:\u001b[0m\u001b[0;34m\u001b[0m\u001b[0m\n\u001b[1;32m    249\u001b[0m         \u001b[0mself\u001b[0m\u001b[0;34m.\u001b[0m\u001b[0m_args_adjust\u001b[0m\u001b[0;34m(\u001b[0m\u001b[0;34m)\u001b[0m\u001b[0;34m\u001b[0m\u001b[0m\n\u001b[0;32m--> 250\u001b[0;31m         \u001b[0mself\u001b[0m\u001b[0;34m.\u001b[0m\u001b[0m_compute_plot_data\u001b[0m\u001b[0;34m(\u001b[0m\u001b[0;34m)\u001b[0m\u001b[0;34m\u001b[0m\u001b[0m\n\u001b[0m\u001b[1;32m    251\u001b[0m         \u001b[0mself\u001b[0m\u001b[0;34m.\u001b[0m\u001b[0m_setup_subplots\u001b[0m\u001b[0;34m(\u001b[0m\u001b[0;34m)\u001b[0m\u001b[0;34m\u001b[0m\u001b[0m\n\u001b[1;32m    252\u001b[0m         \u001b[0mself\u001b[0m\u001b[0;34m.\u001b[0m\u001b[0m_make_plot\u001b[0m\u001b[0;34m(\u001b[0m\u001b[0;34m)\u001b[0m\u001b[0;34m\u001b[0m\u001b[0m\n",
      "\u001b[0;32m~/Miniconda3/envs/fastai/lib/python3.6/site-packages/pandas/plotting/_core.py\u001b[0m in \u001b[0;36m_compute_plot_data\u001b[0;34m(self)\u001b[0m\n\u001b[1;32m    363\u001b[0m         \u001b[0;32mif\u001b[0m \u001b[0mis_empty\u001b[0m\u001b[0;34m:\u001b[0m\u001b[0;34m\u001b[0m\u001b[0m\n\u001b[1;32m    364\u001b[0m             raise TypeError('Empty {0!r}: no numeric data to '\n\u001b[0;32m--> 365\u001b[0;31m                             'plot'.format(numeric_data.__class__.__name__))\n\u001b[0m\u001b[1;32m    366\u001b[0m \u001b[0;34m\u001b[0m\u001b[0m\n\u001b[1;32m    367\u001b[0m         \u001b[0mself\u001b[0m\u001b[0;34m.\u001b[0m\u001b[0mdata\u001b[0m \u001b[0;34m=\u001b[0m \u001b[0mnumeric_data\u001b[0m\u001b[0;34m\u001b[0m\u001b[0m\n",
      "\u001b[0;31mTypeError\u001b[0m: Empty 'DataFrame': no numeric data to plot"
     ]
    }
   ],
   "source": [
    "df.plot.bar()"
   ]
  },
  {
   "cell_type": "code",
   "execution_count": null,
   "metadata": {
    "hidden": true
   },
   "outputs": [],
   "source": [
    "def csv_smooth_data(path, threshold):\n",
    "    "
   ]
  }
 ],
 "metadata": {
  "kernelspec": {
   "display_name": "Python 3 (FastAI)",
   "language": "python",
   "name": "fastai"
  },
  "language_info": {
   "codemirror_mode": {
    "name": "ipython",
    "version": 3
   },
   "file_extension": ".py",
   "mimetype": "text/x-python",
   "name": "python",
   "nbconvert_exporter": "python",
   "pygments_lexer": "ipython3",
   "version": "3.6.5"
  }
 },
 "nbformat": 4,
 "nbformat_minor": 2
}
