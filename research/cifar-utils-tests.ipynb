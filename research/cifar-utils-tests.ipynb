{
 "cells": [
  {
   "cell_type": "markdown",
   "metadata": {},
   "source": [
    "WNixalo –– 2018/6/1-2"
   ]
  },
  {
   "cell_type": "code",
   "execution_count": 20,
   "metadata": {},
   "outputs": [],
   "source": [
    "from pathlib import Path\n",
    "from shutil import rmtree, copyfile\n",
    "import os\n",
    "import sys\n",
    "import numpy as np"
   ]
  },
  {
   "cell_type": "code",
   "execution_count": 3,
   "metadata": {},
   "outputs": [],
   "source": [
    "def count_files(path, fullpath=Path(), count=0):\n",
    "    \"\"\"Counts all files in a directory recursively.\"\"\"\n",
    "    fullpath /= path\n",
    "    # check root exists\n",
    "    if not os.path.exists(fullpath):\n",
    "        print('Directory does not exist.')\n",
    "        return\n",
    "    dirs = os.listdir(fullpath)\n",
    "    for direc in dirs:\n",
    "        if (fullpath/direc).is_dir():\n",
    "            count += count_files(direc, fullpath)\n",
    "        else:\n",
    "            count += 1\n",
    "    return count"
   ]
  },
  {
   "cell_type": "code",
   "execution_count": 9,
   "metadata": {},
   "outputs": [],
   "source": [
    "path = Path('data/cifar/')"
   ]
  },
  {
   "cell_type": "code",
   "execution_count": 12,
   "metadata": {},
   "outputs": [
    {
     "data": {
      "text/plain": [
       "PosixPath('data/cifar_tmp')"
      ]
     },
     "execution_count": 12,
     "metadata": {},
     "output_type": "execute_result"
    }
   ],
   "source": [
    "Path(str(path) + '_tmp')"
   ]
  },
  {
   "cell_type": "code",
   "execution_count": 105,
   "metadata": {},
   "outputs": [],
   "source": [
    "def create_cifar_subset(path, fullpath=Path(), copypath='', p=0.1, copydirs=['train','valid','test']):\n",
    "    if not copypath:\n",
    "        copypath = Path(str(path) + '_tmp')\n",
    "        if os.path.exists(copypath): rmtree(copypath)\n",
    "    else:\n",
    "        copypath/=path\n",
    "    fullpath /= path\n",
    "    copies = []\n",
    "    dirs = os.listdir(fullpath)\n",
    "    for f in dirs:\n",
    "        if (fullpath/f).is_dir() and (copydirs==[] or f in copydirs):\n",
    "            os.makedirs(copypath/f)\n",
    "            create_cifar_subset(f, fullpath, copypath, copydirs=[])\n",
    "        else:\n",
    "            copies.append(f)\n",
    "    if copies:\n",
    "        copies = np.random.choice(copies, max(1, int(len(copies)*p)), replace=False)\n",
    "        for copy in copies:\n",
    "            copyfile(fullpath/copy, copypath/copy)\n",
    "    \n",
    "    return copypath"
   ]
  },
  {
   "cell_type": "code",
   "execution_count": 106,
   "metadata": {},
   "outputs": [],
   "source": [
    "PATH = Path('data/cifar10/')\n",
    "alt_PATH = create_cifar_subset(PATH)"
   ]
  },
  {
   "cell_type": "code",
   "execution_count": 107,
   "metadata": {},
   "outputs": [
    {
     "data": {
      "text/plain": [
       "(60003, 6001)"
      ]
     },
     "execution_count": 107,
     "metadata": {},
     "output_type": "execute_result"
    }
   ],
   "source": [
    "count_files(PATH), count_files(alt_PATH)"
   ]
  }
 ],
 "metadata": {
  "kernelspec": {
   "display_name": "Python 3 (FastAI)",
   "language": "python",
   "name": "fastai"
  },
  "language_info": {
   "codemirror_mode": {
    "name": "ipython",
    "version": 3
   },
   "file_extension": ".py",
   "mimetype": "text/x-python",
   "name": "python",
   "nbconvert_exporter": "python",
   "pygments_lexer": "ipython3",
   "version": "3.6.5"
  }
 },
 "nbformat": 4,
 "nbformat_minor": 2
}
