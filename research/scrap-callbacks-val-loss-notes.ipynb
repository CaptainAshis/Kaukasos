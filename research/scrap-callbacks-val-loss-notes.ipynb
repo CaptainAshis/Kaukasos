{
 "cells": [
  {
   "cell_type": "markdown",
   "metadata": {},
   "source": [
    "# MNIST Test"
   ]
  },
  {
   "cell_type": "markdown",
   "metadata": {},
   "source": [
    "WNixalo 2018/5/19-20;25-26\n",
    "\n",
    "Making sure I have a working baseline for the MNIST dataset. PyTorch version: `0.3.1.post2`\n",
    "\n",
    "- For a walkthrough on converting binary IDX files to NumPy arrays, see [idx-to-numpy.ipynb](https://github.com/WNoxchi/Kaukasos/blob/master/research/idx-to-numpy.ipynb)\n",
    "\n",
    "- For a walkthrough debugging several issues with dataloading, see [mnist-dataloader-issue.ipynb](https://github.com/WNoxchi/Kaukasos/blob/master/research/mnist-dataloader-issue.ipynb)\n",
    "\n",
    "This notebook is in large part a practice stage for a research-oriented work flow.\n",
    "\n",
    "---"
   ]
  },
  {
   "cell_type": "markdown",
   "metadata": {},
   "source": [
    "## Imports"
   ]
  },
  {
   "cell_type": "code",
   "execution_count": 1,
   "metadata": {},
   "outputs": [],
   "source": [
    "%matplotlib inline\n",
    "%reload_ext autoreload\n",
    "%autoreload 2"
   ]
  },
  {
   "cell_type": "code",
   "execution_count": 2,
   "metadata": {},
   "outputs": [],
   "source": [
    "import torch\n",
    "import torchvision\n",
    "import torch.nn as nn\n",
    "import torch.nn.functional as F\n",
    "import numpy as np\n",
    "from pathlib import Path\n",
    "import os\n",
    "import struct   # for IDX conversion\n",
    "import gzip     # for IDX conversion\n",
    "from urllib.request import urlretrieve # for IDX conversion\n",
    "\n",
    "from fastai.conv_learner import * # if you want to use fastai Learner"
   ]
  },
  {
   "cell_type": "code",
   "execution_count": 3,
   "metadata": {},
   "outputs": [],
   "source": [
    "PATH = Path('data/mnist')"
   ]
  },
  {
   "cell_type": "code",
   "execution_count": 4,
   "metadata": {},
   "outputs": [],
   "source": [
    "bs = 64\n",
    "sz = 28"
   ]
  },
  {
   "cell_type": "code",
   "execution_count": 333,
   "metadata": {},
   "outputs": [],
   "source": [
    "def plot_loss(learner, val=None):\n",
    "    \"\"\"Plots iterations vs loss and learning rate. Plots training or validation.\"\"\"\n",
    "    lrs  = learner.sched.lrs\n",
    "    x_axis = range(len(lrs))\n",
    "    loss = learner.sched.losses\n",
    "    min_loss = min(loss)\n",
    "        \n",
    "    fig,ax = plt.subplots(figsize=(14,7))\n",
    "    ax.set_xlim(left=-20, right=x_axis[-1]+20)\n",
    "    ax.plot(x_axis, loss, label='loss')\n",
    "    ax.plot(x_axis, lrs, label='learning rate', color='firebrick');\n",
    "    ax.set_xlabel('Iterations')\n",
    "    ax.set_ylabel('Loss & LR')\n",
    "    \n",
    "    # Validation Loss\n",
    "    if val is not None:\n",
    "        ep_end = len(lrs) // len(val)\n",
    "        ax.scatter(range(ep_end-1, len(lrs), ep_end), val, c='r', s=20, label='val loss')\n",
    "    \n",
    "    # Minimum Loss\n",
    "    ax.axhline(y=min_loss, c='r', alpha=0.9, label='Min loss', lw=0.5)\n",
    "    idx = np.argmin(min_loss)\n",
    "    yscal = 1 / (ax.get_ylim()[1] - ax.get_ylim()[0])\n",
    "    yrltv = (min_loss - ax.get_ylim()[0]) * yscal\n",
    "    ax.axvline(x=x_axis[idx], ymin=0.5*yrltv, ymax=1.5*yrltv, c='r', alpha=0.9, lw=0.5)\n",
    "    # 150% Minimum Loss\n",
    "    idx = np.where(np.array(loss) <= 1.5*min_loss)[0][0]\n",
    "    ax.axvline(x=x_axis[idx], c='slateblue', alpha=0.9, label='50% above Min Loss', lw=0.5)\n",
    "    # 50% Maximum Loss\n",
    "    idx = np.where(np.array(loss) <= 0.5*max(loss))[0][0]\n",
    "    ax.axvline(x=x_axis[idx], c='teal', alpha=0.9, label='50% of Max Loss', lw=0.5)\n",
    "    \n",
    "    fig.legend(bbox_to_anchor=(0.82,0.82), loc=\"upper right\")"
   ]
  },
  {
   "cell_type": "markdown",
   "metadata": {},
   "source": [
    "## 1. Data"
   ]
  },
  {
   "cell_type": "markdown",
   "metadata": {},
   "source": [
    "### 1.1 PyTorch method:"
   ]
  },
  {
   "cell_type": "markdown",
   "metadata": {},
   "source": [
    "The basic method for creating a DataLoader in PyTorch. Adapted from [their tutorial](https://pytorch.org/tutorials/beginner/blitz/cifar10_tutorial.html?highlight=mnist#) and an older [notebook](https://github.com/WNoxchi/Kaukasos/blob/master/PyTorch/practice-mnist.ipynb). \n",
    "- **NOTE** the [normalization values are largely arbitrary](https://discuss.pytorch.org/t/normalization-in-the-mnist-example/457/7?u=wnixalo)."
   ]
  },
  {
   "cell_type": "code",
   "execution_count": 6,
   "metadata": {},
   "outputs": [],
   "source": [
    "# torchvision datasets are PIL.Image images of range [0,1]. Must trsfm them \n",
    "# to Tensors of normalized range [-1,1]\n",
    "transform = torchvision.transforms.Compose(\n",
    "    [torchvision.transforms.ToTensor(),\n",
    "     torchvision.transforms.Normalize((0.5,0.5,0.5),(0.5,0.5,0.5))])"
   ]
  },
  {
   "cell_type": "code",
   "execution_count": 7,
   "metadata": {},
   "outputs": [],
   "source": [
    "# see: https://gist.github.com/kevinzakka/d33bf8d6c7f06a9d8c76d97a7879f5cb\n",
    "# frm: https://github.com/pytorch/pytorch/issues/1106\n",
    "\n",
    "trainset = torchvision.datasets.MNIST(root=PATH, train=True, download=True,\n",
    "                                   transform=transform)\n",
    "validset = torchvision.datasets.MNIST(root=PATH, train=True, download=True,\n",
    "                                   transform=transform)\n",
    "testset  = torchvision.datasets.MNIST(root=PATH, train=False, download=True,\n",
    "                                   transform=transform)\n",
    "p_val = 0.15\n",
    "n_val = int(p_val * len(trainset))\n",
    "idxs  = np.arange(len(trainset))\n",
    "np.random.shuffle(idxs)\n",
    "train_idxs, valid_idxs = idxs[n_val:], idxs[:n_val]\n",
    "train_sampler = torch.utils.data.sampler.SubsetRandomSampler(train_idxs)\n",
    "valid_sampler = torch.utils.data.sampler.SequentialSampler(valid_idxs)\n",
    "\n",
    "trainloader = torch.utils.data.DataLoader(trainset, batch_size=bs,\n",
    "                                          sampler=train_sampler, num_workers=2)\n",
    "validloader = torch.utils.data.DataLoader(validset, batch_size=bs,\n",
    "                                          sampler=valid_sampler, num_workers=2)\n",
    "testloader  = torch.utils.data.DataLoader(testset, batch_size=bs, num_workers=2)"
   ]
  },
  {
   "cell_type": "code",
   "execution_count": 8,
   "metadata": {},
   "outputs": [
    {
     "data": {
      "text/plain": [
       "['0', '1', '2', '3', '4', '5', '6', '7', '8', '9']"
      ]
     },
     "execution_count": 8,
     "metadata": {},
     "output_type": "execute_result"
    }
   ],
   "source": [
    "classes = [str(i) for i in range(10)]; classes"
   ]
  },
  {
   "cell_type": "markdown",
   "metadata": {
    "heading_collapsed": true
   },
   "source": [
    "#### 1.1.1 Aside: DataLoaders – PyTorch & fastai:"
   ]
  },
  {
   "cell_type": "markdown",
   "metadata": {
    "hidden": true
   },
   "source": [
    "- See [mnist-dataloader-issue.ipynb](https://github.com/WNoxchi/Kaukasos/blob/master/research/mnist-dataloader-issue.ipynb) for an in depth dive.\n",
    "\n",
    "The FastAI DataLoader shares some similarities in construction with the PyTorch one. The logic defining pytorch's DataLoader [in the PyTorch source code](https://pytorch.org/docs/master/_modules/torch/utils/data/dataloader.html#DataLoader):\n",
    "```\n",
    "if batch_sampler is None:\n",
    "    if sampler is None:\n",
    "        if shuffle:\n",
    "            sampler = RandomSampler(dataset)\n",
    "        else:\n",
    "            sampler = SequentialSampler(dataset)\n",
    "    batch_sampler = BatchSampler(sampler, batch_size, drop_last)\n",
    "```\n",
    "is the same as [that in fast.ai's](https://github.com/fastai/fastai/blob/master/fastai/dataloader.py#L24-43)\n",
    "\n",
    "```\n",
    "if batch_sampler is None:\n",
    "    if sampler is None:\n",
    "        sampler = RandomSampler(dataset) if shuffle else SequentialSampler(dataset)\n",
    "    batch_sampler = BatchSampler(sampler, batch_size, drop_last)\n",
    "```\n",
    "\n",
    "So now I'm not confused about not using a batch sampler when building a pytorch dataloader, although I see one in fastai's DataLoader –– that's because pytorch does it too."
   ]
  },
  {
   "cell_type": "markdown",
   "metadata": {},
   "source": [
    "### 1.2 Custom Method (for Fast AI Model Data)"
   ]
  },
  {
   "cell_type": "markdown",
   "metadata": {},
   "source": [
    "This loads and converts the MNIST IDX files into NumPy arrays. For MNIST data this looks to be about 45 MB for the images. This way allows for easy use of FastAI's ModelData class, and thus its (extremely useful) Learner abstraction and all other capabilities that come with it. The arrays can be loaded via: `ImageClassifierData.from_arrays(..)`"
   ]
  },
  {
   "cell_type": "code",
   "execution_count": 9,
   "metadata": {},
   "outputs": [],
   "source": [
    "def download_mnist(path=Path('data/mnist')):\n",
    "    os.makedirs(path, exist_ok=True)\n",
    "    urls = ['http://yann.lecun.com/exdb/mnist/train-images-idx3-ubyte.gz',\n",
    "            'http://yann.lecun.com/exdb/mnist/train-labels-idx1-ubyte.gz',\n",
    "            'http://yann.lecun.com/exdb/mnist/t10k-images-idx3-ubyte.gz',\n",
    "            'http://yann.lecun.com/exdb/mnist/t10k-labels-idx1-ubyte.gz',]\n",
    "    for url in urls:\n",
    "        fname = url.split('/')[-1]\n",
    "        if not os.path.exists(path/fname): urlretrieve(url, path/fname)\n",
    "\n",
    "def read_IDX(fname):\n",
    "    \"\"\"see: https://gist.github.com/tylerneylon/ce60e8a06e7506ac45788443f7269e40\"\"\"\n",
    "    with gzip.open(fname) as f:\n",
    "        zero, data_type, dims = struct.unpack('>HBB', f.read(4))\n",
    "        shape = tuple(struct.unpack('>I', f.read(4))[0] for d in range(dims))\n",
    "        return np.frombuffer(f.read(), dtype=np.uint8).reshape(shape)"
   ]
  },
  {
   "cell_type": "code",
   "execution_count": 10,
   "metadata": {},
   "outputs": [],
   "source": [
    "download_mnist()"
   ]
  },
  {
   "cell_type": "code",
   "execution_count": 11,
   "metadata": {},
   "outputs": [
    {
     "data": {
      "text/plain": [
       "['train-images-idx3-ubyte.gz',\n",
       " 't10k-labels-idx1-ubyte.gz',\n",
       " 'train-labels-idx1-ubyte.gz',\n",
       " 't10k-images-idx3-ubyte.gz']"
      ]
     },
     "execution_count": 11,
     "metadata": {},
     "output_type": "execute_result"
    }
   ],
   "source": [
    "fnames = [o for o in os.listdir(PATH) if 'ubyte.gz' in o] # could just use glob\n",
    "fnames"
   ]
  },
  {
   "cell_type": "code",
   "execution_count": 12,
   "metadata": {},
   "outputs": [],
   "source": [
    "# thanks to: https://stackoverflow.com/a/14849322\n",
    "trn_x_idx = [i for i,s in enumerate(fnames) if 'train-imag' in s][0]\n",
    "trn_y_idx = [i for i,s in enumerate(fnames) if 'train-lab' in s][0]\n",
    "# test data:\n",
    "tst_x_idx = [i for i,s in enumerate(fnames) if 't10k-imag' in s][0]\n",
    "tst_y_idx = [i for i,s in enumerate(fnames) if 't10k-lab' in s][0]"
   ]
  },
  {
   "cell_type": "code",
   "execution_count": 13,
   "metadata": {},
   "outputs": [],
   "source": [
    "# load entire IDX files into memory as ndarrays\n",
    "train_x_array = read_IDX(PATH/fnames[trn_x_idx])\n",
    "train_y_array = read_IDX(PATH/fnames[trn_y_idx])\n",
    "# test data:\n",
    "test_x_array  = read_IDX(PATH/fnames[tst_x_idx])\n",
    "test_y_array  = read_IDX(PATH/fnames[tst_y_idx])"
   ]
  },
  {
   "cell_type": "code",
   "execution_count": 14,
   "metadata": {},
   "outputs": [
    {
     "data": {
      "text/plain": [
       "(44.86083984375, 0.057220458984375)"
      ]
     },
     "execution_count": 14,
     "metadata": {},
     "output_type": "execute_result"
    }
   ],
   "source": [
    "# size of numpy arrays in MBs\n",
    "train_x_array.nbytes / 2**20, train_y_array.nbytes / 2**20"
   ]
  },
  {
   "cell_type": "markdown",
   "metadata": {},
   "source": [
    "### 1.3 Fast AI Model Data object"
   ]
  },
  {
   "cell_type": "markdown",
   "metadata": {},
   "source": [
    "`inception_stats` have the same Normalization that the pytorch transform above uses for its dataloader. I don't do any data augmentation besides that normalization. I also use the same train/val indices from the pytorch dataloader – to ensure my pytorch model and fastai learner are working on the same data.\n",
    "\n",
    "Additionally in order to use pretrained models I'm going to concatenate the dataset to have 3 channels instead of 1 by copying dimensions. Another option is to forego a pretrained model and use a fresh resnet set to have only 1 input channel."
   ]
  },
  {
   "cell_type": "code",
   "execution_count": 15,
   "metadata": {},
   "outputs": [],
   "source": [
    "tfms = tfms_from_stats(inception_stats, sz=sz)\n",
    "# `inception_stats` are: ([0.5,0.5,0.5],[0.5,0.5,0.5])\n",
    "# see: https://github.com/fastai/fastai/blob/master/fastai/transforms.py#L695"
   ]
  },
  {
   "cell_type": "code",
   "execution_count": 16,
   "metadata": {},
   "outputs": [],
   "source": [
    "# using same trn/val indices as pytorch dataloader\n",
    "valid_x_array, valid_y_array = train_x_array[valid_idxs], train_y_array[valid_idxs]\n",
    "train_x_array, train_y_array = train_x_array[train_idxs], train_y_array[train_idxs]"
   ]
  },
  {
   "cell_type": "code",
   "execution_count": 17,
   "metadata": {},
   "outputs": [],
   "source": [
    "# stack dims for 3 channels\n",
    "train_x_array = np.stack((train_x_array, train_x_array, train_x_array), axis=-1)\n",
    "valid_x_array = np.stack((valid_x_array, valid_x_array, valid_x_array), axis=-1)\n",
    "test_x_array  = np.stack((test_x_array,  test_x_array,  test_x_array),  axis=-1)\n",
    "# convert labels to np.int8\n",
    "train_y_array = train_y_array.astype(np.int8)\n",
    "valid_y_array = valid_y_array.astype(np.int8)\n",
    "test_y_array  = test_y_array.astype(np.int8)"
   ]
  },
  {
   "cell_type": "code",
   "execution_count": 18,
   "metadata": {},
   "outputs": [],
   "source": [
    "model_data = ImageClassifierData.from_arrays(PATH, \n",
    "    (train_x_array, train_y_array), (valid_x_array, valid_y_array),\n",
    "    bs=bs, tfms=tfms, num_workers=2, test=(test_x_array, test_y_array))"
   ]
  },
  {
   "cell_type": "markdown",
   "metadata": {},
   "source": [
    "## 2. Architecture"
   ]
  },
  {
   "cell_type": "markdown",
   "metadata": {},
   "source": [
    "I want to have a \"solid\" simple ConvNet to use throughout these experiments. This model will include a large field-of-view input conv layer followed by several conv layers. Each conv layer uses BatchNorm and Leaky ReLU (I don't know if this is better than ReLU, but it *sounds* like a good'ish idea to me). The model's head uses an AdaptiveConcat Pooling layer (Fast AI invention that concatenates two adaptive average and max pooling layers) leading to a Linear layer. This model doesn't use dropout (I'll add that if it looks like it needs it)."
   ]
  },
  {
   "cell_type": "code",
   "execution_count": 19,
   "metadata": {},
   "outputs": [],
   "source": [
    "class AdaptiveConcatPool2d(nn.Module):\n",
    "    \"\"\"fast.ai, see: https://github.com/fastai/fastai/tree/master/fastai/layers.py\"\"\"\n",
    "    def __init__(self, sz=None):\n",
    "        super().__init__()\n",
    "        sz = sz or (1,1)\n",
    "        self.ap = torch.nn.AdaptiveAvgPool2d(sz)\n",
    "        self.mp = torch.nn.AdaptiveAvgPool2d(sz)\n",
    "    def forward(self, x):\n",
    "        return torch.cat([self.mp(x), self.ap(x)], 1)\n",
    "    \n",
    "class Flatten(nn.Module):\n",
    "    \"\"\"fast.ai, see: https://github.com/fastai/fastai/tree/master/fastai/layers.py\"\"\"\n",
    "    def __init__(self):\n",
    "        super().__init__()\n",
    "    def forward(self, x):\n",
    "        return x.view(x.size(0), -1)"
   ]
  },
  {
   "cell_type": "code",
   "execution_count": 20,
   "metadata": {},
   "outputs": [],
   "source": [
    "class ConvBNLayer(nn.Module):\n",
    "    \"\"\"conv layer with batchnorm\"\"\"\n",
    "    def __init__(self, ch_in, ch_out, kernel_size=3, stride=1, padding=0):\n",
    "        super().__init__()\n",
    "        self.conv  = nn.Conv2d(ch_in, ch_out, kernel_size=kernel_size, stride=stride)\n",
    "        self.bn    = nn.BatchNorm2d(ch_out, momentum=0.1) # mom at default 0.1\n",
    "        self.lrelu = nn.LeakyReLU(0.01, inplace=True)     # neg slope at default 0.01\n",
    "    def forward(self, x): return self.lrelu(self.bn(self.conv(x)))\n",
    "\n",
    "class ConvNet(nn.Module):\n",
    "    # see ref: https://github.com/fastai/fastai/blob/master/fastai/models/darknet.py\n",
    "    def __init__(self, ch_in=1):\n",
    "        super().__init__()\n",
    "        self.conv0   = ConvBNLayer(ch_in, 16, kernel_size=7, stride=1, padding=2) # large FoV Conv\n",
    "        self.conv1   = ConvBNLayer(16, 32)\n",
    "        self.conv2   = ConvBNLayer(32, 64)\n",
    "        self.conv3   = ConvBNLayer(64, 128)\n",
    "        self.neck    = nn.Sequential(*[AdaptiveConcatPool2d(1), Flatten()])\n",
    "        self.head    = nn.Sequential(*[nn.BatchNorm2d(256), \n",
    "                                      nn.Dropout(p=0.25),\n",
    "                                      nn.Linear(256, 10)])        \n",
    "    def forward(self, x):\n",
    "        x = self.conv0(x)\n",
    "        x = self.conv1(x)\n",
    "        x = self.conv2(x)\n",
    "        x = self.conv3(x)\n",
    "        x = self.neck(x)\n",
    "        x = self.head(x)\n",
    "        return F.log_softmax(x, dim=-1)"
   ]
  },
  {
   "cell_type": "code",
   "execution_count": 21,
   "metadata": {},
   "outputs": [],
   "source": [
    "convnet = ConvNet()"
   ]
  },
  {
   "cell_type": "markdown",
   "metadata": {
    "heading_collapsed": true
   },
   "source": [
    "#### 2.0.1 Aside: Discovering AdaptiveConcatPool doubles input tensor length"
   ]
  },
  {
   "cell_type": "code",
   "execution_count": 216,
   "metadata": {
    "hidden": true
   },
   "outputs": [
    {
     "name": "stdout",
     "output_type": "stream",
     "text": [
      "> <ipython-input-204-3df4356516d4>(24)forward()\n",
      "-> x = self.conv0(x)\n",
      "(Pdb) n\n",
      "> <ipython-input-204-3df4356516d4>(25)forward()\n",
      "-> x = self.conv1(x)\n",
      "(Pdb) n\n",
      "> <ipython-input-204-3df4356516d4>(26)forward()\n",
      "-> x = self.conv2(x)\n",
      "(Pdb) n\n",
      "> <ipython-input-204-3df4356516d4>(27)forward()\n",
      "-> x = self.conv3(x)\n",
      "(Pdb) n\n",
      "> <ipython-input-204-3df4356516d4>(28)forward()\n",
      "-> x = self.neck(x)\n",
      "(Pdb) x.shape # sanity check\n",
      "torch.Size([64, 128, 16, 16])\n",
      "(Pdb) AdaptiveConcatPool2d(1)(x).shape\n",
      "torch.Size([64, 256, 1, 1])\n",
      "(Pdb) q\n"
     ]
    },
    {
     "ename": "BdbQuit",
     "evalue": "",
     "output_type": "error",
     "traceback": [
      "\u001b[0;31m---------------------------------------------------------------------------\u001b[0m",
      "\u001b[0;31mBdbQuit\u001b[0m                                   Traceback (most recent call last)",
      "\u001b[0;32m<ipython-input-216-965816993670>\u001b[0m in \u001b[0;36m<module>\u001b[0;34m()\u001b[0m\n\u001b[1;32m      1\u001b[0m \u001b[0mx\u001b[0m\u001b[0;34m,\u001b[0m\u001b[0my\u001b[0m \u001b[0;34m=\u001b[0m \u001b[0mnext\u001b[0m\u001b[0;34m(\u001b[0m\u001b[0miter\u001b[0m\u001b[0;34m(\u001b[0m\u001b[0mtrainloader\u001b[0m\u001b[0;34m)\u001b[0m\u001b[0;34m)\u001b[0m\u001b[0;34m\u001b[0m\u001b[0m\n\u001b[1;32m      2\u001b[0m \u001b[0mx\u001b[0m\u001b[0;34m,\u001b[0m\u001b[0my\u001b[0m \u001b[0;34m=\u001b[0m \u001b[0mVariable\u001b[0m\u001b[0;34m(\u001b[0m\u001b[0mx\u001b[0m\u001b[0;34m)\u001b[0m\u001b[0;34m,\u001b[0m \u001b[0mVariable\u001b[0m\u001b[0;34m(\u001b[0m\u001b[0my\u001b[0m\u001b[0;34m)\u001b[0m\u001b[0;34m\u001b[0m\u001b[0m\n\u001b[0;32m----> 3\u001b[0;31m \u001b[0mconvnet\u001b[0m\u001b[0;34m(\u001b[0m\u001b[0mx\u001b[0m\u001b[0;34m)\u001b[0m\u001b[0;34m\u001b[0m\u001b[0m\n\u001b[0m",
      "\u001b[0;32m~/Miniconda3/envs/fastai/lib/python3.6/site-packages/torch/nn/modules/module.py\u001b[0m in \u001b[0;36m__call__\u001b[0;34m(self, *input, **kwargs)\u001b[0m\n\u001b[1;32m    355\u001b[0m             \u001b[0mresult\u001b[0m \u001b[0;34m=\u001b[0m \u001b[0mself\u001b[0m\u001b[0;34m.\u001b[0m\u001b[0m_slow_forward\u001b[0m\u001b[0;34m(\u001b[0m\u001b[0;34m*\u001b[0m\u001b[0minput\u001b[0m\u001b[0;34m,\u001b[0m \u001b[0;34m**\u001b[0m\u001b[0mkwargs\u001b[0m\u001b[0;34m)\u001b[0m\u001b[0;34m\u001b[0m\u001b[0m\n\u001b[1;32m    356\u001b[0m         \u001b[0;32melse\u001b[0m\u001b[0;34m:\u001b[0m\u001b[0;34m\u001b[0m\u001b[0m\n\u001b[0;32m--> 357\u001b[0;31m             \u001b[0mresult\u001b[0m \u001b[0;34m=\u001b[0m \u001b[0mself\u001b[0m\u001b[0;34m.\u001b[0m\u001b[0mforward\u001b[0m\u001b[0;34m(\u001b[0m\u001b[0;34m*\u001b[0m\u001b[0minput\u001b[0m\u001b[0;34m,\u001b[0m \u001b[0;34m**\u001b[0m\u001b[0mkwargs\u001b[0m\u001b[0;34m)\u001b[0m\u001b[0;34m\u001b[0m\u001b[0m\n\u001b[0m\u001b[1;32m    358\u001b[0m         \u001b[0;32mfor\u001b[0m \u001b[0mhook\u001b[0m \u001b[0;32min\u001b[0m \u001b[0mself\u001b[0m\u001b[0;34m.\u001b[0m\u001b[0m_forward_hooks\u001b[0m\u001b[0;34m.\u001b[0m\u001b[0mvalues\u001b[0m\u001b[0;34m(\u001b[0m\u001b[0;34m)\u001b[0m\u001b[0;34m:\u001b[0m\u001b[0;34m\u001b[0m\u001b[0m\n\u001b[1;32m    359\u001b[0m             \u001b[0mhook_result\u001b[0m \u001b[0;34m=\u001b[0m \u001b[0mhook\u001b[0m\u001b[0;34m(\u001b[0m\u001b[0mself\u001b[0m\u001b[0;34m,\u001b[0m \u001b[0minput\u001b[0m\u001b[0;34m,\u001b[0m \u001b[0mresult\u001b[0m\u001b[0;34m)\u001b[0m\u001b[0;34m\u001b[0m\u001b[0m\n",
      "\u001b[0;32m<ipython-input-204-3df4356516d4>\u001b[0m in \u001b[0;36mforward\u001b[0;34m(self, x)\u001b[0m\n\u001b[1;32m     26\u001b[0m         \u001b[0mx\u001b[0m \u001b[0;34m=\u001b[0m \u001b[0mself\u001b[0m\u001b[0;34m.\u001b[0m\u001b[0mconv2\u001b[0m\u001b[0;34m(\u001b[0m\u001b[0mx\u001b[0m\u001b[0;34m)\u001b[0m\u001b[0;34m\u001b[0m\u001b[0m\n\u001b[1;32m     27\u001b[0m         \u001b[0mx\u001b[0m \u001b[0;34m=\u001b[0m \u001b[0mself\u001b[0m\u001b[0;34m.\u001b[0m\u001b[0mconv3\u001b[0m\u001b[0;34m(\u001b[0m\u001b[0mx\u001b[0m\u001b[0;34m)\u001b[0m\u001b[0;34m\u001b[0m\u001b[0m\n\u001b[0;32m---> 28\u001b[0;31m         \u001b[0mx\u001b[0m \u001b[0;34m=\u001b[0m \u001b[0mself\u001b[0m\u001b[0;34m.\u001b[0m\u001b[0mneck\u001b[0m\u001b[0;34m(\u001b[0m\u001b[0mx\u001b[0m\u001b[0;34m)\u001b[0m\u001b[0;34m\u001b[0m\u001b[0m\n\u001b[0m\u001b[1;32m     29\u001b[0m         \u001b[0mx\u001b[0m \u001b[0;34m=\u001b[0m \u001b[0mself\u001b[0m\u001b[0;34m.\u001b[0m\u001b[0mhead\u001b[0m\u001b[0;34m(\u001b[0m\u001b[0mx\u001b[0m\u001b[0;34m)\u001b[0m\u001b[0;34m\u001b[0m\u001b[0m\n\u001b[1;32m     30\u001b[0m         \u001b[0;32mreturn\u001b[0m \u001b[0mF\u001b[0m\u001b[0;34m.\u001b[0m\u001b[0mlog_softmax\u001b[0m\u001b[0;34m(\u001b[0m\u001b[0mx\u001b[0m\u001b[0;34m,\u001b[0m \u001b[0mdim\u001b[0m\u001b[0;34m=\u001b[0m\u001b[0;34m-\u001b[0m\u001b[0;36m1\u001b[0m\u001b[0;34m)\u001b[0m\u001b[0;34m\u001b[0m\u001b[0m\n",
      "\u001b[0;32m<ipython-input-204-3df4356516d4>\u001b[0m in \u001b[0;36mforward\u001b[0;34m(self, x)\u001b[0m\n\u001b[1;32m     26\u001b[0m         \u001b[0mx\u001b[0m \u001b[0;34m=\u001b[0m \u001b[0mself\u001b[0m\u001b[0;34m.\u001b[0m\u001b[0mconv2\u001b[0m\u001b[0;34m(\u001b[0m\u001b[0mx\u001b[0m\u001b[0;34m)\u001b[0m\u001b[0;34m\u001b[0m\u001b[0m\n\u001b[1;32m     27\u001b[0m         \u001b[0mx\u001b[0m \u001b[0;34m=\u001b[0m \u001b[0mself\u001b[0m\u001b[0;34m.\u001b[0m\u001b[0mconv3\u001b[0m\u001b[0;34m(\u001b[0m\u001b[0mx\u001b[0m\u001b[0;34m)\u001b[0m\u001b[0;34m\u001b[0m\u001b[0m\n\u001b[0;32m---> 28\u001b[0;31m         \u001b[0mx\u001b[0m \u001b[0;34m=\u001b[0m \u001b[0mself\u001b[0m\u001b[0;34m.\u001b[0m\u001b[0mneck\u001b[0m\u001b[0;34m(\u001b[0m\u001b[0mx\u001b[0m\u001b[0;34m)\u001b[0m\u001b[0;34m\u001b[0m\u001b[0m\n\u001b[0m\u001b[1;32m     29\u001b[0m         \u001b[0mx\u001b[0m \u001b[0;34m=\u001b[0m \u001b[0mself\u001b[0m\u001b[0;34m.\u001b[0m\u001b[0mhead\u001b[0m\u001b[0;34m(\u001b[0m\u001b[0mx\u001b[0m\u001b[0;34m)\u001b[0m\u001b[0;34m\u001b[0m\u001b[0m\n\u001b[1;32m     30\u001b[0m         \u001b[0;32mreturn\u001b[0m \u001b[0mF\u001b[0m\u001b[0;34m.\u001b[0m\u001b[0mlog_softmax\u001b[0m\u001b[0;34m(\u001b[0m\u001b[0mx\u001b[0m\u001b[0;34m,\u001b[0m \u001b[0mdim\u001b[0m\u001b[0;34m=\u001b[0m\u001b[0;34m-\u001b[0m\u001b[0;36m1\u001b[0m\u001b[0;34m)\u001b[0m\u001b[0;34m\u001b[0m\u001b[0m\n",
      "\u001b[0;32m~/Miniconda3/envs/fastai/lib/python3.6/bdb.py\u001b[0m in \u001b[0;36mtrace_dispatch\u001b[0;34m(self, frame, event, arg)\u001b[0m\n\u001b[1;32m     49\u001b[0m             \u001b[0;32mreturn\u001b[0m \u001b[0;31m# None\u001b[0m\u001b[0;34m\u001b[0m\u001b[0m\n\u001b[1;32m     50\u001b[0m         \u001b[0;32mif\u001b[0m \u001b[0mevent\u001b[0m \u001b[0;34m==\u001b[0m \u001b[0;34m'line'\u001b[0m\u001b[0;34m:\u001b[0m\u001b[0;34m\u001b[0m\u001b[0m\n\u001b[0;32m---> 51\u001b[0;31m             \u001b[0;32mreturn\u001b[0m \u001b[0mself\u001b[0m\u001b[0;34m.\u001b[0m\u001b[0mdispatch_line\u001b[0m\u001b[0;34m(\u001b[0m\u001b[0mframe\u001b[0m\u001b[0;34m)\u001b[0m\u001b[0;34m\u001b[0m\u001b[0m\n\u001b[0m\u001b[1;32m     52\u001b[0m         \u001b[0;32mif\u001b[0m \u001b[0mevent\u001b[0m \u001b[0;34m==\u001b[0m \u001b[0;34m'call'\u001b[0m\u001b[0;34m:\u001b[0m\u001b[0;34m\u001b[0m\u001b[0m\n\u001b[1;32m     53\u001b[0m             \u001b[0;32mreturn\u001b[0m \u001b[0mself\u001b[0m\u001b[0;34m.\u001b[0m\u001b[0mdispatch_call\u001b[0m\u001b[0;34m(\u001b[0m\u001b[0mframe\u001b[0m\u001b[0;34m,\u001b[0m \u001b[0marg\u001b[0m\u001b[0;34m)\u001b[0m\u001b[0;34m\u001b[0m\u001b[0m\n",
      "\u001b[0;32m~/Miniconda3/envs/fastai/lib/python3.6/bdb.py\u001b[0m in \u001b[0;36mdispatch_line\u001b[0;34m(self, frame)\u001b[0m\n\u001b[1;32m     68\u001b[0m         \u001b[0;32mif\u001b[0m \u001b[0mself\u001b[0m\u001b[0;34m.\u001b[0m\u001b[0mstop_here\u001b[0m\u001b[0;34m(\u001b[0m\u001b[0mframe\u001b[0m\u001b[0;34m)\u001b[0m \u001b[0;32mor\u001b[0m \u001b[0mself\u001b[0m\u001b[0;34m.\u001b[0m\u001b[0mbreak_here\u001b[0m\u001b[0;34m(\u001b[0m\u001b[0mframe\u001b[0m\u001b[0;34m)\u001b[0m\u001b[0;34m:\u001b[0m\u001b[0;34m\u001b[0m\u001b[0m\n\u001b[1;32m     69\u001b[0m             \u001b[0mself\u001b[0m\u001b[0;34m.\u001b[0m\u001b[0muser_line\u001b[0m\u001b[0;34m(\u001b[0m\u001b[0mframe\u001b[0m\u001b[0;34m)\u001b[0m\u001b[0;34m\u001b[0m\u001b[0m\n\u001b[0;32m---> 70\u001b[0;31m             \u001b[0;32mif\u001b[0m \u001b[0mself\u001b[0m\u001b[0;34m.\u001b[0m\u001b[0mquitting\u001b[0m\u001b[0;34m:\u001b[0m \u001b[0;32mraise\u001b[0m \u001b[0mBdbQuit\u001b[0m\u001b[0;34m\u001b[0m\u001b[0m\n\u001b[0m\u001b[1;32m     71\u001b[0m         \u001b[0;32mreturn\u001b[0m \u001b[0mself\u001b[0m\u001b[0;34m.\u001b[0m\u001b[0mtrace_dispatch\u001b[0m\u001b[0;34m\u001b[0m\u001b[0m\n\u001b[1;32m     72\u001b[0m \u001b[0;34m\u001b[0m\u001b[0m\n",
      "\u001b[0;31mBdbQuit\u001b[0m: "
     ]
    }
   ],
   "source": [
    "x,y = next(iter(trainloader))\n",
    "x,y = Variable(x), Variable(y)\n",
    "convnet(x)"
   ]
  },
  {
   "cell_type": "markdown",
   "metadata": {},
   "source": [
    "### 2.1 Fast AI Learner\n",
    "\n",
    "I'll use two fast.ai learners: the basic convnet defined above that the pytorch model will also use, and a resnet18. I'll also use an ImageNet-pretrained resnet18 to see if that helps at all. If `.pretrained` is not called, you will need to either use `ConvnetBuilder` or define a custom head yourself. **NOTE** also that the standard pytorch ResNet model has a 7x7 ouput pooling layer by default, which may restrict your model's performance if it's not replaced (such as with ConvnetBuilder).\n",
    "\n",
    "The non-pretrained learner's will need their conv layers unfrozen to train them."
   ]
  },
  {
   "cell_type": "code",
   "execution_count": 22,
   "metadata": {},
   "outputs": [
    {
     "data": {
      "text/plain": [
       "(10, False, False)"
      ]
     },
     "execution_count": 22,
     "metadata": {},
     "output_type": "execute_result"
    }
   ],
   "source": [
    "model_data.c, model_data.is_multi, model_data.is_reg"
   ]
  },
  {
   "cell_type": "code",
   "execution_count": 23,
   "metadata": {},
   "outputs": [],
   "source": [
    "resnet_model = ConvnetBuilder(resnet18, model_data.c, model_data.is_multi, model_data.is_reg, pretrained=False)\n",
    "\n",
    "resnet_learner = ConvLearner(model_data, resnet_model)\n",
    "custom_learner = ConvLearner.from_model_data(ConvNet(ch_in=3), model_data)\n",
    "pt_res_learner = ConvLearner.pretrained(resnet18, model_data, metrics=[accuracy]) ## NOTE: metrics=[accuracy] not needed - is default"
   ]
  },
  {
   "cell_type": "markdown",
   "metadata": {
    "heading_collapsed": true
   },
   "source": [
    "#### 2.1.1 Aside: Layers"
   ]
  },
  {
   "cell_type": "markdown",
   "metadata": {
    "hidden": true
   },
   "source": [
    "Again, the learners' conv layers are initially frozen:"
   ]
  },
  {
   "cell_type": "code",
   "execution_count": 63,
   "metadata": {
    "hidden": true
   },
   "outputs": [
    {
     "data": {
      "text/plain": [
       "False"
      ]
     },
     "execution_count": 63,
     "metadata": {},
     "output_type": "execute_result"
    }
   ],
   "source": [
    "True in [[layer.trainable for layer in layer_group] for layer_group in resnet_learner.get_layer_groups()]"
   ]
  },
  {
   "cell_type": "markdown",
   "metadata": {
    "hidden": true
   },
   "source": [
    "By default only the 'head' classification layer is trainable:"
   ]
  },
  {
   "cell_type": "code",
   "execution_count": 64,
   "metadata": {
    "hidden": true
   },
   "outputs": [
    {
     "data": {
      "text/plain": [
       "[[False, False, False, False, False, False],\n",
       " [False, False, False, False],\n",
       " [True, True, True, True, True, True, True, True]]"
      ]
     },
     "execution_count": 64,
     "metadata": {},
     "output_type": "execute_result"
    }
   ],
   "source": [
    "[[layer.trainable for layer in layer_group] for layer_group in resnet_learner.get_layer_groups()]"
   ]
  },
  {
   "cell_type": "markdown",
   "metadata": {
    "hidden": true
   },
   "source": [
    "Construct the custom learner with ConvnetBuilder in order to make it's layers iterable:"
   ]
  },
  {
   "cell_type": "code",
   "execution_count": 66,
   "metadata": {
    "hidden": true
   },
   "outputs": [
    {
     "ename": "TypeError",
     "evalue": "'ConvBNLayer' object is not iterable",
     "output_type": "error",
     "traceback": [
      "\u001b[0;31m---------------------------------------------------------------------------\u001b[0m",
      "\u001b[0;31mTypeError\u001b[0m                                 Traceback (most recent call last)",
      "\u001b[0;32m<ipython-input-66-e14f1b642468>\u001b[0m in \u001b[0;36m<module>\u001b[0;34m()\u001b[0m\n\u001b[0;32m----> 1\u001b[0;31m \u001b[0;34m[\u001b[0m\u001b[0;34m[\u001b[0m\u001b[0mlayer\u001b[0m\u001b[0;34m.\u001b[0m\u001b[0mtrainable\u001b[0m \u001b[0;32mfor\u001b[0m \u001b[0mlayer\u001b[0m \u001b[0;32min\u001b[0m \u001b[0mlayer_group\u001b[0m\u001b[0;34m]\u001b[0m \u001b[0;32mfor\u001b[0m \u001b[0mlayer_group\u001b[0m \u001b[0;32min\u001b[0m \u001b[0mcustom_learner\u001b[0m\u001b[0;34m.\u001b[0m\u001b[0mget_layer_groups\u001b[0m\u001b[0;34m(\u001b[0m\u001b[0;34m)\u001b[0m\u001b[0;34m]\u001b[0m\u001b[0;34m\u001b[0m\u001b[0m\n\u001b[0m",
      "\u001b[0;32m<ipython-input-66-e14f1b642468>\u001b[0m in \u001b[0;36m<listcomp>\u001b[0;34m(.0)\u001b[0m\n\u001b[0;32m----> 1\u001b[0;31m \u001b[0;34m[\u001b[0m\u001b[0;34m[\u001b[0m\u001b[0mlayer\u001b[0m\u001b[0;34m.\u001b[0m\u001b[0mtrainable\u001b[0m \u001b[0;32mfor\u001b[0m \u001b[0mlayer\u001b[0m \u001b[0;32min\u001b[0m \u001b[0mlayer_group\u001b[0m\u001b[0;34m]\u001b[0m \u001b[0;32mfor\u001b[0m \u001b[0mlayer_group\u001b[0m \u001b[0;32min\u001b[0m \u001b[0mcustom_learner\u001b[0m\u001b[0;34m.\u001b[0m\u001b[0mget_layer_groups\u001b[0m\u001b[0;34m(\u001b[0m\u001b[0;34m)\u001b[0m\u001b[0;34m]\u001b[0m\u001b[0;34m\u001b[0m\u001b[0m\n\u001b[0m",
      "\u001b[0;31mTypeError\u001b[0m: 'ConvBNLayer' object is not iterable"
     ]
    }
   ],
   "source": [
    "[[layer.trainable for layer in layer_group] for layer_group in custom_learner.get_layer_groups()]"
   ]
  },
  {
   "cell_type": "code",
   "execution_count": 73,
   "metadata": {
    "hidden": true
   },
   "outputs": [
    {
     "data": {
      "text/plain": [
       "<fastai.core.BasicModel at 0x133b41c50>"
      ]
     },
     "execution_count": 73,
     "metadata": {},
     "output_type": "execute_result"
    }
   ],
   "source": [
    "custom_learner.models"
   ]
  },
  {
   "cell_type": "code",
   "execution_count": 74,
   "metadata": {
    "hidden": true
   },
   "outputs": [
    {
     "data": {
      "text/plain": [
       "<fastai.conv_learner.ConvnetBuilder at 0x13087b4e0>"
      ]
     },
     "execution_count": 74,
     "metadata": {},
     "output_type": "execute_result"
    }
   ],
   "source": [
    "resnet_learner.models"
   ]
  },
  {
   "cell_type": "code",
   "execution_count": 78,
   "metadata": {
    "hidden": true
   },
   "outputs": [],
   "source": [
    "# custom_learner"
   ]
  },
  {
   "cell_type": "code",
   "execution_count": 76,
   "metadata": {
    "hidden": true,
    "scrolled": true
   },
   "outputs": [],
   "source": [
    "# resnet_learner"
   ]
  },
  {
   "cell_type": "code",
   "execution_count": 77,
   "metadata": {
    "hidden": true,
    "scrolled": true
   },
   "outputs": [],
   "source": [
    "# pt_res_learner"
   ]
  },
  {
   "cell_type": "markdown",
   "metadata": {},
   "source": [
    "#### 2.1.2 Recap: Models"
   ]
  },
  {
   "cell_type": "markdown",
   "metadata": {},
   "source": [
    "I'll be comparing 4 models:\n",
    "1. **`convnet`** a 1-input channel custom CNN trained in straight PyTorch\n",
    "2. **`custom_learner`** a 3-input channel custom CNN trained with Fast AI\n",
    "3. **`resnet_learner`** a 3-input channel fresh ResNet18 trained with Fast AI\n",
    "4. **`pt_res_learner`** a 3-input channel pretrained (ImageNet) ResNet18 trained with Fast AI.\n",
    "\n",
    "Perhaps it'd be a good idea to replace the fresh ResNet18's input layer with a 1-channel input to compare it directly to the custom CNN. That's for a future run if I or anyone chooses to do so."
   ]
  },
  {
   "cell_type": "markdown",
   "metadata": {},
   "source": [
    "## 3. Loss Function\n",
    "\n",
    "[`torch.nn.CrossEntropyLoss`](https://github.com/pytorch/pytorch/blob/master/torch/nn/modules/loss.py#L701)\n",
    "\n",
    "Do `nn.functional.` loss functions go in the architecture, and `nn.` loss functions become criterion? [Huh, interesting. It calls `nn.functional.`](https://github.com/pytorch/pytorch/blob/master/torch/nn/modules/loss.py#L778)."
   ]
  },
  {
   "cell_type": "code",
   "execution_count": 24,
   "metadata": {},
   "outputs": [],
   "source": [
    "criterion = torch.nn.NLLLoss() # log_softmax already in arch; nll(log_softmax) <=> CE\n",
    "optimizer = torch.optim.SGD(convnet.parameters(), lr=0.01, momentum=0.9)"
   ]
  },
  {
   "cell_type": "markdown",
   "metadata": {},
   "source": [
    "The Fast.ai Learners:"
   ]
  },
  {
   "cell_type": "code",
   "execution_count": 25,
   "metadata": {},
   "outputs": [
    {
     "data": {
      "text/plain": [
       "<function torch.nn.functional.nll_loss(input, target, weight=None, size_average=True, ignore_index=-100, reduce=True)>"
      ]
     },
     "execution_count": 25,
     "metadata": {},
     "output_type": "execute_result"
    }
   ],
   "source": [
    "custom_learner.crit"
   ]
  },
  {
   "cell_type": "code",
   "execution_count": 26,
   "metadata": {},
   "outputs": [
    {
     "data": {
      "text/plain": [
       "<function torch.nn.functional.nll_loss(input, target, weight=None, size_average=True, ignore_index=-100, reduce=True)>"
      ]
     },
     "execution_count": 26,
     "metadata": {},
     "output_type": "execute_result"
    }
   ],
   "source": [
    "resnet_learner.crit"
   ]
  },
  {
   "cell_type": "code",
   "execution_count": 27,
   "metadata": {},
   "outputs": [
    {
     "data": {
      "text/plain": [
       "<function torch.nn.functional.nll_loss(input, target, weight=None, size_average=True, ignore_index=-100, reduce=True)>"
      ]
     },
     "execution_count": 27,
     "metadata": {},
     "output_type": "execute_result"
    }
   ],
   "source": [
    "pt_res_learner.crit"
   ]
  },
  {
   "cell_type": "markdown",
   "metadata": {},
   "source": [
    "## 4. Training"
   ]
  },
  {
   "cell_type": "markdown",
   "metadata": {},
   "source": [
    "As far as I know, training in base PyTorch is tedious, so I'll do a sanity-check of it first, then do all my training with Fast AI. See ref: §4: Training or §9.1: Train ConvNet & ConvNetMod in [this notebook](https://github.com/WNoxchi/Kaukasos/blob/master/PyTorch/practice-mnist.ipynb).\n",
    "\n",
    "There are ways to implement learning-rate scheduling and other advanced techniques in PyTorch – but by that point unless you're doing it for practice or testing a new module: *that's what Fast.AI is for*."
   ]
  },
  {
   "cell_type": "markdown",
   "metadata": {},
   "source": [
    "### 4.1 base PyTorch"
   ]
  },
  {
   "cell_type": "code",
   "execution_count": 28,
   "metadata": {},
   "outputs": [
    {
     "data": {
      "text/plain": [
       "797"
      ]
     },
     "execution_count": 28,
     "metadata": {},
     "output_type": "execute_result"
    }
   ],
   "source": [
    "len(trainloader) # ceil(51,000 / bs) batches"
   ]
  },
  {
   "cell_type": "markdown",
   "metadata": {},
   "source": [
    "There are more improvements to doing train / valid phases – including learning rate scheduling and automatically saving best weights (see: [pytorch tutorial](https://pytorch.org/tutorials/beginner/transfer_learning_tutorial.html?highlight=dataloaders#load-data)) – but that's what fast.ai's for. I'll practice those in the future. Also since the FastAI library is pending an update to PyTorch 0.4, `torch.set_grad_enabled` can't be used for inference mode. Instead I follow the advice on this [pytorch forum thread](https://discuss.pytorch.org/t/resolved-validation-loss/3501). For now:"
   ]
  },
  {
   "cell_type": "code",
   "execution_count": 29,
   "metadata": {},
   "outputs": [
    {
     "data": {
      "text/plain": [
       "<torch.optim.sgd.SGD at 0x7f54e1448550>"
      ]
     },
     "execution_count": 29,
     "metadata": {},
     "output_type": "execute_result"
    }
   ],
   "source": [
    "optimizer"
   ]
  },
  {
   "cell_type": "markdown",
   "metadata": {},
   "source": [
    "**NOTE 1** the criterion and optimizer need to be initialized *after* the model is sent to the GPU if it is. See [pytorch thread](https://discuss.pytorch.org/t/effect-of-calling-model-cuda-after-constructing-an-optimizer/15165).\n",
    "\n",
    "**NOTE 2**: `Variable.volatile = True` can only be set immediately after a Variable is created. See [pytorch thread](https://discuss.pytorch.org/t/runtimeerror-volatile-can-only-be-set-on-leaf-variables/15338/2?u=wnixalo). (this is for using a validation set and *not* affecting the gradients) – I got this error when trying to set `.volatile=True` after sending the val data to GPU (`torch.FloatTensor` $\\rightarrow$ `torch.cuda.FloatTensor`)"
   ]
  },
  {
   "cell_type": "code",
   "execution_count": 30,
   "metadata": {},
   "outputs": [],
   "source": [
    "def train(model=None, crit=None, trainloader=None, valloader=None, num_epochs=1, verbose=True):\n",
    "    # if verbose:\n",
    "    #     displays = 5\n",
    "    #     display_step = max(len(dataloader) // displays, 1)\n",
    "    t0 = time.time()\n",
    "    \n",
    "    dataloaders = {'train':trainloader}\n",
    "    if valloader: dataloaders['valid'] = valloader\n",
    "        \n",
    "#     model.to('cuda:0' if torch.cuda.is_available() else 'cpu') # pytorch >= 0.4\n",
    "    to_gpu(model)\n",
    "    criterion = torch.nn.NLLLoss() # log_softmax already in arch; nll(log_softmax) <=> CE\n",
    "    optimizer = torch.optim.SGD(convnet.parameters(), lr=0.01, momentum=0.9)\n",
    "    \n",
    "    # epoch w/ train & val phases\n",
    "    for epoch in range(num_epochs): \n",
    "        print(f'Epoch {epoch+1}/{num_epochs}\\n{\"-\"*10}')\n",
    "        \n",
    "        for phase in dataloaders:\n",
    "            running_loss = 0.0\n",
    "            running_correct = 0\n",
    "            \n",
    "            for i,datum in enumerate(dataloaders[phase]):\n",
    "                inputs, labels = datum\n",
    "                inputs, labels = torch.autograd.Variable(inputs), torch.autograd.Variable(labels)\n",
    "                \n",
    "                # zero param gradients\n",
    "                optimizer.zero_grad()\n",
    "\n",
    "                # (forward) track history if train\n",
    "                # with torch.set_grad_enabled(phase=='train'): # pytorch >= 0.4\n",
    "                if phase == 'valid':     # pytorch 3.1 #\n",
    "                    inputs.volatile=True               #\n",
    "                    labels.volatile=True               #\n",
    "                # send data to gpu\n",
    "                inputs, labels = to_gpu(inputs), to_gpu(labels) # pytorch < 0.4\n",
    "                outputs = model(inputs)                #\n",
    "                loss    = crit(outputs, labels)        #\n",
    "                _, preds= torch.max(outputs, 1) # for accuracy metric\n",
    "                                                       #\n",
    "                # backward & optimize if train         #\n",
    "                if phase == 'train':                   #\n",
    "                    loss.backward()                    #\n",
    "                    optimizer.step()                   # indent for pytorch >= 0.4\n",
    "\n",
    "                # stats\n",
    "#                 pdb.set_trace()\n",
    "                running_loss += loss.data[0]\n",
    "                running_correct += torch.sum(preds == V(labels.data)) # wrap in V; pytorch 3.1\n",
    "                    \n",
    "            epoch_loss = running_loss / len(dataloaders[phase])\n",
    "#             if phase == 'valid': pdb.set_trace()\n",
    "            epoch_acc  = float(running_correct.double() / len(dataloaders[phase])) # ? pytorch 3.1 reqs float conversion?\n",
    "#             pdb.set_trace()\n",
    "            print(f'{phase} Loss: {epoch_loss:.4f} Acc: {epoch_acc:.4f}')\n",
    "                \n",
    "    time_elapsed = time.time() - t0\n",
    "    print(f'Training Time {num_epochs} Epochs: {time_elapsed:.3f}s')"
   ]
  },
  {
   "cell_type": "markdown",
   "metadata": {},
   "source": [
    "Manual PyTorch train / val training phases. See: [pytorch tutorial](https://pytorch.org/tutorials/beginner/transfer_learning_tutorial.html?highlight=validation#training-the-model)\n",
    "\n",
    "*(forward) track history only if in train:*\n",
    "```\n",
    "with torch.set_grad_enabled(False):\n",
    "    outputs = model(inputs)\n",
    "    _, preds = torch.max(outputs, 1)\n",
    "    loss = criterion(outputs, labels)\n",
    "```\n",
    "*backward + optimize only if in training phase*\n",
    "```\n",
    "    if phase == 'train':\n",
    "        loss.backward()\n",
    "        optimizer.step()\n",
    "```"
   ]
  },
  {
   "cell_type": "markdown",
   "metadata": {},
   "source": [
    "**NOTE**: I think I'm doing something wrong with the validation phase. [Saving](https://discuss.pytorch.org/t/saving-and-loading-a-model-in-pytorch/2610/7?u=wnixalo). [PyTorch Docs on Saving](https://pytorch.org/docs/master/notes/serialization.html)."
   ]
  },
  {
   "cell_type": "code",
   "execution_count": 31,
   "metadata": {
    "scrolled": false
   },
   "outputs": [
    {
     "name": "stdout",
     "output_type": "stream",
     "text": [
      "Epoch 1/1\n",
      "----------\n",
      "train Loss: 0.1861 Acc: 0.2334\n",
      "valid Loss: 0.0878 Acc: 0.4610\n",
      "Training Time 1 Epochs: 17.535s\n"
     ]
    }
   ],
   "source": [
    "train(model=convnet, crit=criterion, trainloader=trainloader, valloader=validloader)"
   ]
  },
  {
   "cell_type": "markdown",
   "metadata": {},
   "source": [
    "Previous run on CPU:"
   ]
  },
  {
   "cell_type": "code",
   "execution_count": 30,
   "metadata": {
    "scrolled": false
   },
   "outputs": [
    {
     "name": "stdout",
     "output_type": "stream",
     "text": [
      "Epoch 1/1\n",
      "----------\n",
      "train Loss: 0.1932 Acc: 0.0540\n",
      "valid Loss: 0.0766 Acc: 0.7518\n",
      "Training Time 1 Epochs: 230.497s\n"
     ]
    }
   ],
   "source": [
    "# train(model=convnet, crit=criterion, trainloader=trainloader, valloader=validloader)"
   ]
  },
  {
   "cell_type": "code",
   "execution_count": 32,
   "metadata": {},
   "outputs": [],
   "source": [
    "torch.save(convnet.state_dict(), 'convnet_mnist_base.pth')"
   ]
  },
  {
   "cell_type": "code",
   "execution_count": 33,
   "metadata": {},
   "outputs": [],
   "source": [
    "convnet.load_state_dict(torch.load('convnet_mnist_base.pth'))"
   ]
  },
  {
   "cell_type": "markdown",
   "metadata": {},
   "source": [
    "### 4.2 with Fast AI"
   ]
  },
  {
   "cell_type": "markdown",
   "metadata": {},
   "source": [
    "#### 4.2.1 Finding Learning Rates\n",
    "\n",
    "To keep things simple, I won't be using [1-Cycle](http://forums.fast.ai/t/the-1cycle-policy-an-experiment-that-investigate-super-convergence-phenomenon-described-in-leslie-smiths-research/14737), [Progressive Resizing](http://www.fast.ai/2018/04/30/dawnbench-fastai/#imagenet), or much in the way of [Cyclical Learning Rates](https://arxiv.org/abs/1506.01186). That could be a topic for later runs."
   ]
  },
  {
   "cell_type": "code",
   "execution_count": 34,
   "metadata": {},
   "outputs": [
    {
     "data": {
      "text/plain": [
       "dtype('int8')"
      ]
     },
     "execution_count": 34,
     "metadata": {},
     "output_type": "execute_result"
    }
   ],
   "source": [
    "model_data.trn_ds.get1item(0)[1].dtype"
   ]
  },
  {
   "cell_type": "code",
   "execution_count": 35,
   "metadata": {
    "scrolled": false
   },
   "outputs": [
    {
     "data": {
      "application/vnd.jupyter.widget-view+json": {
       "model_id": "d071c93c053f4c3281953b9cfce1c7e5",
       "version_major": 2,
       "version_minor": 0
      },
      "text/plain": [
       "HBox(children=(IntProgress(value=0, description='Epoch', max=1), HTML(value='')))"
      ]
     },
     "metadata": {},
     "output_type": "display_data"
    },
    {
     "name": "stdout",
     "output_type": "stream",
     "text": [
      " 84%|████████▍ | 673/797 [00:17<00:03, 37.97it/s, loss=1.06] "
     ]
    },
    {
     "data": {
      "image/png": "[encoded data removed]",
      "text/plain": [
       "<Figure size 432x288 with 1 Axes>"
      ]
     },
     "metadata": {},
     "output_type": "display_data"
    }
   ],
   "source": [
    "custom_learner.lr_find()\n",
    "custom_learner.sched.plot()"
   ]
  },
  {
   "cell_type": "code",
   "execution_count": 36,
   "metadata": {},
   "outputs": [
    {
     "data": {
      "image/png": "[encoded data removed]",
      "text/plain": [
       "<Figure size 432x288 with 1 Axes>"
      ]
     },
     "metadata": {},
     "output_type": "display_data"
    }
   ],
   "source": [
    "custom_learner.sched.plot_lr()"
   ]
  },
  {
   "cell_type": "code",
   "execution_count": 67,
   "metadata": {
    "scrolled": false
   },
   "outputs": [],
   "source": [
    "# next(iter(model_data.get_dl(model_data.trn_ds, False)))"
   ]
  },
  {
   "cell_type": "code",
   "execution_count": 37,
   "metadata": {},
   "outputs": [
    {
     "data": {
      "application/vnd.jupyter.widget-view+json": {
       "model_id": "a32d11af2ced4545ac7dd8303ad23f6a",
       "version_major": 2,
       "version_minor": 0
      },
      "text/plain": [
       "HBox(children=(IntProgress(value=0, description='Epoch', max=1), HTML(value='')))"
      ]
     },
     "metadata": {},
     "output_type": "display_data"
    },
    {
     "name": "stdout",
     "output_type": "stream",
     "text": [
      " 82%|████████▏ | 653/797 [00:14<00:03, 44.88it/s, loss=2.78] "
     ]
    },
    {
     "data": {
      "image/png": "[encoded data removed]",
      "text/plain": [
       "<Figure size 432x288 with 1 Axes>"
      ]
     },
     "metadata": {},
     "output_type": "display_data"
    }
   ],
   "source": [
    "resnet_learner.lr_find()\n",
    "resnet_learner.sched.plot()"
   ]
  },
  {
   "cell_type": "code",
   "execution_count": 38,
   "metadata": {},
   "outputs": [
    {
     "data": {
      "application/vnd.jupyter.widget-view+json": {
       "model_id": "3674e09939a94f9498f87922ff980c74",
       "version_major": 2,
       "version_minor": 0
      },
      "text/plain": [
       "HBox(children=(IntProgress(value=0, description='Epoch', max=1), HTML(value='')))"
      ]
     },
     "metadata": {},
     "output_type": "display_data"
    },
    {
     "name": "stdout",
     "output_type": "stream",
     "text": [
      " 82%|████████▏ | 653/797 [00:14<00:03, 45.07it/s, loss=3.6]  "
     ]
    },
    {
     "data": {
      "image/png": "[encoded data removed]",
      "text/plain": [
       "<Figure size 432x288 with 1 Axes>"
      ]
     },
     "metadata": {},
     "output_type": "display_data"
    },
    {
     "name": "stdout",
     "output_type": "stream",
     "text": [
      "\r",
      " 82%|████████▏ | 653/797 [00:25<00:05, 25.36it/s, loss=3.6]"
     ]
    }
   ],
   "source": [
    "pt_res_learner.lr_find()\n",
    "pt_res_learner.sched.plot()"
   ]
  },
  {
   "cell_type": "markdown",
   "metadata": {},
   "source": [
    "I'll use `1e-2` as the `lr` for all of them."
   ]
  },
  {
   "cell_type": "code",
   "execution_count": 39,
   "metadata": {},
   "outputs": [],
   "source": [
    "lrs = 1e-2"
   ]
  },
  {
   "cell_type": "markdown",
   "metadata": {},
   "source": [
    "#### 4.2.2 `custom_learner`"
   ]
  },
  {
   "cell_type": "code",
   "execution_count": 40,
   "metadata": {},
   "outputs": [
    {
     "data": {
      "text/plain": [
       "[True, True, True, True, True, True]"
      ]
     },
     "execution_count": 40,
     "metadata": {},
     "output_type": "execute_result"
    }
   ],
   "source": [
    "# checking all conv layers are being trained:\n",
    "[layer.trainable for layer in custom_learner.models.get_layer_groups()]"
   ]
  },
  {
   "cell_type": "code",
   "execution_count": 41,
   "metadata": {},
   "outputs": [
    {
     "data": {
      "application/vnd.jupyter.widget-view+json": {
       "model_id": "2439d63c387f45ed8be876294f4c041c",
       "version_major": 2,
       "version_minor": 0
      },
      "text/plain": [
       "HBox(children=(IntProgress(value=0, description='Epoch', max=1), HTML(value='')))"
      ]
     },
     "metadata": {},
     "output_type": "display_data"
    },
    {
     "name": "stdout",
     "output_type": "stream",
     "text": [
      "epoch      trn_loss   val_loss   accuracy                     \n",
      "    0      0.088194   0.068054   0.980333  \n",
      "CPU times: user 20.2 s, sys: 7.77 s, total: 28 s\n",
      "Wall time: 22.8 s\n"
     ]
    },
    {
     "data": {
      "text/plain": [
       "[array([0.06805]), 0.9803333334392972]"
      ]
     },
     "execution_count": 41,
     "metadata": {},
     "output_type": "execute_result"
    }
   ],
   "source": [
    "%time custom_learner.fit(lrs, n_cycle=1, cycle_len=1, cycle_mult=1)"
   ]
  },
  {
   "cell_type": "code",
   "execution_count": 179,
   "metadata": {},
   "outputs": [
    {
     "data": {
      "image/png": "[encoded data removed]",
      "text/plain": [
       "<Figure size 1008x504 with 1 Axes>"
      ]
     },
     "metadata": {},
     "output_type": "display_data"
    }
   ],
   "source": [
    "plot_metrics(custom_learner)"
   ]
  },
  {
   "cell_type": "markdown",
   "metadata": {
    "heading_collapsed": true
   },
   "source": [
    "#### 4.2.2.1 *Aside*: Fast.ai Automatic LR scaling:"
   ]
  },
  {
   "cell_type": "markdown",
   "metadata": {
    "hidden": true
   },
   "source": [
    "Just noticed this very useful feature. Even at very stripped-down settings, Fastai still 'revs' the learning rate up during train-start and back down before train-end:"
   ]
  },
  {
   "cell_type": "code",
   "execution_count": 45,
   "metadata": {
    "hidden": true
   },
   "outputs": [
    {
     "data": {
      "image/png": "[encoded data removed]",
      "text/plain": [
       "<Figure size 432x288 with 1 Axes>"
      ]
     },
     "metadata": {},
     "output_type": "display_data"
    }
   ],
   "source": [
    "custom_learner.sched.plot_lr()"
   ]
  },
  {
   "cell_type": "markdown",
   "metadata": {},
   "source": [
    "#### 4.2.3 `resnet_learner`"
   ]
  },
  {
   "cell_type": "code",
   "execution_count": 50,
   "metadata": {},
   "outputs": [
    {
     "data": {
      "text/plain": [
       "[False, False, True]"
      ]
     },
     "execution_count": 50,
     "metadata": {},
     "output_type": "execute_result"
    }
   ],
   "source": [
    "[layer[0].trainable for layer in resnet_learner.models.get_layer_groups()]"
   ]
  },
  {
   "cell_type": "code",
   "execution_count": 51,
   "metadata": {},
   "outputs": [],
   "source": [
    "resnet_learner.unfreeze()"
   ]
  },
  {
   "cell_type": "code",
   "execution_count": 52,
   "metadata": {},
   "outputs": [
    {
     "data": {
      "text/plain": [
       "[True, True, True]"
      ]
     },
     "execution_count": 52,
     "metadata": {},
     "output_type": "execute_result"
    }
   ],
   "source": [
    "[layer[0].trainable for layer in resnet_learner.models.get_layer_groups()]"
   ]
  },
  {
   "cell_type": "code",
   "execution_count": 53,
   "metadata": {},
   "outputs": [
    {
     "data": {
      "application/vnd.jupyter.widget-view+json": {
       "model_id": "61f5573668f64e8d9e40eaa80d2798be",
       "version_major": 2,
       "version_minor": 0
      },
      "text/plain": [
       "HBox(children=(IntProgress(value=0, description='Epoch', max=1), HTML(value='')))"
      ]
     },
     "metadata": {},
     "output_type": "display_data"
    },
    {
     "name": "stdout",
     "output_type": "stream",
     "text": [
      "epoch      trn_loss   val_loss   accuracy                     \n",
      "    0      0.087478   0.05272    0.983444  \n",
      "CPU times: user 39.5 s, sys: 15.5 s, total: 55.1 s\n",
      "Wall time: 49.7 s\n"
     ]
    },
    {
     "data": {
      "text/plain": [
       "[array([0.05272]), 0.9834444443914625]"
      ]
     },
     "execution_count": 53,
     "metadata": {},
     "output_type": "execute_result"
    }
   ],
   "source": [
    "%time resnet_learner.fit(lrs, n_cycle=1, cycle_len=1, cycle_mult=1)"
   ]
  },
  {
   "cell_type": "code",
   "execution_count": 180,
   "metadata": {},
   "outputs": [
    {
     "data": {
      "image/png": "[encoded data removed]",
      "text/plain": [
       "<Figure size 1008x504 with 1 Axes>"
      ]
     },
     "metadata": {},
     "output_type": "display_data"
    }
   ],
   "source": [
    "plot_metrics(resnet_learner)"
   ]
  },
  {
   "cell_type": "markdown",
   "metadata": {},
   "source": [
    "#### 4.2.4 `pt_res_learner`"
   ]
  },
  {
   "cell_type": "code",
   "execution_count": 55,
   "metadata": {},
   "outputs": [
    {
     "data": {
      "application/vnd.jupyter.widget-view+json": {
       "model_id": "dcff30fd68cf48e2a0f98180960a23fa",
       "version_major": 2,
       "version_minor": 0
      },
      "text/plain": [
       "HBox(children=(IntProgress(value=0, description='Epoch', max=1), HTML(value='')))"
      ]
     },
     "metadata": {},
     "output_type": "display_data"
    },
    {
     "name": "stdout",
     "output_type": "stream",
     "text": [
      "epoch      trn_loss   val_loss   accuracy                    \n",
      "    0      0.554677   0.58673    0.891556  \n",
      "CPU times: user 19.6 s, sys: 6.02 s, total: 25.6 s\n",
      "Wall time: 20.4 s\n"
     ]
    },
    {
     "data": {
      "text/plain": [
       "[array([0.58673]), 0.8915555556085375]"
      ]
     },
     "execution_count": 55,
     "metadata": {},
     "output_type": "execute_result"
    }
   ],
   "source": [
    "# only training classifier head\n",
    "%time pt_res_learner.fit(lrs, n_cycle=1, cycle_len=1, cycle_mult=1)"
   ]
  },
  {
   "cell_type": "code",
   "execution_count": 199,
   "metadata": {},
   "outputs": [
    {
     "data": {
      "text/plain": [
       "0.5546770245500905"
      ]
     },
     "execution_count": 199,
     "metadata": {},
     "output_type": "execute_result"
    }
   ],
   "source": [
    "# min(pt_res_learner.sched.losses)\n",
    "pt_res_learner.sched.losses[-1]"
   ]
  },
  {
   "cell_type": "code",
   "execution_count": 200,
   "metadata": {},
   "outputs": [
    {
     "data": {
      "text/plain": [
       "[0.5867299038039313]"
      ]
     },
     "execution_count": 200,
     "metadata": {},
     "output_type": "execute_result"
    }
   ],
   "source": [
    "pt_res_learner.sched.val_losses"
   ]
  },
  {
   "cell_type": "code",
   "execution_count": 181,
   "metadata": {},
   "outputs": [
    {
     "data": {
      "image/png": "[encoded data removed]",
      "text/plain": [
       "<Figure size 1008x504 with 1 Axes>"
      ]
     },
     "metadata": {},
     "output_type": "display_data"
    }
   ],
   "source": [
    "plot_metrics(pt_res_learner)"
   ]
  },
  {
   "cell_type": "markdown",
   "metadata": {},
   "source": [
    "## 5. Testing"
   ]
  },
  {
   "cell_type": "markdown",
   "metadata": {},
   "source": [
    "#### 5.0.1 PyTorch convnet"
   ]
  },
  {
   "cell_type": "code",
   "execution_count": 182,
   "metadata": {},
   "outputs": [],
   "source": [
    "x,y = next(iter(testloader)) # shape: ([64,1,28,28]; [64])\n",
    "out = convnet(V(x))          # shape: ([64, 10])"
   ]
  },
  {
   "cell_type": "code",
   "execution_count": 183,
   "metadata": {},
   "outputs": [],
   "source": [
    "_, preds = torch.max(out.data, 1)"
   ]
  },
  {
   "cell_type": "code",
   "execution_count": 184,
   "metadata": {},
   "outputs": [
    {
     "data": {
      "text/plain": [
       "[(7, 7), (2, 2), (1, 1), (0, 0), (4, 4), (1, 1), (4, 4), (9, 9), (5, 5)]"
      ]
     },
     "execution_count": 184,
     "metadata": {},
     "output_type": "execute_result"
    }
   ],
   "source": [
    "list(zip(preds[:9], y[:9]))"
   ]
  },
  {
   "cell_type": "markdown",
   "metadata": {},
   "source": [
    "Cool, even with that little training it's able to get a lot right."
   ]
  },
  {
   "cell_type": "code",
   "execution_count": 187,
   "metadata": {},
   "outputs": [],
   "source": [
    "def test_pytorch(model, dataloader):\n",
    "    \"\"\"evaluation script. Returns tuple: (list of predictions, ratio correct)\"\"\"\n",
    "    correct = 0\n",
    "    total = 0\n",
    "    \n",
    "    predictions = []\n",
    "\n",
    "    for batch in dataloader:\n",
    "        images, labels = batch   ## could also go w: testloader.dataset.test_labels\n",
    "        images, labels = to_gpu(images), to_gpu(labels)\n",
    "        outputs  = convnet(Variable(images))\n",
    "        _, preds = torch.max(outputs.data, 1)\n",
    "        total   += labels.size(0)\n",
    "        correct += (preds == labels).sum()\n",
    "        \n",
    "        predictions.extend(preds)\n",
    "        \n",
    "    return predictions, correct/total"
   ]
  },
  {
   "cell_type": "code",
   "execution_count": 188,
   "metadata": {},
   "outputs": [
    {
     "data": {
      "text/plain": [
       "0.9783"
      ]
     },
     "execution_count": 188,
     "metadata": {},
     "output_type": "execute_result"
    }
   ],
   "source": [
    "preds, test_acc = test_pytorch(convnet, testloader)\n",
    "test_acc"
   ]
  },
  {
   "cell_type": "markdown",
   "metadata": {},
   "source": [
    "97-98% accuracy on test set. Just checking:"
   ]
  },
  {
   "cell_type": "code",
   "execution_count": 189,
   "metadata": {},
   "outputs": [
    {
     "data": {
      "text/plain": [
       "[(7, 7), (2, 2), (1, 1), (0, 0), (4, 4), (1, 1), (4, 4), (9, 9), (5, 5)]"
      ]
     },
     "execution_count": 189,
     "metadata": {},
     "output_type": "execute_result"
    }
   ],
   "source": [
    "_,y = next(iter(testloader))\n",
    "list(zip(preds[:9], y[:9]))"
   ]
  },
  {
   "cell_type": "markdown",
   "metadata": {},
   "source": [
    "#### 5.0.2 `custom_learner`"
   ]
  },
  {
   "cell_type": "code",
   "execution_count": 191,
   "metadata": {},
   "outputs": [
    {
     "data": {
      "text/plain": [
       "0.9819"
      ]
     },
     "execution_count": 191,
     "metadata": {},
     "output_type": "execute_result"
    }
   ],
   "source": [
    "# get output predictions\n",
    "log_preds = custom_learner.predict(is_test=True)\n",
    "# compare top-scoring preds against dataset\n",
    "np.equal(model_data.test_dl.dataset.y, np.argmax(log_preds, axis=1)).sum() / model_data.test_ds.n"
   ]
  },
  {
   "cell_type": "markdown",
   "metadata": {
    "heading_collapsed": true
   },
   "source": [
    "##### Aside: (untrained) `custom_learner` Sanity Checks:"
   ]
  },
  {
   "cell_type": "code",
   "execution_count": 195,
   "metadata": {
    "hidden": true
   },
   "outputs": [],
   "source": [
    "## 2-3 ways to do the same thing\n",
    "# log_preds_dl = custom_learner.predict_dl(testloader) # make sure num channels correct before trying this; havent tested\n",
    "log_preds_dl = custom_learner.predict_dl(model_data.test_dl)\n",
    "log_preds = custom_learner.predict(is_test=True)"
   ]
  },
  {
   "cell_type": "markdown",
   "metadata": {
    "hidden": true
   },
   "source": [
    "I had some confusion. You *do* take the max as the top prediction; to get the actual probabilities, since it's a log softmax ouput, you exponentiate. "
   ]
  },
  {
   "cell_type": "code",
   "execution_count": 196,
   "metadata": {
    "hidden": true
   },
   "outputs": [
    {
     "data": {
      "text/plain": [
       "((10000, 10), (10000, 10))"
      ]
     },
     "execution_count": 196,
     "metadata": {},
     "output_type": "execute_result"
    }
   ],
   "source": [
    "log_preds_dl.shape, log_preds.shape # same shape"
   ]
  },
  {
   "cell_type": "code",
   "execution_count": 199,
   "metadata": {
    "hidden": true
   },
   "outputs": [
    {
     "data": {
      "text/plain": [
       "array([ True])"
      ]
     },
     "execution_count": 199,
     "metadata": {},
     "output_type": "execute_result"
    }
   ],
   "source": [
    "np.unique(log_preds_dl == log_preds) # same values"
   ]
  },
  {
   "cell_type": "code",
   "execution_count": 232,
   "metadata": {
    "hidden": true
   },
   "outputs": [
    {
     "data": {
      "text/plain": [
       "\n",
       " 7\n",
       " 2\n",
       " 1\n",
       "⋮ \n",
       " 4\n",
       " 5\n",
       " 6\n",
       "[torch.LongTensor of size 10000]"
      ]
     },
     "execution_count": 232,
     "metadata": {},
     "output_type": "execute_result"
    }
   ],
   "source": []
  },
  {
   "cell_type": "code",
   "execution_count": 236,
   "metadata": {
    "hidden": true
   },
   "outputs": [
    {
     "data": {
      "text/plain": [
       "0.0892"
      ]
     },
     "execution_count": 236,
     "metadata": {},
     "output_type": "execute_result"
    }
   ],
   "source": [
    "np.equal(testloader.dataset.test_labels, np.argmax(log_preds, axis=1)).sum() / len(testloader.dataset.test_labels)"
   ]
  },
  {
   "cell_type": "markdown",
   "metadata": {
    "hidden": true
   },
   "source": [
    "Untrained CNN gets sub-random (< 10%) accuracy. No surprise, it only ever guesses '5', and sometimes '4':"
   ]
  },
  {
   "cell_type": "code",
   "execution_count": 242,
   "metadata": {
    "hidden": true
   },
   "outputs": [
    {
     "data": {
      "text/plain": [
       "({4, 5}, array([5, 5, 5, ..., 5, 5, 5]))"
      ]
     },
     "execution_count": 242,
     "metadata": {},
     "output_type": "execute_result"
    }
   ],
   "source": [
    "set(np.argmax(log_preds, axis=1)), np.argmax(log_preds, axis=1)"
   ]
  },
  {
   "cell_type": "markdown",
   "metadata": {},
   "source": [
    "#### 5.0.3 `resnet_learner`"
   ]
  },
  {
   "cell_type": "code",
   "execution_count": 192,
   "metadata": {},
   "outputs": [
    {
     "data": {
      "text/plain": [
       "0.9863"
      ]
     },
     "execution_count": 192,
     "metadata": {},
     "output_type": "execute_result"
    }
   ],
   "source": [
    "log_preds = resnet_learner.predict(is_test=True)\n",
    "np.equal(model_data.test_dl.dataset.y, np.argmax(log_preds, axis=1)).sum() / model_data.test_ds.n"
   ]
  },
  {
   "cell_type": "markdown",
   "metadata": {},
   "source": [
    "#### 5.0.4 `pt_res_learner`"
   ]
  },
  {
   "cell_type": "code",
   "execution_count": 193,
   "metadata": {},
   "outputs": [
    {
     "data": {
      "text/plain": [
       "0.8923"
      ]
     },
     "execution_count": 193,
     "metadata": {},
     "output_type": "execute_result"
    }
   ],
   "source": [
    "log_preds = pt_res_learner.predict(is_test=True)\n",
    "np.equal(model_data.test_dl.dataset.y, np.argmax(log_preds, axis=1)).sum() / model_data.test_ds.n"
   ]
  },
  {
   "cell_type": "markdown",
   "metadata": {},
   "source": [
    "## Further Training & Testing"
   ]
  },
  {
   "cell_type": "markdown",
   "metadata": {},
   "source": [
    "Seeing how far I can go (simply) before overfitting"
   ]
  },
  {
   "cell_type": "code",
   "execution_count": 273,
   "metadata": {},
   "outputs": [
    {
     "data": {
      "application/vnd.jupyter.widget-view+json": {
       "model_id": "0f4832822b874563bd6aa4e31f06b1f0",
       "version_major": 2,
       "version_minor": 0
      },
      "text/plain": [
       "HBox(children=(IntProgress(value=0, description='Epoch', max=2), HTML(value='')))"
      ]
     },
     "metadata": {},
     "output_type": "display_data"
    },
    {
     "name": "stdout",
     "output_type": "stream",
     "text": [
      "epoch      trn_loss   val_loss   accuracy                     \n",
      "    0      0.067517   0.049205   0.986222  \n",
      "    1      0.050665   0.043011   0.987444                     \n",
      "CPU times: user 41.1 s, sys: 15.1 s, total: 56.1 s\n",
      "Wall time: 45.4 s\n"
     ]
    },
    {
     "data": {
      "text/plain": [
       "[array([0.04301]), 0.9874444445504083]"
      ]
     },
     "execution_count": 273,
     "metadata": {},
     "output_type": "execute_result"
    }
   ],
   "source": [
    "# prev trn/val loss & valacc: 0.088194   0.068054   0.980333  \n",
    "%time custom_learner.fit(lrs, n_cycle=2, cycle_len=1, cycle_mult=1)"
   ]
  },
  {
   "cell_type": "markdown",
   "metadata": {},
   "source": [
    "#### *Aside*: Validation Loss Callback"
   ]
  },
  {
   "cell_type": "markdown",
   "metadata": {},
   "source": [
    "**Note**: [fastai callbacks tutorial](https://github.com/WNoxchi/Kaukasos/blob/master/using-the-callback-system-in-fastai.ipynb).\n",
    "\n",
    "I noticed only the last training session's losses are saved in `learn.sched.losses` and `learn.sched.val_losses` only holds the validation losses at the end of each epoch for the last training session. So I'll put together a callback to save validation losses and use that from here forward.\n",
    "\n",
    "It would be very easy to have this automatically save the model at the best validation loss:\n",
    "```\n",
    "def on_epoch_end(self, metrics):\n",
    "    ...\n",
    "    val_loss = metrics[0]\n",
    "    if val_loss < self.best_val_loss:\n",
    "        self.best_loss = val_loss\n",
    "        self.learner.save(...)\n",
    "    ...\n",
    "```"
   ]
  },
  {
   "cell_type": "code",
   "execution_count": 288,
   "metadata": {},
   "outputs": [],
   "source": [
    "class SaveValidationLoss(Callback):\n",
    "    def on_train_begin(self):\n",
    "        self.val_losses = []\n",
    "    def on_batch_end(self, metrics):\n",
    "        print(metrics)\n",
    "#         pdb.set_trace()\n",
    "#         self.val_losses.append(metrics[0])\n",
    "    def on_epoch_end(self, metrics):\n",
    "        pdb.set_trace()\n",
    "        self.val_losses.append(metrics[0])\n",
    "    def plot(self):\n",
    "        plt.plot(list(range(len(self.val_losses))), self.val_losses)"
   ]
  },
  {
   "cell_type": "code",
   "execution_count": 289,
   "metadata": {},
   "outputs": [],
   "source": [
    "save_val = SaveValidationLoss()"
   ]
  },
  {
   "cell_type": "code",
   "execution_count": 290,
   "metadata": {},
   "outputs": [],
   "source": [
    "# custom_learner.save('tempcnn')\n",
    "custom_learner.load('tempcnn')"
   ]
  },
  {
   "cell_type": "code",
   "execution_count": 291,
   "metadata": {
    "scrolled": false
   },
   "outputs": [
    {
     "data": {
      "application/vnd.jupyter.widget-view+json": {
       "model_id": "f51ca6895f6c4fedb72c7076f200159d",
       "version_major": 2,
       "version_minor": 0
      },
      "text/plain": [
       "HBox(children=(IntProgress(value=0, description='Epoch', max=4), HTML(value='')))"
      ]
     },
     "metadata": {},
     "output_type": "display_data"
    },
    {
     "name": "stdout",
     "output_type": "stream",
     "text": [
      "  0%|          | 0/797 [00:00<?, ?it/s, loss=0.0255]0.025495141744613647\n",
      "  0%|          | 1/797 [00:00<02:20,  5.66it/s, loss=0.0504]0.050424622616382496\n",
      "  0%|          | 1/797 [00:00<02:43,  4.88it/s, loss=0.0387]0.03868748187216067\n",
      "  0%|          | 1/797 [00:00<03:06,  4.27it/s, loss=0.0431]0.04306340767205375\n",
      "  0%|          | 1/797 [00:00<03:29,  3.81it/s, loss=0.0601]0.060122291251162446\n",
      "  1%|          | 5/797 [00:00<00:46, 17.11it/s, loss=0.0556]0.055577646002337874\n",
      "  1%|          | 5/797 [00:00<00:50, 15.58it/s, loss=0.0726]0.07264379670625486\n",
      "  1%|          | 5/797 [00:00<00:55, 14.28it/s, loss=0.0725]0.07245841972359143\n",
      "  1%|          | 5/797 [00:00<00:59, 13.21it/s, loss=0.0713]0.07125278683668045\n",
      "  1%|          | 9/797 [00:00<00:35, 22.05it/s, loss=0.0655]0.0654600846233789\n",
      "  1%|          | 9/797 [00:00<00:38, 20.69it/s, loss=0.0747]0.07474335648370986\n",
      "  1%|          | 9/797 [00:00<00:40, 19.53it/s, loss=0.0797]0.07971918638695787\n",
      "  1%|          | 9/797 [00:00<00:42, 18.50it/s, loss=0.0737]0.07369732598372422\n",
      "  2%|▏         | 13/797 [00:00<00:30, 25.35it/s, loss=0.0686]0.06860506100523578\n",
      "  2%|▏         | 13/797 [00:00<00:32, 24.13it/s, loss=0.0702]0.07015624734260936\n",
      "  2%|▏         | 13/797 [00:00<00:34, 23.01it/s, loss=0.0761]0.07613675360885212\n",
      "  2%|▏         | 13/797 [00:00<00:35, 22.00it/s, loss=0.0728]0.0727628834336517\n",
      "  2%|▏         | 17/797 [00:00<00:28, 27.63it/s, loss=0.0687]0.06872292558465692\n",
      "  2%|▏         | 17/797 [00:00<00:29, 26.60it/s, loss=0.068] 0.06799065024581236\n",
      "  2%|▏         | 17/797 [00:00<00:30, 25.65it/s, loss=0.0657]0.06574998564724517\n",
      "  2%|▏         | 17/797 [00:00<00:34, 22.69it/s, loss=0.0658]0.06583293503336006\n",
      "  3%|▎         | 21/797 [00:00<00:30, 25.57it/s, loss=0.0655]0.06546473719974298\n",
      "  3%|▎         | 21/797 [00:00<00:31, 24.85it/s, loss=0.0662]0.06624144896734646\n",
      "  3%|▎         | 21/797 [00:00<00:32, 24.14it/s, loss=0.0653]0.06530661542018654\n",
      "  3%|▎         | 24/797 [00:00<00:28, 26.83it/s, loss=0.065] 0.06498355445789131\n",
      "  3%|▎         | 24/797 [00:00<00:29, 26.13it/s, loss=0.0644]0.06444774443252303\n",
      "  3%|▎         | 24/797 [00:00<00:30, 25.47it/s, loss=0.0635]0.0635090002517771\n",
      "  3%|▎         | 24/797 [00:00<00:31, 24.84it/s, loss=0.062] 0.061969574535282144\n",
      "  3%|▎         | 24/797 [00:00<00:31, 24.25it/s, loss=0.0595]0.05953027962028089\n",
      "  4%|▎         | 29/797 [00:01<00:26, 28.59it/s, loss=0.0595]0.05954887448767442\n",
      "  4%|▎         | 29/797 [00:01<00:27, 27.94it/s, loss=0.0592]0.05916899094099512\n",
      "  4%|▎         | 29/797 [00:01<00:28, 27.31it/s, loss=0.0573]0.05733703315160773\n",
      "  4%|▎         | 29/797 [00:01<00:28, 26.71it/s, loss=0.0568]0.056772518592660345\n",
      "  4%|▎         | 29/797 [00:01<00:29, 26.16it/s, loss=0.0578]0.057821472652135136\n",
      "  4%|▍         | 34/797 [00:01<00:25, 30.06it/s, loss=0.0564]0.05638734673278472\n",
      "  4%|▍         | 34/797 [00:01<00:25, 29.48it/s, loss=0.0562]0.05621916576783855\n",
      "  4%|▍         | 34/797 [00:01<00:26, 28.92it/s, loss=0.0547]0.05469811311111914\n",
      "  4%|▍         | 34/797 [00:01<00:26, 28.38it/s, loss=0.0536]0.05358728378218238\n",
      "  4%|▍         | 34/797 [00:01<00:27, 27.87it/s, loss=0.0524]0.05240603074612415\n",
      "  5%|▍         | 39/797 [00:01<00:24, 31.39it/s, loss=0.0519]0.05189593755567513\n",
      "  5%|▍         | 39/797 [00:01<00:24, 30.33it/s, loss=0.0523]0.052316725168858755\n",
      "  5%|▍         | 39/797 [00:01<00:26, 28.41it/s, loss=0.0524]0.052423794028505534\n",
      "  5%|▍         | 39/797 [00:01<00:27, 27.49it/s, loss=0.0535]0.0534643600138161\n",
      "  5%|▌         | 43/797 [00:01<00:25, 29.87it/s, loss=0.0523]0.05230427099887717\n",
      "  5%|▌         | 43/797 [00:01<00:25, 29.46it/s, loss=0.0525]0.052525960310538404\n",
      "  5%|▌         | 43/797 [00:01<00:25, 29.05it/s, loss=0.0527]0.05265729522159424\n",
      "  5%|▌         | 43/797 [00:01<00:26, 28.65it/s, loss=0.0545]0.05452367254709838\n",
      "  5%|▌         | 43/797 [00:01<00:26, 28.27it/s, loss=0.053] 0.053028978249498905\n",
      "  6%|▌         | 48/797 [00:01<00:24, 31.12it/s, loss=0.0521]0.05209058787320828\n",
      "  6%|▌         | 48/797 [00:01<00:24, 30.72it/s, loss=0.0526]0.052553842753148304\n",
      "  6%|▌         | 48/797 [00:01<00:24, 30.31it/s, loss=0.0522]0.05221025461175417\n",
      "  6%|▌         | 48/797 [00:01<00:25, 29.93it/s, loss=0.0511]0.051083606775088865\n",
      "  6%|▌         | 48/797 [00:01<00:25, 29.54it/s, loss=0.0506]0.05055640939653587\n",
      "  7%|▋         | 53/797 [00:01<00:23, 32.19it/s, loss=0.0507]0.050658638313224\n",
      "  7%|▋         | 53/797 [00:01<00:23, 31.79it/s, loss=0.0506]0.05061287269683382\n",
      "  7%|▋         | 53/797 [00:01<00:23, 31.39it/s, loss=0.0528]0.052752921246403656\n",
      "  7%|▋         | 53/797 [00:01<00:23, 31.01it/s, loss=0.0524]0.05242604678100572\n",
      "  7%|▋         | 53/797 [00:01<00:24, 30.63it/s, loss=0.0532]0.053245942414464766\n",
      "  7%|▋         | 58/797 [00:01<00:22, 33.11it/s, loss=0.0539]0.053935792433169996\n",
      "  7%|▋         | 58/797 [00:01<00:22, 32.73it/s, loss=0.0534]0.053419958250443995\n",
      "  7%|▋         | 58/797 [00:01<00:23, 31.65it/s, loss=0.0563]0.056275748635797096\n",
      "  7%|▋         | 58/797 [00:01<00:24, 30.20it/s, loss=0.0559]0.05594139274337902\n",
      "  7%|▋         | 58/797 [00:01<00:24, 29.66it/s, loss=0.0549]0.05487459878831601\n",
      "  8%|▊         | 63/797 [00:01<00:23, 31.87it/s, loss=0.0563]0.05627637125590591\n",
      "  8%|▊         | 63/797 [00:01<00:23, 31.55it/s, loss=0.0551]0.05510261680713505\n",
      "  8%|▊         | 63/797 [00:02<00:23, 31.22it/s, loss=0.0564]0.05636321247529201\n",
      "  8%|▊         | 63/797 [00:02<00:23, 30.89it/s, loss=0.0554]0.05544628251512652\n",
      "  8%|▊         | 63/797 [00:02<00:24, 30.58it/s, loss=0.0546]0.05455534802501805\n",
      "  9%|▊         | 68/797 [00:02<00:22, 32.67it/s, loss=0.0538]0.05376774531609394\n",
      "  9%|▊         | 68/797 [00:02<00:22, 32.35it/s, loss=0.0536]0.053638791277826996\n",
      "  9%|▊         | 68/797 [00:02<00:22, 32.03it/s, loss=0.053] 0.052967358776328674\n",
      "  9%|▊         | 68/797 [00:02<00:22, 31.72it/s, loss=0.0522]0.052226393077301696\n",
      "  9%|▊         | 68/797 [00:02<00:23, 31.41it/s, loss=0.0517]0.05174696457245576\n",
      "  9%|▉         | 73/797 [00:02<00:21, 33.39it/s, loss=0.0539]0.05388824517273569\n",
      "  9%|▉         | 73/797 [00:02<00:21, 33.07it/s, loss=0.057] 0.0570409384207392\n",
      "  9%|▉         | 73/797 [00:02<00:22, 32.76it/s, loss=0.0575]0.05745801787283794\n",
      "  9%|▉         | 73/797 [00:02<00:22, 32.45it/s, loss=0.0584]0.05844152916326373\n",
      "  9%|▉         | 73/797 [00:02<00:22, 32.15it/s, loss=0.0598]0.059815854300449105\n",
      " 10%|▉         | 78/797 [00:02<00:21, 34.03it/s, loss=0.0595]0.05953989061719913\n",
      " 10%|▉         | 78/797 [00:02<00:21, 33.72it/s, loss=0.0598]0.05984711296934889\n",
      " 10%|▉         | 78/797 [00:02<00:21, 32.79it/s, loss=0.0615]0.06149566500471457\n",
      " 10%|▉         | 78/797 [00:02<00:22, 32.40it/s, loss=0.0646]0.06459322653770024\n",
      " 10%|▉         | 78/797 [00:02<00:22, 31.42it/s, loss=0.0648]0.06483660310077373\n",
      " 10%|█         | 83/797 [00:02<00:21, 33.14it/s, loss=0.0644]0.06442748290550976\n",
      " 10%|█         | 83/797 [00:02<00:21, 32.87it/s, loss=0.0633]0.06326913932188864\n",
      " 10%|█         | 83/797 [00:02<00:21, 32.60it/s, loss=0.0629]0.06288322393079246\n",
      " 10%|█         | 83/797 [00:02<00:22, 32.33it/s, loss=0.0619]0.061875393349185744\n",
      " 10%|█         | 83/797 [00:02<00:22, 32.06it/s, loss=0.0622]0.06215470209336003\n",
      " 11%|█         | 88/797 [00:02<00:21, 33.70it/s, loss=0.0651]0.06507376319542497\n",
      " 11%|█         | 88/797 [00:02<00:21, 33.44it/s, loss=0.0659]0.06591527537813362\n",
      " 11%|█         | 88/797 [00:02<00:21, 33.18it/s, loss=0.0659]0.06587346467577489\n",
      " 11%|█         | 88/797 [00:02<00:21, 32.92it/s, loss=0.0658]0.06580914633899997\n",
      " 11%|█         | 88/797 [00:02<00:21, 32.66it/s, loss=0.0654]0.0653646462252638\n",
      " 12%|█▏        | 93/797 [00:02<00:20, 34.23it/s, loss=0.0666]0.06662897311406497\n",
      " 12%|█▏        | 93/797 [00:02<00:20, 33.97it/s, loss=0.0666]0.06663239166265829\n",
      " 12%|█▏        | 93/797 [00:02<00:20, 33.70it/s, loss=0.0668]0.0667969225236392\n",
      " 12%|█▏        | 93/797 [00:02<00:21, 33.44it/s, loss=0.0661]0.06610670107473147\n",
      " 12%|█▏        | 93/797 [00:02<00:21, 33.19it/s, loss=0.0658]0.06584432414580853\n",
      " 12%|█▏        | 98/797 [00:02<00:20, 34.69it/s, loss=0.0656]0.06558638323112057\n",
      " 12%|█▏        | 98/797 [00:02<00:20, 34.44it/s, loss=0.0651]0.06509599472564108\n",
      " 12%|█▏        | 98/797 [00:02<00:20, 33.89it/s, loss=0.0643]0.06430741332909727\n"
     ]
    },
    {
     "name": "stdout",
     "output_type": "stream",
     "text": [
      " 12%|█▏        | 98/797 [00:02<00:20, 33.54it/s, loss=0.0633]0.06331954155075763\n",
      " 12%|█▏        | 98/797 [00:03<00:21, 32.47it/s, loss=0.0624]0.06240150180052603\n",
      " 13%|█▎        | 103/797 [00:03<00:20, 33.88it/s, loss=0.0617]0.061706967129034715\n",
      " 13%|█▎        | 103/797 [00:03<00:20, 33.64it/s, loss=0.0607]0.0607244040883885\n",
      " 13%|█▎        | 103/797 [00:03<00:20, 33.41it/s, loss=0.061] 0.060985588675756576\n",
      " 13%|█▎        | 103/797 [00:03<00:20, 33.18it/s, loss=0.0603]0.060275423793743434\n",
      " 13%|█▎        | 103/797 [00:03<00:21, 32.96it/s, loss=0.0601]0.060145618981634584\n",
      " 14%|█▎        | 108/797 [00:03<00:20, 34.32it/s, loss=0.0599]0.05985279854019292\n",
      " 14%|█▎        | 108/797 [00:03<00:20, 34.10it/s, loss=0.0591]0.05912457935462375\n",
      " 14%|█▎        | 108/797 [00:03<00:20, 33.87it/s, loss=0.0591]0.05909808563007341\n",
      " 14%|█▎        | 108/797 [00:03<00:20, 33.65it/s, loss=0.0594]0.059382100318559734\n",
      " 14%|█▎        | 108/797 [00:03<00:20, 33.43it/s, loss=0.0592]0.059226997403706724\n",
      " 14%|█▍        | 113/797 [00:03<00:19, 34.74it/s, loss=0.0587]0.058700478600576714\n",
      " 14%|█▍        | 113/797 [00:03<00:19, 34.52it/s, loss=0.0577]0.057685301736904\n",
      " 14%|█▍        | 113/797 [00:03<00:19, 34.30it/s, loss=0.0569]0.0568762497190501\n",
      " 14%|█▍        | 113/797 [00:03<00:20, 34.08it/s, loss=0.0574]0.057440079332502295\n",
      " 14%|█▍        | 113/797 [00:03<00:20, 33.87it/s, loss=0.0581]0.05811344082192292\n",
      " 15%|█▍        | 118/797 [00:03<00:19, 35.14it/s, loss=0.0577]0.05772355340063109\n",
      " 15%|█▍        | 118/797 [00:03<00:19, 34.92it/s, loss=0.0588]0.05878476579718708\n",
      " 15%|█▍        | 118/797 [00:03<00:19, 34.41it/s, loss=0.0582]0.058195846232784725\n",
      " 15%|█▍        | 118/797 [00:03<00:19, 34.14it/s, loss=0.0578]0.057791777239383384\n",
      " 15%|█▍        | 118/797 [00:03<00:20, 33.77it/s, loss=0.058] 0.05802993081392004\n",
      " 15%|█▌        | 123/797 [00:03<00:19, 34.90it/s, loss=0.0586]0.058617066862376395\n",
      " 15%|█▌        | 123/797 [00:03<00:19, 34.38it/s, loss=0.0579]0.057906499414038776\n",
      " 15%|█▌        | 123/797 [00:03<00:19, 34.17it/s, loss=0.0586]0.05855045763052747\n",
      " 15%|█▌        | 123/797 [00:03<00:19, 33.97it/s, loss=0.0604]0.06038780614270188\n",
      " 15%|█▌        | 123/797 [00:03<00:19, 33.77it/s, loss=0.0596]0.05959729882769048\n",
      " 16%|█▌        | 128/797 [00:03<00:19, 34.93it/s, loss=0.0609]0.06093780132981869\n",
      " 16%|█▌        | 128/797 [00:03<00:19, 34.74it/s, loss=0.061] 0.060988622215085185\n",
      " 16%|█▌        | 128/797 [00:03<00:19, 34.53it/s, loss=0.0638]0.0638384721051807\n",
      " 16%|█▌        | 128/797 [00:03<00:19, 34.33it/s, loss=0.063] 0.06296930404346368\n",
      " 16%|█▌        | 128/797 [00:03<00:19, 34.14it/s, loss=0.0623]0.06228783755765086\n",
      " 17%|█▋        | 133/797 [00:03<00:18, 35.26it/s, loss=0.0627]0.06267340288562416\n",
      " 17%|█▋        | 133/797 [00:03<00:18, 35.07it/s, loss=0.0629]0.06292555738248352\n",
      " 17%|█▋        | 133/797 [00:03<00:19, 34.87it/s, loss=0.0622]0.06223223566049228\n",
      " 17%|█▋        | 133/797 [00:03<00:19, 34.68it/s, loss=0.0621]0.06209164728846505\n",
      " 17%|█▋        | 133/797 [00:03<00:19, 34.49it/s, loss=0.0632]0.06324846400814432\n",
      " 17%|█▋        | 138/797 [00:03<00:18, 35.59it/s, loss=0.0643]0.06426510907961083\n",
      " 17%|█▋        | 138/797 [00:03<00:18, 35.40it/s, loss=0.0652]0.06519324531293978\n",
      " 17%|█▋        | 138/797 [00:03<00:18, 34.97it/s, loss=0.0643]0.06432678322092959\n",
      " 17%|█▋        | 138/797 [00:03<00:19, 34.66it/s, loss=0.0638]0.06378264367953781\n",
      " 17%|█▋        | 138/797 [00:04<00:19, 34.13it/s, loss=0.0636]0.06359474009321937\n",
      " 18%|█▊        | 143/797 [00:04<00:18, 34.96it/s, loss=0.0637]0.06369234411653613\n",
      " 18%|█▊        | 143/797 [00:04<00:18, 34.79it/s, loss=0.0627]0.0626698565293176\n",
      " 18%|█▊        | 143/797 [00:04<00:18, 34.61it/s, loss=0.0621]0.062146069187436016\n",
      " 18%|█▊        | 143/797 [00:04<00:18, 34.43it/s, loss=0.0628]0.0628160186526293\n",
      " 18%|█▊        | 147/797 [00:04<00:18, 35.22it/s, loss=0.062] 0.062039239314843155\n",
      " 18%|█▊        | 147/797 [00:04<00:18, 35.04it/s, loss=0.0621]0.06214862418046805\n",
      " 18%|█▊        | 147/797 [00:04<00:18, 34.87it/s, loss=0.0615]0.06146720506411672\n",
      " 18%|█▊        | 147/797 [00:04<00:18, 34.70it/s, loss=0.0604]0.06042155305492253\n",
      " 18%|█▊        | 147/797 [00:04<00:18, 34.52it/s, loss=0.0596]0.059620789888922214\n",
      " 19%|█▉        | 152/797 [00:04<00:18, 35.52it/s, loss=0.0601]0.060143248043902996\n",
      " 19%|█▉        | 152/797 [00:04<00:18, 35.34it/s, loss=0.0594]0.05937783878016235\n",
      " 19%|█▉        | 152/797 [00:04<00:18, 35.17it/s, loss=0.0592]0.059239369311851746\n",
      " 19%|█▉        | 152/797 [00:04<00:18, 35.00it/s, loss=0.0584]0.05841518072128104\n",
      " 19%|█▉        | 152/797 [00:04<00:18, 34.83it/s, loss=0.0593]0.059264839328606905\n",
      " 20%|█▉        | 157/797 [00:04<00:17, 35.80it/s, loss=0.0603]0.06031733798899968\n",
      " 20%|█▉        | 157/797 [00:04<00:17, 35.63it/s, loss=0.0618]0.06179019329230765\n",
      " 20%|█▉        | 157/797 [00:04<00:18, 35.46it/s, loss=0.0629]0.06294219965364527\n",
      " 20%|█▉        | 157/797 [00:04<00:18, 35.07it/s, loss=0.0621]0.06207044916602278\n",
      " 20%|█▉        | 157/797 [00:04<00:18, 34.61it/s, loss=0.0613]0.061271195289354936\n",
      " 20%|██        | 162/797 [00:04<00:18, 35.20it/s, loss=0.0645]0.06454079246185691\n",
      " 20%|██        | 162/797 [00:04<00:18, 35.05it/s, loss=0.0662]0.06620858405962352\n",
      " 20%|██        | 162/797 [00:04<00:18, 34.89it/s, loss=0.0653]0.06530967217592837\n",
      " 20%|██        | 162/797 [00:04<00:18, 34.74it/s, loss=0.0642]0.06417909989716422\n",
      " 21%|██        | 166/797 [00:04<00:17, 35.43it/s, loss=0.0634]0.06340066096350404\n",
      " 21%|██        | 166/797 [00:04<00:17, 35.27it/s, loss=0.0638]0.06383365376114432\n",
      " 21%|██        | 166/797 [00:04<00:17, 35.12it/s, loss=0.0626]0.06264456181197232\n",
      " 21%|██        | 166/797 [00:04<00:18, 34.96it/s, loss=0.0617]0.061677045226643114\n",
      " 21%|██        | 166/797 [00:04<00:18, 34.81it/s, loss=0.0618]0.06180478011691848\n",
      " 21%|██▏       | 171/797 [00:04<00:17, 35.70it/s, loss=0.0611]0.0611344235954816\n",
      " 21%|██▏       | 171/797 [00:04<00:17, 35.54it/s, loss=0.0666]0.06659540075942347\n",
      " 21%|██▏       | 171/797 [00:04<00:17, 35.39it/s, loss=0.0656]0.06555328386501952\n",
      " 21%|██▏       | 171/797 [00:04<00:17, 35.23it/s, loss=0.0653]0.06533954048335053\n",
      " 21%|██▏       | 171/797 [00:04<00:17, 35.08it/s, loss=0.0654]0.0654264966251912\n",
      " 22%|██▏       | 176/797 [00:04<00:17, 35.95it/s, loss=0.066] 0.06595868307882266\n",
      " 22%|██▏       | 176/797 [00:04<00:17, 35.79it/s, loss=0.0681]0.06814912940714694\n",
      " 22%|██▏       | 176/797 [00:04<00:17, 35.64it/s, loss=0.0686]0.06860372935006805\n",
      " 22%|██▏       | 176/797 [00:04<00:17, 35.49it/s, loss=0.0683]0.06826406878543709\n",
      " 22%|██▏       | 176/797 [00:05<00:17, 35.05it/s, loss=0.0679]0.06790660825532721\n",
      " 23%|██▎       | 181/797 [00:05<00:17, 35.36it/s, loss=0.0693]0.06928127819732903\n",
      " 23%|██▎       | 181/797 [00:05<00:17, 35.18it/s, loss=0.0689]0.06892746073993666\n",
      " 23%|██▎       | 181/797 [00:05<00:17, 35.04it/s, loss=0.0681]0.06805959272866889\n",
      " 23%|██▎       | 181/797 [00:05<00:17, 34.90it/s, loss=0.069] 0.06904105435126202\n",
      " 23%|██▎       | 185/797 [00:05<00:17, 35.52it/s, loss=0.0695]0.06953134880978681\n",
      " 23%|██▎       | 185/797 [00:05<00:17, 35.38it/s, loss=0.0687]0.0687302325535762\n",
      " 23%|██▎       | 185/797 [00:05<00:17, 35.25it/s, loss=0.0679]0.06787094567813874\n",
      " 23%|██▎       | 185/797 [00:05<00:17, 35.11it/s, loss=0.0677]0.06767721688023702\n",
      " 23%|██▎       | 185/797 [00:05<00:17, 34.97it/s, loss=0.0668]0.06682328535707939\n",
      " 24%|██▍       | 190/797 [00:05<00:16, 35.77it/s, loss=0.0673]0.06728467671651833\n",
      " 24%|██▍       | 190/797 [00:05<00:17, 35.63it/s, loss=0.0665]0.06647914102293512\n",
      " 24%|██▍       | 190/797 [00:05<00:17, 35.49it/s, loss=0.0659]0.06593007655008819\n",
      " 24%|██▍       | 190/797 [00:05<00:17, 35.35it/s, loss=0.0659]0.06586096685074064\n",
      " 24%|██▍       | 190/797 [00:05<00:17, 35.21it/s, loss=0.0654]0.06535318418883986\n",
      " 24%|██▍       | 195/797 [00:05<00:16, 35.99it/s, loss=0.0675]0.06749425180040852\n",
      " 24%|██▍       | 195/797 [00:05<00:16, 35.85it/s, loss=0.0686]0.06863267844755527\n",
      " 24%|██▍       | 195/797 [00:05<00:16, 35.71it/s, loss=0.0678]0.06783130610032785\n",
      " 24%|██▍       | 195/797 [00:05<00:16, 35.58it/s, loss=0.0688]0.06882420844958187\n",
      " 24%|██▍       | 195/797 [00:05<00:16, 35.44it/s, loss=0.0689]0.06893370669201689\n",
      " 25%|██▌       | 200/797 [00:05<00:16, 35.98it/s, loss=0.0683]0.06834657773108777\n"
     ]
    },
    {
     "name": "stdout",
     "output_type": "stream",
     "text": [
      " 25%|██▌       | 200/797 [00:05<00:16, 35.72it/s, loss=0.068] 0.06796274234222793\n",
      " 25%|██▌       | 200/797 [00:05<00:16, 35.38it/s, loss=0.0701]0.07005965312190977\n",
      " 25%|██▌       | 200/797 [00:05<00:16, 35.13it/s, loss=0.0695]0.06947172120528926\n",
      " 25%|██▌       | 200/797 [00:05<00:17, 35.00it/s, loss=0.0693]0.0692863565396745\n",
      " 26%|██▌       | 205/797 [00:05<00:16, 35.74it/s, loss=0.0712]0.07120370415023387\n",
      " 26%|██▌       | 205/797 [00:05<00:16, 35.61it/s, loss=0.071] 0.07102592879217544\n",
      " 26%|██▌       | 205/797 [00:05<00:16, 35.48it/s, loss=0.0703]0.07033015562807556\n",
      " 26%|██▌       | 205/797 [00:05<00:16, 35.36it/s, loss=0.0737]0.07366223090174791\n",
      " 26%|██▌       | 205/797 [00:05<00:16, 35.23it/s, loss=0.0724]0.07240945684097629\n",
      " 26%|██▋       | 210/797 [00:05<00:16, 35.96it/s, loss=0.0721]0.07205726480172332\n",
      " 26%|██▋       | 210/797 [00:05<00:16, 35.83it/s, loss=0.0726]0.07260982355101978\n",
      " 26%|██▋       | 210/797 [00:05<00:16, 35.71it/s, loss=0.0729]0.07293934266326768\n",
      " 26%|██▋       | 210/797 [00:05<00:16, 35.58it/s, loss=0.0733]0.07329974588145377\n",
      " 26%|██▋       | 210/797 [00:05<00:16, 35.46it/s, loss=0.0737]0.073736892514432\n",
      " 27%|██▋       | 215/797 [00:05<00:16, 36.17it/s, loss=0.0732]0.07320010226759684\n",
      " 27%|██▋       | 215/797 [00:05<00:16, 36.05it/s, loss=0.0725]0.0725043339169911\n",
      " 27%|██▋       | 215/797 [00:05<00:16, 35.92it/s, loss=0.0716]0.07159707083609132\n",
      " 27%|██▋       | 215/797 [00:06<00:16, 35.80it/s, loss=0.071] 0.07101079983273374\n",
      " 27%|██▋       | 215/797 [00:06<00:16, 35.67it/s, loss=0.0712]0.07121164408444783\n",
      " 28%|██▊       | 220/797 [00:06<00:15, 36.17it/s, loss=0.0709]0.07094373090045454\n",
      " 28%|██▊       | 220/797 [00:06<00:16, 35.83it/s, loss=0.0712]0.07119825758274169\n",
      " 28%|██▊       | 220/797 [00:06<00:16, 35.44it/s, loss=0.0704]0.07039425241703831\n",
      " 28%|██▊       | 220/797 [00:06<00:16, 35.31it/s, loss=0.0725]0.07248359472004512\n",
      " 28%|██▊       | 220/797 [00:06<00:16, 35.20it/s, loss=0.0738]0.07380192305014002\n",
      " 28%|██▊       | 225/797 [00:06<00:15, 35.87it/s, loss=0.0729]0.07287471736699434\n",
      " 28%|██▊       | 225/797 [00:06<00:15, 35.76it/s, loss=0.0723]0.07234140478047621\n",
      " 28%|██▊       | 225/797 [00:06<00:16, 35.64it/s, loss=0.0721]0.07208588410190073\n",
      " 28%|██▊       | 225/797 [00:06<00:16, 35.52it/s, loss=0.0712]0.07117072773755169\n",
      " 28%|██▊       | 225/797 [00:06<00:16, 35.40it/s, loss=0.0699]0.06988760576774049\n",
      " 29%|██▉       | 230/797 [00:06<00:15, 36.07it/s, loss=0.0697]0.06965025664572819\n",
      " 29%|██▉       | 230/797 [00:06<00:15, 35.95it/s, loss=0.0687]0.068712453014816\n",
      " 29%|██▉       | 230/797 [00:06<00:15, 35.84it/s, loss=0.0679]0.06787912178557179\n",
      " 29%|██▉       | 230/797 [00:06<00:15, 35.72it/s, loss=0.0683]0.06829105325834355\n",
      " 29%|██▉       | 230/797 [00:06<00:15, 35.60it/s, loss=0.0689]0.06886895676560965\n",
      " 29%|██▉       | 235/797 [00:06<00:15, 36.26it/s, loss=0.0683]0.06827382966292382\n",
      " 29%|██▉       | 235/797 [00:06<00:15, 36.14it/s, loss=0.068] 0.068002001612218\n",
      " 29%|██▉       | 235/797 [00:06<00:15, 36.02it/s, loss=0.0671]0.06711894254150848\n",
      " 29%|██▉       | 235/797 [00:06<00:15, 35.91it/s, loss=0.0666]0.06657308821168535\n",
      " 29%|██▉       | 235/797 [00:06<00:15, 35.79it/s, loss=0.0656]0.06559024495746793\n",
      " 30%|███       | 240/797 [00:06<00:15, 36.27it/s, loss=0.066] 0.06598768411007314\n",
      " 30%|███       | 240/797 [00:06<00:15, 36.08it/s, loss=0.0663]0.06632637794246855\n",
      " 30%|███       | 240/797 [00:06<00:15, 35.63it/s, loss=0.066] 0.06601000014459255\n",
      " 30%|███       | 240/797 [00:06<00:15, 35.52it/s, loss=0.0651]0.06511097732731924\n",
      " 30%|███       | 240/797 [00:06<00:15, 35.40it/s, loss=0.0652]0.06522422926779749\n",
      " 31%|███       | 245/797 [00:06<00:15, 36.03it/s, loss=0.0648]0.06482653248971791\n",
      " 31%|███       | 245/797 [00:06<00:15, 35.92it/s, loss=0.0649]0.06492849601835848\n",
      " 31%|███       | 245/797 [00:06<00:15, 35.80it/s, loss=0.0639]0.0638870782381578\n",
      " 31%|███       | 245/797 [00:06<00:15, 35.69it/s, loss=0.064] 0.06396479137613972\n",
      " 31%|███       | 245/797 [00:06<00:15, 35.58it/s, loss=0.0629]0.06288560144765842\n",
      " 31%|███▏      | 250/797 [00:06<00:15, 36.19it/s, loss=0.0619]0.06194770116783754\n",
      " 31%|███▏      | 250/797 [00:06<00:15, 36.09it/s, loss=0.0613]0.061257572820073734\n",
      " 31%|███▏      | 250/797 [00:06<00:15, 35.97it/s, loss=0.0606]0.060637533008887384\n",
      " 31%|███▏      | 250/797 [00:06<00:15, 35.86it/s, loss=0.0609]0.060926762308236106\n",
      " 31%|███▏      | 250/797 [00:06<00:15, 35.75it/s, loss=0.061] 0.06101163994445353\n",
      " 32%|███▏      | 255/797 [00:07<00:14, 36.35it/s, loss=0.0601]0.060050499638796405\n",
      " 32%|███▏      | 255/797 [00:07<00:14, 36.24it/s, loss=0.0634]0.06336130257322044\n",
      " 32%|███▏      | 255/797 [00:07<00:14, 36.13it/s, loss=0.0626]0.06259559075540685\n",
      " 32%|███▏      | 255/797 [00:07<00:15, 36.03it/s, loss=0.0623]0.0623381689881315\n",
      " 32%|███▏      | 255/797 [00:07<00:15, 35.92it/s, loss=0.0616]0.06158757101687718\n",
      " 33%|███▎      | 260/797 [00:07<00:14, 36.40it/s, loss=0.0612]0.06118293885306241\n",
      " 33%|███▎      | 260/797 [00:07<00:14, 36.23it/s, loss=0.0615]0.06150781559822076\n",
      " 33%|███▎      | 260/797 [00:07<00:14, 35.90it/s, loss=0.0605]0.06045374131976387\n",
      " 33%|███▎      | 260/797 [00:07<00:15, 35.67it/s, loss=0.0611]0.061125679668527756\n",
      " 33%|███▎      | 260/797 [00:07<00:15, 35.57it/s, loss=0.0629]0.06287380765693884\n",
      " 33%|███▎      | 265/797 [00:07<00:14, 36.14it/s, loss=0.0624]0.062395729204682476\n",
      " 33%|███▎      | 265/797 [00:07<00:14, 36.04it/s, loss=0.0627]0.06273312409732595\n",
      " 33%|███▎      | 265/797 [00:07<00:14, 35.94it/s, loss=0.0636]0.06361653933524872\n",
      " 33%|███▎      | 265/797 [00:07<00:14, 35.84it/s, loss=0.0634]0.06342071147582937\n",
      " 33%|███▎      | 265/797 [00:07<00:14, 35.74it/s, loss=0.0632]0.0631656583895072\n",
      " 34%|███▍      | 270/797 [00:07<00:14, 36.31it/s, loss=0.0638]0.06381944170283707\n",
      " 34%|███▍      | 270/797 [00:07<00:14, 36.21it/s, loss=0.0629]0.06294335803692418\n",
      " 34%|███▍      | 270/797 [00:07<00:14, 36.11it/s, loss=0.0621]0.06207773204974256\n",
      " 34%|███▍      | 270/797 [00:07<00:14, 36.01it/s, loss=0.0611]0.061064870202072394\n",
      " 34%|███▍      | 270/797 [00:07<00:14, 35.91it/s, loss=0.0612]0.06122144792431983\n",
      " 35%|███▍      | 275/797 [00:07<00:14, 36.47it/s, loss=0.0624]0.06241457432172082\n",
      " 35%|███▍      | 275/797 [00:07<00:14, 36.37it/s, loss=0.0627]0.06269670082037168\n",
      " 35%|███▍      | 275/797 [00:07<00:14, 36.27it/s, loss=0.0616]0.06163878766097815\n",
      " 35%|███▍      | 275/797 [00:07<00:14, 36.17it/s, loss=0.0613]0.061303047410838536\n",
      " 35%|███▍      | 275/797 [00:07<00:14, 36.07it/s, loss=0.0621]0.06212113870944572\n",
      " 35%|███▌      | 280/797 [00:07<00:14, 36.26it/s, loss=0.0625]0.062458070478920304\n",
      " 35%|███▌      | 280/797 [00:07<00:14, 35.97it/s, loss=0.0627]0.06267228695704025\n",
      " 35%|███▌      | 280/797 [00:07<00:14, 35.87it/s, loss=0.0626]0.06256223733401087\n",
      " 35%|███▌      | 280/797 [00:07<00:14, 35.78it/s, loss=0.0634]0.06335174255457993\n",
      " 35%|███▌      | 280/797 [00:07<00:14, 35.68it/s, loss=0.0631]0.06310227698384366\n",
      " 36%|███▌      | 285/797 [00:07<00:14, 36.22it/s, loss=0.0621]0.06213909683704554\n",
      " 36%|███▌      | 285/797 [00:07<00:14, 36.13it/s, loss=0.0633]0.06325408573177645\n",
      " 36%|███▌      | 285/797 [00:07<00:14, 36.04it/s, loss=0.0644]0.06435479005709713\n",
      " 36%|███▌      | 285/797 [00:07<00:14, 35.94it/s, loss=0.0638]0.06380897675054277\n",
      " 36%|███▌      | 285/797 [00:07<00:14, 35.85it/s, loss=0.063] 0.06295747737221448\n",
      " 36%|███▋      | 290/797 [00:07<00:13, 36.38it/s, loss=0.0635]0.06345771757537262\n",
      " 36%|███▋      | 290/797 [00:07<00:13, 36.29it/s, loss=0.0634]0.0634366188913726\n",
      " 36%|███▋      | 290/797 [00:08<00:14, 36.19it/s, loss=0.0628]0.06284448016598017\n",
      " 36%|███▋      | 290/797 [00:08<00:14, 36.10it/s, loss=0.0633]0.06327627299181587\n",
      " 36%|███▋      | 290/797 [00:08<00:14, 36.01it/s, loss=0.0622]0.062161099437675026\n",
      " 37%|███▋      | 295/797 [00:08<00:13, 36.53it/s, loss=0.0632]0.06315833494311202\n",
      " 37%|███▋      | 295/797 [00:08<00:13, 36.43it/s, loss=0.0631]0.06309578575583277\n",
      " 37%|███▋      | 295/797 [00:08<00:13, 36.34it/s, loss=0.0621]0.062139362865146895\n",
      " 37%|███▋      | 295/797 [00:08<00:13, 36.25it/s, loss=0.062] 0.06204724142421232\n",
      " 37%|███▋      | 295/797 [00:08<00:13, 36.16it/s, loss=0.0616]0.06163658854887346\n"
     ]
    },
    {
     "name": "stdout",
     "output_type": "stream",
     "text": [
      " 38%|███▊      | 300/797 [00:08<00:13, 36.30it/s, loss=0.061] 0.0609977261325936\n",
      " 38%|███▊      | 300/797 [00:08<00:13, 36.02it/s, loss=0.0602]0.060217007880860624\n",
      " 38%|███▊      | 300/797 [00:08<00:13, 35.93it/s, loss=0.0597]0.059745453149319984\n",
      " 38%|███▊      | 300/797 [00:08<00:13, 35.84it/s, loss=0.0598]0.05980281116908782\n",
      " 38%|███▊      | 300/797 [00:08<00:13, 35.75it/s, loss=0.0592]0.05918216355503344\n",
      " 38%|███▊      | 305/797 [00:08<00:13, 36.26it/s, loss=0.0583]0.05831167273963325\n",
      " 38%|███▊      | 305/797 [00:08<00:13, 36.17it/s, loss=0.0578]0.0577625310529873\n",
      " 38%|███▊      | 305/797 [00:08<00:13, 36.08it/s, loss=0.0595]0.05951398533076919\n",
      " 38%|███▊      | 305/797 [00:08<00:13, 35.99it/s, loss=0.0585]0.05854121587380143\n",
      " 38%|███▊      | 305/797 [00:08<00:13, 35.90it/s, loss=0.0578]0.05783070522208261\n",
      " 39%|███▉      | 310/797 [00:08<00:13, 36.40it/s, loss=0.0572]0.05720046727599205\n",
      " 39%|███▉      | 310/797 [00:08<00:13, 36.32it/s, loss=0.0577]0.05765885601788354\n",
      " 39%|███▉      | 310/797 [00:08<00:13, 36.23it/s, loss=0.0585]0.05849252842213519\n",
      " 39%|███▉      | 310/797 [00:08<00:13, 36.14it/s, loss=0.0602]0.060226389377231695\n",
      " 39%|███▉      | 310/797 [00:08<00:13, 36.05it/s, loss=0.0607]0.06074293539083039\n",
      " 40%|███▉      | 315/797 [00:08<00:13, 36.54it/s, loss=0.0597]0.05972964031458973\n",
      " 40%|███▉      | 315/797 [00:08<00:13, 36.46it/s, loss=0.0593]0.05925807332570838\n",
      " 40%|███▉      | 315/797 [00:08<00:13, 36.37it/s, loss=0.059] 0.0590130380027883\n",
      " 40%|███▉      | 315/797 [00:08<00:13, 36.28it/s, loss=0.0615]0.061509633751896664\n",
      " 40%|███▉      | 315/797 [00:08<00:13, 36.19it/s, loss=0.0607]0.06067710940334628\n",
      " 40%|████      | 320/797 [00:08<00:13, 36.51it/s, loss=0.0599]0.059852291406292904\n",
      " 40%|████      | 320/797 [00:08<00:13, 36.19it/s, loss=0.0596]0.059610242478376464\n",
      " 40%|████      | 320/797 [00:08<00:13, 36.03it/s, loss=0.061] 0.06101413255722865\n",
      " 40%|████      | 320/797 [00:08<00:13, 35.94it/s, loss=0.0606]0.06061095027570472\n",
      " 40%|████      | 320/797 [00:08<00:13, 35.86it/s, loss=0.0601]0.060109964232576384\n",
      " 41%|████      | 325/797 [00:08<00:12, 36.34it/s, loss=0.0598]0.05981821057435306\n",
      " 41%|████      | 325/797 [00:08<00:13, 36.25it/s, loss=0.0598]0.05983271794190636\n",
      " 41%|████      | 325/797 [00:08<00:13, 36.17it/s, loss=0.0613]0.0612505917915838\n",
      " 41%|████      | 325/797 [00:09<00:13, 36.09it/s, loss=0.061] 0.06097476511429439\n",
      " 41%|████      | 325/797 [00:09<00:13, 36.01it/s, loss=0.0603]0.060251134595848424\n",
      " 41%|████▏     | 330/797 [00:09<00:12, 36.47it/s, loss=0.0605]0.060457084580639815\n",
      " 41%|████▏     | 330/797 [00:09<00:12, 36.39it/s, loss=0.0599]0.059946870831555574\n",
      " 41%|████▏     | 330/797 [00:09<00:12, 36.30it/s, loss=0.0609]0.06092221389073424\n",
      " 41%|████▏     | 330/797 [00:09<00:12, 36.22it/s, loss=0.061] 0.060958701952264285\n",
      " 41%|████▏     | 330/797 [00:09<00:12, 36.14it/s, loss=0.0614]0.061400661996766935\n",
      " 42%|████▏     | 335/797 [00:09<00:12, 36.60it/s, loss=0.0613]0.06130566845535139\n",
      " 42%|████▏     | 335/797 [00:09<00:12, 36.51it/s, loss=0.0607]0.060669384548464836\n",
      " 42%|████▏     | 335/797 [00:09<00:12, 36.43it/s, loss=0.0602]0.060246327892104316\n",
      " 42%|████▏     | 335/797 [00:09<00:12, 36.35it/s, loss=0.061] 0.06097810518447057\n",
      " 42%|████▏     | 335/797 [00:09<00:12, 36.26it/s, loss=0.0611]0.06114930964628229\n",
      " 43%|████▎     | 340/797 [00:09<00:12, 36.59it/s, loss=0.0607]0.060715422113877496\n",
      " 43%|████▎     | 340/797 [00:09<00:12, 36.29it/s, loss=0.0619]0.06189955512201805\n",
      " 43%|████▎     | 340/797 [00:09<00:12, 36.19it/s, loss=0.0625]0.06250379154203886\n",
      " 43%|████▎     | 340/797 [00:09<00:12, 36.03it/s, loss=0.0634]0.06338521505803149\n",
      " 43%|████▎     | 340/797 [00:09<00:12, 35.96it/s, loss=0.0625]0.062462606560552116\n",
      " 43%|████▎     | 345/797 [00:09<00:12, 36.40it/s, loss=0.0636]0.0635725795606117\n",
      " 43%|████▎     | 345/797 [00:09<00:12, 36.32it/s, loss=0.064] 0.0639796183498852\n",
      " 43%|████▎     | 345/797 [00:09<00:12, 36.24it/s, loss=0.0654]0.0653696632685196\n",
      " 43%|████▎     | 345/797 [00:09<00:12, 36.16it/s, loss=0.0651]0.06511497647586217\n",
      " 43%|████▎     | 345/797 [00:09<00:12, 36.09it/s, loss=0.0664]0.06636185431277702\n",
      " 44%|████▍     | 350/797 [00:09<00:12, 36.53it/s, loss=0.0671]0.06708257429431762\n",
      " 44%|████▍     | 350/797 [00:09<00:12, 36.45it/s, loss=0.0671]0.06708004980948734\n",
      " 44%|████▍     | 350/797 [00:09<00:12, 36.37it/s, loss=0.0667]0.06673305771080543\n",
      " 44%|████▍     | 350/797 [00:09<00:12, 36.29it/s, loss=0.0673]0.06727601003820995\n",
      " 44%|████▍     | 350/797 [00:09<00:12, 36.21it/s, loss=0.0668]0.0668273451551488\n",
      " 45%|████▍     | 355/797 [00:09<00:12, 36.64it/s, loss=0.066] 0.06603922450051794\n",
      " 45%|████▍     | 355/797 [00:09<00:12, 36.56it/s, loss=0.0662]0.0661850233982582\n",
      " 45%|████▍     | 355/797 [00:09<00:12, 36.48it/s, loss=0.0653]0.06525306585777887\n",
      " 45%|████▍     | 355/797 [00:09<00:12, 36.40it/s, loss=0.0661]0.0660830932641103\n",
      " 45%|████▍     | 355/797 [00:09<00:12, 36.33it/s, loss=0.0651]0.06513952037450108\n",
      " 45%|████▌     | 360/797 [00:09<00:11, 36.65it/s, loss=0.064] 0.063968671055788\n",
      " 45%|████▌     | 360/797 [00:09<00:12, 36.39it/s, loss=0.0646]0.06456647262186148\n",
      " 45%|████▌     | 360/797 [00:09<00:12, 36.19it/s, loss=0.0641]0.06414553716476208\n",
      " 45%|████▌     | 360/797 [00:09<00:12, 36.12it/s, loss=0.0644]0.06439907415702867\n",
      " 45%|████▌     | 360/797 [00:09<00:12, 36.04it/s, loss=0.0636]0.06362999015386751\n",
      " 46%|████▌     | 365/797 [00:10<00:11, 36.46it/s, loss=0.0629]0.06290748370016305\n",
      " 46%|████▌     | 365/797 [00:10<00:11, 36.39it/s, loss=0.0631]0.06305160448359848\n",
      " 46%|████▌     | 365/797 [00:10<00:11, 36.31it/s, loss=0.0631]0.06310071834075061\n",
      " 46%|████▌     | 365/797 [00:10<00:11, 36.24it/s, loss=0.0621]0.06213374412563071\n",
      " 46%|████▌     | 365/797 [00:10<00:11, 36.16it/s, loss=0.0614]0.06138347658748844\n",
      " 46%|████▋     | 370/797 [00:10<00:11, 36.58it/s, loss=0.0603]0.06025282556649989\n",
      " 46%|████▋     | 370/797 [00:10<00:11, 36.51it/s, loss=0.0596]0.0595620753844699\n",
      " 46%|████▋     | 370/797 [00:10<00:11, 36.43it/s, loss=0.0585]0.05853584683453994\n",
      " 46%|████▋     | 370/797 [00:10<00:11, 36.36it/s, loss=0.0583]0.0583235722689264\n",
      " 46%|████▋     | 370/797 [00:10<00:11, 36.28it/s, loss=0.0581]0.058120884349048996\n",
      " 47%|████▋     | 375/797 [00:10<00:11, 36.70it/s, loss=0.0586]0.05859903756332521\n",
      " 47%|████▋     | 375/797 [00:10<00:11, 36.62it/s, loss=0.0593]0.059261350137531706\n",
      " 47%|████▋     | 375/797 [00:10<00:11, 36.55it/s, loss=0.0587]0.05870178210689993\n",
      " 47%|████▋     | 375/797 [00:10<00:11, 36.47it/s, loss=0.0588]0.058818254759067934\n",
      " 47%|████▋     | 375/797 [00:10<00:11, 36.40it/s, loss=0.0579]0.05792792334293109\n",
      " 48%|████▊     | 380/797 [00:10<00:11, 36.54it/s, loss=0.0573]0.05732493030799203\n",
      " 48%|████▊     | 380/797 [00:10<00:11, 36.32it/s, loss=0.0564]0.056439649242380104\n",
      " 48%|████▊     | 380/797 [00:10<00:11, 36.25it/s, loss=0.0568]0.05679183926562672\n",
      " 48%|████▊     | 380/797 [00:10<00:11, 36.18it/s, loss=0.0561]0.05605904257234599\n",
      " 48%|████▊     | 380/797 [00:10<00:11, 36.11it/s, loss=0.0552]0.05522402033900646\n",
      " 48%|████▊     | 385/797 [00:10<00:11, 36.51it/s, loss=0.0546]0.05458364241942768\n",
      " 48%|████▊     | 385/797 [00:10<00:11, 36.44it/s, loss=0.0541]0.05411110080974049\n",
      " 48%|████▊     | 385/797 [00:10<00:11, 36.37it/s, loss=0.0552]0.05519345682954965\n",
      " 48%|████▊     | 385/797 [00:10<00:11, 36.29it/s, loss=0.0542]0.05420408285428319\n",
      " 48%|████▊     | 385/797 [00:10<00:11, 36.22it/s, loss=0.0546]0.054612205700646226\n",
      " 49%|████▉     | 390/797 [00:10<00:11, 36.62it/s, loss=0.0544]0.05436304866870341\n",
      " 49%|████▉     | 390/797 [00:10<00:11, 36.55it/s, loss=0.055] 0.05504795272721687\n",
      " 49%|████▉     | 390/797 [00:10<00:11, 36.48it/s, loss=0.0543]0.05428784900154078\n",
      " 49%|████▉     | 390/797 [00:10<00:11, 36.41it/s, loss=0.0534]0.05337670498907668\n",
      " 49%|████▉     | 390/797 [00:10<00:11, 36.34it/s, loss=0.0555]0.05547524734836299\n",
      " 50%|████▉     | 395/797 [00:10<00:10, 36.73it/s, loss=0.0558]0.055796785499717116\n",
      " 50%|████▉     | 395/797 [00:10<00:10, 36.66it/s, loss=0.0548]0.05483862010232603\n",
      " 50%|████▉     | 395/797 [00:10<00:10, 36.59it/s, loss=0.054] 0.05397459719259037\n",
      " 50%|████▉     | 395/797 [00:10<00:11, 36.52it/s, loss=0.0538]0.053765804344099326\n",
      " 50%|████▉     | 395/797 [00:10<00:11, 36.45it/s, loss=0.0551]0.055103589175065776\n"
     ]
    },
    {
     "name": "stdout",
     "output_type": "stream",
     "text": [
      " 50%|█████     | 400/797 [00:10<00:10, 36.71it/s, loss=0.0553]0.05525573971530736\n",
      " 50%|█████     | 400/797 [00:10<00:10, 36.38it/s, loss=0.0557]0.05568263373335667\n",
      " 50%|█████     | 400/797 [00:11<00:10, 36.28it/s, loss=0.055] 0.05503054138515574\n",
      " 50%|█████     | 400/797 [00:11<00:10, 36.21it/s, loss=0.0546]0.0546436523245349\n",
      " 50%|█████     | 400/797 [00:11<00:10, 36.14it/s, loss=0.0548]0.05482680455524297\n",
      " 51%|█████     | 405/797 [00:11<00:10, 36.53it/s, loss=0.0544]0.0544284359112213\n",
      " 51%|█████     | 405/797 [00:11<00:10, 36.46it/s, loss=0.054] 0.05395974810035997\n",
      " 51%|█████     | 405/797 [00:11<00:10, 36.39it/s, loss=0.0535]0.053480342059561196\n",
      " 51%|█████     | 405/797 [00:11<00:10, 36.32it/s, loss=0.0528]0.05275340482799898\n",
      " 51%|█████     | 405/797 [00:11<00:10, 36.26it/s, loss=0.0525]0.05248750923095593\n",
      " 51%|█████▏    | 410/797 [00:11<00:10, 36.63it/s, loss=0.0538]0.05378862953499366\n",
      " 51%|█████▏    | 410/797 [00:11<00:10, 36.57it/s, loss=0.054] 0.05400426954802814\n",
      " 51%|█████▏    | 410/797 [00:11<00:10, 36.50it/s, loss=0.0534]0.053414943497562345\n",
      " 51%|█████▏    | 410/797 [00:11<00:10, 36.43it/s, loss=0.0525]0.05251568147879136\n",
      " 51%|█████▏    | 410/797 [00:11<00:10, 36.36it/s, loss=0.0519]0.05190137763533696\n",
      " 52%|█████▏    | 415/797 [00:11<00:10, 36.73it/s, loss=0.0526]0.05257822920793968\n",
      " 52%|█████▏    | 415/797 [00:11<00:10, 36.67it/s, loss=0.0519]0.05190589574788438\n",
      " 52%|█████▏    | 415/797 [00:11<00:10, 36.60it/s, loss=0.0522]0.052155341121229506\n",
      " 52%|█████▏    | 415/797 [00:11<00:10, 36.53it/s, loss=0.0522]0.05218442874620665\n",
      " 52%|█████▏    | 415/797 [00:11<00:10, 36.46it/s, loss=0.0532]0.05321805480167704\n",
      " 53%|█████▎    | 420/797 [00:11<00:10, 36.56it/s, loss=0.0524]0.052413461657701166\n",
      " 53%|█████▎    | 420/797 [00:11<00:10, 36.36it/s, loss=0.0516]0.051553420356673825\n",
      " 53%|█████▎    | 420/797 [00:11<00:10, 36.29it/s, loss=0.0509]0.0509068194284516\n",
      " 53%|█████▎    | 420/797 [00:11<00:10, 36.23it/s, loss=0.0504]0.05037974577591666\n",
      " 53%|█████▎    | 420/797 [00:11<00:10, 36.16it/s, loss=0.0504]0.05044901602352077\n",
      " 53%|█████▎    | 425/797 [00:11<00:10, 36.53it/s, loss=0.0524]0.052435654429782715\n",
      " 53%|█████▎    | 425/797 [00:11<00:10, 36.46it/s, loss=0.0515]0.051522881328357945\n",
      " 53%|█████▎    | 425/797 [00:11<00:10, 36.40it/s, loss=0.0532]0.05321458491139377\n",
      " 53%|█████▎    | 425/797 [00:11<00:10, 36.34it/s, loss=0.0527]0.052661325513466924\n",
      " 53%|█████▎    | 425/797 [00:11<00:10, 36.27it/s, loss=0.0544]0.05443511580470118\n",
      " 54%|█████▍    | 430/797 [00:11<00:10, 36.63it/s, loss=0.0537]0.05369891804255553\n",
      " 54%|█████▍    | 430/797 [00:11<00:10, 36.57it/s, loss=0.0528]0.05276261161887846\n",
      " 54%|█████▍    | 430/797 [00:11<00:10, 36.50it/s, loss=0.0519]0.05191312752920002\n",
      " 54%|█████▍    | 430/797 [00:11<00:10, 36.44it/s, loss=0.053] 0.05303794031174682\n",
      " 54%|█████▍    | 430/797 [00:11<00:10, 36.37it/s, loss=0.0535]0.053540160587357076\n",
      " 55%|█████▍    | 435/797 [00:11<00:09, 36.73it/s, loss=0.0544]0.054412293981777576\n",
      " 55%|█████▍    | 435/797 [00:11<00:09, 36.67it/s, loss=0.054] 0.05404412169313102\n",
      " 55%|█████▍    | 435/797 [00:11<00:09, 36.60it/s, loss=0.0542]0.05420185118907793\n",
      " 55%|█████▍    | 435/797 [00:11<00:09, 36.54it/s, loss=0.0543]0.05425647329530538\n",
      " 55%|█████▍    | 435/797 [00:11<00:09, 36.47it/s, loss=0.0536]0.053562669193881474\n",
      " 55%|█████▌    | 440/797 [00:11<00:09, 36.73it/s, loss=0.0534]0.05336825574861108\n",
      " 55%|█████▌    | 440/797 [00:12<00:09, 36.44it/s, loss=0.0574]0.057436610280420464\n",
      " 55%|█████▌    | 440/797 [00:12<00:09, 36.35it/s, loss=0.0565]0.05650094787149156\n",
      " 55%|█████▌    | 440/797 [00:12<00:09, 36.29it/s, loss=0.0557]0.055691872735664553\n",
      " 55%|█████▌    | 440/797 [00:12<00:09, 36.22it/s, loss=0.0548]0.05484338463544417\n",
      " 56%|█████▌    | 445/797 [00:12<00:09, 36.57it/s, loss=0.0543]0.05431878561219465\n",
      " 56%|█████▌    | 445/797 [00:12<00:09, 36.51it/s, loss=0.0542]0.05423395119546579\n",
      " 56%|█████▌    | 445/797 [00:12<00:09, 36.45it/s, loss=0.0549]0.054935475438277294\n",
      " 56%|█████▌    | 445/797 [00:12<00:09, 36.39it/s, loss=0.0552]0.05516614023365712\n",
      " 56%|█████▌    | 445/797 [00:12<00:09, 36.33it/s, loss=0.0564]0.05641682278048604\n",
      " 56%|█████▋    | 450/797 [00:12<00:09, 36.67it/s, loss=0.0577]0.05774235770087944\n",
      " 56%|█████▋    | 450/797 [00:12<00:09, 36.61it/s, loss=0.0573]0.05725491732851555\n",
      " 56%|█████▋    | 450/797 [00:12<00:09, 36.55it/s, loss=0.0569]0.05692508517615329\n",
      " 56%|█████▋    | 450/797 [00:12<00:09, 36.49it/s, loss=0.058] 0.057983247963107935\n",
      " 56%|█████▋    | 450/797 [00:12<00:09, 36.42it/s, loss=0.057]0.05699800418491577\n",
      " 57%|█████▋    | 455/797 [00:12<00:09, 36.76it/s, loss=0.0566]0.056649521010457914\n",
      " 57%|█████▋    | 455/797 [00:12<00:09, 36.70it/s, loss=0.06]  0.06001010889366562\n",
      " 57%|█████▋    | 455/797 [00:12<00:09, 36.64it/s, loss=0.0592]0.05919861126500736\n",
      " 57%|█████▋    | 455/797 [00:12<00:09, 36.58it/s, loss=0.0583]0.05826791219578235\n",
      " 57%|█████▋    | 455/797 [00:12<00:09, 36.52it/s, loss=0.0576]0.05758061985421175\n",
      " 58%|█████▊    | 460/797 [00:12<00:09, 36.67it/s, loss=0.0575]0.05750550854824635\n",
      " 58%|█████▊    | 460/797 [00:12<00:09, 36.58it/s, loss=0.0569]0.0569307325123767\n",
      " 58%|█████▊    | 460/797 [00:12<00:09, 36.40it/s, loss=0.0561]0.056097032770483\n",
      " 58%|█████▊    | 460/797 [00:12<00:09, 36.35it/s, loss=0.0556]0.05564860485868498\n",
      " 58%|█████▊    | 460/797 [00:12<00:09, 36.29it/s, loss=0.0549]0.054851478359179404\n",
      " 58%|█████▊    | 465/797 [00:12<00:09, 36.62it/s, loss=0.0565]0.05651042000641922\n",
      " 58%|█████▊    | 465/797 [00:12<00:09, 36.56it/s, loss=0.0557]0.055659301950976896\n",
      " 58%|█████▊    | 465/797 [00:12<00:09, 36.50it/s, loss=0.0559]0.055888303188899674\n",
      " 58%|█████▊    | 465/797 [00:12<00:09, 36.44it/s, loss=0.0551]0.05513182984709252\n",
      " 58%|█████▊    | 465/797 [00:12<00:09, 36.38it/s, loss=0.0561]0.0561113608713705\n",
      " 59%|█████▉    | 470/797 [00:12<00:08, 36.71it/s, loss=0.0554]0.05539467747634058\n",
      " 59%|█████▉    | 470/797 [00:12<00:08, 36.65it/s, loss=0.0552]0.05521805768366198\n",
      " 59%|█████▉    | 470/797 [00:12<00:08, 36.59it/s, loss=0.0557]0.05570544386147968\n",
      " 59%|█████▉    | 470/797 [00:12<00:08, 36.53it/s, loss=0.0556]0.05563765711299444\n",
      " 59%|█████▉    | 470/797 [00:12<00:08, 36.47it/s, loss=0.056] 0.05596724404092449\n",
      " 60%|█████▉    | 475/797 [00:12<00:08, 36.80it/s, loss=0.0555]0.05549831388735944\n",
      " 60%|█████▉    | 475/797 [00:12<00:08, 36.74it/s, loss=0.0558]0.05578049271212493\n",
      " 60%|█████▉    | 475/797 [00:12<00:08, 36.68it/s, loss=0.056] 0.055983886906863664\n",
      " 60%|█████▉    | 475/797 [00:12<00:08, 36.62it/s, loss=0.0552]0.05515169441328422\n",
      " 60%|█████▉    | 475/797 [00:12<00:08, 36.56it/s, loss=0.0563]0.05633051111913595\n",
      " 60%|██████    | 480/797 [00:13<00:08, 36.75it/s, loss=0.0557]0.05569151334704209\n",
      " 60%|██████    | 480/797 [00:13<00:08, 36.67it/s, loss=0.055] 0.054968924812325445\n",
      " 60%|██████    | 480/797 [00:13<00:08, 36.46it/s, loss=0.0542]0.05420411168064381\n",
      " 60%|██████    | 480/797 [00:13<00:08, 36.40it/s, loss=0.0552]0.05522671150339222\n",
      " 60%|██████    | 480/797 [00:13<00:08, 36.34it/s, loss=0.0547]0.05468848418795722\n",
      " 61%|██████    | 485/797 [00:13<00:08, 36.66it/s, loss=0.0543]0.05431691645733647\n",
      " 61%|██████    | 485/797 [00:13<00:08, 36.61it/s, loss=0.0536]0.05360371746150852\n",
      " 61%|██████    | 485/797 [00:13<00:08, 36.55it/s, loss=0.053] 0.05299189175382631\n",
      " 61%|██████    | 485/797 [00:13<00:08, 36.49it/s, loss=0.0521]0.052137838710404366\n",
      " 61%|██████    | 485/797 [00:13<00:08, 36.43it/s, loss=0.0532]0.053162453429354786\n",
      " 61%|██████▏   | 490/797 [00:13<00:08, 36.75it/s, loss=0.0525]0.052534515954209215\n",
      " 61%|██████▏   | 490/797 [00:13<00:08, 36.69it/s, loss=0.0538]0.05382850349093851\n",
      " 61%|██████▏   | 490/797 [00:13<00:08, 36.63it/s, loss=0.053] 0.05299779968406081\n",
      " 61%|██████▏   | 490/797 [00:13<00:08, 36.57it/s, loss=0.0532]0.05323446011808746\n",
      " 61%|██████▏   | 490/797 [00:13<00:08, 36.52it/s, loss=0.0526]0.052600415053703026\n",
      " 62%|██████▏   | 495/797 [00:13<00:08, 36.83it/s, loss=0.052] 0.05203850077068923\n",
      " 62%|██████▏   | 495/797 [00:13<00:08, 36.77it/s, loss=0.0525]0.05252923746428335\n",
      " 62%|██████▏   | 495/797 [00:13<00:08, 36.72it/s, loss=0.0524]0.05240574173543436\n",
      " 62%|██████▏   | 495/797 [00:13<00:08, 36.66it/s, loss=0.0522]0.05221510743353611\n"
     ]
    },
    {
     "name": "stdout",
     "output_type": "stream",
     "text": [
      " 62%|██████▏   | 495/797 [00:13<00:08, 36.60it/s, loss=0.0528]0.05278205146597093\n",
      " 63%|██████▎   | 500/797 [00:13<00:08, 36.83it/s, loss=0.0541]0.05412638754003824\n",
      " 63%|██████▎   | 500/797 [00:13<00:08, 36.72it/s, loss=0.0537]0.053700459248643126\n",
      " 63%|██████▎   | 500/797 [00:13<00:08, 36.50it/s, loss=0.0531]0.05314737375061083\n",
      " 63%|██████▎   | 500/797 [00:13<00:08, 36.45it/s, loss=0.0529]0.05286450298339373\n",
      " 63%|██████▎   | 500/797 [00:13<00:08, 36.39it/s, loss=0.0532]0.05315951750395728\n",
      " 63%|██████▎   | 505/797 [00:13<00:07, 36.70it/s, loss=0.0526]0.05256802516198502\n",
      " 63%|██████▎   | 505/797 [00:13<00:07, 36.65it/s, loss=0.0529]0.0528908567710085\n",
      " 63%|██████▎   | 505/797 [00:13<00:07, 36.59it/s, loss=0.0548]0.05483361300766046\n",
      " 63%|██████▎   | 505/797 [00:13<00:07, 36.54it/s, loss=0.0543]0.05429812415326061\n",
      " 63%|██████▎   | 505/797 [00:13<00:08, 36.48it/s, loss=0.0573]0.057276822643542086\n",
      " 64%|██████▍   | 510/797 [00:13<00:07, 36.79it/s, loss=0.0576]0.05763864470632974\n",
      " 64%|██████▍   | 510/797 [00:13<00:07, 36.73it/s, loss=0.057] 0.057023290097196\n",
      " 64%|██████▍   | 510/797 [00:13<00:07, 36.68it/s, loss=0.0589]0.058872877828277874\n",
      " 64%|██████▍   | 510/797 [00:13<00:07, 36.62it/s, loss=0.0595]0.059499115374303656\n",
      " 64%|██████▍   | 510/797 [00:13<00:07, 36.57it/s, loss=0.0599]0.05993015389717435\n",
      " 65%|██████▍   | 515/797 [00:13<00:07, 36.87it/s, loss=0.0595]0.05951135489209712\n",
      " 65%|██████▍   | 515/797 [00:13<00:07, 36.81it/s, loss=0.059] 0.059020864302427936\n",
      " 65%|██████▍   | 515/797 [00:14<00:07, 36.76it/s, loss=0.0593]0.059288319712377045\n",
      " 65%|██████▍   | 515/797 [00:14<00:07, 36.70it/s, loss=0.0587]0.058724096871743486\n",
      " 65%|██████▍   | 515/797 [00:14<00:07, 36.65it/s, loss=0.0585]0.058479075603727795\n",
      " 65%|██████▌   | 520/797 [00:14<00:07, 36.86it/s, loss=0.058] 0.05797133595284483\n",
      " 65%|██████▌   | 520/797 [00:14<00:07, 36.69it/s, loss=0.057]0.0569862531347948\n",
      " 65%|██████▌   | 520/797 [00:14<00:07, 36.56it/s, loss=0.0583]0.058275627907126946\n",
      " 65%|██████▌   | 520/797 [00:14<00:07, 36.51it/s, loss=0.0576]0.05755214136035845\n",
      " 65%|██████▌   | 520/797 [00:14<00:07, 36.45it/s, loss=0.0566]0.05657377102173137\n",
      " 66%|██████▌   | 525/797 [00:14<00:07, 36.75it/s, loss=0.0559]0.05594571609474062\n",
      " 66%|██████▌   | 525/797 [00:14<00:07, 36.70it/s, loss=0.0573]0.057295968803479175\n",
      " 66%|██████▌   | 525/797 [00:14<00:07, 36.64it/s, loss=0.0563]0.05631920998214446\n",
      " 66%|██████▌   | 525/797 [00:14<00:07, 36.59it/s, loss=0.056] 0.056033532193886466\n",
      " 66%|██████▌   | 525/797 [00:14<00:07, 36.54it/s, loss=0.0598]0.059755786769637435\n",
      " 66%|██████▋   | 530/797 [00:14<00:07, 36.83it/s, loss=0.0587]0.058724457626864845\n",
      " 66%|██████▋   | 530/797 [00:14<00:07, 36.78it/s, loss=0.0579]0.057919821694951405\n",
      " 66%|██████▋   | 530/797 [00:14<00:07, 36.73it/s, loss=0.0571]0.057064580983762755\n",
      " 66%|██████▋   | 530/797 [00:14<00:07, 36.67it/s, loss=0.0573]0.05730926199693909\n",
      " 66%|██████▋   | 530/797 [00:14<00:07, 36.62it/s, loss=0.0569]0.05688126368689594\n",
      " 67%|██████▋   | 535/797 [00:14<00:07, 36.91it/s, loss=0.0562]0.05620991998957328\n",
      " 67%|██████▋   | 535/797 [00:14<00:07, 36.86it/s, loss=0.0552]0.0551739228943881\n",
      " 67%|██████▋   | 535/797 [00:14<00:07, 36.80it/s, loss=0.0544]0.05436424877697762\n",
      " 67%|██████▋   | 535/797 [00:14<00:07, 36.75it/s, loss=0.0541]0.05407738341246677\n",
      " 67%|██████▋   | 535/797 [00:14<00:07, 36.70it/s, loss=0.0539]0.05388440112362692\n",
      " 68%|██████▊   | 540/797 [00:14<00:06, 36.93it/s, loss=0.0537]0.05367657695536043\n",
      " 68%|██████▊   | 540/797 [00:14<00:06, 36.85it/s, loss=0.0536]0.05363556612276659\n",
      " 68%|██████▊   | 540/797 [00:14<00:06, 36.79it/s, loss=0.0531]0.05309192547802703\n",
      " 68%|██████▊   | 540/797 [00:14<00:07, 36.58it/s, loss=0.0534]0.05342999745757552\n",
      " 68%|██████▊   | 540/797 [00:14<00:07, 36.52it/s, loss=0.053] 0.053036508229424476\n",
      " 68%|██████▊   | 545/797 [00:14<00:06, 36.81it/s, loss=0.0532]0.05320366253165647\n",
      " 68%|██████▊   | 545/797 [00:14<00:06, 36.75it/s, loss=0.0528]0.05276272559727592\n",
      " 68%|██████▊   | 545/797 [00:14<00:06, 36.70it/s, loss=0.052] 0.05199976352414582\n",
      " 68%|██████▊   | 545/797 [00:14<00:06, 36.65it/s, loss=0.0513]0.051284153835542176\n",
      " 68%|██████▊   | 545/797 [00:14<00:06, 36.60it/s, loss=0.0505]0.050482901121345944\n",
      " 69%|██████▉   | 550/797 [00:14<00:06, 36.88it/s, loss=0.0523]0.0522981659520229\n",
      " 69%|██████▉   | 550/797 [00:14<00:06, 36.83it/s, loss=0.0518]0.05175332831713829\n",
      " 69%|██████▉   | 550/797 [00:14<00:06, 36.78it/s, loss=0.0519]0.05188320745092366\n",
      " 69%|██████▉   | 550/797 [00:14<00:06, 36.73it/s, loss=0.0516]0.05164793063522412\n",
      " 69%|██████▉   | 550/797 [00:14<00:06, 36.68it/s, loss=0.0516]0.051598643796987524\n",
      " 70%|██████▉   | 555/797 [00:15<00:06, 36.96it/s, loss=0.0517]0.051734474635261145\n",
      " 70%|██████▉   | 555/797 [00:15<00:06, 36.91it/s, loss=0.0517]0.05171451402586527\n",
      " 70%|██████▉   | 555/797 [00:15<00:06, 36.86it/s, loss=0.0509]0.050915604850296205\n",
      " 70%|██████▉   | 555/797 [00:15<00:06, 36.81it/s, loss=0.0506]0.0506065997488836\n",
      " 70%|██████▉   | 555/797 [00:15<00:06, 36.76it/s, loss=0.0498]0.04980553918230578\n",
      " 70%|███████   | 560/797 [00:15<00:06, 36.78it/s, loss=0.0496]0.04955146682789384\n",
      " 70%|███████   | 560/797 [00:15<00:06, 36.68it/s, loss=0.0487]0.048697400442562024\n",
      " 70%|███████   | 560/797 [00:15<00:06, 36.63it/s, loss=0.0484]0.0483536416879688\n",
      " 70%|███████   | 560/797 [00:15<00:06, 36.58it/s, loss=0.0484]0.04839997082456409\n",
      " 70%|███████   | 560/797 [00:15<00:06, 36.53it/s, loss=0.0479]0.047857791438756625\n",
      " 71%|███████   | 565/797 [00:15<00:06, 36.81it/s, loss=0.0485]0.048548888834892875\n",
      " 71%|███████   | 565/797 [00:15<00:06, 36.76it/s, loss=0.0482]0.04816279318979855\n",
      " 71%|███████   | 565/797 [00:15<00:06, 36.71it/s, loss=0.0496]0.049555126154960535\n",
      " 71%|███████   | 565/797 [00:15<00:06, 36.66it/s, loss=0.0502]0.05018624839568345\n",
      " 71%|███████   | 565/797 [00:15<00:06, 36.61it/s, loss=0.05]  0.04997924949734761\n",
      " 72%|███████▏  | 570/797 [00:15<00:06, 36.88it/s, loss=0.05]0.04997646037285415\n",
      " 72%|███████▏  | 570/797 [00:15<00:06, 36.83it/s, loss=0.0501]0.050064227121099356\n",
      " 72%|███████▏  | 570/797 [00:15<00:06, 36.78it/s, loss=0.0507]0.05070614301176842\n",
      " 72%|███████▏  | 570/797 [00:15<00:06, 36.73it/s, loss=0.05]  0.049963624534367694\n",
      " 72%|███████▏  | 570/797 [00:15<00:06, 36.68it/s, loss=0.0493]0.049317263678951694\n",
      " 72%|███████▏  | 575/797 [00:15<00:06, 36.95it/s, loss=0.0494]0.04941548851879204\n",
      " 72%|███████▏  | 575/797 [00:15<00:06, 36.90it/s, loss=0.0486]0.04862374681944947\n",
      " 72%|███████▏  | 575/797 [00:15<00:06, 36.85it/s, loss=0.0492]0.04923083946009102\n",
      " 72%|███████▏  | 575/797 [00:15<00:06, 36.80it/s, loss=0.0504]0.05039175977696279\n",
      " 72%|███████▏  | 575/797 [00:15<00:06, 36.75it/s, loss=0.0496]0.049638243562384166\n",
      " 73%|███████▎  | 580/797 [00:15<00:05, 36.97it/s, loss=0.0495]0.04953391071826919\n",
      " 73%|███████▎  | 580/797 [00:15<00:05, 36.78it/s, loss=0.0493]0.04929666554353737\n",
      " 73%|███████▎  | 580/797 [00:15<00:05, 36.66it/s, loss=0.0488]0.048796491797067305\n",
      " 73%|███████▎  | 580/797 [00:15<00:05, 36.61it/s, loss=0.0481]0.048106879460601056\n",
      " 73%|███████▎  | 580/797 [00:15<00:05, 36.56it/s, loss=0.0478]0.047803006922347714\n",
      " 73%|███████▎  | 585/797 [00:15<00:05, 36.83it/s, loss=0.0475]0.04750225774696931\n",
      " 73%|███████▎  | 585/797 [00:15<00:05, 36.78it/s, loss=0.048] 0.048037372794687436\n",
      " 73%|███████▎  | 585/797 [00:15<00:05, 36.73it/s, loss=0.0479]0.047853223409644166\n",
      " 73%|███████▎  | 585/797 [00:15<00:05, 36.69it/s, loss=0.0474]0.047373515647512396\n",
      " 73%|███████▎  | 585/797 [00:15<00:05, 36.64it/s, loss=0.0466]0.04662968024656156\n",
      " 74%|███████▍  | 590/797 [00:15<00:05, 36.90it/s, loss=0.0467]0.04670650320159455\n",
      " 74%|███████▍  | 590/797 [00:16<00:05, 36.85it/s, loss=0.0469]0.04693261341576037\n",
      " 74%|███████▍  | 590/797 [00:16<00:05, 36.80it/s, loss=0.0484]0.048393266763962814\n",
      " 74%|███████▍  | 590/797 [00:16<00:05, 36.75it/s, loss=0.048] 0.04798053286238533\n",
      " 74%|███████▍  | 590/797 [00:16<00:05, 36.70it/s, loss=0.0471]0.047125534535476285\n",
      " 75%|███████▍  | 595/797 [00:16<00:05, 36.96it/s, loss=0.049] 0.04899523148552035\n",
      " 75%|███████▍  | 595/797 [00:16<00:05, 36.91it/s, loss=0.0482]0.04815488657194104\n",
      " 75%|███████▍  | 595/797 [00:16<00:05, 36.87it/s, loss=0.0473]0.04730152375689959\n"
     ]
    },
    {
     "name": "stdout",
     "output_type": "stream",
     "text": [
      " 75%|███████▍  | 595/797 [00:16<00:05, 36.82it/s, loss=0.0475]0.047513086991298144\n",
      " 75%|███████▍  | 595/797 [00:16<00:05, 36.77it/s, loss=0.0507]0.050655414082944654\n",
      " 75%|███████▌  | 600/797 [00:16<00:05, 36.97it/s, loss=0.0498]0.049763573401513515\n",
      " 75%|███████▌  | 600/797 [00:16<00:05, 36.83it/s, loss=0.0489]0.048888577001467724\n",
      " 75%|███████▌  | 600/797 [00:16<00:05, 36.68it/s, loss=0.0489]0.04886483102563114\n",
      " 75%|███████▌  | 600/797 [00:16<00:05, 36.63it/s, loss=0.0486]0.04858533173147237\n",
      " 75%|███████▌  | 600/797 [00:16<00:05, 36.58it/s, loss=0.0479]0.04788130892546716\n",
      " 76%|███████▌  | 605/797 [00:16<00:05, 36.84it/s, loss=0.048] 0.04799079268060905\n",
      " 76%|███████▌  | 605/797 [00:16<00:05, 36.79it/s, loss=0.0485]0.04847232848851174\n",
      " 76%|███████▌  | 605/797 [00:16<00:05, 36.75it/s, loss=0.0481]0.048083665319756864\n",
      " 76%|███████▌  | 605/797 [00:16<00:05, 36.70it/s, loss=0.0472]0.047202801336188815\n",
      " 76%|███████▌  | 605/797 [00:16<00:05, 36.65it/s, loss=0.0469]0.046929816549211946\n",
      " 77%|███████▋  | 610/797 [00:16<00:05, 36.91it/s, loss=0.0464]0.046410203440592296\n",
      " 77%|███████▋  | 610/797 [00:16<00:05, 36.86it/s, loss=0.0463]0.04625875408794437\n",
      " 77%|███████▋  | 610/797 [00:16<00:05, 36.82it/s, loss=0.0454]0.045440348511463925\n",
      " 77%|███████▋  | 610/797 [00:16<00:05, 36.77it/s, loss=0.0447]0.044676360410148656\n",
      " 77%|███████▋  | 610/797 [00:16<00:05, 36.72it/s, loss=0.0445]0.04449081821517288\n",
      " 77%|███████▋  | 615/797 [00:16<00:04, 36.97it/s, loss=0.0441]0.04411790557094416\n",
      " 77%|███████▋  | 615/797 [00:16<00:04, 36.92it/s, loss=0.0441]0.04407176647302\n",
      " 77%|███████▋  | 615/797 [00:16<00:04, 36.88it/s, loss=0.0443]0.044286724677456625\n",
      " 77%|███████▋  | 615/797 [00:16<00:04, 36.83it/s, loss=0.0445]0.044546411816895906\n",
      " 77%|███████▋  | 615/797 [00:16<00:04, 36.78it/s, loss=0.0442]0.044233546170599956\n",
      " 78%|███████▊  | 620/797 [00:16<00:04, 36.75it/s, loss=0.0442]0.04420575718400441\n",
      " 78%|███████▊  | 620/797 [00:16<00:04, 36.70it/s, loss=0.044] 0.04401172218497798\n",
      " 78%|███████▊  | 620/797 [00:16<00:04, 36.65it/s, loss=0.0455]0.04547915714384941\n",
      " 78%|███████▊  | 620/797 [00:16<00:04, 36.61it/s, loss=0.045] 0.045016516389763735\n",
      " 78%|███████▊  | 620/797 [00:16<00:04, 36.57it/s, loss=0.0449]0.04487046805698043\n",
      " 78%|███████▊  | 625/797 [00:16<00:04, 36.81it/s, loss=0.0447]0.04465349776795287\n",
      " 78%|███████▊  | 625/797 [00:16<00:04, 36.77it/s, loss=0.0442]0.04415517007123996\n",
      " 78%|███████▊  | 625/797 [00:17<00:04, 36.72it/s, loss=0.0437]0.043744008047566195\n",
      " 78%|███████▊  | 625/797 [00:17<00:04, 36.68it/s, loss=0.0495]0.04952629638103849\n",
      " 78%|███████▊  | 625/797 [00:17<00:04, 36.64it/s, loss=0.0506]0.050643942372304206\n",
      " 79%|███████▉  | 630/797 [00:17<00:04, 36.88it/s, loss=0.0502]0.050202153266027526\n",
      " 79%|███████▉  | 630/797 [00:17<00:04, 36.84it/s, loss=0.0495]0.049474254508121866\n",
      " 79%|███████▉  | 630/797 [00:17<00:04, 36.79it/s, loss=0.0504]0.05043005058326303\n",
      " 79%|███████▉  | 630/797 [00:17<00:04, 36.75it/s, loss=0.0506]0.05055524410279701\n",
      " 79%|███████▉  | 630/797 [00:17<00:04, 36.70it/s, loss=0.0499]0.04985277406123452\n",
      " 80%|███████▉  | 635/797 [00:17<00:04, 36.95it/s, loss=0.0496]0.04959728402991473\n",
      " 80%|███████▉  | 635/797 [00:17<00:04, 36.90it/s, loss=0.0494]0.04939455272117871\n",
      " 80%|███████▉  | 635/797 [00:17<00:04, 36.86it/s, loss=0.0494]0.049352743363441566\n",
      " 80%|███████▉  | 635/797 [00:17<00:04, 36.81it/s, loss=0.0503]0.05030466108952742\n",
      " 80%|███████▉  | 635/797 [00:17<00:04, 36.77it/s, loss=0.0524]0.05238261706496849\n",
      " 80%|████████  | 640/797 [00:17<00:04, 36.79it/s, loss=0.0528]0.052825241486330776\n",
      " 80%|████████  | 640/797 [00:17<00:04, 36.70it/s, loss=0.0522]0.05224525641048299\n",
      " 80%|████████  | 640/797 [00:17<00:04, 36.66it/s, loss=0.0521]0.05214214720073427\n",
      " 80%|████████  | 640/797 [00:17<00:04, 36.62it/s, loss=0.0516]0.051569345055264365\n",
      " 80%|████████  | 640/797 [00:17<00:04, 36.57it/s, loss=0.052] 0.05201231979973081\n",
      " 81%|████████  | 645/797 [00:17<00:04, 36.81it/s, loss=0.0519]0.051906093605406385\n",
      " 81%|████████  | 645/797 [00:17<00:04, 36.77it/s, loss=0.0511]0.05114364399454405\n",
      " 81%|████████  | 645/797 [00:17<00:04, 36.73it/s, loss=0.0509]0.050904206919067316\n",
      " 81%|████████  | 645/797 [00:17<00:04, 36.68it/s, loss=0.0503]0.05030701545107082\n",
      " 81%|████████  | 645/797 [00:17<00:04, 36.64it/s, loss=0.0501]0.05006566797045792\n",
      " 82%|████████▏ | 650/797 [00:17<00:03, 36.88it/s, loss=0.0513]0.05134142409377964\n",
      " 82%|████████▏ | 650/797 [00:17<00:03, 36.83it/s, loss=0.0513]0.051337434405457884\n",
      " 82%|████████▏ | 650/797 [00:17<00:03, 36.79it/s, loss=0.0509]0.05087534811683496\n",
      " 82%|████████▏ | 650/797 [00:17<00:04, 36.75it/s, loss=0.0506]0.050643533214047035\n",
      " 82%|████████▏ | 650/797 [00:17<00:04, 36.70it/s, loss=0.0499]0.0498580384086885\n",
      " 82%|████████▏ | 655/797 [00:17<00:03, 36.94it/s, loss=0.0511]0.051148123658434755\n",
      " 82%|████████▏ | 655/797 [00:17<00:03, 36.90it/s, loss=0.0503]0.050342118619746766\n",
      " 82%|████████▏ | 655/797 [00:17<00:03, 36.85it/s, loss=0.0499]0.04989876887104566\n",
      " 82%|████████▏ | 655/797 [00:17<00:03, 36.81it/s, loss=0.049] 0.049035069112605474\n",
      " 82%|████████▏ | 655/797 [00:17<00:03, 36.77it/s, loss=0.0493]0.04928425752660792\n",
      " 83%|████████▎ | 660/797 [00:17<00:03, 36.86it/s, loss=0.0485]0.04852355754361468\n",
      " 83%|████████▎ | 660/797 [00:17<00:03, 36.81it/s, loss=0.049] 0.04897331676539364\n",
      " 83%|████████▎ | 660/797 [00:17<00:03, 36.70it/s, loss=0.0489]0.04889983659737613\n",
      " 83%|████████▎ | 660/797 [00:18<00:03, 36.66it/s, loss=0.0488]0.04883277188894948\n",
      " 83%|████████▎ | 660/797 [00:18<00:03, 36.61it/s, loss=0.0482]0.04817328893731885\n",
      " 83%|████████▎ | 665/797 [00:18<00:03, 36.85it/s, loss=0.0474]0.04743510247425957\n",
      " 83%|████████▎ | 665/797 [00:18<00:03, 36.81it/s, loss=0.0474]0.04738585307167259\n",
      " 83%|████████▎ | 665/797 [00:18<00:03, 36.76it/s, loss=0.047] 0.04702667118201505\n",
      " 83%|████████▎ | 665/797 [00:18<00:03, 36.72it/s, loss=0.0464]0.04635227710048133\n",
      " 83%|████████▎ | 665/797 [00:18<00:03, 36.68it/s, loss=0.0457]0.04570084644854913\n",
      " 84%|████████▍ | 670/797 [00:18<00:03, 36.91it/s, loss=0.0463]0.04632808962144497\n",
      " 84%|████████▍ | 670/797 [00:18<00:03, 36.87it/s, loss=0.0466]0.0465863673908749\n",
      " 84%|████████▍ | 670/797 [00:18<00:03, 36.83it/s, loss=0.0481]0.04808658190006507\n",
      " 84%|████████▍ | 670/797 [00:18<00:03, 36.78it/s, loss=0.0497]0.049666226455445134\n",
      " 84%|████████▍ | 670/797 [00:18<00:03, 36.74it/s, loss=0.0494]0.04938482229829554\n",
      " 85%|████████▍ | 675/797 [00:18<00:03, 36.97it/s, loss=0.0487]0.04865242450272954\n",
      " 85%|████████▍ | 675/797 [00:18<00:03, 36.93it/s, loss=0.0482]0.04824958398038565\n",
      " 85%|████████▍ | 675/797 [00:18<00:03, 36.89it/s, loss=0.0489]0.04887390078837362\n",
      " 85%|████████▍ | 675/797 [00:18<00:03, 36.84it/s, loss=0.0483]0.048326063921874766\n",
      " 85%|████████▍ | 675/797 [00:18<00:03, 36.80it/s, loss=0.0504]0.0504403105334149\n",
      " 85%|████████▌ | 680/797 [00:18<00:03, 36.96it/s, loss=0.0498]0.04983480778146487\n",
      " 85%|████████▌ | 680/797 [00:18<00:03, 36.90it/s, loss=0.0517]0.05167529969390918\n",
      " 85%|████████▌ | 680/797 [00:18<00:03, 36.72it/s, loss=0.0514]0.05138244995684089\n",
      " 85%|████████▌ | 680/797 [00:18<00:03, 36.68it/s, loss=0.0513]0.051338534672256866\n",
      " 85%|████████▌ | 680/797 [00:18<00:03, 36.64it/s, loss=0.0508]0.050783710331911695\n",
      " 86%|████████▌ | 685/797 [00:18<00:03, 36.86it/s, loss=0.0502]0.05024102029220247\n",
      " 86%|████████▌ | 685/797 [00:18<00:03, 36.82it/s, loss=0.0501]0.05006472037657879\n",
      " 86%|████████▌ | 685/797 [00:18<00:03, 36.78it/s, loss=0.0496]0.04960245821188385\n",
      " 86%|████████▌ | 685/797 [00:18<00:03, 36.74it/s, loss=0.051] 0.050966453436684635\n",
      " 86%|████████▌ | 685/797 [00:18<00:03, 36.70it/s, loss=0.0525]0.05253299130849804\n",
      " 87%|████████▋ | 690/797 [00:18<00:02, 36.92it/s, loss=0.0522]0.05217448355301776\n",
      " 87%|████████▋ | 690/797 [00:18<00:02, 36.88it/s, loss=0.0521]0.0521430427256177\n",
      " 87%|████████▋ | 690/797 [00:18<00:02, 36.84it/s, loss=0.0517]0.05173777256844596\n",
      " 87%|████████▋ | 690/797 [00:18<00:02, 36.80it/s, loss=0.0511]0.05105516557079126\n",
      " 87%|████████▋ | 690/797 [00:18<00:02, 36.76it/s, loss=0.0512]0.05115333996401623\n",
      " 87%|████████▋ | 695/797 [00:18<00:02, 36.98it/s, loss=0.0507]0.05074994501349889\n",
      " 87%|████████▋ | 695/797 [00:18<00:02, 36.94it/s, loss=0.0499]0.04988285526858861\n"
     ]
    },
    {
     "name": "stdout",
     "output_type": "stream",
     "text": [
      " 87%|████████▋ | 695/797 [00:18<00:02, 36.90it/s, loss=0.05]  0.05004587886285185\n",
      " 87%|████████▋ | 695/797 [00:18<00:02, 36.86it/s, loss=0.0499]0.04985400993109017\n",
      " 87%|████████▋ | 695/797 [00:18<00:02, 36.82it/s, loss=0.049] 0.04902802039501992\n",
      " 88%|████████▊ | 700/797 [00:18<00:02, 36.87it/s, loss=0.0486]0.04859658147913512\n",
      " 88%|████████▊ | 700/797 [00:19<00:02, 36.76it/s, loss=0.0544]0.05437143353151805\n",
      " 88%|████████▊ | 700/797 [00:19<00:02, 36.72it/s, loss=0.0537]0.053658069566998694\n",
      " 88%|████████▊ | 700/797 [00:19<00:02, 36.68it/s, loss=0.0531]0.05314987061196028\n",
      " 88%|████████▊ | 700/797 [00:19<00:02, 36.64it/s, loss=0.0543]0.05427093966026628\n",
      " 88%|████████▊ | 705/797 [00:19<00:02, 36.86it/s, loss=0.0534]0.05343941704884199\n",
      " 88%|████████▊ | 705/797 [00:19<00:02, 36.82it/s, loss=0.0528]0.052836639943907096\n",
      " 88%|████████▊ | 705/797 [00:19<00:02, 36.78it/s, loss=0.0519]0.05190336880210846\n",
      " 88%|████████▊ | 705/797 [00:19<00:02, 36.74it/s, loss=0.051] 0.05101073830849924\n",
      " 88%|████████▊ | 705/797 [00:19<00:02, 36.70it/s, loss=0.0507]0.05071468925443686\n",
      " 89%|████████▉ | 710/797 [00:19<00:02, 36.92it/s, loss=0.0517]0.05169189048091883\n",
      " 89%|████████▉ | 710/797 [00:19<00:02, 36.88it/s, loss=0.0522]0.05221997107995235\n",
      " 89%|████████▉ | 710/797 [00:19<00:02, 36.84it/s, loss=0.0537]0.053724047758424646\n",
      " 89%|████████▉ | 710/797 [00:19<00:02, 36.79it/s, loss=0.0533]0.05333664870443429\n",
      " 89%|████████▉ | 710/797 [00:19<00:02, 36.75it/s, loss=0.0526]0.052599466438233516\n",
      " 90%|████████▉ | 715/797 [00:19<00:02, 36.97it/s, loss=0.0524]0.052411627237487865\n",
      " 90%|████████▉ | 715/797 [00:19<00:02, 36.93it/s, loss=0.052] 0.05200996779230071\n",
      " 90%|████████▉ | 715/797 [00:19<00:02, 36.89it/s, loss=0.0519]0.051941630107363274\n",
      " 90%|████████▉ | 715/797 [00:19<00:02, 36.85it/s, loss=0.052] 0.051950001497167615\n",
      " 90%|████████▉ | 715/797 [00:19<00:02, 36.81it/s, loss=0.0513]0.0513077961326794\n",
      " 90%|█████████ | 720/797 [00:19<00:02, 36.98it/s, loss=0.0512]0.051234160247725154\n",
      " 90%|█████████ | 720/797 [00:19<00:02, 36.93it/s, loss=0.0506]0.050597542324810285\n",
      " 90%|█████████ | 720/797 [00:19<00:02, 36.77it/s, loss=0.0512]0.05116990226942109\n",
      " 90%|█████████ | 720/797 [00:19<00:02, 36.70it/s, loss=0.0502]0.05023696995122921\n",
      " 90%|█████████ | 720/797 [00:19<00:02, 36.66it/s, loss=0.0504]0.05040019079020483\n",
      " 91%|█████████ | 725/797 [00:19<00:01, 36.88it/s, loss=0.0496]0.04956996194352627\n",
      " 91%|█████████ | 725/797 [00:19<00:01, 36.84it/s, loss=0.0495]0.04951047593642544\n",
      " 91%|█████████ | 725/797 [00:19<00:01, 36.80it/s, loss=0.0499]0.04990182595002452\n",
      " 91%|█████████ | 725/797 [00:19<00:01, 36.76it/s, loss=0.0492]0.04920355938660551\n",
      " 91%|█████████ | 725/797 [00:19<00:01, 36.72it/s, loss=0.0484]0.0484257627300021\n",
      " 92%|█████████▏| 730/797 [00:19<00:01, 36.93it/s, loss=0.0481]0.048144553294213265\n",
      " 92%|█████████▏| 730/797 [00:19<00:01, 36.89it/s, loss=0.0484]0.04838833555517892\n",
      " 92%|█████████▏| 730/797 [00:19<00:01, 36.86it/s, loss=0.0483]0.048264139626506476\n",
      " 92%|█████████▏| 730/797 [00:19<00:01, 36.82it/s, loss=0.0499]0.04993906038152903\n",
      " 92%|█████████▏| 730/797 [00:19<00:01, 36.78it/s, loss=0.0494]0.04943501423551175\n",
      " 92%|█████████▏| 735/797 [00:19<00:01, 36.99it/s, loss=0.0489]0.04888609798822269\n",
      " 92%|█████████▏| 735/797 [00:19<00:01, 36.95it/s, loss=0.0491]0.04913983281214115\n",
      " 92%|█████████▏| 735/797 [00:19<00:01, 36.91it/s, loss=0.0483]0.04829316468542404\n",
      " 92%|█████████▏| 735/797 [00:19<00:01, 36.87it/s, loss=0.0483]0.048334138892381945\n",
      " 92%|█████████▏| 735/797 [00:19<00:01, 36.83it/s, loss=0.0482]0.04820492144864173\n",
      " 93%|█████████▎| 740/797 [00:20<00:01, 36.90it/s, loss=0.0499]0.04987382803219141\n",
      " 93%|█████████▎| 740/797 [00:20<00:01, 36.84it/s, loss=0.0489]0.04894274792704228\n",
      " 93%|█████████▎| 740/797 [00:20<00:01, 36.79it/s, loss=0.0486]0.04862807458254773\n",
      " 93%|█████████▎| 740/797 [00:20<00:01, 36.73it/s, loss=0.0484]0.048362126969893345\n",
      " 93%|█████████▎| 740/797 [00:20<00:01, 36.70it/s, loss=0.0482]0.04823174493012405\n",
      " 93%|█████████▎| 745/797 [00:20<00:01, 36.91it/s, loss=0.0487]0.048728455875431224\n",
      " 93%|█████████▎| 745/797 [00:20<00:01, 36.87it/s, loss=0.0482]0.04819905999288691\n",
      " 93%|█████████▎| 745/797 [00:20<00:01, 36.83it/s, loss=0.0478]0.04778295682535792\n",
      " 93%|█████████▎| 745/797 [00:20<00:01, 36.79it/s, loss=0.0474]0.04738419987132625\n",
      " 93%|█████████▎| 745/797 [00:20<00:01, 36.76it/s, loss=0.0467]0.046702554917270586\n",
      " 94%|█████████▍| 750/797 [00:20<00:01, 36.97it/s, loss=0.046] 0.04596008189674072\n",
      " 94%|█████████▍| 750/797 [00:20<00:01, 36.93it/s, loss=0.0472]0.047168804529285104\n",
      " 94%|█████████▍| 750/797 [00:20<00:01, 36.89it/s, loss=0.0467]0.04669768471442908\n",
      " 94%|█████████▍| 750/797 [00:20<00:01, 36.85it/s, loss=0.0479]0.047937347014631156\n",
      " 94%|█████████▍| 750/797 [00:20<00:01, 36.81it/s, loss=0.0485]0.048477648078071346\n",
      " 95%|█████████▍| 755/797 [00:20<00:01, 37.02it/s, loss=0.0486]0.04864157463064093\n",
      " 95%|█████████▍| 755/797 [00:20<00:01, 36.98it/s, loss=0.0487]0.048701789248326854\n",
      " 95%|█████████▍| 755/797 [00:20<00:01, 36.94it/s, loss=0.0485]0.04850971569592826\n",
      " 95%|█████████▍| 755/797 [00:20<00:01, 36.90it/s, loss=0.0484]0.04836571355064639\n",
      " 95%|█████████▍| 755/797 [00:20<00:01, 36.87it/s, loss=0.0492]0.04917286817288303\n",
      " 95%|█████████▌| 760/797 [00:20<00:01, 36.91it/s, loss=0.0489]0.04885524163790175\n",
      " 95%|█████████▌| 760/797 [00:20<00:01, 36.81it/s, loss=0.0483]0.04831228612239326\n",
      " 95%|█████████▌| 760/797 [00:20<00:01, 36.77it/s, loss=0.0488]0.04875505480382748\n",
      " 95%|█████████▌| 760/797 [00:20<00:01, 36.74it/s, loss=0.0489]0.048936743553195404\n",
      " 95%|█████████▌| 760/797 [00:20<00:01, 36.70it/s, loss=0.0484]0.04840397470327416\n",
      " 96%|█████████▌| 765/797 [00:20<00:00, 36.90it/s, loss=0.0479]0.047912311465113204\n",
      " 96%|█████████▌| 765/797 [00:20<00:00, 36.86it/s, loss=0.0472]0.047186083928848446\n",
      " 96%|█████████▌| 765/797 [00:20<00:00, 36.82it/s, loss=0.0474]0.047378198230967915\n",
      " 96%|█████████▌| 765/797 [00:20<00:00, 36.78it/s, loss=0.0471]0.04706536824489036\n",
      " 96%|█████████▌| 765/797 [00:20<00:00, 36.75it/s, loss=0.0472]0.04717456780386956\n",
      " 97%|█████████▋| 770/797 [00:20<00:00, 36.95it/s, loss=0.0464]0.04643328925008367\n",
      " 97%|█████████▋| 770/797 [00:20<00:00, 36.91it/s, loss=0.0459]0.04590276869373489\n",
      " 97%|█████████▋| 770/797 [00:20<00:00, 36.88it/s, loss=0.0465]0.04649326033598309\n",
      " 97%|█████████▋| 770/797 [00:20<00:00, 36.84it/s, loss=0.0461]0.046111222847695914\n",
      " 97%|█████████▋| 770/797 [00:20<00:00, 36.80it/s, loss=0.0458]0.0458228944872674\n",
      " 97%|█████████▋| 775/797 [00:20<00:00, 37.00it/s, loss=0.045] 0.04502049547404128\n",
      " 97%|█████████▋| 775/797 [00:20<00:00, 36.96it/s, loss=0.0446]0.044596614949233726\n",
      " 97%|█████████▋| 775/797 [00:20<00:00, 36.93it/s, loss=0.0445]0.044483559623456494\n",
      " 97%|█████████▋| 775/797 [00:21<00:00, 36.89it/s, loss=0.044] 0.04402040340602993\n",
      " 97%|█████████▋| 775/797 [00:21<00:00, 36.85it/s, loss=0.0445]0.04453574009313121\n",
      " 98%|█████████▊| 780/797 [00:21<00:00, 37.01it/s, loss=0.0455]0.04545232646448011\n",
      " 98%|█████████▊| 780/797 [00:21<00:00, 36.95it/s, loss=0.0448]0.044807956655800854\n",
      " 98%|█████████▊| 780/797 [00:21<00:00, 36.88it/s, loss=0.0448]0.04479254495808288\n",
      " 98%|█████████▊| 780/797 [00:21<00:00, 36.80it/s, loss=0.0448]0.04477929803032019\n",
      " 98%|█████████▊| 780/797 [00:21<00:00, 36.76it/s, loss=0.0442]0.04420175626993313\n",
      " 98%|█████████▊| 785/797 [00:21<00:00, 36.96it/s, loss=0.0443]0.0442604879674155\n",
      " 98%|█████████▊| 785/797 [00:21<00:00, 36.92it/s, loss=0.0441]0.04410931833036296\n",
      " 98%|█████████▊| 785/797 [00:21<00:00, 36.89it/s, loss=0.0433]0.04331366693309984\n",
      " 98%|█████████▊| 785/797 [00:21<00:00, 36.85it/s, loss=0.0434]0.04342058039815732\n",
      " 98%|█████████▊| 785/797 [00:21<00:00, 36.81it/s, loss=0.0436]0.04362849101245704\n",
      " 99%|█████████▉| 790/797 [00:21<00:00, 37.01it/s, loss=0.0441]0.04408332696535829\n",
      " 99%|█████████▉| 790/797 [00:21<00:00, 36.97it/s, loss=0.0442]0.044240972180604236\n",
      " 99%|█████████▉| 790/797 [00:21<00:00, 36.94it/s, loss=0.044] 0.04403996491585933\n",
      " 99%|█████████▉| 790/797 [00:21<00:00, 36.90it/s, loss=0.0433]0.043334275941036685\n",
      " 99%|█████████▉| 790/797 [00:21<00:00, 36.87it/s, loss=0.0429]0.04289509619671417\n",
      "100%|█████████▉| 795/797 [00:21<00:00, 37.06it/s, loss=0.0425]0.04252624945082725\n"
     ]
    },
    {
     "name": "stdout",
     "output_type": "stream",
     "text": [
      "100%|█████████▉| 795/797 [00:21<00:00, 37.03it/s, loss=0.0428]0.04275723303236188\n",
      "> <ipython-input-288-6ed726a523ca>(10)on_epoch_end()          \n",
      "-> self.val_losses.append(metrics[0])\n",
      "(Pdb) metrics[0]\n",
      "array([0.03617])\n",
      "(Pdb) metrics\n",
      "[array([0.03617]), 0.9888888889948527]\n",
      "(Pdb) q\n"
     ]
    },
    {
     "ename": "BdbQuit",
     "evalue": "",
     "output_type": "error",
     "traceback": [
      "\u001b[0;31m---------------------------------------------------------------------------\u001b[0m",
      "\u001b[0;31mBdbQuit\u001b[0m                                   Traceback (most recent call last)",
      "\u001b[0;32m<timed eval>\u001b[0m in \u001b[0;36m<module>\u001b[0;34m()\u001b[0m\n",
      "\u001b[0;32m~/Kaukasos/research/fastai/learner.py\u001b[0m in \u001b[0;36mfit\u001b[0;34m(self, lrs, n_cycle, wds, **kwargs)\u001b[0m\n\u001b[1;32m    285\u001b[0m         \u001b[0mself\u001b[0m\u001b[0;34m.\u001b[0m\u001b[0msched\u001b[0m \u001b[0;34m=\u001b[0m \u001b[0;32mNone\u001b[0m\u001b[0;34m\u001b[0m\u001b[0m\n\u001b[1;32m    286\u001b[0m         \u001b[0mlayer_opt\u001b[0m \u001b[0;34m=\u001b[0m \u001b[0mself\u001b[0m\u001b[0;34m.\u001b[0m\u001b[0mget_layer_opt\u001b[0m\u001b[0;34m(\u001b[0m\u001b[0mlrs\u001b[0m\u001b[0;34m,\u001b[0m \u001b[0mwds\u001b[0m\u001b[0;34m)\u001b[0m\u001b[0;34m\u001b[0m\u001b[0m\n\u001b[0;32m--> 287\u001b[0;31m         \u001b[0;32mreturn\u001b[0m \u001b[0mself\u001b[0m\u001b[0;34m.\u001b[0m\u001b[0mfit_gen\u001b[0m\u001b[0;34m(\u001b[0m\u001b[0mself\u001b[0m\u001b[0;34m.\u001b[0m\u001b[0mmodel\u001b[0m\u001b[0;34m,\u001b[0m \u001b[0mself\u001b[0m\u001b[0;34m.\u001b[0m\u001b[0mdata\u001b[0m\u001b[0;34m,\u001b[0m \u001b[0mlayer_opt\u001b[0m\u001b[0;34m,\u001b[0m \u001b[0mn_cycle\u001b[0m\u001b[0;34m,\u001b[0m \u001b[0;34m**\u001b[0m\u001b[0mkwargs\u001b[0m\u001b[0;34m)\u001b[0m\u001b[0;34m\u001b[0m\u001b[0m\n\u001b[0m\u001b[1;32m    288\u001b[0m \u001b[0;34m\u001b[0m\u001b[0m\n\u001b[1;32m    289\u001b[0m     \u001b[0;32mdef\u001b[0m \u001b[0mwarm_up\u001b[0m\u001b[0;34m(\u001b[0m\u001b[0mself\u001b[0m\u001b[0;34m,\u001b[0m \u001b[0mlr\u001b[0m\u001b[0;34m,\u001b[0m \u001b[0mwds\u001b[0m\u001b[0;34m=\u001b[0m\u001b[0;32mNone\u001b[0m\u001b[0;34m)\u001b[0m\u001b[0;34m:\u001b[0m\u001b[0;34m\u001b[0m\u001b[0m\n",
      "\u001b[0;32m~/Kaukasos/research/fastai/learner.py\u001b[0m in \u001b[0;36mfit_gen\u001b[0;34m(self, model, data, layer_opt, n_cycle, cycle_len, cycle_mult, cycle_save_name, best_save_name, use_clr, use_clr_beta, metrics, callbacks, use_wd_sched, norm_wds, wds_sched_mult, use_swa, swa_start, swa_eval_freq, **kwargs)\u001b[0m\n\u001b[1;32m    232\u001b[0m             \u001b[0mmetrics\u001b[0m\u001b[0;34m=\u001b[0m\u001b[0mmetrics\u001b[0m\u001b[0;34m,\u001b[0m \u001b[0mcallbacks\u001b[0m\u001b[0;34m=\u001b[0m\u001b[0mcallbacks\u001b[0m\u001b[0;34m,\u001b[0m \u001b[0mreg_fn\u001b[0m\u001b[0;34m=\u001b[0m\u001b[0mself\u001b[0m\u001b[0;34m.\u001b[0m\u001b[0mreg_fn\u001b[0m\u001b[0;34m,\u001b[0m \u001b[0mclip\u001b[0m\u001b[0;34m=\u001b[0m\u001b[0mself\u001b[0m\u001b[0;34m.\u001b[0m\u001b[0mclip\u001b[0m\u001b[0;34m,\u001b[0m \u001b[0mfp16\u001b[0m\u001b[0;34m=\u001b[0m\u001b[0mself\u001b[0m\u001b[0;34m.\u001b[0m\u001b[0mfp16\u001b[0m\u001b[0;34m,\u001b[0m\u001b[0;34m\u001b[0m\u001b[0m\n\u001b[1;32m    233\u001b[0m             \u001b[0mswa_model\u001b[0m\u001b[0;34m=\u001b[0m\u001b[0mself\u001b[0m\u001b[0;34m.\u001b[0m\u001b[0mswa_model\u001b[0m \u001b[0;32mif\u001b[0m \u001b[0muse_swa\u001b[0m \u001b[0;32melse\u001b[0m \u001b[0;32mNone\u001b[0m\u001b[0;34m,\u001b[0m \u001b[0mswa_start\u001b[0m\u001b[0;34m=\u001b[0m\u001b[0mswa_start\u001b[0m\u001b[0;34m,\u001b[0m\u001b[0;34m\u001b[0m\u001b[0m\n\u001b[0;32m--> 234\u001b[0;31m             swa_eval_freq=swa_eval_freq, **kwargs)\n\u001b[0m\u001b[1;32m    235\u001b[0m \u001b[0;34m\u001b[0m\u001b[0m\n\u001b[1;32m    236\u001b[0m     \u001b[0;32mdef\u001b[0m \u001b[0mget_layer_groups\u001b[0m\u001b[0;34m(\u001b[0m\u001b[0mself\u001b[0m\u001b[0;34m)\u001b[0m\u001b[0;34m:\u001b[0m \u001b[0;32mreturn\u001b[0m \u001b[0mself\u001b[0m\u001b[0;34m.\u001b[0m\u001b[0mmodels\u001b[0m\u001b[0;34m.\u001b[0m\u001b[0mget_layer_groups\u001b[0m\u001b[0;34m(\u001b[0m\u001b[0;34m)\u001b[0m\u001b[0;34m\u001b[0m\u001b[0m\n",
      "\u001b[0;32m~/Kaukasos/research/fastai/model.py\u001b[0m in \u001b[0;36mfit\u001b[0;34m(model, data, n_epochs, opt, crit, metrics, callbacks, stepper, swa_model, swa_start, swa_eval_freq, **kwargs)\u001b[0m\n\u001b[1;32m    159\u001b[0m             \u001b[0mvals\u001b[0m \u001b[0;34m=\u001b[0m \u001b[0mvalidate\u001b[0m\u001b[0;34m(\u001b[0m\u001b[0mmodel_stepper\u001b[0m\u001b[0;34m,\u001b[0m \u001b[0mcur_data\u001b[0m\u001b[0;34m.\u001b[0m\u001b[0mval_dl\u001b[0m\u001b[0;34m,\u001b[0m \u001b[0mmetrics\u001b[0m\u001b[0;34m)\u001b[0m\u001b[0;34m\u001b[0m\u001b[0m\n\u001b[1;32m    160\u001b[0m             \u001b[0mstop\u001b[0m\u001b[0;34m=\u001b[0m\u001b[0;32mFalse\u001b[0m\u001b[0;34m\u001b[0m\u001b[0m\n\u001b[0;32m--> 161\u001b[0;31m             \u001b[0;32mfor\u001b[0m \u001b[0mcb\u001b[0m \u001b[0;32min\u001b[0m \u001b[0mcallbacks\u001b[0m\u001b[0;34m:\u001b[0m \u001b[0mstop\u001b[0m \u001b[0;34m=\u001b[0m \u001b[0mstop\u001b[0m \u001b[0;32mor\u001b[0m \u001b[0mcb\u001b[0m\u001b[0;34m.\u001b[0m\u001b[0mon_epoch_end\u001b[0m\u001b[0;34m(\u001b[0m\u001b[0mvals\u001b[0m\u001b[0;34m)\u001b[0m\u001b[0;34m\u001b[0m\u001b[0m\n\u001b[0m\u001b[1;32m    162\u001b[0m             \u001b[0;32mif\u001b[0m \u001b[0mswa_model\u001b[0m \u001b[0;32mis\u001b[0m \u001b[0;32mnot\u001b[0m \u001b[0;32mNone\u001b[0m\u001b[0;34m:\u001b[0m\u001b[0;34m\u001b[0m\u001b[0m\n\u001b[1;32m    163\u001b[0m                 \u001b[0;32mif\u001b[0m \u001b[0;34m(\u001b[0m\u001b[0mepoch\u001b[0m \u001b[0;34m+\u001b[0m \u001b[0;36m1\u001b[0m\u001b[0;34m)\u001b[0m \u001b[0;34m>=\u001b[0m \u001b[0mswa_start\u001b[0m \u001b[0;32mand\u001b[0m \u001b[0;34m(\u001b[0m\u001b[0;34m(\u001b[0m\u001b[0mepoch\u001b[0m \u001b[0;34m+\u001b[0m \u001b[0;36m1\u001b[0m \u001b[0;34m-\u001b[0m \u001b[0mswa_start\u001b[0m\u001b[0;34m)\u001b[0m \u001b[0;34m%\u001b[0m \u001b[0mswa_eval_freq\u001b[0m \u001b[0;34m==\u001b[0m \u001b[0;36m0\u001b[0m \u001b[0;32mor\u001b[0m \u001b[0mepoch\u001b[0m \u001b[0;34m==\u001b[0m \u001b[0mtot_epochs\u001b[0m \u001b[0;34m-\u001b[0m \u001b[0;36m1\u001b[0m\u001b[0;34m)\u001b[0m\u001b[0;34m:\u001b[0m\u001b[0;34m\u001b[0m\u001b[0m\n",
      "\u001b[0;32m<ipython-input-288-6ed726a523ca>\u001b[0m in \u001b[0;36mon_epoch_end\u001b[0;34m(self, metrics)\u001b[0m\n\u001b[1;32m      8\u001b[0m     \u001b[0;32mdef\u001b[0m \u001b[0mon_epoch_end\u001b[0m\u001b[0;34m(\u001b[0m\u001b[0mself\u001b[0m\u001b[0;34m,\u001b[0m \u001b[0mmetrics\u001b[0m\u001b[0;34m)\u001b[0m\u001b[0;34m:\u001b[0m\u001b[0;34m\u001b[0m\u001b[0m\n\u001b[1;32m      9\u001b[0m         \u001b[0mpdb\u001b[0m\u001b[0;34m.\u001b[0m\u001b[0mset_trace\u001b[0m\u001b[0;34m(\u001b[0m\u001b[0;34m)\u001b[0m\u001b[0;34m\u001b[0m\u001b[0m\n\u001b[0;32m---> 10\u001b[0;31m         \u001b[0mself\u001b[0m\u001b[0;34m.\u001b[0m\u001b[0mval_losses\u001b[0m\u001b[0;34m.\u001b[0m\u001b[0mappend\u001b[0m\u001b[0;34m(\u001b[0m\u001b[0mmetrics\u001b[0m\u001b[0;34m[\u001b[0m\u001b[0;36m0\u001b[0m\u001b[0;34m]\u001b[0m\u001b[0;34m)\u001b[0m\u001b[0;34m\u001b[0m\u001b[0m\n\u001b[0m\u001b[1;32m     11\u001b[0m     \u001b[0;32mdef\u001b[0m \u001b[0mplot\u001b[0m\u001b[0;34m(\u001b[0m\u001b[0mself\u001b[0m\u001b[0;34m)\u001b[0m\u001b[0;34m:\u001b[0m\u001b[0;34m\u001b[0m\u001b[0m\n\u001b[1;32m     12\u001b[0m         \u001b[0mplt\u001b[0m\u001b[0;34m.\u001b[0m\u001b[0mplot\u001b[0m\u001b[0;34m(\u001b[0m\u001b[0mlist\u001b[0m\u001b[0;34m(\u001b[0m\u001b[0mrange\u001b[0m\u001b[0;34m(\u001b[0m\u001b[0mlen\u001b[0m\u001b[0;34m(\u001b[0m\u001b[0mself\u001b[0m\u001b[0;34m.\u001b[0m\u001b[0mval_losses\u001b[0m\u001b[0;34m)\u001b[0m\u001b[0;34m)\u001b[0m\u001b[0;34m)\u001b[0m\u001b[0;34m,\u001b[0m \u001b[0mself\u001b[0m\u001b[0;34m.\u001b[0m\u001b[0mval_losses\u001b[0m\u001b[0;34m)\u001b[0m\u001b[0;34m\u001b[0m\u001b[0m\n",
      "\u001b[0;32m<ipython-input-288-6ed726a523ca>\u001b[0m in \u001b[0;36mon_epoch_end\u001b[0;34m(self, metrics)\u001b[0m\n\u001b[1;32m      8\u001b[0m     \u001b[0;32mdef\u001b[0m \u001b[0mon_epoch_end\u001b[0m\u001b[0;34m(\u001b[0m\u001b[0mself\u001b[0m\u001b[0;34m,\u001b[0m \u001b[0mmetrics\u001b[0m\u001b[0;34m)\u001b[0m\u001b[0;34m:\u001b[0m\u001b[0;34m\u001b[0m\u001b[0m\n\u001b[1;32m      9\u001b[0m         \u001b[0mpdb\u001b[0m\u001b[0;34m.\u001b[0m\u001b[0mset_trace\u001b[0m\u001b[0;34m(\u001b[0m\u001b[0;34m)\u001b[0m\u001b[0;34m\u001b[0m\u001b[0m\n\u001b[0;32m---> 10\u001b[0;31m         \u001b[0mself\u001b[0m\u001b[0;34m.\u001b[0m\u001b[0mval_losses\u001b[0m\u001b[0;34m.\u001b[0m\u001b[0mappend\u001b[0m\u001b[0;34m(\u001b[0m\u001b[0mmetrics\u001b[0m\u001b[0;34m[\u001b[0m\u001b[0;36m0\u001b[0m\u001b[0;34m]\u001b[0m\u001b[0;34m)\u001b[0m\u001b[0;34m\u001b[0m\u001b[0m\n\u001b[0m\u001b[1;32m     11\u001b[0m     \u001b[0;32mdef\u001b[0m \u001b[0mplot\u001b[0m\u001b[0;34m(\u001b[0m\u001b[0mself\u001b[0m\u001b[0;34m)\u001b[0m\u001b[0;34m:\u001b[0m\u001b[0;34m\u001b[0m\u001b[0m\n\u001b[1;32m     12\u001b[0m         \u001b[0mplt\u001b[0m\u001b[0;34m.\u001b[0m\u001b[0mplot\u001b[0m\u001b[0;34m(\u001b[0m\u001b[0mlist\u001b[0m\u001b[0;34m(\u001b[0m\u001b[0mrange\u001b[0m\u001b[0;34m(\u001b[0m\u001b[0mlen\u001b[0m\u001b[0;34m(\u001b[0m\u001b[0mself\u001b[0m\u001b[0;34m.\u001b[0m\u001b[0mval_losses\u001b[0m\u001b[0;34m)\u001b[0m\u001b[0;34m)\u001b[0m\u001b[0;34m)\u001b[0m\u001b[0;34m,\u001b[0m \u001b[0mself\u001b[0m\u001b[0;34m.\u001b[0m\u001b[0mval_losses\u001b[0m\u001b[0;34m)\u001b[0m\u001b[0;34m\u001b[0m\u001b[0m\n",
      "\u001b[0;32m~/src/anaconda3/envs/fastai/lib/python3.6/bdb.py\u001b[0m in \u001b[0;36mtrace_dispatch\u001b[0;34m(self, frame, event, arg)\u001b[0m\n\u001b[1;32m     49\u001b[0m             \u001b[0;32mreturn\u001b[0m \u001b[0;31m# None\u001b[0m\u001b[0;34m\u001b[0m\u001b[0m\n\u001b[1;32m     50\u001b[0m         \u001b[0;32mif\u001b[0m \u001b[0mevent\u001b[0m \u001b[0;34m==\u001b[0m \u001b[0;34m'line'\u001b[0m\u001b[0;34m:\u001b[0m\u001b[0;34m\u001b[0m\u001b[0m\n\u001b[0;32m---> 51\u001b[0;31m             \u001b[0;32mreturn\u001b[0m \u001b[0mself\u001b[0m\u001b[0;34m.\u001b[0m\u001b[0mdispatch_line\u001b[0m\u001b[0;34m(\u001b[0m\u001b[0mframe\u001b[0m\u001b[0;34m)\u001b[0m\u001b[0;34m\u001b[0m\u001b[0m\n\u001b[0m\u001b[1;32m     52\u001b[0m         \u001b[0;32mif\u001b[0m \u001b[0mevent\u001b[0m \u001b[0;34m==\u001b[0m \u001b[0;34m'call'\u001b[0m\u001b[0;34m:\u001b[0m\u001b[0;34m\u001b[0m\u001b[0m\n\u001b[1;32m     53\u001b[0m             \u001b[0;32mreturn\u001b[0m \u001b[0mself\u001b[0m\u001b[0;34m.\u001b[0m\u001b[0mdispatch_call\u001b[0m\u001b[0;34m(\u001b[0m\u001b[0mframe\u001b[0m\u001b[0;34m,\u001b[0m \u001b[0marg\u001b[0m\u001b[0;34m)\u001b[0m\u001b[0;34m\u001b[0m\u001b[0m\n",
      "\u001b[0;32m~/src/anaconda3/envs/fastai/lib/python3.6/bdb.py\u001b[0m in \u001b[0;36mdispatch_line\u001b[0;34m(self, frame)\u001b[0m\n\u001b[1;32m     68\u001b[0m         \u001b[0;32mif\u001b[0m \u001b[0mself\u001b[0m\u001b[0;34m.\u001b[0m\u001b[0mstop_here\u001b[0m\u001b[0;34m(\u001b[0m\u001b[0mframe\u001b[0m\u001b[0;34m)\u001b[0m \u001b[0;32mor\u001b[0m \u001b[0mself\u001b[0m\u001b[0;34m.\u001b[0m\u001b[0mbreak_here\u001b[0m\u001b[0;34m(\u001b[0m\u001b[0mframe\u001b[0m\u001b[0;34m)\u001b[0m\u001b[0;34m:\u001b[0m\u001b[0;34m\u001b[0m\u001b[0m\n\u001b[1;32m     69\u001b[0m             \u001b[0mself\u001b[0m\u001b[0;34m.\u001b[0m\u001b[0muser_line\u001b[0m\u001b[0;34m(\u001b[0m\u001b[0mframe\u001b[0m\u001b[0;34m)\u001b[0m\u001b[0;34m\u001b[0m\u001b[0m\n\u001b[0;32m---> 70\u001b[0;31m             \u001b[0;32mif\u001b[0m \u001b[0mself\u001b[0m\u001b[0;34m.\u001b[0m\u001b[0mquitting\u001b[0m\u001b[0;34m:\u001b[0m \u001b[0;32mraise\u001b[0m \u001b[0mBdbQuit\u001b[0m\u001b[0;34m\u001b[0m\u001b[0m\n\u001b[0m\u001b[1;32m     71\u001b[0m         \u001b[0;32mreturn\u001b[0m \u001b[0mself\u001b[0m\u001b[0;34m.\u001b[0m\u001b[0mtrace_dispatch\u001b[0m\u001b[0;34m\u001b[0m\u001b[0m\n\u001b[1;32m     72\u001b[0m \u001b[0;34m\u001b[0m\u001b[0m\n",
      "\u001b[0;31mBdbQuit\u001b[0m: "
     ]
    }
   ],
   "source": [
    "%time custom_learner.fit(lrs, n_cycle=4, cycle_len=1, cycle_mult=1, callbacks=[save_val])"
   ]
  },
  {
   "cell_type": "code",
   "execution_count": 292,
   "metadata": {},
   "outputs": [
    {
     "data": {
      "text/plain": [
       "[<function fastai.metrics.accuracy(preds, targs)>]"
      ]
     },
     "execution_count": 292,
     "metadata": {},
     "output_type": "execute_result"
    }
   ],
   "source": [
    "custom_learner.metrics"
   ]
  },
  {
   "cell_type": "code",
   "execution_count": 260,
   "metadata": {},
   "outputs": [
    {
     "data": {
      "text/plain": [
       "[array([0.03371]), array([0.03247]), array([0.0286]), array([0.0288])]"
      ]
     },
     "execution_count": 260,
     "metadata": {},
     "output_type": "execute_result"
    }
   ],
   "source": [
    "save_val.val_losses"
   ]
  },
  {
   "cell_type": "code",
   "execution_count": null,
   "metadata": {},
   "outputs": [],
   "source": []
  },
  {
   "cell_type": "code",
   "execution_count": 207,
   "metadata": {
    "scrolled": false
   },
   "outputs": [
    {
     "data": {
      "text/plain": [
       "[0.04781805194086498, 0.03861683146821128]"
      ]
     },
     "execution_count": 207,
     "metadata": {},
     "output_type": "execute_result"
    }
   ],
   "source": [
    "custom_learner.sched.val_losses"
   ]
  },
  {
   "cell_type": "code",
   "execution_count": null,
   "metadata": {},
   "outputs": [],
   "source": [
    "custom_learner."
   ]
  },
  {
   "cell_type": "code",
   "execution_count": null,
   "metadata": {},
   "outputs": [],
   "source": [
    "%time custom_learner.fit(lrs, n_cycle=4, cycle_len=1, cycle_mult=1)"
   ]
  },
  {
   "cell_type": "code",
   "execution_count": null,
   "metadata": {},
   "outputs": [],
   "source": []
  },
  {
   "cell_type": "code",
   "execution_count": null,
   "metadata": {},
   "outputs": [],
   "source": []
  },
  {
   "cell_type": "markdown",
   "metadata": {},
   "source": [
    "## 6. Comparisons & Thoughts"
   ]
  },
  {
   "cell_type": "markdown",
   "metadata": {},
   "source": []
  }
 ],
 "metadata": {
  "kernelspec": {
   "display_name": "Python 3",
   "language": "python",
   "name": "python3"
  },
  "language_info": {
   "codemirror_mode": {
    "name": "ipython",
    "version": 3
   },
   "file_extension": ".py",
   "mimetype": "text/x-python",
   "name": "python",
   "nbconvert_exporter": "python",
   "pygments_lexer": "ipython3",
   "version": "3.6.5"
  }
 },
 "nbformat": 4,
 "nbformat_minor": 2
}
