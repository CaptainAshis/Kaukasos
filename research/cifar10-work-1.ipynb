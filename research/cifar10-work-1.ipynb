{
 "cells": [
  {
   "cell_type": "markdown",
   "metadata": {},
   "source": [
    "# CIFAR-10 Work 1\n",
    "\n",
    "2018/5/31\n",
    "\n",
    "Exploration of the cifar10 dataset for [Fast.ai/NRL CV research](http://forums.fast.ai/t/research-collaboration-opportunity-with-leslie-smith/16454/). No specific goals for this notebook; only to get comfortable with the data and establish workflows for the next round of experiments.\n",
    "\n",
    "W.Nixalo"
   ]
  },
  {
   "cell_type": "code",
   "execution_count": 1,
   "metadata": {},
   "outputs": [],
   "source": [
    "%matplotlib inline\n",
    "%reload_ext autoreload\n",
    "%autoreload 2\n",
    "\n",
    "from fastai.conv_learner import *"
   ]
  },
  {
   "cell_type": "code",
   "execution_count": 2,
   "metadata": {},
   "outputs": [],
   "source": [
    "PATH = Path('data/cifar10')"
   ]
  },
  {
   "cell_type": "code",
   "execution_count": 96,
   "metadata": {},
   "outputs": [],
   "source": [
    "def count_files(path, fullpath=Path(), count=0):\n",
    "    \"\"\"Counts all files in a directory recursively.\"\"\"\n",
    "    fullpath /= path\n",
    "    # check root exists\n",
    "    if not os.path.exists(fullpath):\n",
    "        print('Directory does not exist.')\n",
    "        return\n",
    "    dirs = os.listdir(fullpath)\n",
    "    for direc in dirs:\n",
    "        if (fullpath/direc).is_dir():\n",
    "            count += count_files(direc, fullpath)\n",
    "        else:\n",
    "            count += 1\n",
    "    return count\n",
    "            \n",
    "# MacOS creates a .DS_Store file when files are copied and/or unzipped.\n",
    "# This will cause problems if using `.from_paths` to load data.\n",
    "def remove_dstore(path, fullpath=Path()):\n",
    "    \"\"\"Removes all '.DS_Store' files in directory recursively.\"\"\"\n",
    "    fullpath /= path\n",
    "    PATH.is_dir\n",
    "    dirs = os.listdir(fullpath)\n",
    "    for direc in dirs:\n",
    "        if direc.lower() == '.ds_store':\n",
    "            os.remove(fullpath/direc)\n",
    "            continue\n",
    "        if (fullpath/direc).is_dir(): remove_dstore(direc, fullpath)\n",
    "\n",
    "def reset_data(path, trn_name='train', val_name='valid'):\n",
    "    \"\"\"Moves all validation data back to their respective training folders.\"\"\"\n",
    "    remove_dstore(path/trn_name)\n",
    "    remove_dstore(path/val_name)\n",
    "    \n",
    "    cats = os.listdir(path/val_name)\n",
    "    for cat in cats:\n",
    "        fnames = os.listdir(path/val_name/cat)\n",
    "        for fname in fnames:\n",
    "            os.rename(path/val_name/cat/fname, path/trn_name/cat/fname)\n",
    "        # will remove entire val folder\n",
    "        os.removedirs(path/val_name/cat)\n",
    "\n",
    "def create_valset(path, p=0.15, trn_name='train', val_name='valid'):\n",
    "    \"\"\"Creates a validation set by moving a percentage of the training data \n",
    "       from `trn_name` to `val_name`.\"\"\"\n",
    "    if not os.path.exists(path / val_name):\n",
    "        os.makedirs(path / val_name)\n",
    "    else:\n",
    "        reset_data(path, trn_name=trn_name, val_name=val_name)\n",
    "    \n",
    "    cats = os.listdir(path/trn_name)\n",
    "    for cat in cats:\n",
    "        os.makedirs(path/val_name/cat, exist_ok=True)\n",
    "        moves = os.listdir(path/trn_name/cat)\n",
    "        nmove = int(len(moves)*p)\n",
    "        moves = np.random.choice(moves, nmove, replace=False)\n",
    "        for move in moves:\n",
    "            os.rename(path/trn_name/cat/move, path/val_name/cat/move)"
   ]
  },
  {
   "cell_type": "markdown",
   "metadata": {},
   "source": [
    "Would actually be much easier to just build a csv of all the files next time."
   ]
  },
  {
   "cell_type": "code",
   "execution_count": 100,
   "metadata": {},
   "outputs": [
    {
     "data": {
      "text/plain": [
       "(42500, 7500)"
      ]
     },
     "execution_count": 100,
     "metadata": {},
     "output_type": "execute_result"
    }
   ],
   "source": [
    "create_valset(PATH)\n",
    "count_files(PATH/'train'), count_files(PATH/'valid')"
   ]
  },
  {
   "cell_type": "code",
   "execution_count": 101,
   "metadata": {},
   "outputs": [],
   "source": [
    "sz = 32\n",
    "bs = 64"
   ]
  },
  {
   "cell_type": "markdown",
   "metadata": {},
   "source": [
    "## Simple Learner"
   ]
  },
  {
   "cell_type": "markdown",
   "metadata": {},
   "source": [
    "So I think you use `test_with_labels` in `.from_paths` when the test data has implicit label structure (ie: it's separated into folders by class). This uses `dataset.folder_source`. Otherwise `dataest.read_dirs` is used, which I think looks at the top-level directory assuming no class structure, and'll throw an error because your class folders are being treated like data."
   ]
  },
  {
   "cell_type": "code",
   "execution_count": 103,
   "metadata": {},
   "outputs": [],
   "source": [
    "tfms = tfms_from_model(resnet18, sz)\n",
    "model_data = ImageClassifierData.from_paths(PATH, bs=bs, tfms=tfms,\n",
    "    trn_name='train', val_name='valid', test_name='test', num_workers=2, \n",
    "    test_with_labels=True)"
   ]
  },
  {
   "cell_type": "code",
   "execution_count": 104,
   "metadata": {},
   "outputs": [],
   "source": [
    "learner = ConvLearner.pretrained(resnet18, model_data)"
   ]
  },
  {
   "cell_type": "code",
   "execution_count": 105,
   "metadata": {},
   "outputs": [
    {
     "data": {
      "application/vnd.jupyter.widget-view+json": {
       "model_id": "192f8a6edbf343b7a62b38f9fd7a64d2",
       "version_major": 2,
       "version_minor": 0
      },
      "text/plain": [
       "HBox(children=(IntProgress(value=0, description='Epoch', max=1), HTML(value='')))"
      ]
     },
     "metadata": {},
     "output_type": "display_data"
    },
    {
     "name": "stdout",
     "output_type": "stream",
     "text": [
      " 84%|████████▎ | 556/665 [03:55<00:46,  2.36it/s, loss=6.36]"
     ]
    },
    {
     "data": {
      "image/png": "[encoded data removed]",
      "text/plain": [
       "<Figure size 432x288 with 1 Axes>"
      ]
     },
     "metadata": {},
     "output_type": "display_data"
    }
   ],
   "source": [
    "learner.lr_find()\n",
    "learner.sched.plot()"
   ]
  },
  {
   "cell_type": "code",
   "execution_count": null,
   "metadata": {},
   "outputs": [],
   "source": []
  },
  {
   "cell_type": "code",
   "execution_count": null,
   "metadata": {},
   "outputs": [],
   "source": []
  },
  {
   "cell_type": "code",
   "execution_count": null,
   "metadata": {},
   "outputs": [],
   "source": []
  },
  {
   "cell_type": "code",
   "execution_count": null,
   "metadata": {},
   "outputs": [],
   "source": []
  },
  {
   "cell_type": "code",
   "execution_count": null,
   "metadata": {},
   "outputs": [],
   "source": []
  },
  {
   "cell_type": "code",
   "execution_count": null,
   "metadata": {},
   "outputs": [],
   "source": []
  }
 ],
 "metadata": {
  "kernelspec": {
   "display_name": "Python 3 (FastAI)",
   "language": "python",
   "name": "fastai"
  },
  "language_info": {
   "codemirror_mode": {
    "name": "ipython",
    "version": 3
   },
   "file_extension": ".py",
   "mimetype": "text/x-python",
   "name": "python",
   "nbconvert_exporter": "python",
   "pygments_lexer": "ipython3",
   "version": "3.6.5"
  }
 },
 "nbformat": 4,
 "nbformat_minor": 2
}
