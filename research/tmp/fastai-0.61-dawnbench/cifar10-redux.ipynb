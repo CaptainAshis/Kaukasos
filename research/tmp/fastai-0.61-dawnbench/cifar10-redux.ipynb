{
 "cells": [
  {
   "cell_type": "code",
   "execution_count": 1,
   "metadata": {},
   "outputs": [],
   "source": [
    "%matplotlib inline\n",
    "%reload_ext autoreload\n",
    "%autoreload 2"
   ]
  },
  {
   "cell_type": "code",
   "execution_count": 3,
   "metadata": {},
   "outputs": [],
   "source": [
    "from fastai.conv_learner import *\n",
    "# fastai/imagenet-fast/cifar10/models/ repo\n",
    "from imagenet_fast_cifar_models.wideresnet import wrn_22\n",
    "from torchvision import transforms, datasets\n",
    "\n",
    "torch.backends.cudnn.benchmark = True\n",
    "PATH = Path(\"data/cifar10\")"
   ]
  },
  {
   "cell_type": "code",
   "execution_count": 4,
   "metadata": {},
   "outputs": [],
   "source": [
    "classes = ('plane', 'car', 'bird', 'cat', 'deer', 'dog', 'frog', 'horse', 'ship', 'truck')\n",
    "stats = (np.array([ 0.4914 ,  0.48216,  0.44653]), np.array([ 0.24703,  0.24349,  0.26159]))"
   ]
  },
  {
   "cell_type": "code",
   "execution_count": 14,
   "metadata": {},
   "outputs": [],
   "source": [
    "# PATH = Path(\"data/cifar10_tmp\")\n",
    "PATH = Path(\"data/cifar10\")"
   ]
  },
  {
   "cell_type": "code",
   "execution_count": 15,
   "metadata": {},
   "outputs": [],
   "source": [
    "def get_loaders(bs, num_workers):\n",
    "    traindir = str(PATH/'train')\n",
    "    valdir   = str(PATH/'test')\n",
    "    tfms     = [transforms.ToTensor(),\n",
    "#                 transforms.Normalize(*stats)]\n",
    "                transforms.Normalize((0.4914, 0.4822, 0.4465), (0.2023, 0.1994, 0.2010))]\n",
    "    aug_tfms = transforms.Compose([\n",
    "            transforms.RandomCrop(32, padding=4),\n",
    "            transforms.RandomHorizontalFlip(),\n",
    "        ] + tfms)\n",
    "    \n",
    "    train_dataset = datasets.ImageFolder(traindir, aug_tfms)\n",
    "    val_dataset   = datasets.ImageFolder(valdir, transforms.Compose(tfms))\n",
    "    aug_dataset   = datasets.ImageFolder(valdir, aug_tfms)\n",
    "    \n",
    "    train_loader = torch.utils.data.DataLoader(\n",
    "        train_dataset, batch_size=bs, shuffle=True, num_workers=num_workers, pin_memory=False)\n",
    "    val_loader   = torch.utils.data.DataLoader(\n",
    "        val_dataset, batch_size=bs, shuffle=False, num_workers=num_workers, pin_memory=False)\n",
    "    aug_loader   = torch.utils.data.DataLoader(\n",
    "        aug_dataset, batch_size=bs, shuffle=False, num_workers=num_workers, pin_memory=False)\n",
    "    \n",
    "    return train_loader, val_loader, aug_loader"
   ]
  },
  {
   "cell_type": "code",
   "execution_count": 16,
   "metadata": {},
   "outputs": [],
   "source": [
    "def get_data(bs, num_workers):\n",
    "    trn_dl, val_dl, aug_dl = get_loaders(bs, num_workers)\n",
    "    data = ModelData(PATH, trn_dl, val_dl)\n",
    "    data.aug_dl = aug_dl\n",
    "    data.sz = 32\n",
    "    return data\n",
    "\n",
    "def get_learner(arch, bs):\n",
    "    learn = ConvLearner.from_model_data(arch.cuda(), get_data(bs, num_cpus()))\n",
    "    learn.crit = nn.CrossEntropyLoss()\n",
    "    learn.metrics = [accuracy]\n",
    "    return learn\n",
    "\n",
    "def get_TTA_accuracy(learn):\n",
    "    preds, targs = learn.TTA()\n",
    "    # combining the predictions across augmented and non augmented inputs\n",
    "    preds = 0.6 * preds[0] + 0.4 * preds[1:].sum(0)\n",
    "    return accuracy_np(preds, targs)"
   ]
  },
  {
   "cell_type": "code",
   "execution_count": 17,
   "metadata": {},
   "outputs": [
    {
     "data": {
      "application/vnd.jupyter.widget-view+json": {
       "model_id": "05d9d76d461a423f8beb95c4866a57a2",
       "version_major": 2,
       "version_minor": 0
      },
      "text/plain": [
       "HBox(children=(IntProgress(value=0, description='Epoch', max=1), HTML(value='')))"
      ]
     },
     "metadata": {},
     "output_type": "display_data"
    },
    {
     "name": "stdout",
     "output_type": "stream",
     "text": [
      "100%|█████████▉| 3111/3125 [03:44<00:01, 13.86it/s, loss=8.2] "
     ]
    },
    {
     "data": {
      "image/png": "[encoded data removed]",
      "text/plain": [
       "<Figure size 432x288 with 1 Axes>"
      ]
     },
     "metadata": {},
     "output_type": "display_data"
    }
   ],
   "source": [
    "learner = get_learner(wrn_22(), 16)\n",
    "learner.lr_find(wds=1e-4)\n",
    "learner.sched.plot(n_skip_end=1)"
   ]
  },
  {
   "cell_type": "code",
   "execution_count": 19,
   "metadata": {},
   "outputs": [
    {
     "data": {
      "application/vnd.jupyter.widget-view+json": {
       "model_id": "bd0a8a5d785f454ba8648a85f5dc5247",
       "version_major": 2,
       "version_minor": 0
      },
      "text/plain": [
       "HBox(children=(IntProgress(value=0, description='Epoch', max=1), HTML(value='')))"
      ]
     },
     "metadata": {},
     "output_type": "display_data"
    },
    {
     "name": "stdout",
     "output_type": "stream",
     "text": [
      "epoch      trn_loss   val_loss   accuracy                 \n",
      "    0      2.23063    24041.498281 0.1       \n"
     ]
    },
    {
     "data": {
      "image/png": "[encoded data removed]",
      "text/plain": [
       "<Figure size 432x288 with 1 Axes>"
      ]
     },
     "metadata": {},
     "output_type": "display_data"
    }
   ],
   "source": [
    "learner = get_learner(wrn_22(), 512)\n",
    "learner.lr_find(wds=1e-4)\n",
    "learner.sched.plot(n_skip_end=1)"
   ]
  },
  {
   "cell_type": "code",
   "execution_count": 20,
   "metadata": {},
   "outputs": [
    {
     "data": {
      "text/plain": [
       "'0.3.1.post2'"
      ]
     },
     "execution_count": 20,
     "metadata": {},
     "output_type": "execute_result"
    }
   ],
   "source": [
    "torch.__version__"
   ]
  },
  {
   "cell_type": "code",
   "execution_count": 22,
   "metadata": {},
   "outputs": [
    {
     "data": {
      "application/vnd.jupyter.widget-view+json": {
       "model_id": "0896841268f845c184d47956359126fc",
       "version_major": 2,
       "version_minor": 0
      },
      "text/plain": [
       "HBox(children=(IntProgress(value=0, description='Epoch', max=30), HTML(value='')))"
      ]
     },
     "metadata": {},
     "output_type": "display_data"
    },
    {
     "name": "stdout",
     "output_type": "stream",
     "text": [
      "epoch      trn_loss   val_loss   accuracy                 \n",
      "    0      1.610085   1.626076   0.4395    \n",
      "    1      1.223421   1.317524   0.5633                   \n",
      "    2      0.940387   2.038279   0.4745                    \n",
      "    3      0.762601   1.217451   0.6398                    \n",
      "    4      0.654419   0.961155   0.7008                    \n",
      "    5      0.565586   0.639681   0.7832                    \n",
      "    6      0.50137    0.599894   0.7996                    \n",
      "    7      0.460526   0.626692   0.7843                    \n",
      "    8      0.425721   0.603371   0.7926                    \n",
      "    9      0.393813   0.893688   0.749                     \n",
      "    10     0.374892   0.699583   0.7713                    \n",
      "    11     0.353577   0.630499   0.8066                    \n",
      "    12     0.345882   0.576161   0.805                     \n",
      "    13     0.327537   0.719755   0.781                     \n",
      "    14     0.313273   0.639451   0.7996                    \n",
      "    15     0.292252   0.559769   0.832                     \n",
      "    16     0.282883   0.431539   0.856                     \n",
      "    17     0.259445   0.644423   0.808                     \n",
      "    18     0.243024   0.464651   0.8583                    \n",
      "    19     0.232724   0.540036   0.8494                    \n",
      "    20     0.217015   0.504534   0.8511                    \n",
      "    21     0.207343   0.545313   0.8373                    \n",
      "    22     0.18528    0.357806   0.8941                    \n",
      "    23     0.163668   0.405116   0.8805                    \n",
      "    24     0.140306   0.378086   0.8852                    \n",
      "    25     0.112736   0.281033   0.9133                    \n",
      "    26     0.074481   0.253059   0.9282                     \n",
      "    27     0.045172   0.249973   0.9306                     \n",
      "    28     0.027193   0.233644   0.9336                     \n",
      "    29     0.019215   0.235123   0.9351                     \n",
      "CPU times: user 1h 5min 31s, sys: 13min 45s, total: 1h 19min 16s\n",
      "Wall time: 1h 19min 41s\n"
     ]
    },
    {
     "data": {
      "text/plain": [
       "[array([0.23512]), 0.9350999992370606]"
      ]
     },
     "execution_count": 22,
     "metadata": {},
     "output_type": "execute_result"
    }
   ],
   "source": [
    "%time learner.fit(1.5, 1, wds=1e-4, cycle_len=30, use_clr_beta=(15, 10, 0.95, 0.85));"
   ]
  },
  {
   "cell_type": "code",
   "execution_count": 24,
   "metadata": {},
   "outputs": [
    {
     "name": "stdout",
     "output_type": "stream",
     "text": [
      "                                             \r"
     ]
    },
    {
     "data": {
      "text/plain": [
       "0.9423"
      ]
     },
     "execution_count": 24,
     "metadata": {},
     "output_type": "execute_result"
    }
   ],
   "source": [
    "get_TTA_accuracy(learner)"
   ]
  },
  {
   "cell_type": "code",
   "execution_count": null,
   "metadata": {},
   "outputs": [],
   "source": []
  }
 ],
 "metadata": {
  "kernelspec": {
   "display_name": "Python 3 (FastAI)",
   "language": "python",
   "name": "fastai"
  },
  "language_info": {
   "codemirror_mode": {
    "name": "ipython",
    "version": 3
   },
   "file_extension": ".py",
   "mimetype": "text/x-python",
   "name": "python",
   "nbconvert_exporter": "python",
   "pygments_lexer": "ipython3",
   "version": "3.6.5"
  }
 },
 "nbformat": 4,
 "nbformat_minor": 2
}
